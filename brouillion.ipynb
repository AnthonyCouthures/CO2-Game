{
 "cells": [
  {
   "cell_type": "markdown",
   "metadata": {},
   "source": []
  },
  {
   "cell_type": "code",
   "execution_count": 1,
   "metadata": {},
   "outputs": [
    {
     "ename": "ImportError",
     "evalue": "attempted relative import with no known parent package",
     "output_type": "error",
     "traceback": [
      "\u001b[1;31m---------------------------------------------------------------------------\u001b[0m",
      "\u001b[1;31mImportError\u001b[0m                               Traceback (most recent call last)",
      "\u001b[1;32mc:\\Users\\Anthony Couthures\\OneDrive - Universite de Lorraine\\CO2\\Simulation\\Python\\notebooks\\brouillion.ipynb Cellule 2\u001b[0m in \u001b[0;36m<cell line: 7>\u001b[1;34m()\u001b[0m\n\u001b[0;32m      <a href='vscode-notebook-cell:/c%3A/Users/Anthony%20Couthures/OneDrive%20-%20Universite%20de%20Lorraine/CO2/Simulation/Python/notebooks/brouillion.ipynb#Y145sZmlsZQ%3D%3D?line=4'>5</a>\u001b[0m \u001b[39mimport\u001b[39;00m \u001b[39mmatplotlib\u001b[39;00m \u001b[39mas\u001b[39;00m \u001b[39mmpl\u001b[39;00m\n\u001b[0;32m      <a href='vscode-notebook-cell:/c%3A/Users/Anthony%20Couthures/OneDrive%20-%20Universite%20de%20Lorraine/CO2/Simulation/Python/notebooks/brouillion.ipynb#Y145sZmlsZQ%3D%3D?line=5'>6</a>\u001b[0m \u001b[39mimport\u001b[39;00m \u001b[39mseaborn\u001b[39;00m \u001b[39mas\u001b[39;00m \u001b[39msns\u001b[39;00m\n\u001b[1;32m----> <a href='vscode-notebook-cell:/c%3A/Users/Anthony%20Couthures/OneDrive%20-%20Universite%20de%20Lorraine/CO2/Simulation/Python/notebooks/brouillion.ipynb#Y145sZmlsZQ%3D%3D?line=6'>7</a>\u001b[0m \u001b[39mfrom\u001b[39;00m \u001b[39m.\u001b[39;00m\u001b[39m.\u001b[39;00m\u001b[39mparameters\u001b[39;00m \u001b[39mimport\u001b[39;00m \u001b[39m*\u001b[39m\n\u001b[0;32m      <a href='vscode-notebook-cell:/c%3A/Users/Anthony%20Couthures/OneDrive%20-%20Universite%20de%20Lorraine/CO2/Simulation/Python/notebooks/brouillion.ipynb#Y145sZmlsZQ%3D%3D?line=8'>9</a>\u001b[0m \u001b[39mfrom\u001b[39;00m \u001b[39m.\u001b[39;00m\u001b[39m.\u001b[39;00m\u001b[39mmodels\u001b[39;00m\u001b[39m.\u001b[39;00m\u001b[39mgame_theory_model\u001b[39;00m\u001b[39m.\u001b[39;00m\u001b[39mbenefit_function\u001b[39;00m \u001b[39mimport\u001b[39;00m \u001b[39m*\u001b[39m\n\u001b[0;32m     <a href='vscode-notebook-cell:/c%3A/Users/Anthony%20Couthures/OneDrive%20-%20Universite%20de%20Lorraine/CO2/Simulation/Python/notebooks/brouillion.ipynb#Y145sZmlsZQ%3D%3D?line=9'>10</a>\u001b[0m \u001b[39mfrom\u001b[39;00m \u001b[39m.\u001b[39;00m\u001b[39m.\u001b[39;00m\u001b[39mmodels\u001b[39;00m\u001b[39m.\u001b[39;00m\u001b[39mgame_theory_model\u001b[39;00m\u001b[39m.\u001b[39;00m\u001b[39mdamage_function\u001b[39;00m \u001b[39mimport\u001b[39;00m \u001b[39m*\u001b[39m\n",
      "\u001b[1;31mImportError\u001b[0m: attempted relative import with no known parent package"
     ]
    }
   ],
   "source": [
    "import numpy as np \n",
    "import matplotlib.pyplot as plt\n",
    "from scipy.optimize import *\n",
    "from copy import copy, deepcopy\n",
    "import matplotlib as mpl\n",
    "import seaborn as sns\n",
    "from parameters import *\n",
    "\n",
    "from models.game_theory_model.benefit_function import *\n",
    "from models.game_theory_model.damage_function import *\n",
    "\n",
    "from models.game import *\n",
    "from plot_function import *\n",
    "\n",
    "sns.set_style('ticks',  {\"axes.grid\" : \"True\", \"grid.color\": \".4\", \"grid.linestyle\": \":\"})\n",
    "sns.set_context('paper')\n",
    "\n",
    "# sns.set_style('darkgrid',  {\"axes.grid\" : \"True\", \"grid.color\": \".6\", \"grid.linestyle\": \":\"})\n",
    "# sns.set_context(\"talk\")\n",
    "# plt.rcParams.update({\n",
    "#     # \"text.usetex\": True,\n",
    "#     \"font.family\": \"sans-serif\",\n",
    "#     \"font.sans-serif\": [\"Helvetica\"],\n",
    "#     \"figure.titlesize\": 16})\n",
    "plt.rcParams.update({'mathtext.default':  'regular' })\n",
    "plt.rcParams['xtick.direction'] = 'out'\n",
    "# sns.axes_style( { 'xtick.color': 'black',\n",
    "#  'ytick.color': 'black',\n",
    "#  'xtick.bottom': True,\n",
    "#  'xtick.top': True,\n",
    "#  'ytick.left': True,\n",
    "#  'ytick.right': True})\n",
    "# # mpl.rc('text', usetex=True)\n",
    "# mpl.rc('ytick'  , labelsize=15)\n",
    "# mpl.rc('xtick'  , labelsize=13)\n",
    "\n",
    "# mpl.rc('legend' , fontsize= 18)\n",
    "# mpl.rc('axes'   , labelsize=15,  titlesize=16) \n",
    "# plt.rcParams['font.size'] = '16'\n",
    "# puissance de la fonction damage \n",
    "\n",
    "alpha =1\n",
    "\n",
    "# Coefficients de la fonction dammage (pour un polynome de degré 2)\n",
    "\n",
    "damage_coef = np.array([0,0,100])\n",
    "\n",
    "# Création des joueurs \n",
    "\n",
    "list_players = create_players(list_benefit_functions=BENEFITS_CONVEX, damage_function=damage_polynome(damage_coef))\n",
    "# Création du jeux, les parametres du jeux comme les emission exo, la durée du jeux les trucs geophysiques, ... sont dans le fichier parameters.py\n",
    "\n",
    "game = Game(list_players)\n",
    "\n",
    "# Plot du jeux -> le fonction plot est dans plot_function.py\n",
    "\n",
    "# plot_nash= plot de la best response dynamic , plot_SO = plot les actions social optimales ,  plot_bau = plot les actions sans fonction damage\n",
    "\n",
    "plot_Game(game, plot_nash=True, plot_SO=True,  plot_bau = True ,figsize=(9,6), name='quadratic_convex')"
   ]
  },
  {
   "cell_type": "code",
   "execution_count": null,
   "metadata": {},
   "outputs": [],
   "source": [
    "game.scm_game.carbon_model.name"
   ]
  },
  {
   "cell_type": "code",
   "execution_count": null,
   "metadata": {},
   "outputs": [],
   "source": [
    "x = Carbon_JOOS()"
   ]
  },
  {
   "cell_type": "code",
   "execution_count": null,
   "metadata": {},
   "outputs": [],
   "source": [
    "x.initial_state"
   ]
  },
  {
   "cell_type": "code",
   "execution_count": null,
   "metadata": {},
   "outputs": [],
   "source": [
    "import numpy as np\n",
    "\n",
    "ACTION_SETS = np.array([[0.0, 11.47],        # China  \n",
    "                        [0.0, 5.01],         # USA\n",
    "                        [0.0, 3.14],         # EU\n",
    "                        [0.0, 2.71],         # India\n",
    "                        [0.0, 1.76],         # Russia\n",
    "                        [0.0, 7.51]])        # other Asia  "
   ]
  },
  {
   "cell_type": "code",
   "execution_count": null,
   "metadata": {},
   "outputs": [],
   "source": [
    "np.sum(ACTION_SETS)"
   ]
  },
  {
   "cell_type": "code",
   "execution_count": null,
   "metadata": {},
   "outputs": [],
   "source": [
    "import numpy as np\n",
    "\n",
    "def bmatrix(a):\n",
    "    \"\"\"Returns a LaTeX bmatrix\n",
    "\n",
    "    :a: numpy array\n",
    "    :returns: LaTeX bmatrix as a string\n",
    "    \"\"\"\n",
    "    if len(a.shape) > 2:\n",
    "        raise ValueError('bmatrix can at most display two dimensions')\n",
    "    lines = str(a).replace('[', '').replace(']', '').splitlines()\n",
    "    rv = [r':math:`\\begin{bmatrix}']\n",
    "    rv += ['  ' + ' & '.join(l.split()) + r'\\\\' for l in lines]\n",
    "    rv +=  [r'\\end{bmatrix}`']\n",
    "    return ' '.join(rv)"
   ]
  },
  {
   "cell_type": "code",
   "execution_count": null,
   "metadata": {},
   "outputs": [],
   "source": [
    "A = np.array([1.01, 0.0068,1])\n",
    "print(bmatrix(A.T) + '\\n')"
   ]
  },
  {
   "cell_type": "code",
   "execution_count": null,
   "metadata": {},
   "outputs": [],
   "source": [
    "Ac : np.ndarray = np.array([[1, 0,      0,      0],\n",
    "                                [0, 0.9975, 0,      0],\n",
    "                                [0, 0,      0.9730, 0]])\n",
    "\n",
    "dc : np.ndarray = np.array([0.2173,  0.2240, 0.2824, 0.2763]) * co2_to_C\n"
   ]
  },
  {
   "cell_type": "code",
   "execution_count": null,
   "metadata": {},
   "outputs": [],
   "source": [
    "def exact_discretization(A, B, time) :\n",
    "    lA,cA = np.shape(A)\n",
    "    lB,cB = np.shape(B)\n",
    "    M = np.vstack((np.hstack((A,B)), np.zeros(cA + cB)))\n",
    "    MM = expm(M * time)\n",
    "    Ad = MM[:lA,:cA]\n",
    "    Bd = MM[:lB, cA:]\n",
    "    return Ad, np.squeeze(Bd)"
   ]
  },
  {
   "cell_type": "code",
   "execution_count": null,
   "metadata": {},
   "outputs": [],
   "source": [
    "A = np.expand_dims(A,0)\n",
    "A.T.shape"
   ]
  },
  {
   "cell_type": "code",
   "execution_count": null,
   "metadata": {},
   "outputs": [],
   "source": [
    "import numpy as np \n",
    "T = 37\n",
    "\n",
    "FORCING_NONCO2_0 = 0.5                              # 2020 forcings of non-CO2 GHG (Wm-2)\n",
    "FORCING_NONCO2_100 = 1.0                            # 2100 forcings of non-CO2 GHG (Wm-2)        \n",
    "\n",
    "F_EX  = np.ones(T*10) * FORCING_NONCO2_0               # Exogeneous forcing for other greenhouse gases\n",
    "for t in range(1,T*10):  \n",
    "    F_EX [t] = FORCING_NONCO2_0 + min((FORCING_NONCO2_100 - FORCING_NONCO2_0), (FORCING_NONCO2_100 - FORCING_NONCO2_0)/T * t)"
   ]
  },
  {
   "cell_type": "code",
   "execution_count": null,
   "metadata": {},
   "outputs": [],
   "source": [
    "import matplotlib.pyplot as plt\n",
    "\n",
    "plt.plot(F_EX)"
   ]
  },
  {
   "cell_type": "code",
   "execution_count": null,
   "metadata": {},
   "outputs": [],
   "source": [
    "import numpy as np \n",
    "import matplotlib.pyplot as plt\n",
    "from scipy.optimize import *\n",
    "from copy import copy, deepcopy\n",
    "import matplotlib as mpl\n",
    "import seaborn as sns\n",
    "\n",
    "from models.geophysic_models.carbon_cycle_models import *\n",
    "from models.geophysic_models.temperature_dynamic_model import *\n",
    "from models.geophysic import *\n",
    "from models.game_theory.benefit_function import *\n",
    "from models.game_theory.damage_function import *\n",
    "\n",
    "from models.game import *\n",
    "from plot_function import *\n",
    "\n",
    "\n",
    "carbon_model = Carbon_JOOS()\n",
    "temperature_model = Temp_Discret_Geoffroy()\n",
    "smc = geophysics(carbon_model, temperature_model)\n"
   ]
  },
  {
   "cell_type": "markdown",
   "metadata": {},
   "source": []
  },
  {
   "cell_type": "code",
   "execution_count": null,
   "metadata": {},
   "outputs": [],
   "source": [
    "import pandas as pd\n"
   ]
  },
  {
   "cell_type": "code",
   "execution_count": null,
   "metadata": {},
   "outputs": [],
   "source": [
    "data = pd.read_csv(\"data/annual-co-emissions-by-region.csv\")"
   ]
  },
  {
   "cell_type": "code",
   "execution_count": null,
   "metadata": {},
   "outputs": [],
   "source": [
    "data"
   ]
  },
  {
   "cell_type": "code",
   "execution_count": null,
   "metadata": {},
   "outputs": [],
   "source": [
    "data_world = data.loc[data[\"Entity\"] == 'China']\n",
    "data_world = data_world.loc[data_world[\"Year\"]>=1950]\n",
    "data_world = data_world[\"Annual CO2 emissions (zero filled)\"]"
   ]
  },
  {
   "cell_type": "code",
   "execution_count": null,
   "metadata": {},
   "outputs": [],
   "source": [
    "data_world"
   ]
  },
  {
   "cell_type": "code",
   "execution_count": null,
   "metadata": {},
   "outputs": [],
   "source": []
  },
  {
   "cell_type": "code",
   "execution_count": null,
   "metadata": {},
   "outputs": [],
   "source": [
    "data_world"
   ]
  },
  {
   "cell_type": "code",
   "execution_count": null,
   "metadata": {},
   "outputs": [],
   "source": [
    "data_world = data.loc[data[\"Entity\"] == 'China']\n",
    "data_world = data_world.loc[data_world[\"Year\"]>=1950]\n",
    "data_world = data_world[\"Annual CO2 emissions (zero filled)\"]\n",
    "world_co2 = data_world.to_numpy() * 1E-9\n",
    "world_co2 = world_co2[:-1]"
   ]
  },
  {
   "cell_type": "code",
   "execution_count": null,
   "metadata": {},
   "outputs": [],
   "source": [
    "world_co2 = world_co2[:-1]"
   ]
  },
  {
   "cell_type": "code",
   "execution_count": null,
   "metadata": {},
   "outputs": [],
   "source": [
    "world_co2"
   ]
  },
  {
   "cell_type": "code",
   "execution_count": null,
   "metadata": {},
   "outputs": [],
   "source": [
    "import pandas as pd\n",
    "\n",
    "data = pd.read_csv(\"data/annual-co-emissions-by-region.csv\")\n",
    "\n",
    "import matplotlib.pyplot as plt\n",
    "import numpy as np\n",
    "\n",
    "COUNTRY = 'Japan'\n",
    "INITIAL_YEAR = 1890\n",
    "SHIFT = 1970\n",
    "\n",
    "\n",
    "X = np.arange(2020 - INITIAL_YEAR) + INITIAL_YEAR\n",
    "step_before_shift = SHIFT - INITIAL_YEAR\n",
    "step_after_shift = 2020 - SHIFT\n",
    "\n",
    "data_world = data.loc[data[\"Entity\"] == COUNTRY]\n",
    "data_world = data_world.loc[data_world[\"Year\"]>=INITIAL_YEAR]\n",
    "data_world = data_world[\"Annual CO2 emissions (zero filled)\"]\n",
    "world_co2 = data_world.to_numpy() * 1E-9\n",
    "world_co2 = world_co2[:-1]\n",
    "\n",
    "# plt.plot(X, world_co2)\n",
    "coef, b = np.polyfit(np.arange(len(world_co2[-step_after_shift:])), world_co2[-step_after_shift:],1)\n",
    "# plt.plot(X[-step_after_shift:], np.arange(len(world_co2[-step_after_shift:]))*coef+b)\n",
    "# plt.show()\n",
    "\n",
    "# plt.plot(X[:-1], np.diff(world_co2))\n",
    "# coef_diff, b_diff = np.polyfit(np.arange(len(np.diff(world_co2))), np.diff(world_co2),1)\n",
    "# plt.plot(X[:-1], np.arange(len(np.diff(world_co2)))*coef_diff + b_diff)\n",
    "\n",
    "# plt.show()\n",
    "\n",
    "alpha = 1 + np.diff(world_co2)/world_co2[:-1]\n",
    "mean_alpha = np.mean(alpha[:step_before_shift])\n",
    "median_alpha = np.median(alpha[:step_before_shift])\n",
    "# plt.plot(X[:-1], alpha)\n",
    "\n",
    "# plt.show()\n",
    "\n",
    "plt.figure(figsize=(6,4), dpi = 100)\n",
    "approx = [world_co2[0]]\n",
    "approx_prox_mean = [world_co2[0]]\n",
    "approx_prox_median = [world_co2[0]]\n",
    "for k in range(len(world_co2)-1):\n",
    "    approx.append(approx[-1] * alpha[k])\n",
    "    approx_prox_mean.append(approx_prox_mean[-1] * mean_alpha)\n",
    "    approx_prox_median.append(approx_prox_median[-1] * median_alpha)\n",
    "plt.plot(X, world_co2)\n",
    "# plt.plot(X, np.arange(len(world_co2))*coef+b)\n",
    "plt.plot(X[-(step_after_shift+5):], np.arange(len(world_co2[-(step_after_shift+5):]))*coef+b)\n",
    "\n",
    "# plt.plot( approx)\n",
    "# plt.plot(X[:step_before_shift+5], approx_prox_mean[:step_before_shift+5], label=r'\"exponential approx mean\"')\n",
    "plt.plot(X[:step_before_shift+5], approx_prox_median[:step_before_shift+5], label=r'\"exponential approx median\"')\n",
    "plt.xlabel('Years')\n",
    "plt.ylabel('CO2 Emsission in GtCO2 per year')\n",
    "plt.title('CO2 Emission of {} from {} to 2020\\n assuming a shift in {}'.format(COUNTRY, INITIAL_YEAR, SHIFT))\n",
    "# plt.yscale('log')\n",
    "plt.legend()\n",
    "plt.savefig('plots/CO2_{}_{}_2020_shift_{}.pdf'.format(COUNTRY, INITIAL_YEAR, SHIFT), format='pdf')\n",
    "plt.show()\n"
   ]
  },
  {
   "cell_type": "code",
   "execution_count": null,
   "metadata": {},
   "outputs": [],
   "source": [
    "mean_alpha"
   ]
  },
  {
   "cell_type": "code",
   "execution_count": null,
   "metadata": {},
   "outputs": [],
   "source": [
    "coef_diff"
   ]
  },
  {
   "attachments": {},
   "cell_type": "markdown",
   "metadata": {},
   "source": [
    "On veux chercher le coefficient tell que $E^{max}(n+1) = \\alpha E^{max}(n)$"
   ]
  },
  {
   "attachments": {},
   "cell_type": "markdown",
   "metadata": {},
   "source": [
    "\\begin{align*}\n",
    "    & E(n+1) = \\alpha E(n)\\\\\n",
    "    & E(n+1) - E(n) = c(n) \\\\\n",
    "    & => \\\\\n",
    "    & E(n) + c(n) = \\alpha E(n)\\\\\n",
    "    & => \\\\\n",
    "    & \\alpha = 1 + \\frac{c(n)}{E(n)}\n",
    "\\end{align*}"
   ]
  },
  {
   "attachments": {},
   "cell_type": "markdown",
   "metadata": {},
   "source": [
    "E"
   ]
  },
  {
   "cell_type": "code",
   "execution_count": null,
   "metadata": {},
   "outputs": [],
   "source": [
    "(23 / 1.10) * (9.2290-(3.256-3.214)) * 1000 / 60 / 60 / 24"
   ]
  },
  {
   "cell_type": "code",
   "execution_count": null,
   "metadata": {},
   "outputs": [],
   "source": [
    "23 * (9.229 -3.256) * 1000 / 60 / 60 /24\n"
   ]
  },
  {
   "cell_type": "code",
   "execution_count": null,
   "metadata": {},
   "outputs": [],
   "source": [
    "A = np.array([[1, 0,      0,      0],\n",
    "              [0, 0.9975, 0,      0],\n",
    "              [0, 0,      0.9730, 0],\n",
    "              [0, 0,      0,      0.7927]])"
   ]
  },
  {
   "cell_type": "code",
   "execution_count": null,
   "metadata": {},
   "outputs": [],
   "source": [
    "AA =  (A - np.eye(4))"
   ]
  },
  {
   "cell_type": "code",
   "execution_count": null,
   "metadata": {},
   "outputs": [],
   "source": [
    "AA"
   ]
  },
  {
   "cell_type": "code",
   "execution_count": null,
   "metadata": {},
   "outputs": [],
   "source": [
    "B = np.array([[0.2173,  0.2240, 0.2824, 0.2763]]) "
   ]
  },
  {
   "cell_type": "code",
   "execution_count": null,
   "metadata": {},
   "outputs": [],
   "source": [
    "np.shape(B.T)"
   ]
  },
  {
   "cell_type": "code",
   "execution_count": null,
   "metadata": {},
   "outputs": [],
   "source": [
    "B.T"
   ]
  },
  {
   "cell_type": "code",
   "execution_count": null,
   "metadata": {},
   "outputs": [],
   "source": []
  },
  {
   "cell_type": "code",
   "execution_count": null,
   "metadata": {},
   "outputs": [],
   "source": [
    "def exact_discretization(A, B, time) :\n",
    "    lA,cA = np.shape(A)\n",
    "    lB,cB = np.shape(B)\n",
    "    M = np.vstack((np.hstack((A,B)), np.zeros(cA + cB)))\n",
    "    MM = expm(M * time)\n",
    "    Ad = MM[:lA,:cA]\n",
    "    Bd = MM[:lB, cA:]\n",
    "    return Ad, Bd\n",
    "    "
   ]
  },
  {
   "cell_type": "code",
   "execution_count": null,
   "metadata": {},
   "outputs": [],
   "source": [
    "Ad, Bd = exact_discretization(AA, B.T, 5)"
   ]
  },
  {
   "cell_type": "code",
   "execution_count": null,
   "metadata": {},
   "outputs": [],
   "source": [
    "Ad"
   ]
  },
  {
   "cell_type": "code",
   "execution_count": null,
   "metadata": {},
   "outputs": [],
   "source": [
    "Bd.T"
   ]
  },
  {
   "cell_type": "code",
   "execution_count": null,
   "metadata": {},
   "outputs": [],
   "source": [
    "M = np.hstack((AA,B.T))"
   ]
  },
  {
   "cell_type": "code",
   "execution_count": null,
   "metadata": {},
   "outputs": [],
   "source": [
    "M = np.vstack((M, np.zeros(5)))"
   ]
  },
  {
   "cell_type": "code",
   "execution_count": null,
   "metadata": {},
   "outputs": [],
   "source": [
    "M"
   ]
  },
  {
   "cell_type": "code",
   "execution_count": null,
   "metadata": {},
   "outputs": [],
   "source": [
    "from scipy.linalg import expm\n",
    "MM = expm(M*5)"
   ]
  },
  {
   "cell_type": "code",
   "execution_count": null,
   "metadata": {},
   "outputs": [],
   "source": [
    "MM"
   ]
  },
  {
   "cell_type": "code",
   "execution_count": null,
   "metadata": {},
   "outputs": [],
   "source": [
    "Ad = MM[:4,:4]\n",
    "Bd = MM[0:-1,4:]"
   ]
  },
  {
   "cell_type": "code",
   "execution_count": null,
   "metadata": {},
   "outputs": [],
   "source": [
    "Ad"
   ]
  },
  {
   "cell_type": "code",
   "execution_count": null,
   "metadata": {},
   "outputs": [],
   "source": [
    "Bd"
   ]
  },
  {
   "cell_type": "code",
   "execution_count": null,
   "metadata": {},
   "outputs": [],
   "source": [
    "carbon_model = Carbon_JOOS()\n",
    "temperature_model = Temp_Discret_Geoffroy()\n",
    "smc = geophysics(carbon_model, temperature_model)\n",
    "\n",
    "smc.five_years_atmospheric_temp(50,0,0)"
   ]
  },
  {
   "cell_type": "code",
   "execution_count": null,
   "metadata": {},
   "outputs": [],
   "source": []
  },
  {
   "cell_type": "code",
   "execution_count": null,
   "metadata": {},
   "outputs": [],
   "source": [
    "def repeated_one_shot_game(self, rule : callable)-> None:\n",
    "\n",
    "        a_p = np.zeros((self.N, self.T)) \n",
    "        sum_a_p = np.zeros(self.T)\n",
    "        u_val_p = np.zeros((self.N, self.T))\n",
    "        u_fct_p = [None] * self.T\n",
    "        a_space_p = np.zeros((self.N,self.T,2))\n",
    "        temp_p = np.zeros(self.T)\n",
    "\n",
    "        # Reset the game \n",
    "        self.reset()\n",
    "\n",
    "        # Start of the games\n",
    "        for time in range(self.T):\n",
    "            # Players get the SCM values \n",
    "            self.update_players_smc()\n",
    "\n",
    "            # Players choose their actions    \n",
    "            a_p[:,time] = rule()\n",
    "            sum_a_p[time] = np.sum(a_p[:,time])\n",
    "            u_fct_p[time] = self.get_players_utilities()\n",
    "            a_space_p[:,time,:] = self.get_action_space() \n",
    "\n",
    "            # The players utility and action set get update with respect to the previous action\n",
    "            self.update_player(self.a_p[:,time])\n",
    "\n",
    "            # The players emit and the climate change\n",
    "            self.smc_game.five_years_cycle_deep(self.sum_a_p[time], self.ex_e[time], self.ex_f[time])\n",
    "            temp_p[time] = self.smc_game.atmospheric_temp\n",
    "\n",
    "        for time in range(self.T):\n",
    "            for indice in range(N):\n",
    "                u_val_p[indice,time] = u_fct_p[time][indice](a_p[indice,time],\n",
    "                                                                     sum_a_p[time]-a_p[indice,time], temp_p[time])\n",
    "\n",
    "        sum_u_val_p = np.sum(u_val_p, axis=0)\n",
    "\n",
    "        return a_p, sum_a_p, u_val_p, u_fct_p, a_space_p, temp_p\n"
   ]
  },
  {
   "cell_type": "code",
   "execution_count": null,
   "metadata": {},
   "outputs": [],
   "source": []
  },
  {
   "cell_type": "code",
   "execution_count": null,
   "metadata": {},
   "outputs": [],
   "source": [
    "carbon_model = Carbon_JOOS()\n",
    "temperature_model = Temp_Discret_Geoffroy()\n",
    "smc = geophysics(carbon_model, temperature_model)\n",
    "\n",
    "smc.five_years_atmospheric_temp(50,0,0)"
   ]
  },
  {
   "cell_type": "code",
   "execution_count": null,
   "metadata": {},
   "outputs": [],
   "source": [
    "from parameters import F_EX\n",
    "\n",
    "\n",
    "for i in range (5):\n",
    "    print((Ay**(i+1) @by).T )\n",
    "print(F_EX[i])\n"
   ]
  },
  {
   "cell_type": "code",
   "execution_count": null,
   "metadata": {},
   "outputs": [],
   "source": [
    "from scipy.linalg import expm\n",
    "\n",
    "AAy = expm(1 *(-np.diag([1,1]) + Ay )) -  Ay\n"
   ]
  },
  {
   "cell_type": "code",
   "execution_count": null,
   "metadata": {},
   "outputs": [],
   "source": [
    "AAy"
   ]
  },
  {
   "cell_type": "code",
   "execution_count": null,
   "metadata": {},
   "outputs": [],
   "source": [
    "data = pd.read_csv('data/natural-disasters-events-5.csv')\n",
    "data_temp = pd.read_csv('data/temperature_NASA_2022.csv')"
   ]
  },
  {
   "cell_type": "code",
   "execution_count": null,
   "metadata": {},
   "outputs": [],
   "source": [
    "data_temp = data_temp[data_temp['Year'] >=1980]\n",
    "data_temp = data_temp[data_temp['Year'] <=2020]\n",
    "\n",
    "z = data_temp['MAM'].to_numpy()"
   ]
  },
  {
   "cell_type": "code",
   "execution_count": null,
   "metadata": {},
   "outputs": [],
   "source": [
    "z"
   ]
  },
  {
   "cell_type": "code",
   "execution_count": null,
   "metadata": {},
   "outputs": [],
   "source": [
    "import pandas as pd\n",
    "import numpy as np\n",
    "import matplotlib.pyplot as plt\n",
    "import seaborn as sns\n",
    "\n",
    "sns.set_style('ticks',  {\"axes.grid\" : \"True\", \"grid.color\": \".4\", \"grid.linestyle\": \":\"})\n",
    "sns.set_context(\"paper\")\n",
    "plt.rcParams.update({'mathtext.default':  'regular' })\n",
    "plt.rcParams['xtick.direction'] = 'out'\n",
    "\n",
    "data = pd.read_csv('data/natural-disasters-events-5.csv')\n",
    "data_temp = pd.read_csv('data/temperature_NASA_2022.csv')\n",
    "\n",
    "data_temp = data_temp[data_temp['Year'] >=1980]\n",
    "data_temp = data_temp[data_temp['Year'] <=2020]\n",
    "\n",
    "z = data_temp['MAM'].to_numpy()\n",
    "\n",
    "y = data['Hydrological events:number'].to_numpy() + data['Climatological events:number'].to_numpy() + data['Meteorological events:number'].to_numpy()\n",
    "\n",
    "\n",
    "z_5y = np.array([np.sum(z[t:t+5])/5 for t in range(0,len(y),5)])\n",
    "y_5y = np.array([np.sum(y[t:t+5])/5 for t in range(0,len(y),5)])\n",
    "\n",
    "inds = np.argsort(z_5y)\n",
    "z_5y = np.sort(z_5y)\n",
    "y_5y = y_5y[inds]\n",
    "\n",
    "from scipy.optimize import curve_fit\n",
    "\n",
    "[a, b], res1 = curve_fit(lambda x1,a,b: a*np.exp(b*x1),  z_5y,  y_5y)\n",
    "\n",
    "y1 = a * np.exp(b * x)\n",
    "\n",
    " \n",
    "poly_1 = np.polyfit(z_5y, y_5y, 1)\n",
    "poly_2 = np.polyfit(z_5y, y_5y, 2)\n",
    "poly_3 = np.polyfit(z_5y, y_5y, 3)\n",
    "poly_4 = np.polyfit(z_5y, y_5y, 4)\n",
    "x = np.linspace(0.1,1.4,100)\n",
    "plt.figure(figsize=(8,6), dpi=100)\n",
    "plt.scatter(z_5y,y_5y)\n",
    "plt.plot(x, np.polyval(poly_1,x), label= 'deg=1')\n",
    "plt.plot(x, np.polyval(poly_2,x), label= 'deg=2')\n",
    "plt.plot(x, np.polyval(poly_3,x), label= 'deg=3')\n",
    "plt.plot(x, y1, label='exp')\n",
    "plt.plot(x, np.polyval(poly_4,x), label= 'deg=4')\n",
    "# plt.yscale('log')\n",
    "plt.ylabel(\"Mean over 5 years Economic damage in EUR Millions\")\n",
    "plt.xlabel('Mean over 5 years Temperature variation from base period 1951-1980')\n",
    "plt.title('Economic damage caused by weather and climate-related extreme events in the EU Member States ')\n",
    "plt.legend()\n",
    "plt.show()\n",
    "\n"
   ]
  },
  {
   "cell_type": "code",
   "execution_count": null,
   "metadata": {},
   "outputs": [],
   "source": [
    "z_5y"
   ]
  },
  {
   "cell_type": "code",
   "execution_count": null,
   "metadata": {},
   "outputs": [],
   "source": [
    "import matplotlib.pyplot as plt\n",
    "import numpy as np\n",
    "\n",
    "x = np.linspace(0,8,50)\n",
    "plt.plot(x, np.polyval([0.146, .283,-0.0547], x))\n",
    "plt.plot(x, np.polyval(np.flip([0,3,3.456]), x))\n",
    "plt.show()\n"
   ]
  },
  {
   "cell_type": "code",
   "execution_count": null,
   "metadata": {},
   "outputs": [],
   "source": [
    "poly_1 = np.polyfit(z_5y, y_5y, 1)\n",
    "poly_2 = np.polyfit(z_5y, y_5y, 2)\n",
    "poly_3 = np.polyfit(z_5y, y_5y, 3)\n",
    "poly_4 = np.polyfit(z_5y, y_5y, 4)\n",
    "x = np.linspace(0.1,1.5,100)\n",
    "plt.figure(figsize=(8,6), dpi=100)\n",
    "plt.scatter(z_5y,y_5y)\n",
    "plt.plot(x, np.polyval(poly_1,x), label= 'deg=1')\n",
    "plt.plot(x, np.polyval(poly_2,x), label= 'deg=2')\n",
    "plt.plot(x, np.polyval(poly_3,x), label= 'deg=3')\n",
    "plt.plot(x, y1, label='exp')\n",
    "# plt.plot(x, np.polyval(poly_4,x), label= 'deg=4')\n",
    "# plt.yscale('log')\n",
    "plt.ylabel(\"Mean over 5 years Economic damage in EUR Millions\")\n",
    "plt.xlabel('Mean over 5 years Temperature variation from base period 1951-1980')\n",
    "plt.title('Economic damage caused by weather and climate-related extreme events in the EU Member States ')\n",
    "plt.legend()\n",
    "plt.show()"
   ]
  },
  {
   "cell_type": "code",
   "execution_count": null,
   "metadata": {},
   "outputs": [],
   "source": [
    "x = np.linspace(0.1,1.5,100)\n",
    "plt.figure(figsize=(8,6), dpi=100)\n",
    "plt.scatter(z_5y,y_5y)\n",
    "plt.plot(x, np.polyval(poly_1,x), label= 'deg=1')\n",
    "plt.plot(x, np.polyval(poly_2,x), label= 'deg=2')\n",
    "plt.plot(x, np.polyval(poly_3,x), label= 'deg=3')\n",
    "plt.plot(x, y1, label='exp')\n",
    "# plt.plot(x, np.polyval(poly_4,x), label= 'deg=4')\n",
    "# plt.yscale('log')\n",
    "plt.ylabel(\"Mean over 5 years Economic damage in EUR Millions\")\n",
    "plt.xlabel('Mean over 5 years Temperature variation from base period 1951-1980')\n",
    "plt.title('Economic damage caused by weather and climate-related extreme events in the EU Member States ')\n",
    "plt.legend()\n",
    "plt.show()"
   ]
  },
  {
   "cell_type": "code",
   "execution_count": null,
   "metadata": {},
   "outputs": [],
   "source": [
    "data.plot(x='Year:text', y='Value:number')"
   ]
  },
  {
   "cell_type": "code",
   "execution_count": null,
   "metadata": {},
   "outputs": [],
   "source": [
    "import numpy\n",
    "\n",
    "from scipy.optimize import curve_fit\n",
    "\n",
    "import matplotlib.pyplot as plt\n",
    "\n",
    " \n",
    "\n",
    " \n",
    "\n",
    "[a, b], res1 = curve_fit(lambda x1,a,b: a*numpy.exp(b*x1),  z_5y,  y_5y)\n",
    "\n",
    " \n",
    "\n",
    "y1 = a * numpy.exp(b * x)\n",
    "\n",
    " \n",
    "\n",
    "plt.scatter(z_5y, y_5y,)\n",
    "\n",
    "plt.plot(x, y1, 'r')\n",
    "\n",
    "plt.show()"
   ]
  },
  {
   "cell_type": "code",
   "execution_count": null,
   "metadata": {},
   "outputs": [],
   "source": [
    "from models.geophysic import *"
   ]
  },
  {
   "cell_type": "code",
   "execution_count": null,
   "metadata": {},
   "outputs": [],
   "source": [
    "emission = 20"
   ]
  },
  {
   "cell_type": "code",
   "execution_count": null,
   "metadata": {},
   "outputs": [],
   "source": [
    "carbon_model = Carbon_JOOS()\n",
    "temperature_model = Temp_Discret_Geoffroy()\n",
    "smc = geophysics(carbon_model, temperature_model)"
   ]
  },
  {
   "cell_type": "code",
   "execution_count": null,
   "metadata": {},
   "outputs": [],
   "source": [
    "smc.five_years_atmospheric_temp(emission)"
   ]
  },
  {
   "cell_type": "code",
   "execution_count": null,
   "metadata": {},
   "outputs": [],
   "source": [
    "import numpy as np\n",
    "import matplotlib.pyplot as plt\n",
    "from scipy.optimize import minimize, Bounds"
   ]
  },
  {
   "cell_type": "code",
   "execution_count": null,
   "metadata": {},
   "outputs": [],
   "source": [
    "def benefice_sigm(GDP_max : float, e_max :float, power : float = 10) : \n",
    "    def benef(x) :\n",
    "        return (1-np.exp(-(x))/(1-np.exp(-e_max)))**power * GDP_max\n",
    "    return benef"
   ]
  },
  {
   "cell_type": "code",
   "execution_count": null,
   "metadata": {},
   "outputs": [],
   "source": [
    "def benefice_sigm(GDP_max : float, e_max :float, power : float = 10) : \n",
    "    def benef(x) :\n",
    "        return ( (1-np.exp(-x)) / (1-np.exp(-e_max)) )**power * GDP_max\n",
    "    return benef"
   ]
  },
  {
   "cell_type": "code",
   "execution_count": null,
   "metadata": {},
   "outputs": [],
   "source": [
    "x = np.linspace(0, 11,100)\n"
   ]
  },
  {
   "cell_type": "code",
   "execution_count": null,
   "metadata": {},
   "outputs": [],
   "source": []
  },
  {
   "cell_type": "code",
   "execution_count": null,
   "metadata": {},
   "outputs": [],
   "source": [
    "benef_1 = benefice_sigm(20.0 , 11.0, power = 5)\n",
    "benef_2 = benefice_sigm(10.0 , 4.0, power = 5)\n",
    "\n",
    "def benefs(x):\n",
    "    return benef_1(x[0]) + benef_2(x[1]) \n",
    "\n",
    "def damage(x):\n",
    "    return 0.02 * sum(x)\n",
    "\n",
    "def utility(x):\n",
    "    return -benefs(x) + damage(x)\n",
    "\n",
    "boundaries = Bounds(lb=np.array([0.0, 0.0]), ub=np.array([11.0, 4.0]), keep_feasible=True)\n",
    "res = minimize(utility, x0=np.array([0.0, 0.0]),bounds=boundaries)"
   ]
  },
  {
   "cell_type": "code",
   "execution_count": null,
   "metadata": {},
   "outputs": [],
   "source": [
    "res.success"
   ]
  },
  {
   "cell_type": "code",
   "execution_count": null,
   "metadata": {},
   "outputs": [],
   "source": [
    "res.x"
   ]
  },
  {
   "cell_type": "code",
   "execution_count": null,
   "metadata": {},
   "outputs": [],
   "source": [
    "np.sort(benef(x)) - benef(x)"
   ]
  },
  {
   "cell_type": "code",
   "execution_count": null,
   "metadata": {},
   "outputs": [],
   "source": [
    "import numpy as np \n",
    "import matplotlib.pyplot as plt\n",
    "from scipy.optimize import *\n",
    "from copy import copy, deepcopy\n",
    "import matplotlib as mpl\n",
    "import seaborn as sns\n",
    "\n",
    "from models.geophysic_models.carbon_cycle_models import *\n",
    "from models.geophysic_models.temperature_dynamic_model import *\n",
    "from models.geophysic import *\n",
    "from models.game_theory.benefit_function import *\n",
    "from models.game_theory.damage_function import *\n",
    "\n",
    "from models.game import *\n",
    "from plot_function import *\n",
    "\n",
    "sns.set_style('darkgrid',  {\"grid.color\": \".6\", \"grid.linestyle\": \":\"})\n",
    "sns.set_context(\"paper\")\n",
    "plt.rcParams.update({\n",
    "    \"text.usetex\": True,\n",
    "    \"font.family\": \"sans-serif\",\n",
    "    \"font.sans-serif\": [\"Helvetica\"],\n",
    "    \"figure.titlesize\": 16})\n",
    "plt.rcParams.update({'mathtext.default':  'regular' })\n",
    "sns.axes_style( { 'xtick.color': 'black',\n",
    " 'ytick.color': 'black',\n",
    " 'xtick.bottom': True,\n",
    " 'xtick.top': True,\n",
    " 'ytick.left': True,\n",
    " 'ytick.right': True})\n",
    "# mpl.rc('text', usetex=True)\n",
    "mpl.rc('ytick'  , labelsize=15)\n",
    "mpl.rc('xtick'  , labelsize=15)\n",
    "mpl.rc('legend' , fontsize= 15)\n",
    "mpl.rc('axes'   , labelsize=15,  titlesize=16) \n",
    "# plt.rcParams['font.size'] = '16'\n",
    "\n",
    "carbon_model = Carbon_JOOS()\n",
    "temperature_model = Temp_Discret_Geoffroy()\n",
    "smc = geophysics(carbon_model, temperature_model)\n",
    "\n",
    "# Nombre de joueur \n",
    "N = 6\n",
    "\n",
    "# Espaces d'action des joueurs en GtCO2\n",
    "\n",
    "action_sets = np.array([[0.0, 11.0],        # China  \n",
    "                        [0.0, 7.0],         # USA\n",
    "                        [0.0, 4.0],         # EU\n",
    "                        [0.0, 3.0],         # India\n",
    "                        [0.0, 6.0],         # Russia\n",
    "                        [0.0, 5.0]])        # other Asia    \n",
    "\n",
    "# Coefficient d'impact de la temperature sur le climat \n",
    "\n",
    "deltas = np.array([1.1847,\n",
    "                    1.1941,\n",
    "                    1.1248,\n",
    "                    0.9074,\n",
    "                    1.2866,\n",
    "                    1.1847]) \n",
    "\n",
    "# PIB max des joueurs, j'ai pris le PIB 2020                \n",
    "\n",
    "gdp_max = np.array([15.0,\n",
    "                    18.0,\n",
    "                    17.0,\n",
    "                    2.6,\n",
    "                    1.6,\n",
    "                    26.0])\n",
    "\n",
    "# puissance de la fonction damage \n",
    "\n",
    "alpha =1\n",
    "\n",
    "# Coefficients de la fonction dammage (pour un polynome de degré 2)\n",
    "\n",
    "damage_coef = np.array([0,0,0.0022])\n",
    "\n",
    "# Création des joueurs \n",
    "\n",
    "list_players = [player_class(name = 'player {}'.format(i), action_set = action_sets[i], smc = deepcopy(smc),\n",
    "                                benefit_function = benefice_sigm(gdp_max[i], action_sets[i][1]),\n",
    "                                damage_function = DICE_damage_v1(damage_coef),\n",
    "                                impact_factor_of_temperature = gdp_max[i] , alpha=alpha) for i in range(N)]\n",
    "\n",
    "# Création du jeux, les parametres du jeux comme les emission exo, la durée du jeux les trucs geophysiques, ... sont dans le fichier parameters.py\n",
    "\n",
    "game = Game(deepcopy(smc), list_players)\n",
    "\n",
    "# Plot du jeux -> le fonction plot est dans plot_function.py\n",
    "\n",
    "# plot_nash= plot de la best response dynamic , plot_SO = plot les actions social optimales ,  plot_bau = plot les actions sans fonction damage\n",
    "\n",
    "plot_Game(game, plot_nash=True, plot_SO=True,  plot_bau = True ,figsize=(8,4), name='fig')"
   ]
  },
  {
   "cell_type": "code",
   "execution_count": null,
   "metadata": {},
   "outputs": [],
   "source": [
    "game.T"
   ]
  },
  {
   "cell_type": "code",
   "execution_count": null,
   "metadata": {},
   "outputs": [],
   "source": [
    "N"
   ]
  },
  {
   "cell_type": "code",
   "execution_count": null,
   "metadata": {},
   "outputs": [],
   "source": []
  }
 ],
 "metadata": {
  "kernelspec": {
   "display_name": "Python 3.9.12 ('CO2')",
   "language": "python",
   "name": "python3"
  },
  "language_info": {
   "codemirror_mode": {
    "name": "ipython",
    "version": 3
   },
   "file_extension": ".py",
   "mimetype": "text/x-python",
   "name": "python",
   "nbconvert_exporter": "python",
   "pygments_lexer": "ipython3",
   "version": "3.9.12"
  },
  "orig_nbformat": 4,
  "vscode": {
   "interpreter": {
    "hash": "16b467d0d483b0df94b9be8390e41b2161ce335e4b36d66db099cbe7bed530bc"
   }
  }
 },
 "nbformat": 4,
 "nbformat_minor": 2
}
