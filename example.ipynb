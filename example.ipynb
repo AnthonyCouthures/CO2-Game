{
 "cells": [
  {
   "attachments": {},
   "cell_type": "markdown",
   "metadata": {},
   "source": [
    "# Usage\n"
   ]
  },
  {
   "attachments": {},
   "cell_type": "markdown",
   "metadata": {},
   "source": [
    "Here, we present the standard usage of the model. \n",
    "\n",
    "First we will present the Simple Climate Model usage and next the basic routine to create a game."
   ]
  },
  {
   "attachments": {},
   "cell_type": "markdown",
   "metadata": {},
   "source": [
    "## Simple Climate Model usage"
   ]
  },
  {
   "attachments": {},
   "cell_type": "markdown",
   "metadata": {},
   "source": [
    "As seen previously, the Simple Climate Model (SCM) is composed of 3 part. The Carbon Cycle (CC), the Radiative Forcing (RF) equation and the Temperature Dynamique (TD). We will present them in this order."
   ]
  },
  {
   "attachments": {},
   "cell_type": "markdown",
   "metadata": {},
   "source": [
    "### Carbon Cycle"
   ]
  },
  {
   "attachments": {},
   "cell_type": "markdown",
   "metadata": {},
   "source": [
    "The standard way to modelize the carbon cycle is to call a Carbon Cycle class. "
   ]
  },
  {
   "cell_type": "code",
   "execution_count": 1,
   "metadata": {},
   "outputs": [
    {
     "name": "stdout",
     "output_type": "stream",
     "text": [
      "Model's name: Joos-et-al\n",
      "Initial state: [139.1  90.2  29.2   4.2]\n",
      "Transition Matrix:\n",
      " [[1.     0.     0.     0.    ]\n",
      " [0.     0.9975 0.     0.    ]\n",
      " [0.     0.     0.973  0.    ]\n",
      " [0.     0.     0.     0.7927]]\n",
      "\n",
      "Initial Gt of carbon in the atmosphere: 854.8399999999999\n",
      "Gt of carbon in the atmosphere after five years for emission of 50 Gt CO2 per years: 907.0553351921237\n"
     ]
    }
   ],
   "source": [
    "from models.geophysic_models.carbon_cycle_models import *\n",
    "\n",
    "# Choose of the Carbon Cycle\n",
    "carbon_cycle = Carbon_JOOS()\n",
    "\n",
    "print('Model\\'s name:', carbon_cycle.name)\n",
    "print('Initial state:' , carbon_cycle.initial_state)\n",
    "print('Transition Matrix:\\n', carbon_cycle.Ac)\n",
    "print()\n",
    "\n",
    "# Given a state and emission per years\n",
    "state=carbon_cycle.initial_state\n",
    "emission = 50\n",
    "print('Initial Gt of carbon in the atmosphere:', carbon_cycle.atmospheric_carbon(state))\n",
    "print('Gt of carbon in the atmosphere after five years for emission of {} Gt CO2 per years:'.format(emission), carbon_cycle.five_years_atmospheric_carbon(emission, state))"
   ]
  },
  {
   "attachments": {},
   "cell_type": "markdown",
   "metadata": {},
   "source": [
    "### Radiative Forcing"
   ]
  },
  {
   "cell_type": "code",
   "execution_count": 2,
   "metadata": {},
   "outputs": [
    {
     "name": "stdout",
     "output_type": "stream",
     "text": [
      "Radiative Forcing for 900 Gt of carbon in atmosphere: 2.2347507457569393\n"
     ]
    }
   ],
   "source": [
    "from models.geophysic_models.radiative_forcing import radiative_forcing_function\n",
    "\n",
    "Gt_carbon_in_atmosphere = 900\n",
    "\n",
    "print('Radiative Forcing for {} Gt of carbon in atmosphere:'.format(Gt_carbon_in_atmosphere),radiative_forcing_function(Gt_carbon_in_atmosphere))"
   ]
  },
  {
   "attachments": {},
   "cell_type": "markdown",
   "metadata": {},
   "source": [
    "### Temperature Dynamic "
   ]
  },
  {
   "cell_type": "code",
   "execution_count": 3,
   "metadata": {},
   "outputs": [
    {
     "name": "stdout",
     "output_type": "stream",
     "text": [
      "Model's name: Geoffroy-et-al.\n",
      "Initial state: [1.01   0.0068]\n",
      "Transition Matrix:\n",
      " [[0.72191781 0.1       ]\n",
      " [0.00688679 1.00688679]]\n",
      "\n",
      "Initial globale atmospheric temperature varitation from 1750: 1.01\n",
      "Global atmospheric temperature variation from 1750 after five years for a radiative forcing of 3 W.m² per years: 1.3883017700459135\n"
     ]
    }
   ],
   "source": [
    "from models.geophysic_models.temperature_dynamic_model import *\n",
    "\n",
    "# Choose of the temperature dynamic\n",
    "temperature_dynamic = Temp_Discret_Geoffroy()\n",
    "\n",
    "print('Model\\'s name:', temperature_dynamic.name)\n",
    "print('Initial state:' , temperature_dynamic.initial_state)\n",
    "print('Transition Matrix:\\n', temperature_dynamic.At)\n",
    "print()\n",
    "\n",
    "# Given a state and emission per years\n",
    "state=temperature_dynamic.initial_state\n",
    "radiative_forcing = 3\n",
    "print('Initial globale atmospheric temperature varitation from 1750:', temperature_dynamic.atmospheric_temperature(state))\n",
    "print('Global atmospheric temperature variation from 1750 after five years for a radiative forcing of {} W.m² per years:'.format(radiative_forcing), temperature_dynamic.five_years_atmospheric_temperature(radiative_forcing, state))"
   ]
  },
  {
   "attachments": {},
   "cell_type": "markdown",
   "metadata": {},
   "source": [
    "### Simple Climate Model"
   ]
  },
  {
   "cell_type": "code",
   "execution_count": 4,
   "metadata": {},
   "outputs": [
    {
     "name": "stdout",
     "output_type": "stream",
     "text": [
      "Initial atmospheric Gt of carbon of the SCM: 854.8399999999999\n",
      "Initial atmospheric temperature of the SCM: 1.01\n",
      "\n",
      "Global atmospheric temperature variation from 1750 after five years for emission of 50 Gt CO2 per years: 1.1154548887208628\n",
      "Atmospheric temperature of the SCM: 1.01\n",
      "Global atmospheric temperature variation from 1750 after five years for emission of 50 Gt CO2 per years: 1.1154548887208628\n",
      "Global atmospheric temperature variation from 1750 after ten years for emission of 50 Gt CO2 per years: 1.2487777794650823\n"
     ]
    }
   ],
   "source": [
    "from models.geophysic_models.climate_model import Simple_Climate_Model\n",
    "\n",
    "scm = Simple_Climate_Model(carbon_cycle, temperature_dynamic)\n",
    "\n",
    "print('Initial atmospheric Gt of carbon of the SCM:',scm.atmospheric_carbon)\n",
    "print('Initial atmospheric temperature of the SCM:',scm.atmospheric_temp)\n",
    "print()\n",
    "\n",
    "emission = 50 \n",
    "\n",
    "# If we want only the temperature without remebering it after\n",
    "print('Global atmospheric temperature variation from 1750 after five years for emission of {} Gt CO2 per years:'.format(emission),\n",
    "        scm.five_years_atmospheric_temp(emission, exogeneous_emission=0, exogeneous_radiative_forcing=0))\n",
    "\n",
    "print('Atmospheric temperature of the SCM:', scm.atmospheric_temp)\n",
    "\n",
    "# If we want remebering it after\n",
    "# 5 years\n",
    "scm.five_years_cycle_deep(emission, exogeneous_emission=0, exogeneous_radiative_forcing=0)\n",
    "print('Global atmospheric temperature variation from 1750 after five years for emission of {} Gt CO2 per years:'.format(emission),\n",
    "        scm.atmospheric_temp)\n",
    "# 5 + 5 = 10 years\n",
    "scm.five_years_cycle_deep(emission, exogeneous_emission=0, exogeneous_radiative_forcing=0)\n",
    "print('Global atmospheric temperature variation from 1750 after ten years for emission of {} Gt CO2 per years:'.format(emission),\n",
    "        scm.atmospheric_temp)"
   ]
  },
  {
   "cell_type": "code",
   "execution_count": 5,
   "metadata": {},
   "outputs": [
    {
     "data": {
      "image/png": "[encoded data removed]",
      "text/plain": [
       "<Figure size 576x432 with 1 Axes>"
      ]
     },
     "metadata": {},
     "output_type": "display_data"
    }
   ],
   "source": [
    "import pandas as pd\n",
    "\n",
    "# Take the RCP 8.5 as Gt of Carbon per years\n",
    "data = pd.read_csv('data/rcp_data.csv')\n",
    "YEARS = data.keys()[8:].to_numpy(int)\n",
    "RCP_26 = data.loc[data['Scenario'] == 'RCP-2.6'].to_numpy()[0][8:] * (1/co2_to_C)\n",
    "RCP_60 = data.loc[data['Scenario'] == 'RCP-6.0'].to_numpy()[0][8:] * (1/co2_to_C)\n",
    "RCP_85 = data.loc[data['Scenario'] == 'RCP-8.5'].to_numpy()[0][8:] * (1/co2_to_C)\n",
    "\n",
    "scm = Simple_Climate_Model(carbon_cycle, temperature_dynamic)\n",
    "\n",
    "temp_RCP85 = []\n",
    "for emission in RCP_85:\n",
    "    scm.five_years_cycle_deep(emission)\n",
    "    temp_RCP85.append(scm.atmospheric_temp)\n",
    "\n",
    "# We reset the SCM between two scenario\n",
    "scm.reset()\n",
    "\n",
    "temp_RCP26 = []\n",
    "for emission in RCP_26:\n",
    "    scm.five_years_cycle_deep(emission)\n",
    "    temp_RCP26.append(scm.atmospheric_temp)\n",
    "\n",
    "scm.reset()\n",
    "\n",
    "temp_RCP60 = []\n",
    "for emission in RCP_60:\n",
    "    scm.five_years_cycle_deep(emission)\n",
    "    temp_RCP60.append(scm.atmospheric_temp)\n",
    "\n",
    "import matplotlib.pyplot as plt\n",
    "import seaborn as sns\n",
    "\n",
    "sns.set_style('ticks',  {\"axes.grid\" : \"True\", \"grid.color\": \".4\", \"grid.linestyle\": \":\"})\n",
    "sns.set_context(\"notebook\")\n",
    "\n",
    "plt.figure(figsize=(8,6))\n",
    "plt.plot(YEARS, temp_RCP26, label='RCP - 2.6')\n",
    "plt.plot(YEARS, temp_RCP60, label='RCP - 6.0')\n",
    "plt.plot(YEARS, temp_RCP85, label='RCP - 8.5')\n",
    "plt.xlabel('Years')\n",
    "plt.ylabel('Global atmospheric temperature variation\\n from 1750 in °C')\n",
    "plt.legend()\n",
    "plt.show()\n"
   ]
  }
 ],
 "metadata": {
  "kernelspec": {
   "display_name": "CO2",
   "language": "python",
   "name": "python3"
  },
  "language_info": {
   "codemirror_mode": {
    "name": "ipython",
    "version": 3
   },
   "file_extension": ".py",
   "mimetype": "text/x-python",
   "name": "python",
   "nbconvert_exporter": "python",
   "pygments_lexer": "ipython3",
   "version": "3.9.12 (main, Apr  4 2022, 05:22:27) [MSC v.1916 64 bit (AMD64)]"
  },
  "orig_nbformat": 4,
  "vscode": {
   "interpreter": {
    "hash": "16b467d0d483b0df94b9be8390e41b2161ce335e4b36d66db099cbe7bed530bc"
   }
  }
 },
 "nbformat": 4,
 "nbformat_minor": 2
}
