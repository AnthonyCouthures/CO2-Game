{
 "cells": [
  {
   "cell_type": "code",
   "execution_count": 1,
   "metadata": {},
   "outputs": [],
   "source": [
    "from sympy import *\n"
   ]
  },
  {
   "cell_type": "code",
   "execution_count": 2,
   "metadata": {},
   "outputs": [
    {
     "data": {
      "text/plain": [
       "function"
      ]
     },
     "execution_count": 2,
     "metadata": {},
     "output_type": "execute_result"
    }
   ],
   "source": [
    "type(sqrt)"
   ]
  },
  {
   "cell_type": "code",
   "execution_count": 3,
   "metadata": {},
   "outputs": [
    {
     "data": {
      "text/latex": [
       "$\\displaystyle 2.82842712474619$"
      ],
      "text/plain": [
       "2.82842712474619"
      ]
     },
     "execution_count": 3,
     "metadata": {},
     "output_type": "execute_result"
    }
   ],
   "source": [
    "expr = sqrt(8)\n",
    "\n",
    "expr.evalf()"
   ]
  },
  {
   "cell_type": "code",
   "execution_count": 4,
   "metadata": {},
   "outputs": [
    {
     "data": {
      "text/latex": [
       "$\\displaystyle 0.0874989834394464$"
      ],
      "text/plain": [
       "0.0874989834394464"
      ]
     },
     "execution_count": 4,
     "metadata": {},
     "output_type": "execute_result"
    }
   ],
   "source": [
    "x, y, z = symbols(\"x y z\")\n",
    "\n",
    "expr = cos(2*x)\n",
    "\n",
    "expr.evalf(subs={x: 2.4})"
   ]
  },
  {
   "cell_type": "code",
   "execution_count": 5,
   "metadata": {},
   "outputs": [],
   "source": [
    "N = 6\n",
    "T = 3\n",
    "\n",
    "a = MatrixSymbol('a', N,  T)\n",
    "\n",
    "expr = ones(1, a.shape[0]) * a\n",
    "mysum = lambdify(a, expr, 'numpy')"
   ]
  },
  {
   "cell_type": "code",
   "execution_count": 6,
   "metadata": {},
   "outputs": [
    {
     "ename": "NameError",
     "evalue": "name 'np' is not defined",
     "output_type": "error",
     "traceback": [
      "\u001b[1;31m---------------------------------------------------------------------------\u001b[0m",
      "\u001b[1;31mNameError\u001b[0m                                 Traceback (most recent call last)",
      "Cell \u001b[1;32mIn[6], line 1\u001b[0m\n\u001b[1;32m----> 1\u001b[0m mysum(np\u001b[39m.\u001b[39mones((N,T)))\n",
      "\u001b[1;31mNameError\u001b[0m: name 'np' is not defined"
     ]
    }
   ],
   "source": [
    "mysum(np.ones((N,tmax ))"
   ]
  },
  {
   "cell_type": "code",
   "execution_count": null,
   "metadata": {},
   "outputs": [],
   "source": [
    "from sympy import *\n",
    "\n",
    "x = MatrixSymbol('M', 2, 2)\n",
    "y = ones(2,2)\n",
    "expr = x @ y \n",
    "type(expr)\n",
    "f = lambdify(x, expr, \"numpy\")"
   ]
  },
  {
   "cell_type": "code",
   "execution_count": null,
   "metadata": {},
   "outputs": [
    {
     "data": {
      "text/plain": [
       "array([[1., 1.],\n",
       "       [1., 1.]])"
      ]
     },
     "execution_count": 13,
     "metadata": {},
     "output_type": "execute_result"
    }
   ],
   "source": [
    "f(np.eye(2))"
   ]
  },
  {
   "cell_type": "code",
   "execution_count": null,
   "metadata": {},
   "outputs": [
    {
     "data": {
      "text/plain": [
       "array([[1., 1.],\n",
       "       [1., 1.]])"
      ]
     },
     "execution_count": 11,
     "metadata": {},
     "output_type": "execute_result"
    }
   ],
   "source": [
    "import numpy as np\n",
    "\n",
    "np.eye(2) @ np.ones((2,2))"
   ]
  },
  {
   "cell_type": "code",
   "execution_count": 3,
   "metadata": {},
   "outputs": [
    {
     "name": "stdout",
     "output_type": "stream",
     "text": [
      "ok\n"
     ]
    }
   ],
   "source": [
    "from sympy import *\n",
    "from models.geophysic_models import *\n",
    "import sympy\n",
    "N = 6\n",
    "T = 3\n",
    "\n",
    "CC = Carbon_JOOS()\n",
    "TD = Temp_Discret_Geoffroy()\n",
    "\n",
    "\n",
    "# Définissez vos variables et fonctions symboliques\n",
    "# t = sympy.Symbol('t', integer=True)\n",
    "z = zeros( 1, T)\n",
    "F = zeros( 1, T)\n",
    "y = zeros( 1, T)\n",
    "\n",
    "z_AT = zeros( 1, T)\n",
    "y_AT = zeros( 1, T)\n",
    "\n",
    "\n",
    "a = MatrixSymbol('a', N,  T)\n",
    "\n",
    "mz = CC.Ac5.shape[0]\n",
    "\n",
    "A_z = MatrixSymbol('A_z', mz, mz)\n",
    "b_z = MatrixSymbol('b_z', mz, 1)\n",
    "d_z = MatrixSymbol('d_z', mz, 1)\n",
    "\n",
    "my = TD.At5.shape[0]\n",
    "\n",
    "A_y = MatrixSymbol('A_y', my, my)\n",
    "b_y = MatrixSymbol('b_y', my, 1)\n",
    "d_y = MatrixSymbol('d_y', my, 1)\n",
    "\n",
    "\n",
    "F_2xCO2 = sympy.Symbol('F_2xCO2')\n",
    "z_AT_0  = sympy.Symbol('z_AT_0', positve=True)\n",
    "\n",
    "k = sympy.Symbol('k', integer=True)\n",
    "# Définissez vos fonctions\n",
    "\n",
    "z_0 = sympy.MatrixSymbol('z_0', mz, 1)\n",
    "z_ = z_0\n",
    "\n",
    "z_AT[0] = b_z.transpose() * z[0]\n",
    "for t in range(0,T):\n",
    "\n",
    "    z_ = A_z * z_ + d_z * sympy.Sum(a[k,t], (k,  0 ,(N-1) ))\n",
    "    z[t] = z_ \n",
    "    z_AT[t] = b_z.transpose() * z[t]\n",
    "\n",
    "# print(sympy.latex(z))\n",
    "\n",
    "# print(z_AT / z_AT_0)\n",
    "z_ratio = z_AT / z_AT_0\n",
    "for t in range(0,T):\n",
    "    F[t] = F_2xCO2 * z_ratio[t].applyfunc(sympy.log)/sympy.log(2) # + FEX[t]\n",
    "    \n",
    "# F = F_2xCO2 * z_ratio.applyfunc(sympy.log)/sympy.log(2)  + FEX\n",
    "y_0 = sympy.MatrixSymbol('y_0', my, 1)\n",
    "y_ = y_0\n",
    "y_AT[0] = b_y.transpose() * y[0]\n",
    "\n",
    "for t in range(0,T):\n",
    "    y_ = A_y * y_ +   d_y * F.col(t)\n",
    "    y[t] = y_\n",
    "    y_AT[t] = b_y.transpose() * y[t]\n",
    "    \n",
    "print('ok')\n",
    "\n",
    "# Imprimez vos fonctions\n"
   ]
  },
  {
   "cell_type": "code",
   "execution_count": 8,
   "metadata": {},
   "outputs": [
    {
     "data": {
      "text/latex": [
       "$\\displaystyle \\left[\\begin{matrix}b_{z}^{T} \\left(\\left(a_{0, 0} + a_{1, 0} + a_{2, 0} + a_{3, 0} + a_{4, 0} + a_{5, 0}\\right) d_{z} + A_{z} z_{0}\\right) & b_{z}^{T} \\left(\\left(a_{0, 1} + a_{1, 1} + a_{2, 1} + a_{3, 1} + a_{4, 1} + a_{5, 1}\\right) d_{z} + A_{z} \\left(\\left(a_{0, 0} + a_{1, 0} + a_{2, 0} + a_{3, 0} + a_{4, 0} + a_{5, 0}\\right) d_{z} + A_{z} z_{0}\\right)\\right) & b_{z}^{T} \\left(\\left(a_{0, 2} + a_{1, 2} + a_{2, 2} + a_{3, 2} + a_{4, 2} + a_{5, 2}\\right) d_{z} + A_{z} \\left(\\left(a_{0, 1} + a_{1, 1} + a_{2, 1} + a_{3, 1} + a_{4, 1} + a_{5, 1}\\right) d_{z} + A_{z} \\left(\\left(a_{0, 0} + a_{1, 0} + a_{2, 0} + a_{3, 0} + a_{4, 0} + a_{5, 0}\\right) d_{z} + A_{z} z_{0}\\right)\\right)\\right)\\end{matrix}\\right]$"
      ],
      "text/plain": [
       "Matrix([[b_z.T*((a[0, 0] + a[1, 0] + a[2, 0] + a[3, 0] + a[4, 0] + a[5, 0])*d_z + A_z*z_0), b_z.T*((a[0, 1] + a[1, 1] + a[2, 1] + a[3, 1] + a[4, 1] + a[5, 1])*d_z + A_z*((a[0, 0] + a[1, 0] + a[2, 0] + a[3, 0] + a[4, 0] + a[5, 0])*d_z + A_z*z_0)), b_z.T*((a[0, 2] + a[1, 2] + a[2, 2] + a[3, 2] + a[4, 2] + a[5, 2])*d_z + A_z*((a[0, 1] + a[1, 1] + a[2, 1] + a[3, 1] + a[4, 1] + a[5, 1])*d_z + A_z*((a[0, 0] + a[1, 0] + a[2, 0] + a[3, 0] + a[4, 0] + a[5, 0])*d_z + A_z*z_0)))]])"
      ]
     },
     "execution_count": 8,
     "metadata": {},
     "output_type": "execute_result"
    }
   ],
   "source": [
    "z_AT"
   ]
  },
  {
   "cell_type": "code",
   "execution_count": 9,
   "metadata": {},
   "outputs": [
    {
     "data": {
      "text/latex": [
       "$\\displaystyle \\left[\\begin{matrix}b_{y}^{T} \\left(A_{y} y_{0} + d_{y} \\left[\\begin{matrix}\\frac{F_{2xCO2}}{\\log{\\left(2 \\right)}} {\\left( d \\mapsto \\log{\\left(d \\right)} \\right)}_{\\circ}\\left({\\frac{1}{z_{AT 0}} b_{z}^{T} \\left(\\left(a_{0, 0} + a_{1, 0} + a_{2, 0} + a_{3, 0} + a_{4, 0} + a_{5, 0}\\right) d_{z} + A_{z} z_{0}\\right)}\\right)\\end{matrix}\\right]\\right) & b_{y}^{T} \\left(A_{y} \\left(A_{y} y_{0} + d_{y} \\left[\\begin{matrix}\\frac{F_{2xCO2}}{\\log{\\left(2 \\right)}} {\\left( d \\mapsto \\log{\\left(d \\right)} \\right)}_{\\circ}\\left({\\frac{1}{z_{AT 0}} b_{z}^{T} \\left(\\left(a_{0, 0} + a_{1, 0} + a_{2, 0} + a_{3, 0} + a_{4, 0} + a_{5, 0}\\right) d_{z} + A_{z} z_{0}\\right)}\\right)\\end{matrix}\\right]\\right) + d_{y} \\left[\\begin{matrix}\\frac{F_{2xCO2}}{\\log{\\left(2 \\right)}} {\\left( d \\mapsto \\log{\\left(d \\right)} \\right)}_{\\circ}\\left({\\frac{1}{z_{AT 0}} b_{z}^{T} \\left(\\left(a_{0, 1} + a_{1, 1} + a_{2, 1} + a_{3, 1} + a_{4, 1} + a_{5, 1}\\right) d_{z} + A_{z} \\left(\\left(a_{0, 0} + a_{1, 0} + a_{2, 0} + a_{3, 0} + a_{4, 0} + a_{5, 0}\\right) d_{z} + A_{z} z_{0}\\right)\\right)}\\right)\\end{matrix}\\right]\\right) & b_{y}^{T} \\left(A_{y} \\left(A_{y} \\left(A_{y} y_{0} + d_{y} \\left[\\begin{matrix}\\frac{F_{2xCO2}}{\\log{\\left(2 \\right)}} {\\left( d \\mapsto \\log{\\left(d \\right)} \\right)}_{\\circ}\\left({\\frac{1}{z_{AT 0}} b_{z}^{T} \\left(\\left(a_{0, 0} + a_{1, 0} + a_{2, 0} + a_{3, 0} + a_{4, 0} + a_{5, 0}\\right) d_{z} + A_{z} z_{0}\\right)}\\right)\\end{matrix}\\right]\\right) + d_{y} \\left[\\begin{matrix}\\frac{F_{2xCO2}}{\\log{\\left(2 \\right)}} {\\left( d \\mapsto \\log{\\left(d \\right)} \\right)}_{\\circ}\\left({\\frac{1}{z_{AT 0}} b_{z}^{T} \\left(\\left(a_{0, 1} + a_{1, 1} + a_{2, 1} + a_{3, 1} + a_{4, 1} + a_{5, 1}\\right) d_{z} + A_{z} \\left(\\left(a_{0, 0} + a_{1, 0} + a_{2, 0} + a_{3, 0} + a_{4, 0} + a_{5, 0}\\right) d_{z} + A_{z} z_{0}\\right)\\right)}\\right)\\end{matrix}\\right]\\right) + d_{y} \\left[\\begin{matrix}\\frac{F_{2xCO2}}{\\log{\\left(2 \\right)}} {\\left( d \\mapsto \\log{\\left(d \\right)} \\right)}_{\\circ}\\left({\\frac{1}{z_{AT 0}} b_{z}^{T} \\left(\\left(a_{0, 2} + a_{1, 2} + a_{2, 2} + a_{3, 2} + a_{4, 2} + a_{5, 2}\\right) d_{z} + A_{z} \\left(\\left(a_{0, 1} + a_{1, 1} + a_{2, 1} + a_{3, 1} + a_{4, 1} + a_{5, 1}\\right) d_{z} + A_{z} \\left(\\left(a_{0, 0} + a_{1, 0} + a_{2, 0} + a_{3, 0} + a_{4, 0} + a_{5, 0}\\right) d_{z} + A_{z} z_{0}\\right)\\right)\\right)}\\right)\\end{matrix}\\right]\\right)\\end{matrix}\\right]$"
      ],
      "text/plain": [
       "Matrix([[b_y.T*(A_y*y_0 + d_y*Matrix([[(F_2xCO2/log(2))*Lambda(_d, log(_d)).(1/z_AT_0*b_z.T*((a[0, 0] + a[1, 0] + a[2, 0] + a[3, 0] + a[4, 0] + a[5, 0])*d_z + A_z*z_0))]])), b_y.T*(A_y*(A_y*y_0 + d_y*Matrix([[(F_2xCO2/log(2))*Lambda(_d, log(_d)).(1/z_AT_0*b_z.T*((a[0, 0] + a[1, 0] + a[2, 0] + a[3, 0] + a[4, 0] + a[5, 0])*d_z + A_z*z_0))]])) + d_y*Matrix([[(F_2xCO2/log(2))*Lambda(_d, log(_d)).(1/z_AT_0*b_z.T*((a[0, 1] + a[1, 1] + a[2, 1] + a[3, 1] + a[4, 1] + a[5, 1])*d_z + A_z*((a[0, 0] + a[1, 0] + a[2, 0] + a[3, 0] + a[4, 0] + a[5, 0])*d_z + A_z*z_0)))]])), b_y.T*(A_y*(A_y*(A_y*y_0 + d_y*Matrix([[(F_2xCO2/log(2))*Lambda(_d, log(_d)).(1/z_AT_0*b_z.T*((a[0, 0] + a[1, 0] + a[2, 0] + a[3, 0] + a[4, 0] + a[5, 0])*d_z + A_z*z_0))]])) + d_y*Matrix([[(F_2xCO2/log(2))*Lambda(_d, log(_d)).(1/z_AT_0*b_z.T*((a[0, 1] + a[1, 1] + a[2, 1] + a[3, 1] + a[4, 1] + a[5, 1])*d_z + A_z*((a[0, 0] + a[1, 0] + a[2, 0] + a[3, 0] + a[4, 0] + a[5, 0])*d_z + A_z*z_0)))]])) + d_y*Matrix([[(F_2xCO2/log(2))*Lambda(_d, log(_d)).(1/z_AT_0*b_z.T*((a[0, 2] + a[1, 2] + a[2, 2] + a[3, 2] + a[4, 2] + a[5, 2])*d_z + A_z*((a[0, 1] + a[1, 1] + a[2, 1] + a[3, 1] + a[4, 1] + a[5, 1])*d_z + A_z*((a[0, 0] + a[1, 0] + a[2, 0] + a[3, 0] + a[4, 0] + a[5, 0])*d_z + A_z*z_0))))]]))]])"
      ]
     },
     "execution_count": 9,
     "metadata": {},
     "output_type": "execute_result"
    }
   ],
   "source": [
    "y_AT"
   ]
  },
  {
   "cell_type": "code",
   "execution_count": null,
   "metadata": {},
   "outputs": [],
   "source": []
  },
  {
   "cell_type": "code",
   "execution_count": 138,
   "metadata": {},
   "outputs": [
    {
     "name": "stdout",
     "output_type": "stream",
     "text": [
      "ok\n"
     ]
    }
   ],
   "source": [
    "from sympy import *\n",
    "from models.geophysic_models import *\n",
    "import sympy\n",
    "N = 6\n",
    "T = 1\n",
    "\n",
    "CC = Carbon_JOOS()\n",
    "TD = Temp_Discret_Geoffroy()\n",
    "\n",
    "\n",
    "# Définissez vos variables et fonctions symboliques\n",
    "# t = sympy.Symbol('t', integer=True)\n",
    "z = zeros( 1, T)\n",
    "z_AT = ones( 1, T) * C_1750\n",
    "z_ratio = zeros( 1, T)\n",
    "\n",
    "F = zeros( 1, T)\n",
    "\n",
    "y = zeros( 1, T)\n",
    "y_AT = zeros( 1, T)\n",
    "\n",
    "D = zeros(1,T)\n",
    "B = zeros(1,T)\n",
    "\n",
    "PHI = zeros(1,T)\n",
    "a = MatrixSymbol('a', N,  T)\n",
    "\n",
    "sum_a = ones(1, a.shape[0]) * a\n",
    "\n",
    "# sum_a = MatrixSymbol('E', 1,T)\n",
    "mz = CC.Ac5.shape[0]\n",
    "\n",
    "A_z = MatrixSymbol('A_z', mz, mz)\n",
    "b_z = MatrixSymbol('b_z', 1, mz)\n",
    "d_z = MatrixSymbol('d_z', mz, 1)\n",
    "\n",
    "my = TD.At5.shape[0]\n",
    "\n",
    "A_y = MatrixSymbol('A_y', my, my)\n",
    "b_y = MatrixSymbol('b_y', 1, my)\n",
    "d_y = MatrixSymbol('d_y', my, 1)\n",
    "\n",
    "\n",
    "F_2xCO2 = sympy.Symbol('F2xCO2')\n",
    "z_ref = sympy.Symbol('zref')\n",
    "z_1750 = sympy.MatrixSymbol('zrefm', 1,1)\n",
    "\n",
    "k = sympy.Symbol('k', integer=True)\n",
    "# Définissez vos fonctions\n",
    "\n",
    "z_0 = sympy.MatrixSymbol('z_0', mz, 1)\n",
    "z_ = z_0\n",
    "\n",
    "z_AT[0] = b_z @ z[0]\n",
    "y_0 = sympy.MatrixSymbol('y_0', my, 1)\n",
    "y_ = y_0\n",
    "y_AT[0] = b_y @ y[0]\n",
    "for t in range(0,T):\n",
    "\n",
    "    z_ = A_z @ z_ + d_z * sum_a[t] \n",
    "    \n",
    "    z[t] = z_\n",
    "    z_AT[t] = (b_z * z[t]) + z_1750\n",
    "    z_ratio[t] = (b_z @ z_ + z_1750)*  (1 / z_ref)  \n",
    "    F[t] = F_2xCO2/log(2) * z_ratio[t].applyfunc(log)\n",
    "\n",
    "    y_ = A_y @ y_ +   d_y @ F.col(t)\n",
    "    y[t] = y_\n",
    "    y_AT[t] = b_y @ y[t]\n",
    "\n",
    "\n",
    "benefice = Function('B')\n",
    "damage = Function('D')\n",
    "\n",
    "\n",
    "\n",
    "D = y_AT.applyfunc(damage)\n",
    "B = benefice(a)\n",
    "\n",
    "PHI = D *  ones( D.shape[1], 1) \n",
    "print('ok')\n",
    "\n",
    "# Imprimez vos fonctions\n"
   ]
  },
  {
   "cell_type": "code",
   "execution_count": 139,
   "metadata": {},
   "outputs": [
    {
     "data": {
      "text/plain": [
       "(1, 1)"
      ]
     },
     "execution_count": 139,
     "metadata": {},
     "output_type": "execute_result"
    }
   ],
   "source": [
    "z_AT[0,0].shape"
   ]
  },
  {
   "cell_type": "code",
   "execution_count": 140,
   "metadata": {},
   "outputs": [
    {
     "data": {
      "text/plain": [
       "(1, 4)"
      ]
     },
     "execution_count": 140,
     "metadata": {},
     "output_type": "execute_result"
    }
   ],
   "source": [
    "b_z.shape"
   ]
  },
  {
   "cell_type": "code",
   "execution_count": 141,
   "metadata": {},
   "outputs": [
    {
     "data": {
      "text/latex": [
       "$\\displaystyle \\left[\\begin{matrix}\\frac{1}{zref} \\left(b_{z} \\left(\\left(a_{0, 0} + a_{1, 0} + a_{2, 0} + a_{3, 0} + a_{4, 0} + a_{5, 0}\\right) d_{z} + A_{z} z_{0}\\right) + zrefm\\right)\\end{matrix}\\right]$"
      ],
      "text/plain": [
       "Matrix([[1/zref*(b_z*((a[0, 0] + a[1, 0] + a[2, 0] + a[3, 0] + a[4, 0] + a[5, 0])*d_z + A_z*z_0) + zrefm)]])"
      ]
     },
     "execution_count": 141,
     "metadata": {},
     "output_type": "execute_result"
    }
   ],
   "source": [
    "z_ratio"
   ]
  },
  {
   "cell_type": "code",
   "execution_count": 142,
   "metadata": {},
   "outputs": [
    {
     "data": {
      "text/latex": [
       "$\\displaystyle \\left[\\begin{matrix}\\frac{1}{zref} b_{z} d_{z}\\end{matrix}\\right]$"
      ],
      "text/plain": [
       "Matrix([[1/zref*b_z*d_z]])"
      ]
     },
     "execution_count": 142,
     "metadata": {},
     "output_type": "execute_result"
    }
   ],
   "source": [
    "z_ratio.diff(a[0,0])"
   ]
  },
  {
   "cell_type": "code",
   "execution_count": 143,
   "metadata": {},
   "outputs": [
    {
     "data": {
      "text/latex": [
       "$\\displaystyle \\left[\\begin{matrix}\\frac{F2xCO2}{\\log{\\left(2 \\right)}} \\left(\\left(zref \\left(b_{z} \\left(\\left(a_{0, 0} + a_{1, 0} + a_{2, 0} + a_{3, 0} + a_{4, 0} + a_{5, 0}\\right) d_{z} + A_{z} z_{0}\\right) + zrefm\\right)^{-1}\\right) \\circ \\left(\\frac{1}{zref} b_{z} d_{z}\\right)\\right)\\end{matrix}\\right]$"
      ],
      "text/plain": [
       "Matrix([[(F2xCO2/log(2))*(HadamardProduct(zref*(b_z*((a[0, 0] + a[1, 0] + a[2, 0] + a[3, 0] + a[4, 0] + a[5, 0])*d_z + A_z*z_0) + zrefm)**(-1), 1/zref*b_z*d_z))]])"
      ]
     },
     "execution_count": 143,
     "metadata": {},
     "output_type": "execute_result"
    }
   ],
   "source": [
    "diff(F, a[0,0])"
   ]
  },
  {
   "cell_type": "code",
   "execution_count": 144,
   "metadata": {},
   "outputs": [
    {
     "data": {
      "text/plain": [
       "sympy.matrices.dense.MutableDenseMatrix"
      ]
     },
     "execution_count": 144,
     "metadata": {},
     "output_type": "execute_result"
    }
   ],
   "source": [
    "type(y_AT.diff(a[0,0]))"
   ]
  },
  {
   "cell_type": "code",
   "execution_count": 145,
   "metadata": {},
   "outputs": [
    {
     "data": {
      "text/latex": [
       "$\\displaystyle \\left[\\begin{matrix}b_{y} \\left(A_{y} y_{0} + d_{y} \\left[\\begin{matrix}\\frac{F2xCO2}{\\log{\\left(2 \\right)}} {\\left( d \\mapsto \\log{\\left(d \\right)} \\right)}_{\\circ}\\left({\\frac{1}{zref} \\left(b_{z} \\left(\\left(a_{0, 0} + a_{1, 0} + a_{2, 0} + a_{3, 0} + a_{4, 0} + a_{5, 0}\\right) d_{z} + A_{z} z_{0}\\right) + zrefm\\right)}\\right)\\end{matrix}\\right]\\right)\\end{matrix}\\right]$"
      ],
      "text/plain": [
       "Matrix([[b_y*(A_y*y_0 + d_y*Matrix([[(F2xCO2/log(2))*Lambda(_d, log(_d)).(1/zref*(b_z*((a[0, 0] + a[1, 0] + a[2, 0] + a[3, 0] + a[4, 0] + a[5, 0])*d_z + A_z*z_0) + zrefm))]]))]])"
      ]
     },
     "execution_count": 145,
     "metadata": {},
     "output_type": "execute_result"
    }
   ],
   "source": [
    "y_AT"
   ]
  },
  {
   "cell_type": "code",
   "execution_count": 146,
   "metadata": {},
   "outputs": [],
   "source": [
    "f = lambdify([a, b_y, d_y, A_y, b_z, d_z, A_z, z_0, y_0, F_2xCO2, z_ref, z_1750], y_AT, \"numpy\", cse =True)"
   ]
  },
  {
   "cell_type": "code",
   "execution_count": 147,
   "metadata": {},
   "outputs": [
    {
     "data": {
      "text/plain": [
       "array([[[[0.97833188]]]])"
      ]
     },
     "execution_count": 147,
     "metadata": {},
     "output_type": "execute_result"
    }
   ],
   "source": [
    "f(\n",
    "    np.zeros_like(a),\n",
    "    np.array([TD.bt]), \n",
    "    np.array([TD.d5]).T, \n",
    "    TD.At5, np.array([CC.bc]), \n",
    "    np.array([CC.dc5]).T, \n",
    "    CC.Ac5, \n",
    "    np.array([CC.initial_state]).T, \n",
    "    np.array([TD.initial_state]).T, \n",
    "    F_2XCO2, \n",
    "    C_1750,np.array([[C_1750]])\n",
    ")"
   ]
  },
  {
   "cell_type": "code",
   "execution_count": 148,
   "metadata": {},
   "outputs": [],
   "source": [
    "Grad = Matrix([[] *T])\n",
    "for i in range(T):\n",
    "    for j in range(N):\n",
    "        # print(z_AT.diff(a[j,i]))\n",
    "        Grad = Grad.col_join(y_AT.diff(a[j,i]))"
   ]
  },
  {
   "cell_type": "code",
   "execution_count": 149,
   "metadata": {},
   "outputs": [],
   "source": [
    "f_Grad = lambdify([a, b_y, d_y, A_y, b_z, d_z, A_z, z_0, y_0, F_2xCO2, z_ref, z_1750], Grad, \"numpy\", cse =True)"
   ]
  },
  {
   "cell_type": "code",
   "execution_count": 150,
   "metadata": {},
   "outputs": [],
   "source": [
    "x = f_Grad(\n",
    "    np.zeros_like(a),\n",
    "    np.array([TD.bt]), \n",
    "    np.array([TD.d5]).T, \n",
    "    TD.At5, np.array([CC.bc]), \n",
    "    np.array([CC.dc5]).T, \n",
    "    CC.Ac5, \n",
    "    np.array([CC.initial_state]).T, \n",
    "    np.array([TD.initial_state]).T, \n",
    "    F_2XCO2, \n",
    "    C_1750,np.array([[C_1750]])\n",
    ")\n",
    "\n"
   ]
  },
  {
   "cell_type": "code",
   "execution_count": 151,
   "metadata": {},
   "outputs": [
    {
     "data": {
      "text/plain": [
       "(6, 1, 1, 1)"
      ]
     },
     "execution_count": 151,
     "metadata": {},
     "output_type": "execute_result"
    }
   ],
   "source": [
    "x.shape"
   ]
  },
  {
   "cell_type": "code",
   "execution_count": 152,
   "metadata": {},
   "outputs": [
    {
     "data": {
      "text/plain": [
       "array([[[[0.00283803]]],\n",
       "\n",
       "\n",
       "       [[[0.00283803]]],\n",
       "\n",
       "\n",
       "       [[[0.00283803]]],\n",
       "\n",
       "\n",
       "       [[[0.00283803]]],\n",
       "\n",
       "\n",
       "       [[[0.00283803]]],\n",
       "\n",
       "\n",
       "       [[[0.00283803]]]])"
      ]
     },
     "execution_count": 152,
     "metadata": {},
     "output_type": "execute_result"
    }
   ],
   "source": [
    "x"
   ]
  },
  {
   "cell_type": "code",
   "execution_count": 55,
   "metadata": {},
   "outputs": [
    {
     "name": "stdout",
     "output_type": "stream",
     "text": [
      "ok\n"
     ]
    }
   ],
   "source": [
    "from sympy import *\n",
    "from models.geophysic_models import *\n",
    "import sympy\n",
    "N = 6\n",
    "T = 2\n",
    "\n",
    "CC = Carbon_JOOS()\n",
    "TD = Temp_Discret_Geoffroy()\n",
    "\n",
    "\n",
    "# Définissez vos variables et fonctions symboliques\n",
    "# t = sympy.Symbol('t', integer=True)\n",
    "z = zeros( 1, T)\n",
    "z_AT = ones( 1, T) * C_1750\n",
    "z_ratio = zeros( 1, T)\n",
    "\n",
    "F = zeros( 1, T)\n",
    "\n",
    "y = zeros( 1, T)\n",
    "y_AT = zeros( 1, T)\n",
    "\n",
    "D = zeros(1,T)\n",
    "B = zeros(1,T)\n",
    "\n",
    "PHI = zeros(1,T)\n",
    "a = MatrixSymbol('a', N,  T)\n",
    "\n",
    "sum_a = ones(1, a.shape[0]) * a\n",
    "\n",
    "sum_a = MatrixSymbol('E', 1,T)\n",
    "mz = CC.Ac5.shape[0]\n",
    "\n",
    "A_z = MatrixSymbol('A_z', mz, mz)\n",
    "b_z = MatrixSymbol('b_z', 1, mz)\n",
    "d_z = MatrixSymbol('d_z', mz, 1)\n",
    "\n",
    "my = TD.At5.shape[0]\n",
    "\n",
    "A_y = MatrixSymbol('A_y', my, my)\n",
    "b_y = MatrixSymbol('b_y', 1, my)\n",
    "d_y = MatrixSymbol('d_y', my, 1)\n",
    "\n",
    "\n",
    "F_2xCO2 = sympy.Symbol('F2xCO2')\n",
    "z_ref = sympy.Symbol('zref')\n",
    "z_1750 = sympy.MatrixSymbol('zrefm', 1,1)\n",
    "\n",
    "k = sympy.Symbol('k', integer=True)\n",
    "# Définissez vos fonctions\n",
    "\n",
    "z_0 = sympy.MatrixSymbol('z_0', mz, 1)\n",
    "z_ = z_0\n",
    "\n",
    "z_AT[0] = b_z @ z[0]\n",
    "y_0 = sympy.MatrixSymbol('y_0', my, 1)\n",
    "y_ = y_0\n",
    "y_AT[0] = b_y @ y[0]\n",
    "for t in range(0,T):\n",
    "\n",
    "    z_ = A_z @ z_ + d_z * sum_a[t] \n",
    "    \n",
    "    z[t] = z_\n",
    "    z_AT[t] = (b_z * z[t]) + z_1750\n",
    "    z_ratio[t] = (b_z @ z_ + z_1750)*  (1 / z_ref)  \n",
    "    F[t] = F_2xCO2/log(2) * z_ratio[t].applyfunc(log)\n",
    "\n",
    "    y_ = A_y @ y_ +   d_y @ F.col(t)\n",
    "    y[t] = y_\n",
    "    y_AT[t] = b_y @ y[t]\n",
    "\n",
    "\n",
    "benefice = Function('B')\n",
    "damage = Function('D')\n",
    "\n",
    "\n",
    "\n",
    "D = y_AT.applyfunc(damage)\n",
    "B = benefice(a)\n",
    "\n",
    "PHI = D *  ones( D.shape[1], 1) \n",
    "print('ok')\n",
    "\n",
    "# Imprimez vos fonctions\n"
   ]
  },
  {
   "cell_type": "code",
   "execution_count": 67,
   "metadata": {},
   "outputs": [
    {
     "data": {
      "text/latex": [
       "$\\displaystyle \\left[\\begin{matrix}b_{y} d_{y} \\left[\\begin{matrix}\\frac{F2xCO2}{\\log{\\left(2 \\right)}} \\left(\\left(zref \\left(b_{z} \\left(E_{0, 0} d_{z} + A_{z} z_{0}\\right) + zrefm\\right)^{-1}\\right) \\circ \\left(\\frac{1}{zref} b_{z} d_{z}\\right)\\right)\\end{matrix}\\right] & 0\\\\b_{y} \\left(A_{y} d_{y} \\left[\\begin{matrix}\\frac{F2xCO2}{\\log{\\left(2 \\right)}} \\left(\\left(zref \\left(b_{z} \\left(E_{0, 0} d_{z} + A_{z} z_{0}\\right) + zrefm\\right)^{-1}\\right) \\circ \\left(\\frac{1}{zref} b_{z} d_{z}\\right)\\right)\\end{matrix}\\right] + d_{y} \\left[\\begin{matrix}\\frac{F2xCO2}{\\log{\\left(2 \\right)}} \\left(\\left(zref \\left(b_{z} \\left(E_{0, 1} d_{z} + A_{z} \\left(E_{0, 0} d_{z} + A_{z} z_{0}\\right)\\right) + zrefm\\right)^{-1}\\right) \\circ \\left(\\frac{1}{zref} b_{z} A_{z} d_{z}\\right)\\right)\\end{matrix}\\right]\\right) & b_{y} d_{y} \\left[\\begin{matrix}\\frac{F2xCO2}{\\log{\\left(2 \\right)}} \\left(\\left(zref \\left(b_{z} \\left(E_{0, 1} d_{z} + A_{z} \\left(E_{0, 0} d_{z} + A_{z} z_{0}\\right)\\right) + zrefm\\right)^{-1}\\right) \\circ \\left(\\frac{1}{zref} b_{z} d_{z}\\right)\\right)\\end{matrix}\\right]\\end{matrix}\\right]$"
      ],
      "text/plain": [
       "Matrix([\n",
       "[                                                                                                                                                    b_y*d_y*Matrix([[(F2xCO2/log(2))*(HadamardProduct(zref*(b_z*(E[0, 0]*d_z + A_z*z_0) + zrefm)**(-1), 1/zref*b_z*d_z))]]),                                                                                                                                           0],\n",
       "[b_y*(A_y*d_y*Matrix([[(F2xCO2/log(2))*(HadamardProduct(zref*(b_z*(E[0, 0]*d_z + A_z*z_0) + zrefm)**(-1), 1/zref*b_z*d_z))]]) + d_y*Matrix([[(F2xCO2/log(2))*(HadamardProduct(zref*(b_z*(E[0, 1]*d_z + A_z*(E[0, 0]*d_z + A_z*z_0)) + zrefm)**(-1), 1/zref*b_z*A_z*d_z))]])), b_y*d_y*Matrix([[(F2xCO2/log(2))*(HadamardProduct(zref*(b_z*(E[0, 1]*d_z + A_z*(E[0, 0]*d_z + A_z*z_0)) + zrefm)**(-1), 1/zref*b_z*d_z))]])]])"
      ]
     },
     "execution_count": 67,
     "metadata": {},
     "output_type": "execute_result"
    }
   ],
   "source": [
    "y_AT.jacobian(sum_a)"
   ]
  },
  {
   "cell_type": "code",
   "execution_count": 66,
   "metadata": {},
   "outputs": [
    {
     "data": {
      "text/plain": [
       "(1, 1)"
      ]
     },
     "execution_count": 66,
     "metadata": {},
     "output_type": "execute_result"
    }
   ],
   "source": [
    "PHI.shape"
   ]
  },
  {
   "cell_type": "code",
   "execution_count": 63,
   "metadata": {},
   "outputs": [
    {
     "name": "stdout",
     "output_type": "stream",
     "text": [
      "(1, 2)\n"
     ]
    },
    {
     "data": {
      "text/latex": [
       "$\\displaystyle \\left[\\begin{matrix}\\left. \\frac{d}{d \\xi_{1}} D{\\left(\\xi_{1} \\right)} \\right|_{\\substack{ \\xi_{1}=b_{y} \\left(A_{y} \\left(A_{y} y_{0} + d_{y} \\left[\\begin{matrix}\\frac{F2xCO2}{\\log{\\left(2 \\right)}} {\\left( d \\mapsto \\log{\\left(d \\right)} \\right)}_{\\circ}\\left({\\frac{1}{zref} \\left(b_{z} \\left(E_{0, 0} d_{z} + A_{z} z_{0}\\right) + zrefm\\right)}\\right)\\end{matrix}\\right]\\right) + d_{y} \\left[\\begin{matrix}\\frac{F2xCO2}{\\log{\\left(2 \\right)}} {\\left( d \\mapsto \\log{\\left(d \\right)} \\right)}_{\\circ}\\left({\\frac{1}{zref} \\left(b_{z} \\left(E_{0, 1} d_{z} + A_{z} \\left(E_{0, 0} d_{z} + A_{z} z_{0}\\right)\\right) + zrefm\\right)}\\right)\\end{matrix}\\right]\\right) }} b_{y} \\left(A_{y} d_{y} \\left[\\begin{matrix}\\frac{F2xCO2}{\\log{\\left(2 \\right)}} \\left(\\left(zref \\left(b_{z} \\left(E_{0, 0} d_{z} + A_{z} z_{0}\\right) + zrefm\\right)^{-1}\\right) \\circ \\left(\\frac{1}{zref} b_{z} d_{z}\\right)\\right)\\end{matrix}\\right] + d_{y} \\left[\\begin{matrix}\\frac{F2xCO2}{\\log{\\left(2 \\right)}} \\left(\\left(zref \\left(b_{z} \\left(E_{0, 1} d_{z} + A_{z} \\left(E_{0, 0} d_{z} + A_{z} z_{0}\\right)\\right) + zrefm\\right)^{-1}\\right) \\circ \\left(\\frac{1}{zref} b_{z} A_{z} d_{z}\\right)\\right)\\end{matrix}\\right]\\right) + \\left. \\frac{d}{d \\xi_{1}} D{\\left(\\xi_{1} \\right)} \\right|_{\\substack{ \\xi_{1}=b_{y} \\left(A_{y} y_{0} + d_{y} \\left[\\begin{matrix}\\frac{F2xCO2}{\\log{\\left(2 \\right)}} {\\left( d \\mapsto \\log{\\left(d \\right)} \\right)}_{\\circ}\\left({\\frac{1}{zref} \\left(b_{z} \\left(E_{0, 0} d_{z} + A_{z} z_{0}\\right) + zrefm\\right)}\\right)\\end{matrix}\\right]\\right) }} b_{y} d_{y} \\left[\\begin{matrix}\\frac{F2xCO2}{\\log{\\left(2 \\right)}} \\left(\\left(zref \\left(b_{z} \\left(E_{0, 0} d_{z} + A_{z} z_{0}\\right) + zrefm\\right)^{-1}\\right) \\circ \\left(\\frac{1}{zref} b_{z} d_{z}\\right)\\right)\\end{matrix}\\right] & \\left. \\frac{d}{d \\xi_{1}} D{\\left(\\xi_{1} \\right)} \\right|_{\\substack{ \\xi_{1}=b_{y} \\left(A_{y} \\left(A_{y} y_{0} + d_{y} \\left[\\begin{matrix}\\frac{F2xCO2}{\\log{\\left(2 \\right)}} {\\left( d \\mapsto \\log{\\left(d \\right)} \\right)}_{\\circ}\\left({\\frac{1}{zref} \\left(b_{z} \\left(E_{0, 0} d_{z} + A_{z} z_{0}\\right) + zrefm\\right)}\\right)\\end{matrix}\\right]\\right) + d_{y} \\left[\\begin{matrix}\\frac{F2xCO2}{\\log{\\left(2 \\right)}} {\\left( d \\mapsto \\log{\\left(d \\right)} \\right)}_{\\circ}\\left({\\frac{1}{zref} \\left(b_{z} \\left(E_{0, 1} d_{z} + A_{z} \\left(E_{0, 0} d_{z} + A_{z} z_{0}\\right)\\right) + zrefm\\right)}\\right)\\end{matrix}\\right]\\right) }} b_{y} d_{y} \\left[\\begin{matrix}\\frac{F2xCO2}{\\log{\\left(2 \\right)}} \\left(\\left(zref \\left(b_{z} \\left(E_{0, 1} d_{z} + A_{z} \\left(E_{0, 0} d_{z} + A_{z} z_{0}\\right)\\right) + zrefm\\right)^{-1}\\right) \\circ \\left(\\frac{1}{zref} b_{z} d_{z}\\right)\\right)\\end{matrix}\\right]\\end{matrix}\\right]$"
      ],
      "text/plain": [
       "Matrix([[Subs(Derivative(D(_xi_1), _xi_1), _xi_1, b_y*(A_y*(A_y*y_0 + d_y*Matrix([[(F2xCO2/log(2))*Lambda(_d, log(_d)).(1/zref*(b_z*(E[0, 0]*d_z + A_z*z_0) + zrefm))]])) + d_y*Matrix([[(F2xCO2/log(2))*Lambda(_d, log(_d)).(1/zref*(b_z*(E[0, 1]*d_z + A_z*(E[0, 0]*d_z + A_z*z_0)) + zrefm))]])))*b_y*(A_y*d_y*Matrix([[(F2xCO2/log(2))*(HadamardProduct(zref*(b_z*(E[0, 0]*d_z + A_z*z_0) + zrefm)**(-1), 1/zref*b_z*d_z))]]) + d_y*Matrix([[(F2xCO2/log(2))*(HadamardProduct(zref*(b_z*(E[0, 1]*d_z + A_z*(E[0, 0]*d_z + A_z*z_0)) + zrefm)**(-1), 1/zref*b_z*A_z*d_z))]])) + Subs(Derivative(D(_xi_1), _xi_1), _xi_1, b_y*(A_y*y_0 + d_y*Matrix([[(F2xCO2/log(2))*Lambda(_d, log(_d)).(1/zref*(b_z*(E[0, 0]*d_z + A_z*z_0) + zrefm))]])))*b_y*d_y*Matrix([[(F2xCO2/log(2))*(HadamardProduct(zref*(b_z*(E[0, 0]*d_z + A_z*z_0) + zrefm)**(-1), 1/zref*b_z*d_z))]]), Subs(Derivative(D(_xi_1), _xi_1), _xi_1, b_y*(A_y*(A_y*y_0 + d_y*Matrix([[(F2xCO2/log(2))*Lambda(_d, log(_d)).(1/zref*(b_z*(E[0, 0]*d_z + A_z*z_0) + zrefm))]])) + d_y*Matrix([[(F2xCO2/log(2))*Lambda(_d, log(_d)).(1/zref*(b_z*(E[0, 1]*d_z + A_z*(E[0, 0]*d_z + A_z*z_0)) + zrefm))]])))*b_y*d_y*Matrix([[(F2xCO2/log(2))*(HadamardProduct(zref*(b_z*(E[0, 1]*d_z + A_z*(E[0, 0]*d_z + A_z*z_0)) + zrefm)**(-1), 1/zref*b_z*d_z))]])]])"
      ]
     },
     "execution_count": 63,
     "metadata": {},
     "output_type": "execute_result"
    }
   ],
   "source": [
    "jac_phi = PHI.jacobian(sum_a)\n",
    "print(jac_phi.shape)\n",
    "jac_phi"
   ]
  },
  {
   "cell_type": "code",
   "execution_count": 65,
   "metadata": {},
   "outputs": [
    {
     "ename": "SyntaxError",
     "evalue": "invalid syntax (<lambdifygenerated-8>, line 5)",
     "output_type": "error",
     "traceback": [
      "Traceback \u001b[1;36m(most recent call last)\u001b[0m:\n",
      "\u001b[0m  File \u001b[0;32mc:\\ProgramData\\Anaconda3\\envs\\CO2\\lib\\site-packages\\IPython\\core\\interactiveshell.py:3433\u001b[0m in \u001b[0;35mrun_code\u001b[0m\n    exec(code_obj, self.user_global_ns, self.user_ns)\u001b[0m\n",
      "\u001b[0m  Cell \u001b[0;32mIn[65], line 1\u001b[0m\n    lambdify([sum_a, b_y, d_y, A_y, b_z, d_z, A_z, z_0, y_0, F_2xCO2, z_ref, z_1750], jac_phi)\u001b[0m\n",
      "\u001b[1;36m  File \u001b[1;32m~\\AppData\\Roaming\\Python\\Python39\\site-packages\\sympy\\utilities\\lambdify.py:888\u001b[1;36m in \u001b[1;35mlambdify\u001b[1;36m\n\u001b[1;33m    c = compile(funcstr, filename, 'exec')\u001b[1;36m\n",
      "\u001b[1;36m  File \u001b[1;32m<lambdifygenerated-8>:5\u001b[1;36m\u001b[0m\n\u001b[1;33m    array([[(b_y).dot((A_y).dot(d_y).dot(array([[(multiply((inv((b_z).dot((d_z).dot(E[0, 0]) + (A_z).dot(z_0)) + zrefm)).dot(zref), (b_z).dot(d_z).dot(zref**(-1.0)))).dot(F2xCO2/log(2))]])) + (d_y).dot(array([[(multiply((inv((b_z).dot((d_z).dot(E[0, 1]) + (A_z).dot((d_z).dot(E[0, 0]) + (A_z).dot(z_0))) + zrefm)).dot(zref), (b_z).dot(A_z).dot(d_z).dot(zref**(-1.0)))).dot(F2xCO2/log(2))]]))).dot(Subs(Derivative(D(_xi_1), _xi_1), xi_1_1773921579844455994, (b_y).dot((A_y).dot((A_y).dot(y_0) + (d_y).dot(array([[(Lambda(_d, log(_d)).(((b_z).dot((d_z).dot(E[0, 0]) + (A_z).dot(z_0)) + zrefm).dot(zref**(-1.0)))).dot(F2xCO2/log(2))]]))) + (d_y).dot(array([[(Lambda(_d, log(_d)).(((b_z).dot((d_z).dot(E[0, 1]) + (A_z).dot((d_z).dot(E[0, 0]) + (A_z).dot(z_0))) + zrefm).dot(zref**(-1.0)))).dot(F2xCO2/log(2))]]))))) + (b_y).dot(d_y).dot(array([[(multiply((inv((b_z).dot((d_z).dot(E[0, 0]) + (A_z).dot(z_0)) + zrefm)).dot(zref), (b_z).dot(d_z).dot(zref**(-1.0)))).dot(F2xCO2/log(2))]])).dot(Subs(Derivative(D(_xi_1), _xi_1), xi_1_6637171090608790726, (b_y).dot((A_y).dot(y_0) + (d_y).dot(array([[(Lambda(_d, log(_d)).(((b_z).dot((d_z).dot(E[0, 0]) + (A_z).dot(z_0)) + zrefm).dot(zref**(-1.0)))).dot(F2xCO2/log(2))]]))))), (b_y).dot(d_y).dot(array([[(multiply((inv((b_z).dot((d_z).dot(E[0, 1]) + (A_z).dot((d_z).dot(E[0, 0]) + (A_z).dot(z_0))) + zrefm)).dot(zref), (b_z).dot(d_z).dot(zref**(-1.0)))).dot(F2xCO2/log(2))]])).dot(Subs(Derivative(D(_xi_1), _xi_1), xi_1_1773921579844455994, (b_y).dot((A_y).dot((A_y).dot(y_0) + (d_y).dot(array([[(Lambda(_d, log(_d)).(((b_z).dot((d_z).dot(E[0, 0]) + (A_z).dot(z_0)) + zrefm).dot(zref**(-1.0)))).dot(F2xCO2/log(2))]]))) + (d_y).dot(array([[(Lambda(_d, log(_d)).(((b_z).dot((d_z).dot(E[0, 1]) + (A_z).dot((d_z).dot(E[0, 0]) + (A_z).dot(z_0))) + zrefm).dot(zref**(-1.0)))).dot(F2xCO2/log(2))]])))))]]))\u001b[0m\n\u001b[1;37m                                                                                                                                                                                                                                                                                                                                                                                                                                                                                                                                                     ^\u001b[0m\n\u001b[1;31mSyntaxError\u001b[0m\u001b[1;31m:\u001b[0m invalid syntax\n"
     ]
    }
   ],
   "source": [
    "lambdify([sum_a, b_y, d_y, A_y, b_z, d_z, A_z, z_0, y_0, F_2xCO2, z_ref, z_1750], jac_phi)"
   ]
  },
  {
   "cell_type": "code",
   "execution_count": 30,
   "metadata": {},
   "outputs": [
    {
     "data": {
      "text/latex": [
       "$\\displaystyle \\left[\\begin{matrix}b_{y} \\left(A_{y} y_{0} + d_{y} \\left[\\begin{matrix}\\frac{F2xCO2}{\\log{\\left(2 \\right)}} {\\left( d \\mapsto \\log{\\left(d \\right)} \\right)}_{\\circ}\\left({\\frac{1}{zref} \\left(b_{z} \\left(E_{0, 0} d_{z} + A_{z} z_{0}\\right) + zrefm\\right)}\\right)\\end{matrix}\\right]\\right) & b_{y} \\left(A_{y} \\left(A_{y} y_{0} + d_{y} \\left[\\begin{matrix}\\frac{F2xCO2}{\\log{\\left(2 \\right)}} {\\left( d \\mapsto \\log{\\left(d \\right)} \\right)}_{\\circ}\\left({\\frac{1}{zref} \\left(b_{z} \\left(E_{0, 0} d_{z} + A_{z} z_{0}\\right) + zrefm\\right)}\\right)\\end{matrix}\\right]\\right) + d_{y} \\left[\\begin{matrix}\\frac{F2xCO2}{\\log{\\left(2 \\right)}} {\\left( d \\mapsto \\log{\\left(d \\right)} \\right)}_{\\circ}\\left({\\frac{1}{zref} \\left(b_{z} \\left(E_{0, 1} d_{z} + A_{z} \\left(E_{0, 0} d_{z} + A_{z} z_{0}\\right)\\right) + zrefm\\right)}\\right)\\end{matrix}\\right]\\right) & b_{y} \\left(A_{y} \\left(A_{y} \\left(A_{y} y_{0} + d_{y} \\left[\\begin{matrix}\\frac{F2xCO2}{\\log{\\left(2 \\right)}} {\\left( d \\mapsto \\log{\\left(d \\right)} \\right)}_{\\circ}\\left({\\frac{1}{zref} \\left(b_{z} \\left(E_{0, 0} d_{z} + A_{z} z_{0}\\right) + zrefm\\right)}\\right)\\end{matrix}\\right]\\right) + d_{y} \\left[\\begin{matrix}\\frac{F2xCO2}{\\log{\\left(2 \\right)}} {\\left( d \\mapsto \\log{\\left(d \\right)} \\right)}_{\\circ}\\left({\\frac{1}{zref} \\left(b_{z} \\left(E_{0, 1} d_{z} + A_{z} \\left(E_{0, 0} d_{z} + A_{z} z_{0}\\right)\\right) + zrefm\\right)}\\right)\\end{matrix}\\right]\\right) + d_{y} \\left[\\begin{matrix}\\frac{F2xCO2}{\\log{\\left(2 \\right)}} {\\left( d \\mapsto \\log{\\left(d \\right)} \\right)}_{\\circ}\\left({\\frac{1}{zref} \\left(b_{z} \\left(E_{0, 2} d_{z} + A_{z} \\left(E_{0, 1} d_{z} + A_{z} \\left(E_{0, 0} d_{z} + A_{z} z_{0}\\right)\\right)\\right) + zrefm\\right)}\\right)\\end{matrix}\\right]\\right)\\end{matrix}\\right]$"
      ],
      "text/plain": [
       "Matrix([[b_y*(A_y*y_0 + d_y*Matrix([[(F2xCO2/log(2))*Lambda(_d, log(_d)).(1/zref*(b_z*(E[0, 0]*d_z + A_z*z_0) + zrefm))]])), b_y*(A_y*(A_y*y_0 + d_y*Matrix([[(F2xCO2/log(2))*Lambda(_d, log(_d)).(1/zref*(b_z*(E[0, 0]*d_z + A_z*z_0) + zrefm))]])) + d_y*Matrix([[(F2xCO2/log(2))*Lambda(_d, log(_d)).(1/zref*(b_z*(E[0, 1]*d_z + A_z*(E[0, 0]*d_z + A_z*z_0)) + zrefm))]])), b_y*(A_y*(A_y*(A_y*y_0 + d_y*Matrix([[(F2xCO2/log(2))*Lambda(_d, log(_d)).(1/zref*(b_z*(E[0, 0]*d_z + A_z*z_0) + zrefm))]])) + d_y*Matrix([[(F2xCO2/log(2))*Lambda(_d, log(_d)).(1/zref*(b_z*(E[0, 1]*d_z + A_z*(E[0, 0]*d_z + A_z*z_0)) + zrefm))]])) + d_y*Matrix([[(F2xCO2/log(2))*Lambda(_d, log(_d)).(1/zref*(b_z*(E[0, 2]*d_z + A_z*(E[0, 1]*d_z + A_z*(E[0, 0]*d_z + A_z*z_0))) + zrefm))]]))]])"
      ]
     },
     "execution_count": 30,
     "metadata": {},
     "output_type": "execute_result"
    }
   ],
   "source": [
    "y_AT"
   ]
  },
  {
   "cell_type": "code",
   "execution_count": 31,
   "metadata": {},
   "outputs": [
    {
     "ename": "NotImplementedError",
     "evalue": "noncommutative scalars in MatMul are not supported.",
     "output_type": "error",
     "traceback": [
      "\u001b[1;31m---------------------------------------------------------------------------\u001b[0m",
      "\u001b[1;31mNotImplementedError\u001b[0m                       Traceback (most recent call last)",
      "Cell \u001b[1;32mIn[31], line 1\u001b[0m\n\u001b[1;32m----> 1\u001b[0m collect(y_AT, A_y)\n",
      "File \u001b[1;32m~\\AppData\\Roaming\\Python\\Python39\\site-packages\\sympy\\simplify\\radsimp.py:184\u001b[0m, in \u001b[0;36mcollect\u001b[1;34m(expr, syms, func, evaluate, exact, distribute_order_term)\u001b[0m\n\u001b[0;32m    182\u001b[0m reps \u001b[39m=\u001b[39m \u001b[39mdict\u001b[39m(\u001b[39mzip\u001b[39m(nonsyms, [Dummy(\u001b[39m*\u001b[39m\u001b[39m*\u001b[39massumptions(i)) \u001b[39mfor\u001b[39;00m i \u001b[39min\u001b[39;00m nonsyms]))\n\u001b[0;32m    183\u001b[0m syms \u001b[39m=\u001b[39m [reps\u001b[39m.\u001b[39mget(s, s) \u001b[39mfor\u001b[39;00m s \u001b[39min\u001b[39;00m syms]\n\u001b[1;32m--> 184\u001b[0m rv \u001b[39m=\u001b[39m collect(expr\u001b[39m.\u001b[39;49msubs(reps), syms,\n\u001b[0;32m    185\u001b[0m     func\u001b[39m=\u001b[39mfunc, evaluate\u001b[39m=\u001b[39mevaluate, exact\u001b[39m=\u001b[39mexact,\n\u001b[0;32m    186\u001b[0m     distribute_order_term\u001b[39m=\u001b[39mdistribute_order_term)\n\u001b[0;32m    187\u001b[0m urep \u001b[39m=\u001b[39m {v: k \u001b[39mfor\u001b[39;00m k, v \u001b[39min\u001b[39;00m reps\u001b[39m.\u001b[39mitems()}\n\u001b[0;32m    188\u001b[0m \u001b[39mif\u001b[39;00m \u001b[39mnot\u001b[39;00m \u001b[39misinstance\u001b[39m(rv, \u001b[39mdict\u001b[39m):\n",
      "File \u001b[1;32m~\\AppData\\Roaming\\Python\\Python39\\site-packages\\sympy\\matrices\\common.py:2426\u001b[0m, in \u001b[0;36mMatrixOperations.subs\u001b[1;34m(self, *args, **kwargs)\u001b[0m\n\u001b[0;32m   2423\u001b[0m \u001b[39mif\u001b[39;00m \u001b[39mlen\u001b[39m(args) \u001b[39m==\u001b[39m \u001b[39m1\u001b[39m \u001b[39mand\u001b[39;00m  \u001b[39mnot\u001b[39;00m \u001b[39misinstance\u001b[39m(args[\u001b[39m0\u001b[39m], (\u001b[39mdict\u001b[39m, \u001b[39mset\u001b[39m)) \u001b[39mand\u001b[39;00m \u001b[39miter\u001b[39m(args[\u001b[39m0\u001b[39m]) \u001b[39mand\u001b[39;00m \u001b[39mnot\u001b[39;00m is_sequence(args[\u001b[39m0\u001b[39m]):\n\u001b[0;32m   2424\u001b[0m     args \u001b[39m=\u001b[39m (\u001b[39mlist\u001b[39m(args[\u001b[39m0\u001b[39m]),)\n\u001b[1;32m-> 2426\u001b[0m \u001b[39mreturn\u001b[39;00m \u001b[39mself\u001b[39;49m\u001b[39m.\u001b[39;49mapplyfunc(\u001b[39mlambda\u001b[39;49;00m x: x\u001b[39m.\u001b[39;49msubs(\u001b[39m*\u001b[39;49margs, \u001b[39m*\u001b[39;49m\u001b[39m*\u001b[39;49mkwargs))\n",
      "File \u001b[1;32m~\\AppData\\Roaming\\Python\\Python39\\site-packages\\sympy\\matrices\\common.py:2058\u001b[0m, in \u001b[0;36mMatrixOperations.applyfunc\u001b[1;34m(self, f)\u001b[0m\n\u001b[0;32m   2055\u001b[0m \u001b[39mif\u001b[39;00m \u001b[39mnot\u001b[39;00m callable(f):\n\u001b[0;32m   2056\u001b[0m     \u001b[39mraise\u001b[39;00m \u001b[39mTypeError\u001b[39;00m(\u001b[39m\"\u001b[39m\u001b[39m`f` must be callable.\u001b[39m\u001b[39m\"\u001b[39m)\n\u001b[1;32m-> 2058\u001b[0m \u001b[39mreturn\u001b[39;00m \u001b[39mself\u001b[39;49m\u001b[39m.\u001b[39;49m_eval_applyfunc(f)\n",
      "File \u001b[1;32m~\\AppData\\Roaming\\Python\\Python39\\site-packages\\sympy\\matrices\\common.py:2000\u001b[0m, in \u001b[0;36mMatrixOperations._eval_applyfunc\u001b[1;34m(self, f)\u001b[0m\n\u001b[0;32m   1999\u001b[0m \u001b[39mdef\u001b[39;00m \u001b[39m_eval_applyfunc\u001b[39m(\u001b[39mself\u001b[39m, f):\n\u001b[1;32m-> 2000\u001b[0m     out \u001b[39m=\u001b[39m \u001b[39mself\u001b[39m\u001b[39m.\u001b[39m_new(\u001b[39mself\u001b[39m\u001b[39m.\u001b[39mrows, \u001b[39mself\u001b[39m\u001b[39m.\u001b[39mcols, [f(x) \u001b[39mfor\u001b[39;00m x \u001b[39min\u001b[39;00m \u001b[39mself\u001b[39m])\n\u001b[0;32m   2001\u001b[0m     \u001b[39mreturn\u001b[39;00m out\n",
      "File \u001b[1;32m~\\AppData\\Roaming\\Python\\Python39\\site-packages\\sympy\\matrices\\common.py:2000\u001b[0m, in \u001b[0;36m<listcomp>\u001b[1;34m(.0)\u001b[0m\n\u001b[0;32m   1999\u001b[0m \u001b[39mdef\u001b[39;00m \u001b[39m_eval_applyfunc\u001b[39m(\u001b[39mself\u001b[39m, f):\n\u001b[1;32m-> 2000\u001b[0m     out \u001b[39m=\u001b[39m \u001b[39mself\u001b[39m\u001b[39m.\u001b[39m_new(\u001b[39mself\u001b[39m\u001b[39m.\u001b[39mrows, \u001b[39mself\u001b[39m\u001b[39m.\u001b[39mcols, [f(x) \u001b[39mfor\u001b[39;00m x \u001b[39min\u001b[39;00m \u001b[39mself\u001b[39m])\n\u001b[0;32m   2001\u001b[0m     \u001b[39mreturn\u001b[39;00m out\n",
      "File \u001b[1;32m~\\AppData\\Roaming\\Python\\Python39\\site-packages\\sympy\\matrices\\common.py:2426\u001b[0m, in \u001b[0;36mMatrixOperations.subs.<locals>.<lambda>\u001b[1;34m(x)\u001b[0m\n\u001b[0;32m   2423\u001b[0m \u001b[39mif\u001b[39;00m \u001b[39mlen\u001b[39m(args) \u001b[39m==\u001b[39m \u001b[39m1\u001b[39m \u001b[39mand\u001b[39;00m  \u001b[39mnot\u001b[39;00m \u001b[39misinstance\u001b[39m(args[\u001b[39m0\u001b[39m], (\u001b[39mdict\u001b[39m, \u001b[39mset\u001b[39m)) \u001b[39mand\u001b[39;00m \u001b[39miter\u001b[39m(args[\u001b[39m0\u001b[39m]) \u001b[39mand\u001b[39;00m \u001b[39mnot\u001b[39;00m is_sequence(args[\u001b[39m0\u001b[39m]):\n\u001b[0;32m   2424\u001b[0m     args \u001b[39m=\u001b[39m (\u001b[39mlist\u001b[39m(args[\u001b[39m0\u001b[39m]),)\n\u001b[1;32m-> 2426\u001b[0m \u001b[39mreturn\u001b[39;00m \u001b[39mself\u001b[39m\u001b[39m.\u001b[39mapplyfunc(\u001b[39mlambda\u001b[39;00m x: x\u001b[39m.\u001b[39msubs(\u001b[39m*\u001b[39margs, \u001b[39m*\u001b[39m\u001b[39m*\u001b[39mkwargs))\n",
      "File \u001b[1;32m~\\AppData\\Roaming\\Python\\Python39\\site-packages\\sympy\\core\\basic.py:997\u001b[0m, in \u001b[0;36mBasic.subs\u001b[1;34m(self, *args, **kwargs)\u001b[0m\n\u001b[0;32m    995\u001b[0m rv \u001b[39m=\u001b[39m \u001b[39mself\u001b[39m\n\u001b[0;32m    996\u001b[0m \u001b[39mfor\u001b[39;00m old, new \u001b[39min\u001b[39;00m sequence:\n\u001b[1;32m--> 997\u001b[0m     rv \u001b[39m=\u001b[39m rv\u001b[39m.\u001b[39m_subs(old, new, \u001b[39m*\u001b[39m\u001b[39m*\u001b[39mkwargs)\n\u001b[0;32m    998\u001b[0m     \u001b[39mif\u001b[39;00m \u001b[39mnot\u001b[39;00m \u001b[39misinstance\u001b[39m(rv, Basic):\n\u001b[0;32m    999\u001b[0m         \u001b[39mbreak\u001b[39;00m\n",
      "File \u001b[1;32m~\\AppData\\Roaming\\Python\\Python39\\site-packages\\sympy\\core\\cache.py:70\u001b[0m, in \u001b[0;36m__cacheit.<locals>.func_wrapper.<locals>.wrapper\u001b[1;34m(*args, **kwargs)\u001b[0m\n\u001b[0;32m     67\u001b[0m \u001b[39m@wraps\u001b[39m(func)\n\u001b[0;32m     68\u001b[0m \u001b[39mdef\u001b[39;00m \u001b[39mwrapper\u001b[39m(\u001b[39m*\u001b[39margs, \u001b[39m*\u001b[39m\u001b[39m*\u001b[39mkwargs):\n\u001b[0;32m     69\u001b[0m     \u001b[39mtry\u001b[39;00m:\n\u001b[1;32m---> 70\u001b[0m         retval \u001b[39m=\u001b[39m cfunc(\u001b[39m*\u001b[39margs, \u001b[39m*\u001b[39m\u001b[39m*\u001b[39mkwargs)\n\u001b[0;32m     71\u001b[0m     \u001b[39mexcept\u001b[39;00m \u001b[39mTypeError\u001b[39;00m \u001b[39mas\u001b[39;00m e:\n\u001b[0;32m     72\u001b[0m         \u001b[39mif\u001b[39;00m \u001b[39mnot\u001b[39;00m e\u001b[39m.\u001b[39margs \u001b[39mor\u001b[39;00m \u001b[39mnot\u001b[39;00m e\u001b[39m.\u001b[39margs[\u001b[39m0\u001b[39m]\u001b[39m.\u001b[39mstartswith(\u001b[39m'\u001b[39m\u001b[39munhashable type:\u001b[39m\u001b[39m'\u001b[39m):\n",
      "File \u001b[1;32m~\\AppData\\Roaming\\Python\\Python39\\site-packages\\sympy\\core\\basic.py:1111\u001b[0m, in \u001b[0;36mBasic._subs\u001b[1;34m(self, old, new, **hints)\u001b[0m\n\u001b[0;32m   1109\u001b[0m rv \u001b[39m=\u001b[39m \u001b[39mself\u001b[39m\u001b[39m.\u001b[39m_eval_subs(old, new)\n\u001b[0;32m   1110\u001b[0m \u001b[39mif\u001b[39;00m rv \u001b[39mis\u001b[39;00m \u001b[39mNone\u001b[39;00m:\n\u001b[1;32m-> 1111\u001b[0m     rv \u001b[39m=\u001b[39m fallback(\u001b[39mself\u001b[39;49m, old, new)\n\u001b[0;32m   1112\u001b[0m \u001b[39mreturn\u001b[39;00m rv\n",
      "File \u001b[1;32m~\\AppData\\Roaming\\Python\\Python39\\site-packages\\sympy\\core\\basic.py:1083\u001b[0m, in \u001b[0;36mBasic._subs.<locals>.fallback\u001b[1;34m(self, old, new)\u001b[0m\n\u001b[0;32m   1081\u001b[0m \u001b[39mif\u001b[39;00m \u001b[39mnot\u001b[39;00m \u001b[39mhasattr\u001b[39m(arg, \u001b[39m'\u001b[39m\u001b[39m_eval_subs\u001b[39m\u001b[39m'\u001b[39m):\n\u001b[0;32m   1082\u001b[0m     \u001b[39mcontinue\u001b[39;00m\n\u001b[1;32m-> 1083\u001b[0m arg \u001b[39m=\u001b[39m arg\u001b[39m.\u001b[39m_subs(old, new, \u001b[39m*\u001b[39m\u001b[39m*\u001b[39mhints)\n\u001b[0;32m   1084\u001b[0m \u001b[39mif\u001b[39;00m \u001b[39mnot\u001b[39;00m _aresame(arg, args[i]):\n\u001b[0;32m   1085\u001b[0m     hit \u001b[39m=\u001b[39m \u001b[39mTrue\u001b[39;00m\n",
      "File \u001b[1;32m~\\AppData\\Roaming\\Python\\Python39\\site-packages\\sympy\\core\\cache.py:70\u001b[0m, in \u001b[0;36m__cacheit.<locals>.func_wrapper.<locals>.wrapper\u001b[1;34m(*args, **kwargs)\u001b[0m\n\u001b[0;32m     67\u001b[0m \u001b[39m@wraps\u001b[39m(func)\n\u001b[0;32m     68\u001b[0m \u001b[39mdef\u001b[39;00m \u001b[39mwrapper\u001b[39m(\u001b[39m*\u001b[39margs, \u001b[39m*\u001b[39m\u001b[39m*\u001b[39mkwargs):\n\u001b[0;32m     69\u001b[0m     \u001b[39mtry\u001b[39;00m:\n\u001b[1;32m---> 70\u001b[0m         retval \u001b[39m=\u001b[39m cfunc(\u001b[39m*\u001b[39margs, \u001b[39m*\u001b[39m\u001b[39m*\u001b[39mkwargs)\n\u001b[0;32m     71\u001b[0m     \u001b[39mexcept\u001b[39;00m \u001b[39mTypeError\u001b[39;00m \u001b[39mas\u001b[39;00m e:\n\u001b[0;32m     72\u001b[0m         \u001b[39mif\u001b[39;00m \u001b[39mnot\u001b[39;00m e\u001b[39m.\u001b[39margs \u001b[39mor\u001b[39;00m \u001b[39mnot\u001b[39;00m e\u001b[39m.\u001b[39margs[\u001b[39m0\u001b[39m]\u001b[39m.\u001b[39mstartswith(\u001b[39m'\u001b[39m\u001b[39munhashable type:\u001b[39m\u001b[39m'\u001b[39m):\n",
      "File \u001b[1;32m~\\AppData\\Roaming\\Python\\Python39\\site-packages\\sympy\\core\\basic.py:1111\u001b[0m, in \u001b[0;36mBasic._subs\u001b[1;34m(self, old, new, **hints)\u001b[0m\n\u001b[0;32m   1109\u001b[0m rv \u001b[39m=\u001b[39m \u001b[39mself\u001b[39m\u001b[39m.\u001b[39m_eval_subs(old, new)\n\u001b[0;32m   1110\u001b[0m \u001b[39mif\u001b[39;00m rv \u001b[39mis\u001b[39;00m \u001b[39mNone\u001b[39;00m:\n\u001b[1;32m-> 1111\u001b[0m     rv \u001b[39m=\u001b[39m fallback(\u001b[39mself\u001b[39;49m, old, new)\n\u001b[0;32m   1112\u001b[0m \u001b[39mreturn\u001b[39;00m rv\n",
      "File \u001b[1;32m~\\AppData\\Roaming\\Python\\Python39\\site-packages\\sympy\\core\\basic.py:1083\u001b[0m, in \u001b[0;36mBasic._subs.<locals>.fallback\u001b[1;34m(self, old, new)\u001b[0m\n\u001b[0;32m   1081\u001b[0m \u001b[39mif\u001b[39;00m \u001b[39mnot\u001b[39;00m \u001b[39mhasattr\u001b[39m(arg, \u001b[39m'\u001b[39m\u001b[39m_eval_subs\u001b[39m\u001b[39m'\u001b[39m):\n\u001b[0;32m   1082\u001b[0m     \u001b[39mcontinue\u001b[39;00m\n\u001b[1;32m-> 1083\u001b[0m arg \u001b[39m=\u001b[39m arg\u001b[39m.\u001b[39m_subs(old, new, \u001b[39m*\u001b[39m\u001b[39m*\u001b[39mhints)\n\u001b[0;32m   1084\u001b[0m \u001b[39mif\u001b[39;00m \u001b[39mnot\u001b[39;00m _aresame(arg, args[i]):\n\u001b[0;32m   1085\u001b[0m     hit \u001b[39m=\u001b[39m \u001b[39mTrue\u001b[39;00m\n",
      "File \u001b[1;32m~\\AppData\\Roaming\\Python\\Python39\\site-packages\\sympy\\core\\cache.py:70\u001b[0m, in \u001b[0;36m__cacheit.<locals>.func_wrapper.<locals>.wrapper\u001b[1;34m(*args, **kwargs)\u001b[0m\n\u001b[0;32m     67\u001b[0m \u001b[39m@wraps\u001b[39m(func)\n\u001b[0;32m     68\u001b[0m \u001b[39mdef\u001b[39;00m \u001b[39mwrapper\u001b[39m(\u001b[39m*\u001b[39margs, \u001b[39m*\u001b[39m\u001b[39m*\u001b[39mkwargs):\n\u001b[0;32m     69\u001b[0m     \u001b[39mtry\u001b[39;00m:\n\u001b[1;32m---> 70\u001b[0m         retval \u001b[39m=\u001b[39m cfunc(\u001b[39m*\u001b[39margs, \u001b[39m*\u001b[39m\u001b[39m*\u001b[39mkwargs)\n\u001b[0;32m     71\u001b[0m     \u001b[39mexcept\u001b[39;00m \u001b[39mTypeError\u001b[39;00m \u001b[39mas\u001b[39;00m e:\n\u001b[0;32m     72\u001b[0m         \u001b[39mif\u001b[39;00m \u001b[39mnot\u001b[39;00m e\u001b[39m.\u001b[39margs \u001b[39mor\u001b[39;00m \u001b[39mnot\u001b[39;00m e\u001b[39m.\u001b[39margs[\u001b[39m0\u001b[39m]\u001b[39m.\u001b[39mstartswith(\u001b[39m'\u001b[39m\u001b[39munhashable type:\u001b[39m\u001b[39m'\u001b[39m):\n",
      "File \u001b[1;32m~\\AppData\\Roaming\\Python\\Python39\\site-packages\\sympy\\core\\basic.py:1111\u001b[0m, in \u001b[0;36mBasic._subs\u001b[1;34m(self, old, new, **hints)\u001b[0m\n\u001b[0;32m   1109\u001b[0m rv \u001b[39m=\u001b[39m \u001b[39mself\u001b[39m\u001b[39m.\u001b[39m_eval_subs(old, new)\n\u001b[0;32m   1110\u001b[0m \u001b[39mif\u001b[39;00m rv \u001b[39mis\u001b[39;00m \u001b[39mNone\u001b[39;00m:\n\u001b[1;32m-> 1111\u001b[0m     rv \u001b[39m=\u001b[39m fallback(\u001b[39mself\u001b[39;49m, old, new)\n\u001b[0;32m   1112\u001b[0m \u001b[39mreturn\u001b[39;00m rv\n",
      "File \u001b[1;32m~\\AppData\\Roaming\\Python\\Python39\\site-packages\\sympy\\core\\basic.py:1088\u001b[0m, in \u001b[0;36mBasic._subs.<locals>.fallback\u001b[1;34m(self, old, new)\u001b[0m\n\u001b[0;32m   1086\u001b[0m         args[i] \u001b[39m=\u001b[39m arg\n\u001b[0;32m   1087\u001b[0m \u001b[39mif\u001b[39;00m hit:\n\u001b[1;32m-> 1088\u001b[0m     rv \u001b[39m=\u001b[39m \u001b[39mself\u001b[39;49m\u001b[39m.\u001b[39;49mfunc(\u001b[39m*\u001b[39;49margs)\n\u001b[0;32m   1089\u001b[0m     hack2 \u001b[39m=\u001b[39m hints\u001b[39m.\u001b[39mget(\u001b[39m'\u001b[39m\u001b[39mhack2\u001b[39m\u001b[39m'\u001b[39m, \u001b[39mFalse\u001b[39;00m)\n\u001b[0;32m   1090\u001b[0m     \u001b[39mif\u001b[39;00m hack2 \u001b[39mand\u001b[39;00m \u001b[39mself\u001b[39m\u001b[39m.\u001b[39mis_Mul \u001b[39mand\u001b[39;00m \u001b[39mnot\u001b[39;00m rv\u001b[39m.\u001b[39mis_Mul:  \u001b[39m# 2-arg hack\u001b[39;00m\n",
      "File \u001b[1;32m~\\AppData\\Roaming\\Python\\Python39\\site-packages\\sympy\\matrices\\expressions\\matmul.py:51\u001b[0m, in \u001b[0;36mMatMul.__new__\u001b[1;34m(cls, evaluate, check, _sympify, *args)\u001b[0m\n\u001b[0;32m     49\u001b[0m     args \u001b[39m=\u001b[39m \u001b[39mlist\u001b[39m(\u001b[39mmap\u001b[39m(sympify, args))\n\u001b[0;32m     50\u001b[0m obj \u001b[39m=\u001b[39m Basic\u001b[39m.\u001b[39m\u001b[39m__new__\u001b[39m(\u001b[39mcls\u001b[39m, \u001b[39m*\u001b[39margs)\n\u001b[1;32m---> 51\u001b[0m factor, matrices \u001b[39m=\u001b[39m obj\u001b[39m.\u001b[39;49mas_coeff_matrices()\n\u001b[0;32m     53\u001b[0m \u001b[39mif\u001b[39;00m check \u001b[39mis\u001b[39;00m \u001b[39mnot\u001b[39;00m \u001b[39mNone\u001b[39;00m:\n\u001b[0;32m     54\u001b[0m     sympy_deprecation_warning(\n\u001b[0;32m     55\u001b[0m         \u001b[39m\"\u001b[39m\u001b[39mPassing check to MatMul is deprecated and the check argument will be removed in a future version.\u001b[39m\u001b[39m\"\u001b[39m,\n\u001b[0;32m     56\u001b[0m         deprecated_since_version\u001b[39m=\u001b[39m\u001b[39m\"\u001b[39m\u001b[39m1.11\u001b[39m\u001b[39m\"\u001b[39m,\n\u001b[0;32m     57\u001b[0m         active_deprecations_target\u001b[39m=\u001b[39m\u001b[39m'\u001b[39m\u001b[39mremove-check-argument-from-matrix-operations\u001b[39m\u001b[39m'\u001b[39m)\n",
      "File \u001b[1;32m~\\AppData\\Roaming\\Python\\Python39\\site-packages\\sympy\\matrices\\expressions\\matmul.py:134\u001b[0m, in \u001b[0;36mMatMul.as_coeff_matrices\u001b[1;34m(self)\u001b[0m\n\u001b[0;32m    132\u001b[0m coeff \u001b[39m=\u001b[39m Mul(\u001b[39m*\u001b[39mscalars)\n\u001b[0;32m    133\u001b[0m \u001b[39mif\u001b[39;00m coeff\u001b[39m.\u001b[39mis_commutative \u001b[39mis\u001b[39;00m \u001b[39mFalse\u001b[39;00m:\n\u001b[1;32m--> 134\u001b[0m     \u001b[39mraise\u001b[39;00m \u001b[39mNotImplementedError\u001b[39;00m(\u001b[39m\"\u001b[39m\u001b[39mnoncommutative scalars in MatMul are not supported.\u001b[39m\u001b[39m\"\u001b[39m)\n\u001b[0;32m    136\u001b[0m \u001b[39mreturn\u001b[39;00m coeff, matrices\n",
      "\u001b[1;31mNotImplementedError\u001b[0m: noncommutative scalars in MatMul are not supported."
     ]
    }
   ],
   "source": [
    "collect(y_AT, A_y)"
   ]
  },
  {
   "cell_type": "code",
   "execution_count": 18,
   "metadata": {},
   "outputs": [
    {
     "data": {
      "text/plain": [
       "(1, 1)"
      ]
     },
     "execution_count": 18,
     "metadata": {},
     "output_type": "execute_result"
    }
   ],
   "source": [
    "PHI.shape"
   ]
  },
  {
   "cell_type": "code",
   "execution_count": 13,
   "metadata": {},
   "outputs": [
    {
     "data": {
      "text/latex": [
       "$\\displaystyle \\left. \\frac{d}{d \\xi_{1}} D{\\left(\\xi_{1} \\right)} \\right|_{\\substack{ \\xi_{1}=b_{y} \\left(A_{y} \\left(A_{y} \\left(A_{y} y_{0} + d_{y} \\left[\\begin{matrix}\\frac{F2xCO2}{\\log{\\left(2 \\right)}} {\\left( d \\mapsto \\log{\\left(d \\right)} \\right)}_{\\circ}\\left({\\frac{1}{zref} \\left(b_{z} \\left(E_{0, 0} d_{z} + A_{z} z_{0}\\right) + zrefm\\right)}\\right)\\end{matrix}\\right]\\right) + d_{y} \\left[\\begin{matrix}\\frac{F2xCO2}{\\log{\\left(2 \\right)}} {\\left( d \\mapsto \\log{\\left(d \\right)} \\right)}_{\\circ}\\left({\\frac{1}{zref} \\left(b_{z} \\left(E_{0, 1} d_{z} + A_{z} \\left(E_{0, 0} d_{z} + A_{z} z_{0}\\right)\\right) + zrefm\\right)}\\right)\\end{matrix}\\right]\\right) + d_{y} \\left[\\begin{matrix}\\frac{F2xCO2}{\\log{\\left(2 \\right)}} {\\left( d \\mapsto \\log{\\left(d \\right)} \\right)}_{\\circ}\\left({\\frac{1}{zref} \\left(b_{z} \\left(E_{0, 2} d_{z} + A_{z} \\left(E_{0, 1} d_{z} + A_{z} \\left(E_{0, 0} d_{z} + A_{z} z_{0}\\right)\\right)\\right) + zrefm\\right)}\\right)\\end{matrix}\\right]\\right) }} b_{y} d_{y} \\left[\\begin{matrix}\\frac{F2xCO2}{\\log{\\left(2 \\right)}} \\left(\\left(zref \\left(b_{z} \\left(E_{0, 2} d_{z} + A_{z} \\left(E_{0, 1} d_{z} + A_{z} \\left(E_{0, 0} d_{z} + A_{z} z_{0}\\right)\\right)\\right) + zrefm\\right)^{-1}\\right) \\circ \\left(\\frac{1}{zref} b_{z} d_{z}\\right)\\right)\\end{matrix}\\right]$"
      ],
      "text/plain": [
       "Subs(Derivative(D(_xi_1), _xi_1), _xi_1, b_y*(A_y*(A_y*(A_y*y_0 + d_y*Matrix([[(F2xCO2/log(2))*Lambda(_d, log(_d)).(1/zref*(b_z*(E[0, 0]*d_z + A_z*z_0) + zrefm))]])) + d_y*Matrix([[(F2xCO2/log(2))*Lambda(_d, log(_d)).(1/zref*(b_z*(E[0, 1]*d_z + A_z*(E[0, 0]*d_z + A_z*z_0)) + zrefm))]])) + d_y*Matrix([[(F2xCO2/log(2))*Lambda(_d, log(_d)).(1/zref*(b_z*(E[0, 2]*d_z + A_z*(E[0, 1]*d_z + A_z*(E[0, 0]*d_z + A_z*z_0))) + zrefm))]])))*b_y*d_y*Matrix([[(F2xCO2/log(2))*(HadamardProduct(zref*(b_z*(E[0, 2]*d_z + A_z*(E[0, 1]*d_z + A_z*(E[0, 0]*d_z + A_z*z_0))) + zrefm)**(-1), 1/zref*b_z*d_z))]])"
      ]
     },
     "execution_count": 13,
     "metadata": {},
     "output_type": "execute_result"
    }
   ],
   "source": [
    "PHI[0].diff(sum_a[0,T-1])"
   ]
  },
  {
   "cell_type": "code",
   "execution_count": 77,
   "metadata": {},
   "outputs": [
    {
     "name": "stdout",
     "output_type": "stream",
     "text": [
      "Help on function _lambdifygenerated:\n",
      "\n",
      "_lambdifygenerated(a, b_y, d_y, A_y, b_z, d_z, A_z, z_0, y_0, F2xCO2, zref)\n",
      "    Created with lambdify. Signature:\n",
      "    \n",
      "    func(a, b_y, d_y, A_y, b_z, d_z, A_z, z_0, y_0, F2xCO2, zref)\n",
      "    \n",
      "    Expression:\n",
      "    \n",
      "    Matrix([[b_y*(A_y*y_0 + d_y*Matrix([[(F2xCO2/log(2))*Lambda(_d,...\n",
      "    \n",
      "    Source code:\n",
      "    \n",
      "    def _lambdifygenerated(a, b_y, d_y, A_y, b_z, d_z, A_z, z_0, y_0, F2xCO2, zref):\n",
      "        x0 = F2xCO2/log(2)\n",
      "        x1 = zref**(-1.0)\n",
      "        x2 = (d_z)\n",
      "        x3 = (x2).dot(a[0, 0] + a[1, 0] + a[2, 0] + a[3, 0] + a[4, 0] + a[5, 0]) + (A_z).dot(z_0)\n",
      "        x4 = (A_y).dot(y_0) + (d_y).dot(array([[x0*log(x1*(b_z[0, 0]*x3[0, 0] + b_z[0, 1]*x3[1, 0] + b_z[0, 2]*x3[2, 0] + b_z[0, 3]*x3[3, 0]))]]))\n",
      "        x5 = (x2).dot(a[0, 1] + a[1, 1] + a[2, 1] + a[3, 1] + a[4, 1] + a[5, 1]) + (A_z).dot(x3)\n",
      "        x6 = (A_y).dot(x4) + (d_y).dot(array([[x0*log(x1*(b_z[0, 0]*x5[0, 0] + b_z[0, 1]*x5[1, 0] + b_z[0, 2]*x5[2, 0] + b_z[0, 3]*x5[3, 0]))]]))\n",
      "        x7 = (x2).dot(a[0, 2] + a[1, 2] + a[2, 2] + a[3, 2] + a[4, 2] + a[5, 2]) + (A_z).dot(x5)\n",
      "        x8 = (A_y).dot(x6) + (d_y).dot(array([[x0*log(x1*(b_z[0, 0]*x7[0, 0] + b_z[0, 1]*x7[1, 0] + b_z[0, 2]*x7[2, 0] + b_z[0, 3]*x7[3, 0]))]]))\n",
      "        return array([[(b_y).dot(x4), (b_y).dot(x6), (b_y).dot(x8), (b_y).dot((A_y).dot(x8) + (d_y).dot(array([[x0*log(x1*(((a[0, 3] + a[1, 3] + a[2, 3] + a[3, 3] + a[4, 3] + a[5, 3])*x2[0, 0] + A_z[0, 0]*x7[0, 0] + A_z[0, 1]*x7[1, 0] + A_z[0, 2]*x7[2, 0] + A_z[0, 3]*x7[3, 0])*b_z[0, 0] + ((a[0, 3] + a[1, 3] + a[2, 3] + a[3, 3] + a[4, 3] + a[5, 3])*x2[1, 0] + A_z[1, 0]*x7[0, 0] + A_z[1, 1]*x7[1, 0] + A_z[1, 2]*x7[2, 0] + A_z[1, 3]*x7[3, 0])*b_z[0, 1] + ((a[0, 3] + a[1, 3] + a[2, 3] + a[3, 3] + a[4, 3] + a[5, 3])*x2[2, 0] + A_z[2, 0]*x7[0, 0] + A_z[2, 1]*x7[1, 0] + A_z[2, 2]*x7[2, 0] + A_z[2, 3]*x7[3, 0])*b_z[0, 2] + ((a[0, 3] + a[1, 3] + a[2, 3] + a[3, 3] + a[4, 3] + a[5, 3])*x2[3, 0] + A_z[3, 0]*x7[0, 0] + A_z[3, 1]*x7[1, 0] + A_z[3, 2]*x7[2, 0] + A_z[3, 3]*x7[3, 0])*b_z[0, 3]))]])))]])\n",
      "    \n",
      "    \n",
      "    Imported modules:\n",
      "\n"
     ]
    }
   ],
   "source": [
    "help(f)"
   ]
  },
  {
   "cell_type": "code",
   "execution_count": 84,
   "metadata": {},
   "outputs": [],
   "source": [
    "def _lambdifygenerated(a, b_y, d_y, A_y, b_z, d_z, A_z, z_0, y_0, F2xCO2, zref):\n",
    "    from numpy import log, array\n",
    "    x0 = F2xCO2/log(2)\n",
    "    x1 = zref**(-1.0)\n",
    "    x2 = (d_z)\n",
    "    x3 = (x2).dot(a[0, 0] + a[1, 0] + a[2, 0] + a[3, 0] + a[4, 0] + a[5, 0]) + (A_z).dot(z_0)\n",
    "    x4 = (A_y).dot(y_0) + (d_y).dot(array([[x0*log(x1*(b_z[0, 0]*x3[0, 0] + b_z[0, 1]*x3[1, 0] + b_z[0, 2]*x3[2, 0] + b_z[0, 3]*x3[3, 0]))]]))\n",
    "    x5 = (x2).dot(a[0, 1] + a[1, 1] + a[2, 1] + a[3, 1] + a[4, 1] + a[5, 1]) + (A_z).dot(x3)\n",
    "    x6 = (A_y).dot(x4) + (d_y).dot(array([[x0*log(x1*(b_z[0, 0]*x5[0, 0] + b_z[0, 1]*x5[1, 0] + b_z[0, 2]*x5[2, 0] + b_z[0, 3]*x5[3, 0]))]]))\n",
    "    x7 = (x2).dot(a[0, 2] + a[1, 2] + a[2, 2] + a[3, 2] + a[4, 2] + a[5, 2]) + (A_z).dot(x5)\n",
    "    x8 = (A_y).dot(x6) + (d_y).dot(array([[x0*log(x1*(b_z[0, 0]*x7[0, 0] + b_z[0, 1]*x7[1, 0] + b_z[0, 2]*x7[2, 0] + b_z[0, 3]*x7[3, 0]))]]))\n",
    "    return array([[(b_y).dot(x4), (b_y).dot(x6), (b_y).dot(x8), (b_y).dot((A_y).dot(x8) + (d_y).dot(array([[x0*log(x1*(((a[0, 3] + a[1, 3] + a[2, 3] + a[3, 3] + a[4, 3] + a[5, 3])*x2[0, 0] + A_z[0, 0]*x7[0, 0] + A_z[0, 1]*x7[1, 0] + A_z[0, 2]*x7[2, 0] + A_z[0, 3]*x7[3, 0])*b_z[0, 0] + ((a[0, 3] + a[1, 3] + a[2, 3] + a[3, 3] + a[4, 3] + a[5, 3])*x2[1, 0] + A_z[1, 0]*x7[0, 0] + A_z[1, 1]*x7[1, 0] + A_z[1, 2]*x7[2, 0] + A_z[1, 3]*x7[3, 0])*b_z[0, 1] + ((a[0, 3] + a[1, 3] + a[2, 3] + a[3, 3] + a[4, 3] + a[5, 3])*x2[2, 0] + A_z[2, 0]*x7[0, 0] + A_z[2, 1]*x7[1, 0] + A_z[2, 2]*x7[2, 0] + A_z[2, 3]*x7[3, 0])*b_z[0, 2] + ((a[0, 3] + a[1, 3] + a[2, 3] + a[3, 3] + a[4, 3] + a[5, 3])*x2[3, 0] + A_z[3, 0]*x7[0, 0] + A_z[3, 1]*x7[1, 0] + A_z[3, 2]*x7[2, 0] + A_z[3, 3]*x7[3, 0])*b_z[0, 3]))]])))]])"
   ]
  },
  {
   "cell_type": "code",
   "execution_count": 85,
   "metadata": {},
   "outputs": [
    {
     "ename": "IndexError",
     "evalue": "too many indices for array: array is 1-dimensional, but 2 were indexed",
     "output_type": "error",
     "traceback": [
      "\u001b[1;31m---------------------------------------------------------------------------\u001b[0m",
      "\u001b[1;31mIndexError\u001b[0m                                Traceback (most recent call last)",
      "Cell \u001b[1;32mIn[85], line 1\u001b[0m\n\u001b[1;32m----> 1\u001b[0m _lambdifygenerated(np\u001b[39m.\u001b[39;49mzeros_like(a), TD\u001b[39m.\u001b[39;49mbt, TD\u001b[39m.\u001b[39;49md5, TD\u001b[39m.\u001b[39;49mAt5, CC\u001b[39m.\u001b[39;49mbc, CC\u001b[39m.\u001b[39;49mdc5, CC\u001b[39m.\u001b[39;49mAc5, CC\u001b[39m.\u001b[39;49minitial_state, TD\u001b[39m.\u001b[39;49minitial_state, F_2XCO2, C_1750)\n",
      "Cell \u001b[1;32mIn[84], line 7\u001b[0m, in \u001b[0;36m_lambdifygenerated\u001b[1;34m(a, b_y, d_y, A_y, b_z, d_z, A_z, z_0, y_0, F2xCO2, zref)\u001b[0m\n\u001b[0;32m      5\u001b[0m x2 \u001b[39m=\u001b[39m (d_z)\n\u001b[0;32m      6\u001b[0m x3 \u001b[39m=\u001b[39m (x2)\u001b[39m.\u001b[39mdot(a[\u001b[39m0\u001b[39m, \u001b[39m0\u001b[39m] \u001b[39m+\u001b[39m a[\u001b[39m1\u001b[39m, \u001b[39m0\u001b[39m] \u001b[39m+\u001b[39m a[\u001b[39m2\u001b[39m, \u001b[39m0\u001b[39m] \u001b[39m+\u001b[39m a[\u001b[39m3\u001b[39m, \u001b[39m0\u001b[39m] \u001b[39m+\u001b[39m a[\u001b[39m4\u001b[39m, \u001b[39m0\u001b[39m] \u001b[39m+\u001b[39m a[\u001b[39m5\u001b[39m, \u001b[39m0\u001b[39m]) \u001b[39m+\u001b[39m (A_z)\u001b[39m.\u001b[39mdot(z_0)\n\u001b[1;32m----> 7\u001b[0m x4 \u001b[39m=\u001b[39m (A_y)\u001b[39m.\u001b[39mdot(y_0) \u001b[39m+\u001b[39m (d_y)\u001b[39m.\u001b[39mdot(array([[x0\u001b[39m*\u001b[39mlog(x1\u001b[39m*\u001b[39m(b_z[\u001b[39m0\u001b[39;49m, \u001b[39m0\u001b[39;49m]\u001b[39m*\u001b[39mx3[\u001b[39m0\u001b[39m, \u001b[39m0\u001b[39m] \u001b[39m+\u001b[39m b_z[\u001b[39m0\u001b[39m, \u001b[39m1\u001b[39m]\u001b[39m*\u001b[39mx3[\u001b[39m1\u001b[39m, \u001b[39m0\u001b[39m] \u001b[39m+\u001b[39m b_z[\u001b[39m0\u001b[39m, \u001b[39m2\u001b[39m]\u001b[39m*\u001b[39mx3[\u001b[39m2\u001b[39m, \u001b[39m0\u001b[39m] \u001b[39m+\u001b[39m b_z[\u001b[39m0\u001b[39m, \u001b[39m3\u001b[39m]\u001b[39m*\u001b[39mx3[\u001b[39m3\u001b[39m, \u001b[39m0\u001b[39m]))]]))\n\u001b[0;32m      8\u001b[0m x5 \u001b[39m=\u001b[39m (x2)\u001b[39m.\u001b[39mdot(a[\u001b[39m0\u001b[39m, \u001b[39m1\u001b[39m] \u001b[39m+\u001b[39m a[\u001b[39m1\u001b[39m, \u001b[39m1\u001b[39m] \u001b[39m+\u001b[39m a[\u001b[39m2\u001b[39m, \u001b[39m1\u001b[39m] \u001b[39m+\u001b[39m a[\u001b[39m3\u001b[39m, \u001b[39m1\u001b[39m] \u001b[39m+\u001b[39m a[\u001b[39m4\u001b[39m, \u001b[39m1\u001b[39m] \u001b[39m+\u001b[39m a[\u001b[39m5\u001b[39m, \u001b[39m1\u001b[39m]) \u001b[39m+\u001b[39m (A_z)\u001b[39m.\u001b[39mdot(x3)\n\u001b[0;32m      9\u001b[0m x6 \u001b[39m=\u001b[39m (A_y)\u001b[39m.\u001b[39mdot(x4) \u001b[39m+\u001b[39m (d_y)\u001b[39m.\u001b[39mdot(array([[x0\u001b[39m*\u001b[39mlog(x1\u001b[39m*\u001b[39m(b_z[\u001b[39m0\u001b[39m, \u001b[39m0\u001b[39m]\u001b[39m*\u001b[39mx5[\u001b[39m0\u001b[39m, \u001b[39m0\u001b[39m] \u001b[39m+\u001b[39m b_z[\u001b[39m0\u001b[39m, \u001b[39m1\u001b[39m]\u001b[39m*\u001b[39mx5[\u001b[39m1\u001b[39m, \u001b[39m0\u001b[39m] \u001b[39m+\u001b[39m b_z[\u001b[39m0\u001b[39m, \u001b[39m2\u001b[39m]\u001b[39m*\u001b[39mx5[\u001b[39m2\u001b[39m, \u001b[39m0\u001b[39m] \u001b[39m+\u001b[39m b_z[\u001b[39m0\u001b[39m, \u001b[39m3\u001b[39m]\u001b[39m*\u001b[39mx5[\u001b[39m3\u001b[39m, \u001b[39m0\u001b[39m]))]]))\n",
      "\u001b[1;31mIndexError\u001b[0m: too many indices for array: array is 1-dimensional, but 2 were indexed"
     ]
    }
   ],
   "source": [
    "_lambdifygenerated(np.zeros_like(a), TD.bt, TD.d5, TD.At5, CC.bc, CC.dc5, CC.Ac5, CC.initial_state, TD.initial_state, F_2XCO2, C_1750)"
   ]
  },
  {
   "cell_type": "code",
   "execution_count": 80,
   "metadata": {},
   "outputs": [
    {
     "ename": "AttributeError",
     "evalue": "'MatrixSymbol' object has no attribute 'dot'",
     "output_type": "error",
     "traceback": [
      "\u001b[1;31m---------------------------------------------------------------------------\u001b[0m",
      "\u001b[1;31mAttributeError\u001b[0m                            Traceback (most recent call last)",
      "Cell \u001b[1;32mIn[80], line 6\u001b[0m\n\u001b[0;32m      4\u001b[0m x3 \u001b[39m=\u001b[39m b_z\u001b[39m.\u001b[39mT\n\u001b[0;32m      5\u001b[0m x4 \u001b[39m=\u001b[39m (d_z)\n\u001b[1;32m----> 6\u001b[0m x5 \u001b[39m=\u001b[39m (x4)\u001b[39m.\u001b[39;49mdot(a[\u001b[39m0\u001b[39m, \u001b[39m0\u001b[39m] \u001b[39m+\u001b[39m a[\u001b[39m1\u001b[39m, \u001b[39m0\u001b[39m] \u001b[39m+\u001b[39m a[\u001b[39m2\u001b[39m, \u001b[39m0\u001b[39m] \u001b[39m+\u001b[39m a[\u001b[39m3\u001b[39m, \u001b[39m0\u001b[39m] \u001b[39m+\u001b[39m a[\u001b[39m4\u001b[39m, \u001b[39m0\u001b[39m] \u001b[39m+\u001b[39m a[\u001b[39m5\u001b[39m, \u001b[39m0\u001b[39m]) \u001b[39m+\u001b[39m (A_z)\u001b[39m.\u001b[39mdot(z_0)\n\u001b[0;32m      8\u001b[0m (d_y)\u001b[39m.\u001b[39mdot(np\u001b[39m.\u001b[39marray([[x1\u001b[39m*\u001b[39mlog(x2\u001b[39m*\u001b[39m(x3[\u001b[39m0\u001b[39m, \u001b[39m0\u001b[39m]\u001b[39m*\u001b[39mx5[\u001b[39m0\u001b[39m, \u001b[39m0\u001b[39m] \u001b[39m+\u001b[39m x3[\u001b[39m0\u001b[39m, \u001b[39m1\u001b[39m]\u001b[39m*\u001b[39mx5[\u001b[39m1\u001b[39m, \u001b[39m0\u001b[39m] \u001b[39m+\u001b[39m x3[\u001b[39m0\u001b[39m, \u001b[39m2\u001b[39m]\u001b[39m*\u001b[39mx5[\u001b[39m2\u001b[39m, \u001b[39m0\u001b[39m] \u001b[39m+\u001b[39m x3[\u001b[39m0\u001b[39m, \u001b[39m3\u001b[39m]\u001b[39m*\u001b[39mx5[\u001b[39m3\u001b[39m, \u001b[39m0\u001b[39m]))]]))\n",
      "\u001b[1;31mAttributeError\u001b[0m: 'MatrixSymbol' object has no attribute 'dot'"
     ]
    }
   ],
   "source": [
    "x0 = TD.bt.T\n",
    "x1 = F_2XCO2/log(2)\n",
    "x2 = C_1750**(-1.0)\n",
    "x3 = b_z.T\n",
    "x4 = (d_z)\n",
    "x5 = (x4).dot(a[0, 0] + a[1, 0] + a[2, 0] + a[3, 0] + a[4, 0] + a[5, 0]) + (A_z).dot(z_0)\n",
    "\n",
    "(d_y).dot(np.array([[x1*log(x2*(x3[0, 0]*x5[0, 0] + x3[0, 1]*x5[1, 0] + x3[0, 2]*x5[2, 0] + x3[0, 3]*x5[3, 0]))]]))"
   ]
  },
  {
   "cell_type": "code",
   "execution_count": null,
   "metadata": {},
   "outputs": [],
   "source": [
    "from numpy import log, array\n",
    "x0 = F_2XCO2/log(2)\n",
    "x1 = C_1750**(-1.0)\n",
    "x2 = (d_z)\n",
    "x3 = (x2).dot(a[0, 0] + a[1, 0] + a[2, 0] + a[3, 0] + a[4, 0] + a[5, 0]) + (A_z).dot(z_0)\n",
    "x4 = (A_y).dot(y_0) + (d_y).dot(array([[x0*log(x1*(b_z[0, 0]*x3[0, 0] + b_z[0, 1]*x3[1, 0] + b_z[0, 2]*x3[2, 0] + b_z[0, 3]*x3[3, 0]))]]))\n",
    "x5 = (x2).dot(a[0, 1] + a[1, 1] + a[2, 1] + a[3, 1] + a[4, 1] + a[5, 1]) + (A_z).dot(x3)\n",
    "x6 = (A_y).dot(x4) + (d_y).dot(array([[x0*log(x1*(b_z[0, 0]*x5[0, 0] + b_z[0, 1]*x5[1, 0] + b_z[0, 2]*x5[2, 0] + b_z[0, 3]*x5[3, 0]))]]))\n",
    "x7 = (x2).dot(a[0, 2] + a[1, 2] + a[2, 2] + a[3, 2] + a[4, 2] + a[5, 2]) + (A_z).dot(x5)\n",
    "x8 = (A_y).dot(x6) + (d_y).dot(array([[x0*log(x1*(b_z[0, 0]*x7[0, 0] + b_z[0, 1]*x7[1, 0] + b_z[0, 2]*x7[2, 0] + b_z[0, 3]*x7[3, 0]))]]))\n",
    "return array([[(b_y).dot(x4), (b_y).dot(x6), (b_y).dot(x8), (b_y).dot((A_y).dot(x8) + (d_y).dot(array([[x0*log(x1*(((a[0, 3] + a[1, 3] + a[2, 3] + a[3, 3] + a[4, 3] + a[5, 3])*x2[0, 0] + A_z[0, 0]*x7[0, 0] + A_z[0, 1]*x7[1, 0] + A_z[0, 2]*x7[2, 0] + A_z[0, 3]*x7[3, 0])*b_z[0, 0] + ((a[0, 3] + a[1, 3] + a[2, 3] + a[3, 3] + a[4, 3] + a[5, 3])*x2[1, 0] + A_z[1, 0]*x7[0, 0] + A_z[1, 1]*x7[1, 0] + A_z[1, 2]*x7[2, 0] + A_z[1, 3]*x7[3, 0])*b_z[0, 1] + ((a[0, 3] + a[1, 3] + a[2, 3] + a[3, 3] + a[4, 3] + a[5, 3])*x2[2, 0] + A_z[2, 0]*x7[0, 0] + A_z[2, 1]*x7[1, 0] + A_z[2, 2]*x7[2, 0] + A_z[2, 3]*x7[3, 0])*b_z[0, 2] + ((a[0, 3] + a[1, 3] + a[2, 3] + a[3, 3] + a[4, 3] + a[5, 3])*x2[3, 0] + A_z[3, 0]*x7[0, 0] + A_z[3, 1]*x7[1, 0] + A_z[3, 2]*x7[2, 0] + A_z[3, 3]*x7[3, 0])*b_z[0, 3]))]])))]])"
   ]
  },
  {
   "cell_type": "code",
   "execution_count": 150,
   "metadata": {},
   "outputs": [],
   "source": [
    "a = np.zeros_like(a)\n",
    "from numpy import log, array\n",
    "x0 = F_2XCO2/log(2)\n",
    "x1 = C_1750**(-1.0)\n",
    "x2 = np.array([CC.dc5]).T\n",
    "x3 = (x2).dot(a[0, 0] + a[1, 0] + a[2, 0] + a[3, 0] + a[4, 0] + a[5, 0]) + (CC.Ac5).dot(CC.initial_state)\n",
    "x4 = (TD.At5).dot(TD.initial_state) + (np.array([TD.d5]).T).dot(array([[x0*log(x1*(np.array([CC.bc])[0, 0]*x3[0, 0] + np.array([CC.bc])[0, 1]*x3[1, 0] + np.array([CC.bc])[0, 2]*x3[2, 0] + np.array([CC.bc])[0, 3]*x3[3, 0]))]]))\n"
   ]
  },
  {
   "cell_type": "code",
   "execution_count": 149,
   "metadata": {},
   "outputs": [
    {
     "data": {
      "text/plain": [
       "array([[1., 1., 1., 1.]])"
      ]
     },
     "execution_count": 149,
     "metadata": {},
     "output_type": "execute_result"
    }
   ],
   "source": [
    "np.array([CC.bc])"
   ]
  },
  {
   "cell_type": "code",
   "execution_count": 108,
   "metadata": {},
   "outputs": [
    {
     "data": {
      "text/plain": [
       "(4, 1)"
      ]
     },
     "execution_count": 108,
     "metadata": {},
     "output_type": "execute_result"
    }
   ],
   "source": [
    "x2.shape"
   ]
  },
  {
   "cell_type": "code",
   "execution_count": 110,
   "metadata": {},
   "outputs": [
    {
     "data": {
      "text/plain": [
       "array([[139.1       ,  89.0795176 ,  25.51250462,   1.48971455],\n",
       "       [139.1       ,  89.0795176 ,  25.51250462,   1.48971455],\n",
       "       [139.1       ,  89.0795176 ,  25.51250462,   1.48971455],\n",
       "       [139.1       ,  89.0795176 ,  25.51250462,   1.48971455]])"
      ]
     },
     "execution_count": 110,
     "metadata": {},
     "output_type": "execute_result"
    }
   ],
   "source": [
    "x3"
   ]
  },
  {
   "cell_type": "code",
   "execution_count": 95,
   "metadata": {},
   "outputs": [
    {
     "data": {
      "text/plain": [
       "(1, 4)"
      ]
     },
     "execution_count": 95,
     "metadata": {},
     "output_type": "execute_result"
    }
   ],
   "source": [
    "x3.shape"
   ]
  },
  {
   "cell_type": "code",
   "execution_count": 111,
   "metadata": {},
   "outputs": [
    {
     "ename": "IndexError",
     "evalue": "too many indices for array: array is 1-dimensional, but 2 were indexed",
     "output_type": "error",
     "traceback": [
      "\u001b[1;31m---------------------------------------------------------------------------\u001b[0m",
      "\u001b[1;31mIndexError\u001b[0m                                Traceback (most recent call last)",
      "Cell \u001b[1;32mIn[111], line 1\u001b[0m\n\u001b[1;32m----> 1\u001b[0m CC\u001b[39m.\u001b[39;49mbc[\u001b[39m0\u001b[39;49m,\u001b[39m0\u001b[39;49m]\n",
      "\u001b[1;31mIndexError\u001b[0m: too many indices for array: array is 1-dimensional, but 2 were indexed"
     ]
    }
   ],
   "source": [
    "CC.bc[0,0]"
   ]
  },
  {
   "cell_type": "code",
   "execution_count": 39,
   "metadata": {},
   "outputs": [
    {
     "ename": "NotImplementedError",
     "evalue": "",
     "output_type": "error",
     "traceback": [
      "\u001b[1;31m---------------------------------------------------------------------------\u001b[0m",
      "\u001b[1;31mNotImplementedError\u001b[0m                       Traceback (most recent call last)",
      "Cell \u001b[1;32mIn[39], line 1\u001b[0m\n\u001b[1;32m----> 1\u001b[0m F\u001b[39m.\u001b[39;49mdiff(a[\u001b[39m0\u001b[39;49m,\u001b[39m0\u001b[39;49m])\n",
      "File \u001b[1;32m~\\AppData\\Roaming\\Python\\Python39\\site-packages\\sympy\\matrices\\matrices.py:469\u001b[0m, in \u001b[0;36mMatrixCalculus.diff\u001b[1;34m(self, *args, **kwargs)\u001b[0m\n\u001b[0;32m    467\u001b[0m \u001b[39mfrom\u001b[39;00m \u001b[39msympy\u001b[39;00m\u001b[39m.\u001b[39;00m\u001b[39mtensor\u001b[39;00m\u001b[39m.\u001b[39;00m\u001b[39marray\u001b[39;00m\u001b[39m.\u001b[39;00m\u001b[39marray_derivatives\u001b[39;00m \u001b[39mimport\u001b[39;00m ArrayDerivative\n\u001b[0;32m    468\u001b[0m kwargs\u001b[39m.\u001b[39msetdefault(\u001b[39m'\u001b[39m\u001b[39mevaluate\u001b[39m\u001b[39m'\u001b[39m, \u001b[39mTrue\u001b[39;00m)\n\u001b[1;32m--> 469\u001b[0m deriv \u001b[39m=\u001b[39m ArrayDerivative(\u001b[39mself\u001b[39;49m, \u001b[39m*\u001b[39;49margs, evaluate\u001b[39m=\u001b[39;49m\u001b[39mTrue\u001b[39;49;00m)\n\u001b[0;32m    470\u001b[0m \u001b[39mif\u001b[39;00m \u001b[39mnot\u001b[39;00m \u001b[39misinstance\u001b[39m(\u001b[39mself\u001b[39m, Basic):\n\u001b[0;32m    471\u001b[0m     \u001b[39mreturn\u001b[39;00m deriv\u001b[39m.\u001b[39mas_mutable()\n",
      "File \u001b[1;32m~\\AppData\\Roaming\\Python\\Python39\\site-packages\\sympy\\tensor\\array\\array_derivatives.py:19\u001b[0m, in \u001b[0;36mArrayDerivative.__new__\u001b[1;34m(cls, expr, *variables, **kwargs)\u001b[0m\n\u001b[0;32m     18\u001b[0m \u001b[39mdef\u001b[39;00m \u001b[39m__new__\u001b[39m(\u001b[39mcls\u001b[39m, expr, \u001b[39m*\u001b[39mvariables, \u001b[39m*\u001b[39m\u001b[39m*\u001b[39mkwargs):\n\u001b[1;32m---> 19\u001b[0m     obj \u001b[39m=\u001b[39m \u001b[39msuper\u001b[39m()\u001b[39m.\u001b[39m\u001b[39m__new__\u001b[39m(\u001b[39mcls\u001b[39m, expr, \u001b[39m*\u001b[39mvariables, \u001b[39m*\u001b[39m\u001b[39m*\u001b[39mkwargs)\n\u001b[0;32m     20\u001b[0m     \u001b[39mif\u001b[39;00m \u001b[39misinstance\u001b[39m(obj, ArrayDerivative):\n\u001b[0;32m     21\u001b[0m         obj\u001b[39m.\u001b[39m_shape \u001b[39m=\u001b[39m obj\u001b[39m.\u001b[39m_get_shape()\n",
      "File \u001b[1;32m~\\AppData\\Roaming\\Python\\Python39\\site-packages\\sympy\\core\\function.py:1442\u001b[0m, in \u001b[0;36mDerivative.__new__\u001b[1;34m(cls, expr, *variables, **kwargs)\u001b[0m\n\u001b[0;32m   1435\u001b[0m     \u001b[39mif\u001b[39;00m \u001b[39mnot\u001b[39;00m old_v\u001b[39m.\u001b[39mis_scalar \u001b[39mand\u001b[39;00m \u001b[39mnot\u001b[39;00m \u001b[39mhasattr\u001b[39m(\n\u001b[0;32m   1436\u001b[0m             old_v, \u001b[39m'\u001b[39m\u001b[39m_eval_derivative\u001b[39m\u001b[39m'\u001b[39m):\n\u001b[0;32m   1437\u001b[0m         \u001b[39m# special hack providing evaluation for classes\u001b[39;00m\n\u001b[0;32m   1438\u001b[0m         \u001b[39m# that have defined is_scalar=True but have no\u001b[39;00m\n\u001b[0;32m   1439\u001b[0m         \u001b[39m# _eval_derivative defined\u001b[39;00m\n\u001b[0;32m   1440\u001b[0m         expr \u001b[39m*\u001b[39m\u001b[39m=\u001b[39m old_v\u001b[39m.\u001b[39mdiff(old_v)\n\u001b[1;32m-> 1442\u001b[0m obj \u001b[39m=\u001b[39m \u001b[39mcls\u001b[39;49m\u001b[39m.\u001b[39;49m_dispatch_eval_derivative_n_times(expr, v, count)\n\u001b[0;32m   1443\u001b[0m \u001b[39mif\u001b[39;00m obj \u001b[39mis\u001b[39;00m \u001b[39mnot\u001b[39;00m \u001b[39mNone\u001b[39;00m \u001b[39mand\u001b[39;00m obj\u001b[39m.\u001b[39mis_zero:\n\u001b[0;32m   1444\u001b[0m     \u001b[39mreturn\u001b[39;00m obj\n",
      "File \u001b[1;32m~\\AppData\\Roaming\\Python\\Python39\\site-packages\\sympy\\tensor\\array\\array_derivatives.py:106\u001b[0m, in \u001b[0;36mArrayDerivative._dispatch_eval_derivative_n_times\u001b[1;34m(cls, expr, v, count)\u001b[0m\n\u001b[0;32m    104\u001b[0m \u001b[39melif\u001b[39;00m v\u001b[39m.\u001b[39mis_scalar:\n\u001b[0;32m    105\u001b[0m     \u001b[39mif\u001b[39;00m \u001b[39misinstance\u001b[39m(expr, MatrixCommon):\n\u001b[1;32m--> 106\u001b[0m         result \u001b[39m=\u001b[39m \u001b[39mcls\u001b[39;49m\u001b[39m.\u001b[39;49m_call_derive_matrix_by_scalar(expr, v)\n\u001b[0;32m    107\u001b[0m     \u001b[39melif\u001b[39;00m \u001b[39misinstance\u001b[39m(expr, MatrixExpr):\n\u001b[0;32m    108\u001b[0m         result \u001b[39m=\u001b[39m \u001b[39mcls\u001b[39m\u001b[39m.\u001b[39m_call_derive_matexpr_by_scalar(expr, v)\n",
      "File \u001b[1;32m~\\AppData\\Roaming\\Python\\Python39\\site-packages\\sympy\\tensor\\array\\array_derivatives.py:64\u001b[0m, in \u001b[0;36mArrayDerivative._call_derive_matrix_by_scalar\u001b[1;34m(expr, v)\u001b[0m\n\u001b[0;32m     62\u001b[0m \u001b[39m@staticmethod\u001b[39m\n\u001b[0;32m     63\u001b[0m \u001b[39mdef\u001b[39;00m \u001b[39m_call_derive_matrix_by_scalar\u001b[39m(expr, v):  \u001b[39m# type: (MatrixCommon, Expr) -> Expr\u001b[39;00m\n\u001b[1;32m---> 64\u001b[0m     \u001b[39mreturn\u001b[39;00m _matrix_derivative(expr, v)\n",
      "File \u001b[1;32m~\\AppData\\Roaming\\Python\\Python39\\site-packages\\sympy\\matrices\\expressions\\matexpr.py:526\u001b[0m, in \u001b[0;36m_matrix_derivative\u001b[1;34m(expr, x, old_algorithm)\u001b[0m\n\u001b[0;32m    523\u001b[0m     old_algorithm \u001b[39m=\u001b[39m \u001b[39mTrue\u001b[39;00m\n\u001b[0;32m    525\u001b[0m \u001b[39mif\u001b[39;00m old_algorithm:\n\u001b[1;32m--> 526\u001b[0m     \u001b[39mreturn\u001b[39;00m _matrix_derivative_old_algorithm(expr, x)\n\u001b[0;32m    528\u001b[0m \u001b[39mfrom\u001b[39;00m \u001b[39msympy\u001b[39;00m\u001b[39m.\u001b[39;00m\u001b[39mtensor\u001b[39;00m\u001b[39m.\u001b[39;00m\u001b[39marray\u001b[39;00m\u001b[39m.\u001b[39;00m\u001b[39mexpressions\u001b[39;00m\u001b[39m.\u001b[39;00m\u001b[39mconv_matrix_to_array\u001b[39;00m \u001b[39mimport\u001b[39;00m convert_matrix_to_array\n\u001b[0;32m    529\u001b[0m \u001b[39mfrom\u001b[39;00m \u001b[39msympy\u001b[39;00m\u001b[39m.\u001b[39;00m\u001b[39mtensor\u001b[39;00m\u001b[39m.\u001b[39;00m\u001b[39marray\u001b[39;00m\u001b[39m.\u001b[39;00m\u001b[39mexpressions\u001b[39;00m\u001b[39m.\u001b[39;00m\u001b[39marrayexpr_derivatives\u001b[39;00m \u001b[39mimport\u001b[39;00m array_derive\n",
      "File \u001b[1;32m~\\AppData\\Roaming\\Python\\Python39\\site-packages\\sympy\\matrices\\expressions\\matexpr.py:540\u001b[0m, in \u001b[0;36m_matrix_derivative_old_algorithm\u001b[1;34m(expr, x)\u001b[0m\n\u001b[0;32m    538\u001b[0m \u001b[39mdef\u001b[39;00m \u001b[39m_matrix_derivative_old_algorithm\u001b[39m(expr, x):\n\u001b[0;32m    539\u001b[0m     \u001b[39mfrom\u001b[39;00m \u001b[39msympy\u001b[39;00m\u001b[39m.\u001b[39;00m\u001b[39mtensor\u001b[39;00m\u001b[39m.\u001b[39;00m\u001b[39marray\u001b[39;00m\u001b[39m.\u001b[39;00m\u001b[39marray_derivatives\u001b[39;00m \u001b[39mimport\u001b[39;00m ArrayDerivative\n\u001b[1;32m--> 540\u001b[0m     lines \u001b[39m=\u001b[39m expr\u001b[39m.\u001b[39;49m_eval_derivative_matrix_lines(x)\n\u001b[0;32m    542\u001b[0m     parts \u001b[39m=\u001b[39m [i\u001b[39m.\u001b[39mbuild() \u001b[39mfor\u001b[39;00m i \u001b[39min\u001b[39;00m lines]\n\u001b[0;32m    544\u001b[0m     \u001b[39mfrom\u001b[39;00m \u001b[39msympy\u001b[39;00m\u001b[39m.\u001b[39;00m\u001b[39mtensor\u001b[39;00m\u001b[39m.\u001b[39;00m\u001b[39marray\u001b[39;00m\u001b[39m.\u001b[39;00m\u001b[39mexpressions\u001b[39;00m\u001b[39m.\u001b[39;00m\u001b[39mconv_array_to_matrix\u001b[39;00m \u001b[39mimport\u001b[39;00m convert_array_to_matrix\n",
      "File \u001b[1;32m~\\AppData\\Roaming\\Python\\Python39\\site-packages\\sympy\\core\\expr.py:3926\u001b[0m, in \u001b[0;36mExpr._eval_derivative_matrix_lines\u001b[1;34m(self, x)\u001b[0m\n\u001b[0;32m   3924\u001b[0m \u001b[39mdef\u001b[39;00m \u001b[39m_eval_derivative_matrix_lines\u001b[39m(\u001b[39mself\u001b[39m, x):\n\u001b[0;32m   3925\u001b[0m     \u001b[39mfrom\u001b[39;00m \u001b[39msympy\u001b[39;00m\u001b[39m.\u001b[39;00m\u001b[39mmatrices\u001b[39;00m\u001b[39m.\u001b[39;00m\u001b[39mexpressions\u001b[39;00m\u001b[39m.\u001b[39;00m\u001b[39mmatexpr\u001b[39;00m \u001b[39mimport\u001b[39;00m _LeftRightArgs\n\u001b[1;32m-> 3926\u001b[0m     \u001b[39mreturn\u001b[39;00m [_LeftRightArgs([S\u001b[39m.\u001b[39mOne, S\u001b[39m.\u001b[39mOne], higher\u001b[39m=\u001b[39m\u001b[39mself\u001b[39;49m\u001b[39m.\u001b[39;49m_eval_derivative(x))]\n",
      "File \u001b[1;32m~\\AppData\\Roaming\\Python\\Python39\\site-packages\\sympy\\matrices\\matrices.py:476\u001b[0m, in \u001b[0;36mMatrixCalculus._eval_derivative\u001b[1;34m(self, arg)\u001b[0m\n\u001b[0;32m    475\u001b[0m \u001b[39mdef\u001b[39;00m \u001b[39m_eval_derivative\u001b[39m(\u001b[39mself\u001b[39m, arg):\n\u001b[1;32m--> 476\u001b[0m     \u001b[39mreturn\u001b[39;00m \u001b[39mself\u001b[39;49m\u001b[39m.\u001b[39;49mapplyfunc(\u001b[39mlambda\u001b[39;49;00m x: x\u001b[39m.\u001b[39;49mdiff(arg))\n",
      "File \u001b[1;32m~\\AppData\\Roaming\\Python\\Python39\\site-packages\\sympy\\matrices\\common.py:2058\u001b[0m, in \u001b[0;36mMatrixOperations.applyfunc\u001b[1;34m(self, f)\u001b[0m\n\u001b[0;32m   2055\u001b[0m \u001b[39mif\u001b[39;00m \u001b[39mnot\u001b[39;00m callable(f):\n\u001b[0;32m   2056\u001b[0m     \u001b[39mraise\u001b[39;00m \u001b[39mTypeError\u001b[39;00m(\u001b[39m\"\u001b[39m\u001b[39m`f` must be callable.\u001b[39m\u001b[39m\"\u001b[39m)\n\u001b[1;32m-> 2058\u001b[0m \u001b[39mreturn\u001b[39;00m \u001b[39mself\u001b[39;49m\u001b[39m.\u001b[39;49m_eval_applyfunc(f)\n",
      "File \u001b[1;32m~\\AppData\\Roaming\\Python\\Python39\\site-packages\\sympy\\matrices\\common.py:2000\u001b[0m, in \u001b[0;36mMatrixOperations._eval_applyfunc\u001b[1;34m(self, f)\u001b[0m\n\u001b[0;32m   1999\u001b[0m \u001b[39mdef\u001b[39;00m \u001b[39m_eval_applyfunc\u001b[39m(\u001b[39mself\u001b[39m, f):\n\u001b[1;32m-> 2000\u001b[0m     out \u001b[39m=\u001b[39m \u001b[39mself\u001b[39m\u001b[39m.\u001b[39m_new(\u001b[39mself\u001b[39m\u001b[39m.\u001b[39mrows, \u001b[39mself\u001b[39m\u001b[39m.\u001b[39mcols, [f(x) \u001b[39mfor\u001b[39;00m x \u001b[39min\u001b[39;00m \u001b[39mself\u001b[39m])\n\u001b[0;32m   2001\u001b[0m     \u001b[39mreturn\u001b[39;00m out\n",
      "File \u001b[1;32m~\\AppData\\Roaming\\Python\\Python39\\site-packages\\sympy\\matrices\\common.py:2000\u001b[0m, in \u001b[0;36m<listcomp>\u001b[1;34m(.0)\u001b[0m\n\u001b[0;32m   1999\u001b[0m \u001b[39mdef\u001b[39;00m \u001b[39m_eval_applyfunc\u001b[39m(\u001b[39mself\u001b[39m, f):\n\u001b[1;32m-> 2000\u001b[0m     out \u001b[39m=\u001b[39m \u001b[39mself\u001b[39m\u001b[39m.\u001b[39m_new(\u001b[39mself\u001b[39m\u001b[39m.\u001b[39mrows, \u001b[39mself\u001b[39m\u001b[39m.\u001b[39mcols, [f(x) \u001b[39mfor\u001b[39;00m x \u001b[39min\u001b[39;00m \u001b[39mself\u001b[39m])\n\u001b[0;32m   2001\u001b[0m     \u001b[39mreturn\u001b[39;00m out\n",
      "File \u001b[1;32m~\\AppData\\Roaming\\Python\\Python39\\site-packages\\sympy\\matrices\\matrices.py:476\u001b[0m, in \u001b[0;36mMatrixCalculus._eval_derivative.<locals>.<lambda>\u001b[1;34m(x)\u001b[0m\n\u001b[0;32m    475\u001b[0m \u001b[39mdef\u001b[39;00m \u001b[39m_eval_derivative\u001b[39m(\u001b[39mself\u001b[39m, arg):\n\u001b[1;32m--> 476\u001b[0m     \u001b[39mreturn\u001b[39;00m \u001b[39mself\u001b[39m\u001b[39m.\u001b[39mapplyfunc(\u001b[39mlambda\u001b[39;00m x: x\u001b[39m.\u001b[39;49mdiff(arg))\n",
      "File \u001b[1;32m~\\AppData\\Roaming\\Python\\Python39\\site-packages\\sympy\\core\\expr.py:3555\u001b[0m, in \u001b[0;36mExpr.diff\u001b[1;34m(self, *symbols, **assumptions)\u001b[0m\n\u001b[0;32m   3553\u001b[0m \u001b[39mdef\u001b[39;00m \u001b[39mdiff\u001b[39m(\u001b[39mself\u001b[39m, \u001b[39m*\u001b[39msymbols, \u001b[39m*\u001b[39m\u001b[39m*\u001b[39massumptions):\n\u001b[0;32m   3554\u001b[0m     assumptions\u001b[39m.\u001b[39msetdefault(\u001b[39m\"\u001b[39m\u001b[39mevaluate\u001b[39m\u001b[39m\"\u001b[39m, \u001b[39mTrue\u001b[39;00m)\n\u001b[1;32m-> 3555\u001b[0m     \u001b[39mreturn\u001b[39;00m _derivative_dispatch(\u001b[39mself\u001b[39m, \u001b[39m*\u001b[39msymbols, \u001b[39m*\u001b[39m\u001b[39m*\u001b[39massumptions)\n",
      "File \u001b[1;32m~\\AppData\\Roaming\\Python\\Python39\\site-packages\\sympy\\core\\function.py:1914\u001b[0m, in \u001b[0;36m_derivative_dispatch\u001b[1;34m(expr, *variables, **kwargs)\u001b[0m\n\u001b[0;32m   1912\u001b[0m     \u001b[39mfrom\u001b[39;00m \u001b[39msympy\u001b[39;00m\u001b[39m.\u001b[39;00m\u001b[39mtensor\u001b[39;00m\u001b[39m.\u001b[39;00m\u001b[39marray\u001b[39;00m\u001b[39m.\u001b[39;00m\u001b[39marray_derivatives\u001b[39;00m \u001b[39mimport\u001b[39;00m ArrayDerivative\n\u001b[0;32m   1913\u001b[0m     \u001b[39mreturn\u001b[39;00m ArrayDerivative(expr, \u001b[39m*\u001b[39mvariables, \u001b[39m*\u001b[39m\u001b[39m*\u001b[39mkwargs)\n\u001b[1;32m-> 1914\u001b[0m \u001b[39mreturn\u001b[39;00m Derivative(expr, \u001b[39m*\u001b[39mvariables, \u001b[39m*\u001b[39m\u001b[39m*\u001b[39mkwargs)\n",
      "File \u001b[1;32m~\\AppData\\Roaming\\Python\\Python39\\site-packages\\sympy\\core\\function.py:1442\u001b[0m, in \u001b[0;36mDerivative.__new__\u001b[1;34m(cls, expr, *variables, **kwargs)\u001b[0m\n\u001b[0;32m   1435\u001b[0m     \u001b[39mif\u001b[39;00m \u001b[39mnot\u001b[39;00m old_v\u001b[39m.\u001b[39mis_scalar \u001b[39mand\u001b[39;00m \u001b[39mnot\u001b[39;00m \u001b[39mhasattr\u001b[39m(\n\u001b[0;32m   1436\u001b[0m             old_v, \u001b[39m'\u001b[39m\u001b[39m_eval_derivative\u001b[39m\u001b[39m'\u001b[39m):\n\u001b[0;32m   1437\u001b[0m         \u001b[39m# special hack providing evaluation for classes\u001b[39;00m\n\u001b[0;32m   1438\u001b[0m         \u001b[39m# that have defined is_scalar=True but have no\u001b[39;00m\n\u001b[0;32m   1439\u001b[0m         \u001b[39m# _eval_derivative defined\u001b[39;00m\n\u001b[0;32m   1440\u001b[0m         expr \u001b[39m*\u001b[39m\u001b[39m=\u001b[39m old_v\u001b[39m.\u001b[39mdiff(old_v)\n\u001b[1;32m-> 1442\u001b[0m obj \u001b[39m=\u001b[39m \u001b[39mcls\u001b[39;49m\u001b[39m.\u001b[39;49m_dispatch_eval_derivative_n_times(expr, v, count)\n\u001b[0;32m   1443\u001b[0m \u001b[39mif\u001b[39;00m obj \u001b[39mis\u001b[39;00m \u001b[39mnot\u001b[39;00m \u001b[39mNone\u001b[39;00m \u001b[39mand\u001b[39;00m obj\u001b[39m.\u001b[39mis_zero:\n\u001b[0;32m   1444\u001b[0m     \u001b[39mreturn\u001b[39;00m obj\n",
      "File \u001b[1;32m~\\AppData\\Roaming\\Python\\Python39\\site-packages\\sympy\\core\\function.py:1903\u001b[0m, in \u001b[0;36mDerivative._dispatch_eval_derivative_n_times\u001b[1;34m(cls, expr, v, count)\u001b[0m\n\u001b[0;32m   1897\u001b[0m \u001b[39m@classmethod\u001b[39m\n\u001b[0;32m   1898\u001b[0m \u001b[39mdef\u001b[39;00m \u001b[39m_dispatch_eval_derivative_n_times\u001b[39m(\u001b[39mcls\u001b[39m, expr, v, count):\n\u001b[0;32m   1899\u001b[0m     \u001b[39m# Evaluate the derivative `n` times.  If\u001b[39;00m\n\u001b[0;32m   1900\u001b[0m     \u001b[39m# `_eval_derivative_n_times` is not overridden by the current\u001b[39;00m\n\u001b[0;32m   1901\u001b[0m     \u001b[39m# object, the default in `Basic` will call a loop over\u001b[39;00m\n\u001b[0;32m   1902\u001b[0m     \u001b[39m# `_eval_derivative`:\u001b[39;00m\n\u001b[1;32m-> 1903\u001b[0m     \u001b[39mreturn\u001b[39;00m expr\u001b[39m.\u001b[39;49m_eval_derivative_n_times(v, count)\n",
      "File \u001b[1;32m~\\AppData\\Roaming\\Python\\Python39\\site-packages\\sympy\\core\\cache.py:70\u001b[0m, in \u001b[0;36m__cacheit.<locals>.func_wrapper.<locals>.wrapper\u001b[1;34m(*args, **kwargs)\u001b[0m\n\u001b[0;32m     67\u001b[0m \u001b[39m@wraps\u001b[39m(func)\n\u001b[0;32m     68\u001b[0m \u001b[39mdef\u001b[39;00m \u001b[39mwrapper\u001b[39m(\u001b[39m*\u001b[39margs, \u001b[39m*\u001b[39m\u001b[39m*\u001b[39mkwargs):\n\u001b[0;32m     69\u001b[0m     \u001b[39mtry\u001b[39;00m:\n\u001b[1;32m---> 70\u001b[0m         retval \u001b[39m=\u001b[39m cfunc(\u001b[39m*\u001b[39margs, \u001b[39m*\u001b[39m\u001b[39m*\u001b[39mkwargs)\n\u001b[0;32m     71\u001b[0m     \u001b[39mexcept\u001b[39;00m \u001b[39mTypeError\u001b[39;00m \u001b[39mas\u001b[39;00m e:\n\u001b[0;32m     72\u001b[0m         \u001b[39mif\u001b[39;00m \u001b[39mnot\u001b[39;00m e\u001b[39m.\u001b[39margs \u001b[39mor\u001b[39;00m \u001b[39mnot\u001b[39;00m e\u001b[39m.\u001b[39margs[\u001b[39m0\u001b[39m]\u001b[39m.\u001b[39mstartswith(\u001b[39m'\u001b[39m\u001b[39munhashable type:\u001b[39m\u001b[39m'\u001b[39m):\n",
      "File \u001b[1;32m~\\AppData\\Roaming\\Python\\Python39\\site-packages\\sympy\\core\\mul.py:977\u001b[0m, in \u001b[0;36mMul._eval_derivative_n_times\u001b[1;34m(self, s, n)\u001b[0m\n\u001b[0;32m    973\u001b[0m \u001b[39mfrom\u001b[39;00m \u001b[39m.\u001b[39;00m\u001b[39msymbol\u001b[39;00m \u001b[39mimport\u001b[39;00m Symbol, symbols, Dummy\n\u001b[0;32m    974\u001b[0m \u001b[39mif\u001b[39;00m \u001b[39mnot\u001b[39;00m \u001b[39misinstance\u001b[39m(s, (AppliedUndef, Symbol)):\n\u001b[0;32m    975\u001b[0m     \u001b[39m# other types of s may not be well behaved, e.g.\u001b[39;00m\n\u001b[0;32m    976\u001b[0m     \u001b[39m# (cos(x)*sin(y)).diff([[x, y, z]])\u001b[39;00m\n\u001b[1;32m--> 977\u001b[0m     \u001b[39mreturn\u001b[39;00m \u001b[39msuper\u001b[39;49m()\u001b[39m.\u001b[39;49m_eval_derivative_n_times(s, n)\n\u001b[0;32m    978\u001b[0m \u001b[39mfrom\u001b[39;00m \u001b[39m.\u001b[39;00m\u001b[39mnumbers\u001b[39;00m \u001b[39mimport\u001b[39;00m Integer\n\u001b[0;32m    979\u001b[0m args \u001b[39m=\u001b[39m \u001b[39mself\u001b[39m\u001b[39m.\u001b[39margs\n",
      "File \u001b[1;32m~\\AppData\\Roaming\\Python\\Python39\\site-packages\\sympy\\core\\basic.py:1785\u001b[0m, in \u001b[0;36mBasic._eval_derivative_n_times\u001b[1;34m(self, s, n)\u001b[0m\n\u001b[0;32m   1783\u001b[0m obj \u001b[39m=\u001b[39m \u001b[39mself\u001b[39m\n\u001b[0;32m   1784\u001b[0m \u001b[39mfor\u001b[39;00m i \u001b[39min\u001b[39;00m \u001b[39mrange\u001b[39m(n):\n\u001b[1;32m-> 1785\u001b[0m     obj2 \u001b[39m=\u001b[39m obj\u001b[39m.\u001b[39;49m_eval_derivative(s)\n\u001b[0;32m   1786\u001b[0m     \u001b[39mif\u001b[39;00m obj \u001b[39m==\u001b[39m obj2 \u001b[39mor\u001b[39;00m obj2 \u001b[39mis\u001b[39;00m \u001b[39mNone\u001b[39;00m:\n\u001b[0;32m   1787\u001b[0m         \u001b[39mbreak\u001b[39;00m\n",
      "File \u001b[1;32m~\\AppData\\Roaming\\Python\\Python39\\site-packages\\sympy\\core\\cache.py:70\u001b[0m, in \u001b[0;36m__cacheit.<locals>.func_wrapper.<locals>.wrapper\u001b[1;34m(*args, **kwargs)\u001b[0m\n\u001b[0;32m     67\u001b[0m \u001b[39m@wraps\u001b[39m(func)\n\u001b[0;32m     68\u001b[0m \u001b[39mdef\u001b[39;00m \u001b[39mwrapper\u001b[39m(\u001b[39m*\u001b[39margs, \u001b[39m*\u001b[39m\u001b[39m*\u001b[39mkwargs):\n\u001b[0;32m     69\u001b[0m     \u001b[39mtry\u001b[39;00m:\n\u001b[1;32m---> 70\u001b[0m         retval \u001b[39m=\u001b[39m cfunc(\u001b[39m*\u001b[39margs, \u001b[39m*\u001b[39m\u001b[39m*\u001b[39mkwargs)\n\u001b[0;32m     71\u001b[0m     \u001b[39mexcept\u001b[39;00m \u001b[39mTypeError\u001b[39;00m \u001b[39mas\u001b[39;00m e:\n\u001b[0;32m     72\u001b[0m         \u001b[39mif\u001b[39;00m \u001b[39mnot\u001b[39;00m e\u001b[39m.\u001b[39margs \u001b[39mor\u001b[39;00m \u001b[39mnot\u001b[39;00m e\u001b[39m.\u001b[39margs[\u001b[39m0\u001b[39m]\u001b[39m.\u001b[39mstartswith(\u001b[39m'\u001b[39m\u001b[39munhashable type:\u001b[39m\u001b[39m'\u001b[39m):\n",
      "File \u001b[1;32m~\\AppData\\Roaming\\Python\\Python39\\site-packages\\sympy\\core\\mul.py:963\u001b[0m, in \u001b[0;36mMul._eval_derivative\u001b[1;34m(self, s)\u001b[0m\n\u001b[0;32m    961\u001b[0m terms \u001b[39m=\u001b[39m []\n\u001b[0;32m    962\u001b[0m \u001b[39mfor\u001b[39;00m i \u001b[39min\u001b[39;00m \u001b[39mrange\u001b[39m(\u001b[39mlen\u001b[39m(args)):\n\u001b[1;32m--> 963\u001b[0m     d \u001b[39m=\u001b[39m args[i]\u001b[39m.\u001b[39;49mdiff(s)\n\u001b[0;32m    964\u001b[0m     \u001b[39mif\u001b[39;00m d:\n\u001b[0;32m    965\u001b[0m         \u001b[39m# Note: reduce is used in step of Mul as Mul is unable to\u001b[39;00m\n\u001b[0;32m    966\u001b[0m         \u001b[39m# handle subtypes and operation priority:\u001b[39;00m\n\u001b[0;32m    967\u001b[0m         terms\u001b[39m.\u001b[39mappend(reduce(\u001b[39mlambda\u001b[39;00m x, y: x\u001b[39m*\u001b[39my, (args[:i] \u001b[39m+\u001b[39m [d] \u001b[39m+\u001b[39m args[i \u001b[39m+\u001b[39m \u001b[39m1\u001b[39m:]), S\u001b[39m.\u001b[39mOne))\n",
      "File \u001b[1;32m~\\AppData\\Roaming\\Python\\Python39\\site-packages\\sympy\\core\\expr.py:3555\u001b[0m, in \u001b[0;36mExpr.diff\u001b[1;34m(self, *symbols, **assumptions)\u001b[0m\n\u001b[0;32m   3553\u001b[0m \u001b[39mdef\u001b[39;00m \u001b[39mdiff\u001b[39m(\u001b[39mself\u001b[39m, \u001b[39m*\u001b[39msymbols, \u001b[39m*\u001b[39m\u001b[39m*\u001b[39massumptions):\n\u001b[0;32m   3554\u001b[0m     assumptions\u001b[39m.\u001b[39msetdefault(\u001b[39m\"\u001b[39m\u001b[39mevaluate\u001b[39m\u001b[39m\"\u001b[39m, \u001b[39mTrue\u001b[39;00m)\n\u001b[1;32m-> 3555\u001b[0m     \u001b[39mreturn\u001b[39;00m _derivative_dispatch(\u001b[39mself\u001b[39m, \u001b[39m*\u001b[39msymbols, \u001b[39m*\u001b[39m\u001b[39m*\u001b[39massumptions)\n",
      "File \u001b[1;32m~\\AppData\\Roaming\\Python\\Python39\\site-packages\\sympy\\core\\function.py:1914\u001b[0m, in \u001b[0;36m_derivative_dispatch\u001b[1;34m(expr, *variables, **kwargs)\u001b[0m\n\u001b[0;32m   1912\u001b[0m     \u001b[39mfrom\u001b[39;00m \u001b[39msympy\u001b[39;00m\u001b[39m.\u001b[39;00m\u001b[39mtensor\u001b[39;00m\u001b[39m.\u001b[39;00m\u001b[39marray\u001b[39;00m\u001b[39m.\u001b[39;00m\u001b[39marray_derivatives\u001b[39;00m \u001b[39mimport\u001b[39;00m ArrayDerivative\n\u001b[0;32m   1913\u001b[0m     \u001b[39mreturn\u001b[39;00m ArrayDerivative(expr, \u001b[39m*\u001b[39mvariables, \u001b[39m*\u001b[39m\u001b[39m*\u001b[39mkwargs)\n\u001b[1;32m-> 1914\u001b[0m \u001b[39mreturn\u001b[39;00m Derivative(expr, \u001b[39m*\u001b[39mvariables, \u001b[39m*\u001b[39m\u001b[39m*\u001b[39mkwargs)\n",
      "File \u001b[1;32m~\\AppData\\Roaming\\Python\\Python39\\site-packages\\sympy\\core\\function.py:1442\u001b[0m, in \u001b[0;36mDerivative.__new__\u001b[1;34m(cls, expr, *variables, **kwargs)\u001b[0m\n\u001b[0;32m   1435\u001b[0m     \u001b[39mif\u001b[39;00m \u001b[39mnot\u001b[39;00m old_v\u001b[39m.\u001b[39mis_scalar \u001b[39mand\u001b[39;00m \u001b[39mnot\u001b[39;00m \u001b[39mhasattr\u001b[39m(\n\u001b[0;32m   1436\u001b[0m             old_v, \u001b[39m'\u001b[39m\u001b[39m_eval_derivative\u001b[39m\u001b[39m'\u001b[39m):\n\u001b[0;32m   1437\u001b[0m         \u001b[39m# special hack providing evaluation for classes\u001b[39;00m\n\u001b[0;32m   1438\u001b[0m         \u001b[39m# that have defined is_scalar=True but have no\u001b[39;00m\n\u001b[0;32m   1439\u001b[0m         \u001b[39m# _eval_derivative defined\u001b[39;00m\n\u001b[0;32m   1440\u001b[0m         expr \u001b[39m*\u001b[39m\u001b[39m=\u001b[39m old_v\u001b[39m.\u001b[39mdiff(old_v)\n\u001b[1;32m-> 1442\u001b[0m obj \u001b[39m=\u001b[39m \u001b[39mcls\u001b[39;49m\u001b[39m.\u001b[39;49m_dispatch_eval_derivative_n_times(expr, v, count)\n\u001b[0;32m   1443\u001b[0m \u001b[39mif\u001b[39;00m obj \u001b[39mis\u001b[39;00m \u001b[39mnot\u001b[39;00m \u001b[39mNone\u001b[39;00m \u001b[39mand\u001b[39;00m obj\u001b[39m.\u001b[39mis_zero:\n\u001b[0;32m   1444\u001b[0m     \u001b[39mreturn\u001b[39;00m obj\n",
      "File \u001b[1;32m~\\AppData\\Roaming\\Python\\Python39\\site-packages\\sympy\\core\\function.py:1903\u001b[0m, in \u001b[0;36mDerivative._dispatch_eval_derivative_n_times\u001b[1;34m(cls, expr, v, count)\u001b[0m\n\u001b[0;32m   1897\u001b[0m \u001b[39m@classmethod\u001b[39m\n\u001b[0;32m   1898\u001b[0m \u001b[39mdef\u001b[39;00m \u001b[39m_dispatch_eval_derivative_n_times\u001b[39m(\u001b[39mcls\u001b[39m, expr, v, count):\n\u001b[0;32m   1899\u001b[0m     \u001b[39m# Evaluate the derivative `n` times.  If\u001b[39;00m\n\u001b[0;32m   1900\u001b[0m     \u001b[39m# `_eval_derivative_n_times` is not overridden by the current\u001b[39;00m\n\u001b[0;32m   1901\u001b[0m     \u001b[39m# object, the default in `Basic` will call a loop over\u001b[39;00m\n\u001b[0;32m   1902\u001b[0m     \u001b[39m# `_eval_derivative`:\u001b[39;00m\n\u001b[1;32m-> 1903\u001b[0m     \u001b[39mreturn\u001b[39;00m expr\u001b[39m.\u001b[39;49m_eval_derivative_n_times(v, count)\n",
      "File \u001b[1;32m~\\AppData\\Roaming\\Python\\Python39\\site-packages\\sympy\\core\\basic.py:1785\u001b[0m, in \u001b[0;36mBasic._eval_derivative_n_times\u001b[1;34m(self, s, n)\u001b[0m\n\u001b[0;32m   1783\u001b[0m obj \u001b[39m=\u001b[39m \u001b[39mself\u001b[39m\n\u001b[0;32m   1784\u001b[0m \u001b[39mfor\u001b[39;00m i \u001b[39min\u001b[39;00m \u001b[39mrange\u001b[39m(n):\n\u001b[1;32m-> 1785\u001b[0m     obj2 \u001b[39m=\u001b[39m obj\u001b[39m.\u001b[39;49m_eval_derivative(s)\n\u001b[0;32m   1786\u001b[0m     \u001b[39mif\u001b[39;00m obj \u001b[39m==\u001b[39m obj2 \u001b[39mor\u001b[39;00m obj2 \u001b[39mis\u001b[39;00m \u001b[39mNone\u001b[39;00m:\n\u001b[0;32m   1787\u001b[0m         \u001b[39mbreak\u001b[39;00m\n",
      "File \u001b[1;32m~\\AppData\\Roaming\\Python\\Python39\\site-packages\\sympy\\core\\function.py:607\u001b[0m, in \u001b[0;36mFunction._eval_derivative\u001b[1;34m(self, s)\u001b[0m\n\u001b[0;32m    605\u001b[0m     \u001b[39mcontinue\u001b[39;00m\n\u001b[0;32m    606\u001b[0m \u001b[39mtry\u001b[39;00m:\n\u001b[1;32m--> 607\u001b[0m     df \u001b[39m=\u001b[39m \u001b[39mself\u001b[39;49m\u001b[39m.\u001b[39;49mfdiff(i)\n\u001b[0;32m    608\u001b[0m \u001b[39mexcept\u001b[39;00m ArgumentIndexError:\n\u001b[0;32m    609\u001b[0m     df \u001b[39m=\u001b[39m Function\u001b[39m.\u001b[39mfdiff(\u001b[39mself\u001b[39m, i)\n",
      "File \u001b[1;32m~\\AppData\\Roaming\\Python\\Python39\\site-packages\\sympy\\functions\\elementary\\exponential.py:648\u001b[0m, in \u001b[0;36mlog.fdiff\u001b[1;34m(self, argindex)\u001b[0m\n\u001b[0;32m    644\u001b[0m \u001b[39m\"\"\"\u001b[39;00m\n\u001b[0;32m    645\u001b[0m \u001b[39mReturns the first derivative of the function.\u001b[39;00m\n\u001b[0;32m    646\u001b[0m \u001b[39m\"\"\"\u001b[39;00m\n\u001b[0;32m    647\u001b[0m \u001b[39mif\u001b[39;00m argindex \u001b[39m==\u001b[39m \u001b[39m1\u001b[39m:\n\u001b[1;32m--> 648\u001b[0m     \u001b[39mreturn\u001b[39;00m \u001b[39m1\u001b[39;49m\u001b[39m/\u001b[39;49m\u001b[39mself\u001b[39;49m\u001b[39m.\u001b[39;49margs[\u001b[39m0\u001b[39;49m]\n\u001b[0;32m    649\u001b[0m \u001b[39melse\u001b[39;00m:\n\u001b[0;32m    650\u001b[0m     \u001b[39mraise\u001b[39;00m ArgumentIndexError(\u001b[39mself\u001b[39m, argindex)\n",
      "File \u001b[1;32m~\\AppData\\Roaming\\Python\\Python39\\site-packages\\sympy\\matrices\\expressions\\matexpr.py:27\u001b[0m, in \u001b[0;36m_sympifyit.<locals>.deco.<locals>.__sympifyit_wrapper\u001b[1;34m(a, b)\u001b[0m\n\u001b[0;32m     25\u001b[0m \u001b[39mtry\u001b[39;00m:\n\u001b[0;32m     26\u001b[0m     b \u001b[39m=\u001b[39m _sympify(b)\n\u001b[1;32m---> 27\u001b[0m     \u001b[39mreturn\u001b[39;00m func(a, b)\n\u001b[0;32m     28\u001b[0m \u001b[39mexcept\u001b[39;00m SympifyError:\n\u001b[0;32m     29\u001b[0m     \u001b[39mreturn\u001b[39;00m retval\n",
      "File \u001b[1;32m~\\AppData\\Roaming\\Python\\Python39\\site-packages\\sympy\\core\\decorators.py:106\u001b[0m, in \u001b[0;36mcall_highest_priority.<locals>.priority_decorator.<locals>.binary_op_wrapper\u001b[1;34m(self, other)\u001b[0m\n\u001b[0;32m    104\u001b[0m         \u001b[39mif\u001b[39;00m f \u001b[39mis\u001b[39;00m \u001b[39mnot\u001b[39;00m \u001b[39mNone\u001b[39;00m:\n\u001b[0;32m    105\u001b[0m             \u001b[39mreturn\u001b[39;00m f(\u001b[39mself\u001b[39m)\n\u001b[1;32m--> 106\u001b[0m \u001b[39mreturn\u001b[39;00m func(\u001b[39mself\u001b[39;49m, other)\n",
      "File \u001b[1;32m~\\AppData\\Roaming\\Python\\Python39\\site-packages\\sympy\\matrices\\expressions\\matexpr.py:162\u001b[0m, in \u001b[0;36mMatrixExpr.__rtruediv__\u001b[1;34m(self, other)\u001b[0m\n\u001b[0;32m    159\u001b[0m \u001b[39m@_sympifyit\u001b[39m(\u001b[39m'\u001b[39m\u001b[39mother\u001b[39m\u001b[39m'\u001b[39m, \u001b[39mNotImplemented\u001b[39m)\n\u001b[0;32m    160\u001b[0m \u001b[39m@call_highest_priority\u001b[39m(\u001b[39m'\u001b[39m\u001b[39m__truediv__\u001b[39m\u001b[39m'\u001b[39m)\n\u001b[0;32m    161\u001b[0m \u001b[39mdef\u001b[39;00m \u001b[39m__rtruediv__\u001b[39m(\u001b[39mself\u001b[39m, other):\n\u001b[1;32m--> 162\u001b[0m     \u001b[39mraise\u001b[39;00m \u001b[39mNotImplementedError\u001b[39;00m()\n",
      "\u001b[1;31mNotImplementedError\u001b[0m: "
     ]
    }
   ],
   "source": [
    "F.diff(a[0,0])"
   ]
  },
  {
   "cell_type": "code",
   "execution_count": 32,
   "metadata": {},
   "outputs": [
    {
     "ename": "SyntaxError",
     "evalue": "invalid syntax (3143159140.py, line 1)",
     "output_type": "error",
     "traceback": [
      "\u001b[1;36m  Cell \u001b[1;32mIn[32], line 1\u001b[1;36m\u001b[0m\n\u001b[1;33m    array([[(b_y.T).dot((A_y).dot(y_0) + (d_y).dot(array([[(Lambda(_d, log(_d)).((b_z.T).dot((d_z).dot(a[0, 0] + a[1, 0] + a[2, 0] + a[3, 0] + a[4, 0] + a[5, 0]) + (A_z).dot(z_0)).dot(zref**(-1.0)))).dot(F2xCO2/log(2))]]))), (b_y.T).dot((A_y).dot((A_y).dot(y_0) + (d_y).dot(array([[(Lambda(_d, log(_d)).((b_z.T).dot((d_z).dot(a[0, 0] + a[1, 0] + a[2, 0] + a[3, 0] + a[4, 0] + a[5, 0]) + (A_z).dot(z_0)).dot(zref**(-1.0)))).dot(F2xCO2/log(2))]]))) + (d_y).dot(array([[(Lambda(_d, log(_d)).((b_z.T).dot((d_z).dot(a[0, 1] + a[1, 1] + a[2, 1] + a[3, 1] + a[4, 1] + a[5, 1]) + (A_z).dot((d_z).dot(a[0, 0] + a[1, 0] + a[2, 0] + a[3, 0] + a[4, 0] + a[5, 0]) + (A_z).dot(z_0))).dot(zref**(-1.0)))).dot(F2xCO2/log(2))]]))), (b_y.T).dot((A_y).dot((A_y).dot((A_y).dot(y_0) + (d_y).dot(array([[(Lambda(_d, log(_d)).((b_z.T).dot((d_z).dot(a[0, 0] + a[1, 0] + a[2, 0] + a[3, 0] + a[4, 0] + a[5, 0]) + (A_z).dot(z_0)).dot(zref**(-1.0)))).dot(F2xCO2/log(2))]]))) + (d_y).dot(array([[(Lambda(_d, log(_d)).((b_z.T).dot((d_z).dot(a[0, 1] + a[1, 1] + a[2, 1] + a[3, 1] + a[4, 1] + a[5, 1]) + (A_z).dot((d_z).dot(a[0, 0] + a[1, 0] + a[2, 0] + a[3, 0] + a[4, 0] + a[5, 0]) + (A_z).dot(z_0))).dot(zref**(-1.0)))).dot(F2xCO2/log(2))]]))) + (d_y).dot(array([[(Lambda(_d, log(_d)).((b_z.T).dot((d_z).dot(a[0, 2] + a[1, 2] + a[2, 2] + a[3, 2] + a[4, 2] + a[5, 2]) + (A_z).dot((d_z).dot(a[0, 1] + a[1, 1] + a[2, 1] + a[3, 1] + a[4, 1] + a[5, 1]) + (A_z).dot((d_z).dot(a[0, 0] + a[1, 0] + a[2, 0] + a[3, 0] + a[4, 0] + a[5, 0]) + (A_z).dot(z_0)))).dot(zref**(-1.0)))).dot(F2xCO2/log(2))]])))]])\u001b[0m\n\u001b[1;37m                                                                                ^\u001b[0m\n\u001b[1;31mSyntaxError\u001b[0m\u001b[1;31m:\u001b[0m invalid syntax\n"
     ]
    }
   ],
   "source": [
    "np.array([[(b_y.T).dot((A_y).dot(y_0) + (d_y).dot(array([[(Lambda(_d, log(_d)).((b_z.T).dot((d_z).dot(a[0, 0] + a[1, 0] + a[2, 0] + a[3, 0] + a[4, 0] + a[5, 0]) + (A_z).dot(z_0)).dot(zref**(-1.0)))).dot(F2xCO2/log(2))]]))), (b_y.T).dot((A_y).dot((A_y).dot(y_0) + (d_y).dot(array([[(Lambda(_d, log(_d)).((b_z.T).dot((d_z).dot(a[0, 0] + a[1, 0] + a[2, 0] + a[3, 0] + a[4, 0] + a[5, 0]) + (A_z).dot(z_0)).dot(zref**(-1.0)))).dot(F2xCO2/log(2))]]))) + (d_y).dot(array([[(Lambda(_d, log(_d)).((b_z.T).dot((d_z).dot(a[0, 1] + a[1, 1] + a[2, 1] + a[3, 1] + a[4, 1] + a[5, 1]) + (A_z).dot((d_z).dot(a[0, 0] + a[1, 0] + a[2, 0] + a[3, 0] + a[4, 0] + a[5, 0]) + (A_z).dot(z_0))).dot(zref**(-1.0)))).dot(F2xCO2/log(2))]]))), (b_y.T).dot((A_y).dot((A_y).dot((A_y).dot(y_0) + (d_y).dot(array([[(Lambda(_d, log(_d)).((b_z.T).dot((d_z).dot(a[0, 0] + a[1, 0] + a[2, 0] + a[3, 0] + a[4, 0] + a[5, 0]) + (A_z).dot(z_0)).dot(zref**(-1.0)))).dot(F2xCO2/log(2))]]))) + (d_y).dot(array([[(Lambda(_d, log(_d)).((b_z.T).dot((d_z).dot(a[0, 1] + a[1, 1] + a[2, 1] + a[3, 1] + a[4, 1] + a[5, 1]) + (A_z).dot((d_z).dot(a[0, 0] + a[1, 0] + a[2, 0] + a[3, 0] + a[4, 0] + a[5, 0]) + (A_z).dot(z_0))).dot(zref**(-1.0)))).dot(F2xCO2/log(2))]]))) + (d_y).dot(array([[(Lambda(_d, log(_d)).((b_z.T).dot((d_z).dot(a[0, 2] + a[1, 2] + a[2, 2] + a[3, 2] + a[4, 2] + a[5, 2]) + (A_z).dot((d_z).dot(a[0, 1] + a[1, 1] + a[2, 1] + a[3, 1] + a[4, 1] + a[5, 1]) + (A_z).dot((d_z).dot(a[0, 0] + a[1, 0] + a[2, 0] + a[3, 0] + a[4, 0] + a[5, 0]) + (A_z).dot(z_0)))).dot(zref**(-1.0)))).dot(F2xCO2/log(2))]])))]])"
   ]
  },
  {
   "cell_type": "code",
   "execution_count": null,
   "metadata": {},
   "outputs": [],
   "source": []
  },
  {
   "cell_type": "code",
   "execution_count": 1,
   "metadata": {},
   "outputs": [
    {
     "name": "stdout",
     "output_type": "stream",
     "text": [
      "ok\n"
     ]
    }
   ],
   "source": [
    "from sympy import *\n",
    "from models.geophysic_models import *\n",
    "from parameters import *\n",
    "import sympy\n",
    "\n",
    "\n",
    "CC = Carbon_JOOS()\n",
    "TD = Temp_Discret_Geoffroy()\n",
    "\n",
    "\n",
    "\n",
    "# Définissez vos variables et fonctions symboliques\n",
    "# t = sympy.Symbol('t', integer=True)\n",
    "\n",
    "T = 3\n",
    "\n",
    "\n",
    "z = zeros( 1, T)\n",
    "z_AT = zeros( 1, T)\n",
    "z_ratio = zeros( 1, T)\n",
    "\n",
    "forcing = zeros( 1, T)\n",
    "\n",
    "y = zeros( 1, T)\n",
    "y_AT = zeros( 1, T)\n",
    "\n",
    "\n",
    "a = MatrixSymbol('a', 1,  T)\n",
    "sum_other_a = MatrixSymbol('am', 1,T)\n",
    "sum_a = a + sum_other_a\n",
    "\n",
    "mz = CC.Ac5.shape[0]\n",
    "A_z = MatrixSymbol('Az', mz, mz)\n",
    "b_z = MatrixSymbol('bz', 1, mz)\n",
    "d_z = MatrixSymbol('dz', mz, 1)\n",
    "\n",
    "my = TD.At5.shape[0]\n",
    "A_y = MatrixSymbol('Ay', my, my)\n",
    "b_y = MatrixSymbol('by', 1, my)\n",
    "d_y = MatrixSymbol('dy', my, 1)\n",
    "\n",
    "\n",
    "F_2xCO2 = sympy.Symbol('F2xCO2')\n",
    "z_ref = sympy.Symbol('zref')\n",
    "z_1750 = sympy.MatrixSymbol('zrefm', 1,1)\n",
    "\n",
    "k = sympy.Symbol('k', integer=True)\n",
    "# Définissez vos fonctions\n",
    "\n",
    "z_0 = sympy.MatrixSymbol('z0', mz, 1)\n",
    "z_ = z_0\n",
    "\n",
    "z_AT[0] = b_z @ z[0]\n",
    "y_0 = sympy.MatrixSymbol('y0', my, 1)\n",
    "y_ = y_0\n",
    "y_AT[0] = b_y @ y[0]\n",
    "for t in range(0,T):\n",
    "    z_ = A_z @ z_ + d_z * sum_a[t] \n",
    "    z[t] = z_\n",
    "    z_AT[t] = (b_z * z[t]) + z_1750\n",
    "    z_ratio[t] = (b_z @ z_ + z_1750)*  (1/ z_ref)  \n",
    "    forcing[t] = F_2xCO2/log(2) * z_ratio[t].applyfunc(log)\n",
    "\n",
    "    y_ = A_y @ y_ +   d_y @ forcing.col(t)\n",
    "    y[t] = y_\n",
    "    y_AT[t] = b_y @ y[t]\n",
    "\n",
    "\n",
    "\n",
    "# deriv_damage = polynome([0,1,1])\n",
    "\n",
    "# # function_deriv_damage = lambdify(temp, damage(temp).diff(), 'numpy')\n",
    "\n",
    "# Dd = zeros( 1, T)\n",
    "\n",
    "# for t in range(0,T):\n",
    "#     Dd[t] = y_AT[t].applyfunc(deriv_damage) \n",
    "# # Dd = MatrixSymbol('D\\'(y)', 1,T)\n",
    "\n",
    "# deriv_y_AT = y_AT.jacobian(a)\n",
    "# # deriv_y_AT = MatrixSymbol('dy/da ',2,2)\n",
    "\n",
    "\n",
    "# Dd_times_y_AT = zeros(T,T)\n",
    "# for i in range(0,T):\n",
    "#     for j in range(0,T):\n",
    "#         Dd_times_y_AT[i,j] = deriv_y_AT[i,j] * Dd[i]  \n",
    "\n",
    "\n",
    "# # Dd = Dd * ones(Dd.shape[1], 1)\n",
    "\n",
    "\n",
    "# benefice = polynome([0,1])\n",
    "# # benefice = Function('B')\n",
    "\n",
    "\n",
    "# B = a.applyfunc(benefice)\n",
    "# # for t in range(T):\n",
    "# #     B[t] = a[t].applyfunc(benefice)\n",
    "\n",
    "# Bd = B.diff(a) \n",
    "# PHI = Bd - Dd_times_y_AT\n",
    "\n",
    "\n",
    "print('ok')\n",
    "\n",
    "# Imprimez vos fonctions\n"
   ]
  },
  {
   "cell_type": "code",
   "execution_count": 2,
   "metadata": {},
   "outputs": [
    {
     "data": {
      "text/latex": [
       "$\\displaystyle \\left[\\begin{matrix}\\frac{F2xCO2}{\\log{\\left(2 \\right)}} {\\left( d \\mapsto \\log{\\left(d \\right)} \\right)}_{\\circ}\\left({\\frac{1}{zref} \\left(bz \\left(\\left(a_{0, 0} + am_{0, 0}\\right) dz + Az z_{0}\\right) + zrefm\\right)}\\right) & \\frac{F2xCO2}{\\log{\\left(2 \\right)}} {\\left( d \\mapsto \\log{\\left(d \\right)} \\right)}_{\\circ}\\left({\\frac{1}{zref} \\left(bz \\left(\\left(a_{0, 1} + am_{0, 1}\\right) dz + Az \\left(\\left(a_{0, 0} + am_{0, 0}\\right) dz + Az z_{0}\\right)\\right) + zrefm\\right)}\\right) & \\frac{F2xCO2}{\\log{\\left(2 \\right)}} {\\left( d \\mapsto \\log{\\left(d \\right)} \\right)}_{\\circ}\\left({\\frac{1}{zref} \\left(bz \\left(\\left(a_{0, 2} + am_{0, 2}\\right) dz + Az \\left(\\left(a_{0, 1} + am_{0, 1}\\right) dz + Az \\left(\\left(a_{0, 0} + am_{0, 0}\\right) dz + Az z_{0}\\right)\\right)\\right) + zrefm\\right)}\\right)\\end{matrix}\\right]$"
      ],
      "text/plain": [
       "Matrix([[(F2xCO2/log(2))*Lambda(_d, log(_d)).(1/zref*(bz*((a[0, 0] + am[0, 0])*dz + Az*z0) + zrefm)), (F2xCO2/log(2))*Lambda(_d, log(_d)).(1/zref*(bz*((a[0, 1] + am[0, 1])*dz + Az*((a[0, 0] + am[0, 0])*dz + Az*z0)) + zrefm)), (F2xCO2/log(2))*Lambda(_d, log(_d)).(1/zref*(bz*((a[0, 2] + am[0, 2])*dz + Az*((a[0, 1] + am[0, 1])*dz + Az*((a[0, 0] + am[0, 0])*dz + Az*z0))) + zrefm))]])"
      ]
     },
     "execution_count": 2,
     "metadata": {},
     "output_type": "execute_result"
    }
   ],
   "source": [
    "forcing"
   ]
  },
  {
   "cell_type": "code",
   "execution_count": 3,
   "metadata": {},
   "outputs": [
    {
     "data": {
      "text/plain": [
       "(1, 3)"
      ]
     },
     "execution_count": 3,
     "metadata": {},
     "output_type": "execute_result"
    }
   ],
   "source": [
    "y_AT.shape"
   ]
  },
  {
   "cell_type": "code",
   "execution_count": 4,
   "metadata": {},
   "outputs": [],
   "source": [
    "y_AT_sim = zeros(1,T)\n",
    "\n",
    "for t in range(T):\n",
    "    y_AT_sim[t] = y_AT[t].expand().simplify()\n",
    "\n"
   ]
  },
  {
   "cell_type": "code",
   "execution_count": 2,
   "metadata": {},
   "outputs": [
    {
     "data": {
      "text/latex": [
       "$\\displaystyle \\left[\\begin{matrix}by \\left(Ay y_{0} + dy \\left[\\begin{matrix}\\frac{F2xCO2}{\\log{\\left(2 \\right)}} {\\left( d \\mapsto \\log{\\left(d \\right)} \\right)}_{\\circ}\\left({\\frac{1}{zref} \\left(bz \\left(\\left(a_{0, 0} + am_{0, 0}\\right) dz + Az z_{0}\\right) + zrefm\\right)}\\right)\\end{matrix}\\right]\\right) & by \\left(Ay \\left(Ay y_{0} + dy \\left[\\begin{matrix}\\frac{F2xCO2}{\\log{\\left(2 \\right)}} {\\left( d \\mapsto \\log{\\left(d \\right)} \\right)}_{\\circ}\\left({\\frac{1}{zref} \\left(bz \\left(\\left(a_{0, 0} + am_{0, 0}\\right) dz + Az z_{0}\\right) + zrefm\\right)}\\right)\\end{matrix}\\right]\\right) + dy \\left[\\begin{matrix}\\frac{F2xCO2}{\\log{\\left(2 \\right)}} {\\left( d \\mapsto \\log{\\left(d \\right)} \\right)}_{\\circ}\\left({\\frac{1}{zref} \\left(bz \\left(\\left(a_{0, 1} + am_{0, 1}\\right) dz + Az \\left(\\left(a_{0, 0} + am_{0, 0}\\right) dz + Az z_{0}\\right)\\right) + zrefm\\right)}\\right)\\end{matrix}\\right]\\right) & by \\left(Ay \\left(Ay \\left(Ay y_{0} + dy \\left[\\begin{matrix}\\frac{F2xCO2}{\\log{\\left(2 \\right)}} {\\left( d \\mapsto \\log{\\left(d \\right)} \\right)}_{\\circ}\\left({\\frac{1}{zref} \\left(bz \\left(\\left(a_{0, 0} + am_{0, 0}\\right) dz + Az z_{0}\\right) + zrefm\\right)}\\right)\\end{matrix}\\right]\\right) + dy \\left[\\begin{matrix}\\frac{F2xCO2}{\\log{\\left(2 \\right)}} {\\left( d \\mapsto \\log{\\left(d \\right)} \\right)}_{\\circ}\\left({\\frac{1}{zref} \\left(bz \\left(\\left(a_{0, 1} + am_{0, 1}\\right) dz + Az \\left(\\left(a_{0, 0} + am_{0, 0}\\right) dz + Az z_{0}\\right)\\right) + zrefm\\right)}\\right)\\end{matrix}\\right]\\right) + dy \\left[\\begin{matrix}\\frac{F2xCO2}{\\log{\\left(2 \\right)}} {\\left( d \\mapsto \\log{\\left(d \\right)} \\right)}_{\\circ}\\left({\\frac{1}{zref} \\left(bz \\left(\\left(a_{0, 2} + am_{0, 2}\\right) dz + Az \\left(\\left(a_{0, 1} + am_{0, 1}\\right) dz + Az \\left(\\left(a_{0, 0} + am_{0, 0}\\right) dz + Az z_{0}\\right)\\right)\\right) + zrefm\\right)}\\right)\\end{matrix}\\right]\\right)\\end{matrix}\\right]$"
      ],
      "text/plain": [
       "Matrix([[by*(Ay*y0 + dy*Matrix([[(F2xCO2/log(2))*Lambda(_d, log(_d)).(1/zref*(bz*((a[0, 0] + am[0, 0])*dz + Az*z0) + zrefm))]])), by*(Ay*(Ay*y0 + dy*Matrix([[(F2xCO2/log(2))*Lambda(_d, log(_d)).(1/zref*(bz*((a[0, 0] + am[0, 0])*dz + Az*z0) + zrefm))]])) + dy*Matrix([[(F2xCO2/log(2))*Lambda(_d, log(_d)).(1/zref*(bz*((a[0, 1] + am[0, 1])*dz + Az*((a[0, 0] + am[0, 0])*dz + Az*z0)) + zrefm))]])), by*(Ay*(Ay*(Ay*y0 + dy*Matrix([[(F2xCO2/log(2))*Lambda(_d, log(_d)).(1/zref*(bz*((a[0, 0] + am[0, 0])*dz + Az*z0) + zrefm))]])) + dy*Matrix([[(F2xCO2/log(2))*Lambda(_d, log(_d)).(1/zref*(bz*((a[0, 1] + am[0, 1])*dz + Az*((a[0, 0] + am[0, 0])*dz + Az*z0)) + zrefm))]])) + dy*Matrix([[(F2xCO2/log(2))*Lambda(_d, log(_d)).(1/zref*(bz*((a[0, 2] + am[0, 2])*dz + Az*((a[0, 1] + am[0, 1])*dz + Az*((a[0, 0] + am[0, 0])*dz + Az*z0))) + zrefm))]]))]])"
      ]
     },
     "execution_count": 2,
     "metadata": {},
     "output_type": "execute_result"
    }
   ],
   "source": [
    "y_AT"
   ]
  },
  {
   "cell_type": "code",
   "execution_count": 6,
   "metadata": {},
   "outputs": [
    {
     "data": {
      "text/latex": [
       "$\\displaystyle \\left[\\begin{matrix}by Ay y_{0} + by dy \\left[\\begin{matrix}\\frac{F2xCO2}{\\log{\\left(2 \\right)}} {\\left( d \\mapsto \\log{\\left(d \\right)} \\right)}_{\\circ}\\left({\\left(\\frac{a_{0, 0} + am_{0, 0}}{zref} bz dz\\right) + \\frac{1}{zref} bz Az z_{0} + \\frac{1}{zref} zrefm}\\right)\\end{matrix}\\right] & by Ay^{2} y_{0} + by Ay dy \\left[\\begin{matrix}\\frac{F2xCO2}{\\log{\\left(2 \\right)}} {\\left( d \\mapsto \\log{\\left(d \\right)} \\right)}_{\\circ}\\left({\\left(\\frac{a_{0, 0} + am_{0, 0}}{zref} bz dz\\right) + \\frac{1}{zref} bz Az z_{0} + \\frac{1}{zref} zrefm}\\right)\\end{matrix}\\right] + by dy \\left[\\begin{matrix}\\frac{F2xCO2}{\\log{\\left(2 \\right)}} {\\left( d \\mapsto \\log{\\left(d \\right)} \\right)}_{\\circ}\\left({\\left(\\frac{a_{0, 1} + am_{0, 1}}{zref} bz dz\\right) + \\left(\\frac{a_{0, 0} + am_{0, 0}}{zref} bz Az dz\\right) + \\frac{1}{zref} bz Az^{2} z_{0} + \\frac{1}{zref} zrefm}\\right)\\end{matrix}\\right] & by Ay^{2} dy \\left[\\begin{matrix}\\frac{F2xCO2}{\\log{\\left(2 \\right)}} {\\left( d \\mapsto \\log{\\left(d \\right)} \\right)}_{\\circ}\\left({\\left(\\frac{a_{0, 0} + am_{0, 0}}{zref} bz dz\\right) + \\frac{1}{zref} bz Az z_{0} + \\frac{1}{zref} zrefm}\\right)\\end{matrix}\\right] + by Ay^{3} y_{0} + by Ay dy \\left[\\begin{matrix}\\frac{F2xCO2}{\\log{\\left(2 \\right)}} {\\left( d \\mapsto \\log{\\left(d \\right)} \\right)}_{\\circ}\\left({\\left(\\frac{a_{0, 1} + am_{0, 1}}{zref} bz dz\\right) + \\left(\\frac{a_{0, 0} + am_{0, 0}}{zref} bz Az dz\\right) + \\frac{1}{zref} bz Az^{2} z_{0} + \\frac{1}{zref} zrefm}\\right)\\end{matrix}\\right] + by dy \\left[\\begin{matrix}\\frac{F2xCO2}{\\log{\\left(2 \\right)}} {\\left( d \\mapsto \\log{\\left(d \\right)} \\right)}_{\\circ}\\left({\\left(\\frac{a_{0, 2} + am_{0, 2}}{zref} bz dz\\right) + \\left(\\frac{a_{0, 0} + am_{0, 0}}{zref} bz Az^{2} dz\\right) + \\left(\\frac{a_{0, 1} + am_{0, 1}}{zref} bz Az dz\\right) + \\frac{1}{zref} bz Az^{3} z_{0} + \\frac{1}{zref} zrefm}\\right)\\end{matrix}\\right]\\end{matrix}\\right]$"
      ],
      "text/plain": [
       "Matrix([[by*Ay*y0 + by*dy*Matrix([[(F2xCO2/log(2))*Lambda(_d, log(_d)).((((a[0, 0] + am[0, 0])/zref)*bz*dz) + 1/zref*bz*Az*z0 + 1/zref*zrefm)]]), by*Ay**2*y0 + by*Ay*dy*Matrix([[(F2xCO2/log(2))*Lambda(_d, log(_d)).((((a[0, 0] + am[0, 0])/zref)*bz*dz) + 1/zref*bz*Az*z0 + 1/zref*zrefm)]]) + by*dy*Matrix([[(F2xCO2/log(2))*Lambda(_d, log(_d)).((((a[0, 1] + am[0, 1])/zref)*bz*dz) + (((a[0, 0] + am[0, 0])/zref)*bz*Az*dz) + 1/zref*bz*Az**2*z0 + 1/zref*zrefm)]]), by*Ay**2*dy*Matrix([[(F2xCO2/log(2))*Lambda(_d, log(_d)).((((a[0, 0] + am[0, 0])/zref)*bz*dz) + 1/zref*bz*Az*z0 + 1/zref*zrefm)]]) + by*Ay**3*y0 + by*Ay*dy*Matrix([[(F2xCO2/log(2))*Lambda(_d, log(_d)).((((a[0, 1] + am[0, 1])/zref)*bz*dz) + (((a[0, 0] + am[0, 0])/zref)*bz*Az*dz) + 1/zref*bz*Az**2*z0 + 1/zref*zrefm)]]) + by*dy*Matrix([[(F2xCO2/log(2))*Lambda(_d, log(_d)).((((a[0, 2] + am[0, 2])/zref)*bz*dz) + (((a[0, 0] + am[0, 0])/zref)*bz*Az**2*dz) + (((a[0, 1] + am[0, 1])/zref)*bz*Az*dz) + 1/zref*bz*Az**3*z0 + 1/zref*zrefm)]])]])"
      ]
     },
     "execution_count": 6,
     "metadata": {},
     "output_type": "execute_result"
    }
   ],
   "source": [
    "y_AT_sim"
   ]
  },
  {
   "cell_type": "code",
   "execution_count": 8,
   "metadata": {},
   "outputs": [
    {
     "ename": "SyntaxError",
     "evalue": "invalid syntax (<lambdifygenerated-3>, line 7)",
     "output_type": "error",
     "traceback": [
      "Traceback \u001b[1;36m(most recent call last)\u001b[0m:\n",
      "\u001b[0m  File \u001b[0;32mc:\\ProgramData\\Anaconda3\\envs\\CO2\\lib\\site-packages\\IPython\\core\\interactiveshell.py:3433\u001b[0m in \u001b[0;35mrun_code\u001b[0m\n    exec(code_obj, self.user_global_ns, self.user_ns)\u001b[0m\n",
      "\u001b[0m  Cell \u001b[0;32mIn[8], line 1\u001b[0m\n    y_AT_ = lambdify([a, sum_other_a, b_y, d_y, A_y, b_z, d_z, A_z, z_0, y_0, F_2xCO2, z_ref, z_1750], y_AT_sim, 'numpy',cse=True)\u001b[0m\n",
      "\u001b[1;36m  File \u001b[1;32m~\\AppData\\Roaming\\Python\\Python39\\site-packages\\sympy\\utilities\\lambdify.py:888\u001b[1;36m in \u001b[1;35mlambdify\u001b[1;36m\n\u001b[1;33m    c = compile(funcstr, filename, 'exec')\u001b[1;36m\n",
      "\u001b[1;36m  File \u001b[1;32m<lambdifygenerated-3>:7\u001b[1;36m\u001b[0m\n\u001b[1;33m    x5 = ((Lambda(_d, log(_d)).(((bz).dot(Az).dot(z0)).dot(x1) + ((x4).dot(x3)) + x2))).dot(x0)\u001b[0m\n\u001b[1;37m                               ^\u001b[0m\n\u001b[1;31mSyntaxError\u001b[0m\u001b[1;31m:\u001b[0m invalid syntax\n"
     ]
    }
   ],
   "source": [
    "y_AT_ = lambdify([a, sum_other_a, b_y, d_y, A_y, b_z, d_z, A_z, z_0, y_0, F_2xCO2, z_ref, z_1750], y_AT_sim, 'numpy',cse=True)\n",
    "\n",
    "def temp(a : np.array, sum_other_a : np.ndarray):\n",
    "    return y_AT_(\n",
    "                a,\n",
    "                sum_other_a,\n",
    "                np.array([TD.bt]), \n",
    "                np.array([TD.d5]).T, \n",
    "                TD.At5, \n",
    "                np.array([CC.bc]), \n",
    "                np.array([CC.dc5]).T, \n",
    "                CC.Ac5, \n",
    "                np.array([CC.initial_state]).T, \n",
    "                np.array([TD.initial_state]).T, \n",
    "                F_2XCO2, \n",
    "                C_1750,\n",
    "                np.array([[C_1750]])\n",
    "            ).squeeze()"
   ]
  },
  {
   "cell_type": "code",
   "execution_count": 6,
   "metadata": {},
   "outputs": [],
   "source": [
    "\n",
    "\n",
    "jac_ = y_AT_sim.jacobian(a)\n",
    "y_AT_jac_ = lambdify([a, sum_other_a, b_y, d_y, A_y, b_z, d_z, A_z, z_0, y_0, F_2xCO2, z_ref, z_1750], jac_, \"numpy\", cse =True)\n",
    "\n",
    "def temp_jac(a : np.array, sum_other_a : np.ndarray):\n",
    "    return y_AT_jac_(\n",
    "                a,\n",
    "                sum_other_a,\n",
    "                np.array([TD.bt]), \n",
    "                np.array([TD.d5]).T, \n",
    "                TD.At5, \n",
    "                np.array([CC.bc]), \n",
    "                np.array([CC.dc5]).T, \n",
    "                CC.Ac5, \n",
    "                np.array([CC.initial_state]).T, \n",
    "                np.array([TD.initial_state]).T, \n",
    "                F_2XCO2, \n",
    "                C_1750,\n",
    "                np.array([[C_1750]])\n",
    "            ).squeeze()"
   ]
  },
  {
   "cell_type": "code",
   "execution_count": 7,
   "metadata": {},
   "outputs": [
    {
     "data": {
      "text/plain": [
       "array([[0.00283803, 0.        , 0.        ],\n",
       "       [0.00310997, 0.00285586, 0.        ],\n",
       "       [0.00298694, 0.00312664, 0.00287034]])"
      ]
     },
     "execution_count": 7,
     "metadata": {},
     "output_type": "execute_result"
    }
   ],
   "source": [
    "y_AT_jac_(\n",
    "    np.zeros_like(a),\n",
    "    np.zeros_like(sum_other_a),\n",
    "    np.array([TD.bt]), \n",
    "    np.array([TD.d5]).T, \n",
    "    TD.At5, \n",
    "    np.array([CC.bc]), \n",
    "    np.array([CC.dc5]).T, \n",
    "    CC.Ac5, \n",
    "    np.array([CC.initial_state]).T, \n",
    "    np.array([TD.initial_state]).T, \n",
    "    F_2XCO2, \n",
    "    C_1750,\n",
    "    np.array([[C_1750]])\n",
    ").squeeze()"
   ]
  },
  {
   "attachments": {},
   "cell_type": "markdown",
   "metadata": {},
   "source": [
    "# Damage"
   ]
  },
  {
   "cell_type": "code",
   "execution_count": 49,
   "metadata": {},
   "outputs": [],
   "source": [
    "X = Symbol('x')\n",
    "from models.game_theory_model import *\n",
    "damage= polynome([0,3,2])\n",
    "damage_deriv = lambdify(X, damage(X).diff(X), 'numpy')"
   ]
  },
  {
   "cell_type": "code",
   "execution_count": 58,
   "metadata": {},
   "outputs": [
    {
     "data": {
      "text/plain": [
       "array([[7, 0, 0, 0, 0, 0, 0, 0, 0, 0, 0, 0, 0, 0, 0],\n",
       "       [0, 7, 0, 0, 0, 0, 0, 0, 0, 0, 0, 0, 0, 0, 0],\n",
       "       [0, 0, 7, 0, 0, 0, 0, 0, 0, 0, 0, 0, 0, 0, 0],\n",
       "       [0, 0, 0, 7, 0, 0, 0, 0, 0, 0, 0, 0, 0, 0, 0],\n",
       "       [0, 0, 0, 0, 7, 0, 0, 0, 0, 0, 0, 0, 0, 0, 0],\n",
       "       [0, 0, 0, 0, 0, 7, 0, 0, 0, 0, 0, 0, 0, 0, 0],\n",
       "       [0, 0, 0, 0, 0, 0, 7, 0, 0, 0, 0, 0, 0, 0, 0],\n",
       "       [0, 0, 0, 0, 0, 0, 0, 7, 0, 0, 0, 0, 0, 0, 0],\n",
       "       [0, 0, 0, 0, 0, 0, 0, 0, 7, 0, 0, 0, 0, 0, 0],\n",
       "       [0, 0, 0, 0, 0, 0, 0, 0, 0, 7, 0, 0, 0, 0, 0],\n",
       "       [0, 0, 0, 0, 0, 0, 0, 0, 0, 0, 7, 0, 0, 0, 0],\n",
       "       [0, 0, 0, 0, 0, 0, 0, 0, 0, 0, 0, 7, 0, 0, 0],\n",
       "       [0, 0, 0, 0, 0, 0, 0, 0, 0, 0, 0, 0, 7, 0, 0],\n",
       "       [0, 0, 0, 0, 0, 0, 0, 0, 0, 0, 0, 0, 0, 7, 0],\n",
       "       [0, 0, 0, 0, 0, 0, 0, 0, 0, 0, 0, 0, 0, 0, 7]], dtype=object)"
      ]
     },
     "execution_count": 58,
     "metadata": {},
     "output_type": "execute_result"
    }
   ],
   "source": [
    "np.diag(damage_deriv(np.ones_like(a).squeeze()))"
   ]
  },
  {
   "cell_type": "code",
   "execution_count": 55,
   "metadata": {},
   "outputs": [
    {
     "data": {
      "text/plain": [
       "(15,)"
      ]
     },
     "execution_count": 55,
     "metadata": {},
     "output_type": "execute_result"
    }
   ],
   "source": [
    "np.ones_like(a).squeeze().shape"
   ]
  },
  {
   "cell_type": "code",
   "execution_count": 29,
   "metadata": {},
   "outputs": [
    {
     "data": {
      "text/latex": [
       "$\\displaystyle \\operatorname{DiagMatrix}\\left(a\\right)$"
      ],
      "text/plain": [
       "DiagMatrix(a)"
      ]
     },
     "execution_count": 29,
     "metadata": {},
     "output_type": "execute_result"
    }
   ],
   "source": [
    "XX"
   ]
  },
  {
   "cell_type": "code",
   "execution_count": 16,
   "metadata": {},
   "outputs": [
    {
     "data": {
      "text/plain": [
       "array([[0, 0, 0, 0, 0, 0, 0, 0, 0, 0, 0, 0, 0, 0, 0]], dtype=object)"
      ]
     },
     "execution_count": 16,
     "metadata": {},
     "output_type": "execute_result"
    }
   ],
   "source": [
    "np.zeros_like(a)"
   ]
  },
  {
   "cell_type": "code",
   "execution_count": 38,
   "metadata": {},
   "outputs": [
    {
     "ename": "KeyboardInterrupt",
     "evalue": "",
     "output_type": "error",
     "traceback": [
      "\u001b[1;31m---------------------------------------------------------------------------\u001b[0m",
      "\u001b[1;31mKeyboardInterrupt\u001b[0m                         Traceback (most recent call last)",
      "Cell \u001b[1;32mIn[38], line 1\u001b[0m\n\u001b[1;32m----> 1\u001b[0m PHI\n",
      "File \u001b[1;32mc:\\ProgramData\\Anaconda3\\envs\\CO2\\lib\\site-packages\\IPython\\core\\displayhook.py:262\u001b[0m, in \u001b[0;36mDisplayHook.__call__\u001b[1;34m(self, result)\u001b[0m\n\u001b[0;32m    260\u001b[0m \u001b[39mself\u001b[39m\u001b[39m.\u001b[39mstart_displayhook()\n\u001b[0;32m    261\u001b[0m \u001b[39mself\u001b[39m\u001b[39m.\u001b[39mwrite_output_prompt()\n\u001b[1;32m--> 262\u001b[0m format_dict, md_dict \u001b[39m=\u001b[39m \u001b[39mself\u001b[39;49m\u001b[39m.\u001b[39;49mcompute_format_data(result)\n\u001b[0;32m    263\u001b[0m \u001b[39mself\u001b[39m\u001b[39m.\u001b[39mupdate_user_ns(result)\n\u001b[0;32m    264\u001b[0m \u001b[39mself\u001b[39m\u001b[39m.\u001b[39mfill_exec_result(result)\n",
      "File \u001b[1;32mc:\\ProgramData\\Anaconda3\\envs\\CO2\\lib\\site-packages\\IPython\\core\\displayhook.py:151\u001b[0m, in \u001b[0;36mDisplayHook.compute_format_data\u001b[1;34m(self, result)\u001b[0m\n\u001b[0;32m    121\u001b[0m \u001b[39mdef\u001b[39;00m \u001b[39mcompute_format_data\u001b[39m(\u001b[39mself\u001b[39m, result):\n\u001b[0;32m    122\u001b[0m     \u001b[39m\"\"\"Compute format data of the object to be displayed.\u001b[39;00m\n\u001b[0;32m    123\u001b[0m \n\u001b[0;32m    124\u001b[0m \u001b[39m    The format data is a generalization of the :func:`repr` of an object.\u001b[39;00m\n\u001b[1;32m   (...)\u001b[0m\n\u001b[0;32m    149\u001b[0m \n\u001b[0;32m    150\u001b[0m \u001b[39m    \"\"\"\u001b[39;00m\n\u001b[1;32m--> 151\u001b[0m     \u001b[39mreturn\u001b[39;00m \u001b[39mself\u001b[39;49m\u001b[39m.\u001b[39;49mshell\u001b[39m.\u001b[39;49mdisplay_formatter\u001b[39m.\u001b[39;49mformat(result)\n",
      "File \u001b[1;32mc:\\ProgramData\\Anaconda3\\envs\\CO2\\lib\\site-packages\\IPython\\core\\formatters.py:177\u001b[0m, in \u001b[0;36mDisplayFormatter.format\u001b[1;34m(self, obj, include, exclude)\u001b[0m\n\u001b[0;32m    175\u001b[0m md \u001b[39m=\u001b[39m \u001b[39mNone\u001b[39;00m\n\u001b[0;32m    176\u001b[0m \u001b[39mtry\u001b[39;00m:\n\u001b[1;32m--> 177\u001b[0m     data \u001b[39m=\u001b[39m formatter(obj)\n\u001b[0;32m    178\u001b[0m \u001b[39mexcept\u001b[39;00m:\n\u001b[0;32m    179\u001b[0m     \u001b[39m# FIXME: log the exception\u001b[39;00m\n\u001b[0;32m    180\u001b[0m     \u001b[39mraise\u001b[39;00m\n",
      "File \u001b[1;32mc:\\ProgramData\\Anaconda3\\envs\\CO2\\lib\\site-packages\\decorator.py:232\u001b[0m, in \u001b[0;36mdecorate.<locals>.fun\u001b[1;34m(*args, **kw)\u001b[0m\n\u001b[0;32m    230\u001b[0m \u001b[39mif\u001b[39;00m \u001b[39mnot\u001b[39;00m kwsyntax:\n\u001b[0;32m    231\u001b[0m     args, kw \u001b[39m=\u001b[39m fix(args, kw, sig)\n\u001b[1;32m--> 232\u001b[0m \u001b[39mreturn\u001b[39;00m caller(func, \u001b[39m*\u001b[39m(extras \u001b[39m+\u001b[39m args), \u001b[39m*\u001b[39m\u001b[39m*\u001b[39mkw)\n",
      "File \u001b[1;32mc:\\ProgramData\\Anaconda3\\envs\\CO2\\lib\\site-packages\\IPython\\core\\formatters.py:221\u001b[0m, in \u001b[0;36mcatch_format_error\u001b[1;34m(method, self, *args, **kwargs)\u001b[0m\n\u001b[0;32m    219\u001b[0m \u001b[39m\"\"\"show traceback on failed format call\"\"\"\u001b[39;00m\n\u001b[0;32m    220\u001b[0m \u001b[39mtry\u001b[39;00m:\n\u001b[1;32m--> 221\u001b[0m     r \u001b[39m=\u001b[39m method(\u001b[39mself\u001b[39m, \u001b[39m*\u001b[39margs, \u001b[39m*\u001b[39m\u001b[39m*\u001b[39mkwargs)\n\u001b[0;32m    222\u001b[0m \u001b[39mexcept\u001b[39;00m \u001b[39mNotImplementedError\u001b[39;00m:\n\u001b[0;32m    223\u001b[0m     \u001b[39m# don't warn on NotImplementedErrors\u001b[39;00m\n\u001b[0;32m    224\u001b[0m     \u001b[39mreturn\u001b[39;00m \u001b[39mself\u001b[39m\u001b[39m.\u001b[39m_check_return(\u001b[39mNone\u001b[39;00m, args[\u001b[39m0\u001b[39m])\n",
      "File \u001b[1;32mc:\\ProgramData\\Anaconda3\\envs\\CO2\\lib\\site-packages\\IPython\\core\\formatters.py:342\u001b[0m, in \u001b[0;36mBaseFormatter.__call__\u001b[1;34m(self, obj)\u001b[0m\n\u001b[0;32m    340\u001b[0m     method \u001b[39m=\u001b[39m get_real_method(obj, \u001b[39mself\u001b[39m\u001b[39m.\u001b[39mprint_method)\n\u001b[0;32m    341\u001b[0m     \u001b[39mif\u001b[39;00m method \u001b[39mis\u001b[39;00m \u001b[39mnot\u001b[39;00m \u001b[39mNone\u001b[39;00m:\n\u001b[1;32m--> 342\u001b[0m         \u001b[39mreturn\u001b[39;00m method()\n\u001b[0;32m    343\u001b[0m     \u001b[39mreturn\u001b[39;00m \u001b[39mNone\u001b[39;00m\n\u001b[0;32m    344\u001b[0m \u001b[39melse\u001b[39;00m:\n",
      "File \u001b[1;32m~\\AppData\\Roaming\\Python\\Python39\\site-packages\\sympy\\core\\_print_helpers.py:64\u001b[0m, in \u001b[0;36mPrintable._repr_latex_\u001b[1;34m(self)\u001b[0m\n\u001b[0;32m     55\u001b[0m \u001b[39m\"\"\"\u001b[39;00m\n\u001b[0;32m     56\u001b[0m \u001b[39mIPython/Jupyter LaTeX printing\u001b[39;00m\n\u001b[0;32m     57\u001b[0m \n\u001b[1;32m   (...)\u001b[0m\n\u001b[0;32m     61\u001b[0m \u001b[39mSymPy objects, like lists and dictionaries of expressions.\u001b[39;00m\n\u001b[0;32m     62\u001b[0m \u001b[39m\"\"\"\u001b[39;00m\n\u001b[0;32m     63\u001b[0m \u001b[39mfrom\u001b[39;00m \u001b[39msympy\u001b[39;00m\u001b[39m.\u001b[39;00m\u001b[39mprinting\u001b[39;00m\u001b[39m.\u001b[39;00m\u001b[39mlatex\u001b[39;00m \u001b[39mimport\u001b[39;00m latex\n\u001b[1;32m---> 64\u001b[0m s \u001b[39m=\u001b[39m latex(\u001b[39mself\u001b[39;49m, mode\u001b[39m=\u001b[39;49m\u001b[39m'\u001b[39;49m\u001b[39mplain\u001b[39;49m\u001b[39m'\u001b[39;49m)\n\u001b[0;32m     65\u001b[0m \u001b[39mreturn\u001b[39;00m \u001b[39m\"\u001b[39m\u001b[39m$\u001b[39m\u001b[39m\\\\\u001b[39;00m\u001b[39mdisplaystyle \u001b[39m\u001b[39m%s\u001b[39;00m\u001b[39m$\u001b[39m\u001b[39m\"\u001b[39m \u001b[39m%\u001b[39m s\n",
      "File \u001b[1;32m~\\AppData\\Roaming\\Python\\Python39\\site-packages\\sympy\\printing\\printer.py:372\u001b[0m, in \u001b[0;36m_PrintFunction.__call__\u001b[1;34m(self, *args, **kwargs)\u001b[0m\n\u001b[0;32m    371\u001b[0m \u001b[39mdef\u001b[39;00m \u001b[39m__call__\u001b[39m(\u001b[39mself\u001b[39m, \u001b[39m*\u001b[39margs, \u001b[39m*\u001b[39m\u001b[39m*\u001b[39mkwargs):\n\u001b[1;32m--> 372\u001b[0m     \u001b[39mreturn\u001b[39;00m \u001b[39mself\u001b[39m\u001b[39m.\u001b[39m__wrapped__(\u001b[39m*\u001b[39margs, \u001b[39m*\u001b[39m\u001b[39m*\u001b[39mkwargs)\n",
      "File \u001b[1;32m~\\AppData\\Roaming\\Python\\Python39\\site-packages\\sympy\\printing\\latex.py:3140\u001b[0m, in \u001b[0;36mlatex\u001b[1;34m(expr, **settings)\u001b[0m\n\u001b[0;32m   2928\u001b[0m \u001b[39m@print_function\u001b[39m(LatexPrinter)\n\u001b[0;32m   2929\u001b[0m \u001b[39mdef\u001b[39;00m \u001b[39mlatex\u001b[39m(expr, \u001b[39m*\u001b[39m\u001b[39m*\u001b[39msettings):\n\u001b[0;32m   2930\u001b[0m     \u001b[39mr\u001b[39m\u001b[39m\"\"\"Convert the given expression to LaTeX string representation.\u001b[39;00m\n\u001b[0;32m   2931\u001b[0m \n\u001b[0;32m   2932\u001b[0m \u001b[39m    Parameters\u001b[39;00m\n\u001b[1;32m   (...)\u001b[0m\n\u001b[0;32m   3138\u001b[0m \n\u001b[0;32m   3139\u001b[0m \u001b[39m    \"\"\"\u001b[39;00m\n\u001b[1;32m-> 3140\u001b[0m     \u001b[39mreturn\u001b[39;00m LatexPrinter(settings)\u001b[39m.\u001b[39;49mdoprint(expr)\n",
      "File \u001b[1;32m~\\AppData\\Roaming\\Python\\Python39\\site-packages\\sympy\\printing\\latex.py:264\u001b[0m, in \u001b[0;36mLatexPrinter.doprint\u001b[1;34m(self, expr)\u001b[0m\n\u001b[0;32m    263\u001b[0m \u001b[39mdef\u001b[39;00m \u001b[39mdoprint\u001b[39m(\u001b[39mself\u001b[39m, expr) \u001b[39m-\u001b[39m\u001b[39m>\u001b[39m \u001b[39mstr\u001b[39m:\n\u001b[1;32m--> 264\u001b[0m     tex \u001b[39m=\u001b[39m Printer\u001b[39m.\u001b[39;49mdoprint(\u001b[39mself\u001b[39;49m, expr)\n\u001b[0;32m    266\u001b[0m     \u001b[39mif\u001b[39;00m \u001b[39mself\u001b[39m\u001b[39m.\u001b[39m_settings[\u001b[39m'\u001b[39m\u001b[39mmode\u001b[39m\u001b[39m'\u001b[39m] \u001b[39m==\u001b[39m \u001b[39m'\u001b[39m\u001b[39mplain\u001b[39m\u001b[39m'\u001b[39m:\n\u001b[0;32m    267\u001b[0m         \u001b[39mreturn\u001b[39;00m tex\n",
      "File \u001b[1;32m~\\AppData\\Roaming\\Python\\Python39\\site-packages\\sympy\\printing\\printer.py:292\u001b[0m, in \u001b[0;36mPrinter.doprint\u001b[1;34m(self, expr)\u001b[0m\n\u001b[0;32m    290\u001b[0m \u001b[39mdef\u001b[39;00m \u001b[39mdoprint\u001b[39m(\u001b[39mself\u001b[39m, expr):\n\u001b[0;32m    291\u001b[0m     \u001b[39m\"\"\"Returns printer's representation for expr (as a string)\"\"\"\u001b[39;00m\n\u001b[1;32m--> 292\u001b[0m     \u001b[39mreturn\u001b[39;00m \u001b[39mself\u001b[39m\u001b[39m.\u001b[39m_str(\u001b[39mself\u001b[39;49m\u001b[39m.\u001b[39;49m_print(expr))\n",
      "File \u001b[1;32m~\\AppData\\Roaming\\Python\\Python39\\site-packages\\sympy\\printing\\printer.py:331\u001b[0m, in \u001b[0;36mPrinter._print\u001b[1;34m(self, expr, **kwargs)\u001b[0m\n\u001b[0;32m    329\u001b[0m     printmethod \u001b[39m=\u001b[39m \u001b[39mgetattr\u001b[39m(\u001b[39mself\u001b[39m, printmethodname, \u001b[39mNone\u001b[39;00m)\n\u001b[0;32m    330\u001b[0m     \u001b[39mif\u001b[39;00m printmethod \u001b[39mis\u001b[39;00m \u001b[39mnot\u001b[39;00m \u001b[39mNone\u001b[39;00m:\n\u001b[1;32m--> 331\u001b[0m         \u001b[39mreturn\u001b[39;00m printmethod(expr, \u001b[39m*\u001b[39m\u001b[39m*\u001b[39mkwargs)\n\u001b[0;32m    332\u001b[0m \u001b[39m# Unknown object, fall back to the emptyPrinter.\u001b[39;00m\n\u001b[0;32m    333\u001b[0m \u001b[39mreturn\u001b[39;00m \u001b[39mself\u001b[39m\u001b[39m.\u001b[39memptyPrinter(expr)\n",
      "File \u001b[1;32m~\\AppData\\Roaming\\Python\\Python39\\site-packages\\sympy\\printing\\latex.py:399\u001b[0m, in \u001b[0;36mLatexPrinter._print_Add\u001b[1;34m(self, expr, order)\u001b[0m\n\u001b[0;32m    397\u001b[0m \u001b[39melse\u001b[39;00m:\n\u001b[0;32m    398\u001b[0m     tex \u001b[39m+\u001b[39m\u001b[39m=\u001b[39m \u001b[39m\"\u001b[39m\u001b[39m + \u001b[39m\u001b[39m\"\u001b[39m\n\u001b[1;32m--> 399\u001b[0m term_tex \u001b[39m=\u001b[39m \u001b[39mself\u001b[39;49m\u001b[39m.\u001b[39;49m_print(term)\n\u001b[0;32m    400\u001b[0m \u001b[39mif\u001b[39;00m \u001b[39mself\u001b[39m\u001b[39m.\u001b[39m_needs_add_brackets(term):\n\u001b[0;32m    401\u001b[0m     term_tex \u001b[39m=\u001b[39m \u001b[39mr\u001b[39m\u001b[39m\"\u001b[39m\u001b[39m\\\u001b[39m\u001b[39mleft(\u001b[39m\u001b[39m%s\u001b[39;00m\u001b[39m\\\u001b[39m\u001b[39mright)\u001b[39m\u001b[39m\"\u001b[39m \u001b[39m%\u001b[39m term_tex\n",
      "File \u001b[1;32m~\\AppData\\Roaming\\Python\\Python39\\site-packages\\sympy\\printing\\printer.py:331\u001b[0m, in \u001b[0;36mPrinter._print\u001b[1;34m(self, expr, **kwargs)\u001b[0m\n\u001b[0;32m    329\u001b[0m     printmethod \u001b[39m=\u001b[39m \u001b[39mgetattr\u001b[39m(\u001b[39mself\u001b[39m, printmethodname, \u001b[39mNone\u001b[39;00m)\n\u001b[0;32m    330\u001b[0m     \u001b[39mif\u001b[39;00m printmethod \u001b[39mis\u001b[39;00m \u001b[39mnot\u001b[39;00m \u001b[39mNone\u001b[39;00m:\n\u001b[1;32m--> 331\u001b[0m         \u001b[39mreturn\u001b[39;00m printmethod(expr, \u001b[39m*\u001b[39m\u001b[39m*\u001b[39mkwargs)\n\u001b[0;32m    332\u001b[0m \u001b[39m# Unknown object, fall back to the emptyPrinter.\u001b[39;00m\n\u001b[0;32m    333\u001b[0m \u001b[39mreturn\u001b[39;00m \u001b[39mself\u001b[39m\u001b[39m.\u001b[39memptyPrinter(expr)\n",
      "File \u001b[1;32m~\\AppData\\Roaming\\Python\\Python39\\site-packages\\sympy\\printing\\latex.py:1708\u001b[0m, in \u001b[0;36mLatexPrinter._print_MatrixBase\u001b[1;34m(self, expr)\u001b[0m\n\u001b[0;32m   1707\u001b[0m \u001b[39mdef\u001b[39;00m \u001b[39m_print_MatrixBase\u001b[39m(\u001b[39mself\u001b[39m, expr):\n\u001b[1;32m-> 1708\u001b[0m     out_str \u001b[39m=\u001b[39m \u001b[39mself\u001b[39;49m\u001b[39m.\u001b[39;49m_print_matrix_contents(expr)\n\u001b[0;32m   1709\u001b[0m     \u001b[39mif\u001b[39;00m \u001b[39mself\u001b[39m\u001b[39m.\u001b[39m_settings[\u001b[39m'\u001b[39m\u001b[39mmat_delim\u001b[39m\u001b[39m'\u001b[39m]:\n\u001b[0;32m   1710\u001b[0m         left_delim: \u001b[39mstr\u001b[39m \u001b[39m=\u001b[39m \u001b[39mself\u001b[39m\u001b[39m.\u001b[39m_settings[\u001b[39m'\u001b[39m\u001b[39mmat_delim\u001b[39m\u001b[39m'\u001b[39m]\n",
      "File \u001b[1;32m~\\AppData\\Roaming\\Python\\Python39\\site-packages\\sympy\\printing\\latex.py:1689\u001b[0m, in \u001b[0;36mLatexPrinter._print_matrix_contents\u001b[1;34m(self, expr)\u001b[0m\n\u001b[0;32m   1686\u001b[0m lines \u001b[39m=\u001b[39m []\n\u001b[0;32m   1688\u001b[0m \u001b[39mfor\u001b[39;00m line \u001b[39min\u001b[39;00m \u001b[39mrange\u001b[39m(expr\u001b[39m.\u001b[39mrows):  \u001b[39m# horrible, should be 'rows'\u001b[39;00m\n\u001b[1;32m-> 1689\u001b[0m     lines\u001b[39m.\u001b[39mappend(\u001b[39m\"\u001b[39m\u001b[39m & \u001b[39m\u001b[39m\"\u001b[39m\u001b[39m.\u001b[39mjoin([\u001b[39mself\u001b[39m\u001b[39m.\u001b[39m_print(i) \u001b[39mfor\u001b[39;00m i \u001b[39min\u001b[39;00m expr[line, :]]))\n\u001b[0;32m   1691\u001b[0m mat_str \u001b[39m=\u001b[39m \u001b[39mself\u001b[39m\u001b[39m.\u001b[39m_settings[\u001b[39m'\u001b[39m\u001b[39mmat_str\u001b[39m\u001b[39m'\u001b[39m]\n\u001b[0;32m   1692\u001b[0m \u001b[39mif\u001b[39;00m mat_str \u001b[39mis\u001b[39;00m \u001b[39mNone\u001b[39;00m:\n",
      "File \u001b[1;32m~\\AppData\\Roaming\\Python\\Python39\\site-packages\\sympy\\printing\\latex.py:1689\u001b[0m, in \u001b[0;36m<listcomp>\u001b[1;34m(.0)\u001b[0m\n\u001b[0;32m   1686\u001b[0m lines \u001b[39m=\u001b[39m []\n\u001b[0;32m   1688\u001b[0m \u001b[39mfor\u001b[39;00m line \u001b[39min\u001b[39;00m \u001b[39mrange\u001b[39m(expr\u001b[39m.\u001b[39mrows):  \u001b[39m# horrible, should be 'rows'\u001b[39;00m\n\u001b[1;32m-> 1689\u001b[0m     lines\u001b[39m.\u001b[39mappend(\u001b[39m\"\u001b[39m\u001b[39m & \u001b[39m\u001b[39m\"\u001b[39m\u001b[39m.\u001b[39mjoin([\u001b[39mself\u001b[39;49m\u001b[39m.\u001b[39;49m_print(i) \u001b[39mfor\u001b[39;00m i \u001b[39min\u001b[39;00m expr[line, :]]))\n\u001b[0;32m   1691\u001b[0m mat_str \u001b[39m=\u001b[39m \u001b[39mself\u001b[39m\u001b[39m.\u001b[39m_settings[\u001b[39m'\u001b[39m\u001b[39mmat_str\u001b[39m\u001b[39m'\u001b[39m]\n\u001b[0;32m   1692\u001b[0m \u001b[39mif\u001b[39;00m mat_str \u001b[39mis\u001b[39;00m \u001b[39mNone\u001b[39;00m:\n",
      "File \u001b[1;32m~\\AppData\\Roaming\\Python\\Python39\\site-packages\\sympy\\printing\\printer.py:331\u001b[0m, in \u001b[0;36mPrinter._print\u001b[1;34m(self, expr, **kwargs)\u001b[0m\n\u001b[0;32m    329\u001b[0m     printmethod \u001b[39m=\u001b[39m \u001b[39mgetattr\u001b[39m(\u001b[39mself\u001b[39m, printmethodname, \u001b[39mNone\u001b[39;00m)\n\u001b[0;32m    330\u001b[0m     \u001b[39mif\u001b[39;00m printmethod \u001b[39mis\u001b[39;00m \u001b[39mnot\u001b[39;00m \u001b[39mNone\u001b[39;00m:\n\u001b[1;32m--> 331\u001b[0m         \u001b[39mreturn\u001b[39;00m printmethod(expr, \u001b[39m*\u001b[39m\u001b[39m*\u001b[39mkwargs)\n\u001b[0;32m    332\u001b[0m \u001b[39m# Unknown object, fall back to the emptyPrinter.\u001b[39;00m\n\u001b[0;32m    333\u001b[0m \u001b[39mreturn\u001b[39;00m \u001b[39mself\u001b[39m\u001b[39m.\u001b[39memptyPrinter(expr)\n",
      "File \u001b[1;32m~\\AppData\\Roaming\\Python\\Python39\\site-packages\\sympy\\printing\\latex.py:1780\u001b[0m, in \u001b[0;36mLatexPrinter._print_MatMul\u001b[1;34m(self, expr)\u001b[0m\n\u001b[0;32m   1778\u001b[0m     \u001b[39melse\u001b[39;00m:\n\u001b[0;32m   1779\u001b[0m         args[\u001b[39m0\u001b[39m] \u001b[39m=\u001b[39m \u001b[39m-\u001b[39margs[\u001b[39m0\u001b[39m]\n\u001b[1;32m-> 1780\u001b[0m     \u001b[39mreturn\u001b[39;00m \u001b[39m'\u001b[39m\u001b[39m- \u001b[39m\u001b[39m'\u001b[39m \u001b[39m+\u001b[39m \u001b[39m'\u001b[39;49m\u001b[39m \u001b[39;49m\u001b[39m'\u001b[39;49m\u001b[39m.\u001b[39;49mjoin(\u001b[39mmap\u001b[39;49m(parens, args))\n\u001b[0;32m   1781\u001b[0m \u001b[39melse\u001b[39;00m:\n\u001b[0;32m   1782\u001b[0m     \u001b[39mreturn\u001b[39;00m \u001b[39m'\u001b[39m\u001b[39m \u001b[39m\u001b[39m'\u001b[39m\u001b[39m.\u001b[39mjoin(\u001b[39mmap\u001b[39m(parens, args))\n",
      "File \u001b[1;32m~\\AppData\\Roaming\\Python\\Python39\\site-packages\\sympy\\printing\\latex.py:1772\u001b[0m, in \u001b[0;36mLatexPrinter._print_MatMul.<locals>.<lambda>\u001b[1;34m(x)\u001b[0m\n\u001b[0;32m   1768\u001b[0m \u001b[39mfrom\u001b[39;00m \u001b[39msympy\u001b[39;00m \u001b[39mimport\u001b[39;00m MatMul\n\u001b[0;32m   1770\u001b[0m \u001b[39m# Parenthesize nested MatMul but not other types of Mul objects:\u001b[39;00m\n\u001b[0;32m   1771\u001b[0m parens \u001b[39m=\u001b[39m \u001b[39mlambda\u001b[39;00m x: \u001b[39mself\u001b[39m\u001b[39m.\u001b[39m_print(x) \u001b[39mif\u001b[39;00m \u001b[39misinstance\u001b[39m(x, Mul) \u001b[39mand\u001b[39;00m \u001b[39mnot\u001b[39;00m \u001b[39misinstance\u001b[39m(x, MatMul) \u001b[39melse\u001b[39;00m \\\n\u001b[1;32m-> 1772\u001b[0m     \u001b[39mself\u001b[39;49m\u001b[39m.\u001b[39;49mparenthesize(x, precedence_traditional(expr), \u001b[39mFalse\u001b[39;49;00m)\n\u001b[0;32m   1774\u001b[0m args \u001b[39m=\u001b[39m \u001b[39mlist\u001b[39m(expr\u001b[39m.\u001b[39margs)\n\u001b[0;32m   1775\u001b[0m \u001b[39mif\u001b[39;00m expr\u001b[39m.\u001b[39mcould_extract_minus_sign():\n",
      "File \u001b[1;32m~\\AppData\\Roaming\\Python\\Python39\\site-packages\\sympy\\printing\\latex.py:245\u001b[0m, in \u001b[0;36mLatexPrinter.parenthesize\u001b[1;34m(self, item, level, is_neg, strict)\u001b[0m\n\u001b[0;32m    242\u001b[0m     \u001b[39mreturn\u001b[39;00m \u001b[39mself\u001b[39m\u001b[39m.\u001b[39m_add_parens(\u001b[39mself\u001b[39m\u001b[39m.\u001b[39m_print(item))\n\u001b[0;32m    244\u001b[0m \u001b[39mif\u001b[39;00m (prec_val \u001b[39m<\u001b[39m level) \u001b[39mor\u001b[39;00m ((\u001b[39mnot\u001b[39;00m strict) \u001b[39mand\u001b[39;00m prec_val \u001b[39m<\u001b[39m\u001b[39m=\u001b[39m level):\n\u001b[1;32m--> 245\u001b[0m     \u001b[39mreturn\u001b[39;00m \u001b[39mself\u001b[39m\u001b[39m.\u001b[39m_add_parens(\u001b[39mself\u001b[39;49m\u001b[39m.\u001b[39;49m_print(item))\n\u001b[0;32m    246\u001b[0m \u001b[39melse\u001b[39;00m:\n\u001b[0;32m    247\u001b[0m     \u001b[39mreturn\u001b[39;00m \u001b[39mself\u001b[39m\u001b[39m.\u001b[39m_print(item)\n",
      "File \u001b[1;32m~\\AppData\\Roaming\\Python\\Python39\\site-packages\\sympy\\printing\\printer.py:331\u001b[0m, in \u001b[0;36mPrinter._print\u001b[1;34m(self, expr, **kwargs)\u001b[0m\n\u001b[0;32m    329\u001b[0m     printmethod \u001b[39m=\u001b[39m \u001b[39mgetattr\u001b[39m(\u001b[39mself\u001b[39m, printmethodname, \u001b[39mNone\u001b[39;00m)\n\u001b[0;32m    330\u001b[0m     \u001b[39mif\u001b[39;00m printmethod \u001b[39mis\u001b[39;00m \u001b[39mnot\u001b[39;00m \u001b[39mNone\u001b[39;00m:\n\u001b[1;32m--> 331\u001b[0m         \u001b[39mreturn\u001b[39;00m printmethod(expr, \u001b[39m*\u001b[39m\u001b[39m*\u001b[39mkwargs)\n\u001b[0;32m    332\u001b[0m \u001b[39m# Unknown object, fall back to the emptyPrinter.\u001b[39;00m\n\u001b[0;32m    333\u001b[0m \u001b[39mreturn\u001b[39;00m \u001b[39mself\u001b[39m\u001b[39m.\u001b[39memptyPrinter(expr)\n",
      "File \u001b[1;32m~\\AppData\\Roaming\\Python\\Python39\\site-packages\\sympy\\printing\\latex.py:399\u001b[0m, in \u001b[0;36mLatexPrinter._print_Add\u001b[1;34m(self, expr, order)\u001b[0m\n\u001b[0;32m    397\u001b[0m \u001b[39melse\u001b[39;00m:\n\u001b[0;32m    398\u001b[0m     tex \u001b[39m+\u001b[39m\u001b[39m=\u001b[39m \u001b[39m\"\u001b[39m\u001b[39m + \u001b[39m\u001b[39m\"\u001b[39m\n\u001b[1;32m--> 399\u001b[0m term_tex \u001b[39m=\u001b[39m \u001b[39mself\u001b[39;49m\u001b[39m.\u001b[39;49m_print(term)\n\u001b[0;32m    400\u001b[0m \u001b[39mif\u001b[39;00m \u001b[39mself\u001b[39m\u001b[39m.\u001b[39m_needs_add_brackets(term):\n\u001b[0;32m    401\u001b[0m     term_tex \u001b[39m=\u001b[39m \u001b[39mr\u001b[39m\u001b[39m\"\u001b[39m\u001b[39m\\\u001b[39m\u001b[39mleft(\u001b[39m\u001b[39m%s\u001b[39;00m\u001b[39m\\\u001b[39m\u001b[39mright)\u001b[39m\u001b[39m\"\u001b[39m \u001b[39m%\u001b[39m term_tex\n",
      "File \u001b[1;32m~\\AppData\\Roaming\\Python\\Python39\\site-packages\\sympy\\printing\\printer.py:331\u001b[0m, in \u001b[0;36mPrinter._print\u001b[1;34m(self, expr, **kwargs)\u001b[0m\n\u001b[0;32m    329\u001b[0m     printmethod \u001b[39m=\u001b[39m \u001b[39mgetattr\u001b[39m(\u001b[39mself\u001b[39m, printmethodname, \u001b[39mNone\u001b[39;00m)\n\u001b[0;32m    330\u001b[0m     \u001b[39mif\u001b[39;00m printmethod \u001b[39mis\u001b[39;00m \u001b[39mnot\u001b[39;00m \u001b[39mNone\u001b[39;00m:\n\u001b[1;32m--> 331\u001b[0m         \u001b[39mreturn\u001b[39;00m printmethod(expr, \u001b[39m*\u001b[39m\u001b[39m*\u001b[39mkwargs)\n\u001b[0;32m    332\u001b[0m \u001b[39m# Unknown object, fall back to the emptyPrinter.\u001b[39;00m\n\u001b[0;32m    333\u001b[0m \u001b[39mreturn\u001b[39;00m \u001b[39mself\u001b[39m\u001b[39m.\u001b[39memptyPrinter(expr)\n",
      "File \u001b[1;32m~\\AppData\\Roaming\\Python\\Python39\\site-packages\\sympy\\printing\\latex.py:1782\u001b[0m, in \u001b[0;36mLatexPrinter._print_MatMul\u001b[1;34m(self, expr)\u001b[0m\n\u001b[0;32m   1780\u001b[0m     \u001b[39mreturn\u001b[39;00m \u001b[39m'\u001b[39m\u001b[39m- \u001b[39m\u001b[39m'\u001b[39m \u001b[39m+\u001b[39m \u001b[39m'\u001b[39m\u001b[39m \u001b[39m\u001b[39m'\u001b[39m\u001b[39m.\u001b[39mjoin(\u001b[39mmap\u001b[39m(parens, args))\n\u001b[0;32m   1781\u001b[0m \u001b[39melse\u001b[39;00m:\n\u001b[1;32m-> 1782\u001b[0m     \u001b[39mreturn\u001b[39;00m \u001b[39m'\u001b[39;49m\u001b[39m \u001b[39;49m\u001b[39m'\u001b[39;49m\u001b[39m.\u001b[39;49mjoin(\u001b[39mmap\u001b[39;49m(parens, args))\n",
      "File \u001b[1;32m~\\AppData\\Roaming\\Python\\Python39\\site-packages\\sympy\\printing\\latex.py:1772\u001b[0m, in \u001b[0;36mLatexPrinter._print_MatMul.<locals>.<lambda>\u001b[1;34m(x)\u001b[0m\n\u001b[0;32m   1768\u001b[0m \u001b[39mfrom\u001b[39;00m \u001b[39msympy\u001b[39;00m \u001b[39mimport\u001b[39;00m MatMul\n\u001b[0;32m   1770\u001b[0m \u001b[39m# Parenthesize nested MatMul but not other types of Mul objects:\u001b[39;00m\n\u001b[0;32m   1771\u001b[0m parens \u001b[39m=\u001b[39m \u001b[39mlambda\u001b[39;00m x: \u001b[39mself\u001b[39m\u001b[39m.\u001b[39m_print(x) \u001b[39mif\u001b[39;00m \u001b[39misinstance\u001b[39m(x, Mul) \u001b[39mand\u001b[39;00m \u001b[39mnot\u001b[39;00m \u001b[39misinstance\u001b[39m(x, MatMul) \u001b[39melse\u001b[39;00m \\\n\u001b[1;32m-> 1772\u001b[0m     \u001b[39mself\u001b[39;49m\u001b[39m.\u001b[39;49mparenthesize(x, precedence_traditional(expr), \u001b[39mFalse\u001b[39;49;00m)\n\u001b[0;32m   1774\u001b[0m args \u001b[39m=\u001b[39m \u001b[39mlist\u001b[39m(expr\u001b[39m.\u001b[39margs)\n\u001b[0;32m   1775\u001b[0m \u001b[39mif\u001b[39;00m expr\u001b[39m.\u001b[39mcould_extract_minus_sign():\n",
      "File \u001b[1;32m~\\AppData\\Roaming\\Python\\Python39\\site-packages\\sympy\\printing\\latex.py:245\u001b[0m, in \u001b[0;36mLatexPrinter.parenthesize\u001b[1;34m(self, item, level, is_neg, strict)\u001b[0m\n\u001b[0;32m    242\u001b[0m     \u001b[39mreturn\u001b[39;00m \u001b[39mself\u001b[39m\u001b[39m.\u001b[39m_add_parens(\u001b[39mself\u001b[39m\u001b[39m.\u001b[39m_print(item))\n\u001b[0;32m    244\u001b[0m \u001b[39mif\u001b[39;00m (prec_val \u001b[39m<\u001b[39m level) \u001b[39mor\u001b[39;00m ((\u001b[39mnot\u001b[39;00m strict) \u001b[39mand\u001b[39;00m prec_val \u001b[39m<\u001b[39m\u001b[39m=\u001b[39m level):\n\u001b[1;32m--> 245\u001b[0m     \u001b[39mreturn\u001b[39;00m \u001b[39mself\u001b[39m\u001b[39m.\u001b[39m_add_parens(\u001b[39mself\u001b[39;49m\u001b[39m.\u001b[39;49m_print(item))\n\u001b[0;32m    246\u001b[0m \u001b[39melse\u001b[39;00m:\n\u001b[0;32m    247\u001b[0m     \u001b[39mreturn\u001b[39;00m \u001b[39mself\u001b[39m\u001b[39m.\u001b[39m_print(item)\n",
      "File \u001b[1;32m~\\AppData\\Roaming\\Python\\Python39\\site-packages\\sympy\\printing\\printer.py:331\u001b[0m, in \u001b[0;36mPrinter._print\u001b[1;34m(self, expr, **kwargs)\u001b[0m\n\u001b[0;32m    329\u001b[0m     printmethod \u001b[39m=\u001b[39m \u001b[39mgetattr\u001b[39m(\u001b[39mself\u001b[39m, printmethodname, \u001b[39mNone\u001b[39;00m)\n\u001b[0;32m    330\u001b[0m     \u001b[39mif\u001b[39;00m printmethod \u001b[39mis\u001b[39;00m \u001b[39mnot\u001b[39;00m \u001b[39mNone\u001b[39;00m:\n\u001b[1;32m--> 331\u001b[0m         \u001b[39mreturn\u001b[39;00m printmethod(expr, \u001b[39m*\u001b[39m\u001b[39m*\u001b[39mkwargs)\n\u001b[0;32m    332\u001b[0m \u001b[39m# Unknown object, fall back to the emptyPrinter.\u001b[39;00m\n\u001b[0;32m    333\u001b[0m \u001b[39mreturn\u001b[39;00m \u001b[39mself\u001b[39m\u001b[39m.\u001b[39memptyPrinter(expr)\n",
      "File \u001b[1;32m~\\AppData\\Roaming\\Python\\Python39\\site-packages\\sympy\\printing\\latex.py:399\u001b[0m, in \u001b[0;36mLatexPrinter._print_Add\u001b[1;34m(self, expr, order)\u001b[0m\n\u001b[0;32m    397\u001b[0m \u001b[39melse\u001b[39;00m:\n\u001b[0;32m    398\u001b[0m     tex \u001b[39m+\u001b[39m\u001b[39m=\u001b[39m \u001b[39m\"\u001b[39m\u001b[39m + \u001b[39m\u001b[39m\"\u001b[39m\n\u001b[1;32m--> 399\u001b[0m term_tex \u001b[39m=\u001b[39m \u001b[39mself\u001b[39;49m\u001b[39m.\u001b[39;49m_print(term)\n\u001b[0;32m    400\u001b[0m \u001b[39mif\u001b[39;00m \u001b[39mself\u001b[39m\u001b[39m.\u001b[39m_needs_add_brackets(term):\n\u001b[0;32m    401\u001b[0m     term_tex \u001b[39m=\u001b[39m \u001b[39mr\u001b[39m\u001b[39m\"\u001b[39m\u001b[39m\\\u001b[39m\u001b[39mleft(\u001b[39m\u001b[39m%s\u001b[39;00m\u001b[39m\\\u001b[39m\u001b[39mright)\u001b[39m\u001b[39m\"\u001b[39m \u001b[39m%\u001b[39m term_tex\n",
      "File \u001b[1;32m~\\AppData\\Roaming\\Python\\Python39\\site-packages\\sympy\\printing\\printer.py:331\u001b[0m, in \u001b[0;36mPrinter._print\u001b[1;34m(self, expr, **kwargs)\u001b[0m\n\u001b[0;32m    329\u001b[0m     printmethod \u001b[39m=\u001b[39m \u001b[39mgetattr\u001b[39m(\u001b[39mself\u001b[39m, printmethodname, \u001b[39mNone\u001b[39;00m)\n\u001b[0;32m    330\u001b[0m     \u001b[39mif\u001b[39;00m printmethod \u001b[39mis\u001b[39;00m \u001b[39mnot\u001b[39;00m \u001b[39mNone\u001b[39;00m:\n\u001b[1;32m--> 331\u001b[0m         \u001b[39mreturn\u001b[39;00m printmethod(expr, \u001b[39m*\u001b[39m\u001b[39m*\u001b[39mkwargs)\n\u001b[0;32m    332\u001b[0m \u001b[39m# Unknown object, fall back to the emptyPrinter.\u001b[39;00m\n\u001b[0;32m    333\u001b[0m \u001b[39mreturn\u001b[39;00m \u001b[39mself\u001b[39m\u001b[39m.\u001b[39memptyPrinter(expr)\n",
      "File \u001b[1;32m~\\AppData\\Roaming\\Python\\Python39\\site-packages\\sympy\\printing\\latex.py:1775\u001b[0m, in \u001b[0;36mLatexPrinter._print_MatMul\u001b[1;34m(self, expr)\u001b[0m\n\u001b[0;32m   1771\u001b[0m parens \u001b[39m=\u001b[39m \u001b[39mlambda\u001b[39;00m x: \u001b[39mself\u001b[39m\u001b[39m.\u001b[39m_print(x) \u001b[39mif\u001b[39;00m \u001b[39misinstance\u001b[39m(x, Mul) \u001b[39mand\u001b[39;00m \u001b[39mnot\u001b[39;00m \u001b[39misinstance\u001b[39m(x, MatMul) \u001b[39melse\u001b[39;00m \\\n\u001b[0;32m   1772\u001b[0m     \u001b[39mself\u001b[39m\u001b[39m.\u001b[39mparenthesize(x, precedence_traditional(expr), \u001b[39mFalse\u001b[39;00m)\n\u001b[0;32m   1774\u001b[0m args \u001b[39m=\u001b[39m \u001b[39mlist\u001b[39m(expr\u001b[39m.\u001b[39margs)\n\u001b[1;32m-> 1775\u001b[0m \u001b[39mif\u001b[39;00m expr\u001b[39m.\u001b[39;49mcould_extract_minus_sign():\n\u001b[0;32m   1776\u001b[0m     \u001b[39mif\u001b[39;00m args[\u001b[39m0\u001b[39m] \u001b[39m==\u001b[39m \u001b[39m-\u001b[39m\u001b[39m1\u001b[39m:\n\u001b[0;32m   1777\u001b[0m         args \u001b[39m=\u001b[39m args[\u001b[39m1\u001b[39m:]\n",
      "File \u001b[1;32m~\\AppData\\Roaming\\Python\\Python39\\site-packages\\sympy\\core\\mul.py:177\u001b[0m, in \u001b[0;36mMul.could_extract_minus_sign\u001b[1;34m(self)\u001b[0m\n\u001b[0;32m    176\u001b[0m \u001b[39mdef\u001b[39;00m \u001b[39mcould_extract_minus_sign\u001b[39m(\u001b[39mself\u001b[39m):\n\u001b[1;32m--> 177\u001b[0m     \u001b[39mif\u001b[39;00m \u001b[39mself\u001b[39m \u001b[39m==\u001b[39m (\u001b[39m-\u001b[39;49m\u001b[39mself\u001b[39;49m):\n\u001b[0;32m    178\u001b[0m         \u001b[39mreturn\u001b[39;00m \u001b[39mFalse\u001b[39;00m  \u001b[39m# e.g. zoo*x == -zoo*x\u001b[39;00m\n\u001b[0;32m    179\u001b[0m     c \u001b[39m=\u001b[39m \u001b[39mself\u001b[39m\u001b[39m.\u001b[39margs[\u001b[39m0\u001b[39m]\n",
      "File \u001b[1;32m~\\AppData\\Roaming\\Python\\Python39\\site-packages\\sympy\\matrices\\expressions\\matexpr.py:99\u001b[0m, in \u001b[0;36mMatrixExpr.__neg__\u001b[1;34m(self)\u001b[0m\n\u001b[0;32m     98\u001b[0m \u001b[39mdef\u001b[39;00m \u001b[39m__neg__\u001b[39m(\u001b[39mself\u001b[39m):\n\u001b[1;32m---> 99\u001b[0m     \u001b[39mreturn\u001b[39;00m MatMul(S\u001b[39m.\u001b[39;49mNegativeOne, \u001b[39mself\u001b[39;49m)\u001b[39m.\u001b[39;49mdoit()\n",
      "File \u001b[1;32m~\\AppData\\Roaming\\Python\\Python39\\site-packages\\sympy\\matrices\\expressions\\matmul.py:197\u001b[0m, in \u001b[0;36mMatMul.doit\u001b[1;34m(self, **hints)\u001b[0m\n\u001b[0;32m    195\u001b[0m deep \u001b[39m=\u001b[39m hints\u001b[39m.\u001b[39mget(\u001b[39m'\u001b[39m\u001b[39mdeep\u001b[39m\u001b[39m'\u001b[39m, \u001b[39mTrue\u001b[39;00m)\n\u001b[0;32m    196\u001b[0m \u001b[39mif\u001b[39;00m deep:\n\u001b[1;32m--> 197\u001b[0m     args \u001b[39m=\u001b[39m [arg\u001b[39m.\u001b[39mdoit(\u001b[39m*\u001b[39m\u001b[39m*\u001b[39mhints) \u001b[39mfor\u001b[39;00m arg \u001b[39min\u001b[39;00m \u001b[39mself\u001b[39m\u001b[39m.\u001b[39margs]\n\u001b[0;32m    198\u001b[0m \u001b[39melse\u001b[39;00m:\n\u001b[0;32m    199\u001b[0m     args \u001b[39m=\u001b[39m \u001b[39mself\u001b[39m\u001b[39m.\u001b[39margs\n",
      "File \u001b[1;32m~\\AppData\\Roaming\\Python\\Python39\\site-packages\\sympy\\matrices\\expressions\\matmul.py:197\u001b[0m, in \u001b[0;36m<listcomp>\u001b[1;34m(.0)\u001b[0m\n\u001b[0;32m    195\u001b[0m deep \u001b[39m=\u001b[39m hints\u001b[39m.\u001b[39mget(\u001b[39m'\u001b[39m\u001b[39mdeep\u001b[39m\u001b[39m'\u001b[39m, \u001b[39mTrue\u001b[39;00m)\n\u001b[0;32m    196\u001b[0m \u001b[39mif\u001b[39;00m deep:\n\u001b[1;32m--> 197\u001b[0m     args \u001b[39m=\u001b[39m [arg\u001b[39m.\u001b[39mdoit(\u001b[39m*\u001b[39m\u001b[39m*\u001b[39mhints) \u001b[39mfor\u001b[39;00m arg \u001b[39min\u001b[39;00m \u001b[39mself\u001b[39m\u001b[39m.\u001b[39margs]\n\u001b[0;32m    198\u001b[0m \u001b[39melse\u001b[39;00m:\n\u001b[0;32m    199\u001b[0m     args \u001b[39m=\u001b[39m \u001b[39mself\u001b[39m\u001b[39m.\u001b[39margs\n",
      "File \u001b[1;32m~\\AppData\\Roaming\\Python\\Python39\\site-packages\\sympy\\matrices\\expressions\\matmul.py:197\u001b[0m, in \u001b[0;36mMatMul.doit\u001b[1;34m(self, **hints)\u001b[0m\n\u001b[0;32m    195\u001b[0m deep \u001b[39m=\u001b[39m hints\u001b[39m.\u001b[39mget(\u001b[39m'\u001b[39m\u001b[39mdeep\u001b[39m\u001b[39m'\u001b[39m, \u001b[39mTrue\u001b[39;00m)\n\u001b[0;32m    196\u001b[0m \u001b[39mif\u001b[39;00m deep:\n\u001b[1;32m--> 197\u001b[0m     args \u001b[39m=\u001b[39m [arg\u001b[39m.\u001b[39mdoit(\u001b[39m*\u001b[39m\u001b[39m*\u001b[39mhints) \u001b[39mfor\u001b[39;00m arg \u001b[39min\u001b[39;00m \u001b[39mself\u001b[39m\u001b[39m.\u001b[39margs]\n\u001b[0;32m    198\u001b[0m \u001b[39melse\u001b[39;00m:\n\u001b[0;32m    199\u001b[0m     args \u001b[39m=\u001b[39m \u001b[39mself\u001b[39m\u001b[39m.\u001b[39margs\n",
      "File \u001b[1;32m~\\AppData\\Roaming\\Python\\Python39\\site-packages\\sympy\\matrices\\expressions\\matmul.py:197\u001b[0m, in \u001b[0;36m<listcomp>\u001b[1;34m(.0)\u001b[0m\n\u001b[0;32m    195\u001b[0m deep \u001b[39m=\u001b[39m hints\u001b[39m.\u001b[39mget(\u001b[39m'\u001b[39m\u001b[39mdeep\u001b[39m\u001b[39m'\u001b[39m, \u001b[39mTrue\u001b[39;00m)\n\u001b[0;32m    196\u001b[0m \u001b[39mif\u001b[39;00m deep:\n\u001b[1;32m--> 197\u001b[0m     args \u001b[39m=\u001b[39m [arg\u001b[39m.\u001b[39mdoit(\u001b[39m*\u001b[39m\u001b[39m*\u001b[39mhints) \u001b[39mfor\u001b[39;00m arg \u001b[39min\u001b[39;00m \u001b[39mself\u001b[39m\u001b[39m.\u001b[39margs]\n\u001b[0;32m    198\u001b[0m \u001b[39melse\u001b[39;00m:\n\u001b[0;32m    199\u001b[0m     args \u001b[39m=\u001b[39m \u001b[39mself\u001b[39m\u001b[39m.\u001b[39margs\n",
      "File \u001b[1;32m~\\AppData\\Roaming\\Python\\Python39\\site-packages\\sympy\\matrices\\expressions\\matadd.py:104\u001b[0m, in \u001b[0;36mMatAdd.doit\u001b[1;34m(self, **hints)\u001b[0m\n\u001b[0;32m    102\u001b[0m \u001b[39melse\u001b[39;00m:\n\u001b[0;32m    103\u001b[0m     args \u001b[39m=\u001b[39m \u001b[39mself\u001b[39m\u001b[39m.\u001b[39margs\n\u001b[1;32m--> 104\u001b[0m \u001b[39mreturn\u001b[39;00m canonicalize(MatAdd(\u001b[39m*\u001b[39;49margs))\n",
      "File \u001b[1;32m~\\AppData\\Roaming\\Python\\Python39\\site-packages\\sympy\\strategies\\core.py:8\u001b[0m, in \u001b[0;36mexhaust.<locals>.exhaustive_rl\u001b[1;34m(expr)\u001b[0m\n\u001b[0;32m      7\u001b[0m \u001b[39mdef\u001b[39;00m \u001b[39mexhaustive_rl\u001b[39m(expr):\n\u001b[1;32m----> 8\u001b[0m     new, old \u001b[39m=\u001b[39m rule(expr), expr\n\u001b[0;32m      9\u001b[0m     \u001b[39mwhile\u001b[39;00m new \u001b[39m!=\u001b[39m old:\n\u001b[0;32m     10\u001b[0m         new, old \u001b[39m=\u001b[39m rule(new), new\n",
      "File \u001b[1;32m~\\AppData\\Roaming\\Python\\Python39\\site-packages\\sympy\\strategies\\core.py:30\u001b[0m, in \u001b[0;36mcondition.<locals>.conditioned_rl\u001b[1;34m(expr)\u001b[0m\n\u001b[0;32m     28\u001b[0m \u001b[39mdef\u001b[39;00m \u001b[39mconditioned_rl\u001b[39m(expr):\n\u001b[0;32m     29\u001b[0m     \u001b[39mif\u001b[39;00m cond(expr):\n\u001b[1;32m---> 30\u001b[0m         \u001b[39mreturn\u001b[39;00m rule(expr)\n\u001b[0;32m     31\u001b[0m     \u001b[39melse\u001b[39;00m:\n\u001b[0;32m     32\u001b[0m         \u001b[39mreturn\u001b[39;00m expr\n",
      "File \u001b[1;32m~\\AppData\\Roaming\\Python\\Python39\\site-packages\\sympy\\strategies\\core.py:82\u001b[0m, in \u001b[0;36mdo_one.<locals>.do_one_rl\u001b[1;34m(expr)\u001b[0m\n\u001b[0;32m     80\u001b[0m \u001b[39mdef\u001b[39;00m \u001b[39mdo_one_rl\u001b[39m(expr):\n\u001b[0;32m     81\u001b[0m     \u001b[39mfor\u001b[39;00m rl \u001b[39min\u001b[39;00m rules:\n\u001b[1;32m---> 82\u001b[0m         result \u001b[39m=\u001b[39m rl(expr)\n\u001b[0;32m     83\u001b[0m         \u001b[39mif\u001b[39;00m result \u001b[39m!=\u001b[39m expr:\n\u001b[0;32m     84\u001b[0m             \u001b[39mreturn\u001b[39;00m result\n",
      "File \u001b[1;32m~\\AppData\\Roaming\\Python\\Python39\\site-packages\\sympy\\strategies\\rl.py:72\u001b[0m, in \u001b[0;36mglom.<locals>.conglomerate\u001b[1;34m(expr)\u001b[0m\n\u001b[0;32m     70\u001b[0m \u001b[39m\"\"\" Conglomerate together identical args x + x -> 2x \"\"\"\u001b[39;00m\n\u001b[0;32m     71\u001b[0m groups \u001b[39m=\u001b[39m sift(expr\u001b[39m.\u001b[39margs, key)\n\u001b[1;32m---> 72\u001b[0m counts \u001b[39m=\u001b[39m {k: \u001b[39msum\u001b[39m(\u001b[39mmap\u001b[39m(count, args)) \u001b[39mfor\u001b[39;00m k, args \u001b[39min\u001b[39;00m groups\u001b[39m.\u001b[39mitems()}\n\u001b[0;32m     73\u001b[0m newargs \u001b[39m=\u001b[39m [combine(cnt, mat) \u001b[39mfor\u001b[39;00m mat, cnt \u001b[39min\u001b[39;00m counts\u001b[39m.\u001b[39mitems()]\n\u001b[0;32m     74\u001b[0m \u001b[39mif\u001b[39;00m \u001b[39mset\u001b[39m(newargs) \u001b[39m!=\u001b[39m \u001b[39mset\u001b[39m(expr\u001b[39m.\u001b[39margs):\n",
      "File \u001b[1;32m~\\AppData\\Roaming\\Python\\Python39\\site-packages\\sympy\\strategies\\rl.py:72\u001b[0m, in \u001b[0;36m<dictcomp>\u001b[1;34m(.0)\u001b[0m\n\u001b[0;32m     70\u001b[0m \u001b[39m\"\"\" Conglomerate together identical args x + x -> 2x \"\"\"\u001b[39;00m\n\u001b[0;32m     71\u001b[0m groups \u001b[39m=\u001b[39m sift(expr\u001b[39m.\u001b[39margs, key)\n\u001b[1;32m---> 72\u001b[0m counts \u001b[39m=\u001b[39m {k: \u001b[39msum\u001b[39;49m(\u001b[39mmap\u001b[39;49m(count, args)) \u001b[39mfor\u001b[39;00m k, args \u001b[39min\u001b[39;00m groups\u001b[39m.\u001b[39mitems()}\n\u001b[0;32m     73\u001b[0m newargs \u001b[39m=\u001b[39m [combine(cnt, mat) \u001b[39mfor\u001b[39;00m mat, cnt \u001b[39min\u001b[39;00m counts\u001b[39m.\u001b[39mitems()]\n\u001b[0;32m     74\u001b[0m \u001b[39mif\u001b[39;00m \u001b[39mset\u001b[39m(newargs) \u001b[39m!=\u001b[39m \u001b[39mset\u001b[39m(expr\u001b[39m.\u001b[39margs):\n",
      "File \u001b[1;32m~\\AppData\\Roaming\\Python\\Python39\\site-packages\\sympy\\matrices\\expressions\\matadd.py:121\u001b[0m, in \u001b[0;36m<lambda>\u001b[1;34m(arg)\u001b[0m\n\u001b[0;32m    118\u001b[0m         \u001b[39mif\u001b[39;00m A\u001b[39m.\u001b[39mshape \u001b[39m!=\u001b[39m B\u001b[39m.\u001b[39mshape:\n\u001b[0;32m    119\u001b[0m             \u001b[39mraise\u001b[39;00m ShapeError(\u001b[39m\"\u001b[39m\u001b[39mMatrices \u001b[39m\u001b[39m%s\u001b[39;00m\u001b[39m and \u001b[39m\u001b[39m%s\u001b[39;00m\u001b[39m are not aligned\u001b[39m\u001b[39m\"\u001b[39m\u001b[39m%\u001b[39m(A, B))\n\u001b[1;32m--> 121\u001b[0m factor_of \u001b[39m=\u001b[39m \u001b[39mlambda\u001b[39;00m arg: arg\u001b[39m.\u001b[39;49mas_coeff_mmul()[\u001b[39m0\u001b[39m]\n\u001b[0;32m    122\u001b[0m matrix_of \u001b[39m=\u001b[39m \u001b[39mlambda\u001b[39;00m arg: unpack(arg\u001b[39m.\u001b[39mas_coeff_mmul()[\u001b[39m1\u001b[39m])\n\u001b[0;32m    123\u001b[0m \u001b[39mdef\u001b[39;00m \u001b[39mcombine\u001b[39m(cnt, mat):\n",
      "File \u001b[1;32m~\\AppData\\Roaming\\Python\\Python39\\site-packages\\sympy\\matrices\\expressions\\matmul.py:139\u001b[0m, in \u001b[0;36mMatMul.as_coeff_mmul\u001b[1;34m(self)\u001b[0m\n\u001b[0;32m    138\u001b[0m \u001b[39mdef\u001b[39;00m \u001b[39mas_coeff_mmul\u001b[39m(\u001b[39mself\u001b[39m):\n\u001b[1;32m--> 139\u001b[0m     coeff, matrices \u001b[39m=\u001b[39m \u001b[39mself\u001b[39;49m\u001b[39m.\u001b[39;49mas_coeff_matrices()\n\u001b[0;32m    140\u001b[0m     \u001b[39mreturn\u001b[39;00m coeff, MatMul(\u001b[39m*\u001b[39mmatrices)\n",
      "File \u001b[1;32m~\\AppData\\Roaming\\Python\\Python39\\site-packages\\sympy\\matrices\\expressions\\matmul.py:130\u001b[0m, in \u001b[0;36mMatMul.as_coeff_matrices\u001b[1;34m(self)\u001b[0m\n\u001b[0;32m    129\u001b[0m \u001b[39mdef\u001b[39;00m \u001b[39mas_coeff_matrices\u001b[39m(\u001b[39mself\u001b[39m):\n\u001b[1;32m--> 130\u001b[0m     scalars \u001b[39m=\u001b[39m [x \u001b[39mfor\u001b[39;00m x \u001b[39min\u001b[39;00m \u001b[39mself\u001b[39;49m\u001b[39m.\u001b[39;49margs \u001b[39mif\u001b[39;00m \u001b[39mnot\u001b[39;00m x\u001b[39m.\u001b[39mis_Matrix]\n\u001b[0;32m    131\u001b[0m     matrices \u001b[39m=\u001b[39m [x \u001b[39mfor\u001b[39;00m x \u001b[39min\u001b[39;00m \u001b[39mself\u001b[39m\u001b[39m.\u001b[39margs \u001b[39mif\u001b[39;00m x\u001b[39m.\u001b[39mis_Matrix]\n\u001b[0;32m    132\u001b[0m     coeff \u001b[39m=\u001b[39m Mul(\u001b[39m*\u001b[39mscalars)\n",
      "File \u001b[1;32m~\\AppData\\Roaming\\Python\\Python39\\site-packages\\sympy\\core\\basic.py:780\u001b[0m, in \u001b[0;36mBasic.args\u001b[1;34m(self)\u001b[0m\n\u001b[0;32m    750\u001b[0m \u001b[39m@property\u001b[39m\n\u001b[0;32m    751\u001b[0m \u001b[39mdef\u001b[39;00m \u001b[39margs\u001b[39m(\u001b[39mself\u001b[39m) \u001b[39m-\u001b[39m\u001b[39m>\u001b[39m \u001b[39mtuple\u001b[39m[Basic, \u001b[39m.\u001b[39m\u001b[39m.\u001b[39m\u001b[39m.\u001b[39m]:\n\u001b[0;32m    752\u001b[0m     \u001b[39m\"\"\"Returns a tuple of arguments of 'self'.\u001b[39;00m\n\u001b[0;32m    753\u001b[0m \n\u001b[0;32m    754\u001b[0m \u001b[39m    Examples\u001b[39;00m\n\u001b[1;32m   (...)\u001b[0m\n\u001b[0;32m    778\u001b[0m \u001b[39m    change the interface in the future if needed).\u001b[39;00m\n\u001b[0;32m    779\u001b[0m \u001b[39m    \"\"\"\u001b[39;00m\n\u001b[1;32m--> 780\u001b[0m     \u001b[39mreturn\u001b[39;00m \u001b[39mself\u001b[39;49m\u001b[39m.\u001b[39;49m_args\n",
      "\u001b[1;31mKeyboardInterrupt\u001b[0m: "
     ]
    }
   ],
   "source": [
    "PHI"
   ]
  },
  {
   "cell_type": "code",
   "execution_count": 13,
   "metadata": {},
   "outputs": [],
   "source": [
    "jac_rewritte = zeros(T,T)\n",
    "\n",
    "jac = y_AT.jacobian(a)\n",
    "\n",
    "for i in range(T):\n",
    "    for j in range(T):\n",
    "        jac_rewritte[i,j] = jac[i,j].expand()"
   ]
  },
  {
   "cell_type": "code",
   "execution_count": 30,
   "metadata": {},
   "outputs": [
    {
     "data": {
      "text/latex": [
       "$\\displaystyle \\left[\\begin{matrix}by dy \\left[\\begin{matrix}\\frac{F2xCO2}{\\log{\\left(2 \\right)}} \\left(\\left(\\frac{1}{zref} bz dz\\right) \\circ \\left(\\left(\\frac{a_{0, 0}}{zref} + \\frac{am_{0, 0}}{zref}\\right) bz dz + \\frac{1}{zref} bz Az z_{0} + \\frac{1}{zref} zrefm\\right)^{-1}\\right)\\end{matrix}\\right] & 0 & 0 & 0 & 0\\\\by Ay dy \\left[\\begin{matrix}\\frac{F2xCO2}{\\log{\\left(2 \\right)}} \\left(\\left(\\frac{1}{zref} bz dz\\right) \\circ \\left(\\left(\\frac{a_{0, 0}}{zref} + \\frac{am_{0, 0}}{zref}\\right) bz dz + \\frac{1}{zref} bz Az z_{0} + \\frac{1}{zref} zrefm\\right)^{-1}\\right)\\end{matrix}\\right] + by dy \\left[\\begin{matrix}\\frac{F2xCO2}{\\log{\\left(2 \\right)}} \\left(\\left(\\frac{1}{zref} bz Az dz\\right) \\circ \\left(\\left(\\frac{a_{0, 0}}{zref} + \\frac{am_{0, 0}}{zref}\\right) bz Az dz + \\left(\\frac{a_{0, 1}}{zref} + \\frac{am_{0, 1}}{zref}\\right) bz dz + \\frac{1}{zref} bz Az^{2} z_{0} + \\frac{1}{zref} zrefm\\right)^{-1}\\right)\\end{matrix}\\right] & by dy \\left[\\begin{matrix}\\frac{F2xCO2}{\\log{\\left(2 \\right)}} \\left(\\left(\\frac{1}{zref} bz dz\\right) \\circ \\left(\\left(\\frac{a_{0, 0}}{zref} + \\frac{am_{0, 0}}{zref}\\right) bz Az dz + \\left(\\frac{a_{0, 1}}{zref} + \\frac{am_{0, 1}}{zref}\\right) bz dz + \\frac{1}{zref} bz Az^{2} z_{0} + \\frac{1}{zref} zrefm\\right)^{-1}\\right)\\end{matrix}\\right] & 0 & 0 & 0\\\\by Ay^{2} dy \\left[\\begin{matrix}\\frac{F2xCO2}{\\log{\\left(2 \\right)}} \\left(\\left(\\frac{1}{zref} bz dz\\right) \\circ \\left(\\left(\\frac{a_{0, 0}}{zref} + \\frac{am_{0, 0}}{zref}\\right) bz dz + \\frac{1}{zref} bz Az z_{0} + \\frac{1}{zref} zrefm\\right)^{-1}\\right)\\end{matrix}\\right] + by Ay dy \\left[\\begin{matrix}\\frac{F2xCO2}{\\log{\\left(2 \\right)}} \\left(\\left(\\frac{1}{zref} bz Az dz\\right) \\circ \\left(\\left(\\frac{a_{0, 0}}{zref} + \\frac{am_{0, 0}}{zref}\\right) bz Az dz + \\left(\\frac{a_{0, 1}}{zref} + \\frac{am_{0, 1}}{zref}\\right) bz dz + \\frac{1}{zref} bz Az^{2} z_{0} + \\frac{1}{zref} zrefm\\right)^{-1}\\right)\\end{matrix}\\right] + by dy \\left[\\begin{matrix}\\frac{F2xCO2}{\\log{\\left(2 \\right)}} \\left(\\left(\\frac{1}{zref} bz Az^{2} dz\\right) \\circ \\left(\\left(\\frac{a_{0, 0}}{zref} + \\frac{am_{0, 0}}{zref}\\right) bz Az^{2} dz + \\left(\\frac{a_{0, 1}}{zref} + \\frac{am_{0, 1}}{zref}\\right) bz Az dz + \\left(\\frac{a_{0, 2}}{zref} + \\frac{am_{0, 2}}{zref}\\right) bz dz + \\frac{1}{zref} bz Az^{3} z_{0} + \\frac{1}{zref} zrefm\\right)^{-1}\\right)\\end{matrix}\\right] & by Ay dy \\left[\\begin{matrix}\\frac{F2xCO2}{\\log{\\left(2 \\right)}} \\left(\\left(\\frac{1}{zref} bz dz\\right) \\circ \\left(\\left(\\frac{a_{0, 0}}{zref} + \\frac{am_{0, 0}}{zref}\\right) bz Az dz + \\left(\\frac{a_{0, 1}}{zref} + \\frac{am_{0, 1}}{zref}\\right) bz dz + \\frac{1}{zref} bz Az^{2} z_{0} + \\frac{1}{zref} zrefm\\right)^{-1}\\right)\\end{matrix}\\right] + by dy \\left[\\begin{matrix}\\frac{F2xCO2}{\\log{\\left(2 \\right)}} \\left(\\left(\\frac{1}{zref} bz Az dz\\right) \\circ \\left(\\left(\\frac{a_{0, 0}}{zref} + \\frac{am_{0, 0}}{zref}\\right) bz Az^{2} dz + \\left(\\frac{a_{0, 1}}{zref} + \\frac{am_{0, 1}}{zref}\\right) bz Az dz + \\left(\\frac{a_{0, 2}}{zref} + \\frac{am_{0, 2}}{zref}\\right) bz dz + \\frac{1}{zref} bz Az^{3} z_{0} + \\frac{1}{zref} zrefm\\right)^{-1}\\right)\\end{matrix}\\right] & by dy \\left[\\begin{matrix}\\frac{F2xCO2}{\\log{\\left(2 \\right)}} \\left(\\left(\\frac{1}{zref} bz dz\\right) \\circ \\left(\\left(\\frac{a_{0, 0}}{zref} + \\frac{am_{0, 0}}{zref}\\right) bz Az^{2} dz + \\left(\\frac{a_{0, 1}}{zref} + \\frac{am_{0, 1}}{zref}\\right) bz Az dz + \\left(\\frac{a_{0, 2}}{zref} + \\frac{am_{0, 2}}{zref}\\right) bz dz + \\frac{1}{zref} bz Az^{3} z_{0} + \\frac{1}{zref} zrefm\\right)^{-1}\\right)\\end{matrix}\\right] & 0 & 0\\\\by Ay^{2} dy \\left[\\begin{matrix}\\frac{F2xCO2}{\\log{\\left(2 \\right)}} \\left(\\left(\\frac{1}{zref} bz Az dz\\right) \\circ \\left(\\left(\\frac{a_{0, 0}}{zref} + \\frac{am_{0, 0}}{zref}\\right) bz Az dz + \\left(\\frac{a_{0, 1}}{zref} + \\frac{am_{0, 1}}{zref}\\right) bz dz + \\frac{1}{zref} bz Az^{2} z_{0} + \\frac{1}{zref} zrefm\\right)^{-1}\\right)\\end{matrix}\\right] + by Ay^{3} dy \\left[\\begin{matrix}\\frac{F2xCO2}{\\log{\\left(2 \\right)}} \\left(\\left(\\frac{1}{zref} bz dz\\right) \\circ \\left(\\left(\\frac{a_{0, 0}}{zref} + \\frac{am_{0, 0}}{zref}\\right) bz dz + \\frac{1}{zref} bz Az z_{0} + \\frac{1}{zref} zrefm\\right)^{-1}\\right)\\end{matrix}\\right] + by Ay dy \\left[\\begin{matrix}\\frac{F2xCO2}{\\log{\\left(2 \\right)}} \\left(\\left(\\frac{1}{zref} bz Az^{2} dz\\right) \\circ \\left(\\left(\\frac{a_{0, 0}}{zref} + \\frac{am_{0, 0}}{zref}\\right) bz Az^{2} dz + \\left(\\frac{a_{0, 1}}{zref} + \\frac{am_{0, 1}}{zref}\\right) bz Az dz + \\left(\\frac{a_{0, 2}}{zref} + \\frac{am_{0, 2}}{zref}\\right) bz dz + \\frac{1}{zref} bz Az^{3} z_{0} + \\frac{1}{zref} zrefm\\right)^{-1}\\right)\\end{matrix}\\right] + by dy \\left[\\begin{matrix}\\frac{F2xCO2}{\\log{\\left(2 \\right)}} \\left(\\left(\\frac{1}{zref} bz Az^{3} dz\\right) \\circ \\left(\\left(\\frac{a_{0, 0}}{zref} + \\frac{am_{0, 0}}{zref}\\right) bz Az^{3} dz + \\left(\\frac{a_{0, 1}}{zref} + \\frac{am_{0, 1}}{zref}\\right) bz Az^{2} dz + \\left(\\frac{a_{0, 2}}{zref} + \\frac{am_{0, 2}}{zref}\\right) bz Az dz + \\left(\\frac{a_{0, 3}}{zref} + \\frac{am_{0, 3}}{zref}\\right) bz dz + \\frac{1}{zref} bz Az^{4} z_{0} + \\frac{1}{zref} zrefm\\right)^{-1}\\right)\\end{matrix}\\right] & by Ay^{2} dy \\left[\\begin{matrix}\\frac{F2xCO2}{\\log{\\left(2 \\right)}} \\left(\\left(\\frac{1}{zref} bz dz\\right) \\circ \\left(\\left(\\frac{a_{0, 0}}{zref} + \\frac{am_{0, 0}}{zref}\\right) bz Az dz + \\left(\\frac{a_{0, 1}}{zref} + \\frac{am_{0, 1}}{zref}\\right) bz dz + \\frac{1}{zref} bz Az^{2} z_{0} + \\frac{1}{zref} zrefm\\right)^{-1}\\right)\\end{matrix}\\right] + by Ay dy \\left[\\begin{matrix}\\frac{F2xCO2}{\\log{\\left(2 \\right)}} \\left(\\left(\\frac{1}{zref} bz Az dz\\right) \\circ \\left(\\left(\\frac{a_{0, 0}}{zref} + \\frac{am_{0, 0}}{zref}\\right) bz Az^{2} dz + \\left(\\frac{a_{0, 1}}{zref} + \\frac{am_{0, 1}}{zref}\\right) bz Az dz + \\left(\\frac{a_{0, 2}}{zref} + \\frac{am_{0, 2}}{zref}\\right) bz dz + \\frac{1}{zref} bz Az^{3} z_{0} + \\frac{1}{zref} zrefm\\right)^{-1}\\right)\\end{matrix}\\right] + by dy \\left[\\begin{matrix}\\frac{F2xCO2}{\\log{\\left(2 \\right)}} \\left(\\left(\\frac{1}{zref} bz Az^{2} dz\\right) \\circ \\left(\\left(\\frac{a_{0, 0}}{zref} + \\frac{am_{0, 0}}{zref}\\right) bz Az^{3} dz + \\left(\\frac{a_{0, 1}}{zref} + \\frac{am_{0, 1}}{zref}\\right) bz Az^{2} dz + \\left(\\frac{a_{0, 2}}{zref} + \\frac{am_{0, 2}}{zref}\\right) bz Az dz + \\left(\\frac{a_{0, 3}}{zref} + \\frac{am_{0, 3}}{zref}\\right) bz dz + \\frac{1}{zref} bz Az^{4} z_{0} + \\frac{1}{zref} zrefm\\right)^{-1}\\right)\\end{matrix}\\right] & by Ay dy \\left[\\begin{matrix}\\frac{F2xCO2}{\\log{\\left(2 \\right)}} \\left(\\left(\\frac{1}{zref} bz dz\\right) \\circ \\left(\\left(\\frac{a_{0, 0}}{zref} + \\frac{am_{0, 0}}{zref}\\right) bz Az^{2} dz + \\left(\\frac{a_{0, 1}}{zref} + \\frac{am_{0, 1}}{zref}\\right) bz Az dz + \\left(\\frac{a_{0, 2}}{zref} + \\frac{am_{0, 2}}{zref}\\right) bz dz + \\frac{1}{zref} bz Az^{3} z_{0} + \\frac{1}{zref} zrefm\\right)^{-1}\\right)\\end{matrix}\\right] + by dy \\left[\\begin{matrix}\\frac{F2xCO2}{\\log{\\left(2 \\right)}} \\left(\\left(\\frac{1}{zref} bz Az dz\\right) \\circ \\left(\\left(\\frac{a_{0, 0}}{zref} + \\frac{am_{0, 0}}{zref}\\right) bz Az^{3} dz + \\left(\\frac{a_{0, 1}}{zref} + \\frac{am_{0, 1}}{zref}\\right) bz Az^{2} dz + \\left(\\frac{a_{0, 2}}{zref} + \\frac{am_{0, 2}}{zref}\\right) bz Az dz + \\left(\\frac{a_{0, 3}}{zref} + \\frac{am_{0, 3}}{zref}\\right) bz dz + \\frac{1}{zref} bz Az^{4} z_{0} + \\frac{1}{zref} zrefm\\right)^{-1}\\right)\\end{matrix}\\right] & by dy \\left[\\begin{matrix}\\frac{F2xCO2}{\\log{\\left(2 \\right)}} \\left(\\left(\\frac{1}{zref} bz dz\\right) \\circ \\left(\\left(\\frac{a_{0, 0}}{zref} + \\frac{am_{0, 0}}{zref}\\right) bz Az^{3} dz + \\left(\\frac{a_{0, 1}}{zref} + \\frac{am_{0, 1}}{zref}\\right) bz Az^{2} dz + \\left(\\frac{a_{0, 2}}{zref} + \\frac{am_{0, 2}}{zref}\\right) bz Az dz + \\left(\\frac{a_{0, 3}}{zref} + \\frac{am_{0, 3}}{zref}\\right) bz dz + \\frac{1}{zref} bz Az^{4} z_{0} + \\frac{1}{zref} zrefm\\right)^{-1}\\right)\\end{matrix}\\right] & 0\\\\by Ay^{2} dy \\left[\\begin{matrix}\\frac{F2xCO2}{\\log{\\left(2 \\right)}} \\left(\\left(\\frac{1}{zref} bz Az^{2} dz\\right) \\circ \\left(\\left(\\frac{a_{0, 0}}{zref} + \\frac{am_{0, 0}}{zref}\\right) bz Az^{2} dz + \\left(\\frac{a_{0, 1}}{zref} + \\frac{am_{0, 1}}{zref}\\right) bz Az dz + \\left(\\frac{a_{0, 2}}{zref} + \\frac{am_{0, 2}}{zref}\\right) bz dz + \\frac{1}{zref} bz Az^{3} z_{0} + \\frac{1}{zref} zrefm\\right)^{-1}\\right)\\end{matrix}\\right] + by Ay^{3} dy \\left[\\begin{matrix}\\frac{F2xCO2}{\\log{\\left(2 \\right)}} \\left(\\left(\\frac{1}{zref} bz Az dz\\right) \\circ \\left(\\left(\\frac{a_{0, 0}}{zref} + \\frac{am_{0, 0}}{zref}\\right) bz Az dz + \\left(\\frac{a_{0, 1}}{zref} + \\frac{am_{0, 1}}{zref}\\right) bz dz + \\frac{1}{zref} bz Az^{2} z_{0} + \\frac{1}{zref} zrefm\\right)^{-1}\\right)\\end{matrix}\\right] + by Ay^{4} dy \\left[\\begin{matrix}\\frac{F2xCO2}{\\log{\\left(2 \\right)}} \\left(\\left(\\frac{1}{zref} bz dz\\right) \\circ \\left(\\left(\\frac{a_{0, 0}}{zref} + \\frac{am_{0, 0}}{zref}\\right) bz dz + \\frac{1}{zref} bz Az z_{0} + \\frac{1}{zref} zrefm\\right)^{-1}\\right)\\end{matrix}\\right] + by Ay dy \\left[\\begin{matrix}\\frac{F2xCO2}{\\log{\\left(2 \\right)}} \\left(\\left(\\frac{1}{zref} bz Az^{3} dz\\right) \\circ \\left(\\left(\\frac{a_{0, 0}}{zref} + \\frac{am_{0, 0}}{zref}\\right) bz Az^{3} dz + \\left(\\frac{a_{0, 1}}{zref} + \\frac{am_{0, 1}}{zref}\\right) bz Az^{2} dz + \\left(\\frac{a_{0, 2}}{zref} + \\frac{am_{0, 2}}{zref}\\right) bz Az dz + \\left(\\frac{a_{0, 3}}{zref} + \\frac{am_{0, 3}}{zref}\\right) bz dz + \\frac{1}{zref} bz Az^{4} z_{0} + \\frac{1}{zref} zrefm\\right)^{-1}\\right)\\end{matrix}\\right] + by dy \\left[\\begin{matrix}\\frac{F2xCO2}{\\log{\\left(2 \\right)}} \\left(\\left(\\frac{1}{zref} bz Az^{4} dz\\right) \\circ \\left(\\left(\\frac{a_{0, 0}}{zref} + \\frac{am_{0, 0}}{zref}\\right) bz Az^{4} dz + \\left(\\frac{a_{0, 1}}{zref} + \\frac{am_{0, 1}}{zref}\\right) bz Az^{3} dz + \\left(\\frac{a_{0, 2}}{zref} + \\frac{am_{0, 2}}{zref}\\right) bz Az^{2} dz + \\left(\\frac{a_{0, 3}}{zref} + \\frac{am_{0, 3}}{zref}\\right) bz Az dz + \\left(\\frac{a_{0, 4}}{zref} + \\frac{am_{0, 4}}{zref}\\right) bz dz + \\frac{1}{zref} bz Az^{5} z_{0} + \\frac{1}{zref} zrefm\\right)^{-1}\\right)\\end{matrix}\\right] & by Ay^{2} dy \\left[\\begin{matrix}\\frac{F2xCO2}{\\log{\\left(2 \\right)}} \\left(\\left(\\frac{1}{zref} bz Az dz\\right) \\circ \\left(\\left(\\frac{a_{0, 0}}{zref} + \\frac{am_{0, 0}}{zref}\\right) bz Az^{2} dz + \\left(\\frac{a_{0, 1}}{zref} + \\frac{am_{0, 1}}{zref}\\right) bz Az dz + \\left(\\frac{a_{0, 2}}{zref} + \\frac{am_{0, 2}}{zref}\\right) bz dz + \\frac{1}{zref} bz Az^{3} z_{0} + \\frac{1}{zref} zrefm\\right)^{-1}\\right)\\end{matrix}\\right] + by Ay^{3} dy \\left[\\begin{matrix}\\frac{F2xCO2}{\\log{\\left(2 \\right)}} \\left(\\left(\\frac{1}{zref} bz dz\\right) \\circ \\left(\\left(\\frac{a_{0, 0}}{zref} + \\frac{am_{0, 0}}{zref}\\right) bz Az dz + \\left(\\frac{a_{0, 1}}{zref} + \\frac{am_{0, 1}}{zref}\\right) bz dz + \\frac{1}{zref} bz Az^{2} z_{0} + \\frac{1}{zref} zrefm\\right)^{-1}\\right)\\end{matrix}\\right] + by Ay dy \\left[\\begin{matrix}\\frac{F2xCO2}{\\log{\\left(2 \\right)}} \\left(\\left(\\frac{1}{zref} bz Az^{2} dz\\right) \\circ \\left(\\left(\\frac{a_{0, 0}}{zref} + \\frac{am_{0, 0}}{zref}\\right) bz Az^{3} dz + \\left(\\frac{a_{0, 1}}{zref} + \\frac{am_{0, 1}}{zref}\\right) bz Az^{2} dz + \\left(\\frac{a_{0, 2}}{zref} + \\frac{am_{0, 2}}{zref}\\right) bz Az dz + \\left(\\frac{a_{0, 3}}{zref} + \\frac{am_{0, 3}}{zref}\\right) bz dz + \\frac{1}{zref} bz Az^{4} z_{0} + \\frac{1}{zref} zrefm\\right)^{-1}\\right)\\end{matrix}\\right] + by dy \\left[\\begin{matrix}\\frac{F2xCO2}{\\log{\\left(2 \\right)}} \\left(\\left(\\frac{1}{zref} bz Az^{3} dz\\right) \\circ \\left(\\left(\\frac{a_{0, 0}}{zref} + \\frac{am_{0, 0}}{zref}\\right) bz Az^{4} dz + \\left(\\frac{a_{0, 1}}{zref} + \\frac{am_{0, 1}}{zref}\\right) bz Az^{3} dz + \\left(\\frac{a_{0, 2}}{zref} + \\frac{am_{0, 2}}{zref}\\right) bz Az^{2} dz + \\left(\\frac{a_{0, 3}}{zref} + \\frac{am_{0, 3}}{zref}\\right) bz Az dz + \\left(\\frac{a_{0, 4}}{zref} + \\frac{am_{0, 4}}{zref}\\right) bz dz + \\frac{1}{zref} bz Az^{5} z_{0} + \\frac{1}{zref} zrefm\\right)^{-1}\\right)\\end{matrix}\\right] & by Ay^{2} dy \\left[\\begin{matrix}\\frac{F2xCO2}{\\log{\\left(2 \\right)}} \\left(\\left(\\frac{1}{zref} bz dz\\right) \\circ \\left(\\left(\\frac{a_{0, 0}}{zref} + \\frac{am_{0, 0}}{zref}\\right) bz Az^{2} dz + \\left(\\frac{a_{0, 1}}{zref} + \\frac{am_{0, 1}}{zref}\\right) bz Az dz + \\left(\\frac{a_{0, 2}}{zref} + \\frac{am_{0, 2}}{zref}\\right) bz dz + \\frac{1}{zref} bz Az^{3} z_{0} + \\frac{1}{zref} zrefm\\right)^{-1}\\right)\\end{matrix}\\right] + by Ay dy \\left[\\begin{matrix}\\frac{F2xCO2}{\\log{\\left(2 \\right)}} \\left(\\left(\\frac{1}{zref} bz Az dz\\right) \\circ \\left(\\left(\\frac{a_{0, 0}}{zref} + \\frac{am_{0, 0}}{zref}\\right) bz Az^{3} dz + \\left(\\frac{a_{0, 1}}{zref} + \\frac{am_{0, 1}}{zref}\\right) bz Az^{2} dz + \\left(\\frac{a_{0, 2}}{zref} + \\frac{am_{0, 2}}{zref}\\right) bz Az dz + \\left(\\frac{a_{0, 3}}{zref} + \\frac{am_{0, 3}}{zref}\\right) bz dz + \\frac{1}{zref} bz Az^{4} z_{0} + \\frac{1}{zref} zrefm\\right)^{-1}\\right)\\end{matrix}\\right] + by dy \\left[\\begin{matrix}\\frac{F2xCO2}{\\log{\\left(2 \\right)}} \\left(\\left(\\frac{1}{zref} bz Az^{2} dz\\right) \\circ \\left(\\left(\\frac{a_{0, 0}}{zref} + \\frac{am_{0, 0}}{zref}\\right) bz Az^{4} dz + \\left(\\frac{a_{0, 1}}{zref} + \\frac{am_{0, 1}}{zref}\\right) bz Az^{3} dz + \\left(\\frac{a_{0, 2}}{zref} + \\frac{am_{0, 2}}{zref}\\right) bz Az^{2} dz + \\left(\\frac{a_{0, 3}}{zref} + \\frac{am_{0, 3}}{zref}\\right) bz Az dz + \\left(\\frac{a_{0, 4}}{zref} + \\frac{am_{0, 4}}{zref}\\right) bz dz + \\frac{1}{zref} bz Az^{5} z_{0} + \\frac{1}{zref} zrefm\\right)^{-1}\\right)\\end{matrix}\\right] & by Ay dy \\left[\\begin{matrix}\\frac{F2xCO2}{\\log{\\left(2 \\right)}} \\left(\\left(\\frac{1}{zref} bz dz\\right) \\circ \\left(\\left(\\frac{a_{0, 0}}{zref} + \\frac{am_{0, 0}}{zref}\\right) bz Az^{3} dz + \\left(\\frac{a_{0, 1}}{zref} + \\frac{am_{0, 1}}{zref}\\right) bz Az^{2} dz + \\left(\\frac{a_{0, 2}}{zref} + \\frac{am_{0, 2}}{zref}\\right) bz Az dz + \\left(\\frac{a_{0, 3}}{zref} + \\frac{am_{0, 3}}{zref}\\right) bz dz + \\frac{1}{zref} bz Az^{4} z_{0} + \\frac{1}{zref} zrefm\\right)^{-1}\\right)\\end{matrix}\\right] + by dy \\left[\\begin{matrix}\\frac{F2xCO2}{\\log{\\left(2 \\right)}} \\left(\\left(\\frac{1}{zref} bz Az dz\\right) \\circ \\left(\\left(\\frac{a_{0, 0}}{zref} + \\frac{am_{0, 0}}{zref}\\right) bz Az^{4} dz + \\left(\\frac{a_{0, 1}}{zref} + \\frac{am_{0, 1}}{zref}\\right) bz Az^{3} dz + \\left(\\frac{a_{0, 2}}{zref} + \\frac{am_{0, 2}}{zref}\\right) bz Az^{2} dz + \\left(\\frac{a_{0, 3}}{zref} + \\frac{am_{0, 3}}{zref}\\right) bz Az dz + \\left(\\frac{a_{0, 4}}{zref} + \\frac{am_{0, 4}}{zref}\\right) bz dz + \\frac{1}{zref} bz Az^{5} z_{0} + \\frac{1}{zref} zrefm\\right)^{-1}\\right)\\end{matrix}\\right] & by dy \\left[\\begin{matrix}\\frac{F2xCO2}{\\log{\\left(2 \\right)}} \\left(\\left(\\frac{1}{zref} bz dz\\right) \\circ \\left(\\left(\\frac{a_{0, 0}}{zref} + \\frac{am_{0, 0}}{zref}\\right) bz Az^{4} dz + \\left(\\frac{a_{0, 1}}{zref} + \\frac{am_{0, 1}}{zref}\\right) bz Az^{3} dz + \\left(\\frac{a_{0, 2}}{zref} + \\frac{am_{0, 2}}{zref}\\right) bz Az^{2} dz + \\left(\\frac{a_{0, 3}}{zref} + \\frac{am_{0, 3}}{zref}\\right) bz Az dz + \\left(\\frac{a_{0, 4}}{zref} + \\frac{am_{0, 4}}{zref}\\right) bz dz + \\frac{1}{zref} bz Az^{5} z_{0} + \\frac{1}{zref} zrefm\\right)^{-1}\\right)\\end{matrix}\\right]\\end{matrix}\\right]$"
      ],
      "text/plain": [
       "Matrix([\n",
       "[                                                                                                                                                                                                                                                                                                                                                                                                                                                                                                                                                                                                                                                                                                                                                                                                                                                                                                                                                                                                                                                                                                                        by*dy*Matrix([[(F2xCO2/log(2))*(HadamardProduct(1/zref*bz*dz, ((a[0, 0]/zref + am[0, 0]/zref)*bz*dz + 1/zref*bz*Az*z0 + 1/zref*zrefm)**(-1)))]]),                                                                                                                                                                                                                                                                                                                                                                                                                                                                                                                                                                                                                                                                                                                                                                                                                                                                                                                                                                                                                                                                                                         0,                                                                                                                                                                                                                                                                                                                                                                                                                                                                                                                                                                                                                                                                                                                                                                                                                                                                                             0,                                                                                                                                                                                                                                                                                                                                                                                                                                                                                                                                                                                                                                    0,                                                                                                                                                                                                                                                                                                                                    0],\n",
       "[                                                                                                                                                                                                                                                                                                                                                                                                                                                                                                                                                                                                                                                                                                                                                                                                                                                                                                                  by*Ay*dy*Matrix([[(F2xCO2/log(2))*(HadamardProduct(1/zref*bz*dz, ((a[0, 0]/zref + am[0, 0]/zref)*bz*dz + 1/zref*bz*Az*z0 + 1/zref*zrefm)**(-1)))]]) + by*dy*Matrix([[(F2xCO2/log(2))*(HadamardProduct(1/zref*bz*Az*dz, ((a[0, 0]/zref + am[0, 0]/zref)*bz*Az*dz + (a[0, 1]/zref + am[0, 1]/zref)*bz*dz + 1/zref*bz*Az**2*z0 + 1/zref*zrefm)**(-1)))]]),                                                                                                                                                                                                                                                                                                                                                                                                                                                                                                                                                                                                                                                                                                                                                                                                                                                                                                             by*dy*Matrix([[(F2xCO2/log(2))*(HadamardProduct(1/zref*bz*dz, ((a[0, 0]/zref + am[0, 0]/zref)*bz*Az*dz + (a[0, 1]/zref + am[0, 1]/zref)*bz*dz + 1/zref*bz*Az**2*z0 + 1/zref*zrefm)**(-1)))]]),                                                                                                                                                                                                                                                                                                                                                                                                                                                                                                                                                                                                                                                                                                                                                                                                                                                                                             0,                                                                                                                                                                                                                                                                                                                                                                                                                                                                                                                                                                                                                                    0,                                                                                                                                                                                                                                                                                                                                    0],\n",
       "[                                                                                                                                                                                                                                                                                                                                                                                                                                                                                                                                                                                                                                                         by*Ay**2*dy*Matrix([[(F2xCO2/log(2))*(HadamardProduct(1/zref*bz*dz, ((a[0, 0]/zref + am[0, 0]/zref)*bz*dz + 1/zref*bz*Az*z0 + 1/zref*zrefm)**(-1)))]]) + by*Ay*dy*Matrix([[(F2xCO2/log(2))*(HadamardProduct(1/zref*bz*Az*dz, ((a[0, 0]/zref + am[0, 0]/zref)*bz*Az*dz + (a[0, 1]/zref + am[0, 1]/zref)*bz*dz + 1/zref*bz*Az**2*z0 + 1/zref*zrefm)**(-1)))]]) + by*dy*Matrix([[(F2xCO2/log(2))*(HadamardProduct(1/zref*bz*Az**2*dz, ((a[0, 0]/zref + am[0, 0]/zref)*bz*Az**2*dz + (a[0, 1]/zref + am[0, 1]/zref)*bz*Az*dz + (a[0, 2]/zref + am[0, 2]/zref)*bz*dz + 1/zref*bz*Az**3*z0 + 1/zref*zrefm)**(-1)))]]),                                                                                                                                                                                                                                                                                                                                                                                                                                                                                                                                                                                                                                                          by*Ay*dy*Matrix([[(F2xCO2/log(2))*(HadamardProduct(1/zref*bz*dz, ((a[0, 0]/zref + am[0, 0]/zref)*bz*Az*dz + (a[0, 1]/zref + am[0, 1]/zref)*bz*dz + 1/zref*bz*Az**2*z0 + 1/zref*zrefm)**(-1)))]]) + by*dy*Matrix([[(F2xCO2/log(2))*(HadamardProduct(1/zref*bz*Az*dz, ((a[0, 0]/zref + am[0, 0]/zref)*bz*Az**2*dz + (a[0, 1]/zref + am[0, 1]/zref)*bz*Az*dz + (a[0, 2]/zref + am[0, 2]/zref)*bz*dz + 1/zref*bz*Az**3*z0 + 1/zref*zrefm)**(-1)))]]),                                                                                                                                                                                                                                                                                                                                                                                                                                                                                                                                                                                                                                                    by*dy*Matrix([[(F2xCO2/log(2))*(HadamardProduct(1/zref*bz*dz, ((a[0, 0]/zref + am[0, 0]/zref)*bz*Az**2*dz + (a[0, 1]/zref + am[0, 1]/zref)*bz*Az*dz + (a[0, 2]/zref + am[0, 2]/zref)*bz*dz + 1/zref*bz*Az**3*z0 + 1/zref*zrefm)**(-1)))]]),                                                                                                                                                                                                                                                                                                                                                                                                                                                                                                                                                                                                                                    0,                                                                                                                                                                                                                                                                                                                                    0],\n",
       "[                                                                                                                                                                                                                                                                                                                                                   by*Ay**2*dy*Matrix([[(F2xCO2/log(2))*(HadamardProduct(1/zref*bz*Az*dz, ((a[0, 0]/zref + am[0, 0]/zref)*bz*Az*dz + (a[0, 1]/zref + am[0, 1]/zref)*bz*dz + 1/zref*bz*Az**2*z0 + 1/zref*zrefm)**(-1)))]]) + by*Ay**3*dy*Matrix([[(F2xCO2/log(2))*(HadamardProduct(1/zref*bz*dz, ((a[0, 0]/zref + am[0, 0]/zref)*bz*dz + 1/zref*bz*Az*z0 + 1/zref*zrefm)**(-1)))]]) + by*Ay*dy*Matrix([[(F2xCO2/log(2))*(HadamardProduct(1/zref*bz*Az**2*dz, ((a[0, 0]/zref + am[0, 0]/zref)*bz*Az**2*dz + (a[0, 1]/zref + am[0, 1]/zref)*bz*Az*dz + (a[0, 2]/zref + am[0, 2]/zref)*bz*dz + 1/zref*bz*Az**3*z0 + 1/zref*zrefm)**(-1)))]]) + by*dy*Matrix([[(F2xCO2/log(2))*(HadamardProduct(1/zref*bz*Az**3*dz, ((a[0, 0]/zref + am[0, 0]/zref)*bz*Az**3*dz + (a[0, 1]/zref + am[0, 1]/zref)*bz*Az**2*dz + (a[0, 2]/zref + am[0, 2]/zref)*bz*Az*dz + (a[0, 3]/zref + am[0, 3]/zref)*bz*dz + 1/zref*bz*Az**4*z0 + 1/zref*zrefm)**(-1)))]]),                                                                                                                                                                                                                                                                                                                                                    by*Ay**2*dy*Matrix([[(F2xCO2/log(2))*(HadamardProduct(1/zref*bz*dz, ((a[0, 0]/zref + am[0, 0]/zref)*bz*Az*dz + (a[0, 1]/zref + am[0, 1]/zref)*bz*dz + 1/zref*bz*Az**2*z0 + 1/zref*zrefm)**(-1)))]]) + by*Ay*dy*Matrix([[(F2xCO2/log(2))*(HadamardProduct(1/zref*bz*Az*dz, ((a[0, 0]/zref + am[0, 0]/zref)*bz*Az**2*dz + (a[0, 1]/zref + am[0, 1]/zref)*bz*Az*dz + (a[0, 2]/zref + am[0, 2]/zref)*bz*dz + 1/zref*bz*Az**3*z0 + 1/zref*zrefm)**(-1)))]]) + by*dy*Matrix([[(F2xCO2/log(2))*(HadamardProduct(1/zref*bz*Az**2*dz, ((a[0, 0]/zref + am[0, 0]/zref)*bz*Az**3*dz + (a[0, 1]/zref + am[0, 1]/zref)*bz*Az**2*dz + (a[0, 2]/zref + am[0, 2]/zref)*bz*Az*dz + (a[0, 3]/zref + am[0, 3]/zref)*bz*dz + 1/zref*bz*Az**4*z0 + 1/zref*zrefm)**(-1)))]]),                                                                                                                                                                                                                                                                                                                                                    by*Ay*dy*Matrix([[(F2xCO2/log(2))*(HadamardProduct(1/zref*bz*dz, ((a[0, 0]/zref + am[0, 0]/zref)*bz*Az**2*dz + (a[0, 1]/zref + am[0, 1]/zref)*bz*Az*dz + (a[0, 2]/zref + am[0, 2]/zref)*bz*dz + 1/zref*bz*Az**3*z0 + 1/zref*zrefm)**(-1)))]]) + by*dy*Matrix([[(F2xCO2/log(2))*(HadamardProduct(1/zref*bz*Az*dz, ((a[0, 0]/zref + am[0, 0]/zref)*bz*Az**3*dz + (a[0, 1]/zref + am[0, 1]/zref)*bz*Az**2*dz + (a[0, 2]/zref + am[0, 2]/zref)*bz*Az*dz + (a[0, 3]/zref + am[0, 3]/zref)*bz*dz + 1/zref*bz*Az**4*z0 + 1/zref*zrefm)**(-1)))]]),                                                                                                                                                                                                                                                                                                                                              by*dy*Matrix([[(F2xCO2/log(2))*(HadamardProduct(1/zref*bz*dz, ((a[0, 0]/zref + am[0, 0]/zref)*bz*Az**3*dz + (a[0, 1]/zref + am[0, 1]/zref)*bz*Az**2*dz + (a[0, 2]/zref + am[0, 2]/zref)*bz*Az*dz + (a[0, 3]/zref + am[0, 3]/zref)*bz*dz + 1/zref*bz*Az**4*z0 + 1/zref*zrefm)**(-1)))]]),                                                                                                                                                                                                                                                                                                                                    0],\n",
       "[by*Ay**2*dy*Matrix([[(F2xCO2/log(2))*(HadamardProduct(1/zref*bz*Az**2*dz, ((a[0, 0]/zref + am[0, 0]/zref)*bz*Az**2*dz + (a[0, 1]/zref + am[0, 1]/zref)*bz*Az*dz + (a[0, 2]/zref + am[0, 2]/zref)*bz*dz + 1/zref*bz*Az**3*z0 + 1/zref*zrefm)**(-1)))]]) + by*Ay**3*dy*Matrix([[(F2xCO2/log(2))*(HadamardProduct(1/zref*bz*Az*dz, ((a[0, 0]/zref + am[0, 0]/zref)*bz*Az*dz + (a[0, 1]/zref + am[0, 1]/zref)*bz*dz + 1/zref*bz*Az**2*z0 + 1/zref*zrefm)**(-1)))]]) + by*Ay**4*dy*Matrix([[(F2xCO2/log(2))*(HadamardProduct(1/zref*bz*dz, ((a[0, 0]/zref + am[0, 0]/zref)*bz*dz + 1/zref*bz*Az*z0 + 1/zref*zrefm)**(-1)))]]) + by*Ay*dy*Matrix([[(F2xCO2/log(2))*(HadamardProduct(1/zref*bz*Az**3*dz, ((a[0, 0]/zref + am[0, 0]/zref)*bz*Az**3*dz + (a[0, 1]/zref + am[0, 1]/zref)*bz*Az**2*dz + (a[0, 2]/zref + am[0, 2]/zref)*bz*Az*dz + (a[0, 3]/zref + am[0, 3]/zref)*bz*dz + 1/zref*bz*Az**4*z0 + 1/zref*zrefm)**(-1)))]]) + by*dy*Matrix([[(F2xCO2/log(2))*(HadamardProduct(1/zref*bz*Az**4*dz, ((a[0, 0]/zref + am[0, 0]/zref)*bz*Az**4*dz + (a[0, 1]/zref + am[0, 1]/zref)*bz*Az**3*dz + (a[0, 2]/zref + am[0, 2]/zref)*bz*Az**2*dz + (a[0, 3]/zref + am[0, 3]/zref)*bz*Az*dz + (a[0, 4]/zref + am[0, 4]/zref)*bz*dz + 1/zref*bz*Az**5*z0 + 1/zref*zrefm)**(-1)))]]), by*Ay**2*dy*Matrix([[(F2xCO2/log(2))*(HadamardProduct(1/zref*bz*Az*dz, ((a[0, 0]/zref + am[0, 0]/zref)*bz*Az**2*dz + (a[0, 1]/zref + am[0, 1]/zref)*bz*Az*dz + (a[0, 2]/zref + am[0, 2]/zref)*bz*dz + 1/zref*bz*Az**3*z0 + 1/zref*zrefm)**(-1)))]]) + by*Ay**3*dy*Matrix([[(F2xCO2/log(2))*(HadamardProduct(1/zref*bz*dz, ((a[0, 0]/zref + am[0, 0]/zref)*bz*Az*dz + (a[0, 1]/zref + am[0, 1]/zref)*bz*dz + 1/zref*bz*Az**2*z0 + 1/zref*zrefm)**(-1)))]]) + by*Ay*dy*Matrix([[(F2xCO2/log(2))*(HadamardProduct(1/zref*bz*Az**2*dz, ((a[0, 0]/zref + am[0, 0]/zref)*bz*Az**3*dz + (a[0, 1]/zref + am[0, 1]/zref)*bz*Az**2*dz + (a[0, 2]/zref + am[0, 2]/zref)*bz*Az*dz + (a[0, 3]/zref + am[0, 3]/zref)*bz*dz + 1/zref*bz*Az**4*z0 + 1/zref*zrefm)**(-1)))]]) + by*dy*Matrix([[(F2xCO2/log(2))*(HadamardProduct(1/zref*bz*Az**3*dz, ((a[0, 0]/zref + am[0, 0]/zref)*bz*Az**4*dz + (a[0, 1]/zref + am[0, 1]/zref)*bz*Az**3*dz + (a[0, 2]/zref + am[0, 2]/zref)*bz*Az**2*dz + (a[0, 3]/zref + am[0, 3]/zref)*bz*Az*dz + (a[0, 4]/zref + am[0, 4]/zref)*bz*dz + 1/zref*bz*Az**5*z0 + 1/zref*zrefm)**(-1)))]]), by*Ay**2*dy*Matrix([[(F2xCO2/log(2))*(HadamardProduct(1/zref*bz*dz, ((a[0, 0]/zref + am[0, 0]/zref)*bz*Az**2*dz + (a[0, 1]/zref + am[0, 1]/zref)*bz*Az*dz + (a[0, 2]/zref + am[0, 2]/zref)*bz*dz + 1/zref*bz*Az**3*z0 + 1/zref*zrefm)**(-1)))]]) + by*Ay*dy*Matrix([[(F2xCO2/log(2))*(HadamardProduct(1/zref*bz*Az*dz, ((a[0, 0]/zref + am[0, 0]/zref)*bz*Az**3*dz + (a[0, 1]/zref + am[0, 1]/zref)*bz*Az**2*dz + (a[0, 2]/zref + am[0, 2]/zref)*bz*Az*dz + (a[0, 3]/zref + am[0, 3]/zref)*bz*dz + 1/zref*bz*Az**4*z0 + 1/zref*zrefm)**(-1)))]]) + by*dy*Matrix([[(F2xCO2/log(2))*(HadamardProduct(1/zref*bz*Az**2*dz, ((a[0, 0]/zref + am[0, 0]/zref)*bz*Az**4*dz + (a[0, 1]/zref + am[0, 1]/zref)*bz*Az**3*dz + (a[0, 2]/zref + am[0, 2]/zref)*bz*Az**2*dz + (a[0, 3]/zref + am[0, 3]/zref)*bz*Az*dz + (a[0, 4]/zref + am[0, 4]/zref)*bz*dz + 1/zref*bz*Az**5*z0 + 1/zref*zrefm)**(-1)))]]), by*Ay*dy*Matrix([[(F2xCO2/log(2))*(HadamardProduct(1/zref*bz*dz, ((a[0, 0]/zref + am[0, 0]/zref)*bz*Az**3*dz + (a[0, 1]/zref + am[0, 1]/zref)*bz*Az**2*dz + (a[0, 2]/zref + am[0, 2]/zref)*bz*Az*dz + (a[0, 3]/zref + am[0, 3]/zref)*bz*dz + 1/zref*bz*Az**4*z0 + 1/zref*zrefm)**(-1)))]]) + by*dy*Matrix([[(F2xCO2/log(2))*(HadamardProduct(1/zref*bz*Az*dz, ((a[0, 0]/zref + am[0, 0]/zref)*bz*Az**4*dz + (a[0, 1]/zref + am[0, 1]/zref)*bz*Az**3*dz + (a[0, 2]/zref + am[0, 2]/zref)*bz*Az**2*dz + (a[0, 3]/zref + am[0, 3]/zref)*bz*Az*dz + (a[0, 4]/zref + am[0, 4]/zref)*bz*dz + 1/zref*bz*Az**5*z0 + 1/zref*zrefm)**(-1)))]]), by*dy*Matrix([[(F2xCO2/log(2))*(HadamardProduct(1/zref*bz*dz, ((a[0, 0]/zref + am[0, 0]/zref)*bz*Az**4*dz + (a[0, 1]/zref + am[0, 1]/zref)*bz*Az**3*dz + (a[0, 2]/zref + am[0, 2]/zref)*bz*Az**2*dz + (a[0, 3]/zref + am[0, 3]/zref)*bz*Az*dz + (a[0, 4]/zref + am[0, 4]/zref)*bz*dz + 1/zref*bz*Az**5*z0 + 1/zref*zrefm)**(-1)))]])]])"
      ]
     },
     "execution_count": 30,
     "metadata": {},
     "output_type": "execute_result"
    }
   ],
   "source": [
    "jac_rewritte"
   ]
  },
  {
   "cell_type": "code",
   "execution_count": 39,
   "metadata": {},
   "outputs": [
    {
     "data": {
      "text/latex": [
       "$\\displaystyle \\left[\\begin{matrix}by dy \\left[\\begin{matrix}\\frac{F2xCO2}{\\log{\\left(2 \\right)}} \\left(\\left(\\frac{1}{zref} bz dz\\right) \\circ \\left(\\frac{a_{0, 0} + am_{0, 0}}{zref} bz dz + \\frac{1}{zref} bz Az z_{0} + \\frac{1}{zref} zrefm\\right)^{-1}\\right)\\end{matrix}\\right] & 0 & 0 & 0 & 0\\\\by \\left(Ay dy \\left[\\begin{matrix}\\frac{F2xCO2}{\\log{\\left(2 \\right)}} \\left(\\left(\\frac{1}{zref} bz dz\\right) \\circ \\left(\\frac{a_{0, 0} + am_{0, 0}}{zref} bz dz + \\frac{1}{zref} bz Az z_{0} + \\frac{1}{zref} zrefm\\right)^{-1}\\right)\\end{matrix}\\right] + dy \\left[\\begin{matrix}\\frac{F2xCO2}{\\log{\\left(2 \\right)}} \\left(\\left(\\frac{1}{zref} bz Az dz\\right) \\circ \\left(\\frac{a_{0, 0} + am_{0, 0}}{zref} bz Az dz + \\frac{a_{0, 1} + am_{0, 1}}{zref} bz dz + \\frac{1}{zref} bz Az^{2} z_{0} + \\frac{1}{zref} zrefm\\right)^{-1}\\right)\\end{matrix}\\right]\\right) & by dy \\left[\\begin{matrix}\\frac{F2xCO2}{\\log{\\left(2 \\right)}} \\left(\\left(\\frac{1}{zref} bz dz\\right) \\circ \\left(\\frac{a_{0, 0} + am_{0, 0}}{zref} bz Az dz + \\frac{a_{0, 1} + am_{0, 1}}{zref} bz dz + \\frac{1}{zref} bz Az^{2} z_{0} + \\frac{1}{zref} zrefm\\right)^{-1}\\right)\\end{matrix}\\right] & 0 & 0 & 0\\\\by \\left(Ay^{2} dy \\left[\\begin{matrix}\\frac{F2xCO2}{\\log{\\left(2 \\right)}} \\left(\\left(\\frac{1}{zref} bz dz\\right) \\circ \\left(\\frac{a_{0, 0} + am_{0, 0}}{zref} bz dz + \\frac{1}{zref} bz Az z_{0} + \\frac{1}{zref} zrefm\\right)^{-1}\\right)\\end{matrix}\\right] + Ay dy \\left[\\begin{matrix}\\frac{F2xCO2}{\\log{\\left(2 \\right)}} \\left(\\left(\\frac{1}{zref} bz Az dz\\right) \\circ \\left(\\frac{a_{0, 0} + am_{0, 0}}{zref} bz Az dz + \\frac{a_{0, 1} + am_{0, 1}}{zref} bz dz + \\frac{1}{zref} bz Az^{2} z_{0} + \\frac{1}{zref} zrefm\\right)^{-1}\\right)\\end{matrix}\\right] + dy \\left[\\begin{matrix}\\frac{F2xCO2}{\\log{\\left(2 \\right)}} \\left(\\left(\\frac{1}{zref} bz Az^{2} dz\\right) \\circ \\left(\\frac{a_{0, 0} + am_{0, 0}}{zref} bz Az^{2} dz + \\frac{a_{0, 1} + am_{0, 1}}{zref} bz Az dz + \\frac{a_{0, 2} + am_{0, 2}}{zref} bz dz + \\frac{1}{zref} bz Az^{3} z_{0} + \\frac{1}{zref} zrefm\\right)^{-1}\\right)\\end{matrix}\\right]\\right) & by \\left(Ay dy \\left[\\begin{matrix}\\frac{F2xCO2}{\\log{\\left(2 \\right)}} \\left(\\left(\\frac{1}{zref} bz dz\\right) \\circ \\left(\\frac{a_{0, 0} + am_{0, 0}}{zref} bz Az dz + \\frac{a_{0, 1} + am_{0, 1}}{zref} bz dz + \\frac{1}{zref} bz Az^{2} z_{0} + \\frac{1}{zref} zrefm\\right)^{-1}\\right)\\end{matrix}\\right] + dy \\left[\\begin{matrix}\\frac{F2xCO2}{\\log{\\left(2 \\right)}} \\left(\\left(\\frac{1}{zref} bz Az dz\\right) \\circ \\left(\\frac{a_{0, 0} + am_{0, 0}}{zref} bz Az^{2} dz + \\frac{a_{0, 1} + am_{0, 1}}{zref} bz Az dz + \\frac{a_{0, 2} + am_{0, 2}}{zref} bz dz + \\frac{1}{zref} bz Az^{3} z_{0} + \\frac{1}{zref} zrefm\\right)^{-1}\\right)\\end{matrix}\\right]\\right) & by dy \\left[\\begin{matrix}\\frac{F2xCO2}{\\log{\\left(2 \\right)}} \\left(\\left(\\frac{1}{zref} bz dz\\right) \\circ \\left(\\frac{a_{0, 0} + am_{0, 0}}{zref} bz Az^{2} dz + \\frac{a_{0, 1} + am_{0, 1}}{zref} bz Az dz + \\frac{a_{0, 2} + am_{0, 2}}{zref} bz dz + \\frac{1}{zref} bz Az^{3} z_{0} + \\frac{1}{zref} zrefm\\right)^{-1}\\right)\\end{matrix}\\right] & 0 & 0\\\\by \\left(Ay^{2} dy \\left[\\begin{matrix}\\frac{F2xCO2}{\\log{\\left(2 \\right)}} \\left(\\left(\\frac{1}{zref} bz Az dz\\right) \\circ \\left(\\frac{a_{0, 0} + am_{0, 0}}{zref} bz Az dz + \\frac{a_{0, 1} + am_{0, 1}}{zref} bz dz + \\frac{1}{zref} bz Az^{2} z_{0} + \\frac{1}{zref} zrefm\\right)^{-1}\\right)\\end{matrix}\\right] + Ay^{3} dy \\left[\\begin{matrix}\\frac{F2xCO2}{\\log{\\left(2 \\right)}} \\left(\\left(\\frac{1}{zref} bz dz\\right) \\circ \\left(\\frac{a_{0, 0} + am_{0, 0}}{zref} bz dz + \\frac{1}{zref} bz Az z_{0} + \\frac{1}{zref} zrefm\\right)^{-1}\\right)\\end{matrix}\\right] + Ay dy \\left[\\begin{matrix}\\frac{F2xCO2}{\\log{\\left(2 \\right)}} \\left(\\left(\\frac{1}{zref} bz Az^{2} dz\\right) \\circ \\left(\\frac{a_{0, 0} + am_{0, 0}}{zref} bz Az^{2} dz + \\frac{a_{0, 1} + am_{0, 1}}{zref} bz Az dz + \\frac{a_{0, 2} + am_{0, 2}}{zref} bz dz + \\frac{1}{zref} bz Az^{3} z_{0} + \\frac{1}{zref} zrefm\\right)^{-1}\\right)\\end{matrix}\\right] + dy \\left[\\begin{matrix}\\frac{F2xCO2}{\\log{\\left(2 \\right)}} \\left(\\left(\\frac{1}{zref} bz Az^{3} dz\\right) \\circ \\left(\\frac{a_{0, 0} + am_{0, 0}}{zref} bz Az^{3} dz + \\frac{a_{0, 1} + am_{0, 1}}{zref} bz Az^{2} dz + \\frac{a_{0, 2} + am_{0, 2}}{zref} bz Az dz + \\frac{a_{0, 3} + am_{0, 3}}{zref} bz dz + \\frac{1}{zref} bz Az^{4} z_{0} + \\frac{1}{zref} zrefm\\right)^{-1}\\right)\\end{matrix}\\right]\\right) & by \\left(Ay^{2} dy \\left[\\begin{matrix}\\frac{F2xCO2}{\\log{\\left(2 \\right)}} \\left(\\left(\\frac{1}{zref} bz dz\\right) \\circ \\left(\\frac{a_{0, 0} + am_{0, 0}}{zref} bz Az dz + \\frac{a_{0, 1} + am_{0, 1}}{zref} bz dz + \\frac{1}{zref} bz Az^{2} z_{0} + \\frac{1}{zref} zrefm\\right)^{-1}\\right)\\end{matrix}\\right] + Ay dy \\left[\\begin{matrix}\\frac{F2xCO2}{\\log{\\left(2 \\right)}} \\left(\\left(\\frac{1}{zref} bz Az dz\\right) \\circ \\left(\\frac{a_{0, 0} + am_{0, 0}}{zref} bz Az^{2} dz + \\frac{a_{0, 1} + am_{0, 1}}{zref} bz Az dz + \\frac{a_{0, 2} + am_{0, 2}}{zref} bz dz + \\frac{1}{zref} bz Az^{3} z_{0} + \\frac{1}{zref} zrefm\\right)^{-1}\\right)\\end{matrix}\\right] + dy \\left[\\begin{matrix}\\frac{F2xCO2}{\\log{\\left(2 \\right)}} \\left(\\left(\\frac{1}{zref} bz Az^{2} dz\\right) \\circ \\left(\\frac{a_{0, 0} + am_{0, 0}}{zref} bz Az^{3} dz + \\frac{a_{0, 1} + am_{0, 1}}{zref} bz Az^{2} dz + \\frac{a_{0, 2} + am_{0, 2}}{zref} bz Az dz + \\frac{a_{0, 3} + am_{0, 3}}{zref} bz dz + \\frac{1}{zref} bz Az^{4} z_{0} + \\frac{1}{zref} zrefm\\right)^{-1}\\right)\\end{matrix}\\right]\\right) & by \\left(Ay dy \\left[\\begin{matrix}\\frac{F2xCO2}{\\log{\\left(2 \\right)}} \\left(\\left(\\frac{1}{zref} bz dz\\right) \\circ \\left(\\frac{a_{0, 0} + am_{0, 0}}{zref} bz Az^{2} dz + \\frac{a_{0, 1} + am_{0, 1}}{zref} bz Az dz + \\frac{a_{0, 2} + am_{0, 2}}{zref} bz dz + \\frac{1}{zref} bz Az^{3} z_{0} + \\frac{1}{zref} zrefm\\right)^{-1}\\right)\\end{matrix}\\right] + dy \\left[\\begin{matrix}\\frac{F2xCO2}{\\log{\\left(2 \\right)}} \\left(\\left(\\frac{1}{zref} bz Az dz\\right) \\circ \\left(\\frac{a_{0, 0} + am_{0, 0}}{zref} bz Az^{3} dz + \\frac{a_{0, 1} + am_{0, 1}}{zref} bz Az^{2} dz + \\frac{a_{0, 2} + am_{0, 2}}{zref} bz Az dz + \\frac{a_{0, 3} + am_{0, 3}}{zref} bz dz + \\frac{1}{zref} bz Az^{4} z_{0} + \\frac{1}{zref} zrefm\\right)^{-1}\\right)\\end{matrix}\\right]\\right) & by dy \\left[\\begin{matrix}\\frac{F2xCO2}{\\log{\\left(2 \\right)}} \\left(\\left(\\frac{1}{zref} bz dz\\right) \\circ \\left(\\frac{a_{0, 0} + am_{0, 0}}{zref} bz Az^{3} dz + \\frac{a_{0, 1} + am_{0, 1}}{zref} bz Az^{2} dz + \\frac{a_{0, 2} + am_{0, 2}}{zref} bz Az dz + \\frac{a_{0, 3} + am_{0, 3}}{zref} bz dz + \\frac{1}{zref} bz Az^{4} z_{0} + \\frac{1}{zref} zrefm\\right)^{-1}\\right)\\end{matrix}\\right] & 0\\\\by \\left(Ay^{2} dy \\left[\\begin{matrix}\\frac{F2xCO2}{\\log{\\left(2 \\right)}} \\left(\\left(\\frac{1}{zref} bz Az^{2} dz\\right) \\circ \\left(\\frac{a_{0, 0} + am_{0, 0}}{zref} bz Az^{2} dz + \\frac{a_{0, 1} + am_{0, 1}}{zref} bz Az dz + \\frac{a_{0, 2} + am_{0, 2}}{zref} bz dz + \\frac{1}{zref} bz Az^{3} z_{0} + \\frac{1}{zref} zrefm\\right)^{-1}\\right)\\end{matrix}\\right] + Ay^{3} dy \\left[\\begin{matrix}\\frac{F2xCO2}{\\log{\\left(2 \\right)}} \\left(\\left(\\frac{1}{zref} bz Az dz\\right) \\circ \\left(\\frac{a_{0, 0} + am_{0, 0}}{zref} bz Az dz + \\frac{a_{0, 1} + am_{0, 1}}{zref} bz dz + \\frac{1}{zref} bz Az^{2} z_{0} + \\frac{1}{zref} zrefm\\right)^{-1}\\right)\\end{matrix}\\right] + Ay^{4} dy \\left[\\begin{matrix}\\frac{F2xCO2}{\\log{\\left(2 \\right)}} \\left(\\left(\\frac{1}{zref} bz dz\\right) \\circ \\left(\\frac{a_{0, 0} + am_{0, 0}}{zref} bz dz + \\frac{1}{zref} bz Az z_{0} + \\frac{1}{zref} zrefm\\right)^{-1}\\right)\\end{matrix}\\right] + Ay dy \\left[\\begin{matrix}\\frac{F2xCO2}{\\log{\\left(2 \\right)}} \\left(\\left(\\frac{1}{zref} bz Az^{3} dz\\right) \\circ \\left(\\frac{a_{0, 0} + am_{0, 0}}{zref} bz Az^{3} dz + \\frac{a_{0, 1} + am_{0, 1}}{zref} bz Az^{2} dz + \\frac{a_{0, 2} + am_{0, 2}}{zref} bz Az dz + \\frac{a_{0, 3} + am_{0, 3}}{zref} bz dz + \\frac{1}{zref} bz Az^{4} z_{0} + \\frac{1}{zref} zrefm\\right)^{-1}\\right)\\end{matrix}\\right] + dy \\left[\\begin{matrix}\\frac{F2xCO2}{\\log{\\left(2 \\right)}} \\left(\\left(\\frac{1}{zref} bz Az^{4} dz\\right) \\circ \\left(\\frac{a_{0, 0} + am_{0, 0}}{zref} bz Az^{4} dz + \\frac{a_{0, 1} + am_{0, 1}}{zref} bz Az^{3} dz + \\frac{a_{0, 2} + am_{0, 2}}{zref} bz Az^{2} dz + \\frac{a_{0, 3} + am_{0, 3}}{zref} bz Az dz + \\frac{a_{0, 4} + am_{0, 4}}{zref} bz dz + \\frac{1}{zref} bz Az^{5} z_{0} + \\frac{1}{zref} zrefm\\right)^{-1}\\right)\\end{matrix}\\right]\\right) & by \\left(Ay^{2} dy \\left[\\begin{matrix}\\frac{F2xCO2}{\\log{\\left(2 \\right)}} \\left(\\left(\\frac{1}{zref} bz Az dz\\right) \\circ \\left(\\frac{a_{0, 0} + am_{0, 0}}{zref} bz Az^{2} dz + \\frac{a_{0, 1} + am_{0, 1}}{zref} bz Az dz + \\frac{a_{0, 2} + am_{0, 2}}{zref} bz dz + \\frac{1}{zref} bz Az^{3} z_{0} + \\frac{1}{zref} zrefm\\right)^{-1}\\right)\\end{matrix}\\right] + Ay^{3} dy \\left[\\begin{matrix}\\frac{F2xCO2}{\\log{\\left(2 \\right)}} \\left(\\left(\\frac{1}{zref} bz dz\\right) \\circ \\left(\\frac{a_{0, 0} + am_{0, 0}}{zref} bz Az dz + \\frac{a_{0, 1} + am_{0, 1}}{zref} bz dz + \\frac{1}{zref} bz Az^{2} z_{0} + \\frac{1}{zref} zrefm\\right)^{-1}\\right)\\end{matrix}\\right] + Ay dy \\left[\\begin{matrix}\\frac{F2xCO2}{\\log{\\left(2 \\right)}} \\left(\\left(\\frac{1}{zref} bz Az^{2} dz\\right) \\circ \\left(\\frac{a_{0, 0} + am_{0, 0}}{zref} bz Az^{3} dz + \\frac{a_{0, 1} + am_{0, 1}}{zref} bz Az^{2} dz + \\frac{a_{0, 2} + am_{0, 2}}{zref} bz Az dz + \\frac{a_{0, 3} + am_{0, 3}}{zref} bz dz + \\frac{1}{zref} bz Az^{4} z_{0} + \\frac{1}{zref} zrefm\\right)^{-1}\\right)\\end{matrix}\\right] + dy \\left[\\begin{matrix}\\frac{F2xCO2}{\\log{\\left(2 \\right)}} \\left(\\left(\\frac{1}{zref} bz Az^{3} dz\\right) \\circ \\left(\\frac{a_{0, 0} + am_{0, 0}}{zref} bz Az^{4} dz + \\frac{a_{0, 1} + am_{0, 1}}{zref} bz Az^{3} dz + \\frac{a_{0, 2} + am_{0, 2}}{zref} bz Az^{2} dz + \\frac{a_{0, 3} + am_{0, 3}}{zref} bz Az dz + \\frac{a_{0, 4} + am_{0, 4}}{zref} bz dz + \\frac{1}{zref} bz Az^{5} z_{0} + \\frac{1}{zref} zrefm\\right)^{-1}\\right)\\end{matrix}\\right]\\right) & by \\left(Ay^{2} dy \\left[\\begin{matrix}\\frac{F2xCO2}{\\log{\\left(2 \\right)}} \\left(\\left(\\frac{1}{zref} bz dz\\right) \\circ \\left(\\frac{a_{0, 0} + am_{0, 0}}{zref} bz Az^{2} dz + \\frac{a_{0, 1} + am_{0, 1}}{zref} bz Az dz + \\frac{a_{0, 2} + am_{0, 2}}{zref} bz dz + \\frac{1}{zref} bz Az^{3} z_{0} + \\frac{1}{zref} zrefm\\right)^{-1}\\right)\\end{matrix}\\right] + Ay dy \\left[\\begin{matrix}\\frac{F2xCO2}{\\log{\\left(2 \\right)}} \\left(\\left(\\frac{1}{zref} bz Az dz\\right) \\circ \\left(\\frac{a_{0, 0} + am_{0, 0}}{zref} bz Az^{3} dz + \\frac{a_{0, 1} + am_{0, 1}}{zref} bz Az^{2} dz + \\frac{a_{0, 2} + am_{0, 2}}{zref} bz Az dz + \\frac{a_{0, 3} + am_{0, 3}}{zref} bz dz + \\frac{1}{zref} bz Az^{4} z_{0} + \\frac{1}{zref} zrefm\\right)^{-1}\\right)\\end{matrix}\\right] + dy \\left[\\begin{matrix}\\frac{F2xCO2}{\\log{\\left(2 \\right)}} \\left(\\left(\\frac{1}{zref} bz Az^{2} dz\\right) \\circ \\left(\\frac{a_{0, 0} + am_{0, 0}}{zref} bz Az^{4} dz + \\frac{a_{0, 1} + am_{0, 1}}{zref} bz Az^{3} dz + \\frac{a_{0, 2} + am_{0, 2}}{zref} bz Az^{2} dz + \\frac{a_{0, 3} + am_{0, 3}}{zref} bz Az dz + \\frac{a_{0, 4} + am_{0, 4}}{zref} bz dz + \\frac{1}{zref} bz Az^{5} z_{0} + \\frac{1}{zref} zrefm\\right)^{-1}\\right)\\end{matrix}\\right]\\right) & by \\left(Ay dy \\left[\\begin{matrix}\\frac{F2xCO2}{\\log{\\left(2 \\right)}} \\left(\\left(\\frac{1}{zref} bz dz\\right) \\circ \\left(\\frac{a_{0, 0} + am_{0, 0}}{zref} bz Az^{3} dz + \\frac{a_{0, 1} + am_{0, 1}}{zref} bz Az^{2} dz + \\frac{a_{0, 2} + am_{0, 2}}{zref} bz Az dz + \\frac{a_{0, 3} + am_{0, 3}}{zref} bz dz + \\frac{1}{zref} bz Az^{4} z_{0} + \\frac{1}{zref} zrefm\\right)^{-1}\\right)\\end{matrix}\\right] + dy \\left[\\begin{matrix}\\frac{F2xCO2}{\\log{\\left(2 \\right)}} \\left(\\left(\\frac{1}{zref} bz Az dz\\right) \\circ \\left(\\frac{a_{0, 0} + am_{0, 0}}{zref} bz Az^{4} dz + \\frac{a_{0, 1} + am_{0, 1}}{zref} bz Az^{3} dz + \\frac{a_{0, 2} + am_{0, 2}}{zref} bz Az^{2} dz + \\frac{a_{0, 3} + am_{0, 3}}{zref} bz Az dz + \\frac{a_{0, 4} + am_{0, 4}}{zref} bz dz + \\frac{1}{zref} bz Az^{5} z_{0} + \\frac{1}{zref} zrefm\\right)^{-1}\\right)\\end{matrix}\\right]\\right) & by dy \\left[\\begin{matrix}\\frac{F2xCO2}{\\log{\\left(2 \\right)}} \\left(\\left(\\frac{1}{zref} bz dz\\right) \\circ \\left(\\frac{a_{0, 0} + am_{0, 0}}{zref} bz Az^{4} dz + \\frac{a_{0, 1} + am_{0, 1}}{zref} bz Az^{3} dz + \\frac{a_{0, 2} + am_{0, 2}}{zref} bz Az^{2} dz + \\frac{a_{0, 3} + am_{0, 3}}{zref} bz Az dz + \\frac{a_{0, 4} + am_{0, 4}}{zref} bz dz + \\frac{1}{zref} bz Az^{5} z_{0} + \\frac{1}{zref} zrefm\\right)^{-1}\\right)\\end{matrix}\\right]\\end{matrix}\\right]$"
      ],
      "text/plain": [
       "Matrix([\n",
       "[                                                                                                                                                                                                                                                                                                                                                                                                                                                                                                                                                                                                                                                                                                                                                                                                                                                                                                                                                                                                                                                                    by*dy*Matrix([[(F2xCO2/log(2))*(HadamardProduct(1/zref*bz*dz, (((a[0, 0] + am[0, 0])/zref)*bz*dz + 1/zref*bz*Az*z0 + 1/zref*zrefm)**(-1)))]]),                                                                                                                                                                                                                                                                                                                                                                                                                                                                                                                                                                                                                                                                                                                                                                                                                                                                                                                                                                                                                                                        0,                                                                                                                                                                                                                                                                                                                                                                                                                                                                                                                                                                                                                                                                                                                                                                                                                                                     0,                                                                                                                                                                                                                                                                                                                                                                                                                                                                                                                                                                                                        0,                                                                                                                                                                                                                                                                                                                     0],\n",
       "[                                                                                                                                                                                                                                                                                                                                                                                                                                                                                                                                                                                                                                                                                                                                                                                                                                                                     by*(Ay*dy*Matrix([[(F2xCO2/log(2))*(HadamardProduct(1/zref*bz*dz, (((a[0, 0] + am[0, 0])/zref)*bz*dz + 1/zref*bz*Az*z0 + 1/zref*zrefm)**(-1)))]]) + dy*Matrix([[(F2xCO2/log(2))*(HadamardProduct(1/zref*bz*Az*dz, (((a[0, 0] + am[0, 0])/zref)*bz*Az*dz + ((a[0, 1] + am[0, 1])/zref)*bz*dz + 1/zref*bz*Az**2*z0 + 1/zref*zrefm)**(-1)))]])),                                                                                                                                                                                                                                                                                                                                                                                                                                                                                                                                                                                                                                                                                                                                                                                                                                                                  by*dy*Matrix([[(F2xCO2/log(2))*(HadamardProduct(1/zref*bz*dz, (((a[0, 0] + am[0, 0])/zref)*bz*Az*dz + ((a[0, 1] + am[0, 1])/zref)*bz*dz + 1/zref*bz*Az**2*z0 + 1/zref*zrefm)**(-1)))]]),                                                                                                                                                                                                                                                                                                                                                                                                                                                                                                                                                                                                                                                                                                                                                                                                                                                     0,                                                                                                                                                                                                                                                                                                                                                                                                                                                                                                                                                                                                        0,                                                                                                                                                                                                                                                                                                                     0],\n",
       "[                                                                                                                                                                                                                                                                                                                                                                                                                                                                                                                                                                                                                        by*(Ay**2*dy*Matrix([[(F2xCO2/log(2))*(HadamardProduct(1/zref*bz*dz, (((a[0, 0] + am[0, 0])/zref)*bz*dz + 1/zref*bz*Az*z0 + 1/zref*zrefm)**(-1)))]]) + Ay*dy*Matrix([[(F2xCO2/log(2))*(HadamardProduct(1/zref*bz*Az*dz, (((a[0, 0] + am[0, 0])/zref)*bz*Az*dz + ((a[0, 1] + am[0, 1])/zref)*bz*dz + 1/zref*bz*Az**2*z0 + 1/zref*zrefm)**(-1)))]]) + dy*Matrix([[(F2xCO2/log(2))*(HadamardProduct(1/zref*bz*Az**2*dz, (((a[0, 0] + am[0, 0])/zref)*bz*Az**2*dz + ((a[0, 1] + am[0, 1])/zref)*bz*Az*dz + ((a[0, 2] + am[0, 2])/zref)*bz*dz + 1/zref*bz*Az**3*z0 + 1/zref*zrefm)**(-1)))]])),                                                                                                                                                                                                                                                                                                                                                                                                                                                                                                                                                                                                                         by*(Ay*dy*Matrix([[(F2xCO2/log(2))*(HadamardProduct(1/zref*bz*dz, (((a[0, 0] + am[0, 0])/zref)*bz*Az*dz + ((a[0, 1] + am[0, 1])/zref)*bz*dz + 1/zref*bz*Az**2*z0 + 1/zref*zrefm)**(-1)))]]) + dy*Matrix([[(F2xCO2/log(2))*(HadamardProduct(1/zref*bz*Az*dz, (((a[0, 0] + am[0, 0])/zref)*bz*Az**2*dz + ((a[0, 1] + am[0, 1])/zref)*bz*Az*dz + ((a[0, 2] + am[0, 2])/zref)*bz*dz + 1/zref*bz*Az**3*z0 + 1/zref*zrefm)**(-1)))]])),                                                                                                                                                                                                                                                                                                                                                                                                                                                                                                                                                                                                                     by*dy*Matrix([[(F2xCO2/log(2))*(HadamardProduct(1/zref*bz*dz, (((a[0, 0] + am[0, 0])/zref)*bz*Az**2*dz + ((a[0, 1] + am[0, 1])/zref)*bz*Az*dz + ((a[0, 2] + am[0, 2])/zref)*bz*dz + 1/zref*bz*Az**3*z0 + 1/zref*zrefm)**(-1)))]]),                                                                                                                                                                                                                                                                                                                                                                                                                                                                                                                                                                                                        0,                                                                                                                                                                                                                                                                                                                     0],\n",
       "[                                                                                                                                                                                                                                                                                                                                 by*(Ay**2*dy*Matrix([[(F2xCO2/log(2))*(HadamardProduct(1/zref*bz*Az*dz, (((a[0, 0] + am[0, 0])/zref)*bz*Az*dz + ((a[0, 1] + am[0, 1])/zref)*bz*dz + 1/zref*bz*Az**2*z0 + 1/zref*zrefm)**(-1)))]]) + Ay**3*dy*Matrix([[(F2xCO2/log(2))*(HadamardProduct(1/zref*bz*dz, (((a[0, 0] + am[0, 0])/zref)*bz*dz + 1/zref*bz*Az*z0 + 1/zref*zrefm)**(-1)))]]) + Ay*dy*Matrix([[(F2xCO2/log(2))*(HadamardProduct(1/zref*bz*Az**2*dz, (((a[0, 0] + am[0, 0])/zref)*bz*Az**2*dz + ((a[0, 1] + am[0, 1])/zref)*bz*Az*dz + ((a[0, 2] + am[0, 2])/zref)*bz*dz + 1/zref*bz*Az**3*z0 + 1/zref*zrefm)**(-1)))]]) + dy*Matrix([[(F2xCO2/log(2))*(HadamardProduct(1/zref*bz*Az**3*dz, (((a[0, 0] + am[0, 0])/zref)*bz*Az**3*dz + ((a[0, 1] + am[0, 1])/zref)*bz*Az**2*dz + ((a[0, 2] + am[0, 2])/zref)*bz*Az*dz + ((a[0, 3] + am[0, 3])/zref)*bz*dz + 1/zref*bz*Az**4*z0 + 1/zref*zrefm)**(-1)))]])),                                                                                                                                                                                                                                                                                                                                  by*(Ay**2*dy*Matrix([[(F2xCO2/log(2))*(HadamardProduct(1/zref*bz*dz, (((a[0, 0] + am[0, 0])/zref)*bz*Az*dz + ((a[0, 1] + am[0, 1])/zref)*bz*dz + 1/zref*bz*Az**2*z0 + 1/zref*zrefm)**(-1)))]]) + Ay*dy*Matrix([[(F2xCO2/log(2))*(HadamardProduct(1/zref*bz*Az*dz, (((a[0, 0] + am[0, 0])/zref)*bz*Az**2*dz + ((a[0, 1] + am[0, 1])/zref)*bz*Az*dz + ((a[0, 2] + am[0, 2])/zref)*bz*dz + 1/zref*bz*Az**3*z0 + 1/zref*zrefm)**(-1)))]]) + dy*Matrix([[(F2xCO2/log(2))*(HadamardProduct(1/zref*bz*Az**2*dz, (((a[0, 0] + am[0, 0])/zref)*bz*Az**3*dz + ((a[0, 1] + am[0, 1])/zref)*bz*Az**2*dz + ((a[0, 2] + am[0, 2])/zref)*bz*Az*dz + ((a[0, 3] + am[0, 3])/zref)*bz*dz + 1/zref*bz*Az**4*z0 + 1/zref*zrefm)**(-1)))]])),                                                                                                                                                                                                                                                                                                                                  by*(Ay*dy*Matrix([[(F2xCO2/log(2))*(HadamardProduct(1/zref*bz*dz, (((a[0, 0] + am[0, 0])/zref)*bz*Az**2*dz + ((a[0, 1] + am[0, 1])/zref)*bz*Az*dz + ((a[0, 2] + am[0, 2])/zref)*bz*dz + 1/zref*bz*Az**3*z0 + 1/zref*zrefm)**(-1)))]]) + dy*Matrix([[(F2xCO2/log(2))*(HadamardProduct(1/zref*bz*Az*dz, (((a[0, 0] + am[0, 0])/zref)*bz*Az**3*dz + ((a[0, 1] + am[0, 1])/zref)*bz*Az**2*dz + ((a[0, 2] + am[0, 2])/zref)*bz*Az*dz + ((a[0, 3] + am[0, 3])/zref)*bz*dz + 1/zref*bz*Az**4*z0 + 1/zref*zrefm)**(-1)))]])),                                                                                                                                                                                                                                                                                                                              by*dy*Matrix([[(F2xCO2/log(2))*(HadamardProduct(1/zref*bz*dz, (((a[0, 0] + am[0, 0])/zref)*bz*Az**3*dz + ((a[0, 1] + am[0, 1])/zref)*bz*Az**2*dz + ((a[0, 2] + am[0, 2])/zref)*bz*Az*dz + ((a[0, 3] + am[0, 3])/zref)*bz*dz + 1/zref*bz*Az**4*z0 + 1/zref*zrefm)**(-1)))]]),                                                                                                                                                                                                                                                                                                                     0],\n",
       "[by*(Ay**2*dy*Matrix([[(F2xCO2/log(2))*(HadamardProduct(1/zref*bz*Az**2*dz, (((a[0, 0] + am[0, 0])/zref)*bz*Az**2*dz + ((a[0, 1] + am[0, 1])/zref)*bz*Az*dz + ((a[0, 2] + am[0, 2])/zref)*bz*dz + 1/zref*bz*Az**3*z0 + 1/zref*zrefm)**(-1)))]]) + Ay**3*dy*Matrix([[(F2xCO2/log(2))*(HadamardProduct(1/zref*bz*Az*dz, (((a[0, 0] + am[0, 0])/zref)*bz*Az*dz + ((a[0, 1] + am[0, 1])/zref)*bz*dz + 1/zref*bz*Az**2*z0 + 1/zref*zrefm)**(-1)))]]) + Ay**4*dy*Matrix([[(F2xCO2/log(2))*(HadamardProduct(1/zref*bz*dz, (((a[0, 0] + am[0, 0])/zref)*bz*dz + 1/zref*bz*Az*z0 + 1/zref*zrefm)**(-1)))]]) + Ay*dy*Matrix([[(F2xCO2/log(2))*(HadamardProduct(1/zref*bz*Az**3*dz, (((a[0, 0] + am[0, 0])/zref)*bz*Az**3*dz + ((a[0, 1] + am[0, 1])/zref)*bz*Az**2*dz + ((a[0, 2] + am[0, 2])/zref)*bz*Az*dz + ((a[0, 3] + am[0, 3])/zref)*bz*dz + 1/zref*bz*Az**4*z0 + 1/zref*zrefm)**(-1)))]]) + dy*Matrix([[(F2xCO2/log(2))*(HadamardProduct(1/zref*bz*Az**4*dz, (((a[0, 0] + am[0, 0])/zref)*bz*Az**4*dz + ((a[0, 1] + am[0, 1])/zref)*bz*Az**3*dz + ((a[0, 2] + am[0, 2])/zref)*bz*Az**2*dz + ((a[0, 3] + am[0, 3])/zref)*bz*Az*dz + ((a[0, 4] + am[0, 4])/zref)*bz*dz + 1/zref*bz*Az**5*z0 + 1/zref*zrefm)**(-1)))]])), by*(Ay**2*dy*Matrix([[(F2xCO2/log(2))*(HadamardProduct(1/zref*bz*Az*dz, (((a[0, 0] + am[0, 0])/zref)*bz*Az**2*dz + ((a[0, 1] + am[0, 1])/zref)*bz*Az*dz + ((a[0, 2] + am[0, 2])/zref)*bz*dz + 1/zref*bz*Az**3*z0 + 1/zref*zrefm)**(-1)))]]) + Ay**3*dy*Matrix([[(F2xCO2/log(2))*(HadamardProduct(1/zref*bz*dz, (((a[0, 0] + am[0, 0])/zref)*bz*Az*dz + ((a[0, 1] + am[0, 1])/zref)*bz*dz + 1/zref*bz*Az**2*z0 + 1/zref*zrefm)**(-1)))]]) + Ay*dy*Matrix([[(F2xCO2/log(2))*(HadamardProduct(1/zref*bz*Az**2*dz, (((a[0, 0] + am[0, 0])/zref)*bz*Az**3*dz + ((a[0, 1] + am[0, 1])/zref)*bz*Az**2*dz + ((a[0, 2] + am[0, 2])/zref)*bz*Az*dz + ((a[0, 3] + am[0, 3])/zref)*bz*dz + 1/zref*bz*Az**4*z0 + 1/zref*zrefm)**(-1)))]]) + dy*Matrix([[(F2xCO2/log(2))*(HadamardProduct(1/zref*bz*Az**3*dz, (((a[0, 0] + am[0, 0])/zref)*bz*Az**4*dz + ((a[0, 1] + am[0, 1])/zref)*bz*Az**3*dz + ((a[0, 2] + am[0, 2])/zref)*bz*Az**2*dz + ((a[0, 3] + am[0, 3])/zref)*bz*Az*dz + ((a[0, 4] + am[0, 4])/zref)*bz*dz + 1/zref*bz*Az**5*z0 + 1/zref*zrefm)**(-1)))]])), by*(Ay**2*dy*Matrix([[(F2xCO2/log(2))*(HadamardProduct(1/zref*bz*dz, (((a[0, 0] + am[0, 0])/zref)*bz*Az**2*dz + ((a[0, 1] + am[0, 1])/zref)*bz*Az*dz + ((a[0, 2] + am[0, 2])/zref)*bz*dz + 1/zref*bz*Az**3*z0 + 1/zref*zrefm)**(-1)))]]) + Ay*dy*Matrix([[(F2xCO2/log(2))*(HadamardProduct(1/zref*bz*Az*dz, (((a[0, 0] + am[0, 0])/zref)*bz*Az**3*dz + ((a[0, 1] + am[0, 1])/zref)*bz*Az**2*dz + ((a[0, 2] + am[0, 2])/zref)*bz*Az*dz + ((a[0, 3] + am[0, 3])/zref)*bz*dz + 1/zref*bz*Az**4*z0 + 1/zref*zrefm)**(-1)))]]) + dy*Matrix([[(F2xCO2/log(2))*(HadamardProduct(1/zref*bz*Az**2*dz, (((a[0, 0] + am[0, 0])/zref)*bz*Az**4*dz + ((a[0, 1] + am[0, 1])/zref)*bz*Az**3*dz + ((a[0, 2] + am[0, 2])/zref)*bz*Az**2*dz + ((a[0, 3] + am[0, 3])/zref)*bz*Az*dz + ((a[0, 4] + am[0, 4])/zref)*bz*dz + 1/zref*bz*Az**5*z0 + 1/zref*zrefm)**(-1)))]])), by*(Ay*dy*Matrix([[(F2xCO2/log(2))*(HadamardProduct(1/zref*bz*dz, (((a[0, 0] + am[0, 0])/zref)*bz*Az**3*dz + ((a[0, 1] + am[0, 1])/zref)*bz*Az**2*dz + ((a[0, 2] + am[0, 2])/zref)*bz*Az*dz + ((a[0, 3] + am[0, 3])/zref)*bz*dz + 1/zref*bz*Az**4*z0 + 1/zref*zrefm)**(-1)))]]) + dy*Matrix([[(F2xCO2/log(2))*(HadamardProduct(1/zref*bz*Az*dz, (((a[0, 0] + am[0, 0])/zref)*bz*Az**4*dz + ((a[0, 1] + am[0, 1])/zref)*bz*Az**3*dz + ((a[0, 2] + am[0, 2])/zref)*bz*Az**2*dz + ((a[0, 3] + am[0, 3])/zref)*bz*Az*dz + ((a[0, 4] + am[0, 4])/zref)*bz*dz + 1/zref*bz*Az**5*z0 + 1/zref*zrefm)**(-1)))]])), by*dy*Matrix([[(F2xCO2/log(2))*(HadamardProduct(1/zref*bz*dz, (((a[0, 0] + am[0, 0])/zref)*bz*Az**4*dz + ((a[0, 1] + am[0, 1])/zref)*bz*Az**3*dz + ((a[0, 2] + am[0, 2])/zref)*bz*Az**2*dz + ((a[0, 3] + am[0, 3])/zref)*bz*Az*dz + ((a[0, 4] + am[0, 4])/zref)*bz*dz + 1/zref*bz*Az**5*z0 + 1/zref*zrefm)**(-1)))]])]])"
      ]
     },
     "execution_count": 39,
     "metadata": {},
     "output_type": "execute_result"
    }
   ],
   "source": [
    "jac_"
   ]
  },
  {
   "cell_type": "code",
   "execution_count": 35,
   "metadata": {},
   "outputs": [
    {
     "data": {
      "text/latex": [
       "$\\displaystyle \\left[\\begin{matrix}by dy \\left[\\begin{matrix}\\frac{F2xCO2}{\\log{\\left(2 \\right)}} \\left(\\left(\\frac{1}{zref} bz dz\\right) \\circ \\left(\\frac{a_{0, 0} + am_{0, 0}}{zref} bz dz + \\frac{1}{zref} bz Az z_{0} + \\frac{1}{zref} zrefm\\right)^{-1}\\right)\\end{matrix}\\right] & 0 & 0 & 0 & 0\\\\by \\left(Ay dy \\left[\\begin{matrix}\\frac{F2xCO2}{\\log{\\left(2 \\right)}} \\left(\\left(\\frac{1}{zref} bz dz\\right) \\circ \\left(\\frac{a_{0, 0} + am_{0, 0}}{zref} bz dz + \\frac{1}{zref} bz Az z_{0} + \\frac{1}{zref} zrefm\\right)^{-1}\\right)\\end{matrix}\\right] + dy \\left[\\begin{matrix}\\frac{F2xCO2}{\\log{\\left(2 \\right)}} \\left(\\left(\\frac{1}{zref} bz Az dz\\right) \\circ \\left(\\frac{a_{0, 0} + am_{0, 0}}{zref} bz Az dz + \\frac{a_{0, 1} + am_{0, 1}}{zref} bz dz + \\frac{1}{zref} bz Az^{2} z_{0} + \\frac{1}{zref} zrefm\\right)^{-1}\\right)\\end{matrix}\\right]\\right) & by dy \\left[\\begin{matrix}\\frac{F2xCO2}{\\log{\\left(2 \\right)}} \\left(\\left(\\frac{1}{zref} bz dz\\right) \\circ \\left(\\frac{a_{0, 0} + am_{0, 0}}{zref} bz Az dz + \\frac{a_{0, 1} + am_{0, 1}}{zref} bz dz + \\frac{1}{zref} bz Az^{2} z_{0} + \\frac{1}{zref} zrefm\\right)^{-1}\\right)\\end{matrix}\\right] & 0 & 0 & 0\\\\by \\left(Ay^{2} dy \\left[\\begin{matrix}\\frac{F2xCO2}{\\log{\\left(2 \\right)}} \\left(\\left(\\frac{1}{zref} bz dz\\right) \\circ \\left(\\frac{a_{0, 0} + am_{0, 0}}{zref} bz dz + \\frac{1}{zref} bz Az z_{0} + \\frac{1}{zref} zrefm\\right)^{-1}\\right)\\end{matrix}\\right] + Ay dy \\left[\\begin{matrix}\\frac{F2xCO2}{\\log{\\left(2 \\right)}} \\left(\\left(\\frac{1}{zref} bz Az dz\\right) \\circ \\left(\\frac{a_{0, 0} + am_{0, 0}}{zref} bz Az dz + \\frac{a_{0, 1} + am_{0, 1}}{zref} bz dz + \\frac{1}{zref} bz Az^{2} z_{0} + \\frac{1}{zref} zrefm\\right)^{-1}\\right)\\end{matrix}\\right] + dy \\left[\\begin{matrix}\\frac{F2xCO2}{\\log{\\left(2 \\right)}} \\left(\\left(\\frac{1}{zref} bz Az^{2} dz\\right) \\circ \\left(\\frac{a_{0, 0} + am_{0, 0}}{zref} bz Az^{2} dz + \\frac{a_{0, 1} + am_{0, 1}}{zref} bz Az dz + \\frac{a_{0, 2} + am_{0, 2}}{zref} bz dz + \\frac{1}{zref} bz Az^{3} z_{0} + \\frac{1}{zref} zrefm\\right)^{-1}\\right)\\end{matrix}\\right]\\right) & by \\left(Ay dy \\left[\\begin{matrix}\\frac{F2xCO2}{\\log{\\left(2 \\right)}} \\left(\\left(\\frac{1}{zref} bz dz\\right) \\circ \\left(\\frac{a_{0, 0} + am_{0, 0}}{zref} bz Az dz + \\frac{a_{0, 1} + am_{0, 1}}{zref} bz dz + \\frac{1}{zref} bz Az^{2} z_{0} + \\frac{1}{zref} zrefm\\right)^{-1}\\right)\\end{matrix}\\right] + dy \\left[\\begin{matrix}\\frac{F2xCO2}{\\log{\\left(2 \\right)}} \\left(\\left(\\frac{1}{zref} bz Az dz\\right) \\circ \\left(\\frac{a_{0, 0} + am_{0, 0}}{zref} bz Az^{2} dz + \\frac{a_{0, 1} + am_{0, 1}}{zref} bz Az dz + \\frac{a_{0, 2} + am_{0, 2}}{zref} bz dz + \\frac{1}{zref} bz Az^{3} z_{0} + \\frac{1}{zref} zrefm\\right)^{-1}\\right)\\end{matrix}\\right]\\right) & by dy \\left[\\begin{matrix}\\frac{F2xCO2}{\\log{\\left(2 \\right)}} \\left(\\left(\\frac{1}{zref} bz dz\\right) \\circ \\left(\\frac{a_{0, 0} + am_{0, 0}}{zref} bz Az^{2} dz + \\frac{a_{0, 1} + am_{0, 1}}{zref} bz Az dz + \\frac{a_{0, 2} + am_{0, 2}}{zref} bz dz + \\frac{1}{zref} bz Az^{3} z_{0} + \\frac{1}{zref} zrefm\\right)^{-1}\\right)\\end{matrix}\\right] & 0 & 0\\\\by \\left(Ay^{2} dy \\left[\\begin{matrix}\\frac{F2xCO2}{\\log{\\left(2 \\right)}} \\left(\\left(\\frac{1}{zref} bz Az dz\\right) \\circ \\left(\\frac{a_{0, 0} + am_{0, 0}}{zref} bz Az dz + \\frac{a_{0, 1} + am_{0, 1}}{zref} bz dz + \\frac{1}{zref} bz Az^{2} z_{0} + \\frac{1}{zref} zrefm\\right)^{-1}\\right)\\end{matrix}\\right] + Ay^{3} dy \\left[\\begin{matrix}\\frac{F2xCO2}{\\log{\\left(2 \\right)}} \\left(\\left(\\frac{1}{zref} bz dz\\right) \\circ \\left(\\frac{a_{0, 0} + am_{0, 0}}{zref} bz dz + \\frac{1}{zref} bz Az z_{0} + \\frac{1}{zref} zrefm\\right)^{-1}\\right)\\end{matrix}\\right] + Ay dy \\left[\\begin{matrix}\\frac{F2xCO2}{\\log{\\left(2 \\right)}} \\left(\\left(\\frac{1}{zref} bz Az^{2} dz\\right) \\circ \\left(\\frac{a_{0, 0} + am_{0, 0}}{zref} bz Az^{2} dz + \\frac{a_{0, 1} + am_{0, 1}}{zref} bz Az dz + \\frac{a_{0, 2} + am_{0, 2}}{zref} bz dz + \\frac{1}{zref} bz Az^{3} z_{0} + \\frac{1}{zref} zrefm\\right)^{-1}\\right)\\end{matrix}\\right] + dy \\left[\\begin{matrix}\\frac{F2xCO2}{\\log{\\left(2 \\right)}} \\left(\\left(\\frac{1}{zref} bz Az^{3} dz\\right) \\circ \\left(\\frac{a_{0, 0} + am_{0, 0}}{zref} bz Az^{3} dz + \\frac{a_{0, 1} + am_{0, 1}}{zref} bz Az^{2} dz + \\frac{a_{0, 2} + am_{0, 2}}{zref} bz Az dz + \\frac{a_{0, 3} + am_{0, 3}}{zref} bz dz + \\frac{1}{zref} bz Az^{4} z_{0} + \\frac{1}{zref} zrefm\\right)^{-1}\\right)\\end{matrix}\\right]\\right) & by \\left(Ay^{2} dy \\left[\\begin{matrix}\\frac{F2xCO2}{\\log{\\left(2 \\right)}} \\left(\\left(\\frac{1}{zref} bz dz\\right) \\circ \\left(\\frac{a_{0, 0} + am_{0, 0}}{zref} bz Az dz + \\frac{a_{0, 1} + am_{0, 1}}{zref} bz dz + \\frac{1}{zref} bz Az^{2} z_{0} + \\frac{1}{zref} zrefm\\right)^{-1}\\right)\\end{matrix}\\right] + Ay dy \\left[\\begin{matrix}\\frac{F2xCO2}{\\log{\\left(2 \\right)}} \\left(\\left(\\frac{1}{zref} bz Az dz\\right) \\circ \\left(\\frac{a_{0, 0} + am_{0, 0}}{zref} bz Az^{2} dz + \\frac{a_{0, 1} + am_{0, 1}}{zref} bz Az dz + \\frac{a_{0, 2} + am_{0, 2}}{zref} bz dz + \\frac{1}{zref} bz Az^{3} z_{0} + \\frac{1}{zref} zrefm\\right)^{-1}\\right)\\end{matrix}\\right] + dy \\left[\\begin{matrix}\\frac{F2xCO2}{\\log{\\left(2 \\right)}} \\left(\\left(\\frac{1}{zref} bz Az^{2} dz\\right) \\circ \\left(\\frac{a_{0, 0} + am_{0, 0}}{zref} bz Az^{3} dz + \\frac{a_{0, 1} + am_{0, 1}}{zref} bz Az^{2} dz + \\frac{a_{0, 2} + am_{0, 2}}{zref} bz Az dz + \\frac{a_{0, 3} + am_{0, 3}}{zref} bz dz + \\frac{1}{zref} bz Az^{4} z_{0} + \\frac{1}{zref} zrefm\\right)^{-1}\\right)\\end{matrix}\\right]\\right) & by \\left(Ay dy \\left[\\begin{matrix}\\frac{F2xCO2}{\\log{\\left(2 \\right)}} \\left(\\left(\\frac{1}{zref} bz dz\\right) \\circ \\left(\\frac{a_{0, 0} + am_{0, 0}}{zref} bz Az^{2} dz + \\frac{a_{0, 1} + am_{0, 1}}{zref} bz Az dz + \\frac{a_{0, 2} + am_{0, 2}}{zref} bz dz + \\frac{1}{zref} bz Az^{3} z_{0} + \\frac{1}{zref} zrefm\\right)^{-1}\\right)\\end{matrix}\\right] + dy \\left[\\begin{matrix}\\frac{F2xCO2}{\\log{\\left(2 \\right)}} \\left(\\left(\\frac{1}{zref} bz Az dz\\right) \\circ \\left(\\frac{a_{0, 0} + am_{0, 0}}{zref} bz Az^{3} dz + \\frac{a_{0, 1} + am_{0, 1}}{zref} bz Az^{2} dz + \\frac{a_{0, 2} + am_{0, 2}}{zref} bz Az dz + \\frac{a_{0, 3} + am_{0, 3}}{zref} bz dz + \\frac{1}{zref} bz Az^{4} z_{0} + \\frac{1}{zref} zrefm\\right)^{-1}\\right)\\end{matrix}\\right]\\right) & by dy \\left[\\begin{matrix}\\frac{F2xCO2}{\\log{\\left(2 \\right)}} \\left(\\left(\\frac{1}{zref} bz dz\\right) \\circ \\left(\\frac{a_{0, 0} + am_{0, 0}}{zref} bz Az^{3} dz + \\frac{a_{0, 1} + am_{0, 1}}{zref} bz Az^{2} dz + \\frac{a_{0, 2} + am_{0, 2}}{zref} bz Az dz + \\frac{a_{0, 3} + am_{0, 3}}{zref} bz dz + \\frac{1}{zref} bz Az^{4} z_{0} + \\frac{1}{zref} zrefm\\right)^{-1}\\right)\\end{matrix}\\right] & 0\\\\by \\left(Ay^{2} dy \\left[\\begin{matrix}\\frac{F2xCO2}{\\log{\\left(2 \\right)}} \\left(\\left(\\frac{1}{zref} bz Az^{2} dz\\right) \\circ \\left(\\frac{a_{0, 0} + am_{0, 0}}{zref} bz Az^{2} dz + \\frac{a_{0, 1} + am_{0, 1}}{zref} bz Az dz + \\frac{a_{0, 2} + am_{0, 2}}{zref} bz dz + \\frac{1}{zref} bz Az^{3} z_{0} + \\frac{1}{zref} zrefm\\right)^{-1}\\right)\\end{matrix}\\right] + Ay^{3} dy \\left[\\begin{matrix}\\frac{F2xCO2}{\\log{\\left(2 \\right)}} \\left(\\left(\\frac{1}{zref} bz Az dz\\right) \\circ \\left(\\frac{a_{0, 0} + am_{0, 0}}{zref} bz Az dz + \\frac{a_{0, 1} + am_{0, 1}}{zref} bz dz + \\frac{1}{zref} bz Az^{2} z_{0} + \\frac{1}{zref} zrefm\\right)^{-1}\\right)\\end{matrix}\\right] + Ay^{4} dy \\left[\\begin{matrix}\\frac{F2xCO2}{\\log{\\left(2 \\right)}} \\left(\\left(\\frac{1}{zref} bz dz\\right) \\circ \\left(\\frac{a_{0, 0} + am_{0, 0}}{zref} bz dz + \\frac{1}{zref} bz Az z_{0} + \\frac{1}{zref} zrefm\\right)^{-1}\\right)\\end{matrix}\\right] + Ay dy \\left[\\begin{matrix}\\frac{F2xCO2}{\\log{\\left(2 \\right)}} \\left(\\left(\\frac{1}{zref} bz Az^{3} dz\\right) \\circ \\left(\\frac{a_{0, 0} + am_{0, 0}}{zref} bz Az^{3} dz + \\frac{a_{0, 1} + am_{0, 1}}{zref} bz Az^{2} dz + \\frac{a_{0, 2} + am_{0, 2}}{zref} bz Az dz + \\frac{a_{0, 3} + am_{0, 3}}{zref} bz dz + \\frac{1}{zref} bz Az^{4} z_{0} + \\frac{1}{zref} zrefm\\right)^{-1}\\right)\\end{matrix}\\right] + dy \\left[\\begin{matrix}\\frac{F2xCO2}{\\log{\\left(2 \\right)}} \\left(\\left(\\frac{1}{zref} bz Az^{4} dz\\right) \\circ \\left(\\frac{a_{0, 0} + am_{0, 0}}{zref} bz Az^{4} dz + \\frac{a_{0, 1} + am_{0, 1}}{zref} bz Az^{3} dz + \\frac{a_{0, 2} + am_{0, 2}}{zref} bz Az^{2} dz + \\frac{a_{0, 3} + am_{0, 3}}{zref} bz Az dz + \\frac{a_{0, 4} + am_{0, 4}}{zref} bz dz + \\frac{1}{zref} bz Az^{5} z_{0} + \\frac{1}{zref} zrefm\\right)^{-1}\\right)\\end{matrix}\\right]\\right) & by \\left(Ay^{2} dy \\left[\\begin{matrix}\\frac{F2xCO2}{\\log{\\left(2 \\right)}} \\left(\\left(\\frac{1}{zref} bz Az dz\\right) \\circ \\left(\\frac{a_{0, 0} + am_{0, 0}}{zref} bz Az^{2} dz + \\frac{a_{0, 1} + am_{0, 1}}{zref} bz Az dz + \\frac{a_{0, 2} + am_{0, 2}}{zref} bz dz + \\frac{1}{zref} bz Az^{3} z_{0} + \\frac{1}{zref} zrefm\\right)^{-1}\\right)\\end{matrix}\\right] + Ay^{3} dy \\left[\\begin{matrix}\\frac{F2xCO2}{\\log{\\left(2 \\right)}} \\left(\\left(\\frac{1}{zref} bz dz\\right) \\circ \\left(\\frac{a_{0, 0} + am_{0, 0}}{zref} bz Az dz + \\frac{a_{0, 1} + am_{0, 1}}{zref} bz dz + \\frac{1}{zref} bz Az^{2} z_{0} + \\frac{1}{zref} zrefm\\right)^{-1}\\right)\\end{matrix}\\right] + Ay dy \\left[\\begin{matrix}\\frac{F2xCO2}{\\log{\\left(2 \\right)}} \\left(\\left(\\frac{1}{zref} bz Az^{2} dz\\right) \\circ \\left(\\frac{a_{0, 0} + am_{0, 0}}{zref} bz Az^{3} dz + \\frac{a_{0, 1} + am_{0, 1}}{zref} bz Az^{2} dz + \\frac{a_{0, 2} + am_{0, 2}}{zref} bz Az dz + \\frac{a_{0, 3} + am_{0, 3}}{zref} bz dz + \\frac{1}{zref} bz Az^{4} z_{0} + \\frac{1}{zref} zrefm\\right)^{-1}\\right)\\end{matrix}\\right] + dy \\left[\\begin{matrix}\\frac{F2xCO2}{\\log{\\left(2 \\right)}} \\left(\\left(\\frac{1}{zref} bz Az^{3} dz\\right) \\circ \\left(\\frac{a_{0, 0} + am_{0, 0}}{zref} bz Az^{4} dz + \\frac{a_{0, 1} + am_{0, 1}}{zref} bz Az^{3} dz + \\frac{a_{0, 2} + am_{0, 2}}{zref} bz Az^{2} dz + \\frac{a_{0, 3} + am_{0, 3}}{zref} bz Az dz + \\frac{a_{0, 4} + am_{0, 4}}{zref} bz dz + \\frac{1}{zref} bz Az^{5} z_{0} + \\frac{1}{zref} zrefm\\right)^{-1}\\right)\\end{matrix}\\right]\\right) & by \\left(Ay^{2} dy \\left[\\begin{matrix}\\frac{F2xCO2}{\\log{\\left(2 \\right)}} \\left(\\left(\\frac{1}{zref} bz dz\\right) \\circ \\left(\\frac{a_{0, 0} + am_{0, 0}}{zref} bz Az^{2} dz + \\frac{a_{0, 1} + am_{0, 1}}{zref} bz Az dz + \\frac{a_{0, 2} + am_{0, 2}}{zref} bz dz + \\frac{1}{zref} bz Az^{3} z_{0} + \\frac{1}{zref} zrefm\\right)^{-1}\\right)\\end{matrix}\\right] + Ay dy \\left[\\begin{matrix}\\frac{F2xCO2}{\\log{\\left(2 \\right)}} \\left(\\left(\\frac{1}{zref} bz Az dz\\right) \\circ \\left(\\frac{a_{0, 0} + am_{0, 0}}{zref} bz Az^{3} dz + \\frac{a_{0, 1} + am_{0, 1}}{zref} bz Az^{2} dz + \\frac{a_{0, 2} + am_{0, 2}}{zref} bz Az dz + \\frac{a_{0, 3} + am_{0, 3}}{zref} bz dz + \\frac{1}{zref} bz Az^{4} z_{0} + \\frac{1}{zref} zrefm\\right)^{-1}\\right)\\end{matrix}\\right] + dy \\left[\\begin{matrix}\\frac{F2xCO2}{\\log{\\left(2 \\right)}} \\left(\\left(\\frac{1}{zref} bz Az^{2} dz\\right) \\circ \\left(\\frac{a_{0, 0} + am_{0, 0}}{zref} bz Az^{4} dz + \\frac{a_{0, 1} + am_{0, 1}}{zref} bz Az^{3} dz + \\frac{a_{0, 2} + am_{0, 2}}{zref} bz Az^{2} dz + \\frac{a_{0, 3} + am_{0, 3}}{zref} bz Az dz + \\frac{a_{0, 4} + am_{0, 4}}{zref} bz dz + \\frac{1}{zref} bz Az^{5} z_{0} + \\frac{1}{zref} zrefm\\right)^{-1}\\right)\\end{matrix}\\right]\\right) & by \\left(Ay dy \\left[\\begin{matrix}\\frac{F2xCO2}{\\log{\\left(2 \\right)}} \\left(\\left(\\frac{1}{zref} bz dz\\right) \\circ \\left(\\frac{a_{0, 0} + am_{0, 0}}{zref} bz Az^{3} dz + \\frac{a_{0, 1} + am_{0, 1}}{zref} bz Az^{2} dz + \\frac{a_{0, 2} + am_{0, 2}}{zref} bz Az dz + \\frac{a_{0, 3} + am_{0, 3}}{zref} bz dz + \\frac{1}{zref} bz Az^{4} z_{0} + \\frac{1}{zref} zrefm\\right)^{-1}\\right)\\end{matrix}\\right] + dy \\left[\\begin{matrix}\\frac{F2xCO2}{\\log{\\left(2 \\right)}} \\left(\\left(\\frac{1}{zref} bz Az dz\\right) \\circ \\left(\\frac{a_{0, 0} + am_{0, 0}}{zref} bz Az^{4} dz + \\frac{a_{0, 1} + am_{0, 1}}{zref} bz Az^{3} dz + \\frac{a_{0, 2} + am_{0, 2}}{zref} bz Az^{2} dz + \\frac{a_{0, 3} + am_{0, 3}}{zref} bz Az dz + \\frac{a_{0, 4} + am_{0, 4}}{zref} bz dz + \\frac{1}{zref} bz Az^{5} z_{0} + \\frac{1}{zref} zrefm\\right)^{-1}\\right)\\end{matrix}\\right]\\right) & by dy \\left[\\begin{matrix}\\frac{F2xCO2}{\\log{\\left(2 \\right)}} \\left(\\left(\\frac{1}{zref} bz dz\\right) \\circ \\left(\\frac{a_{0, 0} + am_{0, 0}}{zref} bz Az^{4} dz + \\frac{a_{0, 1} + am_{0, 1}}{zref} bz Az^{3} dz + \\frac{a_{0, 2} + am_{0, 2}}{zref} bz Az^{2} dz + \\frac{a_{0, 3} + am_{0, 3}}{zref} bz Az dz + \\frac{a_{0, 4} + am_{0, 4}}{zref} bz dz + \\frac{1}{zref} bz Az^{5} z_{0} + \\frac{1}{zref} zrefm\\right)^{-1}\\right)\\end{matrix}\\right]\\end{matrix}\\right]$"
      ],
      "text/plain": [
       "Matrix([\n",
       "[                                                                                                                                                                                                                                                                                                                                                                                                                                                                                                                                                                                                                                                                                                                                                                                                                                                                                                                                                                                                                                                                    by*dy*Matrix([[(F2xCO2/log(2))*(HadamardProduct(1/zref*bz*dz, (((a[0, 0] + am[0, 0])/zref)*bz*dz + 1/zref*bz*Az*z0 + 1/zref*zrefm)**(-1)))]]),                                                                                                                                                                                                                                                                                                                                                                                                                                                                                                                                                                                                                                                                                                                                                                                                                                                                                                                                                                                                                                                        0,                                                                                                                                                                                                                                                                                                                                                                                                                                                                                                                                                                                                                                                                                                                                                                                                                                                     0,                                                                                                                                                                                                                                                                                                                                                                                                                                                                                                                                                                                                        0,                                                                                                                                                                                                                                                                                                                     0],\n",
       "[                                                                                                                                                                                                                                                                                                                                                                                                                                                                                                                                                                                                                                                                                                                                                                                                                                                                     by*(Ay*dy*Matrix([[(F2xCO2/log(2))*(HadamardProduct(1/zref*bz*dz, (((a[0, 0] + am[0, 0])/zref)*bz*dz + 1/zref*bz*Az*z0 + 1/zref*zrefm)**(-1)))]]) + dy*Matrix([[(F2xCO2/log(2))*(HadamardProduct(1/zref*bz*Az*dz, (((a[0, 0] + am[0, 0])/zref)*bz*Az*dz + ((a[0, 1] + am[0, 1])/zref)*bz*dz + 1/zref*bz*Az**2*z0 + 1/zref*zrefm)**(-1)))]])),                                                                                                                                                                                                                                                                                                                                                                                                                                                                                                                                                                                                                                                                                                                                                                                                                                                                  by*dy*Matrix([[(F2xCO2/log(2))*(HadamardProduct(1/zref*bz*dz, (((a[0, 0] + am[0, 0])/zref)*bz*Az*dz + ((a[0, 1] + am[0, 1])/zref)*bz*dz + 1/zref*bz*Az**2*z0 + 1/zref*zrefm)**(-1)))]]),                                                                                                                                                                                                                                                                                                                                                                                                                                                                                                                                                                                                                                                                                                                                                                                                                                                     0,                                                                                                                                                                                                                                                                                                                                                                                                                                                                                                                                                                                                        0,                                                                                                                                                                                                                                                                                                                     0],\n",
       "[                                                                                                                                                                                                                                                                                                                                                                                                                                                                                                                                                                                                                        by*(Ay**2*dy*Matrix([[(F2xCO2/log(2))*(HadamardProduct(1/zref*bz*dz, (((a[0, 0] + am[0, 0])/zref)*bz*dz + 1/zref*bz*Az*z0 + 1/zref*zrefm)**(-1)))]]) + Ay*dy*Matrix([[(F2xCO2/log(2))*(HadamardProduct(1/zref*bz*Az*dz, (((a[0, 0] + am[0, 0])/zref)*bz*Az*dz + ((a[0, 1] + am[0, 1])/zref)*bz*dz + 1/zref*bz*Az**2*z0 + 1/zref*zrefm)**(-1)))]]) + dy*Matrix([[(F2xCO2/log(2))*(HadamardProduct(1/zref*bz*Az**2*dz, (((a[0, 0] + am[0, 0])/zref)*bz*Az**2*dz + ((a[0, 1] + am[0, 1])/zref)*bz*Az*dz + ((a[0, 2] + am[0, 2])/zref)*bz*dz + 1/zref*bz*Az**3*z0 + 1/zref*zrefm)**(-1)))]])),                                                                                                                                                                                                                                                                                                                                                                                                                                                                                                                                                                                                                         by*(Ay*dy*Matrix([[(F2xCO2/log(2))*(HadamardProduct(1/zref*bz*dz, (((a[0, 0] + am[0, 0])/zref)*bz*Az*dz + ((a[0, 1] + am[0, 1])/zref)*bz*dz + 1/zref*bz*Az**2*z0 + 1/zref*zrefm)**(-1)))]]) + dy*Matrix([[(F2xCO2/log(2))*(HadamardProduct(1/zref*bz*Az*dz, (((a[0, 0] + am[0, 0])/zref)*bz*Az**2*dz + ((a[0, 1] + am[0, 1])/zref)*bz*Az*dz + ((a[0, 2] + am[0, 2])/zref)*bz*dz + 1/zref*bz*Az**3*z0 + 1/zref*zrefm)**(-1)))]])),                                                                                                                                                                                                                                                                                                                                                                                                                                                                                                                                                                                                                     by*dy*Matrix([[(F2xCO2/log(2))*(HadamardProduct(1/zref*bz*dz, (((a[0, 0] + am[0, 0])/zref)*bz*Az**2*dz + ((a[0, 1] + am[0, 1])/zref)*bz*Az*dz + ((a[0, 2] + am[0, 2])/zref)*bz*dz + 1/zref*bz*Az**3*z0 + 1/zref*zrefm)**(-1)))]]),                                                                                                                                                                                                                                                                                                                                                                                                                                                                                                                                                                                                        0,                                                                                                                                                                                                                                                                                                                     0],\n",
       "[                                                                                                                                                                                                                                                                                                                                 by*(Ay**2*dy*Matrix([[(F2xCO2/log(2))*(HadamardProduct(1/zref*bz*Az*dz, (((a[0, 0] + am[0, 0])/zref)*bz*Az*dz + ((a[0, 1] + am[0, 1])/zref)*bz*dz + 1/zref*bz*Az**2*z0 + 1/zref*zrefm)**(-1)))]]) + Ay**3*dy*Matrix([[(F2xCO2/log(2))*(HadamardProduct(1/zref*bz*dz, (((a[0, 0] + am[0, 0])/zref)*bz*dz + 1/zref*bz*Az*z0 + 1/zref*zrefm)**(-1)))]]) + Ay*dy*Matrix([[(F2xCO2/log(2))*(HadamardProduct(1/zref*bz*Az**2*dz, (((a[0, 0] + am[0, 0])/zref)*bz*Az**2*dz + ((a[0, 1] + am[0, 1])/zref)*bz*Az*dz + ((a[0, 2] + am[0, 2])/zref)*bz*dz + 1/zref*bz*Az**3*z0 + 1/zref*zrefm)**(-1)))]]) + dy*Matrix([[(F2xCO2/log(2))*(HadamardProduct(1/zref*bz*Az**3*dz, (((a[0, 0] + am[0, 0])/zref)*bz*Az**3*dz + ((a[0, 1] + am[0, 1])/zref)*bz*Az**2*dz + ((a[0, 2] + am[0, 2])/zref)*bz*Az*dz + ((a[0, 3] + am[0, 3])/zref)*bz*dz + 1/zref*bz*Az**4*z0 + 1/zref*zrefm)**(-1)))]])),                                                                                                                                                                                                                                                                                                                                  by*(Ay**2*dy*Matrix([[(F2xCO2/log(2))*(HadamardProduct(1/zref*bz*dz, (((a[0, 0] + am[0, 0])/zref)*bz*Az*dz + ((a[0, 1] + am[0, 1])/zref)*bz*dz + 1/zref*bz*Az**2*z0 + 1/zref*zrefm)**(-1)))]]) + Ay*dy*Matrix([[(F2xCO2/log(2))*(HadamardProduct(1/zref*bz*Az*dz, (((a[0, 0] + am[0, 0])/zref)*bz*Az**2*dz + ((a[0, 1] + am[0, 1])/zref)*bz*Az*dz + ((a[0, 2] + am[0, 2])/zref)*bz*dz + 1/zref*bz*Az**3*z0 + 1/zref*zrefm)**(-1)))]]) + dy*Matrix([[(F2xCO2/log(2))*(HadamardProduct(1/zref*bz*Az**2*dz, (((a[0, 0] + am[0, 0])/zref)*bz*Az**3*dz + ((a[0, 1] + am[0, 1])/zref)*bz*Az**2*dz + ((a[0, 2] + am[0, 2])/zref)*bz*Az*dz + ((a[0, 3] + am[0, 3])/zref)*bz*dz + 1/zref*bz*Az**4*z0 + 1/zref*zrefm)**(-1)))]])),                                                                                                                                                                                                                                                                                                                                  by*(Ay*dy*Matrix([[(F2xCO2/log(2))*(HadamardProduct(1/zref*bz*dz, (((a[0, 0] + am[0, 0])/zref)*bz*Az**2*dz + ((a[0, 1] + am[0, 1])/zref)*bz*Az*dz + ((a[0, 2] + am[0, 2])/zref)*bz*dz + 1/zref*bz*Az**3*z0 + 1/zref*zrefm)**(-1)))]]) + dy*Matrix([[(F2xCO2/log(2))*(HadamardProduct(1/zref*bz*Az*dz, (((a[0, 0] + am[0, 0])/zref)*bz*Az**3*dz + ((a[0, 1] + am[0, 1])/zref)*bz*Az**2*dz + ((a[0, 2] + am[0, 2])/zref)*bz*Az*dz + ((a[0, 3] + am[0, 3])/zref)*bz*dz + 1/zref*bz*Az**4*z0 + 1/zref*zrefm)**(-1)))]])),                                                                                                                                                                                                                                                                                                                              by*dy*Matrix([[(F2xCO2/log(2))*(HadamardProduct(1/zref*bz*dz, (((a[0, 0] + am[0, 0])/zref)*bz*Az**3*dz + ((a[0, 1] + am[0, 1])/zref)*bz*Az**2*dz + ((a[0, 2] + am[0, 2])/zref)*bz*Az*dz + ((a[0, 3] + am[0, 3])/zref)*bz*dz + 1/zref*bz*Az**4*z0 + 1/zref*zrefm)**(-1)))]]),                                                                                                                                                                                                                                                                                                                     0],\n",
       "[by*(Ay**2*dy*Matrix([[(F2xCO2/log(2))*(HadamardProduct(1/zref*bz*Az**2*dz, (((a[0, 0] + am[0, 0])/zref)*bz*Az**2*dz + ((a[0, 1] + am[0, 1])/zref)*bz*Az*dz + ((a[0, 2] + am[0, 2])/zref)*bz*dz + 1/zref*bz*Az**3*z0 + 1/zref*zrefm)**(-1)))]]) + Ay**3*dy*Matrix([[(F2xCO2/log(2))*(HadamardProduct(1/zref*bz*Az*dz, (((a[0, 0] + am[0, 0])/zref)*bz*Az*dz + ((a[0, 1] + am[0, 1])/zref)*bz*dz + 1/zref*bz*Az**2*z0 + 1/zref*zrefm)**(-1)))]]) + Ay**4*dy*Matrix([[(F2xCO2/log(2))*(HadamardProduct(1/zref*bz*dz, (((a[0, 0] + am[0, 0])/zref)*bz*dz + 1/zref*bz*Az*z0 + 1/zref*zrefm)**(-1)))]]) + Ay*dy*Matrix([[(F2xCO2/log(2))*(HadamardProduct(1/zref*bz*Az**3*dz, (((a[0, 0] + am[0, 0])/zref)*bz*Az**3*dz + ((a[0, 1] + am[0, 1])/zref)*bz*Az**2*dz + ((a[0, 2] + am[0, 2])/zref)*bz*Az*dz + ((a[0, 3] + am[0, 3])/zref)*bz*dz + 1/zref*bz*Az**4*z0 + 1/zref*zrefm)**(-1)))]]) + dy*Matrix([[(F2xCO2/log(2))*(HadamardProduct(1/zref*bz*Az**4*dz, (((a[0, 0] + am[0, 0])/zref)*bz*Az**4*dz + ((a[0, 1] + am[0, 1])/zref)*bz*Az**3*dz + ((a[0, 2] + am[0, 2])/zref)*bz*Az**2*dz + ((a[0, 3] + am[0, 3])/zref)*bz*Az*dz + ((a[0, 4] + am[0, 4])/zref)*bz*dz + 1/zref*bz*Az**5*z0 + 1/zref*zrefm)**(-1)))]])), by*(Ay**2*dy*Matrix([[(F2xCO2/log(2))*(HadamardProduct(1/zref*bz*Az*dz, (((a[0, 0] + am[0, 0])/zref)*bz*Az**2*dz + ((a[0, 1] + am[0, 1])/zref)*bz*Az*dz + ((a[0, 2] + am[0, 2])/zref)*bz*dz + 1/zref*bz*Az**3*z0 + 1/zref*zrefm)**(-1)))]]) + Ay**3*dy*Matrix([[(F2xCO2/log(2))*(HadamardProduct(1/zref*bz*dz, (((a[0, 0] + am[0, 0])/zref)*bz*Az*dz + ((a[0, 1] + am[0, 1])/zref)*bz*dz + 1/zref*bz*Az**2*z0 + 1/zref*zrefm)**(-1)))]]) + Ay*dy*Matrix([[(F2xCO2/log(2))*(HadamardProduct(1/zref*bz*Az**2*dz, (((a[0, 0] + am[0, 0])/zref)*bz*Az**3*dz + ((a[0, 1] + am[0, 1])/zref)*bz*Az**2*dz + ((a[0, 2] + am[0, 2])/zref)*bz*Az*dz + ((a[0, 3] + am[0, 3])/zref)*bz*dz + 1/zref*bz*Az**4*z0 + 1/zref*zrefm)**(-1)))]]) + dy*Matrix([[(F2xCO2/log(2))*(HadamardProduct(1/zref*bz*Az**3*dz, (((a[0, 0] + am[0, 0])/zref)*bz*Az**4*dz + ((a[0, 1] + am[0, 1])/zref)*bz*Az**3*dz + ((a[0, 2] + am[0, 2])/zref)*bz*Az**2*dz + ((a[0, 3] + am[0, 3])/zref)*bz*Az*dz + ((a[0, 4] + am[0, 4])/zref)*bz*dz + 1/zref*bz*Az**5*z0 + 1/zref*zrefm)**(-1)))]])), by*(Ay**2*dy*Matrix([[(F2xCO2/log(2))*(HadamardProduct(1/zref*bz*dz, (((a[0, 0] + am[0, 0])/zref)*bz*Az**2*dz + ((a[0, 1] + am[0, 1])/zref)*bz*Az*dz + ((a[0, 2] + am[0, 2])/zref)*bz*dz + 1/zref*bz*Az**3*z0 + 1/zref*zrefm)**(-1)))]]) + Ay*dy*Matrix([[(F2xCO2/log(2))*(HadamardProduct(1/zref*bz*Az*dz, (((a[0, 0] + am[0, 0])/zref)*bz*Az**3*dz + ((a[0, 1] + am[0, 1])/zref)*bz*Az**2*dz + ((a[0, 2] + am[0, 2])/zref)*bz*Az*dz + ((a[0, 3] + am[0, 3])/zref)*bz*dz + 1/zref*bz*Az**4*z0 + 1/zref*zrefm)**(-1)))]]) + dy*Matrix([[(F2xCO2/log(2))*(HadamardProduct(1/zref*bz*Az**2*dz, (((a[0, 0] + am[0, 0])/zref)*bz*Az**4*dz + ((a[0, 1] + am[0, 1])/zref)*bz*Az**3*dz + ((a[0, 2] + am[0, 2])/zref)*bz*Az**2*dz + ((a[0, 3] + am[0, 3])/zref)*bz*Az*dz + ((a[0, 4] + am[0, 4])/zref)*bz*dz + 1/zref*bz*Az**5*z0 + 1/zref*zrefm)**(-1)))]])), by*(Ay*dy*Matrix([[(F2xCO2/log(2))*(HadamardProduct(1/zref*bz*dz, (((a[0, 0] + am[0, 0])/zref)*bz*Az**3*dz + ((a[0, 1] + am[0, 1])/zref)*bz*Az**2*dz + ((a[0, 2] + am[0, 2])/zref)*bz*Az*dz + ((a[0, 3] + am[0, 3])/zref)*bz*dz + 1/zref*bz*Az**4*z0 + 1/zref*zrefm)**(-1)))]]) + dy*Matrix([[(F2xCO2/log(2))*(HadamardProduct(1/zref*bz*Az*dz, (((a[0, 0] + am[0, 0])/zref)*bz*Az**4*dz + ((a[0, 1] + am[0, 1])/zref)*bz*Az**3*dz + ((a[0, 2] + am[0, 2])/zref)*bz*Az**2*dz + ((a[0, 3] + am[0, 3])/zref)*bz*Az*dz + ((a[0, 4] + am[0, 4])/zref)*bz*dz + 1/zref*bz*Az**5*z0 + 1/zref*zrefm)**(-1)))]])), by*dy*Matrix([[(F2xCO2/log(2))*(HadamardProduct(1/zref*bz*dz, (((a[0, 0] + am[0, 0])/zref)*bz*Az**4*dz + ((a[0, 1] + am[0, 1])/zref)*bz*Az**3*dz + ((a[0, 2] + am[0, 2])/zref)*bz*Az**2*dz + ((a[0, 3] + am[0, 3])/zref)*bz*Az*dz + ((a[0, 4] + am[0, 4])/zref)*bz*dz + 1/zref*bz*Az**5*z0 + 1/zref*zrefm)**(-1)))]])]])"
      ]
     },
     "execution_count": 35,
     "metadata": {},
     "output_type": "execute_result"
    }
   ],
   "source": [
    "jac_"
   ]
  },
  {
   "cell_type": "code",
   "execution_count": 167,
   "metadata": {},
   "outputs": [
    {
     "data": {
      "text/latex": [
       "$\\displaystyle b_{y} A_{y}^{2} d_{y} \\left[\\begin{matrix}\\frac{F2xCO2}{\\log{\\left(2 \\right)}} {\\left( d \\mapsto \\log{\\left(d \\right)} \\right)}_{\\circ}\\left({zref b_{z} A_{z}^{2} z_{0} + zref zrefm + \\left(\\left(zref a_{0, 1} + zref am_{0, 1}\\right) b_{z} d_{z}\\right) + \\left(\\left(zref a_{0, 0} + zref am_{0, 0}\\right) b_{z} A_{z} d_{z}\\right)}\\right)\\end{matrix}\\right] + b_{y} A_{y}^{3} d_{y} \\left[\\begin{matrix}\\frac{F2xCO2}{\\log{\\left(2 \\right)}} {\\left( d \\mapsto \\log{\\left(d \\right)} \\right)}_{\\circ}\\left({zref b_{z} A_{z} z_{0} + zref zrefm + \\left(\\left(zref a_{0, 0} + zref am_{0, 0}\\right) b_{z} d_{z}\\right)}\\right)\\end{matrix}\\right] + b_{y} A_{y}^{4} y_{0} + b_{y} A_{y} d_{y} \\left[\\begin{matrix}\\frac{F2xCO2}{\\log{\\left(2 \\right)}} {\\left( d \\mapsto \\log{\\left(d \\right)} \\right)}_{\\circ}\\left({zref b_{z} A_{z}^{3} z_{0} + zref zrefm + \\left(\\left(zref a_{0, 2} + zref am_{0, 2}\\right) b_{z} d_{z}\\right) + \\left(\\left(zref a_{0, 0} + zref am_{0, 0}\\right) b_{z} A_{z}^{2} d_{z}\\right) + \\left(\\left(zref a_{0, 1} + zref am_{0, 1}\\right) b_{z} A_{z} d_{z}\\right)}\\right)\\end{matrix}\\right] + b_{y} d_{y} \\left[\\begin{matrix}\\frac{F2xCO2}{\\log{\\left(2 \\right)}} {\\left( d \\mapsto \\log{\\left(d \\right)} \\right)}_{\\circ}\\left({zref b_{z} A_{z}^{4} z_{0} + zref zrefm + \\left(\\left(zref a_{0, 3} + zref am_{0, 3}\\right) b_{z} d_{z}\\right) + \\left(\\left(zref a_{0, 0} + zref am_{0, 0}\\right) b_{z} A_{z}^{3} d_{z}\\right) + \\left(\\left(zref a_{0, 1} + zref am_{0, 1}\\right) b_{z} A_{z}^{2} d_{z}\\right) + \\left(\\left(zref a_{0, 2} + zref am_{0, 2}\\right) b_{z} A_{z} d_{z}\\right)}\\right)\\end{matrix}\\right]$"
      ],
      "text/plain": [
       "b_y*A_y**2*d_y*Matrix([[(F2xCO2/log(2))*Lambda(_d, log(_d)).(zref*b_z*A_z**2*z_0 + zref*zrefm + ((zref*a[0, 1] + zref*am[0, 1])*b_z*d_z) + ((zref*a[0, 0] + zref*am[0, 0])*b_z*A_z*d_z))]]) + b_y*A_y**3*d_y*Matrix([[(F2xCO2/log(2))*Lambda(_d, log(_d)).(zref*b_z*A_z*z_0 + zref*zrefm + ((zref*a[0, 0] + zref*am[0, 0])*b_z*d_z))]]) + b_y*A_y**4*y_0 + b_y*A_y*d_y*Matrix([[(F2xCO2/log(2))*Lambda(_d, log(_d)).(zref*b_z*A_z**3*z_0 + zref*zrefm + ((zref*a[0, 2] + zref*am[0, 2])*b_z*d_z) + ((zref*a[0, 0] + zref*am[0, 0])*b_z*A_z**2*d_z) + ((zref*a[0, 1] + zref*am[0, 1])*b_z*A_z*d_z))]]) + b_y*d_y*Matrix([[(F2xCO2/log(2))*Lambda(_d, log(_d)).(zref*b_z*A_z**4*z_0 + zref*zrefm + ((zref*a[0, 3] + zref*am[0, 3])*b_z*d_z) + ((zref*a[0, 0] + zref*am[0, 0])*b_z*A_z**3*d_z) + ((zref*a[0, 1] + zref*am[0, 1])*b_z*A_z**2*d_z) + ((zref*a[0, 2] + zref*am[0, 2])*b_z*A_z*d_z))]])"
      ]
     },
     "execution_count": 167,
     "metadata": {},
     "output_type": "execute_result"
    }
   ],
   "source": [
    "y_AT[3].expand()"
   ]
  },
  {
   "cell_type": "code",
   "execution_count": 147,
   "metadata": {},
   "outputs": [
    {
     "data": {
      "text/latex": [
       "$\\displaystyle \\left[\\begin{matrix}b_{y} d_{y} \\left[\\begin{matrix}\\frac{F2xCO2}{\\log{\\left(2 \\right)}} \\left(\\left(\\frac{1}{zref} \\left(\\left(a_{0, 0} + am_{0, 0}\\right) b_{z} d_{z} + b_{z} A_{z} z_{0} + zrefm\\right)^{-1}\\right) \\circ \\left(zref b_{z} d_{z}\\right)\\right)\\end{matrix}\\right] & 0 & 0 & 0 & 0\\\\b_{y} A_{y} d_{y} \\left[\\begin{matrix}\\frac{F2xCO2}{\\log{\\left(2 \\right)}} \\left(\\left(\\frac{1}{zref} \\left(\\left(a_{0, 0} + am_{0, 0}\\right) b_{z} d_{z} + b_{z} A_{z} z_{0} + zrefm\\right)^{-1}\\right) \\circ \\left(zref b_{z} d_{z}\\right)\\right)\\end{matrix}\\right] + b_{y} d_{y} \\left[\\begin{matrix}\\frac{F2xCO2}{\\log{\\left(2 \\right)}} \\left(\\left(\\frac{1}{zref} \\left(\\left(a_{0, 0} + am_{0, 0}\\right) b_{z} A_{z} d_{z} + \\left(a_{0, 1} + am_{0, 1}\\right) b_{z} d_{z} + b_{z} A_{z}^{2} z_{0} + zrefm\\right)^{-1}\\right) \\circ \\left(zref b_{z} A_{z} d_{z}\\right)\\right)\\end{matrix}\\right] & b_{y} d_{y} \\left[\\begin{matrix}\\frac{F2xCO2}{\\log{\\left(2 \\right)}} \\left(\\left(\\frac{1}{zref} \\left(\\left(a_{0, 0} + am_{0, 0}\\right) b_{z} A_{z} d_{z} + \\left(a_{0, 1} + am_{0, 1}\\right) b_{z} d_{z} + b_{z} A_{z}^{2} z_{0} + zrefm\\right)^{-1}\\right) \\circ \\left(zref b_{z} d_{z}\\right)\\right)\\end{matrix}\\right] & 0 & 0 & 0\\\\b_{y} A_{y}^{2} d_{y} \\left[\\begin{matrix}\\frac{F2xCO2}{\\log{\\left(2 \\right)}} \\left(\\left(\\frac{1}{zref} \\left(\\left(a_{0, 0} + am_{0, 0}\\right) b_{z} d_{z} + b_{z} A_{z} z_{0} + zrefm\\right)^{-1}\\right) \\circ \\left(zref b_{z} d_{z}\\right)\\right)\\end{matrix}\\right] + b_{y} A_{y} d_{y} \\left[\\begin{matrix}\\frac{F2xCO2}{\\log{\\left(2 \\right)}} \\left(\\left(\\frac{1}{zref} \\left(\\left(a_{0, 0} + am_{0, 0}\\right) b_{z} A_{z} d_{z} + \\left(a_{0, 1} + am_{0, 1}\\right) b_{z} d_{z} + b_{z} A_{z}^{2} z_{0} + zrefm\\right)^{-1}\\right) \\circ \\left(zref b_{z} A_{z} d_{z}\\right)\\right)\\end{matrix}\\right] + b_{y} d_{y} \\left[\\begin{matrix}\\frac{F2xCO2}{\\log{\\left(2 \\right)}} \\left(\\left(\\frac{1}{zref} \\left(\\left(a_{0, 0} + am_{0, 0}\\right) b_{z} A_{z}^{2} d_{z} + \\left(a_{0, 1} + am_{0, 1}\\right) b_{z} A_{z} d_{z} + \\left(a_{0, 2} + am_{0, 2}\\right) b_{z} d_{z} + b_{z} A_{z}^{3} z_{0} + zrefm\\right)^{-1}\\right) \\circ \\left(zref b_{z} A_{z}^{2} d_{z}\\right)\\right)\\end{matrix}\\right] & b_{y} A_{y} d_{y} \\left[\\begin{matrix}\\frac{F2xCO2}{\\log{\\left(2 \\right)}} \\left(\\left(\\frac{1}{zref} \\left(\\left(a_{0, 0} + am_{0, 0}\\right) b_{z} A_{z} d_{z} + \\left(a_{0, 1} + am_{0, 1}\\right) b_{z} d_{z} + b_{z} A_{z}^{2} z_{0} + zrefm\\right)^{-1}\\right) \\circ \\left(zref b_{z} d_{z}\\right)\\right)\\end{matrix}\\right] + b_{y} d_{y} \\left[\\begin{matrix}\\frac{F2xCO2}{\\log{\\left(2 \\right)}} \\left(\\left(\\frac{1}{zref} \\left(\\left(a_{0, 0} + am_{0, 0}\\right) b_{z} A_{z}^{2} d_{z} + \\left(a_{0, 1} + am_{0, 1}\\right) b_{z} A_{z} d_{z} + \\left(a_{0, 2} + am_{0, 2}\\right) b_{z} d_{z} + b_{z} A_{z}^{3} z_{0} + zrefm\\right)^{-1}\\right) \\circ \\left(zref b_{z} A_{z} d_{z}\\right)\\right)\\end{matrix}\\right] & b_{y} d_{y} \\left[\\begin{matrix}\\frac{F2xCO2}{\\log{\\left(2 \\right)}} \\left(\\left(\\frac{1}{zref} \\left(\\left(a_{0, 0} + am_{0, 0}\\right) b_{z} A_{z}^{2} d_{z} + \\left(a_{0, 1} + am_{0, 1}\\right) b_{z} A_{z} d_{z} + \\left(a_{0, 2} + am_{0, 2}\\right) b_{z} d_{z} + b_{z} A_{z}^{3} z_{0} + zrefm\\right)^{-1}\\right) \\circ \\left(zref b_{z} d_{z}\\right)\\right)\\end{matrix}\\right] & 0 & 0\\\\b_{y} A_{y}^{2} d_{y} \\left[\\begin{matrix}\\frac{F2xCO2}{\\log{\\left(2 \\right)}} \\left(\\left(\\frac{1}{zref} \\left(\\left(a_{0, 0} + am_{0, 0}\\right) b_{z} A_{z} d_{z} + \\left(a_{0, 1} + am_{0, 1}\\right) b_{z} d_{z} + b_{z} A_{z}^{2} z_{0} + zrefm\\right)^{-1}\\right) \\circ \\left(zref b_{z} A_{z} d_{z}\\right)\\right)\\end{matrix}\\right] + b_{y} A_{y}^{3} d_{y} \\left[\\begin{matrix}\\frac{F2xCO2}{\\log{\\left(2 \\right)}} \\left(\\left(\\frac{1}{zref} \\left(\\left(a_{0, 0} + am_{0, 0}\\right) b_{z} d_{z} + b_{z} A_{z} z_{0} + zrefm\\right)^{-1}\\right) \\circ \\left(zref b_{z} d_{z}\\right)\\right)\\end{matrix}\\right] + b_{y} A_{y} d_{y} \\left[\\begin{matrix}\\frac{F2xCO2}{\\log{\\left(2 \\right)}} \\left(\\left(\\frac{1}{zref} \\left(\\left(a_{0, 0} + am_{0, 0}\\right) b_{z} A_{z}^{2} d_{z} + \\left(a_{0, 1} + am_{0, 1}\\right) b_{z} A_{z} d_{z} + \\left(a_{0, 2} + am_{0, 2}\\right) b_{z} d_{z} + b_{z} A_{z}^{3} z_{0} + zrefm\\right)^{-1}\\right) \\circ \\left(zref b_{z} A_{z}^{2} d_{z}\\right)\\right)\\end{matrix}\\right] + b_{y} d_{y} \\left[\\begin{matrix}\\frac{F2xCO2}{\\log{\\left(2 \\right)}} \\left(\\left(\\frac{1}{zref} \\left(\\left(a_{0, 0} + am_{0, 0}\\right) b_{z} A_{z}^{3} d_{z} + \\left(a_{0, 1} + am_{0, 1}\\right) b_{z} A_{z}^{2} d_{z} + \\left(a_{0, 2} + am_{0, 2}\\right) b_{z} A_{z} d_{z} + \\left(a_{0, 3} + am_{0, 3}\\right) b_{z} d_{z} + b_{z} A_{z}^{4} z_{0} + zrefm\\right)^{-1}\\right) \\circ \\left(zref b_{z} A_{z}^{3} d_{z}\\right)\\right)\\end{matrix}\\right] & b_{y} A_{y}^{2} d_{y} \\left[\\begin{matrix}\\frac{F2xCO2}{\\log{\\left(2 \\right)}} \\left(\\left(\\frac{1}{zref} \\left(\\left(a_{0, 0} + am_{0, 0}\\right) b_{z} A_{z} d_{z} + \\left(a_{0, 1} + am_{0, 1}\\right) b_{z} d_{z} + b_{z} A_{z}^{2} z_{0} + zrefm\\right)^{-1}\\right) \\circ \\left(zref b_{z} d_{z}\\right)\\right)\\end{matrix}\\right] + b_{y} A_{y} d_{y} \\left[\\begin{matrix}\\frac{F2xCO2}{\\log{\\left(2 \\right)}} \\left(\\left(\\frac{1}{zref} \\left(\\left(a_{0, 0} + am_{0, 0}\\right) b_{z} A_{z}^{2} d_{z} + \\left(a_{0, 1} + am_{0, 1}\\right) b_{z} A_{z} d_{z} + \\left(a_{0, 2} + am_{0, 2}\\right) b_{z} d_{z} + b_{z} A_{z}^{3} z_{0} + zrefm\\right)^{-1}\\right) \\circ \\left(zref b_{z} A_{z} d_{z}\\right)\\right)\\end{matrix}\\right] + b_{y} d_{y} \\left[\\begin{matrix}\\frac{F2xCO2}{\\log{\\left(2 \\right)}} \\left(\\left(\\frac{1}{zref} \\left(\\left(a_{0, 0} + am_{0, 0}\\right) b_{z} A_{z}^{3} d_{z} + \\left(a_{0, 1} + am_{0, 1}\\right) b_{z} A_{z}^{2} d_{z} + \\left(a_{0, 2} + am_{0, 2}\\right) b_{z} A_{z} d_{z} + \\left(a_{0, 3} + am_{0, 3}\\right) b_{z} d_{z} + b_{z} A_{z}^{4} z_{0} + zrefm\\right)^{-1}\\right) \\circ \\left(zref b_{z} A_{z}^{2} d_{z}\\right)\\right)\\end{matrix}\\right] & b_{y} A_{y} d_{y} \\left[\\begin{matrix}\\frac{F2xCO2}{\\log{\\left(2 \\right)}} \\left(\\left(\\frac{1}{zref} \\left(\\left(a_{0, 0} + am_{0, 0}\\right) b_{z} A_{z}^{2} d_{z} + \\left(a_{0, 1} + am_{0, 1}\\right) b_{z} A_{z} d_{z} + \\left(a_{0, 2} + am_{0, 2}\\right) b_{z} d_{z} + b_{z} A_{z}^{3} z_{0} + zrefm\\right)^{-1}\\right) \\circ \\left(zref b_{z} d_{z}\\right)\\right)\\end{matrix}\\right] + b_{y} d_{y} \\left[\\begin{matrix}\\frac{F2xCO2}{\\log{\\left(2 \\right)}} \\left(\\left(\\frac{1}{zref} \\left(\\left(a_{0, 0} + am_{0, 0}\\right) b_{z} A_{z}^{3} d_{z} + \\left(a_{0, 1} + am_{0, 1}\\right) b_{z} A_{z}^{2} d_{z} + \\left(a_{0, 2} + am_{0, 2}\\right) b_{z} A_{z} d_{z} + \\left(a_{0, 3} + am_{0, 3}\\right) b_{z} d_{z} + b_{z} A_{z}^{4} z_{0} + zrefm\\right)^{-1}\\right) \\circ \\left(zref b_{z} A_{z} d_{z}\\right)\\right)\\end{matrix}\\right] & b_{y} d_{y} \\left[\\begin{matrix}\\frac{F2xCO2}{\\log{\\left(2 \\right)}} \\left(\\left(\\frac{1}{zref} \\left(\\left(a_{0, 0} + am_{0, 0}\\right) b_{z} A_{z}^{3} d_{z} + \\left(a_{0, 1} + am_{0, 1}\\right) b_{z} A_{z}^{2} d_{z} + \\left(a_{0, 2} + am_{0, 2}\\right) b_{z} A_{z} d_{z} + \\left(a_{0, 3} + am_{0, 3}\\right) b_{z} d_{z} + b_{z} A_{z}^{4} z_{0} + zrefm\\right)^{-1}\\right) \\circ \\left(zref b_{z} d_{z}\\right)\\right)\\end{matrix}\\right] & 0\\\\b_{y} A_{y}^{2} d_{y} \\left[\\begin{matrix}\\frac{F2xCO2}{\\log{\\left(2 \\right)}} \\left(\\left(\\frac{1}{zref} \\left(\\left(a_{0, 0} + am_{0, 0}\\right) b_{z} A_{z}^{2} d_{z} + \\left(a_{0, 1} + am_{0, 1}\\right) b_{z} A_{z} d_{z} + \\left(a_{0, 2} + am_{0, 2}\\right) b_{z} d_{z} + b_{z} A_{z}^{3} z_{0} + zrefm\\right)^{-1}\\right) \\circ \\left(zref b_{z} A_{z}^{2} d_{z}\\right)\\right)\\end{matrix}\\right] + b_{y} A_{y}^{3} d_{y} \\left[\\begin{matrix}\\frac{F2xCO2}{\\log{\\left(2 \\right)}} \\left(\\left(\\frac{1}{zref} \\left(\\left(a_{0, 0} + am_{0, 0}\\right) b_{z} A_{z} d_{z} + \\left(a_{0, 1} + am_{0, 1}\\right) b_{z} d_{z} + b_{z} A_{z}^{2} z_{0} + zrefm\\right)^{-1}\\right) \\circ \\left(zref b_{z} A_{z} d_{z}\\right)\\right)\\end{matrix}\\right] + b_{y} A_{y}^{4} d_{y} \\left[\\begin{matrix}\\frac{F2xCO2}{\\log{\\left(2 \\right)}} \\left(\\left(\\frac{1}{zref} \\left(\\left(a_{0, 0} + am_{0, 0}\\right) b_{z} d_{z} + b_{z} A_{z} z_{0} + zrefm\\right)^{-1}\\right) \\circ \\left(zref b_{z} d_{z}\\right)\\right)\\end{matrix}\\right] + b_{y} A_{y} d_{y} \\left[\\begin{matrix}\\frac{F2xCO2}{\\log{\\left(2 \\right)}} \\left(\\left(\\frac{1}{zref} \\left(\\left(a_{0, 0} + am_{0, 0}\\right) b_{z} A_{z}^{3} d_{z} + \\left(a_{0, 1} + am_{0, 1}\\right) b_{z} A_{z}^{2} d_{z} + \\left(a_{0, 2} + am_{0, 2}\\right) b_{z} A_{z} d_{z} + \\left(a_{0, 3} + am_{0, 3}\\right) b_{z} d_{z} + b_{z} A_{z}^{4} z_{0} + zrefm\\right)^{-1}\\right) \\circ \\left(zref b_{z} A_{z}^{3} d_{z}\\right)\\right)\\end{matrix}\\right] + b_{y} d_{y} \\left[\\begin{matrix}\\frac{F2xCO2}{\\log{\\left(2 \\right)}} \\left(\\left(\\frac{1}{zref} \\left(\\left(a_{0, 0} + am_{0, 0}\\right) b_{z} A_{z}^{4} d_{z} + \\left(a_{0, 1} + am_{0, 1}\\right) b_{z} A_{z}^{3} d_{z} + \\left(a_{0, 2} + am_{0, 2}\\right) b_{z} A_{z}^{2} d_{z} + \\left(a_{0, 3} + am_{0, 3}\\right) b_{z} A_{z} d_{z} + \\left(a_{0, 4} + am_{0, 4}\\right) b_{z} d_{z} + b_{z} A_{z}^{5} z_{0} + zrefm\\right)^{-1}\\right) \\circ \\left(zref b_{z} A_{z}^{4} d_{z}\\right)\\right)\\end{matrix}\\right] & b_{y} A_{y}^{2} d_{y} \\left[\\begin{matrix}\\frac{F2xCO2}{\\log{\\left(2 \\right)}} \\left(\\left(\\frac{1}{zref} \\left(\\left(a_{0, 0} + am_{0, 0}\\right) b_{z} A_{z}^{2} d_{z} + \\left(a_{0, 1} + am_{0, 1}\\right) b_{z} A_{z} d_{z} + \\left(a_{0, 2} + am_{0, 2}\\right) b_{z} d_{z} + b_{z} A_{z}^{3} z_{0} + zrefm\\right)^{-1}\\right) \\circ \\left(zref b_{z} A_{z} d_{z}\\right)\\right)\\end{matrix}\\right] + b_{y} A_{y}^{3} d_{y} \\left[\\begin{matrix}\\frac{F2xCO2}{\\log{\\left(2 \\right)}} \\left(\\left(\\frac{1}{zref} \\left(\\left(a_{0, 0} + am_{0, 0}\\right) b_{z} A_{z} d_{z} + \\left(a_{0, 1} + am_{0, 1}\\right) b_{z} d_{z} + b_{z} A_{z}^{2} z_{0} + zrefm\\right)^{-1}\\right) \\circ \\left(zref b_{z} d_{z}\\right)\\right)\\end{matrix}\\right] + b_{y} A_{y} d_{y} \\left[\\begin{matrix}\\frac{F2xCO2}{\\log{\\left(2 \\right)}} \\left(\\left(\\frac{1}{zref} \\left(\\left(a_{0, 0} + am_{0, 0}\\right) b_{z} A_{z}^{3} d_{z} + \\left(a_{0, 1} + am_{0, 1}\\right) b_{z} A_{z}^{2} d_{z} + \\left(a_{0, 2} + am_{0, 2}\\right) b_{z} A_{z} d_{z} + \\left(a_{0, 3} + am_{0, 3}\\right) b_{z} d_{z} + b_{z} A_{z}^{4} z_{0} + zrefm\\right)^{-1}\\right) \\circ \\left(zref b_{z} A_{z}^{2} d_{z}\\right)\\right)\\end{matrix}\\right] + b_{y} d_{y} \\left[\\begin{matrix}\\frac{F2xCO2}{\\log{\\left(2 \\right)}} \\left(\\left(\\frac{1}{zref} \\left(\\left(a_{0, 0} + am_{0, 0}\\right) b_{z} A_{z}^{4} d_{z} + \\left(a_{0, 1} + am_{0, 1}\\right) b_{z} A_{z}^{3} d_{z} + \\left(a_{0, 2} + am_{0, 2}\\right) b_{z} A_{z}^{2} d_{z} + \\left(a_{0, 3} + am_{0, 3}\\right) b_{z} A_{z} d_{z} + \\left(a_{0, 4} + am_{0, 4}\\right) b_{z} d_{z} + b_{z} A_{z}^{5} z_{0} + zrefm\\right)^{-1}\\right) \\circ \\left(zref b_{z} A_{z}^{3} d_{z}\\right)\\right)\\end{matrix}\\right] & b_{y} A_{y}^{2} d_{y} \\left[\\begin{matrix}\\frac{F2xCO2}{\\log{\\left(2 \\right)}} \\left(\\left(\\frac{1}{zref} \\left(\\left(a_{0, 0} + am_{0, 0}\\right) b_{z} A_{z}^{2} d_{z} + \\left(a_{0, 1} + am_{0, 1}\\right) b_{z} A_{z} d_{z} + \\left(a_{0, 2} + am_{0, 2}\\right) b_{z} d_{z} + b_{z} A_{z}^{3} z_{0} + zrefm\\right)^{-1}\\right) \\circ \\left(zref b_{z} d_{z}\\right)\\right)\\end{matrix}\\right] + b_{y} A_{y} d_{y} \\left[\\begin{matrix}\\frac{F2xCO2}{\\log{\\left(2 \\right)}} \\left(\\left(\\frac{1}{zref} \\left(\\left(a_{0, 0} + am_{0, 0}\\right) b_{z} A_{z}^{3} d_{z} + \\left(a_{0, 1} + am_{0, 1}\\right) b_{z} A_{z}^{2} d_{z} + \\left(a_{0, 2} + am_{0, 2}\\right) b_{z} A_{z} d_{z} + \\left(a_{0, 3} + am_{0, 3}\\right) b_{z} d_{z} + b_{z} A_{z}^{4} z_{0} + zrefm\\right)^{-1}\\right) \\circ \\left(zref b_{z} A_{z} d_{z}\\right)\\right)\\end{matrix}\\right] + b_{y} d_{y} \\left[\\begin{matrix}\\frac{F2xCO2}{\\log{\\left(2 \\right)}} \\left(\\left(\\frac{1}{zref} \\left(\\left(a_{0, 0} + am_{0, 0}\\right) b_{z} A_{z}^{4} d_{z} + \\left(a_{0, 1} + am_{0, 1}\\right) b_{z} A_{z}^{3} d_{z} + \\left(a_{0, 2} + am_{0, 2}\\right) b_{z} A_{z}^{2} d_{z} + \\left(a_{0, 3} + am_{0, 3}\\right) b_{z} A_{z} d_{z} + \\left(a_{0, 4} + am_{0, 4}\\right) b_{z} d_{z} + b_{z} A_{z}^{5} z_{0} + zrefm\\right)^{-1}\\right) \\circ \\left(zref b_{z} A_{z}^{2} d_{z}\\right)\\right)\\end{matrix}\\right] & b_{y} A_{y} d_{y} \\left[\\begin{matrix}\\frac{F2xCO2}{\\log{\\left(2 \\right)}} \\left(\\left(\\frac{1}{zref} \\left(\\left(a_{0, 0} + am_{0, 0}\\right) b_{z} A_{z}^{3} d_{z} + \\left(a_{0, 1} + am_{0, 1}\\right) b_{z} A_{z}^{2} d_{z} + \\left(a_{0, 2} + am_{0, 2}\\right) b_{z} A_{z} d_{z} + \\left(a_{0, 3} + am_{0, 3}\\right) b_{z} d_{z} + b_{z} A_{z}^{4} z_{0} + zrefm\\right)^{-1}\\right) \\circ \\left(zref b_{z} d_{z}\\right)\\right)\\end{matrix}\\right] + b_{y} d_{y} \\left[\\begin{matrix}\\frac{F2xCO2}{\\log{\\left(2 \\right)}} \\left(\\left(\\frac{1}{zref} \\left(\\left(a_{0, 0} + am_{0, 0}\\right) b_{z} A_{z}^{4} d_{z} + \\left(a_{0, 1} + am_{0, 1}\\right) b_{z} A_{z}^{3} d_{z} + \\left(a_{0, 2} + am_{0, 2}\\right) b_{z} A_{z}^{2} d_{z} + \\left(a_{0, 3} + am_{0, 3}\\right) b_{z} A_{z} d_{z} + \\left(a_{0, 4} + am_{0, 4}\\right) b_{z} d_{z} + b_{z} A_{z}^{5} z_{0} + zrefm\\right)^{-1}\\right) \\circ \\left(zref b_{z} A_{z} d_{z}\\right)\\right)\\end{matrix}\\right] & b_{y} d_{y} \\left[\\begin{matrix}\\frac{F2xCO2}{\\log{\\left(2 \\right)}} \\left(\\left(\\frac{1}{zref} \\left(\\left(a_{0, 0} + am_{0, 0}\\right) b_{z} A_{z}^{4} d_{z} + \\left(a_{0, 1} + am_{0, 1}\\right) b_{z} A_{z}^{3} d_{z} + \\left(a_{0, 2} + am_{0, 2}\\right) b_{z} A_{z}^{2} d_{z} + \\left(a_{0, 3} + am_{0, 3}\\right) b_{z} A_{z} d_{z} + \\left(a_{0, 4} + am_{0, 4}\\right) b_{z} d_{z} + b_{z} A_{z}^{5} z_{0} + zrefm\\right)^{-1}\\right) \\circ \\left(zref b_{z} d_{z}\\right)\\right)\\end{matrix}\\right]\\end{matrix}\\right]$"
      ],
      "text/plain": [
       "Matrix([\n",
       "[                                                                                                                                                                                                                                                                                                                                                                                                                                                                                                                                                                                                                                                                                                                                                                                                                                                                                                                                                                                                                  b_y*d_y*Matrix([[(F2xCO2/log(2))*(HadamardProduct(1/zref*((a[0, 0] + am[0, 0])*b_z*d_z + b_z*A_z*z_0 + zrefm)**(-1), zref*b_z*d_z))]]),                                                                                                                                                                                                                                                                                                                                                                                                                                                                                                                                                                                                                                                                                                                                                                                                                                                                                                                                                                                                 0,                                                                                                                                                                                                                                                                                                                                                                                                                                                                                                                                                                                                                                                                                                                                                                                                    0,                                                                                                                                                                                                                                                                                                                                                                                                                                                                                                                                                                 0,                                                                                                                                                                                                                                                                                              0],\n",
       "[                                                                                                                                                                                                                                                                                                                                                                                                                                                                                                                                                                                                                                                                                                                                                                                                                           b_y*A_y*d_y*Matrix([[(F2xCO2/log(2))*(HadamardProduct(1/zref*((a[0, 0] + am[0, 0])*b_z*d_z + b_z*A_z*z_0 + zrefm)**(-1), zref*b_z*d_z))]]) + b_y*d_y*Matrix([[(F2xCO2/log(2))*(HadamardProduct(1/zref*((a[0, 0] + am[0, 0])*b_z*A_z*d_z + (a[0, 1] + am[0, 1])*b_z*d_z + b_z*A_z**2*z_0 + zrefm)**(-1), zref*b_z*A_z*d_z))]]),                                                                                                                                                                                                                                                                                                                                                                                                                                                                                                                                                                                                                                                                                                                                                                                                                      b_y*d_y*Matrix([[(F2xCO2/log(2))*(HadamardProduct(1/zref*((a[0, 0] + am[0, 0])*b_z*A_z*d_z + (a[0, 1] + am[0, 1])*b_z*d_z + b_z*A_z**2*z_0 + zrefm)**(-1), zref*b_z*d_z))]]),                                                                                                                                                                                                                                                                                                                                                                                                                                                                                                                                                                                                                                                                                                                                                                                                    0,                                                                                                                                                                                                                                                                                                                                                                                                                                                                                                                                                                 0,                                                                                                                                                                                                                                                                                              0],\n",
       "[                                                                                                                                                                                                                                                                                                                                                                                                                                                                                                                                                                                        b_y*A_y**2*d_y*Matrix([[(F2xCO2/log(2))*(HadamardProduct(1/zref*((a[0, 0] + am[0, 0])*b_z*d_z + b_z*A_z*z_0 + zrefm)**(-1), zref*b_z*d_z))]]) + b_y*A_y*d_y*Matrix([[(F2xCO2/log(2))*(HadamardProduct(1/zref*((a[0, 0] + am[0, 0])*b_z*A_z*d_z + (a[0, 1] + am[0, 1])*b_z*d_z + b_z*A_z**2*z_0 + zrefm)**(-1), zref*b_z*A_z*d_z))]]) + b_y*d_y*Matrix([[(F2xCO2/log(2))*(HadamardProduct(1/zref*((a[0, 0] + am[0, 0])*b_z*A_z**2*d_z + (a[0, 1] + am[0, 1])*b_z*A_z*d_z + (a[0, 2] + am[0, 2])*b_z*d_z + b_z*A_z**3*z_0 + zrefm)**(-1), zref*b_z*A_z**2*d_z))]]),                                                                                                                                                                                                                                                                                                                                                                                                                                                                                                                                                                                         b_y*A_y*d_y*Matrix([[(F2xCO2/log(2))*(HadamardProduct(1/zref*((a[0, 0] + am[0, 0])*b_z*A_z*d_z + (a[0, 1] + am[0, 1])*b_z*d_z + b_z*A_z**2*z_0 + zrefm)**(-1), zref*b_z*d_z))]]) + b_y*d_y*Matrix([[(F2xCO2/log(2))*(HadamardProduct(1/zref*((a[0, 0] + am[0, 0])*b_z*A_z**2*d_z + (a[0, 1] + am[0, 1])*b_z*A_z*d_z + (a[0, 2] + am[0, 2])*b_z*d_z + b_z*A_z**3*z_0 + zrefm)**(-1), zref*b_z*A_z*d_z))]]),                                                                                                                                                                                                                                                                                                                                                                                                                                                                                                                                                                                   b_y*d_y*Matrix([[(F2xCO2/log(2))*(HadamardProduct(1/zref*((a[0, 0] + am[0, 0])*b_z*A_z**2*d_z + (a[0, 1] + am[0, 1])*b_z*A_z*d_z + (a[0, 2] + am[0, 2])*b_z*d_z + b_z*A_z**3*z_0 + zrefm)**(-1), zref*b_z*d_z))]]),                                                                                                                                                                                                                                                                                                                                                                                                                                                                                                                                                                 0,                                                                                                                                                                                                                                                                                              0],\n",
       "[                                                                                                                                                                                                                                                                                                               b_y*A_y**2*d_y*Matrix([[(F2xCO2/log(2))*(HadamardProduct(1/zref*((a[0, 0] + am[0, 0])*b_z*A_z*d_z + (a[0, 1] + am[0, 1])*b_z*d_z + b_z*A_z**2*z_0 + zrefm)**(-1), zref*b_z*A_z*d_z))]]) + b_y*A_y**3*d_y*Matrix([[(F2xCO2/log(2))*(HadamardProduct(1/zref*((a[0, 0] + am[0, 0])*b_z*d_z + b_z*A_z*z_0 + zrefm)**(-1), zref*b_z*d_z))]]) + b_y*A_y*d_y*Matrix([[(F2xCO2/log(2))*(HadamardProduct(1/zref*((a[0, 0] + am[0, 0])*b_z*A_z**2*d_z + (a[0, 1] + am[0, 1])*b_z*A_z*d_z + (a[0, 2] + am[0, 2])*b_z*d_z + b_z*A_z**3*z_0 + zrefm)**(-1), zref*b_z*A_z**2*d_z))]]) + b_y*d_y*Matrix([[(F2xCO2/log(2))*(HadamardProduct(1/zref*((a[0, 0] + am[0, 0])*b_z*A_z**3*d_z + (a[0, 1] + am[0, 1])*b_z*A_z**2*d_z + (a[0, 2] + am[0, 2])*b_z*A_z*d_z + (a[0, 3] + am[0, 3])*b_z*d_z + b_z*A_z**4*z_0 + zrefm)**(-1), zref*b_z*A_z**3*d_z))]]),                                                                                                                                                                                                                                                                                                                b_y*A_y**2*d_y*Matrix([[(F2xCO2/log(2))*(HadamardProduct(1/zref*((a[0, 0] + am[0, 0])*b_z*A_z*d_z + (a[0, 1] + am[0, 1])*b_z*d_z + b_z*A_z**2*z_0 + zrefm)**(-1), zref*b_z*d_z))]]) + b_y*A_y*d_y*Matrix([[(F2xCO2/log(2))*(HadamardProduct(1/zref*((a[0, 0] + am[0, 0])*b_z*A_z**2*d_z + (a[0, 1] + am[0, 1])*b_z*A_z*d_z + (a[0, 2] + am[0, 2])*b_z*d_z + b_z*A_z**3*z_0 + zrefm)**(-1), zref*b_z*A_z*d_z))]]) + b_y*d_y*Matrix([[(F2xCO2/log(2))*(HadamardProduct(1/zref*((a[0, 0] + am[0, 0])*b_z*A_z**3*d_z + (a[0, 1] + am[0, 1])*b_z*A_z**2*d_z + (a[0, 2] + am[0, 2])*b_z*A_z*d_z + (a[0, 3] + am[0, 3])*b_z*d_z + b_z*A_z**4*z_0 + zrefm)**(-1), zref*b_z*A_z**2*d_z))]]),                                                                                                                                                                                                                                                                                                                b_y*A_y*d_y*Matrix([[(F2xCO2/log(2))*(HadamardProduct(1/zref*((a[0, 0] + am[0, 0])*b_z*A_z**2*d_z + (a[0, 1] + am[0, 1])*b_z*A_z*d_z + (a[0, 2] + am[0, 2])*b_z*d_z + b_z*A_z**3*z_0 + zrefm)**(-1), zref*b_z*d_z))]]) + b_y*d_y*Matrix([[(F2xCO2/log(2))*(HadamardProduct(1/zref*((a[0, 0] + am[0, 0])*b_z*A_z**3*d_z + (a[0, 1] + am[0, 1])*b_z*A_z**2*d_z + (a[0, 2] + am[0, 2])*b_z*A_z*d_z + (a[0, 3] + am[0, 3])*b_z*d_z + b_z*A_z**4*z_0 + zrefm)**(-1), zref*b_z*A_z*d_z))]]),                                                                                                                                                                                                                                                                                                          b_y*d_y*Matrix([[(F2xCO2/log(2))*(HadamardProduct(1/zref*((a[0, 0] + am[0, 0])*b_z*A_z**3*d_z + (a[0, 1] + am[0, 1])*b_z*A_z**2*d_z + (a[0, 2] + am[0, 2])*b_z*A_z*d_z + (a[0, 3] + am[0, 3])*b_z*d_z + b_z*A_z**4*z_0 + zrefm)**(-1), zref*b_z*d_z))]]),                                                                                                                                                                                                                                                                                              0],\n",
       "[b_y*A_y**2*d_y*Matrix([[(F2xCO2/log(2))*(HadamardProduct(1/zref*((a[0, 0] + am[0, 0])*b_z*A_z**2*d_z + (a[0, 1] + am[0, 1])*b_z*A_z*d_z + (a[0, 2] + am[0, 2])*b_z*d_z + b_z*A_z**3*z_0 + zrefm)**(-1), zref*b_z*A_z**2*d_z))]]) + b_y*A_y**3*d_y*Matrix([[(F2xCO2/log(2))*(HadamardProduct(1/zref*((a[0, 0] + am[0, 0])*b_z*A_z*d_z + (a[0, 1] + am[0, 1])*b_z*d_z + b_z*A_z**2*z_0 + zrefm)**(-1), zref*b_z*A_z*d_z))]]) + b_y*A_y**4*d_y*Matrix([[(F2xCO2/log(2))*(HadamardProduct(1/zref*((a[0, 0] + am[0, 0])*b_z*d_z + b_z*A_z*z_0 + zrefm)**(-1), zref*b_z*d_z))]]) + b_y*A_y*d_y*Matrix([[(F2xCO2/log(2))*(HadamardProduct(1/zref*((a[0, 0] + am[0, 0])*b_z*A_z**3*d_z + (a[0, 1] + am[0, 1])*b_z*A_z**2*d_z + (a[0, 2] + am[0, 2])*b_z*A_z*d_z + (a[0, 3] + am[0, 3])*b_z*d_z + b_z*A_z**4*z_0 + zrefm)**(-1), zref*b_z*A_z**3*d_z))]]) + b_y*d_y*Matrix([[(F2xCO2/log(2))*(HadamardProduct(1/zref*((a[0, 0] + am[0, 0])*b_z*A_z**4*d_z + (a[0, 1] + am[0, 1])*b_z*A_z**3*d_z + (a[0, 2] + am[0, 2])*b_z*A_z**2*d_z + (a[0, 3] + am[0, 3])*b_z*A_z*d_z + (a[0, 4] + am[0, 4])*b_z*d_z + b_z*A_z**5*z_0 + zrefm)**(-1), zref*b_z*A_z**4*d_z))]]), b_y*A_y**2*d_y*Matrix([[(F2xCO2/log(2))*(HadamardProduct(1/zref*((a[0, 0] + am[0, 0])*b_z*A_z**2*d_z + (a[0, 1] + am[0, 1])*b_z*A_z*d_z + (a[0, 2] + am[0, 2])*b_z*d_z + b_z*A_z**3*z_0 + zrefm)**(-1), zref*b_z*A_z*d_z))]]) + b_y*A_y**3*d_y*Matrix([[(F2xCO2/log(2))*(HadamardProduct(1/zref*((a[0, 0] + am[0, 0])*b_z*A_z*d_z + (a[0, 1] + am[0, 1])*b_z*d_z + b_z*A_z**2*z_0 + zrefm)**(-1), zref*b_z*d_z))]]) + b_y*A_y*d_y*Matrix([[(F2xCO2/log(2))*(HadamardProduct(1/zref*((a[0, 0] + am[0, 0])*b_z*A_z**3*d_z + (a[0, 1] + am[0, 1])*b_z*A_z**2*d_z + (a[0, 2] + am[0, 2])*b_z*A_z*d_z + (a[0, 3] + am[0, 3])*b_z*d_z + b_z*A_z**4*z_0 + zrefm)**(-1), zref*b_z*A_z**2*d_z))]]) + b_y*d_y*Matrix([[(F2xCO2/log(2))*(HadamardProduct(1/zref*((a[0, 0] + am[0, 0])*b_z*A_z**4*d_z + (a[0, 1] + am[0, 1])*b_z*A_z**3*d_z + (a[0, 2] + am[0, 2])*b_z*A_z**2*d_z + (a[0, 3] + am[0, 3])*b_z*A_z*d_z + (a[0, 4] + am[0, 4])*b_z*d_z + b_z*A_z**5*z_0 + zrefm)**(-1), zref*b_z*A_z**3*d_z))]]), b_y*A_y**2*d_y*Matrix([[(F2xCO2/log(2))*(HadamardProduct(1/zref*((a[0, 0] + am[0, 0])*b_z*A_z**2*d_z + (a[0, 1] + am[0, 1])*b_z*A_z*d_z + (a[0, 2] + am[0, 2])*b_z*d_z + b_z*A_z**3*z_0 + zrefm)**(-1), zref*b_z*d_z))]]) + b_y*A_y*d_y*Matrix([[(F2xCO2/log(2))*(HadamardProduct(1/zref*((a[0, 0] + am[0, 0])*b_z*A_z**3*d_z + (a[0, 1] + am[0, 1])*b_z*A_z**2*d_z + (a[0, 2] + am[0, 2])*b_z*A_z*d_z + (a[0, 3] + am[0, 3])*b_z*d_z + b_z*A_z**4*z_0 + zrefm)**(-1), zref*b_z*A_z*d_z))]]) + b_y*d_y*Matrix([[(F2xCO2/log(2))*(HadamardProduct(1/zref*((a[0, 0] + am[0, 0])*b_z*A_z**4*d_z + (a[0, 1] + am[0, 1])*b_z*A_z**3*d_z + (a[0, 2] + am[0, 2])*b_z*A_z**2*d_z + (a[0, 3] + am[0, 3])*b_z*A_z*d_z + (a[0, 4] + am[0, 4])*b_z*d_z + b_z*A_z**5*z_0 + zrefm)**(-1), zref*b_z*A_z**2*d_z))]]), b_y*A_y*d_y*Matrix([[(F2xCO2/log(2))*(HadamardProduct(1/zref*((a[0, 0] + am[0, 0])*b_z*A_z**3*d_z + (a[0, 1] + am[0, 1])*b_z*A_z**2*d_z + (a[0, 2] + am[0, 2])*b_z*A_z*d_z + (a[0, 3] + am[0, 3])*b_z*d_z + b_z*A_z**4*z_0 + zrefm)**(-1), zref*b_z*d_z))]]) + b_y*d_y*Matrix([[(F2xCO2/log(2))*(HadamardProduct(1/zref*((a[0, 0] + am[0, 0])*b_z*A_z**4*d_z + (a[0, 1] + am[0, 1])*b_z*A_z**3*d_z + (a[0, 2] + am[0, 2])*b_z*A_z**2*d_z + (a[0, 3] + am[0, 3])*b_z*A_z*d_z + (a[0, 4] + am[0, 4])*b_z*d_z + b_z*A_z**5*z_0 + zrefm)**(-1), zref*b_z*A_z*d_z))]]), b_y*d_y*Matrix([[(F2xCO2/log(2))*(HadamardProduct(1/zref*((a[0, 0] + am[0, 0])*b_z*A_z**4*d_z + (a[0, 1] + am[0, 1])*b_z*A_z**3*d_z + (a[0, 2] + am[0, 2])*b_z*A_z**2*d_z + (a[0, 3] + am[0, 3])*b_z*A_z*d_z + (a[0, 4] + am[0, 4])*b_z*d_z + b_z*A_z**5*z_0 + zrefm)**(-1), zref*b_z*d_z))]])]])"
      ]
     },
     "execution_count": 147,
     "metadata": {},
     "output_type": "execute_result"
    }
   ],
   "source": [
    "jac_rewritte"
   ]
  },
  {
   "cell_type": "code",
   "execution_count": 130,
   "metadata": {},
   "outputs": [
    {
     "data": {
      "text/latex": [
       "$\\displaystyle \\left[\\begin{matrix}b_{y} d_{y} \\left[\\begin{matrix}\\frac{F2xCO2}{\\log{\\left(2 \\right)}} \\left(\\left(\\frac{1}{zref} \\left(b_{z} \\left(\\left(a_{0, 0} + am_{0, 0}\\right) d_{z} + A_{z} z_{0}\\right) + zrefm\\right)^{-1}\\right) \\circ \\left(zref b_{z} d_{z}\\right)\\right)\\end{matrix}\\right] & 0 & 0 & 0 & 0\\\\b_{y} \\left(A_{y} d_{y} \\left[\\begin{matrix}\\frac{F2xCO2}{\\log{\\left(2 \\right)}} \\left(\\left(\\frac{1}{zref} \\left(b_{z} \\left(\\left(a_{0, 0} + am_{0, 0}\\right) d_{z} + A_{z} z_{0}\\right) + zrefm\\right)^{-1}\\right) \\circ \\left(zref b_{z} d_{z}\\right)\\right)\\end{matrix}\\right] + d_{y} \\left[\\begin{matrix}\\frac{F2xCO2}{\\log{\\left(2 \\right)}} \\left(\\left(\\frac{1}{zref} \\left(b_{z} \\left(\\left(a_{0, 1} + am_{0, 1}\\right) d_{z} + A_{z} \\left(\\left(a_{0, 0} + am_{0, 0}\\right) d_{z} + A_{z} z_{0}\\right)\\right) + zrefm\\right)^{-1}\\right) \\circ \\left(zref b_{z} A_{z} d_{z}\\right)\\right)\\end{matrix}\\right]\\right) & b_{y} d_{y} \\left[\\begin{matrix}\\frac{F2xCO2}{\\log{\\left(2 \\right)}} \\left(\\left(\\frac{1}{zref} \\left(b_{z} \\left(\\left(a_{0, 1} + am_{0, 1}\\right) d_{z} + A_{z} \\left(\\left(a_{0, 0} + am_{0, 0}\\right) d_{z} + A_{z} z_{0}\\right)\\right) + zrefm\\right)^{-1}\\right) \\circ \\left(zref b_{z} d_{z}\\right)\\right)\\end{matrix}\\right] & 0 & 0 & 0\\\\b_{y} \\left(A_{y} \\left(A_{y} d_{y} \\left[\\begin{matrix}\\frac{F2xCO2}{\\log{\\left(2 \\right)}} \\left(\\left(\\frac{1}{zref} \\left(b_{z} \\left(\\left(a_{0, 0} + am_{0, 0}\\right) d_{z} + A_{z} z_{0}\\right) + zrefm\\right)^{-1}\\right) \\circ \\left(zref b_{z} d_{z}\\right)\\right)\\end{matrix}\\right] + d_{y} \\left[\\begin{matrix}\\frac{F2xCO2}{\\log{\\left(2 \\right)}} \\left(\\left(\\frac{1}{zref} \\left(b_{z} \\left(\\left(a_{0, 1} + am_{0, 1}\\right) d_{z} + A_{z} \\left(\\left(a_{0, 0} + am_{0, 0}\\right) d_{z} + A_{z} z_{0}\\right)\\right) + zrefm\\right)^{-1}\\right) \\circ \\left(zref b_{z} A_{z} d_{z}\\right)\\right)\\end{matrix}\\right]\\right) + d_{y} \\left[\\begin{matrix}\\frac{F2xCO2}{\\log{\\left(2 \\right)}} \\left(\\left(\\frac{1}{zref} \\left(b_{z} \\left(\\left(a_{0, 2} + am_{0, 2}\\right) d_{z} + A_{z} \\left(\\left(a_{0, 1} + am_{0, 1}\\right) d_{z} + A_{z} \\left(\\left(a_{0, 0} + am_{0, 0}\\right) d_{z} + A_{z} z_{0}\\right)\\right)\\right) + zrefm\\right)^{-1}\\right) \\circ \\left(zref b_{z} A_{z}^{2} d_{z}\\right)\\right)\\end{matrix}\\right]\\right) & b_{y} \\left(A_{y} d_{y} \\left[\\begin{matrix}\\frac{F2xCO2}{\\log{\\left(2 \\right)}} \\left(\\left(\\frac{1}{zref} \\left(b_{z} \\left(\\left(a_{0, 1} + am_{0, 1}\\right) d_{z} + A_{z} \\left(\\left(a_{0, 0} + am_{0, 0}\\right) d_{z} + A_{z} z_{0}\\right)\\right) + zrefm\\right)^{-1}\\right) \\circ \\left(zref b_{z} d_{z}\\right)\\right)\\end{matrix}\\right] + d_{y} \\left[\\begin{matrix}\\frac{F2xCO2}{\\log{\\left(2 \\right)}} \\left(\\left(\\frac{1}{zref} \\left(b_{z} \\left(\\left(a_{0, 2} + am_{0, 2}\\right) d_{z} + A_{z} \\left(\\left(a_{0, 1} + am_{0, 1}\\right) d_{z} + A_{z} \\left(\\left(a_{0, 0} + am_{0, 0}\\right) d_{z} + A_{z} z_{0}\\right)\\right)\\right) + zrefm\\right)^{-1}\\right) \\circ \\left(zref b_{z} A_{z} d_{z}\\right)\\right)\\end{matrix}\\right]\\right) & b_{y} d_{y} \\left[\\begin{matrix}\\frac{F2xCO2}{\\log{\\left(2 \\right)}} \\left(\\left(\\frac{1}{zref} \\left(b_{z} \\left(\\left(a_{0, 2} + am_{0, 2}\\right) d_{z} + A_{z} \\left(\\left(a_{0, 1} + am_{0, 1}\\right) d_{z} + A_{z} \\left(\\left(a_{0, 0} + am_{0, 0}\\right) d_{z} + A_{z} z_{0}\\right)\\right)\\right) + zrefm\\right)^{-1}\\right) \\circ \\left(zref b_{z} d_{z}\\right)\\right)\\end{matrix}\\right] & 0 & 0\\\\b_{y} \\left(A_{y} \\left(A_{y} \\left(A_{y} d_{y} \\left[\\begin{matrix}\\frac{F2xCO2}{\\log{\\left(2 \\right)}} \\left(\\left(\\frac{1}{zref} \\left(b_{z} \\left(\\left(a_{0, 0} + am_{0, 0}\\right) d_{z} + A_{z} z_{0}\\right) + zrefm\\right)^{-1}\\right) \\circ \\left(zref b_{z} d_{z}\\right)\\right)\\end{matrix}\\right] + d_{y} \\left[\\begin{matrix}\\frac{F2xCO2}{\\log{\\left(2 \\right)}} \\left(\\left(\\frac{1}{zref} \\left(b_{z} \\left(\\left(a_{0, 1} + am_{0, 1}\\right) d_{z} + A_{z} \\left(\\left(a_{0, 0} + am_{0, 0}\\right) d_{z} + A_{z} z_{0}\\right)\\right) + zrefm\\right)^{-1}\\right) \\circ \\left(zref b_{z} A_{z} d_{z}\\right)\\right)\\end{matrix}\\right]\\right) + d_{y} \\left[\\begin{matrix}\\frac{F2xCO2}{\\log{\\left(2 \\right)}} \\left(\\left(\\frac{1}{zref} \\left(b_{z} \\left(\\left(a_{0, 2} + am_{0, 2}\\right) d_{z} + A_{z} \\left(\\left(a_{0, 1} + am_{0, 1}\\right) d_{z} + A_{z} \\left(\\left(a_{0, 0} + am_{0, 0}\\right) d_{z} + A_{z} z_{0}\\right)\\right)\\right) + zrefm\\right)^{-1}\\right) \\circ \\left(zref b_{z} A_{z}^{2} d_{z}\\right)\\right)\\end{matrix}\\right]\\right) + d_{y} \\left[\\begin{matrix}\\frac{F2xCO2}{\\log{\\left(2 \\right)}} \\left(\\left(\\frac{1}{zref} \\left(b_{z} \\left(\\left(a_{0, 3} + am_{0, 3}\\right) d_{z} + A_{z} \\left(\\left(a_{0, 2} + am_{0, 2}\\right) d_{z} + A_{z} \\left(\\left(a_{0, 1} + am_{0, 1}\\right) d_{z} + A_{z} \\left(\\left(a_{0, 0} + am_{0, 0}\\right) d_{z} + A_{z} z_{0}\\right)\\right)\\right)\\right) + zrefm\\right)^{-1}\\right) \\circ \\left(zref b_{z} A_{z}^{3} d_{z}\\right)\\right)\\end{matrix}\\right]\\right) & b_{y} \\left(A_{y} \\left(A_{y} d_{y} \\left[\\begin{matrix}\\frac{F2xCO2}{\\log{\\left(2 \\right)}} \\left(\\left(\\frac{1}{zref} \\left(b_{z} \\left(\\left(a_{0, 1} + am_{0, 1}\\right) d_{z} + A_{z} \\left(\\left(a_{0, 0} + am_{0, 0}\\right) d_{z} + A_{z} z_{0}\\right)\\right) + zrefm\\right)^{-1}\\right) \\circ \\left(zref b_{z} d_{z}\\right)\\right)\\end{matrix}\\right] + d_{y} \\left[\\begin{matrix}\\frac{F2xCO2}{\\log{\\left(2 \\right)}} \\left(\\left(\\frac{1}{zref} \\left(b_{z} \\left(\\left(a_{0, 2} + am_{0, 2}\\right) d_{z} + A_{z} \\left(\\left(a_{0, 1} + am_{0, 1}\\right) d_{z} + A_{z} \\left(\\left(a_{0, 0} + am_{0, 0}\\right) d_{z} + A_{z} z_{0}\\right)\\right)\\right) + zrefm\\right)^{-1}\\right) \\circ \\left(zref b_{z} A_{z} d_{z}\\right)\\right)\\end{matrix}\\right]\\right) + d_{y} \\left[\\begin{matrix}\\frac{F2xCO2}{\\log{\\left(2 \\right)}} \\left(\\left(\\frac{1}{zref} \\left(b_{z} \\left(\\left(a_{0, 3} + am_{0, 3}\\right) d_{z} + A_{z} \\left(\\left(a_{0, 2} + am_{0, 2}\\right) d_{z} + A_{z} \\left(\\left(a_{0, 1} + am_{0, 1}\\right) d_{z} + A_{z} \\left(\\left(a_{0, 0} + am_{0, 0}\\right) d_{z} + A_{z} z_{0}\\right)\\right)\\right)\\right) + zrefm\\right)^{-1}\\right) \\circ \\left(zref b_{z} A_{z}^{2} d_{z}\\right)\\right)\\end{matrix}\\right]\\right) & b_{y} \\left(A_{y} d_{y} \\left[\\begin{matrix}\\frac{F2xCO2}{\\log{\\left(2 \\right)}} \\left(\\left(\\frac{1}{zref} \\left(b_{z} \\left(\\left(a_{0, 2} + am_{0, 2}\\right) d_{z} + A_{z} \\left(\\left(a_{0, 1} + am_{0, 1}\\right) d_{z} + A_{z} \\left(\\left(a_{0, 0} + am_{0, 0}\\right) d_{z} + A_{z} z_{0}\\right)\\right)\\right) + zrefm\\right)^{-1}\\right) \\circ \\left(zref b_{z} d_{z}\\right)\\right)\\end{matrix}\\right] + d_{y} \\left[\\begin{matrix}\\frac{F2xCO2}{\\log{\\left(2 \\right)}} \\left(\\left(\\frac{1}{zref} \\left(b_{z} \\left(\\left(a_{0, 3} + am_{0, 3}\\right) d_{z} + A_{z} \\left(\\left(a_{0, 2} + am_{0, 2}\\right) d_{z} + A_{z} \\left(\\left(a_{0, 1} + am_{0, 1}\\right) d_{z} + A_{z} \\left(\\left(a_{0, 0} + am_{0, 0}\\right) d_{z} + A_{z} z_{0}\\right)\\right)\\right)\\right) + zrefm\\right)^{-1}\\right) \\circ \\left(zref b_{z} A_{z} d_{z}\\right)\\right)\\end{matrix}\\right]\\right) & b_{y} d_{y} \\left[\\begin{matrix}\\frac{F2xCO2}{\\log{\\left(2 \\right)}} \\left(\\left(\\frac{1}{zref} \\left(b_{z} \\left(\\left(a_{0, 3} + am_{0, 3}\\right) d_{z} + A_{z} \\left(\\left(a_{0, 2} + am_{0, 2}\\right) d_{z} + A_{z} \\left(\\left(a_{0, 1} + am_{0, 1}\\right) d_{z} + A_{z} \\left(\\left(a_{0, 0} + am_{0, 0}\\right) d_{z} + A_{z} z_{0}\\right)\\right)\\right)\\right) + zrefm\\right)^{-1}\\right) \\circ \\left(zref b_{z} d_{z}\\right)\\right)\\end{matrix}\\right] & 0\\\\b_{y} \\left(A_{y} \\left(A_{y} \\left(A_{y} \\left(A_{y} d_{y} \\left[\\begin{matrix}\\frac{F2xCO2}{\\log{\\left(2 \\right)}} \\left(\\left(\\frac{1}{zref} \\left(b_{z} \\left(\\left(a_{0, 0} + am_{0, 0}\\right) d_{z} + A_{z} z_{0}\\right) + zrefm\\right)^{-1}\\right) \\circ \\left(zref b_{z} d_{z}\\right)\\right)\\end{matrix}\\right] + d_{y} \\left[\\begin{matrix}\\frac{F2xCO2}{\\log{\\left(2 \\right)}} \\left(\\left(\\frac{1}{zref} \\left(b_{z} \\left(\\left(a_{0, 1} + am_{0, 1}\\right) d_{z} + A_{z} \\left(\\left(a_{0, 0} + am_{0, 0}\\right) d_{z} + A_{z} z_{0}\\right)\\right) + zrefm\\right)^{-1}\\right) \\circ \\left(zref b_{z} A_{z} d_{z}\\right)\\right)\\end{matrix}\\right]\\right) + d_{y} \\left[\\begin{matrix}\\frac{F2xCO2}{\\log{\\left(2 \\right)}} \\left(\\left(\\frac{1}{zref} \\left(b_{z} \\left(\\left(a_{0, 2} + am_{0, 2}\\right) d_{z} + A_{z} \\left(\\left(a_{0, 1} + am_{0, 1}\\right) d_{z} + A_{z} \\left(\\left(a_{0, 0} + am_{0, 0}\\right) d_{z} + A_{z} z_{0}\\right)\\right)\\right) + zrefm\\right)^{-1}\\right) \\circ \\left(zref b_{z} A_{z}^{2} d_{z}\\right)\\right)\\end{matrix}\\right]\\right) + d_{y} \\left[\\begin{matrix}\\frac{F2xCO2}{\\log{\\left(2 \\right)}} \\left(\\left(\\frac{1}{zref} \\left(b_{z} \\left(\\left(a_{0, 3} + am_{0, 3}\\right) d_{z} + A_{z} \\left(\\left(a_{0, 2} + am_{0, 2}\\right) d_{z} + A_{z} \\left(\\left(a_{0, 1} + am_{0, 1}\\right) d_{z} + A_{z} \\left(\\left(a_{0, 0} + am_{0, 0}\\right) d_{z} + A_{z} z_{0}\\right)\\right)\\right)\\right) + zrefm\\right)^{-1}\\right) \\circ \\left(zref b_{z} A_{z}^{3} d_{z}\\right)\\right)\\end{matrix}\\right]\\right) + d_{y} \\left[\\begin{matrix}\\frac{F2xCO2}{\\log{\\left(2 \\right)}} \\left(\\left(\\frac{1}{zref} \\left(b_{z} \\left(\\left(a_{0, 4} + am_{0, 4}\\right) d_{z} + A_{z} \\left(\\left(a_{0, 3} + am_{0, 3}\\right) d_{z} + A_{z} \\left(\\left(a_{0, 2} + am_{0, 2}\\right) d_{z} + A_{z} \\left(\\left(a_{0, 1} + am_{0, 1}\\right) d_{z} + A_{z} \\left(\\left(a_{0, 0} + am_{0, 0}\\right) d_{z} + A_{z} z_{0}\\right)\\right)\\right)\\right)\\right) + zrefm\\right)^{-1}\\right) \\circ \\left(zref b_{z} A_{z}^{4} d_{z}\\right)\\right)\\end{matrix}\\right]\\right) & b_{y} \\left(A_{y} \\left(A_{y} \\left(A_{y} d_{y} \\left[\\begin{matrix}\\frac{F2xCO2}{\\log{\\left(2 \\right)}} \\left(\\left(\\frac{1}{zref} \\left(b_{z} \\left(\\left(a_{0, 1} + am_{0, 1}\\right) d_{z} + A_{z} \\left(\\left(a_{0, 0} + am_{0, 0}\\right) d_{z} + A_{z} z_{0}\\right)\\right) + zrefm\\right)^{-1}\\right) \\circ \\left(zref b_{z} d_{z}\\right)\\right)\\end{matrix}\\right] + d_{y} \\left[\\begin{matrix}\\frac{F2xCO2}{\\log{\\left(2 \\right)}} \\left(\\left(\\frac{1}{zref} \\left(b_{z} \\left(\\left(a_{0, 2} + am_{0, 2}\\right) d_{z} + A_{z} \\left(\\left(a_{0, 1} + am_{0, 1}\\right) d_{z} + A_{z} \\left(\\left(a_{0, 0} + am_{0, 0}\\right) d_{z} + A_{z} z_{0}\\right)\\right)\\right) + zrefm\\right)^{-1}\\right) \\circ \\left(zref b_{z} A_{z} d_{z}\\right)\\right)\\end{matrix}\\right]\\right) + d_{y} \\left[\\begin{matrix}\\frac{F2xCO2}{\\log{\\left(2 \\right)}} \\left(\\left(\\frac{1}{zref} \\left(b_{z} \\left(\\left(a_{0, 3} + am_{0, 3}\\right) d_{z} + A_{z} \\left(\\left(a_{0, 2} + am_{0, 2}\\right) d_{z} + A_{z} \\left(\\left(a_{0, 1} + am_{0, 1}\\right) d_{z} + A_{z} \\left(\\left(a_{0, 0} + am_{0, 0}\\right) d_{z} + A_{z} z_{0}\\right)\\right)\\right)\\right) + zrefm\\right)^{-1}\\right) \\circ \\left(zref b_{z} A_{z}^{2} d_{z}\\right)\\right)\\end{matrix}\\right]\\right) + d_{y} \\left[\\begin{matrix}\\frac{F2xCO2}{\\log{\\left(2 \\right)}} \\left(\\left(\\frac{1}{zref} \\left(b_{z} \\left(\\left(a_{0, 4} + am_{0, 4}\\right) d_{z} + A_{z} \\left(\\left(a_{0, 3} + am_{0, 3}\\right) d_{z} + A_{z} \\left(\\left(a_{0, 2} + am_{0, 2}\\right) d_{z} + A_{z} \\left(\\left(a_{0, 1} + am_{0, 1}\\right) d_{z} + A_{z} \\left(\\left(a_{0, 0} + am_{0, 0}\\right) d_{z} + A_{z} z_{0}\\right)\\right)\\right)\\right)\\right) + zrefm\\right)^{-1}\\right) \\circ \\left(zref b_{z} A_{z}^{3} d_{z}\\right)\\right)\\end{matrix}\\right]\\right) & b_{y} \\left(A_{y} \\left(A_{y} d_{y} \\left[\\begin{matrix}\\frac{F2xCO2}{\\log{\\left(2 \\right)}} \\left(\\left(\\frac{1}{zref} \\left(b_{z} \\left(\\left(a_{0, 2} + am_{0, 2}\\right) d_{z} + A_{z} \\left(\\left(a_{0, 1} + am_{0, 1}\\right) d_{z} + A_{z} \\left(\\left(a_{0, 0} + am_{0, 0}\\right) d_{z} + A_{z} z_{0}\\right)\\right)\\right) + zrefm\\right)^{-1}\\right) \\circ \\left(zref b_{z} d_{z}\\right)\\right)\\end{matrix}\\right] + d_{y} \\left[\\begin{matrix}\\frac{F2xCO2}{\\log{\\left(2 \\right)}} \\left(\\left(\\frac{1}{zref} \\left(b_{z} \\left(\\left(a_{0, 3} + am_{0, 3}\\right) d_{z} + A_{z} \\left(\\left(a_{0, 2} + am_{0, 2}\\right) d_{z} + A_{z} \\left(\\left(a_{0, 1} + am_{0, 1}\\right) d_{z} + A_{z} \\left(\\left(a_{0, 0} + am_{0, 0}\\right) d_{z} + A_{z} z_{0}\\right)\\right)\\right)\\right) + zrefm\\right)^{-1}\\right) \\circ \\left(zref b_{z} A_{z} d_{z}\\right)\\right)\\end{matrix}\\right]\\right) + d_{y} \\left[\\begin{matrix}\\frac{F2xCO2}{\\log{\\left(2 \\right)}} \\left(\\left(\\frac{1}{zref} \\left(b_{z} \\left(\\left(a_{0, 4} + am_{0, 4}\\right) d_{z} + A_{z} \\left(\\left(a_{0, 3} + am_{0, 3}\\right) d_{z} + A_{z} \\left(\\left(a_{0, 2} + am_{0, 2}\\right) d_{z} + A_{z} \\left(\\left(a_{0, 1} + am_{0, 1}\\right) d_{z} + A_{z} \\left(\\left(a_{0, 0} + am_{0, 0}\\right) d_{z} + A_{z} z_{0}\\right)\\right)\\right)\\right)\\right) + zrefm\\right)^{-1}\\right) \\circ \\left(zref b_{z} A_{z}^{2} d_{z}\\right)\\right)\\end{matrix}\\right]\\right) & b_{y} \\left(A_{y} d_{y} \\left[\\begin{matrix}\\frac{F2xCO2}{\\log{\\left(2 \\right)}} \\left(\\left(\\frac{1}{zref} \\left(b_{z} \\left(\\left(a_{0, 3} + am_{0, 3}\\right) d_{z} + A_{z} \\left(\\left(a_{0, 2} + am_{0, 2}\\right) d_{z} + A_{z} \\left(\\left(a_{0, 1} + am_{0, 1}\\right) d_{z} + A_{z} \\left(\\left(a_{0, 0} + am_{0, 0}\\right) d_{z} + A_{z} z_{0}\\right)\\right)\\right)\\right) + zrefm\\right)^{-1}\\right) \\circ \\left(zref b_{z} d_{z}\\right)\\right)\\end{matrix}\\right] + d_{y} \\left[\\begin{matrix}\\frac{F2xCO2}{\\log{\\left(2 \\right)}} \\left(\\left(\\frac{1}{zref} \\left(b_{z} \\left(\\left(a_{0, 4} + am_{0, 4}\\right) d_{z} + A_{z} \\left(\\left(a_{0, 3} + am_{0, 3}\\right) d_{z} + A_{z} \\left(\\left(a_{0, 2} + am_{0, 2}\\right) d_{z} + A_{z} \\left(\\left(a_{0, 1} + am_{0, 1}\\right) d_{z} + A_{z} \\left(\\left(a_{0, 0} + am_{0, 0}\\right) d_{z} + A_{z} z_{0}\\right)\\right)\\right)\\right)\\right) + zrefm\\right)^{-1}\\right) \\circ \\left(zref b_{z} A_{z} d_{z}\\right)\\right)\\end{matrix}\\right]\\right) & b_{y} d_{y} \\left[\\begin{matrix}\\frac{F2xCO2}{\\log{\\left(2 \\right)}} \\left(\\left(\\frac{1}{zref} \\left(b_{z} \\left(\\left(a_{0, 4} + am_{0, 4}\\right) d_{z} + A_{z} \\left(\\left(a_{0, 3} + am_{0, 3}\\right) d_{z} + A_{z} \\left(\\left(a_{0, 2} + am_{0, 2}\\right) d_{z} + A_{z} \\left(\\left(a_{0, 1} + am_{0, 1}\\right) d_{z} + A_{z} \\left(\\left(a_{0, 0} + am_{0, 0}\\right) d_{z} + A_{z} z_{0}\\right)\\right)\\right)\\right)\\right) + zrefm\\right)^{-1}\\right) \\circ \\left(zref b_{z} d_{z}\\right)\\right)\\end{matrix}\\right]\\end{matrix}\\right]$"
      ],
      "text/plain": [
       "Matrix([\n",
       "[                                                                                                                                                                                                                                                                                                                                                                                                                                                                                                                                                                                                                                                                                                                                                                                                                                                                                                                                       b_y*d_y*Matrix([[(F2xCO2/log(2))*(HadamardProduct(1/zref*(b_z*((a[0, 0] + am[0, 0])*d_z + A_z*z_0) + zrefm)**(-1), zref*b_z*d_z))]]),                                                                                                                                                                                                                                                                                                                                                                                                                                                                                                                                                                                                                                                                                                                                                                                                                                                                                                                           0,                                                                                                                                                                                                                                                                                                                                                                                                                                                                                                                                                                                                                                                                                                                                          0,                                                                                                                                                                                                                                                                                                                                                                                                                                                                                                                        0,                                                                                                                                                                                                                                                                        0],\n",
       "[                                                                                                                                                                                                                                                                                                                                                                                                                                                                                                                                                                                                                                                                                                                                                         b_y*(A_y*d_y*Matrix([[(F2xCO2/log(2))*(HadamardProduct(1/zref*(b_z*((a[0, 0] + am[0, 0])*d_z + A_z*z_0) + zrefm)**(-1), zref*b_z*d_z))]]) + d_y*Matrix([[(F2xCO2/log(2))*(HadamardProduct(1/zref*(b_z*((a[0, 1] + am[0, 1])*d_z + A_z*((a[0, 0] + am[0, 0])*d_z + A_z*z_0)) + zrefm)**(-1), zref*b_z*A_z*d_z))]])),                                                                                                                                                                                                                                                                                                                                                                                                                                                                                                                                                                                                                                                                                                                                                       b_y*d_y*Matrix([[(F2xCO2/log(2))*(HadamardProduct(1/zref*(b_z*((a[0, 1] + am[0, 1])*d_z + A_z*((a[0, 0] + am[0, 0])*d_z + A_z*z_0)) + zrefm)**(-1), zref*b_z*d_z))]]),                                                                                                                                                                                                                                                                                                                                                                                                                                                                                                                                                                                                                                                                                                                                          0,                                                                                                                                                                                                                                                                                                                                                                                                                                                                                                                        0,                                                                                                                                                                                                                                                                        0],\n",
       "[                                                                                                                                                                                                                                                                                                                                                                                                                                                                                                                                       b_y*(A_y*(A_y*d_y*Matrix([[(F2xCO2/log(2))*(HadamardProduct(1/zref*(b_z*((a[0, 0] + am[0, 0])*d_z + A_z*z_0) + zrefm)**(-1), zref*b_z*d_z))]]) + d_y*Matrix([[(F2xCO2/log(2))*(HadamardProduct(1/zref*(b_z*((a[0, 1] + am[0, 1])*d_z + A_z*((a[0, 0] + am[0, 0])*d_z + A_z*z_0)) + zrefm)**(-1), zref*b_z*A_z*d_z))]])) + d_y*Matrix([[(F2xCO2/log(2))*(HadamardProduct(1/zref*(b_z*((a[0, 2] + am[0, 2])*d_z + A_z*((a[0, 1] + am[0, 1])*d_z + A_z*((a[0, 0] + am[0, 0])*d_z + A_z*z_0))) + zrefm)**(-1), zref*b_z*A_z**2*d_z))]])),                                                                                                                                                                                                                                                                                                                                                                                                                                                                                                                                        b_y*(A_y*d_y*Matrix([[(F2xCO2/log(2))*(HadamardProduct(1/zref*(b_z*((a[0, 1] + am[0, 1])*d_z + A_z*((a[0, 0] + am[0, 0])*d_z + A_z*z_0)) + zrefm)**(-1), zref*b_z*d_z))]]) + d_y*Matrix([[(F2xCO2/log(2))*(HadamardProduct(1/zref*(b_z*((a[0, 2] + am[0, 2])*d_z + A_z*((a[0, 1] + am[0, 1])*d_z + A_z*((a[0, 0] + am[0, 0])*d_z + A_z*z_0))) + zrefm)**(-1), zref*b_z*A_z*d_z))]])),                                                                                                                                                                                                                                                                                                                                                                                                                                                                                                                                     b_y*d_y*Matrix([[(F2xCO2/log(2))*(HadamardProduct(1/zref*(b_z*((a[0, 2] + am[0, 2])*d_z + A_z*((a[0, 1] + am[0, 1])*d_z + A_z*((a[0, 0] + am[0, 0])*d_z + A_z*z_0))) + zrefm)**(-1), zref*b_z*d_z))]]),                                                                                                                                                                                                                                                                                                                                                                                                                                                                                                                        0,                                                                                                                                                                                                                                                                        0],\n",
       "[                                                                                                                                                                                                                                                                                    b_y*(A_y*(A_y*(A_y*d_y*Matrix([[(F2xCO2/log(2))*(HadamardProduct(1/zref*(b_z*((a[0, 0] + am[0, 0])*d_z + A_z*z_0) + zrefm)**(-1), zref*b_z*d_z))]]) + d_y*Matrix([[(F2xCO2/log(2))*(HadamardProduct(1/zref*(b_z*((a[0, 1] + am[0, 1])*d_z + A_z*((a[0, 0] + am[0, 0])*d_z + A_z*z_0)) + zrefm)**(-1), zref*b_z*A_z*d_z))]])) + d_y*Matrix([[(F2xCO2/log(2))*(HadamardProduct(1/zref*(b_z*((a[0, 2] + am[0, 2])*d_z + A_z*((a[0, 1] + am[0, 1])*d_z + A_z*((a[0, 0] + am[0, 0])*d_z + A_z*z_0))) + zrefm)**(-1), zref*b_z*A_z**2*d_z))]])) + d_y*Matrix([[(F2xCO2/log(2))*(HadamardProduct(1/zref*(b_z*((a[0, 3] + am[0, 3])*d_z + A_z*((a[0, 2] + am[0, 2])*d_z + A_z*((a[0, 1] + am[0, 1])*d_z + A_z*((a[0, 0] + am[0, 0])*d_z + A_z*z_0)))) + zrefm)**(-1), zref*b_z*A_z**3*d_z))]])),                                                                                                                                                                                                                                                                                     b_y*(A_y*(A_y*d_y*Matrix([[(F2xCO2/log(2))*(HadamardProduct(1/zref*(b_z*((a[0, 1] + am[0, 1])*d_z + A_z*((a[0, 0] + am[0, 0])*d_z + A_z*z_0)) + zrefm)**(-1), zref*b_z*d_z))]]) + d_y*Matrix([[(F2xCO2/log(2))*(HadamardProduct(1/zref*(b_z*((a[0, 2] + am[0, 2])*d_z + A_z*((a[0, 1] + am[0, 1])*d_z + A_z*((a[0, 0] + am[0, 0])*d_z + A_z*z_0))) + zrefm)**(-1), zref*b_z*A_z*d_z))]])) + d_y*Matrix([[(F2xCO2/log(2))*(HadamardProduct(1/zref*(b_z*((a[0, 3] + am[0, 3])*d_z + A_z*((a[0, 2] + am[0, 2])*d_z + A_z*((a[0, 1] + am[0, 1])*d_z + A_z*((a[0, 0] + am[0, 0])*d_z + A_z*z_0)))) + zrefm)**(-1), zref*b_z*A_z**2*d_z))]])),                                                                                                                                                                                                                                                                                     b_y*(A_y*d_y*Matrix([[(F2xCO2/log(2))*(HadamardProduct(1/zref*(b_z*((a[0, 2] + am[0, 2])*d_z + A_z*((a[0, 1] + am[0, 1])*d_z + A_z*((a[0, 0] + am[0, 0])*d_z + A_z*z_0))) + zrefm)**(-1), zref*b_z*d_z))]]) + d_y*Matrix([[(F2xCO2/log(2))*(HadamardProduct(1/zref*(b_z*((a[0, 3] + am[0, 3])*d_z + A_z*((a[0, 2] + am[0, 2])*d_z + A_z*((a[0, 1] + am[0, 1])*d_z + A_z*((a[0, 0] + am[0, 0])*d_z + A_z*z_0)))) + zrefm)**(-1), zref*b_z*A_z*d_z))]])),                                                                                                                                                                                                                                                                                  b_y*d_y*Matrix([[(F2xCO2/log(2))*(HadamardProduct(1/zref*(b_z*((a[0, 3] + am[0, 3])*d_z + A_z*((a[0, 2] + am[0, 2])*d_z + A_z*((a[0, 1] + am[0, 1])*d_z + A_z*((a[0, 0] + am[0, 0])*d_z + A_z*z_0)))) + zrefm)**(-1), zref*b_z*d_z))]]),                                                                                                                                                                                                                                                                        0],\n",
       "[b_y*(A_y*(A_y*(A_y*(A_y*d_y*Matrix([[(F2xCO2/log(2))*(HadamardProduct(1/zref*(b_z*((a[0, 0] + am[0, 0])*d_z + A_z*z_0) + zrefm)**(-1), zref*b_z*d_z))]]) + d_y*Matrix([[(F2xCO2/log(2))*(HadamardProduct(1/zref*(b_z*((a[0, 1] + am[0, 1])*d_z + A_z*((a[0, 0] + am[0, 0])*d_z + A_z*z_0)) + zrefm)**(-1), zref*b_z*A_z*d_z))]])) + d_y*Matrix([[(F2xCO2/log(2))*(HadamardProduct(1/zref*(b_z*((a[0, 2] + am[0, 2])*d_z + A_z*((a[0, 1] + am[0, 1])*d_z + A_z*((a[0, 0] + am[0, 0])*d_z + A_z*z_0))) + zrefm)**(-1), zref*b_z*A_z**2*d_z))]])) + d_y*Matrix([[(F2xCO2/log(2))*(HadamardProduct(1/zref*(b_z*((a[0, 3] + am[0, 3])*d_z + A_z*((a[0, 2] + am[0, 2])*d_z + A_z*((a[0, 1] + am[0, 1])*d_z + A_z*((a[0, 0] + am[0, 0])*d_z + A_z*z_0)))) + zrefm)**(-1), zref*b_z*A_z**3*d_z))]])) + d_y*Matrix([[(F2xCO2/log(2))*(HadamardProduct(1/zref*(b_z*((a[0, 4] + am[0, 4])*d_z + A_z*((a[0, 3] + am[0, 3])*d_z + A_z*((a[0, 2] + am[0, 2])*d_z + A_z*((a[0, 1] + am[0, 1])*d_z + A_z*((a[0, 0] + am[0, 0])*d_z + A_z*z_0))))) + zrefm)**(-1), zref*b_z*A_z**4*d_z))]])), b_y*(A_y*(A_y*(A_y*d_y*Matrix([[(F2xCO2/log(2))*(HadamardProduct(1/zref*(b_z*((a[0, 1] + am[0, 1])*d_z + A_z*((a[0, 0] + am[0, 0])*d_z + A_z*z_0)) + zrefm)**(-1), zref*b_z*d_z))]]) + d_y*Matrix([[(F2xCO2/log(2))*(HadamardProduct(1/zref*(b_z*((a[0, 2] + am[0, 2])*d_z + A_z*((a[0, 1] + am[0, 1])*d_z + A_z*((a[0, 0] + am[0, 0])*d_z + A_z*z_0))) + zrefm)**(-1), zref*b_z*A_z*d_z))]])) + d_y*Matrix([[(F2xCO2/log(2))*(HadamardProduct(1/zref*(b_z*((a[0, 3] + am[0, 3])*d_z + A_z*((a[0, 2] + am[0, 2])*d_z + A_z*((a[0, 1] + am[0, 1])*d_z + A_z*((a[0, 0] + am[0, 0])*d_z + A_z*z_0)))) + zrefm)**(-1), zref*b_z*A_z**2*d_z))]])) + d_y*Matrix([[(F2xCO2/log(2))*(HadamardProduct(1/zref*(b_z*((a[0, 4] + am[0, 4])*d_z + A_z*((a[0, 3] + am[0, 3])*d_z + A_z*((a[0, 2] + am[0, 2])*d_z + A_z*((a[0, 1] + am[0, 1])*d_z + A_z*((a[0, 0] + am[0, 0])*d_z + A_z*z_0))))) + zrefm)**(-1), zref*b_z*A_z**3*d_z))]])), b_y*(A_y*(A_y*d_y*Matrix([[(F2xCO2/log(2))*(HadamardProduct(1/zref*(b_z*((a[0, 2] + am[0, 2])*d_z + A_z*((a[0, 1] + am[0, 1])*d_z + A_z*((a[0, 0] + am[0, 0])*d_z + A_z*z_0))) + zrefm)**(-1), zref*b_z*d_z))]]) + d_y*Matrix([[(F2xCO2/log(2))*(HadamardProduct(1/zref*(b_z*((a[0, 3] + am[0, 3])*d_z + A_z*((a[0, 2] + am[0, 2])*d_z + A_z*((a[0, 1] + am[0, 1])*d_z + A_z*((a[0, 0] + am[0, 0])*d_z + A_z*z_0)))) + zrefm)**(-1), zref*b_z*A_z*d_z))]])) + d_y*Matrix([[(F2xCO2/log(2))*(HadamardProduct(1/zref*(b_z*((a[0, 4] + am[0, 4])*d_z + A_z*((a[0, 3] + am[0, 3])*d_z + A_z*((a[0, 2] + am[0, 2])*d_z + A_z*((a[0, 1] + am[0, 1])*d_z + A_z*((a[0, 0] + am[0, 0])*d_z + A_z*z_0))))) + zrefm)**(-1), zref*b_z*A_z**2*d_z))]])), b_y*(A_y*d_y*Matrix([[(F2xCO2/log(2))*(HadamardProduct(1/zref*(b_z*((a[0, 3] + am[0, 3])*d_z + A_z*((a[0, 2] + am[0, 2])*d_z + A_z*((a[0, 1] + am[0, 1])*d_z + A_z*((a[0, 0] + am[0, 0])*d_z + A_z*z_0)))) + zrefm)**(-1), zref*b_z*d_z))]]) + d_y*Matrix([[(F2xCO2/log(2))*(HadamardProduct(1/zref*(b_z*((a[0, 4] + am[0, 4])*d_z + A_z*((a[0, 3] + am[0, 3])*d_z + A_z*((a[0, 2] + am[0, 2])*d_z + A_z*((a[0, 1] + am[0, 1])*d_z + A_z*((a[0, 0] + am[0, 0])*d_z + A_z*z_0))))) + zrefm)**(-1), zref*b_z*A_z*d_z))]])), b_y*d_y*Matrix([[(F2xCO2/log(2))*(HadamardProduct(1/zref*(b_z*((a[0, 4] + am[0, 4])*d_z + A_z*((a[0, 3] + am[0, 3])*d_z + A_z*((a[0, 2] + am[0, 2])*d_z + A_z*((a[0, 1] + am[0, 1])*d_z + A_z*((a[0, 0] + am[0, 0])*d_z + A_z*z_0))))) + zrefm)**(-1), zref*b_z*d_z))]])]])"
      ]
     },
     "execution_count": 130,
     "metadata": {},
     "output_type": "execute_result"
    }
   ],
   "source": [
    "y_AT.jacobian(a)"
   ]
  },
  {
   "cell_type": "code",
   "execution_count": 43,
   "metadata": {},
   "outputs": [],
   "source": [
    "y_AT_jac_ = lambdify([a, sum_other_a, b_y, d_y, A_y, b_z, d_z, A_z, z_0, y_0, F_2xCO2, z_ref, z_1750], jac_, \"numpy\", cse =True)"
   ]
  },
  {
   "cell_type": "code",
   "execution_count": 14,
   "metadata": {},
   "outputs": [],
   "source": [
    "y_AT_jac_rewritte = lambdify([a, sum_other_a, b_y, d_y, A_y, b_z, d_z, A_z, z_0, y_0, F_2xCO2, z_ref, z_1750], jac_rewritte, \"numpy\", cse =True)"
   ]
  },
  {
   "cell_type": "code",
   "execution_count": 45,
   "metadata": {},
   "outputs": [],
   "source": [
    "y_AT_jac = lambdify([a, sum_other_a, b_y, d_y, A_y, b_z, d_z, A_z, z_0, y_0, F_2xCO2, z_ref, z_1750], y_AT.jacobian(a), \"numpy\", cse =True)"
   ]
  },
  {
   "cell_type": "code",
   "execution_count": 42,
   "metadata": {},
   "outputs": [
    {
     "data": {
      "text/plain": [
       "array([[0.00283803, 0.        , 0.        , 0.        , 0.        ],\n",
       "       [0.00310997, 0.00285586, 0.        , 0.        , 0.        ],\n",
       "       [0.00298694, 0.00312664, 0.00287034, 0.        , 0.        ],\n",
       "       [0.00285767, 0.00300088, 0.00314086, 0.00288294, 0.        ],\n",
       "       [0.00276514, 0.00286957, 0.00301319, 0.00315352, 0.00289424]])"
      ]
     },
     "execution_count": 42,
     "metadata": {},
     "output_type": "execute_result"
    }
   ],
   "source": [
    "y_AT_jac_rewritte(\n",
    "    np.zeros_like(a),\n",
    "    np.zeros_like(sum_other_a),\n",
    "    np.array([TD.bt]), \n",
    "    np.array([TD.d5]).T, \n",
    "    TD.At5, \n",
    "    np.array([CC.bc]), \n",
    "    np.array([CC.dc5]).T, \n",
    "    CC.Ac5, \n",
    "    np.array([CC.initial_state]).T, \n",
    "    np.array([TD.initial_state]).T, \n",
    "    F_2XCO2, \n",
    "    C_1750,\n",
    "    np.array([[C_1750]])\n",
    ").squeeze()"
   ]
  },
  {
   "cell_type": "code",
   "execution_count": 13,
   "metadata": {},
   "outputs": [
    {
     "name": "stdout",
     "output_type": "stream",
     "text": [
      "Help on function _lambdifygenerated:\n",
      "\n",
      "_lambdifygenerated(a, am, by, dy, Ay, bz, dz, Az, z_0, y_0, F2xCO2, zref, zrefm)\n",
      "    Created with lambdify. Signature:\n",
      "    \n",
      "    func(a, am, by, dy, Ay, bz, dz, Az, z_0, y_0, F2xCO2, zref, zrefm)\n",
      "    \n",
      "    Expression:\n",
      "    \n",
      "    Matrix([[by*dy*Matrix([[(F2xCO2/log(2))*(HadamardProduct(1/zrefm[0,...\n",
      "    \n",
      "    Source code:\n",
      "    \n",
      "    def _lambdifygenerated(a, am, by, dy, Ay, bz, dz, Az, z_0, y_0, F2xCO2, zref, zrefm):\n",
      "        x0 = F2xCO2/log(2)\n",
      "        x1 = zrefm[0, 0]**(-1.0)\n",
      "        x2 = (bz).dot(dz)\n",
      "        x3 = (x2).dot(x1)\n",
      "        x4 = ((zrefm)).dot(x1)\n",
      "        x5 = x1*a[0, 0] + x1*am[0, 0]\n",
      "        x6 = ((multiply(x3, matrix_power(((bz).dot(Az).dot(z_0)).dot(x1) + (x2).dot(x5) + x4, -1)))).dot(x0)\n",
      "        x7 = zeros((1, 1))\n",
      "        x8 = (bz).dot(Az).dot(dz)\n",
      "        x9 = (x8).dot(x1)\n",
      "        x10 = matrix_power(Az, 2)\n",
      "        x11 = x1*a[0, 1] + x1*am[0, 1]\n",
      "        x12 = matrix_power(((bz).dot(x10).dot(z_0)).dot(x1) + (x2).dot(x11) + (x8).dot(x5) + x4, -1)\n",
      "        x13 = ((multiply(x9, x12))).dot(x0)\n",
      "        x14 = ((multiply(x3, x12))).dot(x0)\n",
      "        x15 = matrix_power(Ay, 2)\n",
      "        x16 = (bz).dot(x10).dot(dz)\n",
      "        x17 = (x16).dot(x1)\n",
      "        x18 = matrix_power(Az, 3)\n",
      "        x19 = x1*a[0, 2] + x1*am[0, 2]\n",
      "        x20 = matrix_power(((bz).dot(x18).dot(z_0)).dot(x1) + (x8).dot(x11) + (x2).dot(x19) + (x16).dot(x5) + x4, -1)\n",
      "        x21 = ((multiply(x17, x20))).dot(x0)\n",
      "        x22 = ((multiply(x9, x20))).dot(x0)\n",
      "        x23 = ((multiply(x3, x20))).dot(x0)\n",
      "        x24 = matrix_power(Ay, 3)\n",
      "        x25 = (bz).dot(x18).dot(dz)\n",
      "        x26 = (x25).dot(x1)\n",
      "        x27 = matrix_power(Az, 4)\n",
      "        x28 = x1*a[0, 3] + x1*am[0, 3]\n",
      "        x29 = matrix_power(((bz).dot(x27).dot(z_0)).dot(x1) + (x16).dot(x11) + (x8).dot(x19) + (x2).dot(x28) + (x25).dot(x5) + x4, -1)\n",
      "        x30 = ((multiply(x26, x29))).dot(x0)\n",
      "        x31 = ((multiply(x17, x29))).dot(x0)\n",
      "        x32 = ((multiply(x9, x29))).dot(x0)\n",
      "        x33 = ((multiply(x3, x29))).dot(x0)\n",
      "        x34 = (bz).dot(x27).dot(dz)\n",
      "        x35 = matrix_power(((bz).dot(matrix_power(Az, 5)).dot(z_0)).dot(x1) + (x25).dot(x11) + (x16).dot(x19) + (x8).dot(x28) + (x34).dot(x5) + (x2).dot(x1*a[0, 4] + x1*am[0, 4]) + x4, -1)\n",
      "        return array([[(by).dot(dy).dot(array([[x6[0, 0]]])), x7, x7, x7, x7], [(by).dot(Ay).dot(dy).dot(array([[x6[0, 0]]])) + (by).dot(dy).dot(array([[x13[0, 0]]])), (by).dot(dy).dot(array([[x14[0, 0]]])), x7, x7, x7], [(by).dot(Ay).dot(dy).dot(array([[x13[0, 0]]])) + (by).dot(dy).dot(array([[x21[0, 0]]])) + (by).dot(x15).dot(dy).dot(array([[x6[0, 0]]])), (by).dot(Ay).dot(dy).dot(array([[x14[0, 0]]])) + (by).dot(dy).dot(array([[x22[0, 0]]])), (by).dot(dy).dot(array([[x23[0, 0]]])), x7, x7], [(by).dot(Ay).dot(dy).dot(array([[x21[0, 0]]])) + (by).dot(dy).dot(array([[x30[0, 0]]])) + (by).dot(x15).dot(dy).dot(array([[x13[0, 0]]])) + (by).dot(x24).dot(dy).dot(array([[x6[0, 0]]])), (by).dot(Ay).dot(dy).dot(array([[x22[0, 0]]])) + (by).dot(dy).dot(array([[x31[0, 0]]])) + (by).dot(x15).dot(dy).dot(array([[x14[0, 0]]])), (by).dot(Ay).dot(dy).dot(array([[x23[0, 0]]])) + (by).dot(dy).dot(array([[x32[0, 0]]])), (by).dot(dy).dot(array([[x33[0, 0]]])), x7], [(by).dot(matrix_power(Ay, 4)).dot(dy).dot(array([[x6[0, 0]]])) + (by).dot(Ay).dot(dy).dot(array([[x30[0, 0]]])) + (by).dot(dy).dot(array([[x0*x1*x34[0, 0]*x35[0, 0]]])) + (by).dot(x15).dot(dy).dot(array([[x21[0, 0]]])) + (by).dot(x24).dot(dy).dot(array([[x13[0, 0]]])), (by).dot(Ay).dot(dy).dot(array([[x31[0, 0]]])) + (by).dot(dy).dot(array([[x0*x26[0, 0]*x35[0, 0]]])) + (by).dot(x15).dot(dy).dot(array([[x22[0, 0]]])) + (by).dot(x24).dot(dy).dot(array([[x14[0, 0]]])), (by).dot(Ay).dot(dy).dot(array([[x32[0, 0]]])) + (by).dot(dy).dot(array([[x0*x17[0, 0]*x35[0, 0]]])) + (by).dot(x15).dot(dy).dot(array([[x23[0, 0]]])), (by).dot(Ay).dot(dy).dot(array([[x33[0, 0]]])) + (by).dot(dy).dot(array([[x0*x35[0, 0]*x9[0, 0]]])), (by).dot(dy).dot(array([[x0*x3[0, 0]*x35[0, 0]]]))]])\n",
      "    \n",
      "    \n",
      "    Imported modules:\n",
      "\n"
     ]
    }
   ],
   "source": [
    "help(y_AT_jac_rewritte)"
   ]
  },
  {
   "cell_type": "code",
   "execution_count": 68,
   "metadata": {},
   "outputs": [],
   "source": [
    "def temp_jac(a : np.array):\n",
    "    return y_AT_jac(\n",
    "                a,\n",
    "                np.zeros_like(sum_other_a),\n",
    "                np.array([TD.bt]), \n",
    "                np.array([TD.d5]).T, \n",
    "                TD.At5, \n",
    "                np.array([CC.bc]), \n",
    "                np.array([CC.dc5]).T, \n",
    "                CC.Ac5, \n",
    "                np.array([CC.initial_state]).T, \n",
    "                np.array([TD.initial_state]).T, \n",
    "                F_2XCO2, \n",
    "                1/C_1750,\n",
    "                np.array([[C_1750]])\n",
    "            ).squeeze()"
   ]
  },
  {
   "cell_type": "code",
   "execution_count": 75,
   "metadata": {},
   "outputs": [
    {
     "data": {
      "text/latex": [
       "$\\displaystyle \\left[\\begin{matrix}b_{z} \\left(\\left(a_{0, 0} + am_{0, 0}\\right) d_{z} + A_{z} z_{0}\\right) + zrefm & b_{z} \\left(\\left(a_{0, 1} + am_{0, 1}\\right) d_{z} + A_{z} \\left(\\left(a_{0, 0} + am_{0, 0}\\right) d_{z} + A_{z} z_{0}\\right)\\right) + zrefm & b_{z} \\left(\\left(a_{0, 2} + am_{0, 2}\\right) d_{z} + A_{z} \\left(\\left(a_{0, 1} + am_{0, 1}\\right) d_{z} + A_{z} \\left(\\left(a_{0, 0} + am_{0, 0}\\right) d_{z} + A_{z} z_{0}\\right)\\right)\\right) + zrefm\\end{matrix}\\right]$"
      ],
      "text/plain": [
       "Matrix([[b_z*((a[0, 0] + am[0, 0])*d_z + A_z*z_0) + zrefm, b_z*((a[0, 1] + am[0, 1])*d_z + A_z*((a[0, 0] + am[0, 0])*d_z + A_z*z_0)) + zrefm, b_z*((a[0, 2] + am[0, 2])*d_z + A_z*((a[0, 1] + am[0, 1])*d_z + A_z*((a[0, 0] + am[0, 0])*d_z + A_z*z_0))) + zrefm]])"
      ]
     },
     "execution_count": 75,
     "metadata": {},
     "output_type": "execute_result"
    }
   ],
   "source": []
  },
  {
   "cell_type": "code",
   "execution_count": 100,
   "metadata": {},
   "outputs": [
    {
     "data": {
      "text/plain": [
       "array([[0.00287862, 0.        , 0.        ],\n",
       "       [0.00318388, 0.00293207, 0.        ],\n",
       "       [0.00308885, 0.00323766, 0.0029801 ]])"
      ]
     },
     "execution_count": 100,
     "metadata": {},
     "output_type": "execute_result"
    }
   ],
   "source": [
    "temp_jac(np.ones_like(a)*-10)"
   ]
  },
  {
   "cell_type": "code",
   "execution_count": 98,
   "metadata": {},
   "outputs": [
    {
     "data": {
      "text/plain": [
       "array([[4.59837780e-03, 0.00000000e+00, 0.00000000e+00],\n",
       "       [9.26455293e-03, 9.70568311e-03, 0.00000000e+00],\n",
       "       [1.00148232e+05, 1.10997474e+05, 1.33400716e+05]])"
      ]
     },
     "execution_count": 98,
     "metadata": {},
     "output_type": "execute_result"
    }
   ],
   "source": [
    "temp_jac(np.ones_like(a)*-271.51475)"
   ]
  },
  {
   "cell_type": "code",
   "execution_count": 3,
   "metadata": {},
   "outputs": [],
   "source": [
    "aa = a.applyfunc(lambda x : x * eye(1))"
   ]
  },
  {
   "cell_type": "code",
   "execution_count": 4,
   "metadata": {},
   "outputs": [],
   "source": [
    "aaa = aa.applyfunc(benefice)"
   ]
  },
  {
   "cell_type": "code",
   "execution_count": 8,
   "metadata": {},
   "outputs": [
    {
     "data": {
      "text/latex": [
       "$\\displaystyle 0$"
      ],
      "text/plain": [
       "0"
      ]
     },
     "execution_count": 8,
     "metadata": {},
     "output_type": "execute_result"
    }
   ],
   "source": [
    "aaa.diff(a[0,0])"
   ]
  },
  {
   "cell_type": "code",
   "execution_count": 108,
   "metadata": {},
   "outputs": [
    {
     "data": {
      "text/latex": [
       "$\\displaystyle \\left[\\begin{matrix}D'(y)_{0, 0} dy/da _{0, 0} & D'(y)_{0, 0} dy/da _{0, 1}\\\\D'(y)_{0, 1} dy/da _{1, 0} & D'(y)_{0, 1} dy/da _{1, 1}\\end{matrix}\\right]$"
      ],
      "text/plain": [
       "Matrix([\n",
       "[D'(y)[0, 0]*dy/da [0, 0], D'(y)[0, 0]*dy/da [0, 1]],\n",
       "[D'(y)[0, 1]*dy/da [1, 0], D'(y)[0, 1]*dy/da [1, 1]]])"
      ]
     },
     "execution_count": 108,
     "metadata": {},
     "output_type": "execute_result"
    }
   ],
   "source": [
    "Dd_times_y_AT"
   ]
  },
  {
   "cell_type": "code",
   "execution_count": 9,
   "metadata": {},
   "outputs": [
    {
     "data": {
      "text/plain": [
       "(1, 2)"
      ]
     },
     "execution_count": 9,
     "metadata": {},
     "output_type": "execute_result"
    }
   ],
   "source": [
    "B.shape"
   ]
  },
  {
   "cell_type": "code",
   "execution_count": 11,
   "metadata": {},
   "outputs": [
    {
     "data": {
      "text/latex": [
       "$\\displaystyle \\operatorname{DiagMatrix}\\left({\\left( d \\mapsto \\frac{d}{d d} B{\\left(d \\right)} \\right)}_{\\circ}\\left({a}\\right)\\right)$"
      ],
      "text/plain": [
       "DiagMatrix(Lambda(_d, Derivative(B(_d), _d)).(a))"
      ]
     },
     "execution_count": 11,
     "metadata": {},
     "output_type": "execute_result"
    }
   ],
   "source": [
    "B.diff(a)"
   ]
  },
  {
   "cell_type": "code",
   "execution_count": 12,
   "metadata": {},
   "outputs": [
    {
     "data": {
      "text/latex": [
       "$\\displaystyle \\frac{d}{d a_{0, 0}} B{\\left(a_{0, 0} \\right)}$"
      ],
      "text/plain": [
       "Derivative(B(a[0, 0]), a[0, 0])"
      ]
     },
     "execution_count": 12,
     "metadata": {},
     "output_type": "execute_result"
    }
   ],
   "source": [
    "B[0,0].diff(a[0,0])"
   ]
  },
  {
   "cell_type": "code",
   "execution_count": 58,
   "metadata": {},
   "outputs": [
    {
     "data": {
      "text/latex": [
       "$\\displaystyle \\left[\\begin{matrix}b_{y} \\left(A_{y} y_{0} + d_{y} \\left[\\begin{matrix}\\frac{F2xCO2}{\\log{\\left(2 \\right)}} {\\left( d \\mapsto \\log{\\left(d \\right)} \\right)}_{\\circ}\\left({zref \\left(b_{z} \\left(\\left(a_{0, 0} + am_{0, 0}\\right) d_{z} + A_{z} z_{0}\\right) + zrefm\\right)}\\right)\\end{matrix}\\right]\\right) & b_{y} \\left(A_{y} \\left(A_{y} y_{0} + d_{y} \\left[\\begin{matrix}\\frac{F2xCO2}{\\log{\\left(2 \\right)}} {\\left( d \\mapsto \\log{\\left(d \\right)} \\right)}_{\\circ}\\left({zref \\left(b_{z} \\left(\\left(a_{0, 0} + am_{0, 0}\\right) d_{z} + A_{z} z_{0}\\right) + zrefm\\right)}\\right)\\end{matrix}\\right]\\right) + d_{y} \\left[\\begin{matrix}\\frac{F2xCO2}{\\log{\\left(2 \\right)}} {\\left( d \\mapsto \\log{\\left(d \\right)} \\right)}_{\\circ}\\left({zref \\left(b_{z} \\left(\\left(a_{0, 1} + am_{0, 1}\\right) d_{z} + A_{z} \\left(\\left(a_{0, 0} + am_{0, 0}\\right) d_{z} + A_{z} z_{0}\\right)\\right) + zrefm\\right)}\\right)\\end{matrix}\\right]\\right)\\end{matrix}\\right]$"
      ],
      "text/plain": [
       "Matrix([[b_y*(A_y*y_0 + d_y*Matrix([[(F2xCO2/log(2))*Lambda(_d, log(_d)).(zref*(b_z*((a[0, 0] + am[0, 0])*d_z + A_z*z_0) + zrefm))]])), b_y*(A_y*(A_y*y_0 + d_y*Matrix([[(F2xCO2/log(2))*Lambda(_d, log(_d)).(zref*(b_z*((a[0, 0] + am[0, 0])*d_z + A_z*z_0) + zrefm))]])) + d_y*Matrix([[(F2xCO2/log(2))*Lambda(_d, log(_d)).(zref*(b_z*((a[0, 1] + am[0, 1])*d_z + A_z*((a[0, 0] + am[0, 0])*d_z + A_z*z_0)) + zrefm))]]))]])"
      ]
     },
     "execution_count": 58,
     "metadata": {},
     "output_type": "execute_result"
    }
   ],
   "source": [
    "y_AT"
   ]
  },
  {
   "cell_type": "code",
   "execution_count": 51,
   "metadata": {},
   "outputs": [
    {
     "data": {
      "text/plain": [
       "(1, 2)"
      ]
     },
     "execution_count": 51,
     "metadata": {},
     "output_type": "execute_result"
    }
   ],
   "source": [
    "a.shape"
   ]
  },
  {
   "cell_type": "code",
   "execution_count": 64,
   "metadata": {},
   "outputs": [
    {
     "data": {
      "text/plain": [
       "(1, 1)"
      ]
     },
     "execution_count": 64,
     "metadata": {},
     "output_type": "execute_result"
    }
   ],
   "source": [
    "(deriv_y_AT[1,1] * Dd[1]).shape"
   ]
  },
  {
   "cell_type": "code",
   "execution_count": 41,
   "metadata": {},
   "outputs": [
    {
     "data": {
      "text/plain": [
       "<function models.game_theory_model.benefit_function.polynome.<locals>.benef(x)>"
      ]
     },
     "execution_count": 41,
     "metadata": {},
     "output_type": "execute_result"
    }
   ],
   "source": [
    "deriv_damage"
   ]
  },
  {
   "cell_type": "code",
   "execution_count": 44,
   "metadata": {},
   "outputs": [
    {
     "data": {
      "text/latex": [
       "$\\displaystyle {\\left( d \\mapsto d \\left(d + 1\\right) \\right)}_{\\circ}\\left({b_{y} \\left(A_{y} y_{0} + d_{y} \\left[\\begin{matrix}\\frac{F2xCO2}{\\log{\\left(2 \\right)}} {\\left( d \\mapsto \\log{\\left(d \\right)} \\right)}_{\\circ}\\left({zref \\left(b_{z} \\left(\\left(a_{0, 0} + am_{0, 0}\\right) d_{z} + A_{z} z_{0}\\right) + zrefm\\right)}\\right)\\end{matrix}\\right]\\right)}\\right) + {\\left( d \\mapsto d \\left(d + 1\\right) \\right)}_{\\circ}\\left({b_{y} \\left(A_{y} \\left(A_{y} y_{0} + d_{y} \\left[\\begin{matrix}\\frac{F2xCO2}{\\log{\\left(2 \\right)}} {\\left( d \\mapsto \\log{\\left(d \\right)} \\right)}_{\\circ}\\left({zref \\left(b_{z} \\left(\\left(a_{0, 0} + am_{0, 0}\\right) d_{z} + A_{z} z_{0}\\right) + zrefm\\right)}\\right)\\end{matrix}\\right]\\right) + d_{y} \\left[\\begin{matrix}\\frac{F2xCO2}{\\log{\\left(2 \\right)}} {\\left( d \\mapsto \\log{\\left(d \\right)} \\right)}_{\\circ}\\left({zref \\left(b_{z} \\left(\\left(a_{0, 1} + am_{0, 1}\\right) d_{z} + A_{z} \\left(\\left(a_{0, 0} + am_{0, 0}\\right) d_{z} + A_{z} z_{0}\\right)\\right) + zrefm\\right)}\\right)\\end{matrix}\\right]\\right)}\\right)$"
      ],
      "text/plain": [
       "Lambda(_d, _d*(_d + 1)).(b_y*(A_y*y_0 + d_y*Matrix([[(F2xCO2/log(2))*Lambda(_d, log(_d)).(zref*(b_z*((a[0, 0] + am[0, 0])*d_z + A_z*z_0) + zrefm))]]))) + Lambda(_d, _d*(_d + 1)).(b_y*(A_y*(A_y*y_0 + d_y*Matrix([[(F2xCO2/log(2))*Lambda(_d, log(_d)).(zref*(b_z*((a[0, 0] + am[0, 0])*d_z + A_z*z_0) + zrefm))]])) + d_y*Matrix([[(F2xCO2/log(2))*Lambda(_d, log(_d)).(zref*(b_z*((a[0, 1] + am[0, 1])*d_z + A_z*((a[0, 0] + am[0, 0])*d_z + A_z*z_0)) + zrefm))]])))"
      ]
     },
     "execution_count": 44,
     "metadata": {},
     "output_type": "execute_result"
    }
   ],
   "source": [
    "Dd[0]"
   ]
  },
  {
   "cell_type": "code",
   "execution_count": 13,
   "metadata": {},
   "outputs": [
    {
     "data": {
      "text/latex": [
       "$\\displaystyle \\left[\\begin{matrix}b_{z} \\left(\\left(a_{0, 0} + am_{0, 0}\\right) d_{z} + A_{z} z_{0}\\right) + zrefm & b_{z} \\left(\\left(a_{0, 1} + am_{0, 1}\\right) d_{z} + A_{z} \\left(\\left(a_{0, 0} + am_{0, 0}\\right) d_{z} + A_{z} z_{0}\\right)\\right) + zrefm\\end{matrix}\\right]$"
      ],
      "text/plain": [
       "Matrix([[b_z*((a[0, 0] + am[0, 0])*d_z + A_z*z_0) + zrefm, b_z*((a[0, 1] + am[0, 1])*d_z + A_z*((a[0, 0] + am[0, 0])*d_z + A_z*z_0)) + zrefm]])"
      ]
     },
     "execution_count": 13,
     "metadata": {},
     "output_type": "execute_result"
    }
   ],
   "source": [
    "z_AT"
   ]
  },
  {
   "cell_type": "code",
   "execution_count": 17,
   "metadata": {},
   "outputs": [
    {
     "data": {
      "text/plain": [
       "(1, 1)"
      ]
     },
     "execution_count": 17,
     "metadata": {},
     "output_type": "execute_result"
    }
   ],
   "source": [
    "D.shape"
   ]
  },
  {
   "cell_type": "code",
   "execution_count": 14,
   "metadata": {},
   "outputs": [
    {
     "data": {
      "text/latex": [
       "$\\displaystyle \\left[\\begin{matrix}b_{y} d_{y} \\left[\\begin{matrix}\\frac{F2xCO2}{\\log{\\left(2 \\right)}} \\left(\\left(\\frac{1}{zref} \\left(b_{z} \\left(\\left(a_{0, 0} + am_{0, 0}\\right) d_{z} + A_{z} z_{0}\\right) + zrefm\\right)^{-1}\\right) \\circ \\left(zref b_{z} d_{z}\\right)\\right)\\end{matrix}\\right] & b_{y} \\left(A_{y} d_{y} \\left[\\begin{matrix}\\frac{F2xCO2}{\\log{\\left(2 \\right)}} \\left(\\left(\\frac{1}{zref} \\left(b_{z} \\left(\\left(a_{0, 0} + am_{0, 0}\\right) d_{z} + A_{z} z_{0}\\right) + zrefm\\right)^{-1}\\right) \\circ \\left(zref b_{z} d_{z}\\right)\\right)\\end{matrix}\\right] + d_{y} \\left[\\begin{matrix}\\frac{F2xCO2}{\\log{\\left(2 \\right)}} \\left(\\left(\\frac{1}{zref} \\left(b_{z} \\left(\\left(a_{0, 1} + am_{0, 1}\\right) d_{z} + A_{z} \\left(\\left(a_{0, 0} + am_{0, 0}\\right) d_{z} + A_{z} z_{0}\\right)\\right) + zrefm\\right)^{-1}\\right) \\circ \\left(zref b_{z} A_{z} d_{z}\\right)\\right)\\end{matrix}\\right]\\right)\\end{matrix}\\right]$"
      ],
      "text/plain": [
       "Matrix([[b_y*d_y*Matrix([[(F2xCO2/log(2))*(HadamardProduct(1/zref*(b_z*((a[0, 0] + am[0, 0])*d_z + A_z*z_0) + zrefm)**(-1), zref*b_z*d_z))]]), b_y*(A_y*d_y*Matrix([[(F2xCO2/log(2))*(HadamardProduct(1/zref*(b_z*((a[0, 0] + am[0, 0])*d_z + A_z*z_0) + zrefm)**(-1), zref*b_z*d_z))]]) + d_y*Matrix([[(F2xCO2/log(2))*(HadamardProduct(1/zref*(b_z*((a[0, 1] + am[0, 1])*d_z + A_z*((a[0, 0] + am[0, 0])*d_z + A_z*z_0)) + zrefm)**(-1), zref*b_z*A_z*d_z))]]))]])"
      ]
     },
     "execution_count": 14,
     "metadata": {},
     "output_type": "execute_result"
    }
   ],
   "source": [
    "y_AT.diff(a[0])"
   ]
  },
  {
   "cell_type": "code",
   "execution_count": 4,
   "metadata": {},
   "outputs": [
    {
     "data": {
      "text/plain": [
       "<function _lambdifygenerated(a, am, b_y, d_y, A_y, b_z, d_z, A_z, z_0, y_0, F2xCO2, zref, zrefm)>"
      ]
     },
     "execution_count": 4,
     "metadata": {},
     "output_type": "execute_result"
    }
   ],
   "source": [
    "lambdify([a, sum_other_a, b_y, d_y, A_y, b_z, d_z, A_z, z_0, y_0, F_2xCO2, z_ref, z_1750], y_AT.diff(a[0]), 'numpy')"
   ]
  },
  {
   "cell_type": "code",
   "execution_count": 5,
   "metadata": {},
   "outputs": [],
   "source": [
    "X = Symbol('x')\n",
    "from models.game_theory_model import *\n",
    "damage= polynome([0,3,2])\n",
    "dd = damage(X).diff(X)"
   ]
  },
  {
   "cell_type": "code",
   "execution_count": 6,
   "metadata": {},
   "outputs": [
    {
     "data": {
      "text/latex": [
       "$\\displaystyle 4 x + 3$"
      ],
      "text/plain": [
       "4*x + 3"
      ]
     },
     "execution_count": 6,
     "metadata": {},
     "output_type": "execute_result"
    }
   ],
   "source": [
    "damage(X).diff(X)"
   ]
  },
  {
   "cell_type": "code",
   "execution_count": 7,
   "metadata": {},
   "outputs": [],
   "source": [
    "ddd = lambdify(X, dd, 'numpy')"
   ]
  },
  {
   "cell_type": "code",
   "execution_count": 8,
   "metadata": {},
   "outputs": [],
   "source": [
    "f_y = lambdify([a, sum_other_a, b_y, d_y, A_y, b_z, d_z, A_z, z_0, y_0, F_2xCO2, z_ref, z_1750], y_AT.diff(a[0]), 'numpy')"
   ]
  },
  {
   "cell_type": "code",
   "execution_count": 9,
   "metadata": {},
   "outputs": [
    {
     "ename": "NameError",
     "evalue": "name 'x' is not defined",
     "output_type": "error",
     "traceback": [
      "\u001b[1;31m---------------------------------------------------------------------------\u001b[0m",
      "\u001b[1;31mNameError\u001b[0m                                 Traceback (most recent call last)",
      "Cell \u001b[1;32mIn[9], line 1\u001b[0m\n\u001b[1;32m----> 1\u001b[0m ddd(x)\u001b[39m.\u001b[39msqueeze() \u001b[39m*\u001b[39m (x\u001b[39m.\u001b[39msqueeze())\n",
      "\u001b[1;31mNameError\u001b[0m: name 'x' is not defined"
     ]
    }
   ],
   "source": [
    "ddd(x).squeeze() * (x.squeeze())"
   ]
  },
  {
   "cell_type": "code",
   "execution_count": 174,
   "metadata": {},
   "outputs": [
    {
     "data": {
      "text/plain": [
       "array([3.01135212, 3.01135212, 3.01135212, 3.01135212, 3.01135212,\n",
       "       3.01135212])"
      ]
     },
     "execution_count": 174,
     "metadata": {},
     "output_type": "execute_result"
    }
   ],
   "source": [
    "ddd(x).squeeze()"
   ]
  },
  {
   "cell_type": "code",
   "execution_count": 175,
   "metadata": {},
   "outputs": [
    {
     "data": {
      "text/plain": [
       "array([0.00283803, 0.00283803, 0.00283803, 0.00283803, 0.00283803,\n",
       "       0.00283803])"
      ]
     },
     "execution_count": 175,
     "metadata": {},
     "output_type": "execute_result"
    }
   ],
   "source": [
    "x.squeeze()"
   ]
  },
  {
   "cell_type": "code",
   "execution_count": 6,
   "metadata": {},
   "outputs": [
    {
     "name": "stdout",
     "output_type": "stream",
     "text": [
      "ok\n"
     ]
    }
   ],
   "source": [
    "from sympy import *\n",
    "from models.geophysic_models import *\n",
    "from parameters import *\n",
    "import sympy\n",
    "\n",
    "\n",
    "CC = Carbon_JOOS()\n",
    "TD = Temp_Discret_Geoffroy()\n",
    "\n",
    "damage = damage_polynome([0,0,1])\n",
    "\n",
    "\n",
    "# Définissez vos variables et fonctions symboliques\n",
    "# t = sympy.Symbol('t', integer=True)\n",
    "\n",
    "N = 6\n",
    "T = 5\n",
    "\n",
    "\n",
    "z = zeros( 1, T)\n",
    "z_AT = zeros( 1, T)\n",
    "z_ratio = zeros( 1, T)\n",
    "\n",
    "forcing = zeros( 1, T)\n",
    "\n",
    "y = zeros( 1, T)\n",
    "y_AT = zeros( 1, T)\n",
    "\n",
    "\n",
    "a = MatrixSymbol('a', 1,  T)\n",
    "sum_other_a = MatrixSymbol('am', 1,T)\n",
    "sum_a = a + sum_other_a\n",
    "\n",
    "mz = CC.Ac5.shape[0]\n",
    "A_z = MatrixSymbol('A_z', mz, mz)\n",
    "b_z = MatrixSymbol('b_z', 1, mz)\n",
    "d_z = MatrixSymbol('d_z', mz, 1)\n",
    "\n",
    "my = TD.At5.shape[0]\n",
    "A_y = MatrixSymbol('A_y', my, my)\n",
    "b_y = MatrixSymbol('b_y', 1, my)\n",
    "d_y = MatrixSymbol('d_y', my, 1)\n",
    "\n",
    "\n",
    "F_2xCO2 = sympy.Symbol('F2xCO2')\n",
    "z_ref = sympy.Symbol('zref')\n",
    "z_1750 = sympy.MatrixSymbol('zrefm', 1,1)\n",
    "\n",
    "k = sympy.Symbol('k', integer=True)\n",
    "# Définissez vos fonctions\n",
    "\n",
    "z_0 = sympy.MatrixSymbol('z_0', mz, 1)\n",
    "z_ = z_0\n",
    "\n",
    "z_AT[0] = b_z @ z[0]\n",
    "y_0 = sympy.MatrixSymbol('y_0', my, 1)\n",
    "y_ = y_0\n",
    "y_AT[0] = b_y @ y[0]\n",
    "for t in range(0,T):\n",
    "    z_ = A_z @ z_ + d_z * sum_a[t] \n",
    "    z[t] = z_\n",
    "    z_AT[t] = (b_z @ z_)[0] + z_ref\n",
    "\n",
    "    forcing[t] = F_2xCO2/log(2) * log(z_AT[t]/z_ref )\n",
    "\n",
    "    y_ = A_y @ y_ +   d_y @ forcing.col(t)\n",
    "    y[t] = y_\n",
    "    y_AT[t] = (b_y @ y_)\n",
    "\n",
    "\n",
    "\n",
    "# deriv_damage = polynome([0,1,1])\n",
    "\n",
    "# # function_deriv_damage = lambdify(temp, damage(temp).diff(), 'numpy')\n",
    "\n",
    "# Dd = zeros( 1, T)\n",
    "\n",
    "# for t in range(0,T):\n",
    "#     Dd[t] = y_AT[t].applyfunc(deriv_damage) \n",
    "# # Dd = MatrixSymbol('D\\'(y)', 1,T)\n",
    "\n",
    "# deriv_y_AT = y_AT.jacobian(a)\n",
    "# # deriv_y_AT = MatrixSymbol('dy/da ',2,2)\n",
    "\n",
    "\n",
    "# Dd_times_y_AT = zeros(T,T)\n",
    "# for i in range(0,T):\n",
    "#     for j in range(0,T):\n",
    "#         Dd_times_y_AT[i,j] = deriv_y_AT[i,j] * Dd[i]  \n",
    "\n",
    "\n",
    "# # Dd = Dd * ones(Dd.shape[1], 1)\n",
    "\n",
    "\n",
    "# benefice = polynome([0,1])\n",
    "# # benefice = Function('B')\n",
    "\n",
    "\n",
    "# B = a.applyfunc(benefice)\n",
    "# # for t in range(T):\n",
    "# #     B[t] = a[t].applyfunc(benefice)\n",
    "\n",
    "# Bd = B.diff(a) \n",
    "# PHI = Bd - Dd_times_y_AT\n",
    "\n",
    "\n",
    "print('ok')\n",
    "\n",
    "# Imprimez vos fonctions"
   ]
  },
  {
   "cell_type": "code",
   "execution_count": 104,
   "metadata": {},
   "outputs": [
    {
     "name": "stdout",
     "output_type": "stream",
     "text": [
      "ok\n"
     ]
    }
   ],
   "source": [
    "from sympy import *\n",
    "from models.geophysic_models import *\n",
    "from parameters import *\n",
    "import sympy\n",
    "\n",
    "\n",
    "CC = Carbon_JOOS()\n",
    "TD = Temp_Discret_Geoffroy()\n",
    "\n",
    "\n",
    "\n",
    "# Définissez vos variables et fonctions symboliques\n",
    "# t = sympy.Symbol('t', integer=True)\n",
    "\n",
    "T = 1\n",
    "\n",
    "\n",
    "z = zeros( 1, T)\n",
    "z_AT = zeros( 1, T)\n",
    "z_ratio = zeros( 1, T)\n",
    "\n",
    "forcing = zeros( 1, T)\n",
    "\n",
    "y = zeros( 1, T)\n",
    "y_AT = zeros( 1, T)\n",
    "\n",
    "\n",
    "a = MatrixSymbol('a', 1,  T)\n",
    "sum_other_a = MatrixSymbol('am', 1,T)\n",
    "sum_a = a + sum_other_a\n",
    "\n",
    "mz = CC.Ac5.shape[0]\n",
    "A_z = MatrixSymbol('Az', mz, mz)\n",
    "b_z = MatrixSymbol('bz', 1, mz)\n",
    "d_z = MatrixSymbol('dz', mz, 1)\n",
    "\n",
    "my = TD.At5.shape[0]\n",
    "A_y = MatrixSymbol('Ay', my, my)\n",
    "b_y = MatrixSymbol('by', 1, my)\n",
    "d_y = MatrixSymbol('dy', my, 1)\n",
    "\n",
    "\n",
    "F_2xCO2 = sympy.Symbol('F2xCO2')\n",
    "z_ref = sympy.Symbol('zref')\n",
    "z_1750 = sympy.MatrixSymbol('zrefm', 1,1)\n",
    "\n",
    "k = sympy.Symbol('k', integer=True)\n",
    "# Définissez vos fonctions\n",
    "\n",
    "z_0 = sympy.MatrixSymbol('z0', mz, 1)\n",
    "z_ = z_0\n",
    "z_AT[0] = b_z @ z[0]\n",
    "\n",
    "exforcing = MatrixSymbol('FEX', 1, T)\n",
    "\n",
    "y_0 = sympy.MatrixSymbol('y0', my, 1)\n",
    "y_ = y_0\n",
    "y_AT[0] = b_y @ y[0]\n",
    "\n",
    "for t in range(0,T):\n",
    "    z_ = A_z @ z_ + d_z * sum_a[t] \n",
    "    z[t] = z_\n",
    "    z_AT[t] = (b_z * z[t]) + z_1750\n",
    "    z_ratio[t] = (b_z @ z_ + z_1750)*  (1/ z_ref)  \n",
    "\n",
    "# for t in range(0,T):\n",
    "#     z_ = A_z @ z_ + d_z * sum_a[t] \n",
    "#     z[t] = z_\n",
    "#     z_AT[t] = (b_z * z[t]) + z_1750\n",
    "#     z_ratio[t] = (b_z @ z_ + z_1750)*  (1/ z_ref)  \n",
    "#     forcing[t] = F_2xCO2/log(2) * z_ratio[t].applyfunc(log)\n",
    "\n",
    "#     y_ = A_y @ y_ +   d_y @ forcing.col(t)\n",
    "#     y[t] = y_\n",
    "#     y_AT[t] = b_y @ y[t]\n",
    "\n",
    "forcing = (F_2xCO2/log(2) * z_ratio.applyfunc(log)+ exforcing  ).as_mutable()\n",
    "for t in range(0,T):\n",
    "    y_ = A_y @ y_ +   d_y @ forcing.col(t)\n",
    "    y[t] = y_\n",
    "    y_AT[t] = (b_y @ y[t])[0]\n",
    "\n",
    "\n",
    "\n",
    "# deriv_damage = polynome([0,1,1])\n",
    "\n",
    "# # function_deriv_damage = lambdify(temp, damage(temp).diff(), 'numpy')\n",
    "\n",
    "# Dd = zeros( 1, T)\n",
    "\n",
    "# for t in range(0,T):\n",
    "#     Dd[t] = y_AT[t].applyfunc(deriv_damage) \n",
    "# # Dd = MatrixSymbol('D\\'(y)', 1,T)\n",
    "\n",
    "# deriv_y_AT = y_AT.jacobian(a)\n",
    "# # deriv_y_AT = MatrixSymbol('dy/da ',2,2)\n",
    "\n",
    "\n",
    "# Dd_times_y_AT = zeros(T,T)\n",
    "# for i in range(0,T):\n",
    "#     for j in range(0,T):\n",
    "#         Dd_times_y_AT[i,j] = deriv_y_AT[i,j] * Dd[i]  \n",
    "\n",
    "\n",
    "# # Dd = Dd * ones(Dd.shape[1], 1)\n",
    "\n",
    "\n",
    "# benefice = polynome([0,1])\n",
    "# # benefice = Function('B')\n",
    "\n",
    "\n",
    "# B = a.applyfunc(benefice)\n",
    "# # for t in range(T):\n",
    "# #     B[t] = a[t].applyfunc(benefice)\n",
    "\n",
    "# Bd = B.diff(a) \n",
    "# PHI = Bd - Dd_times_y_AT\n",
    "\n",
    "\n",
    "print('ok')\n",
    "\n",
    "# Imprimez vos fonctions\n"
   ]
  },
  {
   "cell_type": "code",
   "execution_count": 94,
   "metadata": {},
   "outputs": [
    {
     "data": {
      "text/plain": [
       "(1, 3)"
      ]
     },
     "execution_count": 94,
     "metadata": {},
     "output_type": "execute_result"
    }
   ],
   "source": [
    "forcing.shape"
   ]
  },
  {
   "cell_type": "code",
   "execution_count": 96,
   "metadata": {},
   "outputs": [
    {
     "data": {
      "text/latex": [
       "$\\displaystyle \\left[\\begin{matrix}by_{0, 0} \\left(Ay_{0, 0} y_{0}_{0, 0} + Ay_{0, 1} y_{0}_{1, 0} + dy_{0, 0} \\left(\\frac{F2xCO2 \\log{\\left(\\frac{1}{zref} \\left(bz \\left(\\left(a_{0, 0} + am_{0, 0}\\right) dz + Az z_{0}\\right) + zrefm\\right) \\right)}}{\\log{\\left(2 \\right)}} + FEX_{0, 0}\\right)\\right) + by_{0, 1} \\left(Ay_{1, 0} y_{0}_{0, 0} + Ay_{1, 1} y_{0}_{1, 0} + dy_{1, 0} \\left(\\frac{F2xCO2 \\log{\\left(\\frac{1}{zref} \\left(bz \\left(\\left(a_{0, 0} + am_{0, 0}\\right) dz + Az z_{0}\\right) + zrefm\\right) \\right)}}{\\log{\\left(2 \\right)}} + FEX_{0, 0}\\right)\\right) & by_{0, 0} \\left(Ay_{0, 0} \\left(Ay_{0, 0} y_{0}_{0, 0} + Ay_{0, 1} y_{0}_{1, 0} + dy_{0, 0} \\left(\\frac{F2xCO2 \\log{\\left(\\frac{1}{zref} \\left(bz \\left(\\left(a_{0, 0} + am_{0, 0}\\right) dz + Az z_{0}\\right) + zrefm\\right) \\right)}}{\\log{\\left(2 \\right)}} + FEX_{0, 0}\\right)\\right) + Ay_{0, 1} \\left(Ay_{1, 0} y_{0}_{0, 0} + Ay_{1, 1} y_{0}_{1, 0} + dy_{1, 0} \\left(\\frac{F2xCO2 \\log{\\left(\\frac{1}{zref} \\left(bz \\left(\\left(a_{0, 0} + am_{0, 0}\\right) dz + Az z_{0}\\right) + zrefm\\right) \\right)}}{\\log{\\left(2 \\right)}} + FEX_{0, 0}\\right)\\right) + dy_{0, 0} \\left(\\frac{F2xCO2 \\log{\\left(\\frac{1}{zref} \\left(bz \\left(\\left(a_{0, 1} + am_{0, 1}\\right) dz + Az \\left(\\left(a_{0, 0} + am_{0, 0}\\right) dz + Az z_{0}\\right)\\right) + zrefm\\right) \\right)}}{\\log{\\left(2 \\right)}} + FEX_{0, 1}\\right)\\right) + by_{0, 1} \\left(Ay_{1, 0} \\left(Ay_{0, 0} y_{0}_{0, 0} + Ay_{0, 1} y_{0}_{1, 0} + dy_{0, 0} \\left(\\frac{F2xCO2 \\log{\\left(\\frac{1}{zref} \\left(bz \\left(\\left(a_{0, 0} + am_{0, 0}\\right) dz + Az z_{0}\\right) + zrefm\\right) \\right)}}{\\log{\\left(2 \\right)}} + FEX_{0, 0}\\right)\\right) + Ay_{1, 1} \\left(Ay_{1, 0} y_{0}_{0, 0} + Ay_{1, 1} y_{0}_{1, 0} + dy_{1, 0} \\left(\\frac{F2xCO2 \\log{\\left(\\frac{1}{zref} \\left(bz \\left(\\left(a_{0, 0} + am_{0, 0}\\right) dz + Az z_{0}\\right) + zrefm\\right) \\right)}}{\\log{\\left(2 \\right)}} + FEX_{0, 0}\\right)\\right) + dy_{1, 0} \\left(\\frac{F2xCO2 \\log{\\left(\\frac{1}{zref} \\left(bz \\left(\\left(a_{0, 1} + am_{0, 1}\\right) dz + Az \\left(\\left(a_{0, 0} + am_{0, 0}\\right) dz + Az z_{0}\\right)\\right) + zrefm\\right) \\right)}}{\\log{\\left(2 \\right)}} + FEX_{0, 1}\\right)\\right) & by_{0, 0} \\left(Ay_{0, 0} \\left(Ay_{0, 0} \\left(Ay_{0, 0} y_{0}_{0, 0} + Ay_{0, 1} y_{0}_{1, 0} + dy_{0, 0} \\left(\\frac{F2xCO2 \\log{\\left(\\frac{1}{zref} \\left(bz \\left(\\left(a_{0, 0} + am_{0, 0}\\right) dz + Az z_{0}\\right) + zrefm\\right) \\right)}}{\\log{\\left(2 \\right)}} + FEX_{0, 0}\\right)\\right) + Ay_{0, 1} \\left(Ay_{1, 0} y_{0}_{0, 0} + Ay_{1, 1} y_{0}_{1, 0} + dy_{1, 0} \\left(\\frac{F2xCO2 \\log{\\left(\\frac{1}{zref} \\left(bz \\left(\\left(a_{0, 0} + am_{0, 0}\\right) dz + Az z_{0}\\right) + zrefm\\right) \\right)}}{\\log{\\left(2 \\right)}} + FEX_{0, 0}\\right)\\right) + dy_{0, 0} \\left(\\frac{F2xCO2 \\log{\\left(\\frac{1}{zref} \\left(bz \\left(\\left(a_{0, 1} + am_{0, 1}\\right) dz + Az \\left(\\left(a_{0, 0} + am_{0, 0}\\right) dz + Az z_{0}\\right)\\right) + zrefm\\right) \\right)}}{\\log{\\left(2 \\right)}} + FEX_{0, 1}\\right)\\right) + Ay_{0, 1} \\left(Ay_{1, 0} \\left(Ay_{0, 0} y_{0}_{0, 0} + Ay_{0, 1} y_{0}_{1, 0} + dy_{0, 0} \\left(\\frac{F2xCO2 \\log{\\left(\\frac{1}{zref} \\left(bz \\left(\\left(a_{0, 0} + am_{0, 0}\\right) dz + Az z_{0}\\right) + zrefm\\right) \\right)}}{\\log{\\left(2 \\right)}} + FEX_{0, 0}\\right)\\right) + Ay_{1, 1} \\left(Ay_{1, 0} y_{0}_{0, 0} + Ay_{1, 1} y_{0}_{1, 0} + dy_{1, 0} \\left(\\frac{F2xCO2 \\log{\\left(\\frac{1}{zref} \\left(bz \\left(\\left(a_{0, 0} + am_{0, 0}\\right) dz + Az z_{0}\\right) + zrefm\\right) \\right)}}{\\log{\\left(2 \\right)}} + FEX_{0, 0}\\right)\\right) + dy_{1, 0} \\left(\\frac{F2xCO2 \\log{\\left(\\frac{1}{zref} \\left(bz \\left(\\left(a_{0, 1} + am_{0, 1}\\right) dz + Az \\left(\\left(a_{0, 0} + am_{0, 0}\\right) dz + Az z_{0}\\right)\\right) + zrefm\\right) \\right)}}{\\log{\\left(2 \\right)}} + FEX_{0, 1}\\right)\\right) + dy_{0, 0} \\left(\\frac{F2xCO2 \\log{\\left(\\frac{1}{zref} \\left(bz \\left(\\left(a_{0, 2} + am_{0, 2}\\right) dz + Az \\left(\\left(a_{0, 1} + am_{0, 1}\\right) dz + Az \\left(\\left(a_{0, 0} + am_{0, 0}\\right) dz + Az z_{0}\\right)\\right)\\right) + zrefm\\right) \\right)}}{\\log{\\left(2 \\right)}} + FEX_{0, 2}\\right)\\right) + by_{0, 1} \\left(Ay_{1, 0} \\left(Ay_{0, 0} \\left(Ay_{0, 0} y_{0}_{0, 0} + Ay_{0, 1} y_{0}_{1, 0} + dy_{0, 0} \\left(\\frac{F2xCO2 \\log{\\left(\\frac{1}{zref} \\left(bz \\left(\\left(a_{0, 0} + am_{0, 0}\\right) dz + Az z_{0}\\right) + zrefm\\right) \\right)}}{\\log{\\left(2 \\right)}} + FEX_{0, 0}\\right)\\right) + Ay_{0, 1} \\left(Ay_{1, 0} y_{0}_{0, 0} + Ay_{1, 1} y_{0}_{1, 0} + dy_{1, 0} \\left(\\frac{F2xCO2 \\log{\\left(\\frac{1}{zref} \\left(bz \\left(\\left(a_{0, 0} + am_{0, 0}\\right) dz + Az z_{0}\\right) + zrefm\\right) \\right)}}{\\log{\\left(2 \\right)}} + FEX_{0, 0}\\right)\\right) + dy_{0, 0} \\left(\\frac{F2xCO2 \\log{\\left(\\frac{1}{zref} \\left(bz \\left(\\left(a_{0, 1} + am_{0, 1}\\right) dz + Az \\left(\\left(a_{0, 0} + am_{0, 0}\\right) dz + Az z_{0}\\right)\\right) + zrefm\\right) \\right)}}{\\log{\\left(2 \\right)}} + FEX_{0, 1}\\right)\\right) + Ay_{1, 1} \\left(Ay_{1, 0} \\left(Ay_{0, 0} y_{0}_{0, 0} + Ay_{0, 1} y_{0}_{1, 0} + dy_{0, 0} \\left(\\frac{F2xCO2 \\log{\\left(\\frac{1}{zref} \\left(bz \\left(\\left(a_{0, 0} + am_{0, 0}\\right) dz + Az z_{0}\\right) + zrefm\\right) \\right)}}{\\log{\\left(2 \\right)}} + FEX_{0, 0}\\right)\\right) + Ay_{1, 1} \\left(Ay_{1, 0} y_{0}_{0, 0} + Ay_{1, 1} y_{0}_{1, 0} + dy_{1, 0} \\left(\\frac{F2xCO2 \\log{\\left(\\frac{1}{zref} \\left(bz \\left(\\left(a_{0, 0} + am_{0, 0}\\right) dz + Az z_{0}\\right) + zrefm\\right) \\right)}}{\\log{\\left(2 \\right)}} + FEX_{0, 0}\\right)\\right) + dy_{1, 0} \\left(\\frac{F2xCO2 \\log{\\left(\\frac{1}{zref} \\left(bz \\left(\\left(a_{0, 1} + am_{0, 1}\\right) dz + Az \\left(\\left(a_{0, 0} + am_{0, 0}\\right) dz + Az z_{0}\\right)\\right) + zrefm\\right) \\right)}}{\\log{\\left(2 \\right)}} + FEX_{0, 1}\\right)\\right) + dy_{1, 0} \\left(\\frac{F2xCO2 \\log{\\left(\\frac{1}{zref} \\left(bz \\left(\\left(a_{0, 2} + am_{0, 2}\\right) dz + Az \\left(\\left(a_{0, 1} + am_{0, 1}\\right) dz + Az \\left(\\left(a_{0, 0} + am_{0, 0}\\right) dz + Az z_{0}\\right)\\right)\\right) + zrefm\\right) \\right)}}{\\log{\\left(2 \\right)}} + FEX_{0, 2}\\right)\\right)\\end{matrix}\\right]$"
      ],
      "text/plain": [
       "Matrix([[by[0, 0]*(Ay[0, 0]*y0[0, 0] + Ay[0, 1]*y0[1, 0] + dy[0, 0]*(F2xCO2*log(1/zref*(bz*((a[0, 0] + am[0, 0])*dz + Az*z0) + zrefm))/log(2) + FEX[0, 0])) + by[0, 1]*(Ay[1, 0]*y0[0, 0] + Ay[1, 1]*y0[1, 0] + dy[1, 0]*(F2xCO2*log(1/zref*(bz*((a[0, 0] + am[0, 0])*dz + Az*z0) + zrefm))/log(2) + FEX[0, 0])), by[0, 0]*(Ay[0, 0]*(Ay[0, 0]*y0[0, 0] + Ay[0, 1]*y0[1, 0] + dy[0, 0]*(F2xCO2*log(1/zref*(bz*((a[0, 0] + am[0, 0])*dz + Az*z0) + zrefm))/log(2) + FEX[0, 0])) + Ay[0, 1]*(Ay[1, 0]*y0[0, 0] + Ay[1, 1]*y0[1, 0] + dy[1, 0]*(F2xCO2*log(1/zref*(bz*((a[0, 0] + am[0, 0])*dz + Az*z0) + zrefm))/log(2) + FEX[0, 0])) + dy[0, 0]*(F2xCO2*log(1/zref*(bz*((a[0, 1] + am[0, 1])*dz + Az*((a[0, 0] + am[0, 0])*dz + Az*z0)) + zrefm))/log(2) + FEX[0, 1])) + by[0, 1]*(Ay[1, 0]*(Ay[0, 0]*y0[0, 0] + Ay[0, 1]*y0[1, 0] + dy[0, 0]*(F2xCO2*log(1/zref*(bz*((a[0, 0] + am[0, 0])*dz + Az*z0) + zrefm))/log(2) + FEX[0, 0])) + Ay[1, 1]*(Ay[1, 0]*y0[0, 0] + Ay[1, 1]*y0[1, 0] + dy[1, 0]*(F2xCO2*log(1/zref*(bz*((a[0, 0] + am[0, 0])*dz + Az*z0) + zrefm))/log(2) + FEX[0, 0])) + dy[1, 0]*(F2xCO2*log(1/zref*(bz*((a[0, 1] + am[0, 1])*dz + Az*((a[0, 0] + am[0, 0])*dz + Az*z0)) + zrefm))/log(2) + FEX[0, 1])), by[0, 0]*(Ay[0, 0]*(Ay[0, 0]*(Ay[0, 0]*y0[0, 0] + Ay[0, 1]*y0[1, 0] + dy[0, 0]*(F2xCO2*log(1/zref*(bz*((a[0, 0] + am[0, 0])*dz + Az*z0) + zrefm))/log(2) + FEX[0, 0])) + Ay[0, 1]*(Ay[1, 0]*y0[0, 0] + Ay[1, 1]*y0[1, 0] + dy[1, 0]*(F2xCO2*log(1/zref*(bz*((a[0, 0] + am[0, 0])*dz + Az*z0) + zrefm))/log(2) + FEX[0, 0])) + dy[0, 0]*(F2xCO2*log(1/zref*(bz*((a[0, 1] + am[0, 1])*dz + Az*((a[0, 0] + am[0, 0])*dz + Az*z0)) + zrefm))/log(2) + FEX[0, 1])) + Ay[0, 1]*(Ay[1, 0]*(Ay[0, 0]*y0[0, 0] + Ay[0, 1]*y0[1, 0] + dy[0, 0]*(F2xCO2*log(1/zref*(bz*((a[0, 0] + am[0, 0])*dz + Az*z0) + zrefm))/log(2) + FEX[0, 0])) + Ay[1, 1]*(Ay[1, 0]*y0[0, 0] + Ay[1, 1]*y0[1, 0] + dy[1, 0]*(F2xCO2*log(1/zref*(bz*((a[0, 0] + am[0, 0])*dz + Az*z0) + zrefm))/log(2) + FEX[0, 0])) + dy[1, 0]*(F2xCO2*log(1/zref*(bz*((a[0, 1] + am[0, 1])*dz + Az*((a[0, 0] + am[0, 0])*dz + Az*z0)) + zrefm))/log(2) + FEX[0, 1])) + dy[0, 0]*(F2xCO2*log(1/zref*(bz*((a[0, 2] + am[0, 2])*dz + Az*((a[0, 1] + am[0, 1])*dz + Az*((a[0, 0] + am[0, 0])*dz + Az*z0))) + zrefm))/log(2) + FEX[0, 2])) + by[0, 1]*(Ay[1, 0]*(Ay[0, 0]*(Ay[0, 0]*y0[0, 0] + Ay[0, 1]*y0[1, 0] + dy[0, 0]*(F2xCO2*log(1/zref*(bz*((a[0, 0] + am[0, 0])*dz + Az*z0) + zrefm))/log(2) + FEX[0, 0])) + Ay[0, 1]*(Ay[1, 0]*y0[0, 0] + Ay[1, 1]*y0[1, 0] + dy[1, 0]*(F2xCO2*log(1/zref*(bz*((a[0, 0] + am[0, 0])*dz + Az*z0) + zrefm))/log(2) + FEX[0, 0])) + dy[0, 0]*(F2xCO2*log(1/zref*(bz*((a[0, 1] + am[0, 1])*dz + Az*((a[0, 0] + am[0, 0])*dz + Az*z0)) + zrefm))/log(2) + FEX[0, 1])) + Ay[1, 1]*(Ay[1, 0]*(Ay[0, 0]*y0[0, 0] + Ay[0, 1]*y0[1, 0] + dy[0, 0]*(F2xCO2*log(1/zref*(bz*((a[0, 0] + am[0, 0])*dz + Az*z0) + zrefm))/log(2) + FEX[0, 0])) + Ay[1, 1]*(Ay[1, 0]*y0[0, 0] + Ay[1, 1]*y0[1, 0] + dy[1, 0]*(F2xCO2*log(1/zref*(bz*((a[0, 0] + am[0, 0])*dz + Az*z0) + zrefm))/log(2) + FEX[0, 0])) + dy[1, 0]*(F2xCO2*log(1/zref*(bz*((a[0, 1] + am[0, 1])*dz + Az*((a[0, 0] + am[0, 0])*dz + Az*z0)) + zrefm))/log(2) + FEX[0, 1])) + dy[1, 0]*(F2xCO2*log(1/zref*(bz*((a[0, 2] + am[0, 2])*dz + Az*((a[0, 1] + am[0, 1])*dz + Az*((a[0, 0] + am[0, 0])*dz + Az*z0))) + zrefm))/log(2) + FEX[0, 2]))]])"
      ]
     },
     "execution_count": 96,
     "metadata": {},
     "output_type": "execute_result"
    }
   ],
   "source": [
    "y_AT"
   ]
  },
  {
   "cell_type": "code",
   "execution_count": 97,
   "metadata": {},
   "outputs": [],
   "source": [
    "y_AT_ = lambdify([a, sum_other_a, b_y, d_y, A_y, b_z, d_z, A_z, z_0, y_0, F_2xCO2, z_ref, z_1750, exforcing], y_AT, 'numpy')\n",
    "\n",
    "def temp(a : np.array, sum_other_a : np.ndarray):\n",
    "    return y_AT_(\n",
    "                a,\n",
    "                sum_other_a,\n",
    "                np.array([TD.bt]), \n",
    "                np.array([TD.d5]).T, \n",
    "                TD.At5, \n",
    "                np.array([CC.bc]), \n",
    "                np.array([CC.dc5]).T, \n",
    "                CC.Ac5, \n",
    "                np.array([CC.initial_state]).T, \n",
    "                np.array([TD.initial_state]).T, \n",
    "                F_2XCO2, \n",
    "                C_1750,\n",
    "                np.array([[C_1750]]),\n",
    "                np.array([F_EX[0:T]])\n",
    "            ).squeeze()"
   ]
  },
  {
   "cell_type": "code",
   "execution_count": 98,
   "metadata": {},
   "outputs": [
    {
     "data": {
      "text/plain": [
       "(1, 3)"
      ]
     },
     "execution_count": 98,
     "metadata": {},
     "output_type": "execute_result"
    }
   ],
   "source": [
    "np.array([F_EX[0:T]]).shape"
   ]
  },
  {
   "cell_type": "code",
   "execution_count": 86,
   "metadata": {},
   "outputs": [
    {
     "data": {
      "text/plain": [
       "(1, 3)"
      ]
     },
     "execution_count": 86,
     "metadata": {},
     "output_type": "execute_result"
    }
   ],
   "source": [
    "exforcing.shape"
   ]
  },
  {
   "cell_type": "code",
   "execution_count": 99,
   "metadata": {},
   "outputs": [
    {
     "data": {
      "text/plain": [
       "array([1.17254296, 1.2216646 , 1.24540329])"
      ]
     },
     "execution_count": 99,
     "metadata": {},
     "output_type": "execute_result"
    }
   ],
   "source": [
    "temp(np.ones_like(a), np.ones_like(sum_other_a))"
   ]
  },
  {
   "cell_type": "code",
   "execution_count": 6,
   "metadata": {},
   "outputs": [
    {
     "data": {
      "text/latex": [
       "$\\displaystyle by \\left(Ay y_{0} + dy \\left[\\begin{matrix}\\frac{F2xCO2 \\log{\\left(\\frac{1}{zref} \\left(bz \\left(\\left(a_{0, 0} + am_{0, 0}\\right) dz + Az z_{0}\\right) + zrefm\\right) \\right)}}{\\log{\\left(2 \\right)}}\\end{matrix}\\right]\\right)$"
      ],
      "text/plain": [
       "by*(Ay*y0 + dy*Matrix([[F2xCO2*log(1/zref*(bz*((a[0, 0] + am[0, 0])*dz + Az*z0) + zrefm))/log(2)]]))"
      ]
     },
     "execution_count": 6,
     "metadata": {},
     "output_type": "execute_result"
    }
   ],
   "source": [
    "y_AT[0]"
   ]
  },
  {
   "cell_type": "code",
   "execution_count": 15,
   "metadata": {},
   "outputs": [
    {
     "data": {
      "text/plain": [
       "sympy.matrices.dense.MutableDenseMatrix"
      ]
     },
     "execution_count": 15,
     "metadata": {},
     "output_type": "execute_result"
    }
   ],
   "source": [
    "type(forcing)"
   ]
  },
  {
   "cell_type": "code",
   "execution_count": 30,
   "metadata": {},
   "outputs": [],
   "source": [
    "forcing_ = forcing"
   ]
  },
  {
   "cell_type": "code",
   "execution_count": 105,
   "metadata": {},
   "outputs": [
    {
     "data": {
      "text/plain": [
       "\"MutableDenseMatrix([[MatMul(Mul(Symbol('F2xCO2'), Pow(log(Integer(2)), Integer(-1))), ElementwiseApplyFunction(Lambda(Tuple(Dummy('d', dummy_index=2778208)), log(Dummy('d', dummy_index=2778208))), MatMul(Pow(Symbol('zref'), Integer(-1)), MatAdd(MatMul(MatrixSymbol(Str('bz'), Integer(1), Integer(4)), MatAdd(MatMul(Add(MatrixElement(MatrixSymbol(Str('a'), Integer(1), Integer(3)), Integer(0), Integer(0)), MatrixElement(MatrixSymbol(Str('am'), Integer(1), Integer(3)), Integer(0), Integer(0))), MatrixSymbol(Str('dz'), Integer(4), Integer(1))), MatMul(MatrixSymbol(Str('Az'), Integer(4), Integer(4)), MatrixSymbol(Str('z0'), Integer(4), Integer(1))))), MatrixSymbol(Str('zrefm'), Integer(1), Integer(1)))))), MatMul(Mul(Symbol('F2xCO2'), Pow(log(Integer(2)), Integer(-1))), ElementwiseApplyFunction(Lambda(Tuple(Dummy('d', dummy_index=2778209)), log(Dummy('d', dummy_index=2778209))), MatMul(Pow(Symbol('zref'), Integer(-1)), MatAdd(MatMul(MatrixSymbol(Str('bz'), Integer(1), Integer(4)), MatAdd(MatMul(Add(MatrixElement(MatrixSymbol(Str('a'), Integer(1), Integer(3)), Integer(0), Integer(1)), MatrixElement(MatrixSymbol(Str('am'), Integer(1), Integer(3)), Integer(0), Integer(1))), MatrixSymbol(Str('dz'), Integer(4), Integer(1))), MatMul(MatrixSymbol(Str('Az'), Integer(4), Integer(4)), MatAdd(MatMul(Add(MatrixElement(MatrixSymbol(Str('a'), Integer(1), Integer(3)), Integer(0), Integer(0)), MatrixElement(MatrixSymbol(Str('am'), Integer(1), Integer(3)), Integer(0), Integer(0))), MatrixSymbol(Str('dz'), Integer(4), Integer(1))), MatMul(MatrixSymbol(Str('Az'), Integer(4), Integer(4)), MatrixSymbol(Str('z0'), Integer(4), Integer(1))))))), MatrixSymbol(Str('zrefm'), Integer(1), Integer(1)))))), MatMul(Mul(Symbol('F2xCO2'), Pow(log(Integer(2)), Integer(-1))), ElementwiseApplyFunction(Lambda(Tuple(Dummy('d', dummy_index=2778210)), log(Dummy('d', dummy_index=2778210))), MatMul(Pow(Symbol('zref'), Integer(-1)), MatAdd(MatMul(MatrixSymbol(Str('bz'), Integer(1), Integer(4)), MatAdd(MatMul(Add(MatrixElement(MatrixSymbol(Str('a'), Integer(1), Integer(3)), Integer(0), Integer(2)), MatrixElement(MatrixSymbol(Str('am'), Integer(1), Integer(3)), Integer(0), Integer(2))), MatrixSymbol(Str('dz'), Integer(4), Integer(1))), MatMul(MatrixSymbol(Str('Az'), Integer(4), Integer(4)), MatAdd(MatMul(Add(MatrixElement(MatrixSymbol(Str('a'), Integer(1), Integer(3)), Integer(0), Integer(1)), MatrixElement(MatrixSymbol(Str('am'), Integer(1), Integer(3)), Integer(0), Integer(1))), MatrixSymbol(Str('dz'), Integer(4), Integer(1))), MatMul(MatrixSymbol(Str('Az'), Integer(4), Integer(4)), MatAdd(MatMul(Add(MatrixElement(MatrixSymbol(Str('a'), Integer(1), Integer(3)), Integer(0), Integer(0)), MatrixElement(MatrixSymbol(Str('am'), Integer(1), Integer(3)), Integer(0), Integer(0))), MatrixSymbol(Str('dz'), Integer(4), Integer(1))), MatMul(MatrixSymbol(Str('Az'), Integer(4), Integer(4)), MatrixSymbol(Str('z0'), Integer(4), Integer(1))))))))), MatrixSymbol(Str('zrefm'), Integer(1), Integer(1))))))]])\""
      ]
     },
     "execution_count": 105,
     "metadata": {},
     "output_type": "execute_result"
    }
   ],
   "source": [
    "srepr(forcing_)"
   ]
  },
  {
   "cell_type": "code",
   "execution_count": 106,
   "metadata": {},
   "outputs": [
    {
     "data": {
      "text/latex": [
       "$\\displaystyle \\left[\\begin{matrix}\\frac{F2xCO2 \\log{\\left(\\frac{1}{zref} \\left(bz \\left(\\left(a_{0, 0} + am_{0, 0}\\right) dz + Az z_{0}\\right) + zrefm\\right) \\right)}}{\\log{\\left(2 \\right)}} + FEX_{0, 0}\\end{matrix}\\right]$"
      ],
      "text/plain": [
       "Matrix([[F2xCO2*log(1/zref*(bz*((a[0, 0] + am[0, 0])*dz + Az*z0) + zrefm))/log(2) + FEX[0, 0]]])"
      ]
     },
     "execution_count": 106,
     "metadata": {},
     "output_type": "execute_result"
    }
   ],
   "source": [
    "forcing"
   ]
  },
  {
   "cell_type": "code",
   "execution_count": 103,
   "metadata": {},
   "outputs": [
    {
     "data": {
      "text/plain": [
       "\"MutableDenseMatrix([[Add(Mul(Symbol('F2xCO2'), Pow(log(Integer(2)), Integer(-1)), log(MatMul(Pow(Symbol('zref'), Integer(-1)), MatAdd(MatMul(MatrixSymbol(Str('bz'), Integer(1), Integer(4)), MatAdd(MatMul(Add(MatrixElement(MatrixSymbol(Str('a'), Integer(1), Integer(3)), Integer(0), Integer(0)), MatrixElement(MatrixSymbol(Str('am'), Integer(1), Integer(3)), Integer(0), Integer(0))), MatrixSymbol(Str('dz'), Integer(4), Integer(1))), MatMul(MatrixSymbol(Str('Az'), Integer(4), Integer(4)), MatrixSymbol(Str('z0'), Integer(4), Integer(1))))), MatrixSymbol(Str('zrefm'), Integer(1), Integer(1)))))), MatrixElement(MatrixSymbol(Str('FEX'), Integer(1), Integer(3)), Integer(0), Integer(0))), Add(Mul(Symbol('F2xCO2'), Pow(log(Integer(2)), Integer(-1)), log(MatMul(Pow(Symbol('zref'), Integer(-1)), MatAdd(MatMul(MatrixSymbol(Str('bz'), Integer(1), Integer(4)), MatAdd(MatMul(Add(MatrixElement(MatrixSymbol(Str('a'), Integer(1), Integer(3)), Integer(0), Integer(1)), MatrixElement(MatrixSymbol(Str('am'), Integer(1), Integer(3)), Integer(0), Integer(1))), MatrixSymbol(Str('dz'), Integer(4), Integer(1))), MatMul(MatrixSymbol(Str('Az'), Integer(4), Integer(4)), MatAdd(MatMul(Add(MatrixElement(MatrixSymbol(Str('a'), Integer(1), Integer(3)), Integer(0), Integer(0)), MatrixElement(MatrixSymbol(Str('am'), Integer(1), Integer(3)), Integer(0), Integer(0))), MatrixSymbol(Str('dz'), Integer(4), Integer(1))), MatMul(MatrixSymbol(Str('Az'), Integer(4), Integer(4)), MatrixSymbol(Str('z0'), Integer(4), Integer(1))))))), MatrixSymbol(Str('zrefm'), Integer(1), Integer(1)))))), MatrixElement(MatrixSymbol(Str('FEX'), Integer(1), Integer(3)), Integer(0), Integer(1))), Add(Mul(Symbol('F2xCO2'), Pow(log(Integer(2)), Integer(-1)), log(MatMul(Pow(Symbol('zref'), Integer(-1)), MatAdd(MatMul(MatrixSymbol(Str('bz'), Integer(1), Integer(4)), MatAdd(MatMul(Add(MatrixElement(MatrixSymbol(Str('a'), Integer(1), Integer(3)), Integer(0), Integer(2)), MatrixElement(MatrixSymbol(Str('am'), Integer(1), Integer(3)), Integer(0), Integer(2))), MatrixSymbol(Str('dz'), Integer(4), Integer(1))), MatMul(MatrixSymbol(Str('Az'), Integer(4), Integer(4)), MatAdd(MatMul(Add(MatrixElement(MatrixSymbol(Str('a'), Integer(1), Integer(3)), Integer(0), Integer(1)), MatrixElement(MatrixSymbol(Str('am'), Integer(1), Integer(3)), Integer(0), Integer(1))), MatrixSymbol(Str('dz'), Integer(4), Integer(1))), MatMul(MatrixSymbol(Str('Az'), Integer(4), Integer(4)), MatAdd(MatMul(Add(MatrixElement(MatrixSymbol(Str('a'), Integer(1), Integer(3)), Integer(0), Integer(0)), MatrixElement(MatrixSymbol(Str('am'), Integer(1), Integer(3)), Integer(0), Integer(0))), MatrixSymbol(Str('dz'), Integer(4), Integer(1))), MatMul(MatrixSymbol(Str('Az'), Integer(4), Integer(4)), MatrixSymbol(Str('z0'), Integer(4), Integer(1))))))))), MatrixSymbol(Str('zrefm'), Integer(1), Integer(1)))))), MatrixElement(MatrixSymbol(Str('FEX'), Integer(1), Integer(3)), Integer(0), Integer(2)))]])\""
      ]
     },
     "execution_count": 103,
     "metadata": {},
     "output_type": "execute_result"
    }
   ],
   "source": [
    "srepr(forcing)"
   ]
  },
  {
   "cell_type": "code",
   "execution_count": 48,
   "metadata": {},
   "outputs": [],
   "source": [
    "forcing.simplify()"
   ]
  },
  {
   "cell_type": "code",
   "execution_count": 55,
   "metadata": {},
   "outputs": [
    {
     "ename": "NotImplementedError",
     "evalue": "",
     "output_type": "error",
     "traceback": [
      "\u001b[1;31m---------------------------------------------------------------------------\u001b[0m",
      "\u001b[1;31mNotImplementedError\u001b[0m                       Traceback (most recent call last)",
      "Cell \u001b[1;32mIn[55], line 1\u001b[0m\n\u001b[1;32m----> 1\u001b[0m forcing[\u001b[39m0\u001b[39;49m,\u001b[39m0\u001b[39;49m]\u001b[39m.\u001b[39;49mdiff(a[\u001b[39m0\u001b[39;49m, \u001b[39m2\u001b[39;49m])\n",
      "File \u001b[1;32m~\\AppData\\Roaming\\Python\\Python39\\site-packages\\sympy\\core\\expr.py:3555\u001b[0m, in \u001b[0;36mExpr.diff\u001b[1;34m(self, *symbols, **assumptions)\u001b[0m\n\u001b[0;32m   3553\u001b[0m \u001b[39mdef\u001b[39;00m \u001b[39mdiff\u001b[39m(\u001b[39mself\u001b[39m, \u001b[39m*\u001b[39msymbols, \u001b[39m*\u001b[39m\u001b[39m*\u001b[39massumptions):\n\u001b[0;32m   3554\u001b[0m     assumptions\u001b[39m.\u001b[39msetdefault(\u001b[39m\"\u001b[39m\u001b[39mevaluate\u001b[39m\u001b[39m\"\u001b[39m, \u001b[39mTrue\u001b[39;00m)\n\u001b[1;32m-> 3555\u001b[0m     \u001b[39mreturn\u001b[39;00m _derivative_dispatch(\u001b[39mself\u001b[39m, \u001b[39m*\u001b[39msymbols, \u001b[39m*\u001b[39m\u001b[39m*\u001b[39massumptions)\n",
      "File \u001b[1;32m~\\AppData\\Roaming\\Python\\Python39\\site-packages\\sympy\\core\\function.py:1914\u001b[0m, in \u001b[0;36m_derivative_dispatch\u001b[1;34m(expr, *variables, **kwargs)\u001b[0m\n\u001b[0;32m   1912\u001b[0m     \u001b[39mfrom\u001b[39;00m \u001b[39msympy\u001b[39;00m\u001b[39m.\u001b[39;00m\u001b[39mtensor\u001b[39;00m\u001b[39m.\u001b[39;00m\u001b[39marray\u001b[39;00m\u001b[39m.\u001b[39;00m\u001b[39marray_derivatives\u001b[39;00m \u001b[39mimport\u001b[39;00m ArrayDerivative\n\u001b[0;32m   1913\u001b[0m     \u001b[39mreturn\u001b[39;00m ArrayDerivative(expr, \u001b[39m*\u001b[39mvariables, \u001b[39m*\u001b[39m\u001b[39m*\u001b[39mkwargs)\n\u001b[1;32m-> 1914\u001b[0m \u001b[39mreturn\u001b[39;00m Derivative(expr, \u001b[39m*\u001b[39mvariables, \u001b[39m*\u001b[39m\u001b[39m*\u001b[39mkwargs)\n",
      "File \u001b[1;32m~\\AppData\\Roaming\\Python\\Python39\\site-packages\\sympy\\core\\function.py:1442\u001b[0m, in \u001b[0;36mDerivative.__new__\u001b[1;34m(cls, expr, *variables, **kwargs)\u001b[0m\n\u001b[0;32m   1435\u001b[0m     \u001b[39mif\u001b[39;00m \u001b[39mnot\u001b[39;00m old_v\u001b[39m.\u001b[39mis_scalar \u001b[39mand\u001b[39;00m \u001b[39mnot\u001b[39;00m \u001b[39mhasattr\u001b[39m(\n\u001b[0;32m   1436\u001b[0m             old_v, \u001b[39m'\u001b[39m\u001b[39m_eval_derivative\u001b[39m\u001b[39m'\u001b[39m):\n\u001b[0;32m   1437\u001b[0m         \u001b[39m# special hack providing evaluation for classes\u001b[39;00m\n\u001b[0;32m   1438\u001b[0m         \u001b[39m# that have defined is_scalar=True but have no\u001b[39;00m\n\u001b[0;32m   1439\u001b[0m         \u001b[39m# _eval_derivative defined\u001b[39;00m\n\u001b[0;32m   1440\u001b[0m         expr \u001b[39m*\u001b[39m\u001b[39m=\u001b[39m old_v\u001b[39m.\u001b[39mdiff(old_v)\n\u001b[1;32m-> 1442\u001b[0m obj \u001b[39m=\u001b[39m \u001b[39mcls\u001b[39;49m\u001b[39m.\u001b[39;49m_dispatch_eval_derivative_n_times(expr, v, count)\n\u001b[0;32m   1443\u001b[0m \u001b[39mif\u001b[39;00m obj \u001b[39mis\u001b[39;00m \u001b[39mnot\u001b[39;00m \u001b[39mNone\u001b[39;00m \u001b[39mand\u001b[39;00m obj\u001b[39m.\u001b[39mis_zero:\n\u001b[0;32m   1444\u001b[0m     \u001b[39mreturn\u001b[39;00m obj\n",
      "File \u001b[1;32m~\\AppData\\Roaming\\Python\\Python39\\site-packages\\sympy\\core\\function.py:1903\u001b[0m, in \u001b[0;36mDerivative._dispatch_eval_derivative_n_times\u001b[1;34m(cls, expr, v, count)\u001b[0m\n\u001b[0;32m   1897\u001b[0m \u001b[39m@classmethod\u001b[39m\n\u001b[0;32m   1898\u001b[0m \u001b[39mdef\u001b[39;00m \u001b[39m_dispatch_eval_derivative_n_times\u001b[39m(\u001b[39mcls\u001b[39m, expr, v, count):\n\u001b[0;32m   1899\u001b[0m     \u001b[39m# Evaluate the derivative `n` times.  If\u001b[39;00m\n\u001b[0;32m   1900\u001b[0m     \u001b[39m# `_eval_derivative_n_times` is not overridden by the current\u001b[39;00m\n\u001b[0;32m   1901\u001b[0m     \u001b[39m# object, the default in `Basic` will call a loop over\u001b[39;00m\n\u001b[0;32m   1902\u001b[0m     \u001b[39m# `_eval_derivative`:\u001b[39;00m\n\u001b[1;32m-> 1903\u001b[0m     \u001b[39mreturn\u001b[39;00m expr\u001b[39m.\u001b[39;49m_eval_derivative_n_times(v, count)\n",
      "File \u001b[1;32m~\\AppData\\Roaming\\Python\\Python39\\site-packages\\sympy\\core\\cache.py:70\u001b[0m, in \u001b[0;36m__cacheit.<locals>.func_wrapper.<locals>.wrapper\u001b[1;34m(*args, **kwargs)\u001b[0m\n\u001b[0;32m     67\u001b[0m \u001b[39m@wraps\u001b[39m(func)\n\u001b[0;32m     68\u001b[0m \u001b[39mdef\u001b[39;00m \u001b[39mwrapper\u001b[39m(\u001b[39m*\u001b[39margs, \u001b[39m*\u001b[39m\u001b[39m*\u001b[39mkwargs):\n\u001b[0;32m     69\u001b[0m     \u001b[39mtry\u001b[39;00m:\n\u001b[1;32m---> 70\u001b[0m         retval \u001b[39m=\u001b[39m cfunc(\u001b[39m*\u001b[39margs, \u001b[39m*\u001b[39m\u001b[39m*\u001b[39mkwargs)\n\u001b[0;32m     71\u001b[0m     \u001b[39mexcept\u001b[39;00m \u001b[39mTypeError\u001b[39;00m \u001b[39mas\u001b[39;00m e:\n\u001b[0;32m     72\u001b[0m         \u001b[39mif\u001b[39;00m \u001b[39mnot\u001b[39;00m e\u001b[39m.\u001b[39margs \u001b[39mor\u001b[39;00m \u001b[39mnot\u001b[39;00m e\u001b[39m.\u001b[39margs[\u001b[39m0\u001b[39m]\u001b[39m.\u001b[39mstartswith(\u001b[39m'\u001b[39m\u001b[39munhashable type:\u001b[39m\u001b[39m'\u001b[39m):\n",
      "File \u001b[1;32m~\\AppData\\Roaming\\Python\\Python39\\site-packages\\sympy\\core\\mul.py:977\u001b[0m, in \u001b[0;36mMul._eval_derivative_n_times\u001b[1;34m(self, s, n)\u001b[0m\n\u001b[0;32m    973\u001b[0m \u001b[39mfrom\u001b[39;00m \u001b[39m.\u001b[39;00m\u001b[39msymbol\u001b[39;00m \u001b[39mimport\u001b[39;00m Symbol, symbols, Dummy\n\u001b[0;32m    974\u001b[0m \u001b[39mif\u001b[39;00m \u001b[39mnot\u001b[39;00m \u001b[39misinstance\u001b[39m(s, (AppliedUndef, Symbol)):\n\u001b[0;32m    975\u001b[0m     \u001b[39m# other types of s may not be well behaved, e.g.\u001b[39;00m\n\u001b[0;32m    976\u001b[0m     \u001b[39m# (cos(x)*sin(y)).diff([[x, y, z]])\u001b[39;00m\n\u001b[1;32m--> 977\u001b[0m     \u001b[39mreturn\u001b[39;00m \u001b[39msuper\u001b[39;49m()\u001b[39m.\u001b[39;49m_eval_derivative_n_times(s, n)\n\u001b[0;32m    978\u001b[0m \u001b[39mfrom\u001b[39;00m \u001b[39m.\u001b[39;00m\u001b[39mnumbers\u001b[39;00m \u001b[39mimport\u001b[39;00m Integer\n\u001b[0;32m    979\u001b[0m args \u001b[39m=\u001b[39m \u001b[39mself\u001b[39m\u001b[39m.\u001b[39margs\n",
      "File \u001b[1;32m~\\AppData\\Roaming\\Python\\Python39\\site-packages\\sympy\\core\\basic.py:1785\u001b[0m, in \u001b[0;36mBasic._eval_derivative_n_times\u001b[1;34m(self, s, n)\u001b[0m\n\u001b[0;32m   1783\u001b[0m obj \u001b[39m=\u001b[39m \u001b[39mself\u001b[39m\n\u001b[0;32m   1784\u001b[0m \u001b[39mfor\u001b[39;00m i \u001b[39min\u001b[39;00m \u001b[39mrange\u001b[39m(n):\n\u001b[1;32m-> 1785\u001b[0m     obj2 \u001b[39m=\u001b[39m obj\u001b[39m.\u001b[39;49m_eval_derivative(s)\n\u001b[0;32m   1786\u001b[0m     \u001b[39mif\u001b[39;00m obj \u001b[39m==\u001b[39m obj2 \u001b[39mor\u001b[39;00m obj2 \u001b[39mis\u001b[39;00m \u001b[39mNone\u001b[39;00m:\n\u001b[0;32m   1787\u001b[0m         \u001b[39mbreak\u001b[39;00m\n",
      "File \u001b[1;32m~\\AppData\\Roaming\\Python\\Python39\\site-packages\\sympy\\core\\cache.py:70\u001b[0m, in \u001b[0;36m__cacheit.<locals>.func_wrapper.<locals>.wrapper\u001b[1;34m(*args, **kwargs)\u001b[0m\n\u001b[0;32m     67\u001b[0m \u001b[39m@wraps\u001b[39m(func)\n\u001b[0;32m     68\u001b[0m \u001b[39mdef\u001b[39;00m \u001b[39mwrapper\u001b[39m(\u001b[39m*\u001b[39margs, \u001b[39m*\u001b[39m\u001b[39m*\u001b[39mkwargs):\n\u001b[0;32m     69\u001b[0m     \u001b[39mtry\u001b[39;00m:\n\u001b[1;32m---> 70\u001b[0m         retval \u001b[39m=\u001b[39m cfunc(\u001b[39m*\u001b[39margs, \u001b[39m*\u001b[39m\u001b[39m*\u001b[39mkwargs)\n\u001b[0;32m     71\u001b[0m     \u001b[39mexcept\u001b[39;00m \u001b[39mTypeError\u001b[39;00m \u001b[39mas\u001b[39;00m e:\n\u001b[0;32m     72\u001b[0m         \u001b[39mif\u001b[39;00m \u001b[39mnot\u001b[39;00m e\u001b[39m.\u001b[39margs \u001b[39mor\u001b[39;00m \u001b[39mnot\u001b[39;00m e\u001b[39m.\u001b[39margs[\u001b[39m0\u001b[39m]\u001b[39m.\u001b[39mstartswith(\u001b[39m'\u001b[39m\u001b[39munhashable type:\u001b[39m\u001b[39m'\u001b[39m):\n",
      "File \u001b[1;32m~\\AppData\\Roaming\\Python\\Python39\\site-packages\\sympy\\core\\mul.py:963\u001b[0m, in \u001b[0;36mMul._eval_derivative\u001b[1;34m(self, s)\u001b[0m\n\u001b[0;32m    961\u001b[0m terms \u001b[39m=\u001b[39m []\n\u001b[0;32m    962\u001b[0m \u001b[39mfor\u001b[39;00m i \u001b[39min\u001b[39;00m \u001b[39mrange\u001b[39m(\u001b[39mlen\u001b[39m(args)):\n\u001b[1;32m--> 963\u001b[0m     d \u001b[39m=\u001b[39m args[i]\u001b[39m.\u001b[39;49mdiff(s)\n\u001b[0;32m    964\u001b[0m     \u001b[39mif\u001b[39;00m d:\n\u001b[0;32m    965\u001b[0m         \u001b[39m# Note: reduce is used in step of Mul as Mul is unable to\u001b[39;00m\n\u001b[0;32m    966\u001b[0m         \u001b[39m# handle subtypes and operation priority:\u001b[39;00m\n\u001b[0;32m    967\u001b[0m         terms\u001b[39m.\u001b[39mappend(reduce(\u001b[39mlambda\u001b[39;00m x, y: x\u001b[39m*\u001b[39my, (args[:i] \u001b[39m+\u001b[39m [d] \u001b[39m+\u001b[39m args[i \u001b[39m+\u001b[39m \u001b[39m1\u001b[39m:]), S\u001b[39m.\u001b[39mOne))\n",
      "File \u001b[1;32m~\\AppData\\Roaming\\Python\\Python39\\site-packages\\sympy\\core\\expr.py:3555\u001b[0m, in \u001b[0;36mExpr.diff\u001b[1;34m(self, *symbols, **assumptions)\u001b[0m\n\u001b[0;32m   3553\u001b[0m \u001b[39mdef\u001b[39;00m \u001b[39mdiff\u001b[39m(\u001b[39mself\u001b[39m, \u001b[39m*\u001b[39msymbols, \u001b[39m*\u001b[39m\u001b[39m*\u001b[39massumptions):\n\u001b[0;32m   3554\u001b[0m     assumptions\u001b[39m.\u001b[39msetdefault(\u001b[39m\"\u001b[39m\u001b[39mevaluate\u001b[39m\u001b[39m\"\u001b[39m, \u001b[39mTrue\u001b[39;00m)\n\u001b[1;32m-> 3555\u001b[0m     \u001b[39mreturn\u001b[39;00m _derivative_dispatch(\u001b[39mself\u001b[39m, \u001b[39m*\u001b[39msymbols, \u001b[39m*\u001b[39m\u001b[39m*\u001b[39massumptions)\n",
      "File \u001b[1;32m~\\AppData\\Roaming\\Python\\Python39\\site-packages\\sympy\\core\\function.py:1914\u001b[0m, in \u001b[0;36m_derivative_dispatch\u001b[1;34m(expr, *variables, **kwargs)\u001b[0m\n\u001b[0;32m   1912\u001b[0m     \u001b[39mfrom\u001b[39;00m \u001b[39msympy\u001b[39;00m\u001b[39m.\u001b[39;00m\u001b[39mtensor\u001b[39;00m\u001b[39m.\u001b[39;00m\u001b[39marray\u001b[39;00m\u001b[39m.\u001b[39;00m\u001b[39marray_derivatives\u001b[39;00m \u001b[39mimport\u001b[39;00m ArrayDerivative\n\u001b[0;32m   1913\u001b[0m     \u001b[39mreturn\u001b[39;00m ArrayDerivative(expr, \u001b[39m*\u001b[39mvariables, \u001b[39m*\u001b[39m\u001b[39m*\u001b[39mkwargs)\n\u001b[1;32m-> 1914\u001b[0m \u001b[39mreturn\u001b[39;00m Derivative(expr, \u001b[39m*\u001b[39mvariables, \u001b[39m*\u001b[39m\u001b[39m*\u001b[39mkwargs)\n",
      "File \u001b[1;32m~\\AppData\\Roaming\\Python\\Python39\\site-packages\\sympy\\core\\function.py:1442\u001b[0m, in \u001b[0;36mDerivative.__new__\u001b[1;34m(cls, expr, *variables, **kwargs)\u001b[0m\n\u001b[0;32m   1435\u001b[0m     \u001b[39mif\u001b[39;00m \u001b[39mnot\u001b[39;00m old_v\u001b[39m.\u001b[39mis_scalar \u001b[39mand\u001b[39;00m \u001b[39mnot\u001b[39;00m \u001b[39mhasattr\u001b[39m(\n\u001b[0;32m   1436\u001b[0m             old_v, \u001b[39m'\u001b[39m\u001b[39m_eval_derivative\u001b[39m\u001b[39m'\u001b[39m):\n\u001b[0;32m   1437\u001b[0m         \u001b[39m# special hack providing evaluation for classes\u001b[39;00m\n\u001b[0;32m   1438\u001b[0m         \u001b[39m# that have defined is_scalar=True but have no\u001b[39;00m\n\u001b[0;32m   1439\u001b[0m         \u001b[39m# _eval_derivative defined\u001b[39;00m\n\u001b[0;32m   1440\u001b[0m         expr \u001b[39m*\u001b[39m\u001b[39m=\u001b[39m old_v\u001b[39m.\u001b[39mdiff(old_v)\n\u001b[1;32m-> 1442\u001b[0m obj \u001b[39m=\u001b[39m \u001b[39mcls\u001b[39;49m\u001b[39m.\u001b[39;49m_dispatch_eval_derivative_n_times(expr, v, count)\n\u001b[0;32m   1443\u001b[0m \u001b[39mif\u001b[39;00m obj \u001b[39mis\u001b[39;00m \u001b[39mnot\u001b[39;00m \u001b[39mNone\u001b[39;00m \u001b[39mand\u001b[39;00m obj\u001b[39m.\u001b[39mis_zero:\n\u001b[0;32m   1444\u001b[0m     \u001b[39mreturn\u001b[39;00m obj\n",
      "File \u001b[1;32m~\\AppData\\Roaming\\Python\\Python39\\site-packages\\sympy\\core\\function.py:1903\u001b[0m, in \u001b[0;36mDerivative._dispatch_eval_derivative_n_times\u001b[1;34m(cls, expr, v, count)\u001b[0m\n\u001b[0;32m   1897\u001b[0m \u001b[39m@classmethod\u001b[39m\n\u001b[0;32m   1898\u001b[0m \u001b[39mdef\u001b[39;00m \u001b[39m_dispatch_eval_derivative_n_times\u001b[39m(\u001b[39mcls\u001b[39m, expr, v, count):\n\u001b[0;32m   1899\u001b[0m     \u001b[39m# Evaluate the derivative `n` times.  If\u001b[39;00m\n\u001b[0;32m   1900\u001b[0m     \u001b[39m# `_eval_derivative_n_times` is not overridden by the current\u001b[39;00m\n\u001b[0;32m   1901\u001b[0m     \u001b[39m# object, the default in `Basic` will call a loop over\u001b[39;00m\n\u001b[0;32m   1902\u001b[0m     \u001b[39m# `_eval_derivative`:\u001b[39;00m\n\u001b[1;32m-> 1903\u001b[0m     \u001b[39mreturn\u001b[39;00m expr\u001b[39m.\u001b[39;49m_eval_derivative_n_times(v, count)\n",
      "File \u001b[1;32m~\\AppData\\Roaming\\Python\\Python39\\site-packages\\sympy\\core\\basic.py:1785\u001b[0m, in \u001b[0;36mBasic._eval_derivative_n_times\u001b[1;34m(self, s, n)\u001b[0m\n\u001b[0;32m   1783\u001b[0m obj \u001b[39m=\u001b[39m \u001b[39mself\u001b[39m\n\u001b[0;32m   1784\u001b[0m \u001b[39mfor\u001b[39;00m i \u001b[39min\u001b[39;00m \u001b[39mrange\u001b[39m(n):\n\u001b[1;32m-> 1785\u001b[0m     obj2 \u001b[39m=\u001b[39m obj\u001b[39m.\u001b[39;49m_eval_derivative(s)\n\u001b[0;32m   1786\u001b[0m     \u001b[39mif\u001b[39;00m obj \u001b[39m==\u001b[39m obj2 \u001b[39mor\u001b[39;00m obj2 \u001b[39mis\u001b[39;00m \u001b[39mNone\u001b[39;00m:\n\u001b[0;32m   1787\u001b[0m         \u001b[39mbreak\u001b[39;00m\n",
      "File \u001b[1;32m~\\AppData\\Roaming\\Python\\Python39\\site-packages\\sympy\\core\\function.py:607\u001b[0m, in \u001b[0;36mFunction._eval_derivative\u001b[1;34m(self, s)\u001b[0m\n\u001b[0;32m    605\u001b[0m     \u001b[39mcontinue\u001b[39;00m\n\u001b[0;32m    606\u001b[0m \u001b[39mtry\u001b[39;00m:\n\u001b[1;32m--> 607\u001b[0m     df \u001b[39m=\u001b[39m \u001b[39mself\u001b[39;49m\u001b[39m.\u001b[39;49mfdiff(i)\n\u001b[0;32m    608\u001b[0m \u001b[39mexcept\u001b[39;00m ArgumentIndexError:\n\u001b[0;32m    609\u001b[0m     df \u001b[39m=\u001b[39m Function\u001b[39m.\u001b[39mfdiff(\u001b[39mself\u001b[39m, i)\n",
      "File \u001b[1;32m~\\AppData\\Roaming\\Python\\Python39\\site-packages\\sympy\\functions\\elementary\\exponential.py:648\u001b[0m, in \u001b[0;36mlog.fdiff\u001b[1;34m(self, argindex)\u001b[0m\n\u001b[0;32m    644\u001b[0m \u001b[39m\"\"\"\u001b[39;00m\n\u001b[0;32m    645\u001b[0m \u001b[39mReturns the first derivative of the function.\u001b[39;00m\n\u001b[0;32m    646\u001b[0m \u001b[39m\"\"\"\u001b[39;00m\n\u001b[0;32m    647\u001b[0m \u001b[39mif\u001b[39;00m argindex \u001b[39m==\u001b[39m \u001b[39m1\u001b[39m:\n\u001b[1;32m--> 648\u001b[0m     \u001b[39mreturn\u001b[39;00m \u001b[39m1\u001b[39;49m\u001b[39m/\u001b[39;49m\u001b[39mself\u001b[39;49m\u001b[39m.\u001b[39;49margs[\u001b[39m0\u001b[39;49m]\n\u001b[0;32m    649\u001b[0m \u001b[39melse\u001b[39;00m:\n\u001b[0;32m    650\u001b[0m     \u001b[39mraise\u001b[39;00m ArgumentIndexError(\u001b[39mself\u001b[39m, argindex)\n",
      "File \u001b[1;32m~\\AppData\\Roaming\\Python\\Python39\\site-packages\\sympy\\matrices\\expressions\\matexpr.py:27\u001b[0m, in \u001b[0;36m_sympifyit.<locals>.deco.<locals>.__sympifyit_wrapper\u001b[1;34m(a, b)\u001b[0m\n\u001b[0;32m     25\u001b[0m \u001b[39mtry\u001b[39;00m:\n\u001b[0;32m     26\u001b[0m     b \u001b[39m=\u001b[39m _sympify(b)\n\u001b[1;32m---> 27\u001b[0m     \u001b[39mreturn\u001b[39;00m func(a, b)\n\u001b[0;32m     28\u001b[0m \u001b[39mexcept\u001b[39;00m SympifyError:\n\u001b[0;32m     29\u001b[0m     \u001b[39mreturn\u001b[39;00m retval\n",
      "File \u001b[1;32m~\\AppData\\Roaming\\Python\\Python39\\site-packages\\sympy\\core\\decorators.py:106\u001b[0m, in \u001b[0;36mcall_highest_priority.<locals>.priority_decorator.<locals>.binary_op_wrapper\u001b[1;34m(self, other)\u001b[0m\n\u001b[0;32m    104\u001b[0m         \u001b[39mif\u001b[39;00m f \u001b[39mis\u001b[39;00m \u001b[39mnot\u001b[39;00m \u001b[39mNone\u001b[39;00m:\n\u001b[0;32m    105\u001b[0m             \u001b[39mreturn\u001b[39;00m f(\u001b[39mself\u001b[39m)\n\u001b[1;32m--> 106\u001b[0m \u001b[39mreturn\u001b[39;00m func(\u001b[39mself\u001b[39;49m, other)\n",
      "File \u001b[1;32m~\\AppData\\Roaming\\Python\\Python39\\site-packages\\sympy\\matrices\\expressions\\matexpr.py:162\u001b[0m, in \u001b[0;36mMatrixExpr.__rtruediv__\u001b[1;34m(self, other)\u001b[0m\n\u001b[0;32m    159\u001b[0m \u001b[39m@_sympifyit\u001b[39m(\u001b[39m'\u001b[39m\u001b[39mother\u001b[39m\u001b[39m'\u001b[39m, \u001b[39mNotImplemented\u001b[39m)\n\u001b[0;32m    160\u001b[0m \u001b[39m@call_highest_priority\u001b[39m(\u001b[39m'\u001b[39m\u001b[39m__truediv__\u001b[39m\u001b[39m'\u001b[39m)\n\u001b[0;32m    161\u001b[0m \u001b[39mdef\u001b[39;00m \u001b[39m__rtruediv__\u001b[39m(\u001b[39mself\u001b[39m, other):\n\u001b[1;32m--> 162\u001b[0m     \u001b[39mraise\u001b[39;00m \u001b[39mNotImplementedError\u001b[39;00m()\n",
      "\u001b[1;31mNotImplementedError\u001b[0m: "
     ]
    }
   ],
   "source": []
  },
  {
   "cell_type": "code",
   "execution_count": 50,
   "metadata": {},
   "outputs": [
    {
     "name": "stdout",
     "output_type": "stream",
     "text": [
      "type(forcing_) <class 'sympy.matrices.dense.MutableDenseMatrix'>\n",
      "type(forcing) <class 'sympy.matrices.dense.MutableDenseMatrix'>\n",
      "type(forcing_)[0] <class 'sympy.matrices.expressions.matmul.MatMul'>\n",
      "type(forcing)[0] <class 'sympy.core.mul.Mul'>\n",
      "forcing_[0] (1, 1)\n"
     ]
    },
    {
     "ename": "AttributeError",
     "evalue": "'Mul' object has no attribute 'shape'",
     "output_type": "error",
     "traceback": [
      "\u001b[1;31m---------------------------------------------------------------------------\u001b[0m",
      "\u001b[1;31mAttributeError\u001b[0m                            Traceback (most recent call last)",
      "Cell \u001b[1;32mIn[50], line 8\u001b[0m\n\u001b[0;32m      5\u001b[0m \u001b[39mprint\u001b[39m(\u001b[39m'\u001b[39m\u001b[39mtype(forcing)[0]\u001b[39m\u001b[39m'\u001b[39m,\u001b[39mtype\u001b[39m(forcing[\u001b[39m0\u001b[39m]))\n\u001b[0;32m      7\u001b[0m \u001b[39mprint\u001b[39m(\u001b[39m'\u001b[39m\u001b[39mforcing_[0]\u001b[39m\u001b[39m'\u001b[39m,forcing_[\u001b[39m0\u001b[39m]\u001b[39m.\u001b[39mshape)\n\u001b[1;32m----> 8\u001b[0m \u001b[39mprint\u001b[39m(\u001b[39m'\u001b[39m\u001b[39mforcing[0]\u001b[39m\u001b[39m'\u001b[39m ,forcing[\u001b[39m0\u001b[39;49m]\u001b[39m.\u001b[39;49mshape)\n",
      "\u001b[1;31mAttributeError\u001b[0m: 'Mul' object has no attribute 'shape'"
     ]
    }
   ],
   "source": [
    "print('type(forcing_)',type(forcing_))\n",
    "print('type(forcing)',type(forcing))\n",
    "\n",
    "print('type(forcing_)[0]',type(forcing_[0]))\n",
    "print('type(forcing)[0]',type(forcing[0]))\n",
    "\n",
    "print('forcing_[0]',forcing_[0].shape)\n",
    "print('forcing[0]' ,forcing[0].shape)"
   ]
  },
  {
   "cell_type": "code",
   "execution_count": 100,
   "metadata": {},
   "outputs": [
    {
     "ename": "NotImplementedError",
     "evalue": "",
     "output_type": "error",
     "traceback": [
      "\u001b[1;31m---------------------------------------------------------------------------\u001b[0m",
      "\u001b[1;31mNotImplementedError\u001b[0m                       Traceback (most recent call last)",
      "Cell \u001b[1;32mIn[100], line 1\u001b[0m\n\u001b[1;32m----> 1\u001b[0m y_AT\u001b[39m.\u001b[39;49mdiff(a[\u001b[39m0\u001b[39;49m,\u001b[39m0\u001b[39;49m])\n",
      "File \u001b[1;32m~\\AppData\\Roaming\\Python\\Python39\\site-packages\\sympy\\matrices\\matrices.py:469\u001b[0m, in \u001b[0;36mMatrixCalculus.diff\u001b[1;34m(self, *args, **kwargs)\u001b[0m\n\u001b[0;32m    467\u001b[0m \u001b[39mfrom\u001b[39;00m \u001b[39msympy\u001b[39;00m\u001b[39m.\u001b[39;00m\u001b[39mtensor\u001b[39;00m\u001b[39m.\u001b[39;00m\u001b[39marray\u001b[39;00m\u001b[39m.\u001b[39;00m\u001b[39marray_derivatives\u001b[39;00m \u001b[39mimport\u001b[39;00m ArrayDerivative\n\u001b[0;32m    468\u001b[0m kwargs\u001b[39m.\u001b[39msetdefault(\u001b[39m'\u001b[39m\u001b[39mevaluate\u001b[39m\u001b[39m'\u001b[39m, \u001b[39mTrue\u001b[39;00m)\n\u001b[1;32m--> 469\u001b[0m deriv \u001b[39m=\u001b[39m ArrayDerivative(\u001b[39mself\u001b[39;49m, \u001b[39m*\u001b[39;49margs, evaluate\u001b[39m=\u001b[39;49m\u001b[39mTrue\u001b[39;49;00m)\n\u001b[0;32m    470\u001b[0m \u001b[39mif\u001b[39;00m \u001b[39mnot\u001b[39;00m \u001b[39misinstance\u001b[39m(\u001b[39mself\u001b[39m, Basic):\n\u001b[0;32m    471\u001b[0m     \u001b[39mreturn\u001b[39;00m deriv\u001b[39m.\u001b[39mas_mutable()\n",
      "File \u001b[1;32m~\\AppData\\Roaming\\Python\\Python39\\site-packages\\sympy\\tensor\\array\\array_derivatives.py:19\u001b[0m, in \u001b[0;36mArrayDerivative.__new__\u001b[1;34m(cls, expr, *variables, **kwargs)\u001b[0m\n\u001b[0;32m     18\u001b[0m \u001b[39mdef\u001b[39;00m \u001b[39m__new__\u001b[39m(\u001b[39mcls\u001b[39m, expr, \u001b[39m*\u001b[39mvariables, \u001b[39m*\u001b[39m\u001b[39m*\u001b[39mkwargs):\n\u001b[1;32m---> 19\u001b[0m     obj \u001b[39m=\u001b[39m \u001b[39msuper\u001b[39m()\u001b[39m.\u001b[39m\u001b[39m__new__\u001b[39m(\u001b[39mcls\u001b[39m, expr, \u001b[39m*\u001b[39mvariables, \u001b[39m*\u001b[39m\u001b[39m*\u001b[39mkwargs)\n\u001b[0;32m     20\u001b[0m     \u001b[39mif\u001b[39;00m \u001b[39misinstance\u001b[39m(obj, ArrayDerivative):\n\u001b[0;32m     21\u001b[0m         obj\u001b[39m.\u001b[39m_shape \u001b[39m=\u001b[39m obj\u001b[39m.\u001b[39m_get_shape()\n",
      "File \u001b[1;32m~\\AppData\\Roaming\\Python\\Python39\\site-packages\\sympy\\core\\function.py:1442\u001b[0m, in \u001b[0;36mDerivative.__new__\u001b[1;34m(cls, expr, *variables, **kwargs)\u001b[0m\n\u001b[0;32m   1435\u001b[0m     \u001b[39mif\u001b[39;00m \u001b[39mnot\u001b[39;00m old_v\u001b[39m.\u001b[39mis_scalar \u001b[39mand\u001b[39;00m \u001b[39mnot\u001b[39;00m \u001b[39mhasattr\u001b[39m(\n\u001b[0;32m   1436\u001b[0m             old_v, \u001b[39m'\u001b[39m\u001b[39m_eval_derivative\u001b[39m\u001b[39m'\u001b[39m):\n\u001b[0;32m   1437\u001b[0m         \u001b[39m# special hack providing evaluation for classes\u001b[39;00m\n\u001b[0;32m   1438\u001b[0m         \u001b[39m# that have defined is_scalar=True but have no\u001b[39;00m\n\u001b[0;32m   1439\u001b[0m         \u001b[39m# _eval_derivative defined\u001b[39;00m\n\u001b[0;32m   1440\u001b[0m         expr \u001b[39m*\u001b[39m\u001b[39m=\u001b[39m old_v\u001b[39m.\u001b[39mdiff(old_v)\n\u001b[1;32m-> 1442\u001b[0m obj \u001b[39m=\u001b[39m \u001b[39mcls\u001b[39;49m\u001b[39m.\u001b[39;49m_dispatch_eval_derivative_n_times(expr, v, count)\n\u001b[0;32m   1443\u001b[0m \u001b[39mif\u001b[39;00m obj \u001b[39mis\u001b[39;00m \u001b[39mnot\u001b[39;00m \u001b[39mNone\u001b[39;00m \u001b[39mand\u001b[39;00m obj\u001b[39m.\u001b[39mis_zero:\n\u001b[0;32m   1444\u001b[0m     \u001b[39mreturn\u001b[39;00m obj\n",
      "File \u001b[1;32m~\\AppData\\Roaming\\Python\\Python39\\site-packages\\sympy\\tensor\\array\\array_derivatives.py:106\u001b[0m, in \u001b[0;36mArrayDerivative._dispatch_eval_derivative_n_times\u001b[1;34m(cls, expr, v, count)\u001b[0m\n\u001b[0;32m    104\u001b[0m \u001b[39melif\u001b[39;00m v\u001b[39m.\u001b[39mis_scalar:\n\u001b[0;32m    105\u001b[0m     \u001b[39mif\u001b[39;00m \u001b[39misinstance\u001b[39m(expr, MatrixCommon):\n\u001b[1;32m--> 106\u001b[0m         result \u001b[39m=\u001b[39m \u001b[39mcls\u001b[39;49m\u001b[39m.\u001b[39;49m_call_derive_matrix_by_scalar(expr, v)\n\u001b[0;32m    107\u001b[0m     \u001b[39melif\u001b[39;00m \u001b[39misinstance\u001b[39m(expr, MatrixExpr):\n\u001b[0;32m    108\u001b[0m         result \u001b[39m=\u001b[39m \u001b[39mcls\u001b[39m\u001b[39m.\u001b[39m_call_derive_matexpr_by_scalar(expr, v)\n",
      "File \u001b[1;32m~\\AppData\\Roaming\\Python\\Python39\\site-packages\\sympy\\tensor\\array\\array_derivatives.py:64\u001b[0m, in \u001b[0;36mArrayDerivative._call_derive_matrix_by_scalar\u001b[1;34m(expr, v)\u001b[0m\n\u001b[0;32m     62\u001b[0m \u001b[39m@staticmethod\u001b[39m\n\u001b[0;32m     63\u001b[0m \u001b[39mdef\u001b[39;00m \u001b[39m_call_derive_matrix_by_scalar\u001b[39m(expr, v):  \u001b[39m# type: (MatrixCommon, Expr) -> Expr\u001b[39;00m\n\u001b[1;32m---> 64\u001b[0m     \u001b[39mreturn\u001b[39;00m _matrix_derivative(expr, v)\n",
      "File \u001b[1;32m~\\AppData\\Roaming\\Python\\Python39\\site-packages\\sympy\\matrices\\expressions\\matexpr.py:526\u001b[0m, in \u001b[0;36m_matrix_derivative\u001b[1;34m(expr, x, old_algorithm)\u001b[0m\n\u001b[0;32m    523\u001b[0m     old_algorithm \u001b[39m=\u001b[39m \u001b[39mTrue\u001b[39;00m\n\u001b[0;32m    525\u001b[0m \u001b[39mif\u001b[39;00m old_algorithm:\n\u001b[1;32m--> 526\u001b[0m     \u001b[39mreturn\u001b[39;00m _matrix_derivative_old_algorithm(expr, x)\n\u001b[0;32m    528\u001b[0m \u001b[39mfrom\u001b[39;00m \u001b[39msympy\u001b[39;00m\u001b[39m.\u001b[39;00m\u001b[39mtensor\u001b[39;00m\u001b[39m.\u001b[39;00m\u001b[39marray\u001b[39;00m\u001b[39m.\u001b[39;00m\u001b[39mexpressions\u001b[39;00m\u001b[39m.\u001b[39;00m\u001b[39mconv_matrix_to_array\u001b[39;00m \u001b[39mimport\u001b[39;00m convert_matrix_to_array\n\u001b[0;32m    529\u001b[0m \u001b[39mfrom\u001b[39;00m \u001b[39msympy\u001b[39;00m\u001b[39m.\u001b[39;00m\u001b[39mtensor\u001b[39;00m\u001b[39m.\u001b[39;00m\u001b[39marray\u001b[39;00m\u001b[39m.\u001b[39;00m\u001b[39mexpressions\u001b[39;00m\u001b[39m.\u001b[39;00m\u001b[39marrayexpr_derivatives\u001b[39;00m \u001b[39mimport\u001b[39;00m array_derive\n",
      "File \u001b[1;32m~\\AppData\\Roaming\\Python\\Python39\\site-packages\\sympy\\matrices\\expressions\\matexpr.py:540\u001b[0m, in \u001b[0;36m_matrix_derivative_old_algorithm\u001b[1;34m(expr, x)\u001b[0m\n\u001b[0;32m    538\u001b[0m \u001b[39mdef\u001b[39;00m \u001b[39m_matrix_derivative_old_algorithm\u001b[39m(expr, x):\n\u001b[0;32m    539\u001b[0m     \u001b[39mfrom\u001b[39;00m \u001b[39msympy\u001b[39;00m\u001b[39m.\u001b[39;00m\u001b[39mtensor\u001b[39;00m\u001b[39m.\u001b[39;00m\u001b[39marray\u001b[39;00m\u001b[39m.\u001b[39;00m\u001b[39marray_derivatives\u001b[39;00m \u001b[39mimport\u001b[39;00m ArrayDerivative\n\u001b[1;32m--> 540\u001b[0m     lines \u001b[39m=\u001b[39m expr\u001b[39m.\u001b[39;49m_eval_derivative_matrix_lines(x)\n\u001b[0;32m    542\u001b[0m     parts \u001b[39m=\u001b[39m [i\u001b[39m.\u001b[39mbuild() \u001b[39mfor\u001b[39;00m i \u001b[39min\u001b[39;00m lines]\n\u001b[0;32m    544\u001b[0m     \u001b[39mfrom\u001b[39;00m \u001b[39msympy\u001b[39;00m\u001b[39m.\u001b[39;00m\u001b[39mtensor\u001b[39;00m\u001b[39m.\u001b[39;00m\u001b[39marray\u001b[39;00m\u001b[39m.\u001b[39;00m\u001b[39mexpressions\u001b[39;00m\u001b[39m.\u001b[39;00m\u001b[39mconv_array_to_matrix\u001b[39;00m \u001b[39mimport\u001b[39;00m convert_array_to_matrix\n",
      "File \u001b[1;32m~\\AppData\\Roaming\\Python\\Python39\\site-packages\\sympy\\core\\expr.py:3926\u001b[0m, in \u001b[0;36mExpr._eval_derivative_matrix_lines\u001b[1;34m(self, x)\u001b[0m\n\u001b[0;32m   3924\u001b[0m \u001b[39mdef\u001b[39;00m \u001b[39m_eval_derivative_matrix_lines\u001b[39m(\u001b[39mself\u001b[39m, x):\n\u001b[0;32m   3925\u001b[0m     \u001b[39mfrom\u001b[39;00m \u001b[39msympy\u001b[39;00m\u001b[39m.\u001b[39;00m\u001b[39mmatrices\u001b[39;00m\u001b[39m.\u001b[39;00m\u001b[39mexpressions\u001b[39;00m\u001b[39m.\u001b[39;00m\u001b[39mmatexpr\u001b[39;00m \u001b[39mimport\u001b[39;00m _LeftRightArgs\n\u001b[1;32m-> 3926\u001b[0m     \u001b[39mreturn\u001b[39;00m [_LeftRightArgs([S\u001b[39m.\u001b[39mOne, S\u001b[39m.\u001b[39mOne], higher\u001b[39m=\u001b[39m\u001b[39mself\u001b[39;49m\u001b[39m.\u001b[39;49m_eval_derivative(x))]\n",
      "File \u001b[1;32m~\\AppData\\Roaming\\Python\\Python39\\site-packages\\sympy\\matrices\\matrices.py:476\u001b[0m, in \u001b[0;36mMatrixCalculus._eval_derivative\u001b[1;34m(self, arg)\u001b[0m\n\u001b[0;32m    475\u001b[0m \u001b[39mdef\u001b[39;00m \u001b[39m_eval_derivative\u001b[39m(\u001b[39mself\u001b[39m, arg):\n\u001b[1;32m--> 476\u001b[0m     \u001b[39mreturn\u001b[39;00m \u001b[39mself\u001b[39;49m\u001b[39m.\u001b[39;49mapplyfunc(\u001b[39mlambda\u001b[39;49;00m x: x\u001b[39m.\u001b[39;49mdiff(arg))\n",
      "File \u001b[1;32m~\\AppData\\Roaming\\Python\\Python39\\site-packages\\sympy\\matrices\\common.py:2058\u001b[0m, in \u001b[0;36mMatrixOperations.applyfunc\u001b[1;34m(self, f)\u001b[0m\n\u001b[0;32m   2055\u001b[0m \u001b[39mif\u001b[39;00m \u001b[39mnot\u001b[39;00m callable(f):\n\u001b[0;32m   2056\u001b[0m     \u001b[39mraise\u001b[39;00m \u001b[39mTypeError\u001b[39;00m(\u001b[39m\"\u001b[39m\u001b[39m`f` must be callable.\u001b[39m\u001b[39m\"\u001b[39m)\n\u001b[1;32m-> 2058\u001b[0m \u001b[39mreturn\u001b[39;00m \u001b[39mself\u001b[39;49m\u001b[39m.\u001b[39;49m_eval_applyfunc(f)\n",
      "File \u001b[1;32m~\\AppData\\Roaming\\Python\\Python39\\site-packages\\sympy\\matrices\\common.py:2000\u001b[0m, in \u001b[0;36mMatrixOperations._eval_applyfunc\u001b[1;34m(self, f)\u001b[0m\n\u001b[0;32m   1999\u001b[0m \u001b[39mdef\u001b[39;00m \u001b[39m_eval_applyfunc\u001b[39m(\u001b[39mself\u001b[39m, f):\n\u001b[1;32m-> 2000\u001b[0m     out \u001b[39m=\u001b[39m \u001b[39mself\u001b[39m\u001b[39m.\u001b[39m_new(\u001b[39mself\u001b[39m\u001b[39m.\u001b[39mrows, \u001b[39mself\u001b[39m\u001b[39m.\u001b[39mcols, [f(x) \u001b[39mfor\u001b[39;00m x \u001b[39min\u001b[39;00m \u001b[39mself\u001b[39m])\n\u001b[0;32m   2001\u001b[0m     \u001b[39mreturn\u001b[39;00m out\n",
      "File \u001b[1;32m~\\AppData\\Roaming\\Python\\Python39\\site-packages\\sympy\\matrices\\common.py:2000\u001b[0m, in \u001b[0;36m<listcomp>\u001b[1;34m(.0)\u001b[0m\n\u001b[0;32m   1999\u001b[0m \u001b[39mdef\u001b[39;00m \u001b[39m_eval_applyfunc\u001b[39m(\u001b[39mself\u001b[39m, f):\n\u001b[1;32m-> 2000\u001b[0m     out \u001b[39m=\u001b[39m \u001b[39mself\u001b[39m\u001b[39m.\u001b[39m_new(\u001b[39mself\u001b[39m\u001b[39m.\u001b[39mrows, \u001b[39mself\u001b[39m\u001b[39m.\u001b[39mcols, [f(x) \u001b[39mfor\u001b[39;00m x \u001b[39min\u001b[39;00m \u001b[39mself\u001b[39m])\n\u001b[0;32m   2001\u001b[0m     \u001b[39mreturn\u001b[39;00m out\n",
      "File \u001b[1;32m~\\AppData\\Roaming\\Python\\Python39\\site-packages\\sympy\\matrices\\matrices.py:476\u001b[0m, in \u001b[0;36mMatrixCalculus._eval_derivative.<locals>.<lambda>\u001b[1;34m(x)\u001b[0m\n\u001b[0;32m    475\u001b[0m \u001b[39mdef\u001b[39;00m \u001b[39m_eval_derivative\u001b[39m(\u001b[39mself\u001b[39m, arg):\n\u001b[1;32m--> 476\u001b[0m     \u001b[39mreturn\u001b[39;00m \u001b[39mself\u001b[39m\u001b[39m.\u001b[39mapplyfunc(\u001b[39mlambda\u001b[39;00m x: x\u001b[39m.\u001b[39;49mdiff(arg))\n",
      "File \u001b[1;32m~\\AppData\\Roaming\\Python\\Python39\\site-packages\\sympy\\core\\expr.py:3555\u001b[0m, in \u001b[0;36mExpr.diff\u001b[1;34m(self, *symbols, **assumptions)\u001b[0m\n\u001b[0;32m   3553\u001b[0m \u001b[39mdef\u001b[39;00m \u001b[39mdiff\u001b[39m(\u001b[39mself\u001b[39m, \u001b[39m*\u001b[39msymbols, \u001b[39m*\u001b[39m\u001b[39m*\u001b[39massumptions):\n\u001b[0;32m   3554\u001b[0m     assumptions\u001b[39m.\u001b[39msetdefault(\u001b[39m\"\u001b[39m\u001b[39mevaluate\u001b[39m\u001b[39m\"\u001b[39m, \u001b[39mTrue\u001b[39;00m)\n\u001b[1;32m-> 3555\u001b[0m     \u001b[39mreturn\u001b[39;00m _derivative_dispatch(\u001b[39mself\u001b[39m, \u001b[39m*\u001b[39msymbols, \u001b[39m*\u001b[39m\u001b[39m*\u001b[39massumptions)\n",
      "File \u001b[1;32m~\\AppData\\Roaming\\Python\\Python39\\site-packages\\sympy\\core\\function.py:1914\u001b[0m, in \u001b[0;36m_derivative_dispatch\u001b[1;34m(expr, *variables, **kwargs)\u001b[0m\n\u001b[0;32m   1912\u001b[0m     \u001b[39mfrom\u001b[39;00m \u001b[39msympy\u001b[39;00m\u001b[39m.\u001b[39;00m\u001b[39mtensor\u001b[39;00m\u001b[39m.\u001b[39;00m\u001b[39marray\u001b[39;00m\u001b[39m.\u001b[39;00m\u001b[39marray_derivatives\u001b[39;00m \u001b[39mimport\u001b[39;00m ArrayDerivative\n\u001b[0;32m   1913\u001b[0m     \u001b[39mreturn\u001b[39;00m ArrayDerivative(expr, \u001b[39m*\u001b[39mvariables, \u001b[39m*\u001b[39m\u001b[39m*\u001b[39mkwargs)\n\u001b[1;32m-> 1914\u001b[0m \u001b[39mreturn\u001b[39;00m Derivative(expr, \u001b[39m*\u001b[39mvariables, \u001b[39m*\u001b[39m\u001b[39m*\u001b[39mkwargs)\n",
      "File \u001b[1;32m~\\AppData\\Roaming\\Python\\Python39\\site-packages\\sympy\\core\\function.py:1442\u001b[0m, in \u001b[0;36mDerivative.__new__\u001b[1;34m(cls, expr, *variables, **kwargs)\u001b[0m\n\u001b[0;32m   1435\u001b[0m     \u001b[39mif\u001b[39;00m \u001b[39mnot\u001b[39;00m old_v\u001b[39m.\u001b[39mis_scalar \u001b[39mand\u001b[39;00m \u001b[39mnot\u001b[39;00m \u001b[39mhasattr\u001b[39m(\n\u001b[0;32m   1436\u001b[0m             old_v, \u001b[39m'\u001b[39m\u001b[39m_eval_derivative\u001b[39m\u001b[39m'\u001b[39m):\n\u001b[0;32m   1437\u001b[0m         \u001b[39m# special hack providing evaluation for classes\u001b[39;00m\n\u001b[0;32m   1438\u001b[0m         \u001b[39m# that have defined is_scalar=True but have no\u001b[39;00m\n\u001b[0;32m   1439\u001b[0m         \u001b[39m# _eval_derivative defined\u001b[39;00m\n\u001b[0;32m   1440\u001b[0m         expr \u001b[39m*\u001b[39m\u001b[39m=\u001b[39m old_v\u001b[39m.\u001b[39mdiff(old_v)\n\u001b[1;32m-> 1442\u001b[0m obj \u001b[39m=\u001b[39m \u001b[39mcls\u001b[39;49m\u001b[39m.\u001b[39;49m_dispatch_eval_derivative_n_times(expr, v, count)\n\u001b[0;32m   1443\u001b[0m \u001b[39mif\u001b[39;00m obj \u001b[39mis\u001b[39;00m \u001b[39mnot\u001b[39;00m \u001b[39mNone\u001b[39;00m \u001b[39mand\u001b[39;00m obj\u001b[39m.\u001b[39mis_zero:\n\u001b[0;32m   1444\u001b[0m     \u001b[39mreturn\u001b[39;00m obj\n",
      "File \u001b[1;32m~\\AppData\\Roaming\\Python\\Python39\\site-packages\\sympy\\core\\function.py:1903\u001b[0m, in \u001b[0;36mDerivative._dispatch_eval_derivative_n_times\u001b[1;34m(cls, expr, v, count)\u001b[0m\n\u001b[0;32m   1897\u001b[0m \u001b[39m@classmethod\u001b[39m\n\u001b[0;32m   1898\u001b[0m \u001b[39mdef\u001b[39;00m \u001b[39m_dispatch_eval_derivative_n_times\u001b[39m(\u001b[39mcls\u001b[39m, expr, v, count):\n\u001b[0;32m   1899\u001b[0m     \u001b[39m# Evaluate the derivative `n` times.  If\u001b[39;00m\n\u001b[0;32m   1900\u001b[0m     \u001b[39m# `_eval_derivative_n_times` is not overridden by the current\u001b[39;00m\n\u001b[0;32m   1901\u001b[0m     \u001b[39m# object, the default in `Basic` will call a loop over\u001b[39;00m\n\u001b[0;32m   1902\u001b[0m     \u001b[39m# `_eval_derivative`:\u001b[39;00m\n\u001b[1;32m-> 1903\u001b[0m     \u001b[39mreturn\u001b[39;00m expr\u001b[39m.\u001b[39;49m_eval_derivative_n_times(v, count)\n",
      "File \u001b[1;32m~\\AppData\\Roaming\\Python\\Python39\\site-packages\\sympy\\core\\basic.py:1785\u001b[0m, in \u001b[0;36mBasic._eval_derivative_n_times\u001b[1;34m(self, s, n)\u001b[0m\n\u001b[0;32m   1783\u001b[0m obj \u001b[39m=\u001b[39m \u001b[39mself\u001b[39m\n\u001b[0;32m   1784\u001b[0m \u001b[39mfor\u001b[39;00m i \u001b[39min\u001b[39;00m \u001b[39mrange\u001b[39m(n):\n\u001b[1;32m-> 1785\u001b[0m     obj2 \u001b[39m=\u001b[39m obj\u001b[39m.\u001b[39;49m_eval_derivative(s)\n\u001b[0;32m   1786\u001b[0m     \u001b[39mif\u001b[39;00m obj \u001b[39m==\u001b[39m obj2 \u001b[39mor\u001b[39;00m obj2 \u001b[39mis\u001b[39;00m \u001b[39mNone\u001b[39;00m:\n\u001b[0;32m   1787\u001b[0m         \u001b[39mbreak\u001b[39;00m\n",
      "File \u001b[1;32m~\\AppData\\Roaming\\Python\\Python39\\site-packages\\sympy\\core\\cache.py:70\u001b[0m, in \u001b[0;36m__cacheit.<locals>.func_wrapper.<locals>.wrapper\u001b[1;34m(*args, **kwargs)\u001b[0m\n\u001b[0;32m     67\u001b[0m \u001b[39m@wraps\u001b[39m(func)\n\u001b[0;32m     68\u001b[0m \u001b[39mdef\u001b[39;00m \u001b[39mwrapper\u001b[39m(\u001b[39m*\u001b[39margs, \u001b[39m*\u001b[39m\u001b[39m*\u001b[39mkwargs):\n\u001b[0;32m     69\u001b[0m     \u001b[39mtry\u001b[39;00m:\n\u001b[1;32m---> 70\u001b[0m         retval \u001b[39m=\u001b[39m cfunc(\u001b[39m*\u001b[39margs, \u001b[39m*\u001b[39m\u001b[39m*\u001b[39mkwargs)\n\u001b[0;32m     71\u001b[0m     \u001b[39mexcept\u001b[39;00m \u001b[39mTypeError\u001b[39;00m \u001b[39mas\u001b[39;00m e:\n\u001b[0;32m     72\u001b[0m         \u001b[39mif\u001b[39;00m \u001b[39mnot\u001b[39;00m e\u001b[39m.\u001b[39margs \u001b[39mor\u001b[39;00m \u001b[39mnot\u001b[39;00m e\u001b[39m.\u001b[39margs[\u001b[39m0\u001b[39m]\u001b[39m.\u001b[39mstartswith(\u001b[39m'\u001b[39m\u001b[39munhashable type:\u001b[39m\u001b[39m'\u001b[39m):\n",
      "File \u001b[1;32m~\\AppData\\Roaming\\Python\\Python39\\site-packages\\sympy\\core\\add.py:508\u001b[0m, in \u001b[0;36mAdd._eval_derivative\u001b[1;34m(self, s)\u001b[0m\n\u001b[0;32m    506\u001b[0m \u001b[39m@cacheit\u001b[39m\n\u001b[0;32m    507\u001b[0m \u001b[39mdef\u001b[39;00m \u001b[39m_eval_derivative\u001b[39m(\u001b[39mself\u001b[39m, s):\n\u001b[1;32m--> 508\u001b[0m     \u001b[39mreturn\u001b[39;00m \u001b[39mself\u001b[39m\u001b[39m.\u001b[39mfunc(\u001b[39m*\u001b[39m[a\u001b[39m.\u001b[39mdiff(s) \u001b[39mfor\u001b[39;00m a \u001b[39min\u001b[39;00m \u001b[39mself\u001b[39m\u001b[39m.\u001b[39margs])\n",
      "File \u001b[1;32m~\\AppData\\Roaming\\Python\\Python39\\site-packages\\sympy\\core\\add.py:508\u001b[0m, in \u001b[0;36m<listcomp>\u001b[1;34m(.0)\u001b[0m\n\u001b[0;32m    506\u001b[0m \u001b[39m@cacheit\u001b[39m\n\u001b[0;32m    507\u001b[0m \u001b[39mdef\u001b[39;00m \u001b[39m_eval_derivative\u001b[39m(\u001b[39mself\u001b[39m, s):\n\u001b[1;32m--> 508\u001b[0m     \u001b[39mreturn\u001b[39;00m \u001b[39mself\u001b[39m\u001b[39m.\u001b[39mfunc(\u001b[39m*\u001b[39m[a\u001b[39m.\u001b[39;49mdiff(s) \u001b[39mfor\u001b[39;00m a \u001b[39min\u001b[39;00m \u001b[39mself\u001b[39m\u001b[39m.\u001b[39margs])\n",
      "File \u001b[1;32m~\\AppData\\Roaming\\Python\\Python39\\site-packages\\sympy\\core\\expr.py:3555\u001b[0m, in \u001b[0;36mExpr.diff\u001b[1;34m(self, *symbols, **assumptions)\u001b[0m\n\u001b[0;32m   3553\u001b[0m \u001b[39mdef\u001b[39;00m \u001b[39mdiff\u001b[39m(\u001b[39mself\u001b[39m, \u001b[39m*\u001b[39msymbols, \u001b[39m*\u001b[39m\u001b[39m*\u001b[39massumptions):\n\u001b[0;32m   3554\u001b[0m     assumptions\u001b[39m.\u001b[39msetdefault(\u001b[39m\"\u001b[39m\u001b[39mevaluate\u001b[39m\u001b[39m\"\u001b[39m, \u001b[39mTrue\u001b[39;00m)\n\u001b[1;32m-> 3555\u001b[0m     \u001b[39mreturn\u001b[39;00m _derivative_dispatch(\u001b[39mself\u001b[39m, \u001b[39m*\u001b[39msymbols, \u001b[39m*\u001b[39m\u001b[39m*\u001b[39massumptions)\n",
      "File \u001b[1;32m~\\AppData\\Roaming\\Python\\Python39\\site-packages\\sympy\\core\\function.py:1914\u001b[0m, in \u001b[0;36m_derivative_dispatch\u001b[1;34m(expr, *variables, **kwargs)\u001b[0m\n\u001b[0;32m   1912\u001b[0m     \u001b[39mfrom\u001b[39;00m \u001b[39msympy\u001b[39;00m\u001b[39m.\u001b[39;00m\u001b[39mtensor\u001b[39;00m\u001b[39m.\u001b[39;00m\u001b[39marray\u001b[39;00m\u001b[39m.\u001b[39;00m\u001b[39marray_derivatives\u001b[39;00m \u001b[39mimport\u001b[39;00m ArrayDerivative\n\u001b[0;32m   1913\u001b[0m     \u001b[39mreturn\u001b[39;00m ArrayDerivative(expr, \u001b[39m*\u001b[39mvariables, \u001b[39m*\u001b[39m\u001b[39m*\u001b[39mkwargs)\n\u001b[1;32m-> 1914\u001b[0m \u001b[39mreturn\u001b[39;00m Derivative(expr, \u001b[39m*\u001b[39mvariables, \u001b[39m*\u001b[39m\u001b[39m*\u001b[39mkwargs)\n",
      "File \u001b[1;32m~\\AppData\\Roaming\\Python\\Python39\\site-packages\\sympy\\core\\function.py:1442\u001b[0m, in \u001b[0;36mDerivative.__new__\u001b[1;34m(cls, expr, *variables, **kwargs)\u001b[0m\n\u001b[0;32m   1435\u001b[0m     \u001b[39mif\u001b[39;00m \u001b[39mnot\u001b[39;00m old_v\u001b[39m.\u001b[39mis_scalar \u001b[39mand\u001b[39;00m \u001b[39mnot\u001b[39;00m \u001b[39mhasattr\u001b[39m(\n\u001b[0;32m   1436\u001b[0m             old_v, \u001b[39m'\u001b[39m\u001b[39m_eval_derivative\u001b[39m\u001b[39m'\u001b[39m):\n\u001b[0;32m   1437\u001b[0m         \u001b[39m# special hack providing evaluation for classes\u001b[39;00m\n\u001b[0;32m   1438\u001b[0m         \u001b[39m# that have defined is_scalar=True but have no\u001b[39;00m\n\u001b[0;32m   1439\u001b[0m         \u001b[39m# _eval_derivative defined\u001b[39;00m\n\u001b[0;32m   1440\u001b[0m         expr \u001b[39m*\u001b[39m\u001b[39m=\u001b[39m old_v\u001b[39m.\u001b[39mdiff(old_v)\n\u001b[1;32m-> 1442\u001b[0m obj \u001b[39m=\u001b[39m \u001b[39mcls\u001b[39;49m\u001b[39m.\u001b[39;49m_dispatch_eval_derivative_n_times(expr, v, count)\n\u001b[0;32m   1443\u001b[0m \u001b[39mif\u001b[39;00m obj \u001b[39mis\u001b[39;00m \u001b[39mnot\u001b[39;00m \u001b[39mNone\u001b[39;00m \u001b[39mand\u001b[39;00m obj\u001b[39m.\u001b[39mis_zero:\n\u001b[0;32m   1444\u001b[0m     \u001b[39mreturn\u001b[39;00m obj\n",
      "File \u001b[1;32m~\\AppData\\Roaming\\Python\\Python39\\site-packages\\sympy\\core\\function.py:1903\u001b[0m, in \u001b[0;36mDerivative._dispatch_eval_derivative_n_times\u001b[1;34m(cls, expr, v, count)\u001b[0m\n\u001b[0;32m   1897\u001b[0m \u001b[39m@classmethod\u001b[39m\n\u001b[0;32m   1898\u001b[0m \u001b[39mdef\u001b[39;00m \u001b[39m_dispatch_eval_derivative_n_times\u001b[39m(\u001b[39mcls\u001b[39m, expr, v, count):\n\u001b[0;32m   1899\u001b[0m     \u001b[39m# Evaluate the derivative `n` times.  If\u001b[39;00m\n\u001b[0;32m   1900\u001b[0m     \u001b[39m# `_eval_derivative_n_times` is not overridden by the current\u001b[39;00m\n\u001b[0;32m   1901\u001b[0m     \u001b[39m# object, the default in `Basic` will call a loop over\u001b[39;00m\n\u001b[0;32m   1902\u001b[0m     \u001b[39m# `_eval_derivative`:\u001b[39;00m\n\u001b[1;32m-> 1903\u001b[0m     \u001b[39mreturn\u001b[39;00m expr\u001b[39m.\u001b[39;49m_eval_derivative_n_times(v, count)\n",
      "File \u001b[1;32m~\\AppData\\Roaming\\Python\\Python39\\site-packages\\sympy\\core\\cache.py:70\u001b[0m, in \u001b[0;36m__cacheit.<locals>.func_wrapper.<locals>.wrapper\u001b[1;34m(*args, **kwargs)\u001b[0m\n\u001b[0;32m     67\u001b[0m \u001b[39m@wraps\u001b[39m(func)\n\u001b[0;32m     68\u001b[0m \u001b[39mdef\u001b[39;00m \u001b[39mwrapper\u001b[39m(\u001b[39m*\u001b[39margs, \u001b[39m*\u001b[39m\u001b[39m*\u001b[39mkwargs):\n\u001b[0;32m     69\u001b[0m     \u001b[39mtry\u001b[39;00m:\n\u001b[1;32m---> 70\u001b[0m         retval \u001b[39m=\u001b[39m cfunc(\u001b[39m*\u001b[39margs, \u001b[39m*\u001b[39m\u001b[39m*\u001b[39mkwargs)\n\u001b[0;32m     71\u001b[0m     \u001b[39mexcept\u001b[39;00m \u001b[39mTypeError\u001b[39;00m \u001b[39mas\u001b[39;00m e:\n\u001b[0;32m     72\u001b[0m         \u001b[39mif\u001b[39;00m \u001b[39mnot\u001b[39;00m e\u001b[39m.\u001b[39margs \u001b[39mor\u001b[39;00m \u001b[39mnot\u001b[39;00m e\u001b[39m.\u001b[39margs[\u001b[39m0\u001b[39m]\u001b[39m.\u001b[39mstartswith(\u001b[39m'\u001b[39m\u001b[39munhashable type:\u001b[39m\u001b[39m'\u001b[39m):\n",
      "File \u001b[1;32m~\\AppData\\Roaming\\Python\\Python39\\site-packages\\sympy\\core\\mul.py:977\u001b[0m, in \u001b[0;36mMul._eval_derivative_n_times\u001b[1;34m(self, s, n)\u001b[0m\n\u001b[0;32m    973\u001b[0m \u001b[39mfrom\u001b[39;00m \u001b[39m.\u001b[39;00m\u001b[39msymbol\u001b[39;00m \u001b[39mimport\u001b[39;00m Symbol, symbols, Dummy\n\u001b[0;32m    974\u001b[0m \u001b[39mif\u001b[39;00m \u001b[39mnot\u001b[39;00m \u001b[39misinstance\u001b[39m(s, (AppliedUndef, Symbol)):\n\u001b[0;32m    975\u001b[0m     \u001b[39m# other types of s may not be well behaved, e.g.\u001b[39;00m\n\u001b[0;32m    976\u001b[0m     \u001b[39m# (cos(x)*sin(y)).diff([[x, y, z]])\u001b[39;00m\n\u001b[1;32m--> 977\u001b[0m     \u001b[39mreturn\u001b[39;00m \u001b[39msuper\u001b[39;49m()\u001b[39m.\u001b[39;49m_eval_derivative_n_times(s, n)\n\u001b[0;32m    978\u001b[0m \u001b[39mfrom\u001b[39;00m \u001b[39m.\u001b[39;00m\u001b[39mnumbers\u001b[39;00m \u001b[39mimport\u001b[39;00m Integer\n\u001b[0;32m    979\u001b[0m args \u001b[39m=\u001b[39m \u001b[39mself\u001b[39m\u001b[39m.\u001b[39margs\n",
      "File \u001b[1;32m~\\AppData\\Roaming\\Python\\Python39\\site-packages\\sympy\\core\\basic.py:1785\u001b[0m, in \u001b[0;36mBasic._eval_derivative_n_times\u001b[1;34m(self, s, n)\u001b[0m\n\u001b[0;32m   1783\u001b[0m obj \u001b[39m=\u001b[39m \u001b[39mself\u001b[39m\n\u001b[0;32m   1784\u001b[0m \u001b[39mfor\u001b[39;00m i \u001b[39min\u001b[39;00m \u001b[39mrange\u001b[39m(n):\n\u001b[1;32m-> 1785\u001b[0m     obj2 \u001b[39m=\u001b[39m obj\u001b[39m.\u001b[39;49m_eval_derivative(s)\n\u001b[0;32m   1786\u001b[0m     \u001b[39mif\u001b[39;00m obj \u001b[39m==\u001b[39m obj2 \u001b[39mor\u001b[39;00m obj2 \u001b[39mis\u001b[39;00m \u001b[39mNone\u001b[39;00m:\n\u001b[0;32m   1787\u001b[0m         \u001b[39mbreak\u001b[39;00m\n",
      "File \u001b[1;32m~\\AppData\\Roaming\\Python\\Python39\\site-packages\\sympy\\core\\cache.py:70\u001b[0m, in \u001b[0;36m__cacheit.<locals>.func_wrapper.<locals>.wrapper\u001b[1;34m(*args, **kwargs)\u001b[0m\n\u001b[0;32m     67\u001b[0m \u001b[39m@wraps\u001b[39m(func)\n\u001b[0;32m     68\u001b[0m \u001b[39mdef\u001b[39;00m \u001b[39mwrapper\u001b[39m(\u001b[39m*\u001b[39margs, \u001b[39m*\u001b[39m\u001b[39m*\u001b[39mkwargs):\n\u001b[0;32m     69\u001b[0m     \u001b[39mtry\u001b[39;00m:\n\u001b[1;32m---> 70\u001b[0m         retval \u001b[39m=\u001b[39m cfunc(\u001b[39m*\u001b[39margs, \u001b[39m*\u001b[39m\u001b[39m*\u001b[39mkwargs)\n\u001b[0;32m     71\u001b[0m     \u001b[39mexcept\u001b[39;00m \u001b[39mTypeError\u001b[39;00m \u001b[39mas\u001b[39;00m e:\n\u001b[0;32m     72\u001b[0m         \u001b[39mif\u001b[39;00m \u001b[39mnot\u001b[39;00m e\u001b[39m.\u001b[39margs \u001b[39mor\u001b[39;00m \u001b[39mnot\u001b[39;00m e\u001b[39m.\u001b[39margs[\u001b[39m0\u001b[39m]\u001b[39m.\u001b[39mstartswith(\u001b[39m'\u001b[39m\u001b[39munhashable type:\u001b[39m\u001b[39m'\u001b[39m):\n",
      "File \u001b[1;32m~\\AppData\\Roaming\\Python\\Python39\\site-packages\\sympy\\core\\mul.py:963\u001b[0m, in \u001b[0;36mMul._eval_derivative\u001b[1;34m(self, s)\u001b[0m\n\u001b[0;32m    961\u001b[0m terms \u001b[39m=\u001b[39m []\n\u001b[0;32m    962\u001b[0m \u001b[39mfor\u001b[39;00m i \u001b[39min\u001b[39;00m \u001b[39mrange\u001b[39m(\u001b[39mlen\u001b[39m(args)):\n\u001b[1;32m--> 963\u001b[0m     d \u001b[39m=\u001b[39m args[i]\u001b[39m.\u001b[39;49mdiff(s)\n\u001b[0;32m    964\u001b[0m     \u001b[39mif\u001b[39;00m d:\n\u001b[0;32m    965\u001b[0m         \u001b[39m# Note: reduce is used in step of Mul as Mul is unable to\u001b[39;00m\n\u001b[0;32m    966\u001b[0m         \u001b[39m# handle subtypes and operation priority:\u001b[39;00m\n\u001b[0;32m    967\u001b[0m         terms\u001b[39m.\u001b[39mappend(reduce(\u001b[39mlambda\u001b[39;00m x, y: x\u001b[39m*\u001b[39my, (args[:i] \u001b[39m+\u001b[39m [d] \u001b[39m+\u001b[39m args[i \u001b[39m+\u001b[39m \u001b[39m1\u001b[39m:]), S\u001b[39m.\u001b[39mOne))\n",
      "File \u001b[1;32m~\\AppData\\Roaming\\Python\\Python39\\site-packages\\sympy\\core\\expr.py:3555\u001b[0m, in \u001b[0;36mExpr.diff\u001b[1;34m(self, *symbols, **assumptions)\u001b[0m\n\u001b[0;32m   3553\u001b[0m \u001b[39mdef\u001b[39;00m \u001b[39mdiff\u001b[39m(\u001b[39mself\u001b[39m, \u001b[39m*\u001b[39msymbols, \u001b[39m*\u001b[39m\u001b[39m*\u001b[39massumptions):\n\u001b[0;32m   3554\u001b[0m     assumptions\u001b[39m.\u001b[39msetdefault(\u001b[39m\"\u001b[39m\u001b[39mevaluate\u001b[39m\u001b[39m\"\u001b[39m, \u001b[39mTrue\u001b[39;00m)\n\u001b[1;32m-> 3555\u001b[0m     \u001b[39mreturn\u001b[39;00m _derivative_dispatch(\u001b[39mself\u001b[39m, \u001b[39m*\u001b[39msymbols, \u001b[39m*\u001b[39m\u001b[39m*\u001b[39massumptions)\n",
      "File \u001b[1;32m~\\AppData\\Roaming\\Python\\Python39\\site-packages\\sympy\\core\\function.py:1914\u001b[0m, in \u001b[0;36m_derivative_dispatch\u001b[1;34m(expr, *variables, **kwargs)\u001b[0m\n\u001b[0;32m   1912\u001b[0m     \u001b[39mfrom\u001b[39;00m \u001b[39msympy\u001b[39;00m\u001b[39m.\u001b[39;00m\u001b[39mtensor\u001b[39;00m\u001b[39m.\u001b[39;00m\u001b[39marray\u001b[39;00m\u001b[39m.\u001b[39;00m\u001b[39marray_derivatives\u001b[39;00m \u001b[39mimport\u001b[39;00m ArrayDerivative\n\u001b[0;32m   1913\u001b[0m     \u001b[39mreturn\u001b[39;00m ArrayDerivative(expr, \u001b[39m*\u001b[39mvariables, \u001b[39m*\u001b[39m\u001b[39m*\u001b[39mkwargs)\n\u001b[1;32m-> 1914\u001b[0m \u001b[39mreturn\u001b[39;00m Derivative(expr, \u001b[39m*\u001b[39mvariables, \u001b[39m*\u001b[39m\u001b[39m*\u001b[39mkwargs)\n",
      "File \u001b[1;32m~\\AppData\\Roaming\\Python\\Python39\\site-packages\\sympy\\core\\function.py:1442\u001b[0m, in \u001b[0;36mDerivative.__new__\u001b[1;34m(cls, expr, *variables, **kwargs)\u001b[0m\n\u001b[0;32m   1435\u001b[0m     \u001b[39mif\u001b[39;00m \u001b[39mnot\u001b[39;00m old_v\u001b[39m.\u001b[39mis_scalar \u001b[39mand\u001b[39;00m \u001b[39mnot\u001b[39;00m \u001b[39mhasattr\u001b[39m(\n\u001b[0;32m   1436\u001b[0m             old_v, \u001b[39m'\u001b[39m\u001b[39m_eval_derivative\u001b[39m\u001b[39m'\u001b[39m):\n\u001b[0;32m   1437\u001b[0m         \u001b[39m# special hack providing evaluation for classes\u001b[39;00m\n\u001b[0;32m   1438\u001b[0m         \u001b[39m# that have defined is_scalar=True but have no\u001b[39;00m\n\u001b[0;32m   1439\u001b[0m         \u001b[39m# _eval_derivative defined\u001b[39;00m\n\u001b[0;32m   1440\u001b[0m         expr \u001b[39m*\u001b[39m\u001b[39m=\u001b[39m old_v\u001b[39m.\u001b[39mdiff(old_v)\n\u001b[1;32m-> 1442\u001b[0m obj \u001b[39m=\u001b[39m \u001b[39mcls\u001b[39;49m\u001b[39m.\u001b[39;49m_dispatch_eval_derivative_n_times(expr, v, count)\n\u001b[0;32m   1443\u001b[0m \u001b[39mif\u001b[39;00m obj \u001b[39mis\u001b[39;00m \u001b[39mnot\u001b[39;00m \u001b[39mNone\u001b[39;00m \u001b[39mand\u001b[39;00m obj\u001b[39m.\u001b[39mis_zero:\n\u001b[0;32m   1444\u001b[0m     \u001b[39mreturn\u001b[39;00m obj\n",
      "File \u001b[1;32m~\\AppData\\Roaming\\Python\\Python39\\site-packages\\sympy\\core\\function.py:1903\u001b[0m, in \u001b[0;36mDerivative._dispatch_eval_derivative_n_times\u001b[1;34m(cls, expr, v, count)\u001b[0m\n\u001b[0;32m   1897\u001b[0m \u001b[39m@classmethod\u001b[39m\n\u001b[0;32m   1898\u001b[0m \u001b[39mdef\u001b[39;00m \u001b[39m_dispatch_eval_derivative_n_times\u001b[39m(\u001b[39mcls\u001b[39m, expr, v, count):\n\u001b[0;32m   1899\u001b[0m     \u001b[39m# Evaluate the derivative `n` times.  If\u001b[39;00m\n\u001b[0;32m   1900\u001b[0m     \u001b[39m# `_eval_derivative_n_times` is not overridden by the current\u001b[39;00m\n\u001b[0;32m   1901\u001b[0m     \u001b[39m# object, the default in `Basic` will call a loop over\u001b[39;00m\n\u001b[0;32m   1902\u001b[0m     \u001b[39m# `_eval_derivative`:\u001b[39;00m\n\u001b[1;32m-> 1903\u001b[0m     \u001b[39mreturn\u001b[39;00m expr\u001b[39m.\u001b[39;49m_eval_derivative_n_times(v, count)\n",
      "File \u001b[1;32m~\\AppData\\Roaming\\Python\\Python39\\site-packages\\sympy\\core\\basic.py:1785\u001b[0m, in \u001b[0;36mBasic._eval_derivative_n_times\u001b[1;34m(self, s, n)\u001b[0m\n\u001b[0;32m   1783\u001b[0m obj \u001b[39m=\u001b[39m \u001b[39mself\u001b[39m\n\u001b[0;32m   1784\u001b[0m \u001b[39mfor\u001b[39;00m i \u001b[39min\u001b[39;00m \u001b[39mrange\u001b[39m(n):\n\u001b[1;32m-> 1785\u001b[0m     obj2 \u001b[39m=\u001b[39m obj\u001b[39m.\u001b[39;49m_eval_derivative(s)\n\u001b[0;32m   1786\u001b[0m     \u001b[39mif\u001b[39;00m obj \u001b[39m==\u001b[39m obj2 \u001b[39mor\u001b[39;00m obj2 \u001b[39mis\u001b[39;00m \u001b[39mNone\u001b[39;00m:\n\u001b[0;32m   1787\u001b[0m         \u001b[39mbreak\u001b[39;00m\n",
      "File \u001b[1;32m~\\AppData\\Roaming\\Python\\Python39\\site-packages\\sympy\\core\\cache.py:70\u001b[0m, in \u001b[0;36m__cacheit.<locals>.func_wrapper.<locals>.wrapper\u001b[1;34m(*args, **kwargs)\u001b[0m\n\u001b[0;32m     67\u001b[0m \u001b[39m@wraps\u001b[39m(func)\n\u001b[0;32m     68\u001b[0m \u001b[39mdef\u001b[39;00m \u001b[39mwrapper\u001b[39m(\u001b[39m*\u001b[39margs, \u001b[39m*\u001b[39m\u001b[39m*\u001b[39mkwargs):\n\u001b[0;32m     69\u001b[0m     \u001b[39mtry\u001b[39;00m:\n\u001b[1;32m---> 70\u001b[0m         retval \u001b[39m=\u001b[39m cfunc(\u001b[39m*\u001b[39margs, \u001b[39m*\u001b[39m\u001b[39m*\u001b[39mkwargs)\n\u001b[0;32m     71\u001b[0m     \u001b[39mexcept\u001b[39;00m \u001b[39mTypeError\u001b[39;00m \u001b[39mas\u001b[39;00m e:\n\u001b[0;32m     72\u001b[0m         \u001b[39mif\u001b[39;00m \u001b[39mnot\u001b[39;00m e\u001b[39m.\u001b[39margs \u001b[39mor\u001b[39;00m \u001b[39mnot\u001b[39;00m e\u001b[39m.\u001b[39margs[\u001b[39m0\u001b[39m]\u001b[39m.\u001b[39mstartswith(\u001b[39m'\u001b[39m\u001b[39munhashable type:\u001b[39m\u001b[39m'\u001b[39m):\n",
      "File \u001b[1;32m~\\AppData\\Roaming\\Python\\Python39\\site-packages\\sympy\\core\\add.py:508\u001b[0m, in \u001b[0;36mAdd._eval_derivative\u001b[1;34m(self, s)\u001b[0m\n\u001b[0;32m    506\u001b[0m \u001b[39m@cacheit\u001b[39m\n\u001b[0;32m    507\u001b[0m \u001b[39mdef\u001b[39;00m \u001b[39m_eval_derivative\u001b[39m(\u001b[39mself\u001b[39m, s):\n\u001b[1;32m--> 508\u001b[0m     \u001b[39mreturn\u001b[39;00m \u001b[39mself\u001b[39m\u001b[39m.\u001b[39mfunc(\u001b[39m*\u001b[39m[a\u001b[39m.\u001b[39mdiff(s) \u001b[39mfor\u001b[39;00m a \u001b[39min\u001b[39;00m \u001b[39mself\u001b[39m\u001b[39m.\u001b[39margs])\n",
      "File \u001b[1;32m~\\AppData\\Roaming\\Python\\Python39\\site-packages\\sympy\\core\\add.py:508\u001b[0m, in \u001b[0;36m<listcomp>\u001b[1;34m(.0)\u001b[0m\n\u001b[0;32m    506\u001b[0m \u001b[39m@cacheit\u001b[39m\n\u001b[0;32m    507\u001b[0m \u001b[39mdef\u001b[39;00m \u001b[39m_eval_derivative\u001b[39m(\u001b[39mself\u001b[39m, s):\n\u001b[1;32m--> 508\u001b[0m     \u001b[39mreturn\u001b[39;00m \u001b[39mself\u001b[39m\u001b[39m.\u001b[39mfunc(\u001b[39m*\u001b[39m[a\u001b[39m.\u001b[39;49mdiff(s) \u001b[39mfor\u001b[39;00m a \u001b[39min\u001b[39;00m \u001b[39mself\u001b[39m\u001b[39m.\u001b[39margs])\n",
      "File \u001b[1;32m~\\AppData\\Roaming\\Python\\Python39\\site-packages\\sympy\\core\\expr.py:3555\u001b[0m, in \u001b[0;36mExpr.diff\u001b[1;34m(self, *symbols, **assumptions)\u001b[0m\n\u001b[0;32m   3553\u001b[0m \u001b[39mdef\u001b[39;00m \u001b[39mdiff\u001b[39m(\u001b[39mself\u001b[39m, \u001b[39m*\u001b[39msymbols, \u001b[39m*\u001b[39m\u001b[39m*\u001b[39massumptions):\n\u001b[0;32m   3554\u001b[0m     assumptions\u001b[39m.\u001b[39msetdefault(\u001b[39m\"\u001b[39m\u001b[39mevaluate\u001b[39m\u001b[39m\"\u001b[39m, \u001b[39mTrue\u001b[39;00m)\n\u001b[1;32m-> 3555\u001b[0m     \u001b[39mreturn\u001b[39;00m _derivative_dispatch(\u001b[39mself\u001b[39m, \u001b[39m*\u001b[39msymbols, \u001b[39m*\u001b[39m\u001b[39m*\u001b[39massumptions)\n",
      "File \u001b[1;32m~\\AppData\\Roaming\\Python\\Python39\\site-packages\\sympy\\core\\function.py:1914\u001b[0m, in \u001b[0;36m_derivative_dispatch\u001b[1;34m(expr, *variables, **kwargs)\u001b[0m\n\u001b[0;32m   1912\u001b[0m     \u001b[39mfrom\u001b[39;00m \u001b[39msympy\u001b[39;00m\u001b[39m.\u001b[39;00m\u001b[39mtensor\u001b[39;00m\u001b[39m.\u001b[39;00m\u001b[39marray\u001b[39;00m\u001b[39m.\u001b[39;00m\u001b[39marray_derivatives\u001b[39;00m \u001b[39mimport\u001b[39;00m ArrayDerivative\n\u001b[0;32m   1913\u001b[0m     \u001b[39mreturn\u001b[39;00m ArrayDerivative(expr, \u001b[39m*\u001b[39mvariables, \u001b[39m*\u001b[39m\u001b[39m*\u001b[39mkwargs)\n\u001b[1;32m-> 1914\u001b[0m \u001b[39mreturn\u001b[39;00m Derivative(expr, \u001b[39m*\u001b[39mvariables, \u001b[39m*\u001b[39m\u001b[39m*\u001b[39mkwargs)\n",
      "File \u001b[1;32m~\\AppData\\Roaming\\Python\\Python39\\site-packages\\sympy\\core\\function.py:1442\u001b[0m, in \u001b[0;36mDerivative.__new__\u001b[1;34m(cls, expr, *variables, **kwargs)\u001b[0m\n\u001b[0;32m   1435\u001b[0m     \u001b[39mif\u001b[39;00m \u001b[39mnot\u001b[39;00m old_v\u001b[39m.\u001b[39mis_scalar \u001b[39mand\u001b[39;00m \u001b[39mnot\u001b[39;00m \u001b[39mhasattr\u001b[39m(\n\u001b[0;32m   1436\u001b[0m             old_v, \u001b[39m'\u001b[39m\u001b[39m_eval_derivative\u001b[39m\u001b[39m'\u001b[39m):\n\u001b[0;32m   1437\u001b[0m         \u001b[39m# special hack providing evaluation for classes\u001b[39;00m\n\u001b[0;32m   1438\u001b[0m         \u001b[39m# that have defined is_scalar=True but have no\u001b[39;00m\n\u001b[0;32m   1439\u001b[0m         \u001b[39m# _eval_derivative defined\u001b[39;00m\n\u001b[0;32m   1440\u001b[0m         expr \u001b[39m*\u001b[39m\u001b[39m=\u001b[39m old_v\u001b[39m.\u001b[39mdiff(old_v)\n\u001b[1;32m-> 1442\u001b[0m obj \u001b[39m=\u001b[39m \u001b[39mcls\u001b[39;49m\u001b[39m.\u001b[39;49m_dispatch_eval_derivative_n_times(expr, v, count)\n\u001b[0;32m   1443\u001b[0m \u001b[39mif\u001b[39;00m obj \u001b[39mis\u001b[39;00m \u001b[39mnot\u001b[39;00m \u001b[39mNone\u001b[39;00m \u001b[39mand\u001b[39;00m obj\u001b[39m.\u001b[39mis_zero:\n\u001b[0;32m   1444\u001b[0m     \u001b[39mreturn\u001b[39;00m obj\n",
      "File \u001b[1;32m~\\AppData\\Roaming\\Python\\Python39\\site-packages\\sympy\\core\\function.py:1903\u001b[0m, in \u001b[0;36mDerivative._dispatch_eval_derivative_n_times\u001b[1;34m(cls, expr, v, count)\u001b[0m\n\u001b[0;32m   1897\u001b[0m \u001b[39m@classmethod\u001b[39m\n\u001b[0;32m   1898\u001b[0m \u001b[39mdef\u001b[39;00m \u001b[39m_dispatch_eval_derivative_n_times\u001b[39m(\u001b[39mcls\u001b[39m, expr, v, count):\n\u001b[0;32m   1899\u001b[0m     \u001b[39m# Evaluate the derivative `n` times.  If\u001b[39;00m\n\u001b[0;32m   1900\u001b[0m     \u001b[39m# `_eval_derivative_n_times` is not overridden by the current\u001b[39;00m\n\u001b[0;32m   1901\u001b[0m     \u001b[39m# object, the default in `Basic` will call a loop over\u001b[39;00m\n\u001b[0;32m   1902\u001b[0m     \u001b[39m# `_eval_derivative`:\u001b[39;00m\n\u001b[1;32m-> 1903\u001b[0m     \u001b[39mreturn\u001b[39;00m expr\u001b[39m.\u001b[39;49m_eval_derivative_n_times(v, count)\n",
      "File \u001b[1;32m~\\AppData\\Roaming\\Python\\Python39\\site-packages\\sympy\\core\\cache.py:70\u001b[0m, in \u001b[0;36m__cacheit.<locals>.func_wrapper.<locals>.wrapper\u001b[1;34m(*args, **kwargs)\u001b[0m\n\u001b[0;32m     67\u001b[0m \u001b[39m@wraps\u001b[39m(func)\n\u001b[0;32m     68\u001b[0m \u001b[39mdef\u001b[39;00m \u001b[39mwrapper\u001b[39m(\u001b[39m*\u001b[39margs, \u001b[39m*\u001b[39m\u001b[39m*\u001b[39mkwargs):\n\u001b[0;32m     69\u001b[0m     \u001b[39mtry\u001b[39;00m:\n\u001b[1;32m---> 70\u001b[0m         retval \u001b[39m=\u001b[39m cfunc(\u001b[39m*\u001b[39margs, \u001b[39m*\u001b[39m\u001b[39m*\u001b[39mkwargs)\n\u001b[0;32m     71\u001b[0m     \u001b[39mexcept\u001b[39;00m \u001b[39mTypeError\u001b[39;00m \u001b[39mas\u001b[39;00m e:\n\u001b[0;32m     72\u001b[0m         \u001b[39mif\u001b[39;00m \u001b[39mnot\u001b[39;00m e\u001b[39m.\u001b[39margs \u001b[39mor\u001b[39;00m \u001b[39mnot\u001b[39;00m e\u001b[39m.\u001b[39margs[\u001b[39m0\u001b[39m]\u001b[39m.\u001b[39mstartswith(\u001b[39m'\u001b[39m\u001b[39munhashable type:\u001b[39m\u001b[39m'\u001b[39m):\n",
      "File \u001b[1;32m~\\AppData\\Roaming\\Python\\Python39\\site-packages\\sympy\\core\\mul.py:977\u001b[0m, in \u001b[0;36mMul._eval_derivative_n_times\u001b[1;34m(self, s, n)\u001b[0m\n\u001b[0;32m    973\u001b[0m \u001b[39mfrom\u001b[39;00m \u001b[39m.\u001b[39;00m\u001b[39msymbol\u001b[39;00m \u001b[39mimport\u001b[39;00m Symbol, symbols, Dummy\n\u001b[0;32m    974\u001b[0m \u001b[39mif\u001b[39;00m \u001b[39mnot\u001b[39;00m \u001b[39misinstance\u001b[39m(s, (AppliedUndef, Symbol)):\n\u001b[0;32m    975\u001b[0m     \u001b[39m# other types of s may not be well behaved, e.g.\u001b[39;00m\n\u001b[0;32m    976\u001b[0m     \u001b[39m# (cos(x)*sin(y)).diff([[x, y, z]])\u001b[39;00m\n\u001b[1;32m--> 977\u001b[0m     \u001b[39mreturn\u001b[39;00m \u001b[39msuper\u001b[39;49m()\u001b[39m.\u001b[39;49m_eval_derivative_n_times(s, n)\n\u001b[0;32m    978\u001b[0m \u001b[39mfrom\u001b[39;00m \u001b[39m.\u001b[39;00m\u001b[39mnumbers\u001b[39;00m \u001b[39mimport\u001b[39;00m Integer\n\u001b[0;32m    979\u001b[0m args \u001b[39m=\u001b[39m \u001b[39mself\u001b[39m\u001b[39m.\u001b[39margs\n",
      "File \u001b[1;32m~\\AppData\\Roaming\\Python\\Python39\\site-packages\\sympy\\core\\basic.py:1785\u001b[0m, in \u001b[0;36mBasic._eval_derivative_n_times\u001b[1;34m(self, s, n)\u001b[0m\n\u001b[0;32m   1783\u001b[0m obj \u001b[39m=\u001b[39m \u001b[39mself\u001b[39m\n\u001b[0;32m   1784\u001b[0m \u001b[39mfor\u001b[39;00m i \u001b[39min\u001b[39;00m \u001b[39mrange\u001b[39m(n):\n\u001b[1;32m-> 1785\u001b[0m     obj2 \u001b[39m=\u001b[39m obj\u001b[39m.\u001b[39;49m_eval_derivative(s)\n\u001b[0;32m   1786\u001b[0m     \u001b[39mif\u001b[39;00m obj \u001b[39m==\u001b[39m obj2 \u001b[39mor\u001b[39;00m obj2 \u001b[39mis\u001b[39;00m \u001b[39mNone\u001b[39;00m:\n\u001b[0;32m   1787\u001b[0m         \u001b[39mbreak\u001b[39;00m\n",
      "File \u001b[1;32m~\\AppData\\Roaming\\Python\\Python39\\site-packages\\sympy\\core\\cache.py:70\u001b[0m, in \u001b[0;36m__cacheit.<locals>.func_wrapper.<locals>.wrapper\u001b[1;34m(*args, **kwargs)\u001b[0m\n\u001b[0;32m     67\u001b[0m \u001b[39m@wraps\u001b[39m(func)\n\u001b[0;32m     68\u001b[0m \u001b[39mdef\u001b[39;00m \u001b[39mwrapper\u001b[39m(\u001b[39m*\u001b[39margs, \u001b[39m*\u001b[39m\u001b[39m*\u001b[39mkwargs):\n\u001b[0;32m     69\u001b[0m     \u001b[39mtry\u001b[39;00m:\n\u001b[1;32m---> 70\u001b[0m         retval \u001b[39m=\u001b[39m cfunc(\u001b[39m*\u001b[39margs, \u001b[39m*\u001b[39m\u001b[39m*\u001b[39mkwargs)\n\u001b[0;32m     71\u001b[0m     \u001b[39mexcept\u001b[39;00m \u001b[39mTypeError\u001b[39;00m \u001b[39mas\u001b[39;00m e:\n\u001b[0;32m     72\u001b[0m         \u001b[39mif\u001b[39;00m \u001b[39mnot\u001b[39;00m e\u001b[39m.\u001b[39margs \u001b[39mor\u001b[39;00m \u001b[39mnot\u001b[39;00m e\u001b[39m.\u001b[39margs[\u001b[39m0\u001b[39m]\u001b[39m.\u001b[39mstartswith(\u001b[39m'\u001b[39m\u001b[39munhashable type:\u001b[39m\u001b[39m'\u001b[39m):\n",
      "File \u001b[1;32m~\\AppData\\Roaming\\Python\\Python39\\site-packages\\sympy\\core\\mul.py:963\u001b[0m, in \u001b[0;36mMul._eval_derivative\u001b[1;34m(self, s)\u001b[0m\n\u001b[0;32m    961\u001b[0m terms \u001b[39m=\u001b[39m []\n\u001b[0;32m    962\u001b[0m \u001b[39mfor\u001b[39;00m i \u001b[39min\u001b[39;00m \u001b[39mrange\u001b[39m(\u001b[39mlen\u001b[39m(args)):\n\u001b[1;32m--> 963\u001b[0m     d \u001b[39m=\u001b[39m args[i]\u001b[39m.\u001b[39;49mdiff(s)\n\u001b[0;32m    964\u001b[0m     \u001b[39mif\u001b[39;00m d:\n\u001b[0;32m    965\u001b[0m         \u001b[39m# Note: reduce is used in step of Mul as Mul is unable to\u001b[39;00m\n\u001b[0;32m    966\u001b[0m         \u001b[39m# handle subtypes and operation priority:\u001b[39;00m\n\u001b[0;32m    967\u001b[0m         terms\u001b[39m.\u001b[39mappend(reduce(\u001b[39mlambda\u001b[39;00m x, y: x\u001b[39m*\u001b[39my, (args[:i] \u001b[39m+\u001b[39m [d] \u001b[39m+\u001b[39m args[i \u001b[39m+\u001b[39m \u001b[39m1\u001b[39m:]), S\u001b[39m.\u001b[39mOne))\n",
      "File \u001b[1;32m~\\AppData\\Roaming\\Python\\Python39\\site-packages\\sympy\\core\\expr.py:3555\u001b[0m, in \u001b[0;36mExpr.diff\u001b[1;34m(self, *symbols, **assumptions)\u001b[0m\n\u001b[0;32m   3553\u001b[0m \u001b[39mdef\u001b[39;00m \u001b[39mdiff\u001b[39m(\u001b[39mself\u001b[39m, \u001b[39m*\u001b[39msymbols, \u001b[39m*\u001b[39m\u001b[39m*\u001b[39massumptions):\n\u001b[0;32m   3554\u001b[0m     assumptions\u001b[39m.\u001b[39msetdefault(\u001b[39m\"\u001b[39m\u001b[39mevaluate\u001b[39m\u001b[39m\"\u001b[39m, \u001b[39mTrue\u001b[39;00m)\n\u001b[1;32m-> 3555\u001b[0m     \u001b[39mreturn\u001b[39;00m _derivative_dispatch(\u001b[39mself\u001b[39m, \u001b[39m*\u001b[39msymbols, \u001b[39m*\u001b[39m\u001b[39m*\u001b[39massumptions)\n",
      "File \u001b[1;32m~\\AppData\\Roaming\\Python\\Python39\\site-packages\\sympy\\core\\function.py:1914\u001b[0m, in \u001b[0;36m_derivative_dispatch\u001b[1;34m(expr, *variables, **kwargs)\u001b[0m\n\u001b[0;32m   1912\u001b[0m     \u001b[39mfrom\u001b[39;00m \u001b[39msympy\u001b[39;00m\u001b[39m.\u001b[39;00m\u001b[39mtensor\u001b[39;00m\u001b[39m.\u001b[39;00m\u001b[39marray\u001b[39;00m\u001b[39m.\u001b[39;00m\u001b[39marray_derivatives\u001b[39;00m \u001b[39mimport\u001b[39;00m ArrayDerivative\n\u001b[0;32m   1913\u001b[0m     \u001b[39mreturn\u001b[39;00m ArrayDerivative(expr, \u001b[39m*\u001b[39mvariables, \u001b[39m*\u001b[39m\u001b[39m*\u001b[39mkwargs)\n\u001b[1;32m-> 1914\u001b[0m \u001b[39mreturn\u001b[39;00m Derivative(expr, \u001b[39m*\u001b[39mvariables, \u001b[39m*\u001b[39m\u001b[39m*\u001b[39mkwargs)\n",
      "File \u001b[1;32m~\\AppData\\Roaming\\Python\\Python39\\site-packages\\sympy\\core\\function.py:1442\u001b[0m, in \u001b[0;36mDerivative.__new__\u001b[1;34m(cls, expr, *variables, **kwargs)\u001b[0m\n\u001b[0;32m   1435\u001b[0m     \u001b[39mif\u001b[39;00m \u001b[39mnot\u001b[39;00m old_v\u001b[39m.\u001b[39mis_scalar \u001b[39mand\u001b[39;00m \u001b[39mnot\u001b[39;00m \u001b[39mhasattr\u001b[39m(\n\u001b[0;32m   1436\u001b[0m             old_v, \u001b[39m'\u001b[39m\u001b[39m_eval_derivative\u001b[39m\u001b[39m'\u001b[39m):\n\u001b[0;32m   1437\u001b[0m         \u001b[39m# special hack providing evaluation for classes\u001b[39;00m\n\u001b[0;32m   1438\u001b[0m         \u001b[39m# that have defined is_scalar=True but have no\u001b[39;00m\n\u001b[0;32m   1439\u001b[0m         \u001b[39m# _eval_derivative defined\u001b[39;00m\n\u001b[0;32m   1440\u001b[0m         expr \u001b[39m*\u001b[39m\u001b[39m=\u001b[39m old_v\u001b[39m.\u001b[39mdiff(old_v)\n\u001b[1;32m-> 1442\u001b[0m obj \u001b[39m=\u001b[39m \u001b[39mcls\u001b[39;49m\u001b[39m.\u001b[39;49m_dispatch_eval_derivative_n_times(expr, v, count)\n\u001b[0;32m   1443\u001b[0m \u001b[39mif\u001b[39;00m obj \u001b[39mis\u001b[39;00m \u001b[39mnot\u001b[39;00m \u001b[39mNone\u001b[39;00m \u001b[39mand\u001b[39;00m obj\u001b[39m.\u001b[39mis_zero:\n\u001b[0;32m   1444\u001b[0m     \u001b[39mreturn\u001b[39;00m obj\n",
      "File \u001b[1;32m~\\AppData\\Roaming\\Python\\Python39\\site-packages\\sympy\\core\\function.py:1903\u001b[0m, in \u001b[0;36mDerivative._dispatch_eval_derivative_n_times\u001b[1;34m(cls, expr, v, count)\u001b[0m\n\u001b[0;32m   1897\u001b[0m \u001b[39m@classmethod\u001b[39m\n\u001b[0;32m   1898\u001b[0m \u001b[39mdef\u001b[39;00m \u001b[39m_dispatch_eval_derivative_n_times\u001b[39m(\u001b[39mcls\u001b[39m, expr, v, count):\n\u001b[0;32m   1899\u001b[0m     \u001b[39m# Evaluate the derivative `n` times.  If\u001b[39;00m\n\u001b[0;32m   1900\u001b[0m     \u001b[39m# `_eval_derivative_n_times` is not overridden by the current\u001b[39;00m\n\u001b[0;32m   1901\u001b[0m     \u001b[39m# object, the default in `Basic` will call a loop over\u001b[39;00m\n\u001b[0;32m   1902\u001b[0m     \u001b[39m# `_eval_derivative`:\u001b[39;00m\n\u001b[1;32m-> 1903\u001b[0m     \u001b[39mreturn\u001b[39;00m expr\u001b[39m.\u001b[39;49m_eval_derivative_n_times(v, count)\n",
      "File \u001b[1;32m~\\AppData\\Roaming\\Python\\Python39\\site-packages\\sympy\\core\\basic.py:1785\u001b[0m, in \u001b[0;36mBasic._eval_derivative_n_times\u001b[1;34m(self, s, n)\u001b[0m\n\u001b[0;32m   1783\u001b[0m obj \u001b[39m=\u001b[39m \u001b[39mself\u001b[39m\n\u001b[0;32m   1784\u001b[0m \u001b[39mfor\u001b[39;00m i \u001b[39min\u001b[39;00m \u001b[39mrange\u001b[39m(n):\n\u001b[1;32m-> 1785\u001b[0m     obj2 \u001b[39m=\u001b[39m obj\u001b[39m.\u001b[39;49m_eval_derivative(s)\n\u001b[0;32m   1786\u001b[0m     \u001b[39mif\u001b[39;00m obj \u001b[39m==\u001b[39m obj2 \u001b[39mor\u001b[39;00m obj2 \u001b[39mis\u001b[39;00m \u001b[39mNone\u001b[39;00m:\n\u001b[0;32m   1787\u001b[0m         \u001b[39mbreak\u001b[39;00m\n",
      "File \u001b[1;32m~\\AppData\\Roaming\\Python\\Python39\\site-packages\\sympy\\core\\cache.py:70\u001b[0m, in \u001b[0;36m__cacheit.<locals>.func_wrapper.<locals>.wrapper\u001b[1;34m(*args, **kwargs)\u001b[0m\n\u001b[0;32m     67\u001b[0m \u001b[39m@wraps\u001b[39m(func)\n\u001b[0;32m     68\u001b[0m \u001b[39mdef\u001b[39;00m \u001b[39mwrapper\u001b[39m(\u001b[39m*\u001b[39margs, \u001b[39m*\u001b[39m\u001b[39m*\u001b[39mkwargs):\n\u001b[0;32m     69\u001b[0m     \u001b[39mtry\u001b[39;00m:\n\u001b[1;32m---> 70\u001b[0m         retval \u001b[39m=\u001b[39m cfunc(\u001b[39m*\u001b[39margs, \u001b[39m*\u001b[39m\u001b[39m*\u001b[39mkwargs)\n\u001b[0;32m     71\u001b[0m     \u001b[39mexcept\u001b[39;00m \u001b[39mTypeError\u001b[39;00m \u001b[39mas\u001b[39;00m e:\n\u001b[0;32m     72\u001b[0m         \u001b[39mif\u001b[39;00m \u001b[39mnot\u001b[39;00m e\u001b[39m.\u001b[39margs \u001b[39mor\u001b[39;00m \u001b[39mnot\u001b[39;00m e\u001b[39m.\u001b[39margs[\u001b[39m0\u001b[39m]\u001b[39m.\u001b[39mstartswith(\u001b[39m'\u001b[39m\u001b[39munhashable type:\u001b[39m\u001b[39m'\u001b[39m):\n",
      "File \u001b[1;32m~\\AppData\\Roaming\\Python\\Python39\\site-packages\\sympy\\core\\add.py:508\u001b[0m, in \u001b[0;36mAdd._eval_derivative\u001b[1;34m(self, s)\u001b[0m\n\u001b[0;32m    506\u001b[0m \u001b[39m@cacheit\u001b[39m\n\u001b[0;32m    507\u001b[0m \u001b[39mdef\u001b[39;00m \u001b[39m_eval_derivative\u001b[39m(\u001b[39mself\u001b[39m, s):\n\u001b[1;32m--> 508\u001b[0m     \u001b[39mreturn\u001b[39;00m \u001b[39mself\u001b[39m\u001b[39m.\u001b[39mfunc(\u001b[39m*\u001b[39m[a\u001b[39m.\u001b[39mdiff(s) \u001b[39mfor\u001b[39;00m a \u001b[39min\u001b[39;00m \u001b[39mself\u001b[39m\u001b[39m.\u001b[39margs])\n",
      "File \u001b[1;32m~\\AppData\\Roaming\\Python\\Python39\\site-packages\\sympy\\core\\add.py:508\u001b[0m, in \u001b[0;36m<listcomp>\u001b[1;34m(.0)\u001b[0m\n\u001b[0;32m    506\u001b[0m \u001b[39m@cacheit\u001b[39m\n\u001b[0;32m    507\u001b[0m \u001b[39mdef\u001b[39;00m \u001b[39m_eval_derivative\u001b[39m(\u001b[39mself\u001b[39m, s):\n\u001b[1;32m--> 508\u001b[0m     \u001b[39mreturn\u001b[39;00m \u001b[39mself\u001b[39m\u001b[39m.\u001b[39mfunc(\u001b[39m*\u001b[39m[a\u001b[39m.\u001b[39;49mdiff(s) \u001b[39mfor\u001b[39;00m a \u001b[39min\u001b[39;00m \u001b[39mself\u001b[39m\u001b[39m.\u001b[39margs])\n",
      "File \u001b[1;32m~\\AppData\\Roaming\\Python\\Python39\\site-packages\\sympy\\core\\expr.py:3555\u001b[0m, in \u001b[0;36mExpr.diff\u001b[1;34m(self, *symbols, **assumptions)\u001b[0m\n\u001b[0;32m   3553\u001b[0m \u001b[39mdef\u001b[39;00m \u001b[39mdiff\u001b[39m(\u001b[39mself\u001b[39m, \u001b[39m*\u001b[39msymbols, \u001b[39m*\u001b[39m\u001b[39m*\u001b[39massumptions):\n\u001b[0;32m   3554\u001b[0m     assumptions\u001b[39m.\u001b[39msetdefault(\u001b[39m\"\u001b[39m\u001b[39mevaluate\u001b[39m\u001b[39m\"\u001b[39m, \u001b[39mTrue\u001b[39;00m)\n\u001b[1;32m-> 3555\u001b[0m     \u001b[39mreturn\u001b[39;00m _derivative_dispatch(\u001b[39mself\u001b[39m, \u001b[39m*\u001b[39msymbols, \u001b[39m*\u001b[39m\u001b[39m*\u001b[39massumptions)\n",
      "File \u001b[1;32m~\\AppData\\Roaming\\Python\\Python39\\site-packages\\sympy\\core\\function.py:1914\u001b[0m, in \u001b[0;36m_derivative_dispatch\u001b[1;34m(expr, *variables, **kwargs)\u001b[0m\n\u001b[0;32m   1912\u001b[0m     \u001b[39mfrom\u001b[39;00m \u001b[39msympy\u001b[39;00m\u001b[39m.\u001b[39;00m\u001b[39mtensor\u001b[39;00m\u001b[39m.\u001b[39;00m\u001b[39marray\u001b[39;00m\u001b[39m.\u001b[39;00m\u001b[39marray_derivatives\u001b[39;00m \u001b[39mimport\u001b[39;00m ArrayDerivative\n\u001b[0;32m   1913\u001b[0m     \u001b[39mreturn\u001b[39;00m ArrayDerivative(expr, \u001b[39m*\u001b[39mvariables, \u001b[39m*\u001b[39m\u001b[39m*\u001b[39mkwargs)\n\u001b[1;32m-> 1914\u001b[0m \u001b[39mreturn\u001b[39;00m Derivative(expr, \u001b[39m*\u001b[39mvariables, \u001b[39m*\u001b[39m\u001b[39m*\u001b[39mkwargs)\n",
      "File \u001b[1;32m~\\AppData\\Roaming\\Python\\Python39\\site-packages\\sympy\\core\\function.py:1442\u001b[0m, in \u001b[0;36mDerivative.__new__\u001b[1;34m(cls, expr, *variables, **kwargs)\u001b[0m\n\u001b[0;32m   1435\u001b[0m     \u001b[39mif\u001b[39;00m \u001b[39mnot\u001b[39;00m old_v\u001b[39m.\u001b[39mis_scalar \u001b[39mand\u001b[39;00m \u001b[39mnot\u001b[39;00m \u001b[39mhasattr\u001b[39m(\n\u001b[0;32m   1436\u001b[0m             old_v, \u001b[39m'\u001b[39m\u001b[39m_eval_derivative\u001b[39m\u001b[39m'\u001b[39m):\n\u001b[0;32m   1437\u001b[0m         \u001b[39m# special hack providing evaluation for classes\u001b[39;00m\n\u001b[0;32m   1438\u001b[0m         \u001b[39m# that have defined is_scalar=True but have no\u001b[39;00m\n\u001b[0;32m   1439\u001b[0m         \u001b[39m# _eval_derivative defined\u001b[39;00m\n\u001b[0;32m   1440\u001b[0m         expr \u001b[39m*\u001b[39m\u001b[39m=\u001b[39m old_v\u001b[39m.\u001b[39mdiff(old_v)\n\u001b[1;32m-> 1442\u001b[0m obj \u001b[39m=\u001b[39m \u001b[39mcls\u001b[39;49m\u001b[39m.\u001b[39;49m_dispatch_eval_derivative_n_times(expr, v, count)\n\u001b[0;32m   1443\u001b[0m \u001b[39mif\u001b[39;00m obj \u001b[39mis\u001b[39;00m \u001b[39mnot\u001b[39;00m \u001b[39mNone\u001b[39;00m \u001b[39mand\u001b[39;00m obj\u001b[39m.\u001b[39mis_zero:\n\u001b[0;32m   1444\u001b[0m     \u001b[39mreturn\u001b[39;00m obj\n",
      "File \u001b[1;32m~\\AppData\\Roaming\\Python\\Python39\\site-packages\\sympy\\core\\function.py:1903\u001b[0m, in \u001b[0;36mDerivative._dispatch_eval_derivative_n_times\u001b[1;34m(cls, expr, v, count)\u001b[0m\n\u001b[0;32m   1897\u001b[0m \u001b[39m@classmethod\u001b[39m\n\u001b[0;32m   1898\u001b[0m \u001b[39mdef\u001b[39;00m \u001b[39m_dispatch_eval_derivative_n_times\u001b[39m(\u001b[39mcls\u001b[39m, expr, v, count):\n\u001b[0;32m   1899\u001b[0m     \u001b[39m# Evaluate the derivative `n` times.  If\u001b[39;00m\n\u001b[0;32m   1900\u001b[0m     \u001b[39m# `_eval_derivative_n_times` is not overridden by the current\u001b[39;00m\n\u001b[0;32m   1901\u001b[0m     \u001b[39m# object, the default in `Basic` will call a loop over\u001b[39;00m\n\u001b[0;32m   1902\u001b[0m     \u001b[39m# `_eval_derivative`:\u001b[39;00m\n\u001b[1;32m-> 1903\u001b[0m     \u001b[39mreturn\u001b[39;00m expr\u001b[39m.\u001b[39;49m_eval_derivative_n_times(v, count)\n",
      "File \u001b[1;32m~\\AppData\\Roaming\\Python\\Python39\\site-packages\\sympy\\core\\cache.py:70\u001b[0m, in \u001b[0;36m__cacheit.<locals>.func_wrapper.<locals>.wrapper\u001b[1;34m(*args, **kwargs)\u001b[0m\n\u001b[0;32m     67\u001b[0m \u001b[39m@wraps\u001b[39m(func)\n\u001b[0;32m     68\u001b[0m \u001b[39mdef\u001b[39;00m \u001b[39mwrapper\u001b[39m(\u001b[39m*\u001b[39margs, \u001b[39m*\u001b[39m\u001b[39m*\u001b[39mkwargs):\n\u001b[0;32m     69\u001b[0m     \u001b[39mtry\u001b[39;00m:\n\u001b[1;32m---> 70\u001b[0m         retval \u001b[39m=\u001b[39m cfunc(\u001b[39m*\u001b[39margs, \u001b[39m*\u001b[39m\u001b[39m*\u001b[39mkwargs)\n\u001b[0;32m     71\u001b[0m     \u001b[39mexcept\u001b[39;00m \u001b[39mTypeError\u001b[39;00m \u001b[39mas\u001b[39;00m e:\n\u001b[0;32m     72\u001b[0m         \u001b[39mif\u001b[39;00m \u001b[39mnot\u001b[39;00m e\u001b[39m.\u001b[39margs \u001b[39mor\u001b[39;00m \u001b[39mnot\u001b[39;00m e\u001b[39m.\u001b[39margs[\u001b[39m0\u001b[39m]\u001b[39m.\u001b[39mstartswith(\u001b[39m'\u001b[39m\u001b[39munhashable type:\u001b[39m\u001b[39m'\u001b[39m):\n",
      "File \u001b[1;32m~\\AppData\\Roaming\\Python\\Python39\\site-packages\\sympy\\core\\mul.py:977\u001b[0m, in \u001b[0;36mMul._eval_derivative_n_times\u001b[1;34m(self, s, n)\u001b[0m\n\u001b[0;32m    973\u001b[0m \u001b[39mfrom\u001b[39;00m \u001b[39m.\u001b[39;00m\u001b[39msymbol\u001b[39;00m \u001b[39mimport\u001b[39;00m Symbol, symbols, Dummy\n\u001b[0;32m    974\u001b[0m \u001b[39mif\u001b[39;00m \u001b[39mnot\u001b[39;00m \u001b[39misinstance\u001b[39m(s, (AppliedUndef, Symbol)):\n\u001b[0;32m    975\u001b[0m     \u001b[39m# other types of s may not be well behaved, e.g.\u001b[39;00m\n\u001b[0;32m    976\u001b[0m     \u001b[39m# (cos(x)*sin(y)).diff([[x, y, z]])\u001b[39;00m\n\u001b[1;32m--> 977\u001b[0m     \u001b[39mreturn\u001b[39;00m \u001b[39msuper\u001b[39;49m()\u001b[39m.\u001b[39;49m_eval_derivative_n_times(s, n)\n\u001b[0;32m    978\u001b[0m \u001b[39mfrom\u001b[39;00m \u001b[39m.\u001b[39;00m\u001b[39mnumbers\u001b[39;00m \u001b[39mimport\u001b[39;00m Integer\n\u001b[0;32m    979\u001b[0m args \u001b[39m=\u001b[39m \u001b[39mself\u001b[39m\u001b[39m.\u001b[39margs\n",
      "File \u001b[1;32m~\\AppData\\Roaming\\Python\\Python39\\site-packages\\sympy\\core\\basic.py:1785\u001b[0m, in \u001b[0;36mBasic._eval_derivative_n_times\u001b[1;34m(self, s, n)\u001b[0m\n\u001b[0;32m   1783\u001b[0m obj \u001b[39m=\u001b[39m \u001b[39mself\u001b[39m\n\u001b[0;32m   1784\u001b[0m \u001b[39mfor\u001b[39;00m i \u001b[39min\u001b[39;00m \u001b[39mrange\u001b[39m(n):\n\u001b[1;32m-> 1785\u001b[0m     obj2 \u001b[39m=\u001b[39m obj\u001b[39m.\u001b[39;49m_eval_derivative(s)\n\u001b[0;32m   1786\u001b[0m     \u001b[39mif\u001b[39;00m obj \u001b[39m==\u001b[39m obj2 \u001b[39mor\u001b[39;00m obj2 \u001b[39mis\u001b[39;00m \u001b[39mNone\u001b[39;00m:\n\u001b[0;32m   1787\u001b[0m         \u001b[39mbreak\u001b[39;00m\n",
      "File \u001b[1;32m~\\AppData\\Roaming\\Python\\Python39\\site-packages\\sympy\\core\\cache.py:70\u001b[0m, in \u001b[0;36m__cacheit.<locals>.func_wrapper.<locals>.wrapper\u001b[1;34m(*args, **kwargs)\u001b[0m\n\u001b[0;32m     67\u001b[0m \u001b[39m@wraps\u001b[39m(func)\n\u001b[0;32m     68\u001b[0m \u001b[39mdef\u001b[39;00m \u001b[39mwrapper\u001b[39m(\u001b[39m*\u001b[39margs, \u001b[39m*\u001b[39m\u001b[39m*\u001b[39mkwargs):\n\u001b[0;32m     69\u001b[0m     \u001b[39mtry\u001b[39;00m:\n\u001b[1;32m---> 70\u001b[0m         retval \u001b[39m=\u001b[39m cfunc(\u001b[39m*\u001b[39margs, \u001b[39m*\u001b[39m\u001b[39m*\u001b[39mkwargs)\n\u001b[0;32m     71\u001b[0m     \u001b[39mexcept\u001b[39;00m \u001b[39mTypeError\u001b[39;00m \u001b[39mas\u001b[39;00m e:\n\u001b[0;32m     72\u001b[0m         \u001b[39mif\u001b[39;00m \u001b[39mnot\u001b[39;00m e\u001b[39m.\u001b[39margs \u001b[39mor\u001b[39;00m \u001b[39mnot\u001b[39;00m e\u001b[39m.\u001b[39margs[\u001b[39m0\u001b[39m]\u001b[39m.\u001b[39mstartswith(\u001b[39m'\u001b[39m\u001b[39munhashable type:\u001b[39m\u001b[39m'\u001b[39m):\n",
      "File \u001b[1;32m~\\AppData\\Roaming\\Python\\Python39\\site-packages\\sympy\\core\\mul.py:963\u001b[0m, in \u001b[0;36mMul._eval_derivative\u001b[1;34m(self, s)\u001b[0m\n\u001b[0;32m    961\u001b[0m terms \u001b[39m=\u001b[39m []\n\u001b[0;32m    962\u001b[0m \u001b[39mfor\u001b[39;00m i \u001b[39min\u001b[39;00m \u001b[39mrange\u001b[39m(\u001b[39mlen\u001b[39m(args)):\n\u001b[1;32m--> 963\u001b[0m     d \u001b[39m=\u001b[39m args[i]\u001b[39m.\u001b[39;49mdiff(s)\n\u001b[0;32m    964\u001b[0m     \u001b[39mif\u001b[39;00m d:\n\u001b[0;32m    965\u001b[0m         \u001b[39m# Note: reduce is used in step of Mul as Mul is unable to\u001b[39;00m\n\u001b[0;32m    966\u001b[0m         \u001b[39m# handle subtypes and operation priority:\u001b[39;00m\n\u001b[0;32m    967\u001b[0m         terms\u001b[39m.\u001b[39mappend(reduce(\u001b[39mlambda\u001b[39;00m x, y: x\u001b[39m*\u001b[39my, (args[:i] \u001b[39m+\u001b[39m [d] \u001b[39m+\u001b[39m args[i \u001b[39m+\u001b[39m \u001b[39m1\u001b[39m:]), S\u001b[39m.\u001b[39mOne))\n",
      "File \u001b[1;32m~\\AppData\\Roaming\\Python\\Python39\\site-packages\\sympy\\core\\expr.py:3555\u001b[0m, in \u001b[0;36mExpr.diff\u001b[1;34m(self, *symbols, **assumptions)\u001b[0m\n\u001b[0;32m   3553\u001b[0m \u001b[39mdef\u001b[39;00m \u001b[39mdiff\u001b[39m(\u001b[39mself\u001b[39m, \u001b[39m*\u001b[39msymbols, \u001b[39m*\u001b[39m\u001b[39m*\u001b[39massumptions):\n\u001b[0;32m   3554\u001b[0m     assumptions\u001b[39m.\u001b[39msetdefault(\u001b[39m\"\u001b[39m\u001b[39mevaluate\u001b[39m\u001b[39m\"\u001b[39m, \u001b[39mTrue\u001b[39;00m)\n\u001b[1;32m-> 3555\u001b[0m     \u001b[39mreturn\u001b[39;00m _derivative_dispatch(\u001b[39mself\u001b[39m, \u001b[39m*\u001b[39msymbols, \u001b[39m*\u001b[39m\u001b[39m*\u001b[39massumptions)\n",
      "File \u001b[1;32m~\\AppData\\Roaming\\Python\\Python39\\site-packages\\sympy\\core\\function.py:1914\u001b[0m, in \u001b[0;36m_derivative_dispatch\u001b[1;34m(expr, *variables, **kwargs)\u001b[0m\n\u001b[0;32m   1912\u001b[0m     \u001b[39mfrom\u001b[39;00m \u001b[39msympy\u001b[39;00m\u001b[39m.\u001b[39;00m\u001b[39mtensor\u001b[39;00m\u001b[39m.\u001b[39;00m\u001b[39marray\u001b[39;00m\u001b[39m.\u001b[39;00m\u001b[39marray_derivatives\u001b[39;00m \u001b[39mimport\u001b[39;00m ArrayDerivative\n\u001b[0;32m   1913\u001b[0m     \u001b[39mreturn\u001b[39;00m ArrayDerivative(expr, \u001b[39m*\u001b[39mvariables, \u001b[39m*\u001b[39m\u001b[39m*\u001b[39mkwargs)\n\u001b[1;32m-> 1914\u001b[0m \u001b[39mreturn\u001b[39;00m Derivative(expr, \u001b[39m*\u001b[39mvariables, \u001b[39m*\u001b[39m\u001b[39m*\u001b[39mkwargs)\n",
      "File \u001b[1;32m~\\AppData\\Roaming\\Python\\Python39\\site-packages\\sympy\\core\\function.py:1442\u001b[0m, in \u001b[0;36mDerivative.__new__\u001b[1;34m(cls, expr, *variables, **kwargs)\u001b[0m\n\u001b[0;32m   1435\u001b[0m     \u001b[39mif\u001b[39;00m \u001b[39mnot\u001b[39;00m old_v\u001b[39m.\u001b[39mis_scalar \u001b[39mand\u001b[39;00m \u001b[39mnot\u001b[39;00m \u001b[39mhasattr\u001b[39m(\n\u001b[0;32m   1436\u001b[0m             old_v, \u001b[39m'\u001b[39m\u001b[39m_eval_derivative\u001b[39m\u001b[39m'\u001b[39m):\n\u001b[0;32m   1437\u001b[0m         \u001b[39m# special hack providing evaluation for classes\u001b[39;00m\n\u001b[0;32m   1438\u001b[0m         \u001b[39m# that have defined is_scalar=True but have no\u001b[39;00m\n\u001b[0;32m   1439\u001b[0m         \u001b[39m# _eval_derivative defined\u001b[39;00m\n\u001b[0;32m   1440\u001b[0m         expr \u001b[39m*\u001b[39m\u001b[39m=\u001b[39m old_v\u001b[39m.\u001b[39mdiff(old_v)\n\u001b[1;32m-> 1442\u001b[0m obj \u001b[39m=\u001b[39m \u001b[39mcls\u001b[39;49m\u001b[39m.\u001b[39;49m_dispatch_eval_derivative_n_times(expr, v, count)\n\u001b[0;32m   1443\u001b[0m \u001b[39mif\u001b[39;00m obj \u001b[39mis\u001b[39;00m \u001b[39mnot\u001b[39;00m \u001b[39mNone\u001b[39;00m \u001b[39mand\u001b[39;00m obj\u001b[39m.\u001b[39mis_zero:\n\u001b[0;32m   1444\u001b[0m     \u001b[39mreturn\u001b[39;00m obj\n",
      "File \u001b[1;32m~\\AppData\\Roaming\\Python\\Python39\\site-packages\\sympy\\core\\function.py:1903\u001b[0m, in \u001b[0;36mDerivative._dispatch_eval_derivative_n_times\u001b[1;34m(cls, expr, v, count)\u001b[0m\n\u001b[0;32m   1897\u001b[0m \u001b[39m@classmethod\u001b[39m\n\u001b[0;32m   1898\u001b[0m \u001b[39mdef\u001b[39;00m \u001b[39m_dispatch_eval_derivative_n_times\u001b[39m(\u001b[39mcls\u001b[39m, expr, v, count):\n\u001b[0;32m   1899\u001b[0m     \u001b[39m# Evaluate the derivative `n` times.  If\u001b[39;00m\n\u001b[0;32m   1900\u001b[0m     \u001b[39m# `_eval_derivative_n_times` is not overridden by the current\u001b[39;00m\n\u001b[0;32m   1901\u001b[0m     \u001b[39m# object, the default in `Basic` will call a loop over\u001b[39;00m\n\u001b[0;32m   1902\u001b[0m     \u001b[39m# `_eval_derivative`:\u001b[39;00m\n\u001b[1;32m-> 1903\u001b[0m     \u001b[39mreturn\u001b[39;00m expr\u001b[39m.\u001b[39;49m_eval_derivative_n_times(v, count)\n",
      "File \u001b[1;32m~\\AppData\\Roaming\\Python\\Python39\\site-packages\\sympy\\core\\basic.py:1785\u001b[0m, in \u001b[0;36mBasic._eval_derivative_n_times\u001b[1;34m(self, s, n)\u001b[0m\n\u001b[0;32m   1783\u001b[0m obj \u001b[39m=\u001b[39m \u001b[39mself\u001b[39m\n\u001b[0;32m   1784\u001b[0m \u001b[39mfor\u001b[39;00m i \u001b[39min\u001b[39;00m \u001b[39mrange\u001b[39m(n):\n\u001b[1;32m-> 1785\u001b[0m     obj2 \u001b[39m=\u001b[39m obj\u001b[39m.\u001b[39;49m_eval_derivative(s)\n\u001b[0;32m   1786\u001b[0m     \u001b[39mif\u001b[39;00m obj \u001b[39m==\u001b[39m obj2 \u001b[39mor\u001b[39;00m obj2 \u001b[39mis\u001b[39;00m \u001b[39mNone\u001b[39;00m:\n\u001b[0;32m   1787\u001b[0m         \u001b[39mbreak\u001b[39;00m\n",
      "File \u001b[1;32m~\\AppData\\Roaming\\Python\\Python39\\site-packages\\sympy\\core\\function.py:607\u001b[0m, in \u001b[0;36mFunction._eval_derivative\u001b[1;34m(self, s)\u001b[0m\n\u001b[0;32m    605\u001b[0m     \u001b[39mcontinue\u001b[39;00m\n\u001b[0;32m    606\u001b[0m \u001b[39mtry\u001b[39;00m:\n\u001b[1;32m--> 607\u001b[0m     df \u001b[39m=\u001b[39m \u001b[39mself\u001b[39;49m\u001b[39m.\u001b[39;49mfdiff(i)\n\u001b[0;32m    608\u001b[0m \u001b[39mexcept\u001b[39;00m ArgumentIndexError:\n\u001b[0;32m    609\u001b[0m     df \u001b[39m=\u001b[39m Function\u001b[39m.\u001b[39mfdiff(\u001b[39mself\u001b[39m, i)\n",
      "File \u001b[1;32m~\\AppData\\Roaming\\Python\\Python39\\site-packages\\sympy\\functions\\elementary\\exponential.py:648\u001b[0m, in \u001b[0;36mlog.fdiff\u001b[1;34m(self, argindex)\u001b[0m\n\u001b[0;32m    644\u001b[0m \u001b[39m\"\"\"\u001b[39;00m\n\u001b[0;32m    645\u001b[0m \u001b[39mReturns the first derivative of the function.\u001b[39;00m\n\u001b[0;32m    646\u001b[0m \u001b[39m\"\"\"\u001b[39;00m\n\u001b[0;32m    647\u001b[0m \u001b[39mif\u001b[39;00m argindex \u001b[39m==\u001b[39m \u001b[39m1\u001b[39m:\n\u001b[1;32m--> 648\u001b[0m     \u001b[39mreturn\u001b[39;00m \u001b[39m1\u001b[39;49m\u001b[39m/\u001b[39;49m\u001b[39mself\u001b[39;49m\u001b[39m.\u001b[39;49margs[\u001b[39m0\u001b[39;49m]\n\u001b[0;32m    649\u001b[0m \u001b[39melse\u001b[39;00m:\n\u001b[0;32m    650\u001b[0m     \u001b[39mraise\u001b[39;00m ArgumentIndexError(\u001b[39mself\u001b[39m, argindex)\n",
      "File \u001b[1;32m~\\AppData\\Roaming\\Python\\Python39\\site-packages\\sympy\\matrices\\expressions\\matexpr.py:27\u001b[0m, in \u001b[0;36m_sympifyit.<locals>.deco.<locals>.__sympifyit_wrapper\u001b[1;34m(a, b)\u001b[0m\n\u001b[0;32m     25\u001b[0m \u001b[39mtry\u001b[39;00m:\n\u001b[0;32m     26\u001b[0m     b \u001b[39m=\u001b[39m _sympify(b)\n\u001b[1;32m---> 27\u001b[0m     \u001b[39mreturn\u001b[39;00m func(a, b)\n\u001b[0;32m     28\u001b[0m \u001b[39mexcept\u001b[39;00m SympifyError:\n\u001b[0;32m     29\u001b[0m     \u001b[39mreturn\u001b[39;00m retval\n",
      "File \u001b[1;32m~\\AppData\\Roaming\\Python\\Python39\\site-packages\\sympy\\core\\decorators.py:106\u001b[0m, in \u001b[0;36mcall_highest_priority.<locals>.priority_decorator.<locals>.binary_op_wrapper\u001b[1;34m(self, other)\u001b[0m\n\u001b[0;32m    104\u001b[0m         \u001b[39mif\u001b[39;00m f \u001b[39mis\u001b[39;00m \u001b[39mnot\u001b[39;00m \u001b[39mNone\u001b[39;00m:\n\u001b[0;32m    105\u001b[0m             \u001b[39mreturn\u001b[39;00m f(\u001b[39mself\u001b[39m)\n\u001b[1;32m--> 106\u001b[0m \u001b[39mreturn\u001b[39;00m func(\u001b[39mself\u001b[39;49m, other)\n",
      "File \u001b[1;32m~\\AppData\\Roaming\\Python\\Python39\\site-packages\\sympy\\matrices\\expressions\\matexpr.py:162\u001b[0m, in \u001b[0;36mMatrixExpr.__rtruediv__\u001b[1;34m(self, other)\u001b[0m\n\u001b[0;32m    159\u001b[0m \u001b[39m@_sympifyit\u001b[39m(\u001b[39m'\u001b[39m\u001b[39mother\u001b[39m\u001b[39m'\u001b[39m, \u001b[39mNotImplemented\u001b[39m)\n\u001b[0;32m    160\u001b[0m \u001b[39m@call_highest_priority\u001b[39m(\u001b[39m'\u001b[39m\u001b[39m__truediv__\u001b[39m\u001b[39m'\u001b[39m)\n\u001b[0;32m    161\u001b[0m \u001b[39mdef\u001b[39;00m \u001b[39m__rtruediv__\u001b[39m(\u001b[39mself\u001b[39m, other):\n\u001b[1;32m--> 162\u001b[0m     \u001b[39mraise\u001b[39;00m \u001b[39mNotImplementedError\u001b[39;00m()\n",
      "\u001b[1;31mNotImplementedError\u001b[0m: "
     ]
    }
   ],
   "source": [
    "y_AT.diff(a[0,0])"
   ]
  },
  {
   "cell_type": "code",
   "execution_count": 21,
   "metadata": {},
   "outputs": [
    {
     "ename": "NotImplementedError",
     "evalue": "",
     "output_type": "error",
     "traceback": [
      "\u001b[1;31m---------------------------------------------------------------------------\u001b[0m",
      "\u001b[1;31mNotImplementedError\u001b[0m                       Traceback (most recent call last)",
      "Cell \u001b[1;32mIn[21], line 1\u001b[0m\n\u001b[1;32m----> 1\u001b[0m jac_ \u001b[39m=\u001b[39m y_AT\u001b[39m.\u001b[39;49mjacobian(a)\n\u001b[0;32m      2\u001b[0m y_AT_jac_ \u001b[39m=\u001b[39m lambdify([a, sum_other_a, b_y, d_y, A_y, b_z, d_z, A_z, z_0, y_0, F_2xCO2, z_ref, z_1750], jac_, \u001b[39m\"\u001b[39m\u001b[39mnumpy\u001b[39m\u001b[39m\"\u001b[39m, cse \u001b[39m=\u001b[39m\u001b[39mTrue\u001b[39;00m)\n\u001b[0;32m      4\u001b[0m \u001b[39mdef\u001b[39;00m \u001b[39mtemp_jac\u001b[39m(a : np\u001b[39m.\u001b[39marray, sum_other_a : np\u001b[39m.\u001b[39mndarray):\n",
      "File \u001b[1;32m~\\AppData\\Roaming\\Python\\Python39\\site-packages\\sympy\\matrices\\matrices.py:560\u001b[0m, in \u001b[0;36mMatrixCalculus.jacobian\u001b[1;34m(self, X)\u001b[0m\n\u001b[0;32m    556\u001b[0m     \u001b[39mraise\u001b[39;00m \u001b[39mTypeError\u001b[39;00m(\u001b[39m\"\u001b[39m\u001b[39mX must be a row or a column matrix\u001b[39m\u001b[39m\"\u001b[39m)\n\u001b[0;32m    558\u001b[0m \u001b[39m# m is the number of functions and n is the number of variables\u001b[39;00m\n\u001b[0;32m    559\u001b[0m \u001b[39m# computing the Jacobian is now easy:\u001b[39;00m\n\u001b[1;32m--> 560\u001b[0m \u001b[39mreturn\u001b[39;00m \u001b[39mself\u001b[39;49m\u001b[39m.\u001b[39;49m_new(m, n, \u001b[39mlambda\u001b[39;49;00m j, i: \u001b[39mself\u001b[39;49m[j]\u001b[39m.\u001b[39;49mdiff(X[i]))\n",
      "File \u001b[1;32m~\\AppData\\Roaming\\Python\\Python39\\site-packages\\sympy\\matrices\\repmatrix.py:340\u001b[0m, in \u001b[0;36mMutableRepMatrix._new\u001b[1;34m(cls, copy, *args, **kwargs)\u001b[0m\n\u001b[0;32m    338\u001b[0m     rows, cols, flat_list \u001b[39m=\u001b[39m args\n\u001b[0;32m    339\u001b[0m \u001b[39melse\u001b[39;00m:\n\u001b[1;32m--> 340\u001b[0m     rows, cols, flat_list \u001b[39m=\u001b[39m \u001b[39mcls\u001b[39m\u001b[39m.\u001b[39m_handle_creation_inputs(\u001b[39m*\u001b[39margs, \u001b[39m*\u001b[39m\u001b[39m*\u001b[39mkwargs)\n\u001b[0;32m    341\u001b[0m     flat_list \u001b[39m=\u001b[39m \u001b[39mlist\u001b[39m(flat_list) \u001b[39m# create a shallow copy\u001b[39;00m\n\u001b[0;32m    343\u001b[0m rep \u001b[39m=\u001b[39m \u001b[39mcls\u001b[39m\u001b[39m.\u001b[39m_flat_list_to_DomainMatrix(rows, cols, flat_list)\n",
      "File \u001b[1;32m~\\AppData\\Roaming\\Python\\Python39\\site-packages\\sympy\\matrices\\matrices.py:1124\u001b[0m, in \u001b[0;36mMatrixBase._handle_creation_inputs\u001b[1;34m(cls, *args, **kwargs)\u001b[0m\n\u001b[0;32m   1121\u001b[0m     flat_list \u001b[39m=\u001b[39m []\n\u001b[0;32m   1122\u001b[0m     \u001b[39mfor\u001b[39;00m i \u001b[39min\u001b[39;00m \u001b[39mrange\u001b[39m(rows):\n\u001b[0;32m   1123\u001b[0m         flat_list\u001b[39m.\u001b[39mextend(\n\u001b[1;32m-> 1124\u001b[0m             [\u001b[39mcls\u001b[39m\u001b[39m.\u001b[39m_sympify(op(\u001b[39mcls\u001b[39m\u001b[39m.\u001b[39m_sympify(i), \u001b[39mcls\u001b[39m\u001b[39m.\u001b[39m_sympify(j)))\n\u001b[0;32m   1125\u001b[0m              \u001b[39mfor\u001b[39;00m j \u001b[39min\u001b[39;00m \u001b[39mrange\u001b[39m(cols)])\n\u001b[0;32m   1127\u001b[0m \u001b[39m# Matrix(2, 2, [1, 2, 3, 4])\u001b[39;00m\n\u001b[0;32m   1128\u001b[0m \u001b[39melif\u001b[39;00m \u001b[39mlen\u001b[39m(args) \u001b[39m==\u001b[39m \u001b[39m3\u001b[39m \u001b[39mand\u001b[39;00m is_sequence(args[\u001b[39m2\u001b[39m]):\n",
      "File \u001b[1;32m~\\AppData\\Roaming\\Python\\Python39\\site-packages\\sympy\\matrices\\matrices.py:1124\u001b[0m, in \u001b[0;36m<listcomp>\u001b[1;34m(.0)\u001b[0m\n\u001b[0;32m   1121\u001b[0m     flat_list \u001b[39m=\u001b[39m []\n\u001b[0;32m   1122\u001b[0m     \u001b[39mfor\u001b[39;00m i \u001b[39min\u001b[39;00m \u001b[39mrange\u001b[39m(rows):\n\u001b[0;32m   1123\u001b[0m         flat_list\u001b[39m.\u001b[39mextend(\n\u001b[1;32m-> 1124\u001b[0m             [\u001b[39mcls\u001b[39m\u001b[39m.\u001b[39m_sympify(op(\u001b[39mcls\u001b[39;49m\u001b[39m.\u001b[39;49m_sympify(i), \u001b[39mcls\u001b[39;49m\u001b[39m.\u001b[39;49m_sympify(j)))\n\u001b[0;32m   1125\u001b[0m              \u001b[39mfor\u001b[39;00m j \u001b[39min\u001b[39;00m \u001b[39mrange\u001b[39m(cols)])\n\u001b[0;32m   1127\u001b[0m \u001b[39m# Matrix(2, 2, [1, 2, 3, 4])\u001b[39;00m\n\u001b[0;32m   1128\u001b[0m \u001b[39melif\u001b[39;00m \u001b[39mlen\u001b[39m(args) \u001b[39m==\u001b[39m \u001b[39m3\u001b[39m \u001b[39mand\u001b[39;00m is_sequence(args[\u001b[39m2\u001b[39m]):\n",
      "File \u001b[1;32m~\\AppData\\Roaming\\Python\\Python39\\site-packages\\sympy\\matrices\\matrices.py:560\u001b[0m, in \u001b[0;36mMatrixCalculus.jacobian.<locals>.<lambda>\u001b[1;34m(j, i)\u001b[0m\n\u001b[0;32m    556\u001b[0m     \u001b[39mraise\u001b[39;00m \u001b[39mTypeError\u001b[39;00m(\u001b[39m\"\u001b[39m\u001b[39mX must be a row or a column matrix\u001b[39m\u001b[39m\"\u001b[39m)\n\u001b[0;32m    558\u001b[0m \u001b[39m# m is the number of functions and n is the number of variables\u001b[39;00m\n\u001b[0;32m    559\u001b[0m \u001b[39m# computing the Jacobian is now easy:\u001b[39;00m\n\u001b[1;32m--> 560\u001b[0m \u001b[39mreturn\u001b[39;00m \u001b[39mself\u001b[39m\u001b[39m.\u001b[39m_new(m, n, \u001b[39mlambda\u001b[39;00m j, i: \u001b[39mself\u001b[39;49m[j]\u001b[39m.\u001b[39;49mdiff(X[i]))\n",
      "File \u001b[1;32m~\\AppData\\Roaming\\Python\\Python39\\site-packages\\sympy\\core\\expr.py:3555\u001b[0m, in \u001b[0;36mExpr.diff\u001b[1;34m(self, *symbols, **assumptions)\u001b[0m\n\u001b[0;32m   3553\u001b[0m \u001b[39mdef\u001b[39;00m \u001b[39mdiff\u001b[39m(\u001b[39mself\u001b[39m, \u001b[39m*\u001b[39msymbols, \u001b[39m*\u001b[39m\u001b[39m*\u001b[39massumptions):\n\u001b[0;32m   3554\u001b[0m     assumptions\u001b[39m.\u001b[39msetdefault(\u001b[39m\"\u001b[39m\u001b[39mevaluate\u001b[39m\u001b[39m\"\u001b[39m, \u001b[39mTrue\u001b[39;00m)\n\u001b[1;32m-> 3555\u001b[0m     \u001b[39mreturn\u001b[39;00m _derivative_dispatch(\u001b[39mself\u001b[39m, \u001b[39m*\u001b[39msymbols, \u001b[39m*\u001b[39m\u001b[39m*\u001b[39massumptions)\n",
      "File \u001b[1;32m~\\AppData\\Roaming\\Python\\Python39\\site-packages\\sympy\\core\\function.py:1913\u001b[0m, in \u001b[0;36m_derivative_dispatch\u001b[1;34m(expr, *variables, **kwargs)\u001b[0m\n\u001b[0;32m   1911\u001b[0m \u001b[39mif\u001b[39;00m \u001b[39misinstance\u001b[39m(expr, array_types) \u001b[39mor\u001b[39;00m \u001b[39many\u001b[39m(\u001b[39misinstance\u001b[39m(i[\u001b[39m0\u001b[39m], array_types) \u001b[39mif\u001b[39;00m \u001b[39misinstance\u001b[39m(i, (\u001b[39mtuple\u001b[39m, \u001b[39mlist\u001b[39m, Tuple)) \u001b[39melse\u001b[39;00m \u001b[39misinstance\u001b[39m(i, array_types) \u001b[39mfor\u001b[39;00m i \u001b[39min\u001b[39;00m variables):\n\u001b[0;32m   1912\u001b[0m     \u001b[39mfrom\u001b[39;00m \u001b[39msympy\u001b[39;00m\u001b[39m.\u001b[39;00m\u001b[39mtensor\u001b[39;00m\u001b[39m.\u001b[39;00m\u001b[39marray\u001b[39;00m\u001b[39m.\u001b[39;00m\u001b[39marray_derivatives\u001b[39;00m \u001b[39mimport\u001b[39;00m ArrayDerivative\n\u001b[1;32m-> 1913\u001b[0m     \u001b[39mreturn\u001b[39;00m ArrayDerivative(expr, \u001b[39m*\u001b[39mvariables, \u001b[39m*\u001b[39m\u001b[39m*\u001b[39mkwargs)\n\u001b[0;32m   1914\u001b[0m \u001b[39mreturn\u001b[39;00m Derivative(expr, \u001b[39m*\u001b[39mvariables, \u001b[39m*\u001b[39m\u001b[39m*\u001b[39mkwargs)\n",
      "File \u001b[1;32m~\\AppData\\Roaming\\Python\\Python39\\site-packages\\sympy\\tensor\\array\\array_derivatives.py:19\u001b[0m, in \u001b[0;36mArrayDerivative.__new__\u001b[1;34m(cls, expr, *variables, **kwargs)\u001b[0m\n\u001b[0;32m     18\u001b[0m \u001b[39mdef\u001b[39;00m \u001b[39m__new__\u001b[39m(\u001b[39mcls\u001b[39m, expr, \u001b[39m*\u001b[39mvariables, \u001b[39m*\u001b[39m\u001b[39m*\u001b[39mkwargs):\n\u001b[1;32m---> 19\u001b[0m     obj \u001b[39m=\u001b[39m \u001b[39msuper\u001b[39m()\u001b[39m.\u001b[39m\u001b[39m__new__\u001b[39m(\u001b[39mcls\u001b[39m, expr, \u001b[39m*\u001b[39mvariables, \u001b[39m*\u001b[39m\u001b[39m*\u001b[39mkwargs)\n\u001b[0;32m     20\u001b[0m     \u001b[39mif\u001b[39;00m \u001b[39misinstance\u001b[39m(obj, ArrayDerivative):\n\u001b[0;32m     21\u001b[0m         obj\u001b[39m.\u001b[39m_shape \u001b[39m=\u001b[39m obj\u001b[39m.\u001b[39m_get_shape()\n",
      "File \u001b[1;32m~\\AppData\\Roaming\\Python\\Python39\\site-packages\\sympy\\core\\function.py:1442\u001b[0m, in \u001b[0;36mDerivative.__new__\u001b[1;34m(cls, expr, *variables, **kwargs)\u001b[0m\n\u001b[0;32m   1435\u001b[0m     \u001b[39mif\u001b[39;00m \u001b[39mnot\u001b[39;00m old_v\u001b[39m.\u001b[39mis_scalar \u001b[39mand\u001b[39;00m \u001b[39mnot\u001b[39;00m \u001b[39mhasattr\u001b[39m(\n\u001b[0;32m   1436\u001b[0m             old_v, \u001b[39m'\u001b[39m\u001b[39m_eval_derivative\u001b[39m\u001b[39m'\u001b[39m):\n\u001b[0;32m   1437\u001b[0m         \u001b[39m# special hack providing evaluation for classes\u001b[39;00m\n\u001b[0;32m   1438\u001b[0m         \u001b[39m# that have defined is_scalar=True but have no\u001b[39;00m\n\u001b[0;32m   1439\u001b[0m         \u001b[39m# _eval_derivative defined\u001b[39;00m\n\u001b[0;32m   1440\u001b[0m         expr \u001b[39m*\u001b[39m\u001b[39m=\u001b[39m old_v\u001b[39m.\u001b[39mdiff(old_v)\n\u001b[1;32m-> 1442\u001b[0m obj \u001b[39m=\u001b[39m \u001b[39mcls\u001b[39;49m\u001b[39m.\u001b[39;49m_dispatch_eval_derivative_n_times(expr, v, count)\n\u001b[0;32m   1443\u001b[0m \u001b[39mif\u001b[39;00m obj \u001b[39mis\u001b[39;00m \u001b[39mnot\u001b[39;00m \u001b[39mNone\u001b[39;00m \u001b[39mand\u001b[39;00m obj\u001b[39m.\u001b[39mis_zero:\n\u001b[0;32m   1444\u001b[0m     \u001b[39mreturn\u001b[39;00m obj\n",
      "File \u001b[1;32m~\\AppData\\Roaming\\Python\\Python39\\site-packages\\sympy\\tensor\\array\\array_derivatives.py:108\u001b[0m, in \u001b[0;36mArrayDerivative._dispatch_eval_derivative_n_times\u001b[1;34m(cls, expr, v, count)\u001b[0m\n\u001b[0;32m    106\u001b[0m     result \u001b[39m=\u001b[39m \u001b[39mcls\u001b[39m\u001b[39m.\u001b[39m_call_derive_matrix_by_scalar(expr, v)\n\u001b[0;32m    107\u001b[0m \u001b[39melif\u001b[39;00m \u001b[39misinstance\u001b[39m(expr, MatrixExpr):\n\u001b[1;32m--> 108\u001b[0m     result \u001b[39m=\u001b[39m \u001b[39mcls\u001b[39;49m\u001b[39m.\u001b[39;49m_call_derive_matexpr_by_scalar(expr, v)\n\u001b[0;32m    109\u001b[0m \u001b[39melif\u001b[39;00m \u001b[39misinstance\u001b[39m(expr, NDimArray):\n\u001b[0;32m    110\u001b[0m     result \u001b[39m=\u001b[39m \u001b[39mcls\u001b[39m\u001b[39m.\u001b[39m_call_derive_array_by_scalar(expr, v)\n",
      "File \u001b[1;32m~\\AppData\\Roaming\\Python\\Python39\\site-packages\\sympy\\tensor\\array\\array_derivatives.py:68\u001b[0m, in \u001b[0;36mArrayDerivative._call_derive_matexpr_by_scalar\u001b[1;34m(expr, v)\u001b[0m\n\u001b[0;32m     66\u001b[0m \u001b[39m@staticmethod\u001b[39m\n\u001b[0;32m     67\u001b[0m \u001b[39mdef\u001b[39;00m \u001b[39m_call_derive_matexpr_by_scalar\u001b[39m(expr, v):  \u001b[39m# type: (MatrixExpr, Expr) -> Expr\u001b[39;00m\n\u001b[1;32m---> 68\u001b[0m     \u001b[39mreturn\u001b[39;00m expr\u001b[39m.\u001b[39;49m_eval_derivative(v)\n",
      "File \u001b[1;32m~\\AppData\\Roaming\\Python\\Python39\\site-packages\\sympy\\matrices\\expressions\\matexpr.py:223\u001b[0m, in \u001b[0;36mMatrixExpr._eval_derivative\u001b[1;34m(self, x)\u001b[0m\n\u001b[0;32m    219\u001b[0m \u001b[39mdef\u001b[39;00m \u001b[39m_eval_derivative\u001b[39m(\u001b[39mself\u001b[39m, x):\n\u001b[0;32m    220\u001b[0m     \u001b[39m# `x` is a scalar:\u001b[39;00m\n\u001b[0;32m    221\u001b[0m     \u001b[39mif\u001b[39;00m \u001b[39mself\u001b[39m\u001b[39m.\u001b[39mhas(x):\n\u001b[0;32m    222\u001b[0m         \u001b[39m# See if there are other methods using it:\u001b[39;00m\n\u001b[1;32m--> 223\u001b[0m         \u001b[39mreturn\u001b[39;00m \u001b[39msuper\u001b[39;49m()\u001b[39m.\u001b[39;49m_eval_derivative(x)\n\u001b[0;32m    224\u001b[0m     \u001b[39melse\u001b[39;00m:\n\u001b[0;32m    225\u001b[0m         \u001b[39mreturn\u001b[39;00m ZeroMatrix(\u001b[39m*\u001b[39m\u001b[39mself\u001b[39m\u001b[39m.\u001b[39mshape)\n",
      "File \u001b[1;32m~\\AppData\\Roaming\\Python\\Python39\\site-packages\\sympy\\core\\cache.py:70\u001b[0m, in \u001b[0;36m__cacheit.<locals>.func_wrapper.<locals>.wrapper\u001b[1;34m(*args, **kwargs)\u001b[0m\n\u001b[0;32m     67\u001b[0m \u001b[39m@wraps\u001b[39m(func)\n\u001b[0;32m     68\u001b[0m \u001b[39mdef\u001b[39;00m \u001b[39mwrapper\u001b[39m(\u001b[39m*\u001b[39margs, \u001b[39m*\u001b[39m\u001b[39m*\u001b[39mkwargs):\n\u001b[0;32m     69\u001b[0m     \u001b[39mtry\u001b[39;00m:\n\u001b[1;32m---> 70\u001b[0m         retval \u001b[39m=\u001b[39m cfunc(\u001b[39m*\u001b[39margs, \u001b[39m*\u001b[39m\u001b[39m*\u001b[39mkwargs)\n\u001b[0;32m     71\u001b[0m     \u001b[39mexcept\u001b[39;00m \u001b[39mTypeError\u001b[39;00m \u001b[39mas\u001b[39;00m e:\n\u001b[0;32m     72\u001b[0m         \u001b[39mif\u001b[39;00m \u001b[39mnot\u001b[39;00m e\u001b[39m.\u001b[39margs \u001b[39mor\u001b[39;00m \u001b[39mnot\u001b[39;00m e\u001b[39m.\u001b[39margs[\u001b[39m0\u001b[39m]\u001b[39m.\u001b[39mstartswith(\u001b[39m'\u001b[39m\u001b[39munhashable type:\u001b[39m\u001b[39m'\u001b[39m):\n",
      "File \u001b[1;32m~\\AppData\\Roaming\\Python\\Python39\\site-packages\\sympy\\core\\mul.py:963\u001b[0m, in \u001b[0;36mMul._eval_derivative\u001b[1;34m(self, s)\u001b[0m\n\u001b[0;32m    961\u001b[0m terms \u001b[39m=\u001b[39m []\n\u001b[0;32m    962\u001b[0m \u001b[39mfor\u001b[39;00m i \u001b[39min\u001b[39;00m \u001b[39mrange\u001b[39m(\u001b[39mlen\u001b[39m(args)):\n\u001b[1;32m--> 963\u001b[0m     d \u001b[39m=\u001b[39m args[i]\u001b[39m.\u001b[39;49mdiff(s)\n\u001b[0;32m    964\u001b[0m     \u001b[39mif\u001b[39;00m d:\n\u001b[0;32m    965\u001b[0m         \u001b[39m# Note: reduce is used in step of Mul as Mul is unable to\u001b[39;00m\n\u001b[0;32m    966\u001b[0m         \u001b[39m# handle subtypes and operation priority:\u001b[39;00m\n\u001b[0;32m    967\u001b[0m         terms\u001b[39m.\u001b[39mappend(reduce(\u001b[39mlambda\u001b[39;00m x, y: x\u001b[39m*\u001b[39my, (args[:i] \u001b[39m+\u001b[39m [d] \u001b[39m+\u001b[39m args[i \u001b[39m+\u001b[39m \u001b[39m1\u001b[39m:]), S\u001b[39m.\u001b[39mOne))\n",
      "File \u001b[1;32m~\\AppData\\Roaming\\Python\\Python39\\site-packages\\sympy\\core\\expr.py:3555\u001b[0m, in \u001b[0;36mExpr.diff\u001b[1;34m(self, *symbols, **assumptions)\u001b[0m\n\u001b[0;32m   3553\u001b[0m \u001b[39mdef\u001b[39;00m \u001b[39mdiff\u001b[39m(\u001b[39mself\u001b[39m, \u001b[39m*\u001b[39msymbols, \u001b[39m*\u001b[39m\u001b[39m*\u001b[39massumptions):\n\u001b[0;32m   3554\u001b[0m     assumptions\u001b[39m.\u001b[39msetdefault(\u001b[39m\"\u001b[39m\u001b[39mevaluate\u001b[39m\u001b[39m\"\u001b[39m, \u001b[39mTrue\u001b[39;00m)\n\u001b[1;32m-> 3555\u001b[0m     \u001b[39mreturn\u001b[39;00m _derivative_dispatch(\u001b[39mself\u001b[39m, \u001b[39m*\u001b[39msymbols, \u001b[39m*\u001b[39m\u001b[39m*\u001b[39massumptions)\n",
      "File \u001b[1;32m~\\AppData\\Roaming\\Python\\Python39\\site-packages\\sympy\\core\\function.py:1913\u001b[0m, in \u001b[0;36m_derivative_dispatch\u001b[1;34m(expr, *variables, **kwargs)\u001b[0m\n\u001b[0;32m   1911\u001b[0m \u001b[39mif\u001b[39;00m \u001b[39misinstance\u001b[39m(expr, array_types) \u001b[39mor\u001b[39;00m \u001b[39many\u001b[39m(\u001b[39misinstance\u001b[39m(i[\u001b[39m0\u001b[39m], array_types) \u001b[39mif\u001b[39;00m \u001b[39misinstance\u001b[39m(i, (\u001b[39mtuple\u001b[39m, \u001b[39mlist\u001b[39m, Tuple)) \u001b[39melse\u001b[39;00m \u001b[39misinstance\u001b[39m(i, array_types) \u001b[39mfor\u001b[39;00m i \u001b[39min\u001b[39;00m variables):\n\u001b[0;32m   1912\u001b[0m     \u001b[39mfrom\u001b[39;00m \u001b[39msympy\u001b[39;00m\u001b[39m.\u001b[39;00m\u001b[39mtensor\u001b[39;00m\u001b[39m.\u001b[39;00m\u001b[39marray\u001b[39;00m\u001b[39m.\u001b[39;00m\u001b[39marray_derivatives\u001b[39;00m \u001b[39mimport\u001b[39;00m ArrayDerivative\n\u001b[1;32m-> 1913\u001b[0m     \u001b[39mreturn\u001b[39;00m ArrayDerivative(expr, \u001b[39m*\u001b[39mvariables, \u001b[39m*\u001b[39m\u001b[39m*\u001b[39mkwargs)\n\u001b[0;32m   1914\u001b[0m \u001b[39mreturn\u001b[39;00m Derivative(expr, \u001b[39m*\u001b[39mvariables, \u001b[39m*\u001b[39m\u001b[39m*\u001b[39mkwargs)\n",
      "File \u001b[1;32m~\\AppData\\Roaming\\Python\\Python39\\site-packages\\sympy\\tensor\\array\\array_derivatives.py:19\u001b[0m, in \u001b[0;36mArrayDerivative.__new__\u001b[1;34m(cls, expr, *variables, **kwargs)\u001b[0m\n\u001b[0;32m     18\u001b[0m \u001b[39mdef\u001b[39;00m \u001b[39m__new__\u001b[39m(\u001b[39mcls\u001b[39m, expr, \u001b[39m*\u001b[39mvariables, \u001b[39m*\u001b[39m\u001b[39m*\u001b[39mkwargs):\n\u001b[1;32m---> 19\u001b[0m     obj \u001b[39m=\u001b[39m \u001b[39msuper\u001b[39m()\u001b[39m.\u001b[39m\u001b[39m__new__\u001b[39m(\u001b[39mcls\u001b[39m, expr, \u001b[39m*\u001b[39mvariables, \u001b[39m*\u001b[39m\u001b[39m*\u001b[39mkwargs)\n\u001b[0;32m     20\u001b[0m     \u001b[39mif\u001b[39;00m \u001b[39misinstance\u001b[39m(obj, ArrayDerivative):\n\u001b[0;32m     21\u001b[0m         obj\u001b[39m.\u001b[39m_shape \u001b[39m=\u001b[39m obj\u001b[39m.\u001b[39m_get_shape()\n",
      "File \u001b[1;32m~\\AppData\\Roaming\\Python\\Python39\\site-packages\\sympy\\core\\function.py:1442\u001b[0m, in \u001b[0;36mDerivative.__new__\u001b[1;34m(cls, expr, *variables, **kwargs)\u001b[0m\n\u001b[0;32m   1435\u001b[0m     \u001b[39mif\u001b[39;00m \u001b[39mnot\u001b[39;00m old_v\u001b[39m.\u001b[39mis_scalar \u001b[39mand\u001b[39;00m \u001b[39mnot\u001b[39;00m \u001b[39mhasattr\u001b[39m(\n\u001b[0;32m   1436\u001b[0m             old_v, \u001b[39m'\u001b[39m\u001b[39m_eval_derivative\u001b[39m\u001b[39m'\u001b[39m):\n\u001b[0;32m   1437\u001b[0m         \u001b[39m# special hack providing evaluation for classes\u001b[39;00m\n\u001b[0;32m   1438\u001b[0m         \u001b[39m# that have defined is_scalar=True but have no\u001b[39;00m\n\u001b[0;32m   1439\u001b[0m         \u001b[39m# _eval_derivative defined\u001b[39;00m\n\u001b[0;32m   1440\u001b[0m         expr \u001b[39m*\u001b[39m\u001b[39m=\u001b[39m old_v\u001b[39m.\u001b[39mdiff(old_v)\n\u001b[1;32m-> 1442\u001b[0m obj \u001b[39m=\u001b[39m \u001b[39mcls\u001b[39;49m\u001b[39m.\u001b[39;49m_dispatch_eval_derivative_n_times(expr, v, count)\n\u001b[0;32m   1443\u001b[0m \u001b[39mif\u001b[39;00m obj \u001b[39mis\u001b[39;00m \u001b[39mnot\u001b[39;00m \u001b[39mNone\u001b[39;00m \u001b[39mand\u001b[39;00m obj\u001b[39m.\u001b[39mis_zero:\n\u001b[0;32m   1444\u001b[0m     \u001b[39mreturn\u001b[39;00m obj\n",
      "File \u001b[1;32m~\\AppData\\Roaming\\Python\\Python39\\site-packages\\sympy\\tensor\\array\\array_derivatives.py:108\u001b[0m, in \u001b[0;36mArrayDerivative._dispatch_eval_derivative_n_times\u001b[1;34m(cls, expr, v, count)\u001b[0m\n\u001b[0;32m    106\u001b[0m     result \u001b[39m=\u001b[39m \u001b[39mcls\u001b[39m\u001b[39m.\u001b[39m_call_derive_matrix_by_scalar(expr, v)\n\u001b[0;32m    107\u001b[0m \u001b[39melif\u001b[39;00m \u001b[39misinstance\u001b[39m(expr, MatrixExpr):\n\u001b[1;32m--> 108\u001b[0m     result \u001b[39m=\u001b[39m \u001b[39mcls\u001b[39;49m\u001b[39m.\u001b[39;49m_call_derive_matexpr_by_scalar(expr, v)\n\u001b[0;32m    109\u001b[0m \u001b[39melif\u001b[39;00m \u001b[39misinstance\u001b[39m(expr, NDimArray):\n\u001b[0;32m    110\u001b[0m     result \u001b[39m=\u001b[39m \u001b[39mcls\u001b[39m\u001b[39m.\u001b[39m_call_derive_array_by_scalar(expr, v)\n",
      "File \u001b[1;32m~\\AppData\\Roaming\\Python\\Python39\\site-packages\\sympy\\tensor\\array\\array_derivatives.py:68\u001b[0m, in \u001b[0;36mArrayDerivative._call_derive_matexpr_by_scalar\u001b[1;34m(expr, v)\u001b[0m\n\u001b[0;32m     66\u001b[0m \u001b[39m@staticmethod\u001b[39m\n\u001b[0;32m     67\u001b[0m \u001b[39mdef\u001b[39;00m \u001b[39m_call_derive_matexpr_by_scalar\u001b[39m(expr, v):  \u001b[39m# type: (MatrixExpr, Expr) -> Expr\u001b[39;00m\n\u001b[1;32m---> 68\u001b[0m     \u001b[39mreturn\u001b[39;00m expr\u001b[39m.\u001b[39;49m_eval_derivative(v)\n",
      "File \u001b[1;32m~\\AppData\\Roaming\\Python\\Python39\\site-packages\\sympy\\matrices\\expressions\\matexpr.py:223\u001b[0m, in \u001b[0;36mMatrixExpr._eval_derivative\u001b[1;34m(self, x)\u001b[0m\n\u001b[0;32m    219\u001b[0m \u001b[39mdef\u001b[39;00m \u001b[39m_eval_derivative\u001b[39m(\u001b[39mself\u001b[39m, x):\n\u001b[0;32m    220\u001b[0m     \u001b[39m# `x` is a scalar:\u001b[39;00m\n\u001b[0;32m    221\u001b[0m     \u001b[39mif\u001b[39;00m \u001b[39mself\u001b[39m\u001b[39m.\u001b[39mhas(x):\n\u001b[0;32m    222\u001b[0m         \u001b[39m# See if there are other methods using it:\u001b[39;00m\n\u001b[1;32m--> 223\u001b[0m         \u001b[39mreturn\u001b[39;00m \u001b[39msuper\u001b[39;49m()\u001b[39m.\u001b[39;49m_eval_derivative(x)\n\u001b[0;32m    224\u001b[0m     \u001b[39melse\u001b[39;00m:\n\u001b[0;32m    225\u001b[0m         \u001b[39mreturn\u001b[39;00m ZeroMatrix(\u001b[39m*\u001b[39m\u001b[39mself\u001b[39m\u001b[39m.\u001b[39mshape)\n",
      "File \u001b[1;32m~\\AppData\\Roaming\\Python\\Python39\\site-packages\\sympy\\core\\cache.py:70\u001b[0m, in \u001b[0;36m__cacheit.<locals>.func_wrapper.<locals>.wrapper\u001b[1;34m(*args, **kwargs)\u001b[0m\n\u001b[0;32m     67\u001b[0m \u001b[39m@wraps\u001b[39m(func)\n\u001b[0;32m     68\u001b[0m \u001b[39mdef\u001b[39;00m \u001b[39mwrapper\u001b[39m(\u001b[39m*\u001b[39margs, \u001b[39m*\u001b[39m\u001b[39m*\u001b[39mkwargs):\n\u001b[0;32m     69\u001b[0m     \u001b[39mtry\u001b[39;00m:\n\u001b[1;32m---> 70\u001b[0m         retval \u001b[39m=\u001b[39m cfunc(\u001b[39m*\u001b[39margs, \u001b[39m*\u001b[39m\u001b[39m*\u001b[39mkwargs)\n\u001b[0;32m     71\u001b[0m     \u001b[39mexcept\u001b[39;00m \u001b[39mTypeError\u001b[39;00m \u001b[39mas\u001b[39;00m e:\n\u001b[0;32m     72\u001b[0m         \u001b[39mif\u001b[39;00m \u001b[39mnot\u001b[39;00m e\u001b[39m.\u001b[39margs \u001b[39mor\u001b[39;00m \u001b[39mnot\u001b[39;00m e\u001b[39m.\u001b[39margs[\u001b[39m0\u001b[39m]\u001b[39m.\u001b[39mstartswith(\u001b[39m'\u001b[39m\u001b[39munhashable type:\u001b[39m\u001b[39m'\u001b[39m):\n",
      "File \u001b[1;32m~\\AppData\\Roaming\\Python\\Python39\\site-packages\\sympy\\core\\add.py:508\u001b[0m, in \u001b[0;36mAdd._eval_derivative\u001b[1;34m(self, s)\u001b[0m\n\u001b[0;32m    506\u001b[0m \u001b[39m@cacheit\u001b[39m\n\u001b[0;32m    507\u001b[0m \u001b[39mdef\u001b[39;00m \u001b[39m_eval_derivative\u001b[39m(\u001b[39mself\u001b[39m, s):\n\u001b[1;32m--> 508\u001b[0m     \u001b[39mreturn\u001b[39;00m \u001b[39mself\u001b[39m\u001b[39m.\u001b[39mfunc(\u001b[39m*\u001b[39m[a\u001b[39m.\u001b[39mdiff(s) \u001b[39mfor\u001b[39;00m a \u001b[39min\u001b[39;00m \u001b[39mself\u001b[39m\u001b[39m.\u001b[39margs])\n",
      "File \u001b[1;32m~\\AppData\\Roaming\\Python\\Python39\\site-packages\\sympy\\core\\add.py:508\u001b[0m, in \u001b[0;36m<listcomp>\u001b[1;34m(.0)\u001b[0m\n\u001b[0;32m    506\u001b[0m \u001b[39m@cacheit\u001b[39m\n\u001b[0;32m    507\u001b[0m \u001b[39mdef\u001b[39;00m \u001b[39m_eval_derivative\u001b[39m(\u001b[39mself\u001b[39m, s):\n\u001b[1;32m--> 508\u001b[0m     \u001b[39mreturn\u001b[39;00m \u001b[39mself\u001b[39m\u001b[39m.\u001b[39mfunc(\u001b[39m*\u001b[39m[a\u001b[39m.\u001b[39;49mdiff(s) \u001b[39mfor\u001b[39;00m a \u001b[39min\u001b[39;00m \u001b[39mself\u001b[39m\u001b[39m.\u001b[39margs])\n",
      "File \u001b[1;32m~\\AppData\\Roaming\\Python\\Python39\\site-packages\\sympy\\core\\expr.py:3555\u001b[0m, in \u001b[0;36mExpr.diff\u001b[1;34m(self, *symbols, **assumptions)\u001b[0m\n\u001b[0;32m   3553\u001b[0m \u001b[39mdef\u001b[39;00m \u001b[39mdiff\u001b[39m(\u001b[39mself\u001b[39m, \u001b[39m*\u001b[39msymbols, \u001b[39m*\u001b[39m\u001b[39m*\u001b[39massumptions):\n\u001b[0;32m   3554\u001b[0m     assumptions\u001b[39m.\u001b[39msetdefault(\u001b[39m\"\u001b[39m\u001b[39mevaluate\u001b[39m\u001b[39m\"\u001b[39m, \u001b[39mTrue\u001b[39;00m)\n\u001b[1;32m-> 3555\u001b[0m     \u001b[39mreturn\u001b[39;00m _derivative_dispatch(\u001b[39mself\u001b[39m, \u001b[39m*\u001b[39msymbols, \u001b[39m*\u001b[39m\u001b[39m*\u001b[39massumptions)\n",
      "File \u001b[1;32m~\\AppData\\Roaming\\Python\\Python39\\site-packages\\sympy\\core\\function.py:1913\u001b[0m, in \u001b[0;36m_derivative_dispatch\u001b[1;34m(expr, *variables, **kwargs)\u001b[0m\n\u001b[0;32m   1911\u001b[0m \u001b[39mif\u001b[39;00m \u001b[39misinstance\u001b[39m(expr, array_types) \u001b[39mor\u001b[39;00m \u001b[39many\u001b[39m(\u001b[39misinstance\u001b[39m(i[\u001b[39m0\u001b[39m], array_types) \u001b[39mif\u001b[39;00m \u001b[39misinstance\u001b[39m(i, (\u001b[39mtuple\u001b[39m, \u001b[39mlist\u001b[39m, Tuple)) \u001b[39melse\u001b[39;00m \u001b[39misinstance\u001b[39m(i, array_types) \u001b[39mfor\u001b[39;00m i \u001b[39min\u001b[39;00m variables):\n\u001b[0;32m   1912\u001b[0m     \u001b[39mfrom\u001b[39;00m \u001b[39msympy\u001b[39;00m\u001b[39m.\u001b[39;00m\u001b[39mtensor\u001b[39;00m\u001b[39m.\u001b[39;00m\u001b[39marray\u001b[39;00m\u001b[39m.\u001b[39;00m\u001b[39marray_derivatives\u001b[39;00m \u001b[39mimport\u001b[39;00m ArrayDerivative\n\u001b[1;32m-> 1913\u001b[0m     \u001b[39mreturn\u001b[39;00m ArrayDerivative(expr, \u001b[39m*\u001b[39mvariables, \u001b[39m*\u001b[39m\u001b[39m*\u001b[39mkwargs)\n\u001b[0;32m   1914\u001b[0m \u001b[39mreturn\u001b[39;00m Derivative(expr, \u001b[39m*\u001b[39mvariables, \u001b[39m*\u001b[39m\u001b[39m*\u001b[39mkwargs)\n",
      "File \u001b[1;32m~\\AppData\\Roaming\\Python\\Python39\\site-packages\\sympy\\tensor\\array\\array_derivatives.py:19\u001b[0m, in \u001b[0;36mArrayDerivative.__new__\u001b[1;34m(cls, expr, *variables, **kwargs)\u001b[0m\n\u001b[0;32m     18\u001b[0m \u001b[39mdef\u001b[39;00m \u001b[39m__new__\u001b[39m(\u001b[39mcls\u001b[39m, expr, \u001b[39m*\u001b[39mvariables, \u001b[39m*\u001b[39m\u001b[39m*\u001b[39mkwargs):\n\u001b[1;32m---> 19\u001b[0m     obj \u001b[39m=\u001b[39m \u001b[39msuper\u001b[39m()\u001b[39m.\u001b[39m\u001b[39m__new__\u001b[39m(\u001b[39mcls\u001b[39m, expr, \u001b[39m*\u001b[39mvariables, \u001b[39m*\u001b[39m\u001b[39m*\u001b[39mkwargs)\n\u001b[0;32m     20\u001b[0m     \u001b[39mif\u001b[39;00m \u001b[39misinstance\u001b[39m(obj, ArrayDerivative):\n\u001b[0;32m     21\u001b[0m         obj\u001b[39m.\u001b[39m_shape \u001b[39m=\u001b[39m obj\u001b[39m.\u001b[39m_get_shape()\n",
      "File \u001b[1;32m~\\AppData\\Roaming\\Python\\Python39\\site-packages\\sympy\\core\\function.py:1442\u001b[0m, in \u001b[0;36mDerivative.__new__\u001b[1;34m(cls, expr, *variables, **kwargs)\u001b[0m\n\u001b[0;32m   1435\u001b[0m     \u001b[39mif\u001b[39;00m \u001b[39mnot\u001b[39;00m old_v\u001b[39m.\u001b[39mis_scalar \u001b[39mand\u001b[39;00m \u001b[39mnot\u001b[39;00m \u001b[39mhasattr\u001b[39m(\n\u001b[0;32m   1436\u001b[0m             old_v, \u001b[39m'\u001b[39m\u001b[39m_eval_derivative\u001b[39m\u001b[39m'\u001b[39m):\n\u001b[0;32m   1437\u001b[0m         \u001b[39m# special hack providing evaluation for classes\u001b[39;00m\n\u001b[0;32m   1438\u001b[0m         \u001b[39m# that have defined is_scalar=True but have no\u001b[39;00m\n\u001b[0;32m   1439\u001b[0m         \u001b[39m# _eval_derivative defined\u001b[39;00m\n\u001b[0;32m   1440\u001b[0m         expr \u001b[39m*\u001b[39m\u001b[39m=\u001b[39m old_v\u001b[39m.\u001b[39mdiff(old_v)\n\u001b[1;32m-> 1442\u001b[0m obj \u001b[39m=\u001b[39m \u001b[39mcls\u001b[39;49m\u001b[39m.\u001b[39;49m_dispatch_eval_derivative_n_times(expr, v, count)\n\u001b[0;32m   1443\u001b[0m \u001b[39mif\u001b[39;00m obj \u001b[39mis\u001b[39;00m \u001b[39mnot\u001b[39;00m \u001b[39mNone\u001b[39;00m \u001b[39mand\u001b[39;00m obj\u001b[39m.\u001b[39mis_zero:\n\u001b[0;32m   1444\u001b[0m     \u001b[39mreturn\u001b[39;00m obj\n",
      "File \u001b[1;32m~\\AppData\\Roaming\\Python\\Python39\\site-packages\\sympy\\tensor\\array\\array_derivatives.py:108\u001b[0m, in \u001b[0;36mArrayDerivative._dispatch_eval_derivative_n_times\u001b[1;34m(cls, expr, v, count)\u001b[0m\n\u001b[0;32m    106\u001b[0m     result \u001b[39m=\u001b[39m \u001b[39mcls\u001b[39m\u001b[39m.\u001b[39m_call_derive_matrix_by_scalar(expr, v)\n\u001b[0;32m    107\u001b[0m \u001b[39melif\u001b[39;00m \u001b[39misinstance\u001b[39m(expr, MatrixExpr):\n\u001b[1;32m--> 108\u001b[0m     result \u001b[39m=\u001b[39m \u001b[39mcls\u001b[39;49m\u001b[39m.\u001b[39;49m_call_derive_matexpr_by_scalar(expr, v)\n\u001b[0;32m    109\u001b[0m \u001b[39melif\u001b[39;00m \u001b[39misinstance\u001b[39m(expr, NDimArray):\n\u001b[0;32m    110\u001b[0m     result \u001b[39m=\u001b[39m \u001b[39mcls\u001b[39m\u001b[39m.\u001b[39m_call_derive_array_by_scalar(expr, v)\n",
      "File \u001b[1;32m~\\AppData\\Roaming\\Python\\Python39\\site-packages\\sympy\\tensor\\array\\array_derivatives.py:68\u001b[0m, in \u001b[0;36mArrayDerivative._call_derive_matexpr_by_scalar\u001b[1;34m(expr, v)\u001b[0m\n\u001b[0;32m     66\u001b[0m \u001b[39m@staticmethod\u001b[39m\n\u001b[0;32m     67\u001b[0m \u001b[39mdef\u001b[39;00m \u001b[39m_call_derive_matexpr_by_scalar\u001b[39m(expr, v):  \u001b[39m# type: (MatrixExpr, Expr) -> Expr\u001b[39;00m\n\u001b[1;32m---> 68\u001b[0m     \u001b[39mreturn\u001b[39;00m expr\u001b[39m.\u001b[39;49m_eval_derivative(v)\n",
      "File \u001b[1;32m~\\AppData\\Roaming\\Python\\Python39\\site-packages\\sympy\\matrices\\expressions\\matexpr.py:223\u001b[0m, in \u001b[0;36mMatrixExpr._eval_derivative\u001b[1;34m(self, x)\u001b[0m\n\u001b[0;32m    219\u001b[0m \u001b[39mdef\u001b[39;00m \u001b[39m_eval_derivative\u001b[39m(\u001b[39mself\u001b[39m, x):\n\u001b[0;32m    220\u001b[0m     \u001b[39m# `x` is a scalar:\u001b[39;00m\n\u001b[0;32m    221\u001b[0m     \u001b[39mif\u001b[39;00m \u001b[39mself\u001b[39m\u001b[39m.\u001b[39mhas(x):\n\u001b[0;32m    222\u001b[0m         \u001b[39m# See if there are other methods using it:\u001b[39;00m\n\u001b[1;32m--> 223\u001b[0m         \u001b[39mreturn\u001b[39;00m \u001b[39msuper\u001b[39;49m()\u001b[39m.\u001b[39;49m_eval_derivative(x)\n\u001b[0;32m    224\u001b[0m     \u001b[39melse\u001b[39;00m:\n\u001b[0;32m    225\u001b[0m         \u001b[39mreturn\u001b[39;00m ZeroMatrix(\u001b[39m*\u001b[39m\u001b[39mself\u001b[39m\u001b[39m.\u001b[39mshape)\n",
      "File \u001b[1;32m~\\AppData\\Roaming\\Python\\Python39\\site-packages\\sympy\\core\\cache.py:70\u001b[0m, in \u001b[0;36m__cacheit.<locals>.func_wrapper.<locals>.wrapper\u001b[1;34m(*args, **kwargs)\u001b[0m\n\u001b[0;32m     67\u001b[0m \u001b[39m@wraps\u001b[39m(func)\n\u001b[0;32m     68\u001b[0m \u001b[39mdef\u001b[39;00m \u001b[39mwrapper\u001b[39m(\u001b[39m*\u001b[39margs, \u001b[39m*\u001b[39m\u001b[39m*\u001b[39mkwargs):\n\u001b[0;32m     69\u001b[0m     \u001b[39mtry\u001b[39;00m:\n\u001b[1;32m---> 70\u001b[0m         retval \u001b[39m=\u001b[39m cfunc(\u001b[39m*\u001b[39margs, \u001b[39m*\u001b[39m\u001b[39m*\u001b[39mkwargs)\n\u001b[0;32m     71\u001b[0m     \u001b[39mexcept\u001b[39;00m \u001b[39mTypeError\u001b[39;00m \u001b[39mas\u001b[39;00m e:\n\u001b[0;32m     72\u001b[0m         \u001b[39mif\u001b[39;00m \u001b[39mnot\u001b[39;00m e\u001b[39m.\u001b[39margs \u001b[39mor\u001b[39;00m \u001b[39mnot\u001b[39;00m e\u001b[39m.\u001b[39margs[\u001b[39m0\u001b[39m]\u001b[39m.\u001b[39mstartswith(\u001b[39m'\u001b[39m\u001b[39munhashable type:\u001b[39m\u001b[39m'\u001b[39m):\n",
      "File \u001b[1;32m~\\AppData\\Roaming\\Python\\Python39\\site-packages\\sympy\\core\\mul.py:963\u001b[0m, in \u001b[0;36mMul._eval_derivative\u001b[1;34m(self, s)\u001b[0m\n\u001b[0;32m    961\u001b[0m terms \u001b[39m=\u001b[39m []\n\u001b[0;32m    962\u001b[0m \u001b[39mfor\u001b[39;00m i \u001b[39min\u001b[39;00m \u001b[39mrange\u001b[39m(\u001b[39mlen\u001b[39m(args)):\n\u001b[1;32m--> 963\u001b[0m     d \u001b[39m=\u001b[39m args[i]\u001b[39m.\u001b[39;49mdiff(s)\n\u001b[0;32m    964\u001b[0m     \u001b[39mif\u001b[39;00m d:\n\u001b[0;32m    965\u001b[0m         \u001b[39m# Note: reduce is used in step of Mul as Mul is unable to\u001b[39;00m\n\u001b[0;32m    966\u001b[0m         \u001b[39m# handle subtypes and operation priority:\u001b[39;00m\n\u001b[0;32m    967\u001b[0m         terms\u001b[39m.\u001b[39mappend(reduce(\u001b[39mlambda\u001b[39;00m x, y: x\u001b[39m*\u001b[39my, (args[:i] \u001b[39m+\u001b[39m [d] \u001b[39m+\u001b[39m args[i \u001b[39m+\u001b[39m \u001b[39m1\u001b[39m:]), S\u001b[39m.\u001b[39mOne))\n",
      "File \u001b[1;32m~\\AppData\\Roaming\\Python\\Python39\\site-packages\\sympy\\matrices\\matrices.py:469\u001b[0m, in \u001b[0;36mMatrixCalculus.diff\u001b[1;34m(self, *args, **kwargs)\u001b[0m\n\u001b[0;32m    467\u001b[0m \u001b[39mfrom\u001b[39;00m \u001b[39msympy\u001b[39;00m\u001b[39m.\u001b[39;00m\u001b[39mtensor\u001b[39;00m\u001b[39m.\u001b[39;00m\u001b[39marray\u001b[39;00m\u001b[39m.\u001b[39;00m\u001b[39marray_derivatives\u001b[39;00m \u001b[39mimport\u001b[39;00m ArrayDerivative\n\u001b[0;32m    468\u001b[0m kwargs\u001b[39m.\u001b[39msetdefault(\u001b[39m'\u001b[39m\u001b[39mevaluate\u001b[39m\u001b[39m'\u001b[39m, \u001b[39mTrue\u001b[39;00m)\n\u001b[1;32m--> 469\u001b[0m deriv \u001b[39m=\u001b[39m ArrayDerivative(\u001b[39mself\u001b[39;49m, \u001b[39m*\u001b[39;49margs, evaluate\u001b[39m=\u001b[39;49m\u001b[39mTrue\u001b[39;49;00m)\n\u001b[0;32m    470\u001b[0m \u001b[39mif\u001b[39;00m \u001b[39mnot\u001b[39;00m \u001b[39misinstance\u001b[39m(\u001b[39mself\u001b[39m, Basic):\n\u001b[0;32m    471\u001b[0m     \u001b[39mreturn\u001b[39;00m deriv\u001b[39m.\u001b[39mas_mutable()\n",
      "File \u001b[1;32m~\\AppData\\Roaming\\Python\\Python39\\site-packages\\sympy\\tensor\\array\\array_derivatives.py:19\u001b[0m, in \u001b[0;36mArrayDerivative.__new__\u001b[1;34m(cls, expr, *variables, **kwargs)\u001b[0m\n\u001b[0;32m     18\u001b[0m \u001b[39mdef\u001b[39;00m \u001b[39m__new__\u001b[39m(\u001b[39mcls\u001b[39m, expr, \u001b[39m*\u001b[39mvariables, \u001b[39m*\u001b[39m\u001b[39m*\u001b[39mkwargs):\n\u001b[1;32m---> 19\u001b[0m     obj \u001b[39m=\u001b[39m \u001b[39msuper\u001b[39m()\u001b[39m.\u001b[39m\u001b[39m__new__\u001b[39m(\u001b[39mcls\u001b[39m, expr, \u001b[39m*\u001b[39mvariables, \u001b[39m*\u001b[39m\u001b[39m*\u001b[39mkwargs)\n\u001b[0;32m     20\u001b[0m     \u001b[39mif\u001b[39;00m \u001b[39misinstance\u001b[39m(obj, ArrayDerivative):\n\u001b[0;32m     21\u001b[0m         obj\u001b[39m.\u001b[39m_shape \u001b[39m=\u001b[39m obj\u001b[39m.\u001b[39m_get_shape()\n",
      "File \u001b[1;32m~\\AppData\\Roaming\\Python\\Python39\\site-packages\\sympy\\core\\function.py:1442\u001b[0m, in \u001b[0;36mDerivative.__new__\u001b[1;34m(cls, expr, *variables, **kwargs)\u001b[0m\n\u001b[0;32m   1435\u001b[0m     \u001b[39mif\u001b[39;00m \u001b[39mnot\u001b[39;00m old_v\u001b[39m.\u001b[39mis_scalar \u001b[39mand\u001b[39;00m \u001b[39mnot\u001b[39;00m \u001b[39mhasattr\u001b[39m(\n\u001b[0;32m   1436\u001b[0m             old_v, \u001b[39m'\u001b[39m\u001b[39m_eval_derivative\u001b[39m\u001b[39m'\u001b[39m):\n\u001b[0;32m   1437\u001b[0m         \u001b[39m# special hack providing evaluation for classes\u001b[39;00m\n\u001b[0;32m   1438\u001b[0m         \u001b[39m# that have defined is_scalar=True but have no\u001b[39;00m\n\u001b[0;32m   1439\u001b[0m         \u001b[39m# _eval_derivative defined\u001b[39;00m\n\u001b[0;32m   1440\u001b[0m         expr \u001b[39m*\u001b[39m\u001b[39m=\u001b[39m old_v\u001b[39m.\u001b[39mdiff(old_v)\n\u001b[1;32m-> 1442\u001b[0m obj \u001b[39m=\u001b[39m \u001b[39mcls\u001b[39;49m\u001b[39m.\u001b[39;49m_dispatch_eval_derivative_n_times(expr, v, count)\n\u001b[0;32m   1443\u001b[0m \u001b[39mif\u001b[39;00m obj \u001b[39mis\u001b[39;00m \u001b[39mnot\u001b[39;00m \u001b[39mNone\u001b[39;00m \u001b[39mand\u001b[39;00m obj\u001b[39m.\u001b[39mis_zero:\n\u001b[0;32m   1444\u001b[0m     \u001b[39mreturn\u001b[39;00m obj\n",
      "File \u001b[1;32m~\\AppData\\Roaming\\Python\\Python39\\site-packages\\sympy\\tensor\\array\\array_derivatives.py:106\u001b[0m, in \u001b[0;36mArrayDerivative._dispatch_eval_derivative_n_times\u001b[1;34m(cls, expr, v, count)\u001b[0m\n\u001b[0;32m    104\u001b[0m \u001b[39melif\u001b[39;00m v\u001b[39m.\u001b[39mis_scalar:\n\u001b[0;32m    105\u001b[0m     \u001b[39mif\u001b[39;00m \u001b[39misinstance\u001b[39m(expr, MatrixCommon):\n\u001b[1;32m--> 106\u001b[0m         result \u001b[39m=\u001b[39m \u001b[39mcls\u001b[39;49m\u001b[39m.\u001b[39;49m_call_derive_matrix_by_scalar(expr, v)\n\u001b[0;32m    107\u001b[0m     \u001b[39melif\u001b[39;00m \u001b[39misinstance\u001b[39m(expr, MatrixExpr):\n\u001b[0;32m    108\u001b[0m         result \u001b[39m=\u001b[39m \u001b[39mcls\u001b[39m\u001b[39m.\u001b[39m_call_derive_matexpr_by_scalar(expr, v)\n",
      "File \u001b[1;32m~\\AppData\\Roaming\\Python\\Python39\\site-packages\\sympy\\tensor\\array\\array_derivatives.py:64\u001b[0m, in \u001b[0;36mArrayDerivative._call_derive_matrix_by_scalar\u001b[1;34m(expr, v)\u001b[0m\n\u001b[0;32m     62\u001b[0m \u001b[39m@staticmethod\u001b[39m\n\u001b[0;32m     63\u001b[0m \u001b[39mdef\u001b[39;00m \u001b[39m_call_derive_matrix_by_scalar\u001b[39m(expr, v):  \u001b[39m# type: (MatrixCommon, Expr) -> Expr\u001b[39;00m\n\u001b[1;32m---> 64\u001b[0m     \u001b[39mreturn\u001b[39;00m _matrix_derivative(expr, v)\n",
      "File \u001b[1;32m~\\AppData\\Roaming\\Python\\Python39\\site-packages\\sympy\\matrices\\expressions\\matexpr.py:526\u001b[0m, in \u001b[0;36m_matrix_derivative\u001b[1;34m(expr, x, old_algorithm)\u001b[0m\n\u001b[0;32m    523\u001b[0m     old_algorithm \u001b[39m=\u001b[39m \u001b[39mTrue\u001b[39;00m\n\u001b[0;32m    525\u001b[0m \u001b[39mif\u001b[39;00m old_algorithm:\n\u001b[1;32m--> 526\u001b[0m     \u001b[39mreturn\u001b[39;00m _matrix_derivative_old_algorithm(expr, x)\n\u001b[0;32m    528\u001b[0m \u001b[39mfrom\u001b[39;00m \u001b[39msympy\u001b[39;00m\u001b[39m.\u001b[39;00m\u001b[39mtensor\u001b[39;00m\u001b[39m.\u001b[39;00m\u001b[39marray\u001b[39;00m\u001b[39m.\u001b[39;00m\u001b[39mexpressions\u001b[39;00m\u001b[39m.\u001b[39;00m\u001b[39mconv_matrix_to_array\u001b[39;00m \u001b[39mimport\u001b[39;00m convert_matrix_to_array\n\u001b[0;32m    529\u001b[0m \u001b[39mfrom\u001b[39;00m \u001b[39msympy\u001b[39;00m\u001b[39m.\u001b[39;00m\u001b[39mtensor\u001b[39;00m\u001b[39m.\u001b[39;00m\u001b[39marray\u001b[39;00m\u001b[39m.\u001b[39;00m\u001b[39mexpressions\u001b[39;00m\u001b[39m.\u001b[39;00m\u001b[39marrayexpr_derivatives\u001b[39;00m \u001b[39mimport\u001b[39;00m array_derive\n",
      "File \u001b[1;32m~\\AppData\\Roaming\\Python\\Python39\\site-packages\\sympy\\matrices\\expressions\\matexpr.py:540\u001b[0m, in \u001b[0;36m_matrix_derivative_old_algorithm\u001b[1;34m(expr, x)\u001b[0m\n\u001b[0;32m    538\u001b[0m \u001b[39mdef\u001b[39;00m \u001b[39m_matrix_derivative_old_algorithm\u001b[39m(expr, x):\n\u001b[0;32m    539\u001b[0m     \u001b[39mfrom\u001b[39;00m \u001b[39msympy\u001b[39;00m\u001b[39m.\u001b[39;00m\u001b[39mtensor\u001b[39;00m\u001b[39m.\u001b[39;00m\u001b[39marray\u001b[39;00m\u001b[39m.\u001b[39;00m\u001b[39marray_derivatives\u001b[39;00m \u001b[39mimport\u001b[39;00m ArrayDerivative\n\u001b[1;32m--> 540\u001b[0m     lines \u001b[39m=\u001b[39m expr\u001b[39m.\u001b[39;49m_eval_derivative_matrix_lines(x)\n\u001b[0;32m    542\u001b[0m     parts \u001b[39m=\u001b[39m [i\u001b[39m.\u001b[39mbuild() \u001b[39mfor\u001b[39;00m i \u001b[39min\u001b[39;00m lines]\n\u001b[0;32m    544\u001b[0m     \u001b[39mfrom\u001b[39;00m \u001b[39msympy\u001b[39;00m\u001b[39m.\u001b[39;00m\u001b[39mtensor\u001b[39;00m\u001b[39m.\u001b[39;00m\u001b[39marray\u001b[39;00m\u001b[39m.\u001b[39;00m\u001b[39mexpressions\u001b[39;00m\u001b[39m.\u001b[39;00m\u001b[39mconv_array_to_matrix\u001b[39;00m \u001b[39mimport\u001b[39;00m convert_array_to_matrix\n",
      "File \u001b[1;32m~\\AppData\\Roaming\\Python\\Python39\\site-packages\\sympy\\core\\expr.py:3926\u001b[0m, in \u001b[0;36mExpr._eval_derivative_matrix_lines\u001b[1;34m(self, x)\u001b[0m\n\u001b[0;32m   3924\u001b[0m \u001b[39mdef\u001b[39;00m \u001b[39m_eval_derivative_matrix_lines\u001b[39m(\u001b[39mself\u001b[39m, x):\n\u001b[0;32m   3925\u001b[0m     \u001b[39mfrom\u001b[39;00m \u001b[39msympy\u001b[39;00m\u001b[39m.\u001b[39;00m\u001b[39mmatrices\u001b[39;00m\u001b[39m.\u001b[39;00m\u001b[39mexpressions\u001b[39;00m\u001b[39m.\u001b[39;00m\u001b[39mmatexpr\u001b[39;00m \u001b[39mimport\u001b[39;00m _LeftRightArgs\n\u001b[1;32m-> 3926\u001b[0m     \u001b[39mreturn\u001b[39;00m [_LeftRightArgs([S\u001b[39m.\u001b[39mOne, S\u001b[39m.\u001b[39mOne], higher\u001b[39m=\u001b[39m\u001b[39mself\u001b[39;49m\u001b[39m.\u001b[39;49m_eval_derivative(x))]\n",
      "File \u001b[1;32m~\\AppData\\Roaming\\Python\\Python39\\site-packages\\sympy\\matrices\\matrices.py:476\u001b[0m, in \u001b[0;36mMatrixCalculus._eval_derivative\u001b[1;34m(self, arg)\u001b[0m\n\u001b[0;32m    475\u001b[0m \u001b[39mdef\u001b[39;00m \u001b[39m_eval_derivative\u001b[39m(\u001b[39mself\u001b[39m, arg):\n\u001b[1;32m--> 476\u001b[0m     \u001b[39mreturn\u001b[39;00m \u001b[39mself\u001b[39;49m\u001b[39m.\u001b[39;49mapplyfunc(\u001b[39mlambda\u001b[39;49;00m x: x\u001b[39m.\u001b[39;49mdiff(arg))\n",
      "File \u001b[1;32m~\\AppData\\Roaming\\Python\\Python39\\site-packages\\sympy\\matrices\\common.py:2058\u001b[0m, in \u001b[0;36mMatrixOperations.applyfunc\u001b[1;34m(self, f)\u001b[0m\n\u001b[0;32m   2055\u001b[0m \u001b[39mif\u001b[39;00m \u001b[39mnot\u001b[39;00m callable(f):\n\u001b[0;32m   2056\u001b[0m     \u001b[39mraise\u001b[39;00m \u001b[39mTypeError\u001b[39;00m(\u001b[39m\"\u001b[39m\u001b[39m`f` must be callable.\u001b[39m\u001b[39m\"\u001b[39m)\n\u001b[1;32m-> 2058\u001b[0m \u001b[39mreturn\u001b[39;00m \u001b[39mself\u001b[39;49m\u001b[39m.\u001b[39;49m_eval_applyfunc(f)\n",
      "File \u001b[1;32m~\\AppData\\Roaming\\Python\\Python39\\site-packages\\sympy\\matrices\\common.py:2000\u001b[0m, in \u001b[0;36mMatrixOperations._eval_applyfunc\u001b[1;34m(self, f)\u001b[0m\n\u001b[0;32m   1999\u001b[0m \u001b[39mdef\u001b[39;00m \u001b[39m_eval_applyfunc\u001b[39m(\u001b[39mself\u001b[39m, f):\n\u001b[1;32m-> 2000\u001b[0m     out \u001b[39m=\u001b[39m \u001b[39mself\u001b[39m\u001b[39m.\u001b[39m_new(\u001b[39mself\u001b[39m\u001b[39m.\u001b[39mrows, \u001b[39mself\u001b[39m\u001b[39m.\u001b[39mcols, [f(x) \u001b[39mfor\u001b[39;00m x \u001b[39min\u001b[39;00m \u001b[39mself\u001b[39m])\n\u001b[0;32m   2001\u001b[0m     \u001b[39mreturn\u001b[39;00m out\n",
      "File \u001b[1;32m~\\AppData\\Roaming\\Python\\Python39\\site-packages\\sympy\\matrices\\common.py:2000\u001b[0m, in \u001b[0;36m<listcomp>\u001b[1;34m(.0)\u001b[0m\n\u001b[0;32m   1999\u001b[0m \u001b[39mdef\u001b[39;00m \u001b[39m_eval_applyfunc\u001b[39m(\u001b[39mself\u001b[39m, f):\n\u001b[1;32m-> 2000\u001b[0m     out \u001b[39m=\u001b[39m \u001b[39mself\u001b[39m\u001b[39m.\u001b[39m_new(\u001b[39mself\u001b[39m\u001b[39m.\u001b[39mrows, \u001b[39mself\u001b[39m\u001b[39m.\u001b[39mcols, [f(x) \u001b[39mfor\u001b[39;00m x \u001b[39min\u001b[39;00m \u001b[39mself\u001b[39m])\n\u001b[0;32m   2001\u001b[0m     \u001b[39mreturn\u001b[39;00m out\n",
      "File \u001b[1;32m~\\AppData\\Roaming\\Python\\Python39\\site-packages\\sympy\\matrices\\matrices.py:476\u001b[0m, in \u001b[0;36mMatrixCalculus._eval_derivative.<locals>.<lambda>\u001b[1;34m(x)\u001b[0m\n\u001b[0;32m    475\u001b[0m \u001b[39mdef\u001b[39;00m \u001b[39m_eval_derivative\u001b[39m(\u001b[39mself\u001b[39m, arg):\n\u001b[1;32m--> 476\u001b[0m     \u001b[39mreturn\u001b[39;00m \u001b[39mself\u001b[39m\u001b[39m.\u001b[39mapplyfunc(\u001b[39mlambda\u001b[39;00m x: x\u001b[39m.\u001b[39;49mdiff(arg))\n",
      "File \u001b[1;32m~\\AppData\\Roaming\\Python\\Python39\\site-packages\\sympy\\core\\expr.py:3555\u001b[0m, in \u001b[0;36mExpr.diff\u001b[1;34m(self, *symbols, **assumptions)\u001b[0m\n\u001b[0;32m   3553\u001b[0m \u001b[39mdef\u001b[39;00m \u001b[39mdiff\u001b[39m(\u001b[39mself\u001b[39m, \u001b[39m*\u001b[39msymbols, \u001b[39m*\u001b[39m\u001b[39m*\u001b[39massumptions):\n\u001b[0;32m   3554\u001b[0m     assumptions\u001b[39m.\u001b[39msetdefault(\u001b[39m\"\u001b[39m\u001b[39mevaluate\u001b[39m\u001b[39m\"\u001b[39m, \u001b[39mTrue\u001b[39;00m)\n\u001b[1;32m-> 3555\u001b[0m     \u001b[39mreturn\u001b[39;00m _derivative_dispatch(\u001b[39mself\u001b[39m, \u001b[39m*\u001b[39msymbols, \u001b[39m*\u001b[39m\u001b[39m*\u001b[39massumptions)\n",
      "File \u001b[1;32m~\\AppData\\Roaming\\Python\\Python39\\site-packages\\sympy\\core\\function.py:1914\u001b[0m, in \u001b[0;36m_derivative_dispatch\u001b[1;34m(expr, *variables, **kwargs)\u001b[0m\n\u001b[0;32m   1912\u001b[0m     \u001b[39mfrom\u001b[39;00m \u001b[39msympy\u001b[39;00m\u001b[39m.\u001b[39;00m\u001b[39mtensor\u001b[39;00m\u001b[39m.\u001b[39;00m\u001b[39marray\u001b[39;00m\u001b[39m.\u001b[39;00m\u001b[39marray_derivatives\u001b[39;00m \u001b[39mimport\u001b[39;00m ArrayDerivative\n\u001b[0;32m   1913\u001b[0m     \u001b[39mreturn\u001b[39;00m ArrayDerivative(expr, \u001b[39m*\u001b[39mvariables, \u001b[39m*\u001b[39m\u001b[39m*\u001b[39mkwargs)\n\u001b[1;32m-> 1914\u001b[0m \u001b[39mreturn\u001b[39;00m Derivative(expr, \u001b[39m*\u001b[39mvariables, \u001b[39m*\u001b[39m\u001b[39m*\u001b[39mkwargs)\n",
      "File \u001b[1;32m~\\AppData\\Roaming\\Python\\Python39\\site-packages\\sympy\\core\\function.py:1442\u001b[0m, in \u001b[0;36mDerivative.__new__\u001b[1;34m(cls, expr, *variables, **kwargs)\u001b[0m\n\u001b[0;32m   1435\u001b[0m     \u001b[39mif\u001b[39;00m \u001b[39mnot\u001b[39;00m old_v\u001b[39m.\u001b[39mis_scalar \u001b[39mand\u001b[39;00m \u001b[39mnot\u001b[39;00m \u001b[39mhasattr\u001b[39m(\n\u001b[0;32m   1436\u001b[0m             old_v, \u001b[39m'\u001b[39m\u001b[39m_eval_derivative\u001b[39m\u001b[39m'\u001b[39m):\n\u001b[0;32m   1437\u001b[0m         \u001b[39m# special hack providing evaluation for classes\u001b[39;00m\n\u001b[0;32m   1438\u001b[0m         \u001b[39m# that have defined is_scalar=True but have no\u001b[39;00m\n\u001b[0;32m   1439\u001b[0m         \u001b[39m# _eval_derivative defined\u001b[39;00m\n\u001b[0;32m   1440\u001b[0m         expr \u001b[39m*\u001b[39m\u001b[39m=\u001b[39m old_v\u001b[39m.\u001b[39mdiff(old_v)\n\u001b[1;32m-> 1442\u001b[0m obj \u001b[39m=\u001b[39m \u001b[39mcls\u001b[39;49m\u001b[39m.\u001b[39;49m_dispatch_eval_derivative_n_times(expr, v, count)\n\u001b[0;32m   1443\u001b[0m \u001b[39mif\u001b[39;00m obj \u001b[39mis\u001b[39;00m \u001b[39mnot\u001b[39;00m \u001b[39mNone\u001b[39;00m \u001b[39mand\u001b[39;00m obj\u001b[39m.\u001b[39mis_zero:\n\u001b[0;32m   1444\u001b[0m     \u001b[39mreturn\u001b[39;00m obj\n",
      "File \u001b[1;32m~\\AppData\\Roaming\\Python\\Python39\\site-packages\\sympy\\core\\function.py:1903\u001b[0m, in \u001b[0;36mDerivative._dispatch_eval_derivative_n_times\u001b[1;34m(cls, expr, v, count)\u001b[0m\n\u001b[0;32m   1897\u001b[0m \u001b[39m@classmethod\u001b[39m\n\u001b[0;32m   1898\u001b[0m \u001b[39mdef\u001b[39;00m \u001b[39m_dispatch_eval_derivative_n_times\u001b[39m(\u001b[39mcls\u001b[39m, expr, v, count):\n\u001b[0;32m   1899\u001b[0m     \u001b[39m# Evaluate the derivative `n` times.  If\u001b[39;00m\n\u001b[0;32m   1900\u001b[0m     \u001b[39m# `_eval_derivative_n_times` is not overridden by the current\u001b[39;00m\n\u001b[0;32m   1901\u001b[0m     \u001b[39m# object, the default in `Basic` will call a loop over\u001b[39;00m\n\u001b[0;32m   1902\u001b[0m     \u001b[39m# `_eval_derivative`:\u001b[39;00m\n\u001b[1;32m-> 1903\u001b[0m     \u001b[39mreturn\u001b[39;00m expr\u001b[39m.\u001b[39;49m_eval_derivative_n_times(v, count)\n",
      "File \u001b[1;32m~\\AppData\\Roaming\\Python\\Python39\\site-packages\\sympy\\core\\cache.py:70\u001b[0m, in \u001b[0;36m__cacheit.<locals>.func_wrapper.<locals>.wrapper\u001b[1;34m(*args, **kwargs)\u001b[0m\n\u001b[0;32m     67\u001b[0m \u001b[39m@wraps\u001b[39m(func)\n\u001b[0;32m     68\u001b[0m \u001b[39mdef\u001b[39;00m \u001b[39mwrapper\u001b[39m(\u001b[39m*\u001b[39margs, \u001b[39m*\u001b[39m\u001b[39m*\u001b[39mkwargs):\n\u001b[0;32m     69\u001b[0m     \u001b[39mtry\u001b[39;00m:\n\u001b[1;32m---> 70\u001b[0m         retval \u001b[39m=\u001b[39m cfunc(\u001b[39m*\u001b[39margs, \u001b[39m*\u001b[39m\u001b[39m*\u001b[39mkwargs)\n\u001b[0;32m     71\u001b[0m     \u001b[39mexcept\u001b[39;00m \u001b[39mTypeError\u001b[39;00m \u001b[39mas\u001b[39;00m e:\n\u001b[0;32m     72\u001b[0m         \u001b[39mif\u001b[39;00m \u001b[39mnot\u001b[39;00m e\u001b[39m.\u001b[39margs \u001b[39mor\u001b[39;00m \u001b[39mnot\u001b[39;00m e\u001b[39m.\u001b[39margs[\u001b[39m0\u001b[39m]\u001b[39m.\u001b[39mstartswith(\u001b[39m'\u001b[39m\u001b[39munhashable type:\u001b[39m\u001b[39m'\u001b[39m):\n",
      "File \u001b[1;32m~\\AppData\\Roaming\\Python\\Python39\\site-packages\\sympy\\core\\mul.py:977\u001b[0m, in \u001b[0;36mMul._eval_derivative_n_times\u001b[1;34m(self, s, n)\u001b[0m\n\u001b[0;32m    973\u001b[0m \u001b[39mfrom\u001b[39;00m \u001b[39m.\u001b[39;00m\u001b[39msymbol\u001b[39;00m \u001b[39mimport\u001b[39;00m Symbol, symbols, Dummy\n\u001b[0;32m    974\u001b[0m \u001b[39mif\u001b[39;00m \u001b[39mnot\u001b[39;00m \u001b[39misinstance\u001b[39m(s, (AppliedUndef, Symbol)):\n\u001b[0;32m    975\u001b[0m     \u001b[39m# other types of s may not be well behaved, e.g.\u001b[39;00m\n\u001b[0;32m    976\u001b[0m     \u001b[39m# (cos(x)*sin(y)).diff([[x, y, z]])\u001b[39;00m\n\u001b[1;32m--> 977\u001b[0m     \u001b[39mreturn\u001b[39;00m \u001b[39msuper\u001b[39;49m()\u001b[39m.\u001b[39;49m_eval_derivative_n_times(s, n)\n\u001b[0;32m    978\u001b[0m \u001b[39mfrom\u001b[39;00m \u001b[39m.\u001b[39;00m\u001b[39mnumbers\u001b[39;00m \u001b[39mimport\u001b[39;00m Integer\n\u001b[0;32m    979\u001b[0m args \u001b[39m=\u001b[39m \u001b[39mself\u001b[39m\u001b[39m.\u001b[39margs\n",
      "File \u001b[1;32m~\\AppData\\Roaming\\Python\\Python39\\site-packages\\sympy\\core\\basic.py:1785\u001b[0m, in \u001b[0;36mBasic._eval_derivative_n_times\u001b[1;34m(self, s, n)\u001b[0m\n\u001b[0;32m   1783\u001b[0m obj \u001b[39m=\u001b[39m \u001b[39mself\u001b[39m\n\u001b[0;32m   1784\u001b[0m \u001b[39mfor\u001b[39;00m i \u001b[39min\u001b[39;00m \u001b[39mrange\u001b[39m(n):\n\u001b[1;32m-> 1785\u001b[0m     obj2 \u001b[39m=\u001b[39m obj\u001b[39m.\u001b[39;49m_eval_derivative(s)\n\u001b[0;32m   1786\u001b[0m     \u001b[39mif\u001b[39;00m obj \u001b[39m==\u001b[39m obj2 \u001b[39mor\u001b[39;00m obj2 \u001b[39mis\u001b[39;00m \u001b[39mNone\u001b[39;00m:\n\u001b[0;32m   1787\u001b[0m         \u001b[39mbreak\u001b[39;00m\n",
      "File \u001b[1;32m~\\AppData\\Roaming\\Python\\Python39\\site-packages\\sympy\\core\\cache.py:70\u001b[0m, in \u001b[0;36m__cacheit.<locals>.func_wrapper.<locals>.wrapper\u001b[1;34m(*args, **kwargs)\u001b[0m\n\u001b[0;32m     67\u001b[0m \u001b[39m@wraps\u001b[39m(func)\n\u001b[0;32m     68\u001b[0m \u001b[39mdef\u001b[39;00m \u001b[39mwrapper\u001b[39m(\u001b[39m*\u001b[39margs, \u001b[39m*\u001b[39m\u001b[39m*\u001b[39mkwargs):\n\u001b[0;32m     69\u001b[0m     \u001b[39mtry\u001b[39;00m:\n\u001b[1;32m---> 70\u001b[0m         retval \u001b[39m=\u001b[39m cfunc(\u001b[39m*\u001b[39margs, \u001b[39m*\u001b[39m\u001b[39m*\u001b[39mkwargs)\n\u001b[0;32m     71\u001b[0m     \u001b[39mexcept\u001b[39;00m \u001b[39mTypeError\u001b[39;00m \u001b[39mas\u001b[39;00m e:\n\u001b[0;32m     72\u001b[0m         \u001b[39mif\u001b[39;00m \u001b[39mnot\u001b[39;00m e\u001b[39m.\u001b[39margs \u001b[39mor\u001b[39;00m \u001b[39mnot\u001b[39;00m e\u001b[39m.\u001b[39margs[\u001b[39m0\u001b[39m]\u001b[39m.\u001b[39mstartswith(\u001b[39m'\u001b[39m\u001b[39munhashable type:\u001b[39m\u001b[39m'\u001b[39m):\n",
      "File \u001b[1;32m~\\AppData\\Roaming\\Python\\Python39\\site-packages\\sympy\\core\\mul.py:963\u001b[0m, in \u001b[0;36mMul._eval_derivative\u001b[1;34m(self, s)\u001b[0m\n\u001b[0;32m    961\u001b[0m terms \u001b[39m=\u001b[39m []\n\u001b[0;32m    962\u001b[0m \u001b[39mfor\u001b[39;00m i \u001b[39min\u001b[39;00m \u001b[39mrange\u001b[39m(\u001b[39mlen\u001b[39m(args)):\n\u001b[1;32m--> 963\u001b[0m     d \u001b[39m=\u001b[39m args[i]\u001b[39m.\u001b[39;49mdiff(s)\n\u001b[0;32m    964\u001b[0m     \u001b[39mif\u001b[39;00m d:\n\u001b[0;32m    965\u001b[0m         \u001b[39m# Note: reduce is used in step of Mul as Mul is unable to\u001b[39;00m\n\u001b[0;32m    966\u001b[0m         \u001b[39m# handle subtypes and operation priority:\u001b[39;00m\n\u001b[0;32m    967\u001b[0m         terms\u001b[39m.\u001b[39mappend(reduce(\u001b[39mlambda\u001b[39;00m x, y: x\u001b[39m*\u001b[39my, (args[:i] \u001b[39m+\u001b[39m [d] \u001b[39m+\u001b[39m args[i \u001b[39m+\u001b[39m \u001b[39m1\u001b[39m:]), S\u001b[39m.\u001b[39mOne))\n",
      "File \u001b[1;32m~\\AppData\\Roaming\\Python\\Python39\\site-packages\\sympy\\core\\expr.py:3555\u001b[0m, in \u001b[0;36mExpr.diff\u001b[1;34m(self, *symbols, **assumptions)\u001b[0m\n\u001b[0;32m   3553\u001b[0m \u001b[39mdef\u001b[39;00m \u001b[39mdiff\u001b[39m(\u001b[39mself\u001b[39m, \u001b[39m*\u001b[39msymbols, \u001b[39m*\u001b[39m\u001b[39m*\u001b[39massumptions):\n\u001b[0;32m   3554\u001b[0m     assumptions\u001b[39m.\u001b[39msetdefault(\u001b[39m\"\u001b[39m\u001b[39mevaluate\u001b[39m\u001b[39m\"\u001b[39m, \u001b[39mTrue\u001b[39;00m)\n\u001b[1;32m-> 3555\u001b[0m     \u001b[39mreturn\u001b[39;00m _derivative_dispatch(\u001b[39mself\u001b[39m, \u001b[39m*\u001b[39msymbols, \u001b[39m*\u001b[39m\u001b[39m*\u001b[39massumptions)\n",
      "File \u001b[1;32m~\\AppData\\Roaming\\Python\\Python39\\site-packages\\sympy\\core\\function.py:1914\u001b[0m, in \u001b[0;36m_derivative_dispatch\u001b[1;34m(expr, *variables, **kwargs)\u001b[0m\n\u001b[0;32m   1912\u001b[0m     \u001b[39mfrom\u001b[39;00m \u001b[39msympy\u001b[39;00m\u001b[39m.\u001b[39;00m\u001b[39mtensor\u001b[39;00m\u001b[39m.\u001b[39;00m\u001b[39marray\u001b[39;00m\u001b[39m.\u001b[39;00m\u001b[39marray_derivatives\u001b[39;00m \u001b[39mimport\u001b[39;00m ArrayDerivative\n\u001b[0;32m   1913\u001b[0m     \u001b[39mreturn\u001b[39;00m ArrayDerivative(expr, \u001b[39m*\u001b[39mvariables, \u001b[39m*\u001b[39m\u001b[39m*\u001b[39mkwargs)\n\u001b[1;32m-> 1914\u001b[0m \u001b[39mreturn\u001b[39;00m Derivative(expr, \u001b[39m*\u001b[39mvariables, \u001b[39m*\u001b[39m\u001b[39m*\u001b[39mkwargs)\n",
      "File \u001b[1;32m~\\AppData\\Roaming\\Python\\Python39\\site-packages\\sympy\\core\\function.py:1442\u001b[0m, in \u001b[0;36mDerivative.__new__\u001b[1;34m(cls, expr, *variables, **kwargs)\u001b[0m\n\u001b[0;32m   1435\u001b[0m     \u001b[39mif\u001b[39;00m \u001b[39mnot\u001b[39;00m old_v\u001b[39m.\u001b[39mis_scalar \u001b[39mand\u001b[39;00m \u001b[39mnot\u001b[39;00m \u001b[39mhasattr\u001b[39m(\n\u001b[0;32m   1436\u001b[0m             old_v, \u001b[39m'\u001b[39m\u001b[39m_eval_derivative\u001b[39m\u001b[39m'\u001b[39m):\n\u001b[0;32m   1437\u001b[0m         \u001b[39m# special hack providing evaluation for classes\u001b[39;00m\n\u001b[0;32m   1438\u001b[0m         \u001b[39m# that have defined is_scalar=True but have no\u001b[39;00m\n\u001b[0;32m   1439\u001b[0m         \u001b[39m# _eval_derivative defined\u001b[39;00m\n\u001b[0;32m   1440\u001b[0m         expr \u001b[39m*\u001b[39m\u001b[39m=\u001b[39m old_v\u001b[39m.\u001b[39mdiff(old_v)\n\u001b[1;32m-> 1442\u001b[0m obj \u001b[39m=\u001b[39m \u001b[39mcls\u001b[39;49m\u001b[39m.\u001b[39;49m_dispatch_eval_derivative_n_times(expr, v, count)\n\u001b[0;32m   1443\u001b[0m \u001b[39mif\u001b[39;00m obj \u001b[39mis\u001b[39;00m \u001b[39mnot\u001b[39;00m \u001b[39mNone\u001b[39;00m \u001b[39mand\u001b[39;00m obj\u001b[39m.\u001b[39mis_zero:\n\u001b[0;32m   1444\u001b[0m     \u001b[39mreturn\u001b[39;00m obj\n",
      "File \u001b[1;32m~\\AppData\\Roaming\\Python\\Python39\\site-packages\\sympy\\core\\function.py:1903\u001b[0m, in \u001b[0;36mDerivative._dispatch_eval_derivative_n_times\u001b[1;34m(cls, expr, v, count)\u001b[0m\n\u001b[0;32m   1897\u001b[0m \u001b[39m@classmethod\u001b[39m\n\u001b[0;32m   1898\u001b[0m \u001b[39mdef\u001b[39;00m \u001b[39m_dispatch_eval_derivative_n_times\u001b[39m(\u001b[39mcls\u001b[39m, expr, v, count):\n\u001b[0;32m   1899\u001b[0m     \u001b[39m# Evaluate the derivative `n` times.  If\u001b[39;00m\n\u001b[0;32m   1900\u001b[0m     \u001b[39m# `_eval_derivative_n_times` is not overridden by the current\u001b[39;00m\n\u001b[0;32m   1901\u001b[0m     \u001b[39m# object, the default in `Basic` will call a loop over\u001b[39;00m\n\u001b[0;32m   1902\u001b[0m     \u001b[39m# `_eval_derivative`:\u001b[39;00m\n\u001b[1;32m-> 1903\u001b[0m     \u001b[39mreturn\u001b[39;00m expr\u001b[39m.\u001b[39;49m_eval_derivative_n_times(v, count)\n",
      "File \u001b[1;32m~\\AppData\\Roaming\\Python\\Python39\\site-packages\\sympy\\core\\basic.py:1785\u001b[0m, in \u001b[0;36mBasic._eval_derivative_n_times\u001b[1;34m(self, s, n)\u001b[0m\n\u001b[0;32m   1783\u001b[0m obj \u001b[39m=\u001b[39m \u001b[39mself\u001b[39m\n\u001b[0;32m   1784\u001b[0m \u001b[39mfor\u001b[39;00m i \u001b[39min\u001b[39;00m \u001b[39mrange\u001b[39m(n):\n\u001b[1;32m-> 1785\u001b[0m     obj2 \u001b[39m=\u001b[39m obj\u001b[39m.\u001b[39;49m_eval_derivative(s)\n\u001b[0;32m   1786\u001b[0m     \u001b[39mif\u001b[39;00m obj \u001b[39m==\u001b[39m obj2 \u001b[39mor\u001b[39;00m obj2 \u001b[39mis\u001b[39;00m \u001b[39mNone\u001b[39;00m:\n\u001b[0;32m   1787\u001b[0m         \u001b[39mbreak\u001b[39;00m\n",
      "File \u001b[1;32m~\\AppData\\Roaming\\Python\\Python39\\site-packages\\sympy\\core\\function.py:607\u001b[0m, in \u001b[0;36mFunction._eval_derivative\u001b[1;34m(self, s)\u001b[0m\n\u001b[0;32m    605\u001b[0m     \u001b[39mcontinue\u001b[39;00m\n\u001b[0;32m    606\u001b[0m \u001b[39mtry\u001b[39;00m:\n\u001b[1;32m--> 607\u001b[0m     df \u001b[39m=\u001b[39m \u001b[39mself\u001b[39;49m\u001b[39m.\u001b[39;49mfdiff(i)\n\u001b[0;32m    608\u001b[0m \u001b[39mexcept\u001b[39;00m ArgumentIndexError:\n\u001b[0;32m    609\u001b[0m     df \u001b[39m=\u001b[39m Function\u001b[39m.\u001b[39mfdiff(\u001b[39mself\u001b[39m, i)\n",
      "File \u001b[1;32m~\\AppData\\Roaming\\Python\\Python39\\site-packages\\sympy\\functions\\elementary\\exponential.py:648\u001b[0m, in \u001b[0;36mlog.fdiff\u001b[1;34m(self, argindex)\u001b[0m\n\u001b[0;32m    644\u001b[0m \u001b[39m\"\"\"\u001b[39;00m\n\u001b[0;32m    645\u001b[0m \u001b[39mReturns the first derivative of the function.\u001b[39;00m\n\u001b[0;32m    646\u001b[0m \u001b[39m\"\"\"\u001b[39;00m\n\u001b[0;32m    647\u001b[0m \u001b[39mif\u001b[39;00m argindex \u001b[39m==\u001b[39m \u001b[39m1\u001b[39m:\n\u001b[1;32m--> 648\u001b[0m     \u001b[39mreturn\u001b[39;00m \u001b[39m1\u001b[39;49m\u001b[39m/\u001b[39;49m\u001b[39mself\u001b[39;49m\u001b[39m.\u001b[39;49margs[\u001b[39m0\u001b[39;49m]\n\u001b[0;32m    649\u001b[0m \u001b[39melse\u001b[39;00m:\n\u001b[0;32m    650\u001b[0m     \u001b[39mraise\u001b[39;00m ArgumentIndexError(\u001b[39mself\u001b[39m, argindex)\n",
      "File \u001b[1;32m~\\AppData\\Roaming\\Python\\Python39\\site-packages\\sympy\\matrices\\expressions\\matexpr.py:27\u001b[0m, in \u001b[0;36m_sympifyit.<locals>.deco.<locals>.__sympifyit_wrapper\u001b[1;34m(a, b)\u001b[0m\n\u001b[0;32m     25\u001b[0m \u001b[39mtry\u001b[39;00m:\n\u001b[0;32m     26\u001b[0m     b \u001b[39m=\u001b[39m _sympify(b)\n\u001b[1;32m---> 27\u001b[0m     \u001b[39mreturn\u001b[39;00m func(a, b)\n\u001b[0;32m     28\u001b[0m \u001b[39mexcept\u001b[39;00m SympifyError:\n\u001b[0;32m     29\u001b[0m     \u001b[39mreturn\u001b[39;00m retval\n",
      "File \u001b[1;32m~\\AppData\\Roaming\\Python\\Python39\\site-packages\\sympy\\core\\decorators.py:106\u001b[0m, in \u001b[0;36mcall_highest_priority.<locals>.priority_decorator.<locals>.binary_op_wrapper\u001b[1;34m(self, other)\u001b[0m\n\u001b[0;32m    104\u001b[0m         \u001b[39mif\u001b[39;00m f \u001b[39mis\u001b[39;00m \u001b[39mnot\u001b[39;00m \u001b[39mNone\u001b[39;00m:\n\u001b[0;32m    105\u001b[0m             \u001b[39mreturn\u001b[39;00m f(\u001b[39mself\u001b[39m)\n\u001b[1;32m--> 106\u001b[0m \u001b[39mreturn\u001b[39;00m func(\u001b[39mself\u001b[39;49m, other)\n",
      "File \u001b[1;32m~\\AppData\\Roaming\\Python\\Python39\\site-packages\\sympy\\matrices\\expressions\\matexpr.py:162\u001b[0m, in \u001b[0;36mMatrixExpr.__rtruediv__\u001b[1;34m(self, other)\u001b[0m\n\u001b[0;32m    159\u001b[0m \u001b[39m@_sympifyit\u001b[39m(\u001b[39m'\u001b[39m\u001b[39mother\u001b[39m\u001b[39m'\u001b[39m, \u001b[39mNotImplemented\u001b[39m)\n\u001b[0;32m    160\u001b[0m \u001b[39m@call_highest_priority\u001b[39m(\u001b[39m'\u001b[39m\u001b[39m__truediv__\u001b[39m\u001b[39m'\u001b[39m)\n\u001b[0;32m    161\u001b[0m \u001b[39mdef\u001b[39;00m \u001b[39m__rtruediv__\u001b[39m(\u001b[39mself\u001b[39m, other):\n\u001b[1;32m--> 162\u001b[0m     \u001b[39mraise\u001b[39;00m \u001b[39mNotImplementedError\u001b[39;00m()\n",
      "\u001b[1;31mNotImplementedError\u001b[0m: "
     ]
    }
   ],
   "source": [
    "jac_ = y_AT.jacobian(a)\n",
    "y_AT_jac_ = lambdify([a, sum_other_a, b_y, d_y, A_y, b_z, d_z, A_z, z_0, y_0, F_2xCO2, z_ref, z_1750], jac_, \"numpy\", cse =True)\n",
    "\n",
    "def temp_jac(a : np.array, sum_other_a : np.ndarray):\n",
    "    return y_AT_jac_(\n",
    "                a,\n",
    "                sum_other_a,\n",
    "                np.array([TD.bt]), \n",
    "                np.array([TD.d5]).T, \n",
    "                TD.At5, \n",
    "                np.array([CC.bc]), \n",
    "                np.array([CC.dc5]).T, \n",
    "                CC.Ac5, \n",
    "                np.array([CC.initial_state]).T, \n",
    "                np.array([TD.initial_state]).T, \n",
    "                F_2XCO2, \n",
    "                C_1750,\n",
    "                np.array([[C_1750]])\n",
    "            ).squeeze()"
   ]
  },
  {
   "cell_type": "code",
   "execution_count": null,
   "metadata": {},
   "outputs": [],
   "source": []
  }
 ],
 "metadata": {
  "kernelspec": {
   "display_name": "CO2",
   "language": "python",
   "name": "python3"
  },
  "language_info": {
   "codemirror_mode": {
    "name": "ipython",
    "version": 3
   },
   "file_extension": ".py",
   "mimetype": "text/x-python",
   "name": "python",
   "nbconvert_exporter": "python",
   "pygments_lexer": "ipython3",
   "version": "3.9.12"
  },
  "orig_nbformat": 4,
  "vscode": {
   "interpreter": {
    "hash": "16b467d0d483b0df94b9be8390e41b2161ce335e4b36d66db099cbe7bed530bc"
   }
  }
 },
 "nbformat": 4,
 "nbformat_minor": 2
}
