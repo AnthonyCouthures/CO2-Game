{
 "cells": [
  {
   "cell_type": "code",
   "execution_count": 1,
   "metadata": {},
   "outputs": [],
   "source": [
    "from sympy import *\n"
   ]
  },
  {
   "cell_type": "code",
   "execution_count": 2,
   "metadata": {},
   "outputs": [],
   "source": [
    "# Variables\n",
    "t, n = symbols('t n', integer=True)  # t: current iteration, n: desired iteration\n",
    "x = Function('x')(t)  # Symbolic function for x\n",
    "uf = Function('u')(t)\n",
    "u = IndexedBase('u')\n",
    "v = symbols('v')"
   ]
  },
  {
   "cell_type": "code",
   "execution_count": 3,
   "metadata": {},
   "outputs": [],
   "source": [
    "def expr_u(t):\n",
    "    return u[t]"
   ]
  },
  {
   "cell_type": "code",
   "execution_count": 4,
   "metadata": {},
   "outputs": [],
   "source": [
    "\n",
    "\n",
    "# Functions\n",
    "f = Function('f')(x)  # Symbolic function for f(x)\n",
    "g = Function('g')(u)  # Symbolic function for g(u)\n",
    "g = Function('h')(x,u)  # Symbolic function for g(u)\n"
   ]
  },
  {
   "cell_type": "code",
   "execution_count": 5,
   "metadata": {},
   "outputs": [],
   "source": [
    "x0 = symbols('x0')\n",
    "x_t0 = x.subs(t, 0).subs(x, x0)  # x_t0 represents x at time t=0\n"
   ]
  },
  {
   "cell_type": "code",
   "execution_count": 6,
   "metadata": {},
   "outputs": [],
   "source": [
    "a = symbols(\"a\")\n",
    "b = symbols(\"b\")\n",
    "\n",
    "alpha = symbols(r\"\\alpha\")\n",
    "K = symbols('K')"
   ]
  },
  {
   "cell_type": "code",
   "execution_count": 13,
   "metadata": {},
   "outputs": [
    {
     "name": "stdout",
     "output_type": "stream",
     "text": [
      "The value of x at iteration 3 is:\n"
     ]
    }
   ],
   "source": [
    "# Given functions (replace with your actual functions)\n",
    "f =  (b/ K)* x * (K-x) \n",
    "g =   (x* (u+b)**2)\n",
    "h =  0\n",
    "\n",
    "# Define initial condition\n",
    "x0 = 1\n",
    "\n",
    "x_t1 = f + g + h # x at time t+1\n",
    "x_t1 = x_t1.simplify() \n",
    "\n",
    "# Define the desired iteration\n",
    "desired_iteration = 3\n",
    "\n",
    "# Apply the code\n",
    "x_n = x_t0  # Initial condition for the desired iteration\n",
    "for i in range(1,desired_iteration+1):\n",
    "    x_n = x_t1.subs({x : x_n, u:uf.subs(t,i)}) + x_n * uf.subs(t,i-1)\n",
    "\n",
    "# Display the result\n",
    "print(f\"The value of x at iteration {desired_iteration} is:\")\n"
   ]
  },
  {
   "cell_type": "code",
   "execution_count": 14,
   "metadata": {},
   "outputs": [
    {
     "name": "stdout",
     "output_type": "stream",
     "text": [
      "u(2) = (-K*b - sqrt(-K**2*b - K**2*u(1) + K*b**3*x(0) + 2*K*b**2*u(1)*x(0) + K*b**2*x(0) + K*b*u(0)*x(0) + K*b*u(1)**2*x(0) - b**2*x(0)**2))/K\n"
     ]
    }
   ],
   "source": [
    "print( uf.subs(t, desired_iteration-1) , '=', solve(x_n, uf.subs(t, desired_iteration-1))[0])"
   ]
  },
  {
   "cell_type": "code",
   "execution_count": 15,
   "metadata": {},
   "outputs": [
    {
     "data": {
      "text/latex": [
       "$\\displaystyle - b - \\frac{\\sqrt{- K^{4} b - K^{4} u{\\left(2 \\right)} + K^{3} b^{5} x{\\left(0 \\right)} + 2 K^{3} b^{4} u{\\left(1 \\right)} x{\\left(0 \\right)} + 2 K^{3} b^{4} u{\\left(2 \\right)} x{\\left(0 \\right)} + 2 K^{3} b^{4} x{\\left(0 \\right)} + K^{3} b^{3} u{\\left(0 \\right)} x{\\left(0 \\right)} + K^{3} b^{3} u^{2}{\\left(1 \\right)} x{\\left(0 \\right)} + 4 K^{3} b^{3} u{\\left(1 \\right)} u{\\left(2 \\right)} x{\\left(0 \\right)} + 3 K^{3} b^{3} u{\\left(1 \\right)} x{\\left(0 \\right)} + K^{3} b^{3} u^{2}{\\left(2 \\right)} x{\\left(0 \\right)} + 2 K^{3} b^{3} u{\\left(2 \\right)} x{\\left(0 \\right)} + K^{3} b^{3} x{\\left(0 \\right)} + 2 K^{3} b^{2} u{\\left(0 \\right)} u{\\left(2 \\right)} x{\\left(0 \\right)} + K^{3} b^{2} u{\\left(0 \\right)} x{\\left(0 \\right)} + 2 K^{3} b^{2} u^{2}{\\left(1 \\right)} u{\\left(2 \\right)} x{\\left(0 \\right)} + 3 K^{3} b^{2} u^{2}{\\left(1 \\right)} x{\\left(0 \\right)} + 2 K^{3} b^{2} u{\\left(1 \\right)} u^{2}{\\left(2 \\right)} x{\\left(0 \\right)} + K^{3} b^{2} u{\\left(1 \\right)} x{\\left(0 \\right)} + K^{3} b^{2} u^{2}{\\left(2 \\right)} x{\\left(0 \\right)} + K^{3} b u{\\left(0 \\right)} u{\\left(1 \\right)} x{\\left(0 \\right)} + K^{3} b u{\\left(0 \\right)} u^{2}{\\left(2 \\right)} x{\\left(0 \\right)} + K^{3} b u^{3}{\\left(1 \\right)} x{\\left(0 \\right)} + K^{3} b u^{2}{\\left(1 \\right)} u^{2}{\\left(2 \\right)} x{\\left(0 \\right)} - K^{2} b^{6} x^{2}{\\left(0 \\right)} - 4 K^{2} b^{5} u{\\left(1 \\right)} x^{2}{\\left(0 \\right)} - 2 K^{2} b^{5} x^{2}{\\left(0 \\right)} - 2 K^{2} b^{4} u{\\left(0 \\right)} x^{2}{\\left(0 \\right)} - 6 K^{2} b^{4} u^{2}{\\left(1 \\right)} x^{2}{\\left(0 \\right)} - 4 K^{2} b^{4} u{\\left(1 \\right)} x^{2}{\\left(0 \\right)} - 2 K^{2} b^{4} x^{2}{\\left(0 \\right)} - 4 K^{2} b^{3} u{\\left(0 \\right)} u{\\left(1 \\right)} x^{2}{\\left(0 \\right)} - 2 K^{2} b^{3} u{\\left(0 \\right)} x^{2}{\\left(0 \\right)} - 4 K^{2} b^{3} u^{3}{\\left(1 \\right)} x^{2}{\\left(0 \\right)} - 2 K^{2} b^{3} u^{2}{\\left(1 \\right)} x^{2}{\\left(0 \\right)} - 2 K^{2} b^{3} u{\\left(2 \\right)} x^{2}{\\left(0 \\right)} - K^{2} b^{3} x^{2}{\\left(0 \\right)} - K^{2} b^{2} u^{2}{\\left(0 \\right)} x^{2}{\\left(0 \\right)} - 2 K^{2} b^{2} u{\\left(0 \\right)} u^{2}{\\left(1 \\right)} x^{2}{\\left(0 \\right)} - K^{2} b^{2} u^{4}{\\left(1 \\right)} x^{2}{\\left(0 \\right)} - K^{2} b^{2} u{\\left(1 \\right)} x^{2}{\\left(0 \\right)} - K^{2} b^{2} u^{2}{\\left(2 \\right)} x^{2}{\\left(0 \\right)} + 2 K b^{5} x^{3}{\\left(0 \\right)} + 4 K b^{4} u{\\left(1 \\right)} x^{3}{\\left(0 \\right)} + 2 K b^{4} x^{3}{\\left(0 \\right)} + 2 K b^{3} u{\\left(0 \\right)} x^{3}{\\left(0 \\right)} + 2 K b^{3} u^{2}{\\left(1 \\right)} x^{3}{\\left(0 \\right)} - b^{4} x^{4}{\\left(0 \\right)}}}{K^{2}}$"
      ],
      "text/plain": [
       "-b - sqrt(-K**4*b - K**4*u(2) + K**3*b**5*x(0) + 2*K**3*b**4*u(1)*x(0) + 2*K**3*b**4*u(2)*x(0) + 2*K**3*b**4*x(0) + K**3*b**3*u(0)*x(0) + K**3*b**3*u(1)**2*x(0) + 4*K**3*b**3*u(1)*u(2)*x(0) + 3*K**3*b**3*u(1)*x(0) + K**3*b**3*u(2)**2*x(0) + 2*K**3*b**3*u(2)*x(0) + K**3*b**3*x(0) + 2*K**3*b**2*u(0)*u(2)*x(0) + K**3*b**2*u(0)*x(0) + 2*K**3*b**2*u(1)**2*u(2)*x(0) + 3*K**3*b**2*u(1)**2*x(0) + 2*K**3*b**2*u(1)*u(2)**2*x(0) + K**3*b**2*u(1)*x(0) + K**3*b**2*u(2)**2*x(0) + K**3*b*u(0)*u(1)*x(0) + K**3*b*u(0)*u(2)**2*x(0) + K**3*b*u(1)**3*x(0) + K**3*b*u(1)**2*u(2)**2*x(0) - K**2*b**6*x(0)**2 - 4*K**2*b**5*u(1)*x(0)**2 - 2*K**2*b**5*x(0)**2 - 2*K**2*b**4*u(0)*x(0)**2 - 6*K**2*b**4*u(1)**2*x(0)**2 - 4*K**2*b**4*u(1)*x(0)**2 - 2*K**2*b**4*x(0)**2 - 4*K**2*b**3*u(0)*u(1)*x(0)**2 - 2*K**2*b**3*u(0)*x(0)**2 - 4*K**2*b**3*u(1)**3*x(0)**2 - 2*K**2*b**3*u(1)**2*x(0)**2 - 2*K**2*b**3*u(2)*x(0)**2 - K**2*b**3*x(0)**2 - K**2*b**2*u(0)**2*x(0)**2 - 2*K**2*b**2*u(0)*u(1)**2*x(0)**2 - K**2*b**2*u(1)**4*x(0)**2 - K**2*b**2*u(1)*x(0)**2 - K**2*b**2*u(2)**2*x(0)**2 + 2*K*b**5*x(0)**3 + 4*K*b**4*u(1)*x(0)**3 + 2*K*b**4*x(0)**3 + 2*K*b**3*u(0)*x(0)**3 + 2*K*b**3*u(1)**2*x(0)**3 - b**4*x(0)**4)/K**2"
      ]
     },
     "execution_count": 15,
     "metadata": {},
     "output_type": "execute_result"
    }
   ],
   "source": [
    "solve(x_n, uf.subs(t,desired_iteration))[0]"
   ]
  },
  {
   "cell_type": "code",
   "execution_count": 116,
   "metadata": {},
   "outputs": [],
   "source": [
    "de = x_n.subs(uf.subs(t,desired_iteration), v).diff(v).simplify()"
   ]
  },
  {
   "cell_type": "code",
   "execution_count": 117,
   "metadata": {},
   "outputs": [
    {
     "data": {
      "text/plain": [
       "{-1, 0, 1, 2, K, b, v}"
      ]
     },
     "execution_count": 117,
     "metadata": {},
     "output_type": "execute_result"
    }
   ],
   "source": [
    "de.atoms()"
   ]
  },
  {
   "cell_type": "code",
   "execution_count": 118,
   "metadata": {},
   "outputs": [
    {
     "data": {
      "text/latex": [
       "$\\displaystyle \\frac{2 \\left(b + v\\right) \\left(K \\left(b + u{\\left(1 \\right)}\\right)^{2} + K u{\\left(0 \\right)} + b \\left(K - x{\\left(0 \\right)}\\right)\\right) x{\\left(0 \\right)}}{K}$"
      ],
      "text/plain": [
       "2*(b + v)*(K*(b + u(1))**2 + K*u(0) + b*(K - x(0)))*x(0)/K"
      ]
     },
     "execution_count": 118,
     "metadata": {},
     "output_type": "execute_result"
    }
   ],
   "source": [
    "de"
   ]
  },
  {
   "cell_type": "code",
   "execution_count": 119,
   "metadata": {},
   "outputs": [
    {
     "data": {
      "text/plain": [
       "[-b]"
      ]
     },
     "execution_count": 119,
     "metadata": {},
     "output_type": "execute_result"
    }
   ],
   "source": [
    "solve(de, v)"
   ]
  },
  {
   "cell_type": "code",
   "execution_count": null,
   "metadata": {},
   "outputs": [],
   "source": [
    "x_n.diff(uf.subs(t,desired_iteration))"
   ]
  },
  {
   "cell_type": "code",
   "execution_count": 17,
   "metadata": {},
   "outputs": [],
   "source": [
    "from scipy.integrate import odeint\n",
    "import numpy as np\n",
    "import matplotlib.pyplot as plt\n",
    "\n",
    "def model(Y,t,K, b, u):\n",
    "\n",
    "    dRpdt = (b/ K)* Y * (K-Y) + u * Y\n",
    "    return dRpdt"
   ]
  },
  {
   "cell_type": "code",
   "execution_count": 18,
   "metadata": {},
   "outputs": [],
   "source": [
    "S = 15\n",
    "b = 0.8\n",
    "Y = 0.1\n",
    "u = 0.2\n"
   ]
  },
  {
   "cell_type": "code",
   "execution_count": 19,
   "metadata": {},
   "outputs": [
    {
     "data": {
      "application/vnd.jupyter.widget-view+json": {
       "model_id": "d941a2c8d8c54f9b935fef111da42787",
       "version_major": 2,
       "version_minor": 0
      },
      "text/plain": [
       "interactive(children=(IntSlider(value=50, description='S', min=1), FloatSlider(value=0.0, description='b', max…"
      ]
     },
     "metadata": {},
     "output_type": "display_data"
    },
    {
     "data": {
      "text/plain": [
       "<function __main__.plot(S, b, u)>"
      ]
     },
     "execution_count": 19,
     "metadata": {},
     "output_type": "execute_result"
    }
   ],
   "source": [
    "import ipywidgets\n",
    "\n",
    "def plot(S, b, u):\n",
    "    t = np.linspace(0,200,200)\n",
    "    result = odeint(model,Y,t,args=(S,b, u ))\n",
    "    fig,ax = plt.subplots()\n",
    "    ax.plot(t,result[:,0],label='R0=0')\n",
    "\n",
    "    ax.legend()\n",
    "    ax.set_xlabel('t')\n",
    "    ax.set_ylabel('GDP')\n",
    "\n",
    "ipywidgets.interact(plot, S=(1,100,1), b = (0,1,0.01),  u=(0,1,0.01))"
   ]
  },
  {
   "cell_type": "code",
   "execution_count": 20,
   "metadata": {},
   "outputs": [
    {
     "name": "stdout",
     "output_type": "stream",
     "text": [
      "Calibrated Coefficients:\n",
      "a = 2.237459701183644\n",
      "b = -0.18729850591821606\n",
      "c = -0.2500619461748658\n",
      "d = 6.2515486543716445\n",
      "e = 1.0\n",
      "f = 1.0\n",
      "g = 1.0\n",
      "h = 1.0\n"
     ]
    }
   ],
   "source": [
    "import numpy as np\n",
    "from scipy.optimize import least_squares\n",
    "\n",
    "# Define the objective function to minimize (residuals)\n",
    "def objective_function(coefficients, gdp_data, emission_data, gdp_next_data):\n",
    "    a, b, c, d, e, f, g, h = coefficients\n",
    "    residuals = gdp_next_data - (a * gdp_data + b * emission_data + c * gdp_data**2 + d * emission_data**2)\n",
    "    return residuals\n",
    "\n",
    "# Generate sample data for calibration\n",
    "gdp_data = np.array([10, 20, 30, 40, 50])  # GDP data at time t\n",
    "emission_data = np.array([2, 4, 6, 8, 10])  # CO2 emission data at time t\n",
    "gdp_next_data = np.array([22, 44, 66, 88, 110])  # GDP data at time t+1\n",
    "\n",
    "# Set initial guess for the coefficients\n",
    "initial_guess = np.array([1, 1, 1, 1, 1, 1, 1, 1])\n",
    "\n",
    "# Perform least squares estimation to calibrate the coefficients\n",
    "result = least_squares(objective_function, initial_guess, args=(gdp_data, emission_data, gdp_next_data))\n",
    "\n",
    "# Get the calibrated coefficients\n",
    "calibrated_coefficients = result.x\n",
    "\n",
    "print(\"Calibrated Coefficients:\")\n",
    "print(\"a =\", calibrated_coefficients[0])\n",
    "print(\"b =\", calibrated_coefficients[1])\n",
    "print(\"c =\", calibrated_coefficients[2])\n",
    "print(\"d =\", calibrated_coefficients[3])\n",
    "print(\"e =\", calibrated_coefficients[4])\n",
    "print(\"f =\", calibrated_coefficients[5])\n",
    "print(\"g =\", calibrated_coefficients[6])\n",
    "print(\"h =\", calibrated_coefficients[7])\n"
   ]
  }
 ],
 "metadata": {
  "kernelspec": {
   "display_name": "CO2",
   "language": "python",
   "name": "python3"
  },
  "language_info": {
   "codemirror_mode": {
    "name": "ipython",
    "version": 3
   },
   "file_extension": ".py",
   "mimetype": "text/x-python",
   "name": "python",
   "nbconvert_exporter": "python",
   "pygments_lexer": "ipython3",
   "version": "3.9.12"
  },
  "orig_nbformat": 4
 },
 "nbformat": 4,
 "nbformat_minor": 2
}
